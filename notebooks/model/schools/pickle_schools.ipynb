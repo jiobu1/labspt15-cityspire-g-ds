{
 "metadata": {
  "language_info": {
   "codemirror_mode": {
    "name": "ipython",
    "version": 3
   },
   "file_extension": ".py",
   "mimetype": "text/x-python",
   "name": "python",
   "nbconvert_exporter": "python",
   "pygments_lexer": "ipython3",
   "version": "3.8.6"
  },
  "orig_nbformat": 2,
  "kernelspec": {
   "name": "python386jvsc74a57bd02419ad2920cdc1fadb8f0ae6c1b14e969f8d411f4ecfa904fb0f4ff9d9e2f541",
   "display_name": "Python 3.8.6 64-bit ('3.8.6': pyenv)"
  }
 },
 "nbformat": 4,
 "nbformat_minor": 2,
 "cells": [
  {
   "source": [
    "## Testing if pickled model is faster for lookup"
   ],
   "cell_type": "markdown",
   "metadata": {}
  },
  {
   "cell_type": "code",
   "execution_count": null,
   "metadata": {},
   "outputs": [],
   "source": [
    "# MODEL2_FILEPATH = os.path.join(os.path.dirname(__file__), \"pickle_models\", \"strains_num.pkl\")\n",
    "\n",
    "# with open(MODEL2_FILEPATH, \"wb\") as model_file:\n",
    "#     print(\"SAVE PICKLE 2\")\n",
    "#     pickle.dump(cannabis_ordered, model_file, protocol=pickle.HIGHEST_PROTOCOL)"
   ]
  },
  {
   "cell_type": "code",
   "execution_count": null,
   "metadata": {},
   "outputs": [],
   "source": [
    "# MODEL_FILEPATH = os.path.join(os.path.dirname(__file__), \"pickle_models\", \"strains.pkl\")\n",
    "\n",
    "# with open(MODEL_FILEPATH, \"wb\") as model_file:\n",
    "#     print(\"SAVE PICKLE 1\")\n",
    "#     pickle.dump(cannabis_dict, model_file, protocol=pickle.HIGHEST_PROTOCOL)"
   ]
  },
  {
   "cell_type": "code",
   "execution_count": 1,
   "metadata": {},
   "outputs": [
    {
     "output_type": "stream",
     "name": "stderr",
     "text": [
      "/Users/jisha/.pyenv/versions/3.8.6/lib/python3.8/site-packages/pandas/compat/__init__.py:120: UserWarning: Could not import the lzma module. Your installed Python is incomplete. Attempting to use lzma compression will result in a RuntimeError.\n  warnings.warn(msg)\n"
     ]
    }
   ],
   "source": [
    "import pandas as pd\n",
    "\n",
    "school = pd.read_csv('../../datasets/data/schools/csv/final_school.csv')"
   ]
  },
  {
   "cell_type": "code",
   "execution_count": 2,
   "metadata": {},
   "outputs": [
    {
     "output_type": "execute_result",
     "data": {
      "text/plain": [
       "Index(['School', 'Score', 'Rating', 'Address', 'Type', 'Grades',\n",
       "       'Total Students Enrolled', 'Students per teacher', 'District', 'City',\n",
       "       'State', 'High School (9-12)', 'Middle School (6-8)',\n",
       "       'Elementary (K-5)', 'Pre-Kindergarten (PK)'],\n",
       "      dtype='object')"
      ]
     },
     "metadata": {},
     "execution_count": 2
    }
   ],
   "source": [
    "school.columns"
   ]
  },
  {
   "cell_type": "code",
   "execution_count": 3,
   "metadata": {},
   "outputs": [],
   "source": [
    "# Combine city state for easier grouping\n",
    "school['City, State'] = school['City'] + ', ' + school['State']\n",
    "school = school.drop(columns = ['City', 'State'])"
   ]
  },
  {
   "source": [
    "### Separate schools by categories"
   ],
   "cell_type": "markdown",
   "metadata": {}
  },
  {
   "cell_type": "code",
   "execution_count": 4,
   "metadata": {},
   "outputs": [
    {
     "output_type": "stream",
     "name": "stdout",
     "text": [
      "(47488, 14) (26214, 14) (17180, 14) (9897, 14)\n"
     ]
    }
   ],
   "source": [
    "pre_k = school[school['Pre-Kindergarten (PK)'] == 1]\n",
    "elem = school[school['Elementary (K-5)'] == 1]\n",
    "middle = school[school['Middle School (6-8)'] == 1]\n",
    "high = school[school['High School (9-12)'] == 1]\n",
    "\n",
    "print(pre_k.shape, elem.shape, middle.shape, high.shape)"
   ]
  },
  {
   "source": [
    "### Create grouped dictionaries for faster lookup\n",
    "https://stackoverflow.com/questions/50966466/convert-pandas-groupby-to-dict"
   ],
   "cell_type": "markdown",
   "metadata": {}
  },
  {
   "cell_type": "code",
   "execution_count": 5,
   "metadata": {},
   "outputs": [],
   "source": [
    "pre_k.reset_index(drop=True, inplace=True)\n",
    "pk_dict = dict(tuple(pre_k.groupby('City, State')))"
   ]
  },
  {
   "cell_type": "code",
   "execution_count": 6,
   "metadata": {},
   "outputs": [],
   "source": [
    "elem.reset_index(drop=True, inplace=True)\n",
    "elem_dict = dict(tuple(elem.groupby('City, State')))"
   ]
  },
  {
   "cell_type": "code",
   "execution_count": 7,
   "metadata": {},
   "outputs": [],
   "source": [
    "middle.reset_index(drop=True, inplace=True)\n",
    "middle_dict = dict(tuple(middle.groupby('City, State')))"
   ]
  },
  {
   "cell_type": "code",
   "execution_count": 8,
   "metadata": {},
   "outputs": [],
   "source": [
    "high.reset_index(drop=True, inplace=True)\n",
    "high_dict = dict(tuple(high.groupby('City, State')))"
   ]
  },
  {
   "source": [
    "### Pickle"
   ],
   "cell_type": "markdown",
   "metadata": {}
  },
  {
   "cell_type": "code",
   "execution_count": 9,
   "metadata": {},
   "outputs": [],
   "source": [
    "import pickle"
   ]
  },
  {
   "cell_type": "code",
   "execution_count": 10,
   "metadata": {},
   "outputs": [
    {
     "output_type": "stream",
     "name": "stdout",
     "text": [
      "Save PK model\n"
     ]
    }
   ],
   "source": [
    "# pre-k\n",
    "with open('pickles/pre_k.pkl', 'wb') as f:\n",
    "    print('Save PK model')\n",
    "    pickle.dump(pk_dict, f)"
   ]
  },
  {
   "cell_type": "code",
   "execution_count": 11,
   "metadata": {},
   "outputs": [
    {
     "output_type": "stream",
     "name": "stdout",
     "text": [
      "Save Elementary model\n"
     ]
    }
   ],
   "source": [
    "# elementary\n",
    "with open('pickles/elem.pkl', 'wb') as f:\n",
    "    print('Save Elementary model')\n",
    "    pickle.dump(elem_dict, f)"
   ]
  },
  {
   "cell_type": "code",
   "execution_count": 12,
   "metadata": {},
   "outputs": [
    {
     "output_type": "stream",
     "name": "stdout",
     "text": [
      "Save Middle School model\n"
     ]
    }
   ],
   "source": [
    "# middle school\n",
    "with open('pickles/middle.pkl', 'wb') as f:\n",
    "    print('Save Middle School model')\n",
    "    pickle.dump(middle_dict, f)"
   ]
  },
  {
   "cell_type": "code",
   "execution_count": 13,
   "metadata": {},
   "outputs": [
    {
     "output_type": "stream",
     "name": "stdout",
     "text": [
      "Save High School model\n"
     ]
    }
   ],
   "source": [
    "# high school\n",
    "with open('pickles/high.pkl', 'wb') as f:\n",
    "    print('Save High School model')\n",
    "    pickle.dump(high_dict, f)"
   ]
  },
  {
   "source": [
    "### Test"
   ],
   "cell_type": "markdown",
   "metadata": {}
  },
  {
   "cell_type": "code",
   "execution_count": 14,
   "metadata": {},
   "outputs": [],
   "source": [
    "pre_k = pickle.load(open('pickles/pre_k.pkl', 'rb'))"
   ]
  },
  {
   "cell_type": "code",
   "execution_count": 15,
   "metadata": {},
   "outputs": [
    {
     "output_type": "execute_result",
     "data": {
      "text/plain": [
       "                                 School  Score             Rating  \\\n",
       "0           Roosevelt Elementary School      3      Below average   \n",
       "1                Early Childhood Center      0  Currently unrated   \n",
       "2                    Brightside Academy      0  Currently unrated   \n",
       "3    First Grace Amos Child Care Center      0  Currently unrated   \n",
       "4        All About Kids Day Care Center      0  Currently unrated   \n",
       "..                                  ...    ...                ...   \n",
       "116               Destiny Youth Academy      0  Currently unrated   \n",
       "117            Legacy Childcare Academy      0  Currently unrated   \n",
       "118              Kozmic Korner Day Care      0  Currently unrated   \n",
       "119        Center for Child Development      0  Currently unrated   \n",
       "120       Center For Child Devel- Akron      0  Currently unrated   \n",
       "\n",
       "                                           Address             Type Grades  \\\n",
       "0              660 Lessig Avenue, Akron, OH, 44312  Public district   PK-3   \n",
       "1                  1361 W Market, Akron, OH, 44313          Private   PK-K   \n",
       "2    1100 South Arlington Street, Akron, OH, 44306          Private     PK   \n",
       "3         350 South Portage Path, Akron, OH, 44320          Private     PK   \n",
       "4         792 East Waterloo Road, Akron, OH, 44306          Private     PK   \n",
       "..                                             ...              ...    ...   \n",
       "116               S Portage Path, Akron, OH, 44302          Private     PK   \n",
       "117                 Po Box 26104, Akron, OH, 44319          Private     PK   \n",
       "118    3700 Embassy Parkway #240, Akron, OH, 44333          Private     PK   \n",
       "119                 108 Fir Hill, Akron, OH, 44325          Private     PK   \n",
       "120                 108 Fir Hill, Akron, OH, 44325          Private     PK   \n",
       "\n",
       "     Total Students Enrolled Students per teacher  \\\n",
       "0                      409.0                 17:1   \n",
       "1                        0.0                    0   \n",
       "2                        0.0                    0   \n",
       "3                        0.0                    0   \n",
       "4                        0.0                    0   \n",
       "..                       ...                  ...   \n",
       "116                      0.0                    0   \n",
       "117                      0.0                    0   \n",
       "118                      0.0                    0   \n",
       "119                      0.0                    0   \n",
       "120                      0.0                    0   \n",
       "\n",
       "                              District  High School (9-12)  \\\n",
       "0    Springfield Local School District                   0   \n",
       "1                          Unavailable                   0   \n",
       "2                          Unavailable                   0   \n",
       "3                          Unavailable                   0   \n",
       "4                          Unavailable                   0   \n",
       "..                                 ...                 ...   \n",
       "116                        Unavailable                   0   \n",
       "117                        Unavailable                   0   \n",
       "118                        Unavailable                   0   \n",
       "119                        Unavailable                   0   \n",
       "120                        Unavailable                   0   \n",
       "\n",
       "     Middle School (6-8)  Elementary (K-5)  Pre-Kindergarten (PK) City, State  \n",
       "0                      0                 1                      1   Akron, OH  \n",
       "1                      0                 1                      1   Akron, OH  \n",
       "2                      0                 0                      1   Akron, OH  \n",
       "3                      0                 0                      1   Akron, OH  \n",
       "4                      0                 0                      1   Akron, OH  \n",
       "..                   ...               ...                    ...         ...  \n",
       "116                    0                 0                      1   Akron, OH  \n",
       "117                    0                 0                      1   Akron, OH  \n",
       "118                    0                 0                      1   Akron, OH  \n",
       "119                    0                 0                      1   Akron, OH  \n",
       "120                    0                 0                      1   Akron, OH  \n",
       "\n",
       "[121 rows x 14 columns]"
      ],
      "text/html": "<div>\n<style scoped>\n    .dataframe tbody tr th:only-of-type {\n        vertical-align: middle;\n    }\n\n    .dataframe tbody tr th {\n        vertical-align: top;\n    }\n\n    .dataframe thead th {\n        text-align: right;\n    }\n</style>\n<table border=\"1\" class=\"dataframe\">\n  <thead>\n    <tr style=\"text-align: right;\">\n      <th></th>\n      <th>School</th>\n      <th>Score</th>\n      <th>Rating</th>\n      <th>Address</th>\n      <th>Type</th>\n      <th>Grades</th>\n      <th>Total Students Enrolled</th>\n      <th>Students per teacher</th>\n      <th>District</th>\n      <th>High School (9-12)</th>\n      <th>Middle School (6-8)</th>\n      <th>Elementary (K-5)</th>\n      <th>Pre-Kindergarten (PK)</th>\n      <th>City, State</th>\n    </tr>\n  </thead>\n  <tbody>\n    <tr>\n      <th>0</th>\n      <td>Roosevelt Elementary School</td>\n      <td>3</td>\n      <td>Below average</td>\n      <td>660 Lessig Avenue, Akron, OH, 44312</td>\n      <td>Public district</td>\n      <td>PK-3</td>\n      <td>409.0</td>\n      <td>17:1</td>\n      <td>Springfield Local School District</td>\n      <td>0</td>\n      <td>0</td>\n      <td>1</td>\n      <td>1</td>\n      <td>Akron, OH</td>\n    </tr>\n    <tr>\n      <th>1</th>\n      <td>Early Childhood Center</td>\n      <td>0</td>\n      <td>Currently unrated</td>\n      <td>1361 W Market, Akron, OH, 44313</td>\n      <td>Private</td>\n      <td>PK-K</td>\n      <td>0.0</td>\n      <td>0</td>\n      <td>Unavailable</td>\n      <td>0</td>\n      <td>0</td>\n      <td>1</td>\n      <td>1</td>\n      <td>Akron, OH</td>\n    </tr>\n    <tr>\n      <th>2</th>\n      <td>Brightside Academy</td>\n      <td>0</td>\n      <td>Currently unrated</td>\n      <td>1100 South Arlington Street, Akron, OH, 44306</td>\n      <td>Private</td>\n      <td>PK</td>\n      <td>0.0</td>\n      <td>0</td>\n      <td>Unavailable</td>\n      <td>0</td>\n      <td>0</td>\n      <td>0</td>\n      <td>1</td>\n      <td>Akron, OH</td>\n    </tr>\n    <tr>\n      <th>3</th>\n      <td>First Grace Amos Child Care Center</td>\n      <td>0</td>\n      <td>Currently unrated</td>\n      <td>350 South Portage Path, Akron, OH, 44320</td>\n      <td>Private</td>\n      <td>PK</td>\n      <td>0.0</td>\n      <td>0</td>\n      <td>Unavailable</td>\n      <td>0</td>\n      <td>0</td>\n      <td>0</td>\n      <td>1</td>\n      <td>Akron, OH</td>\n    </tr>\n    <tr>\n      <th>4</th>\n      <td>All About Kids Day Care Center</td>\n      <td>0</td>\n      <td>Currently unrated</td>\n      <td>792 East Waterloo Road, Akron, OH, 44306</td>\n      <td>Private</td>\n      <td>PK</td>\n      <td>0.0</td>\n      <td>0</td>\n      <td>Unavailable</td>\n      <td>0</td>\n      <td>0</td>\n      <td>0</td>\n      <td>1</td>\n      <td>Akron, OH</td>\n    </tr>\n    <tr>\n      <th>...</th>\n      <td>...</td>\n      <td>...</td>\n      <td>...</td>\n      <td>...</td>\n      <td>...</td>\n      <td>...</td>\n      <td>...</td>\n      <td>...</td>\n      <td>...</td>\n      <td>...</td>\n      <td>...</td>\n      <td>...</td>\n      <td>...</td>\n      <td>...</td>\n    </tr>\n    <tr>\n      <th>116</th>\n      <td>Destiny Youth Academy</td>\n      <td>0</td>\n      <td>Currently unrated</td>\n      <td>S Portage Path, Akron, OH, 44302</td>\n      <td>Private</td>\n      <td>PK</td>\n      <td>0.0</td>\n      <td>0</td>\n      <td>Unavailable</td>\n      <td>0</td>\n      <td>0</td>\n      <td>0</td>\n      <td>1</td>\n      <td>Akron, OH</td>\n    </tr>\n    <tr>\n      <th>117</th>\n      <td>Legacy Childcare Academy</td>\n      <td>0</td>\n      <td>Currently unrated</td>\n      <td>Po Box 26104, Akron, OH, 44319</td>\n      <td>Private</td>\n      <td>PK</td>\n      <td>0.0</td>\n      <td>0</td>\n      <td>Unavailable</td>\n      <td>0</td>\n      <td>0</td>\n      <td>0</td>\n      <td>1</td>\n      <td>Akron, OH</td>\n    </tr>\n    <tr>\n      <th>118</th>\n      <td>Kozmic Korner Day Care</td>\n      <td>0</td>\n      <td>Currently unrated</td>\n      <td>3700 Embassy Parkway #240, Akron, OH, 44333</td>\n      <td>Private</td>\n      <td>PK</td>\n      <td>0.0</td>\n      <td>0</td>\n      <td>Unavailable</td>\n      <td>0</td>\n      <td>0</td>\n      <td>0</td>\n      <td>1</td>\n      <td>Akron, OH</td>\n    </tr>\n    <tr>\n      <th>119</th>\n      <td>Center for Child Development</td>\n      <td>0</td>\n      <td>Currently unrated</td>\n      <td>108 Fir Hill, Akron, OH, 44325</td>\n      <td>Private</td>\n      <td>PK</td>\n      <td>0.0</td>\n      <td>0</td>\n      <td>Unavailable</td>\n      <td>0</td>\n      <td>0</td>\n      <td>0</td>\n      <td>1</td>\n      <td>Akron, OH</td>\n    </tr>\n    <tr>\n      <th>120</th>\n      <td>Center For Child Devel- Akron</td>\n      <td>0</td>\n      <td>Currently unrated</td>\n      <td>108 Fir Hill, Akron, OH, 44325</td>\n      <td>Private</td>\n      <td>PK</td>\n      <td>0.0</td>\n      <td>0</td>\n      <td>Unavailable</td>\n      <td>0</td>\n      <td>0</td>\n      <td>0</td>\n      <td>1</td>\n      <td>Akron, OH</td>\n    </tr>\n  </tbody>\n</table>\n<p>121 rows × 14 columns</p>\n</div>"
     },
     "metadata": {},
     "execution_count": 15
    }
   ],
   "source": [
    "pre_k['Akron, OH']"
   ]
  },
  {
   "cell_type": "code",
   "execution_count": 16,
   "metadata": {},
   "outputs": [],
   "source": [
    "elem = pickle.load(open('pickles/elem.pkl', 'rb'))"
   ]
  },
  {
   "cell_type": "code",
   "execution_count": 17,
   "metadata": {},
   "outputs": [
    {
     "output_type": "execute_result",
     "data": {
      "text/plain": [
       "                                         School  Score             Rating  \\\n",
       "3156                           Champlain School      5            Average   \n",
       "3157  Sustainability Academy At Lawrence Barnes      5            Average   \n",
       "3158                         C. P. Smith School      4      Below average   \n",
       "3159                         J. J. Flynn School      4      Below average   \n",
       "3160                  Edmunds Elementary School      4      Below average   \n",
       "3161   Integrated Arts Academy At H. O. Wheeler      3      Below average   \n",
       "3162       City Kids Child Care Center-Cp Smith      0  Currently unrated   \n",
       "3163                            Burlington Kids      0  Currently unrated   \n",
       "3164    Mater Christi Bef/Aft Child Care Center      0  Currently unrated   \n",
       "3165                          St. Joseph School      0  Currently unrated   \n",
       "3166                       Mater Christi School      0  Currently unrated   \n",
       "3167                     Christ The King School      0  Currently unrated   \n",
       "3168              North Avenue Christian School      0  Currently unrated   \n",
       "3169          Trinity College Child Care Center      0  Currently unrated   \n",
       "3170                           The Baird School      0  Currently unrated   \n",
       "3171            YMCA Preschool and Kindergarten      0  Currently unrated   \n",
       "3172                     City Kids At Champlain      0  Currently unrated   \n",
       "3173            Y School Age-Under Hill Central      0  Currently unrated   \n",
       "\n",
       "                                             Address             Type Grades  \\\n",
       "3156          800 Pine Street, Burlington, VT, 05401  Public district   PK-5   \n",
       "3157         123 North Street, Burlington, VT, 05401  Public district   PK-5   \n",
       "3158  332 Ethan Allen Parkway, Burlington, VT, 05408  Public district   PK-5   \n",
       "3159        1645 North Avenue, Burlington, VT, 05408  Public district   PK-5   \n",
       "3160          299 Main Street, Burlington, VT, 05401  Public district    K-5   \n",
       "3161       6 Archibald Street, Burlington, VT, 05401  Public district   PK-5   \n",
       "3162          645 Pine Street, Burlington, VT, 05401          Private   PK-K   \n",
       "3163        1645 North Avenue, Burlington, VT, 05408          Private   PK-K   \n",
       "3164      50 Mansfield Avenue, Burlington, VT, 05401          Private   PK-K   \n",
       "3165              20 Allen St, Burlington, VT, 05401          Private   PK-8   \n",
       "3166         50 Mansfield Ave, Burlington, VT, 05401          Private   PK-8   \n",
       "3167        136 Locust Street, Burlington, VT, 05401          Private   PK-8   \n",
       "3168            901 North Ave, Burlington, VT, 05408          Private   PK-2   \n",
       "3169       208 Colchester Ave, Burlington, VT, 05401          Private   PK-K   \n",
       "3170         1138 Pine Street, Burlington, VT, 05401          Private    1-8   \n",
       "3171           266 College St, Burlington, VT, 05401          Private   PK-K   \n",
       "3172          645 Pine Street, Burlington, VT, 05401          Private   PK-K   \n",
       "3173       266 College Street, Burlington, VT, 05401          Private   PK-K   \n",
       "\n",
       "      Total Students Enrolled Students per teacher  \\\n",
       "3156                    693.0                 12:1   \n",
       "3157                    188.0                 10:1   \n",
       "3158                    269.0                 12:1   \n",
       "3159                    356.0                 12:1   \n",
       "3160                    309.0                 11:1   \n",
       "3161                    300.0                 10:1   \n",
       "3162                      0.0                    0   \n",
       "3163                      0.0                    0   \n",
       "3164                      0.0                    0   \n",
       "3165                     74.0                    0   \n",
       "3166                    233.0                    0   \n",
       "3167                    256.0                    0   \n",
       "3168                     51.0                    0   \n",
       "3169                      0.0                    0   \n",
       "3170                     36.0                    0   \n",
       "3171                      0.0                    0   \n",
       "3172                      0.0                    0   \n",
       "3173                      0.0                    0   \n",
       "\n",
       "                        District  High School (9-12)  Middle School (6-8)  \\\n",
       "3156  Burlington School District                   0                    0   \n",
       "3157  Burlington School District                   0                    0   \n",
       "3158  Burlington School District                   0                    0   \n",
       "3159  Burlington School District                   0                    0   \n",
       "3160  Burlington School District                   0                    0   \n",
       "3161  Burlington School District                   0                    0   \n",
       "3162                 Unavailable                   0                    0   \n",
       "3163                 Unavailable                   0                    0   \n",
       "3164                 Unavailable                   0                    0   \n",
       "3165                 Unavailable                   0                    1   \n",
       "3166                 Unavailable                   0                    1   \n",
       "3167                 Unavailable                   0                    1   \n",
       "3168                 Unavailable                   0                    0   \n",
       "3169                 Unavailable                   0                    0   \n",
       "3170                 Unavailable                   0                    1   \n",
       "3171                 Unavailable                   0                    0   \n",
       "3172                 Unavailable                   0                    0   \n",
       "3173                 Unavailable                   0                    0   \n",
       "\n",
       "      Elementary (K-5)  Pre-Kindergarten (PK)     City, State  \n",
       "3156                 1                      1  Burlington, VT  \n",
       "3157                 1                      1  Burlington, VT  \n",
       "3158                 1                      1  Burlington, VT  \n",
       "3159                 1                      1  Burlington, VT  \n",
       "3160                 1                      0  Burlington, VT  \n",
       "3161                 1                      1  Burlington, VT  \n",
       "3162                 1                      1  Burlington, VT  \n",
       "3163                 1                      1  Burlington, VT  \n",
       "3164                 1                      1  Burlington, VT  \n",
       "3165                 1                      1  Burlington, VT  \n",
       "3166                 1                      1  Burlington, VT  \n",
       "3167                 1                      1  Burlington, VT  \n",
       "3168                 1                      1  Burlington, VT  \n",
       "3169                 1                      1  Burlington, VT  \n",
       "3170                 1                      0  Burlington, VT  \n",
       "3171                 1                      1  Burlington, VT  \n",
       "3172                 1                      1  Burlington, VT  \n",
       "3173                 1                      1  Burlington, VT  "
      ],
      "text/html": "<div>\n<style scoped>\n    .dataframe tbody tr th:only-of-type {\n        vertical-align: middle;\n    }\n\n    .dataframe tbody tr th {\n        vertical-align: top;\n    }\n\n    .dataframe thead th {\n        text-align: right;\n    }\n</style>\n<table border=\"1\" class=\"dataframe\">\n  <thead>\n    <tr style=\"text-align: right;\">\n      <th></th>\n      <th>School</th>\n      <th>Score</th>\n      <th>Rating</th>\n      <th>Address</th>\n      <th>Type</th>\n      <th>Grades</th>\n      <th>Total Students Enrolled</th>\n      <th>Students per teacher</th>\n      <th>District</th>\n      <th>High School (9-12)</th>\n      <th>Middle School (6-8)</th>\n      <th>Elementary (K-5)</th>\n      <th>Pre-Kindergarten (PK)</th>\n      <th>City, State</th>\n    </tr>\n  </thead>\n  <tbody>\n    <tr>\n      <th>3156</th>\n      <td>Champlain School</td>\n      <td>5</td>\n      <td>Average</td>\n      <td>800 Pine Street, Burlington, VT, 05401</td>\n      <td>Public district</td>\n      <td>PK-5</td>\n      <td>693.0</td>\n      <td>12:1</td>\n      <td>Burlington School District</td>\n      <td>0</td>\n      <td>0</td>\n      <td>1</td>\n      <td>1</td>\n      <td>Burlington, VT</td>\n    </tr>\n    <tr>\n      <th>3157</th>\n      <td>Sustainability Academy At Lawrence Barnes</td>\n      <td>5</td>\n      <td>Average</td>\n      <td>123 North Street, Burlington, VT, 05401</td>\n      <td>Public district</td>\n      <td>PK-5</td>\n      <td>188.0</td>\n      <td>10:1</td>\n      <td>Burlington School District</td>\n      <td>0</td>\n      <td>0</td>\n      <td>1</td>\n      <td>1</td>\n      <td>Burlington, VT</td>\n    </tr>\n    <tr>\n      <th>3158</th>\n      <td>C. P. Smith School</td>\n      <td>4</td>\n      <td>Below average</td>\n      <td>332 Ethan Allen Parkway, Burlington, VT, 05408</td>\n      <td>Public district</td>\n      <td>PK-5</td>\n      <td>269.0</td>\n      <td>12:1</td>\n      <td>Burlington School District</td>\n      <td>0</td>\n      <td>0</td>\n      <td>1</td>\n      <td>1</td>\n      <td>Burlington, VT</td>\n    </tr>\n    <tr>\n      <th>3159</th>\n      <td>J. J. Flynn School</td>\n      <td>4</td>\n      <td>Below average</td>\n      <td>1645 North Avenue, Burlington, VT, 05408</td>\n      <td>Public district</td>\n      <td>PK-5</td>\n      <td>356.0</td>\n      <td>12:1</td>\n      <td>Burlington School District</td>\n      <td>0</td>\n      <td>0</td>\n      <td>1</td>\n      <td>1</td>\n      <td>Burlington, VT</td>\n    </tr>\n    <tr>\n      <th>3160</th>\n      <td>Edmunds Elementary School</td>\n      <td>4</td>\n      <td>Below average</td>\n      <td>299 Main Street, Burlington, VT, 05401</td>\n      <td>Public district</td>\n      <td>K-5</td>\n      <td>309.0</td>\n      <td>11:1</td>\n      <td>Burlington School District</td>\n      <td>0</td>\n      <td>0</td>\n      <td>1</td>\n      <td>0</td>\n      <td>Burlington, VT</td>\n    </tr>\n    <tr>\n      <th>3161</th>\n      <td>Integrated Arts Academy At H. O. Wheeler</td>\n      <td>3</td>\n      <td>Below average</td>\n      <td>6 Archibald Street, Burlington, VT, 05401</td>\n      <td>Public district</td>\n      <td>PK-5</td>\n      <td>300.0</td>\n      <td>10:1</td>\n      <td>Burlington School District</td>\n      <td>0</td>\n      <td>0</td>\n      <td>1</td>\n      <td>1</td>\n      <td>Burlington, VT</td>\n    </tr>\n    <tr>\n      <th>3162</th>\n      <td>City Kids Child Care Center-Cp Smith</td>\n      <td>0</td>\n      <td>Currently unrated</td>\n      <td>645 Pine Street, Burlington, VT, 05401</td>\n      <td>Private</td>\n      <td>PK-K</td>\n      <td>0.0</td>\n      <td>0</td>\n      <td>Unavailable</td>\n      <td>0</td>\n      <td>0</td>\n      <td>1</td>\n      <td>1</td>\n      <td>Burlington, VT</td>\n    </tr>\n    <tr>\n      <th>3163</th>\n      <td>Burlington Kids</td>\n      <td>0</td>\n      <td>Currently unrated</td>\n      <td>1645 North Avenue, Burlington, VT, 05408</td>\n      <td>Private</td>\n      <td>PK-K</td>\n      <td>0.0</td>\n      <td>0</td>\n      <td>Unavailable</td>\n      <td>0</td>\n      <td>0</td>\n      <td>1</td>\n      <td>1</td>\n      <td>Burlington, VT</td>\n    </tr>\n    <tr>\n      <th>3164</th>\n      <td>Mater Christi Bef/Aft Child Care Center</td>\n      <td>0</td>\n      <td>Currently unrated</td>\n      <td>50 Mansfield Avenue, Burlington, VT, 05401</td>\n      <td>Private</td>\n      <td>PK-K</td>\n      <td>0.0</td>\n      <td>0</td>\n      <td>Unavailable</td>\n      <td>0</td>\n      <td>0</td>\n      <td>1</td>\n      <td>1</td>\n      <td>Burlington, VT</td>\n    </tr>\n    <tr>\n      <th>3165</th>\n      <td>St. Joseph School</td>\n      <td>0</td>\n      <td>Currently unrated</td>\n      <td>20 Allen St, Burlington, VT, 05401</td>\n      <td>Private</td>\n      <td>PK-8</td>\n      <td>74.0</td>\n      <td>0</td>\n      <td>Unavailable</td>\n      <td>0</td>\n      <td>1</td>\n      <td>1</td>\n      <td>1</td>\n      <td>Burlington, VT</td>\n    </tr>\n    <tr>\n      <th>3166</th>\n      <td>Mater Christi School</td>\n      <td>0</td>\n      <td>Currently unrated</td>\n      <td>50 Mansfield Ave, Burlington, VT, 05401</td>\n      <td>Private</td>\n      <td>PK-8</td>\n      <td>233.0</td>\n      <td>0</td>\n      <td>Unavailable</td>\n      <td>0</td>\n      <td>1</td>\n      <td>1</td>\n      <td>1</td>\n      <td>Burlington, VT</td>\n    </tr>\n    <tr>\n      <th>3167</th>\n      <td>Christ The King School</td>\n      <td>0</td>\n      <td>Currently unrated</td>\n      <td>136 Locust Street, Burlington, VT, 05401</td>\n      <td>Private</td>\n      <td>PK-8</td>\n      <td>256.0</td>\n      <td>0</td>\n      <td>Unavailable</td>\n      <td>0</td>\n      <td>1</td>\n      <td>1</td>\n      <td>1</td>\n      <td>Burlington, VT</td>\n    </tr>\n    <tr>\n      <th>3168</th>\n      <td>North Avenue Christian School</td>\n      <td>0</td>\n      <td>Currently unrated</td>\n      <td>901 North Ave, Burlington, VT, 05408</td>\n      <td>Private</td>\n      <td>PK-2</td>\n      <td>51.0</td>\n      <td>0</td>\n      <td>Unavailable</td>\n      <td>0</td>\n      <td>0</td>\n      <td>1</td>\n      <td>1</td>\n      <td>Burlington, VT</td>\n    </tr>\n    <tr>\n      <th>3169</th>\n      <td>Trinity College Child Care Center</td>\n      <td>0</td>\n      <td>Currently unrated</td>\n      <td>208 Colchester Ave, Burlington, VT, 05401</td>\n      <td>Private</td>\n      <td>PK-K</td>\n      <td>0.0</td>\n      <td>0</td>\n      <td>Unavailable</td>\n      <td>0</td>\n      <td>0</td>\n      <td>1</td>\n      <td>1</td>\n      <td>Burlington, VT</td>\n    </tr>\n    <tr>\n      <th>3170</th>\n      <td>The Baird School</td>\n      <td>0</td>\n      <td>Currently unrated</td>\n      <td>1138 Pine Street, Burlington, VT, 05401</td>\n      <td>Private</td>\n      <td>1-8</td>\n      <td>36.0</td>\n      <td>0</td>\n      <td>Unavailable</td>\n      <td>0</td>\n      <td>1</td>\n      <td>1</td>\n      <td>0</td>\n      <td>Burlington, VT</td>\n    </tr>\n    <tr>\n      <th>3171</th>\n      <td>YMCA Preschool and Kindergarten</td>\n      <td>0</td>\n      <td>Currently unrated</td>\n      <td>266 College St, Burlington, VT, 05401</td>\n      <td>Private</td>\n      <td>PK-K</td>\n      <td>0.0</td>\n      <td>0</td>\n      <td>Unavailable</td>\n      <td>0</td>\n      <td>0</td>\n      <td>1</td>\n      <td>1</td>\n      <td>Burlington, VT</td>\n    </tr>\n    <tr>\n      <th>3172</th>\n      <td>City Kids At Champlain</td>\n      <td>0</td>\n      <td>Currently unrated</td>\n      <td>645 Pine Street, Burlington, VT, 05401</td>\n      <td>Private</td>\n      <td>PK-K</td>\n      <td>0.0</td>\n      <td>0</td>\n      <td>Unavailable</td>\n      <td>0</td>\n      <td>0</td>\n      <td>1</td>\n      <td>1</td>\n      <td>Burlington, VT</td>\n    </tr>\n    <tr>\n      <th>3173</th>\n      <td>Y School Age-Under Hill Central</td>\n      <td>0</td>\n      <td>Currently unrated</td>\n      <td>266 College Street, Burlington, VT, 05401</td>\n      <td>Private</td>\n      <td>PK-K</td>\n      <td>0.0</td>\n      <td>0</td>\n      <td>Unavailable</td>\n      <td>0</td>\n      <td>0</td>\n      <td>1</td>\n      <td>1</td>\n      <td>Burlington, VT</td>\n    </tr>\n  </tbody>\n</table>\n</div>"
     },
     "metadata": {},
     "execution_count": 17
    }
   ],
   "source": [
    "elem['Burlington, VT']"
   ]
  },
  {
   "cell_type": "code",
   "execution_count": 18,
   "metadata": {},
   "outputs": [],
   "source": [
    "middle = pickle.load(open('pickles/middle.pkl', 'rb'))"
   ]
  },
  {
   "cell_type": "code",
   "execution_count": 20,
   "metadata": {},
   "outputs": [
    {
     "output_type": "execute_result",
     "data": {
      "text/plain": [
       "                                                 School  Score  \\\n",
       "6841                        Forest Heights Stem Academy      7   \n",
       "6842                                       Lisa Academy      7   \n",
       "6843                                Lisa Academy Chenal      6   \n",
       "6844                       East End Intermediate School      6   \n",
       "6845                                eStem Middle School      5   \n",
       "6846                        Pinnacle View Middle School      5   \n",
       "6847               Ark. School For The Blind Elementary      5   \n",
       "6848                 Quest Middle School of Little Rock      4   \n",
       "6849                      Pulaski Heights Middle School      4   \n",
       "6850              Ark. School For The Blind High School      4   \n",
       "6851                               Fuller Middle School      4   \n",
       "6852                           Little Rock Prep Academy      4   \n",
       "6853                          Mann Magnet Middle School      3   \n",
       "6854                      Joe T. Robinson Middle School      3   \n",
       "6855                        Arkansas Virtual Academy Jr      3   \n",
       "6856                        Dunbar Magnet Middle School      2   \n",
       "6857                            Henderson Middle School      2   \n",
       "6858                            Mabelvale Middle School      2   \n",
       "6859                           Cloverdale Middle School      1   \n",
       "6860                    Christ the King Catholic School      0   \n",
       "6861                             Clara Mohammed Schools      0   \n",
       "6862                            Urban Garden Montessori      0   \n",
       "6863                           Aspire Christian Academy      0   \n",
       "6864               Rockbridge Montessori Charter School      0   \n",
       "6865                Ark. School For The Deaf Elementary      0   \n",
       "6866                                  St Edwards School      0   \n",
       "6867                         Our Lady-Holy Souls School      0   \n",
       "6868                               Miss Selma's Schools      0   \n",
       "6869                                    Pulaski Academy      0   \n",
       "6870                             Christ Lutheran School      0   \n",
       "6871                          Heritage Christian School      0   \n",
       "6872                                 The Anthony School      0   \n",
       "6873                                  Shiloh Sda School      0   \n",
       "6874                      Little Rock Adventist Academy      0   \n",
       "6875                      Little Rock Christian Academy      0   \n",
       "6876  Central Arkansas Christian: North Little Rock ...      0   \n",
       "6877                          Ati'Day Yisroel Preschool      0   \n",
       "6878                        Southwest Christian Academy      0   \n",
       "6879                          Victory Christian Schools      0   \n",
       "6880                Words Of Outreach Christian Academy      0   \n",
       "6881                     Arkansas Baptist School System      0   \n",
       "6882                     Capital City Christian Academy      0   \n",
       "6883                     Faith Christian School of Litt      0   \n",
       "6884                              Clara Muhammad School      0   \n",
       "6885                               Alternative Agencies      0   \n",
       "6886                         St Theresa Catholic School      0   \n",
       "6887                    Chenal Valley Montessori School      0   \n",
       "6888                    The Episcopal Collegiate School      0   \n",
       "6889  Central Arkansas Christian: Pleasant Valley El...      0   \n",
       "6890                         Felder Alternative Academy      0   \n",
       "6891                         Hebrew Academy Of Arkansas      0   \n",
       "6892                   Arkansas River Valley Montessori      0   \n",
       "6893                E-Stem Public Charter Middle School      0   \n",
       "6894                    Covenant Keepers Charter School      0   \n",
       "6895                          K12 International Academy      0   \n",
       "6896                                The Keystone School      0   \n",
       "6897           Cloverdale Aerospace Tech Charter School      0   \n",
       "6898                 LR Urban Collegiate Charter School      0   \n",
       "\n",
       "                 Rating                                            Address  \\\n",
       "6841      Above average       5901 Evergreen Drive, Little Rock, AR, 72205   \n",
       "6842      Above average       21 Corporate Hill Dr, Little Rock, AR, 72205   \n",
       "6843            Average      12200 Westhaven Drive, Little Rock, AR, 72211   \n",
       "6844            Average     5205 West Sawmill Road, Little Rock, AR, 72206   \n",
       "6845            Average        112 West 3rd Street, Little Rock, AR, 72201   \n",
       "6846            Average           5701 Ranch Drive, Little Rock, AR, 72223   \n",
       "6847            Average   2600 West Markham Street, Little Rock, AR, 72205   \n",
       "6848      Below average          1815 Rahling Road, Little Rock, AR, 72223   \n",
       "6849      Below average      401 North Pine Street, Little Rock, AR, 72205   \n",
       "6850      Below average   2600 West Markham Street, Little Rock, AR, 72205   \n",
       "6851      Below average        808 East Dixon Road, Little Rock, AR, 72206   \n",
       "6852      Below average  1205 South Schiller Street, Little Rock, AR, 7...   \n",
       "6853      Below average   1000 East Roosevelt Road, Little Rock, AR, 72206   \n",
       "6854      Below average               21001 Hwy 10, Little Rock, AR, 72223   \n",
       "6855      Below average  10802 Executive Center Drive, Little Rock, AR,...   \n",
       "6856      Below average         1100 Wright Avenue, Little Rock, AR, 72206   \n",
       "6857      Below average       401 John Barrow Road, Little Rock, AR, 72205   \n",
       "6858      Below average  10811 Mabelvale West Road, Little Rock, AR, 72210   \n",
       "6859      Below average          6300 Hinkson Road, Little Rock, AR, 72209   \n",
       "6860  Currently unrated  4002 N. Rodney Parham Road, Little Rock, AR, 7...   \n",
       "6861  Currently unrated  1219 Charles Bussey Avenue, Little Rock, AR, 7...   \n",
       "6862  Currently unrated            610 Main Street, Little Rock, AR, 72201   \n",
       "6863  Currently unrated    12410 Cantrell Rd. #200, Little Rock, AR, 72223   \n",
       "6864  Currently unrated    108 West Roosevelt Road, Little Rock, AR, 72206   \n",
       "6865  Currently unrated   2400 West Markham Street, Little Rock, AR, 72205   \n",
       "6866  Currently unrated         805 Sherman Street, Little Rock, AR, 72202   \n",
       "6867  Currently unrated    1001 North Tyler Street, Little Rock, AR, 72205   \n",
       "6868  Currently unrated              7814 T Street, Little Rock, AR, 72227   \n",
       "6869  Currently unrated            12701 Hinson Rd, Little Rock, AR, 72212   \n",
       "6870  Currently unrated            315 S Hughes St, Little Rock, AR, 72205   \n",
       "6871  Currently unrated       4910 Stagecoach Road, Little Rock, AR, 72204   \n",
       "6872  Currently unrated           7700 Ohio Street, Little Rock, AR, 72227   \n",
       "6873  Currently unrated    2400 South Maple Street, Little Rock, AR, 72204   \n",
       "6874  Currently unrated  8708 North Rodney Parham Road, Little Rock, AR...   \n",
       "6875  Currently unrated        19010 Cantrell Road, Little Rock, AR, 72223   \n",
       "6876  Currently unrated             6010 W 53rd St, Little Rock, AR, 72209   \n",
       "6877  Currently unrated  4002 North Rodney Parham Road, Little Rock, AR...   \n",
       "6878  Currently unrated   11301 Geyer Springs Road, Little Rock, AR, 72209   \n",
       "6879  Currently unrated         5705 West 65th St., Little Rock, AR, 72209   \n",
       "6880  Currently unrated          3300 Asher Avenue, Little Rock, AR, 72204   \n",
       "6881  Currently unrated   62 Pleasant Valley Drive, Little Rock, AR, 72212   \n",
       "6882  Currently unrated            7800 1 30 South, Little Rock, AR, 72209   \n",
       "6883  Currently unrated             6111 W 83rd St, Little Rock, AR, 72209   \n",
       "6884  Currently unrated         1219 W 20th Street, Little Rock, AR, 72216   \n",
       "6885  Currently unrated        800 Apperson Street, Little Rock, AR, 72202   \n",
       "6886  Currently unrated         6311 Baseline Road, Little Rock, AR, 72209   \n",
       "6887  Currently unrated        14929 Cantrell Road, Little Rock, AR, 72223   \n",
       "6888  Currently unrated         1701 Cantrell Road, Little Rock, AR, 72201   \n",
       "6889  Currently unrated  10900 N Rodney Parham Road, Little Rock, AR, 7...   \n",
       "6890  Currently unrated      8300 Geyer Springs Rd, Little Rock, AR, 72206   \n",
       "6891  Currently unrated        11905 Fairview Road, Little Rock, AR, 72212   \n",
       "6892  Currently unrated   1509 North Pierce Street, Little Rock, AR, 72207   \n",
       "6893  Currently unrated  112 West Third St 2nd Floor, Little Rock, AR, ...   \n",
       "6894  Currently unrated    8300 Geyer Springs Road, Little Rock, AR, 72209   \n",
       "6895  Currently unrated         Four Capitol Mall , Little Rock, AR, 72201   \n",
       "6896  Currently unrated          Four Capitol Mall, Little Rock, AR, 72201   \n",
       "6897  Currently unrated            6300 Hinkson Rd, Little Rock, AR, 72209   \n",
       "6898  Currently unrated       6711 West Markham St, Little Rock, AR, 72205   \n",
       "\n",
       "                 Type Grades  Total Students Enrolled Students per teacher  \\\n",
       "6841  Public district    K-8                    719.0                 15:1   \n",
       "6842   Public charter    7-8                    355.0                 15:1   \n",
       "6843   Public charter    K-6                    586.0                    0   \n",
       "6844  Public district    3-6                    530.0                 20:1   \n",
       "6845   Public charter    5-8                    519.0                 20:1   \n",
       "6846  Public district      6                    515.0                    0   \n",
       "6847  Public district   PK-6                     46.0                  2:1   \n",
       "6848   Public charter   6-10                    188.0                 18:1   \n",
       "6849  Public district    6-8                    651.0                 13:1   \n",
       "6850  Public district   7-12                     48.0                  2:1   \n",
       "6851  Public district    6-8                    447.0                 12:1   \n",
       "6852   Public charter    4-8                    213.0                 11:1   \n",
       "6853  Public district    6-8                    810.0                 14:1   \n",
       "6854  Public district    6-8                    465.0                 14:1   \n",
       "6855   Public charter    5-9                    603.0                 27:1   \n",
       "6856  Public district    6-8                    535.0                 12:1   \n",
       "6857  Public district    6-8                    582.0                 13:1   \n",
       "6858  Public district    6-8                    604.0                 12:1   \n",
       "6859  Public district    6-8                    610.0                 12:1   \n",
       "6860          Private   PK-8                      0.0                    0   \n",
       "6861          Private   PK-8                     26.0                    0   \n",
       "6862          Private  PK-12                      0.0                    0   \n",
       "6863          Private    K-6                      0.0                    0   \n",
       "6864   Public charter    K-6                    169.0                 28:1   \n",
       "6865  Public district   PK-8                     78.0                  3:1   \n",
       "6866          Private   PK-8                    188.0                    0   \n",
       "6867          Private   PK-8                    501.0                    0   \n",
       "6868          Private   PK-6                    199.0                    0   \n",
       "6869          Private  PK-12                   1374.0                    0   \n",
       "6870          Private   PK-8                    140.0                    0   \n",
       "6871          Private   1-12                     30.0                    0   \n",
       "6872          Private   PK-8                    411.0                    0   \n",
       "6873          Private    K-8                      7.0                    0   \n",
       "6874          Private   K-11                     33.0                    0   \n",
       "6875          Private  PK-12                   1431.0                    0   \n",
       "6876          Private   PK-6                      0.0                    0   \n",
       "6877          Private   PK-8                    658.0                    0   \n",
       "6878          Private  PK-12                    301.0                    0   \n",
       "6879          Private  PK-12                      0.0                    0   \n",
       "6880          Private  PK-12                     45.0                    0   \n",
       "6881          Private  PK-12                    701.0                    0   \n",
       "6882          Private   1-12                      0.0                    0   \n",
       "6883          Private   PK-8                      0.0                    0   \n",
       "6884          Private   K-11                     31.0                    0   \n",
       "6885  Public district   3-12                      0.0                    0   \n",
       "6886          Private   PK-8                    153.0                    0   \n",
       "6887          Private   PK-6                     87.0                    0   \n",
       "6888          Private  PK-12                    782.0                    0   \n",
       "6889          Private   PK-6                      0.0                    0   \n",
       "6890   Public charter   6-12                     85.0                    0   \n",
       "6891          Private   PK-7                     24.0                    0   \n",
       "6892          Private   PK-9                     73.0                    0   \n",
       "6893   Public charter    5-8                    503.0                    0   \n",
       "6894   Public charter    6-8                    141.0                 15:1   \n",
       "6895          Private   K-12                      0.0                    0   \n",
       "6896          Private   6-12                      0.0                    0   \n",
       "6897   Public charter    6-8                    592.0                 12:1   \n",
       "6898   Public charter    K-8                    386.0                    0   \n",
       "\n",
       "                                               District  High School (9-12)  \\\n",
       "6841                        Little Rock School District                   0   \n",
       "6842                               Lisa Academy Charter                   0   \n",
       "6843                               Lisa Academy Charter                   0   \n",
       "6844                           Sheridan School District                   0   \n",
       "6845                                 Estem High Charter                   0   \n",
       "6846                        Little Rock School District                   0   \n",
       "6847                          Ark. School For The Blind                   0   \n",
       "6848  Responsive Education Solutions Quest Middle Sc...                   1   \n",
       "6849                        Little Rock School District                   0   \n",
       "6850                          Ark. School For The Blind                   1   \n",
       "6851         Jacksonville North Pulaski School District                   0   \n",
       "6852                    Little Rock Preparatory Academy                   0   \n",
       "6853                        Little Rock School District                   0   \n",
       "6854         Jacksonville North Pulaski School District                   0   \n",
       "6855                           Arkansas Virtual Academy                   1   \n",
       "6856                        Little Rock School District                   0   \n",
       "6857                        Little Rock School District                   0   \n",
       "6858                        Little Rock School District                   0   \n",
       "6859                        Little Rock School District                   0   \n",
       "6860                                        Unavailable                   0   \n",
       "6861                                        Unavailable                   0   \n",
       "6862                                        Unavailable                   1   \n",
       "6863                                        Unavailable                   0   \n",
       "6864                              Rockbridge Montessori                   0   \n",
       "6865                           Ark. School For The Deaf                   0   \n",
       "6866                                        Unavailable                   0   \n",
       "6867                                        Unavailable                   0   \n",
       "6868                                        Unavailable                   0   \n",
       "6869                                        Unavailable                   1   \n",
       "6870                                        Unavailable                   0   \n",
       "6871                                        Unavailable                   1   \n",
       "6872                                        Unavailable                   0   \n",
       "6873                                        Unavailable                   0   \n",
       "6874                                        Unavailable                   1   \n",
       "6875                                        Unavailable                   1   \n",
       "6876                                        Unavailable                   0   \n",
       "6877                                        Unavailable                   0   \n",
       "6878                                        Unavailable                   1   \n",
       "6879                                        Unavailable                   1   \n",
       "6880                                        Unavailable                   1   \n",
       "6881                                        Unavailable                   1   \n",
       "6882                                        Unavailable                   1   \n",
       "6883                                        Unavailable                   0   \n",
       "6884                                        Unavailable                   1   \n",
       "6885                        Little Rock School District                   1   \n",
       "6886                                        Unavailable                   0   \n",
       "6887                                        Unavailable                   0   \n",
       "6888                                        Unavailable                   1   \n",
       "6889                                        Unavailable                   0   \n",
       "6890                        Little Rock School District                   1   \n",
       "6891                                        Unavailable                   0   \n",
       "6892                                        Unavailable                   1   \n",
       "6893                               Estem Middle Charter                   0   \n",
       "6894                    Covenant Keepers Middle Charter                   0   \n",
       "6895                                        Unavailable                   1   \n",
       "6896                                        Unavailable                   1   \n",
       "6897                        Little Rock School District                   0   \n",
       "6898                 LR Urban Collegiate Public Charter                   0   \n",
       "\n",
       "      Middle School (6-8)  Elementary (K-5)  Pre-Kindergarten (PK)  \\\n",
       "6841                    1                 1                      0   \n",
       "6842                    1                 0                      0   \n",
       "6843                    1                 1                      0   \n",
       "6844                    1                 1                      0   \n",
       "6845                    1                 1                      0   \n",
       "6846                    1                 0                      0   \n",
       "6847                    1                 1                      1   \n",
       "6848                    1                 0                      0   \n",
       "6849                    1                 0                      0   \n",
       "6850                    1                 0                      0   \n",
       "6851                    1                 0                      0   \n",
       "6852                    1                 1                      0   \n",
       "6853                    1                 0                      0   \n",
       "6854                    1                 0                      0   \n",
       "6855                    1                 1                      0   \n",
       "6856                    1                 0                      0   \n",
       "6857                    1                 0                      0   \n",
       "6858                    1                 0                      0   \n",
       "6859                    1                 0                      0   \n",
       "6860                    1                 1                      1   \n",
       "6861                    1                 1                      1   \n",
       "6862                    1                 1                      1   \n",
       "6863                    1                 1                      0   \n",
       "6864                    1                 1                      0   \n",
       "6865                    1                 1                      1   \n",
       "6866                    1                 1                      1   \n",
       "6867                    1                 1                      1   \n",
       "6868                    1                 1                      1   \n",
       "6869                    1                 1                      1   \n",
       "6870                    1                 1                      1   \n",
       "6871                    1                 1                      0   \n",
       "6872                    1                 1                      1   \n",
       "6873                    1                 1                      0   \n",
       "6874                    1                 1                      0   \n",
       "6875                    1                 1                      1   \n",
       "6876                    1                 1                      1   \n",
       "6877                    1                 1                      1   \n",
       "6878                    1                 1                      1   \n",
       "6879                    1                 1                      1   \n",
       "6880                    1                 1                      1   \n",
       "6881                    1                 1                      1   \n",
       "6882                    1                 1                      0   \n",
       "6883                    1                 1                      1   \n",
       "6884                    1                 1                      0   \n",
       "6885                    1                 1                      0   \n",
       "6886                    1                 1                      1   \n",
       "6887                    1                 1                      1   \n",
       "6888                    1                 1                      1   \n",
       "6889                    1                 1                      1   \n",
       "6890                    1                 0                      0   \n",
       "6891                    1                 1                      1   \n",
       "6892                    1                 1                      1   \n",
       "6893                    1                 1                      0   \n",
       "6894                    1                 0                      0   \n",
       "6895                    1                 1                      0   \n",
       "6896                    1                 0                      0   \n",
       "6897                    1                 0                      0   \n",
       "6898                    1                 1                      0   \n",
       "\n",
       "          City, State  \n",
       "6841  Little Rock, AR  \n",
       "6842  Little Rock, AR  \n",
       "6843  Little Rock, AR  \n",
       "6844  Little Rock, AR  \n",
       "6845  Little Rock, AR  \n",
       "6846  Little Rock, AR  \n",
       "6847  Little Rock, AR  \n",
       "6848  Little Rock, AR  \n",
       "6849  Little Rock, AR  \n",
       "6850  Little Rock, AR  \n",
       "6851  Little Rock, AR  \n",
       "6852  Little Rock, AR  \n",
       "6853  Little Rock, AR  \n",
       "6854  Little Rock, AR  \n",
       "6855  Little Rock, AR  \n",
       "6856  Little Rock, AR  \n",
       "6857  Little Rock, AR  \n",
       "6858  Little Rock, AR  \n",
       "6859  Little Rock, AR  \n",
       "6860  Little Rock, AR  \n",
       "6861  Little Rock, AR  \n",
       "6862  Little Rock, AR  \n",
       "6863  Little Rock, AR  \n",
       "6864  Little Rock, AR  \n",
       "6865  Little Rock, AR  \n",
       "6866  Little Rock, AR  \n",
       "6867  Little Rock, AR  \n",
       "6868  Little Rock, AR  \n",
       "6869  Little Rock, AR  \n",
       "6870  Little Rock, AR  \n",
       "6871  Little Rock, AR  \n",
       "6872  Little Rock, AR  \n",
       "6873  Little Rock, AR  \n",
       "6874  Little Rock, AR  \n",
       "6875  Little Rock, AR  \n",
       "6876  Little Rock, AR  \n",
       "6877  Little Rock, AR  \n",
       "6878  Little Rock, AR  \n",
       "6879  Little Rock, AR  \n",
       "6880  Little Rock, AR  \n",
       "6881  Little Rock, AR  \n",
       "6882  Little Rock, AR  \n",
       "6883  Little Rock, AR  \n",
       "6884  Little Rock, AR  \n",
       "6885  Little Rock, AR  \n",
       "6886  Little Rock, AR  \n",
       "6887  Little Rock, AR  \n",
       "6888  Little Rock, AR  \n",
       "6889  Little Rock, AR  \n",
       "6890  Little Rock, AR  \n",
       "6891  Little Rock, AR  \n",
       "6892  Little Rock, AR  \n",
       "6893  Little Rock, AR  \n",
       "6894  Little Rock, AR  \n",
       "6895  Little Rock, AR  \n",
       "6896  Little Rock, AR  \n",
       "6897  Little Rock, AR  \n",
       "6898  Little Rock, AR  "
      ],
      "text/html": "<div>\n<style scoped>\n    .dataframe tbody tr th:only-of-type {\n        vertical-align: middle;\n    }\n\n    .dataframe tbody tr th {\n        vertical-align: top;\n    }\n\n    .dataframe thead th {\n        text-align: right;\n    }\n</style>\n<table border=\"1\" class=\"dataframe\">\n  <thead>\n    <tr style=\"text-align: right;\">\n      <th></th>\n      <th>School</th>\n      <th>Score</th>\n      <th>Rating</th>\n      <th>Address</th>\n      <th>Type</th>\n      <th>Grades</th>\n      <th>Total Students Enrolled</th>\n      <th>Students per teacher</th>\n      <th>District</th>\n      <th>High School (9-12)</th>\n      <th>Middle School (6-8)</th>\n      <th>Elementary (K-5)</th>\n      <th>Pre-Kindergarten (PK)</th>\n      <th>City, State</th>\n    </tr>\n  </thead>\n  <tbody>\n    <tr>\n      <th>6841</th>\n      <td>Forest Heights Stem Academy</td>\n      <td>7</td>\n      <td>Above average</td>\n      <td>5901 Evergreen Drive, Little Rock, AR, 72205</td>\n      <td>Public district</td>\n      <td>K-8</td>\n      <td>719.0</td>\n      <td>15:1</td>\n      <td>Little Rock School District</td>\n      <td>0</td>\n      <td>1</td>\n      <td>1</td>\n      <td>0</td>\n      <td>Little Rock, AR</td>\n    </tr>\n    <tr>\n      <th>6842</th>\n      <td>Lisa Academy</td>\n      <td>7</td>\n      <td>Above average</td>\n      <td>21 Corporate Hill Dr, Little Rock, AR, 72205</td>\n      <td>Public charter</td>\n      <td>7-8</td>\n      <td>355.0</td>\n      <td>15:1</td>\n      <td>Lisa Academy Charter</td>\n      <td>0</td>\n      <td>1</td>\n      <td>0</td>\n      <td>0</td>\n      <td>Little Rock, AR</td>\n    </tr>\n    <tr>\n      <th>6843</th>\n      <td>Lisa Academy Chenal</td>\n      <td>6</td>\n      <td>Average</td>\n      <td>12200 Westhaven Drive, Little Rock, AR, 72211</td>\n      <td>Public charter</td>\n      <td>K-6</td>\n      <td>586.0</td>\n      <td>0</td>\n      <td>Lisa Academy Charter</td>\n      <td>0</td>\n      <td>1</td>\n      <td>1</td>\n      <td>0</td>\n      <td>Little Rock, AR</td>\n    </tr>\n    <tr>\n      <th>6844</th>\n      <td>East End Intermediate School</td>\n      <td>6</td>\n      <td>Average</td>\n      <td>5205 West Sawmill Road, Little Rock, AR, 72206</td>\n      <td>Public district</td>\n      <td>3-6</td>\n      <td>530.0</td>\n      <td>20:1</td>\n      <td>Sheridan School District</td>\n      <td>0</td>\n      <td>1</td>\n      <td>1</td>\n      <td>0</td>\n      <td>Little Rock, AR</td>\n    </tr>\n    <tr>\n      <th>6845</th>\n      <td>eStem Middle School</td>\n      <td>5</td>\n      <td>Average</td>\n      <td>112 West 3rd Street, Little Rock, AR, 72201</td>\n      <td>Public charter</td>\n      <td>5-8</td>\n      <td>519.0</td>\n      <td>20:1</td>\n      <td>Estem High Charter</td>\n      <td>0</td>\n      <td>1</td>\n      <td>1</td>\n      <td>0</td>\n      <td>Little Rock, AR</td>\n    </tr>\n    <tr>\n      <th>6846</th>\n      <td>Pinnacle View Middle School</td>\n      <td>5</td>\n      <td>Average</td>\n      <td>5701 Ranch Drive, Little Rock, AR, 72223</td>\n      <td>Public district</td>\n      <td>6</td>\n      <td>515.0</td>\n      <td>0</td>\n      <td>Little Rock School District</td>\n      <td>0</td>\n      <td>1</td>\n      <td>0</td>\n      <td>0</td>\n      <td>Little Rock, AR</td>\n    </tr>\n    <tr>\n      <th>6847</th>\n      <td>Ark. School For The Blind Elementary</td>\n      <td>5</td>\n      <td>Average</td>\n      <td>2600 West Markham Street, Little Rock, AR, 72205</td>\n      <td>Public district</td>\n      <td>PK-6</td>\n      <td>46.0</td>\n      <td>2:1</td>\n      <td>Ark. School For The Blind</td>\n      <td>0</td>\n      <td>1</td>\n      <td>1</td>\n      <td>1</td>\n      <td>Little Rock, AR</td>\n    </tr>\n    <tr>\n      <th>6848</th>\n      <td>Quest Middle School of Little Rock</td>\n      <td>4</td>\n      <td>Below average</td>\n      <td>1815 Rahling Road, Little Rock, AR, 72223</td>\n      <td>Public charter</td>\n      <td>6-10</td>\n      <td>188.0</td>\n      <td>18:1</td>\n      <td>Responsive Education Solutions Quest Middle Sc...</td>\n      <td>1</td>\n      <td>1</td>\n      <td>0</td>\n      <td>0</td>\n      <td>Little Rock, AR</td>\n    </tr>\n    <tr>\n      <th>6849</th>\n      <td>Pulaski Heights Middle School</td>\n      <td>4</td>\n      <td>Below average</td>\n      <td>401 North Pine Street, Little Rock, AR, 72205</td>\n      <td>Public district</td>\n      <td>6-8</td>\n      <td>651.0</td>\n      <td>13:1</td>\n      <td>Little Rock School District</td>\n      <td>0</td>\n      <td>1</td>\n      <td>0</td>\n      <td>0</td>\n      <td>Little Rock, AR</td>\n    </tr>\n    <tr>\n      <th>6850</th>\n      <td>Ark. School For The Blind High School</td>\n      <td>4</td>\n      <td>Below average</td>\n      <td>2600 West Markham Street, Little Rock, AR, 72205</td>\n      <td>Public district</td>\n      <td>7-12</td>\n      <td>48.0</td>\n      <td>2:1</td>\n      <td>Ark. School For The Blind</td>\n      <td>1</td>\n      <td>1</td>\n      <td>0</td>\n      <td>0</td>\n      <td>Little Rock, AR</td>\n    </tr>\n    <tr>\n      <th>6851</th>\n      <td>Fuller Middle School</td>\n      <td>4</td>\n      <td>Below average</td>\n      <td>808 East Dixon Road, Little Rock, AR, 72206</td>\n      <td>Public district</td>\n      <td>6-8</td>\n      <td>447.0</td>\n      <td>12:1</td>\n      <td>Jacksonville North Pulaski School District</td>\n      <td>0</td>\n      <td>1</td>\n      <td>0</td>\n      <td>0</td>\n      <td>Little Rock, AR</td>\n    </tr>\n    <tr>\n      <th>6852</th>\n      <td>Little Rock Prep Academy</td>\n      <td>4</td>\n      <td>Below average</td>\n      <td>1205 South Schiller Street, Little Rock, AR, 7...</td>\n      <td>Public charter</td>\n      <td>4-8</td>\n      <td>213.0</td>\n      <td>11:1</td>\n      <td>Little Rock Preparatory Academy</td>\n      <td>0</td>\n      <td>1</td>\n      <td>1</td>\n      <td>0</td>\n      <td>Little Rock, AR</td>\n    </tr>\n    <tr>\n      <th>6853</th>\n      <td>Mann Magnet Middle School</td>\n      <td>3</td>\n      <td>Below average</td>\n      <td>1000 East Roosevelt Road, Little Rock, AR, 72206</td>\n      <td>Public district</td>\n      <td>6-8</td>\n      <td>810.0</td>\n      <td>14:1</td>\n      <td>Little Rock School District</td>\n      <td>0</td>\n      <td>1</td>\n      <td>0</td>\n      <td>0</td>\n      <td>Little Rock, AR</td>\n    </tr>\n    <tr>\n      <th>6854</th>\n      <td>Joe T. Robinson Middle School</td>\n      <td>3</td>\n      <td>Below average</td>\n      <td>21001 Hwy 10, Little Rock, AR, 72223</td>\n      <td>Public district</td>\n      <td>6-8</td>\n      <td>465.0</td>\n      <td>14:1</td>\n      <td>Jacksonville North Pulaski School District</td>\n      <td>0</td>\n      <td>1</td>\n      <td>0</td>\n      <td>0</td>\n      <td>Little Rock, AR</td>\n    </tr>\n    <tr>\n      <th>6855</th>\n      <td>Arkansas Virtual Academy Jr</td>\n      <td>3</td>\n      <td>Below average</td>\n      <td>10802 Executive Center Drive, Little Rock, AR,...</td>\n      <td>Public charter</td>\n      <td>5-9</td>\n      <td>603.0</td>\n      <td>27:1</td>\n      <td>Arkansas Virtual Academy</td>\n      <td>1</td>\n      <td>1</td>\n      <td>1</td>\n      <td>0</td>\n      <td>Little Rock, AR</td>\n    </tr>\n    <tr>\n      <th>6856</th>\n      <td>Dunbar Magnet Middle School</td>\n      <td>2</td>\n      <td>Below average</td>\n      <td>1100 Wright Avenue, Little Rock, AR, 72206</td>\n      <td>Public district</td>\n      <td>6-8</td>\n      <td>535.0</td>\n      <td>12:1</td>\n      <td>Little Rock School District</td>\n      <td>0</td>\n      <td>1</td>\n      <td>0</td>\n      <td>0</td>\n      <td>Little Rock, AR</td>\n    </tr>\n    <tr>\n      <th>6857</th>\n      <td>Henderson Middle School</td>\n      <td>2</td>\n      <td>Below average</td>\n      <td>401 John Barrow Road, Little Rock, AR, 72205</td>\n      <td>Public district</td>\n      <td>6-8</td>\n      <td>582.0</td>\n      <td>13:1</td>\n      <td>Little Rock School District</td>\n      <td>0</td>\n      <td>1</td>\n      <td>0</td>\n      <td>0</td>\n      <td>Little Rock, AR</td>\n    </tr>\n    <tr>\n      <th>6858</th>\n      <td>Mabelvale Middle School</td>\n      <td>2</td>\n      <td>Below average</td>\n      <td>10811 Mabelvale West Road, Little Rock, AR, 72210</td>\n      <td>Public district</td>\n      <td>6-8</td>\n      <td>604.0</td>\n      <td>12:1</td>\n      <td>Little Rock School District</td>\n      <td>0</td>\n      <td>1</td>\n      <td>0</td>\n      <td>0</td>\n      <td>Little Rock, AR</td>\n    </tr>\n    <tr>\n      <th>6859</th>\n      <td>Cloverdale Middle School</td>\n      <td>1</td>\n      <td>Below average</td>\n      <td>6300 Hinkson Road, Little Rock, AR, 72209</td>\n      <td>Public district</td>\n      <td>6-8</td>\n      <td>610.0</td>\n      <td>12:1</td>\n      <td>Little Rock School District</td>\n      <td>0</td>\n      <td>1</td>\n      <td>0</td>\n      <td>0</td>\n      <td>Little Rock, AR</td>\n    </tr>\n    <tr>\n      <th>6860</th>\n      <td>Christ the King Catholic School</td>\n      <td>0</td>\n      <td>Currently unrated</td>\n      <td>4002 N. Rodney Parham Road, Little Rock, AR, 7...</td>\n      <td>Private</td>\n      <td>PK-8</td>\n      <td>0.0</td>\n      <td>0</td>\n      <td>Unavailable</td>\n      <td>0</td>\n      <td>1</td>\n      <td>1</td>\n      <td>1</td>\n      <td>Little Rock, AR</td>\n    </tr>\n    <tr>\n      <th>6861</th>\n      <td>Clara Mohammed Schools</td>\n      <td>0</td>\n      <td>Currently unrated</td>\n      <td>1219 Charles Bussey Avenue, Little Rock, AR, 7...</td>\n      <td>Private</td>\n      <td>PK-8</td>\n      <td>26.0</td>\n      <td>0</td>\n      <td>Unavailable</td>\n      <td>0</td>\n      <td>1</td>\n      <td>1</td>\n      <td>1</td>\n      <td>Little Rock, AR</td>\n    </tr>\n    <tr>\n      <th>6862</th>\n      <td>Urban Garden Montessori</td>\n      <td>0</td>\n      <td>Currently unrated</td>\n      <td>610 Main Street, Little Rock, AR, 72201</td>\n      <td>Private</td>\n      <td>PK-12</td>\n      <td>0.0</td>\n      <td>0</td>\n      <td>Unavailable</td>\n      <td>1</td>\n      <td>1</td>\n      <td>1</td>\n      <td>1</td>\n      <td>Little Rock, AR</td>\n    </tr>\n    <tr>\n      <th>6863</th>\n      <td>Aspire Christian Academy</td>\n      <td>0</td>\n      <td>Currently unrated</td>\n      <td>12410 Cantrell Rd. #200, Little Rock, AR, 72223</td>\n      <td>Private</td>\n      <td>K-6</td>\n      <td>0.0</td>\n      <td>0</td>\n      <td>Unavailable</td>\n      <td>0</td>\n      <td>1</td>\n      <td>1</td>\n      <td>0</td>\n      <td>Little Rock, AR</td>\n    </tr>\n    <tr>\n      <th>6864</th>\n      <td>Rockbridge Montessori Charter School</td>\n      <td>0</td>\n      <td>Currently unrated</td>\n      <td>108 West Roosevelt Road, Little Rock, AR, 72206</td>\n      <td>Public charter</td>\n      <td>K-6</td>\n      <td>169.0</td>\n      <td>28:1</td>\n      <td>Rockbridge Montessori</td>\n      <td>0</td>\n      <td>1</td>\n      <td>1</td>\n      <td>0</td>\n      <td>Little Rock, AR</td>\n    </tr>\n    <tr>\n      <th>6865</th>\n      <td>Ark. School For The Deaf Elementary</td>\n      <td>0</td>\n      <td>Currently unrated</td>\n      <td>2400 West Markham Street, Little Rock, AR, 72205</td>\n      <td>Public district</td>\n      <td>PK-8</td>\n      <td>78.0</td>\n      <td>3:1</td>\n      <td>Ark. School For The Deaf</td>\n      <td>0</td>\n      <td>1</td>\n      <td>1</td>\n      <td>1</td>\n      <td>Little Rock, AR</td>\n    </tr>\n    <tr>\n      <th>6866</th>\n      <td>St Edwards School</td>\n      <td>0</td>\n      <td>Currently unrated</td>\n      <td>805 Sherman Street, Little Rock, AR, 72202</td>\n      <td>Private</td>\n      <td>PK-8</td>\n      <td>188.0</td>\n      <td>0</td>\n      <td>Unavailable</td>\n      <td>0</td>\n      <td>1</td>\n      <td>1</td>\n      <td>1</td>\n      <td>Little Rock, AR</td>\n    </tr>\n    <tr>\n      <th>6867</th>\n      <td>Our Lady-Holy Souls School</td>\n      <td>0</td>\n      <td>Currently unrated</td>\n      <td>1001 North Tyler Street, Little Rock, AR, 72205</td>\n      <td>Private</td>\n      <td>PK-8</td>\n      <td>501.0</td>\n      <td>0</td>\n      <td>Unavailable</td>\n      <td>0</td>\n      <td>1</td>\n      <td>1</td>\n      <td>1</td>\n      <td>Little Rock, AR</td>\n    </tr>\n    <tr>\n      <th>6868</th>\n      <td>Miss Selma's Schools</td>\n      <td>0</td>\n      <td>Currently unrated</td>\n      <td>7814 T Street, Little Rock, AR, 72227</td>\n      <td>Private</td>\n      <td>PK-6</td>\n      <td>199.0</td>\n      <td>0</td>\n      <td>Unavailable</td>\n      <td>0</td>\n      <td>1</td>\n      <td>1</td>\n      <td>1</td>\n      <td>Little Rock, AR</td>\n    </tr>\n    <tr>\n      <th>6869</th>\n      <td>Pulaski Academy</td>\n      <td>0</td>\n      <td>Currently unrated</td>\n      <td>12701 Hinson Rd, Little Rock, AR, 72212</td>\n      <td>Private</td>\n      <td>PK-12</td>\n      <td>1374.0</td>\n      <td>0</td>\n      <td>Unavailable</td>\n      <td>1</td>\n      <td>1</td>\n      <td>1</td>\n      <td>1</td>\n      <td>Little Rock, AR</td>\n    </tr>\n    <tr>\n      <th>6870</th>\n      <td>Christ Lutheran School</td>\n      <td>0</td>\n      <td>Currently unrated</td>\n      <td>315 S Hughes St, Little Rock, AR, 72205</td>\n      <td>Private</td>\n      <td>PK-8</td>\n      <td>140.0</td>\n      <td>0</td>\n      <td>Unavailable</td>\n      <td>0</td>\n      <td>1</td>\n      <td>1</td>\n      <td>1</td>\n      <td>Little Rock, AR</td>\n    </tr>\n    <tr>\n      <th>6871</th>\n      <td>Heritage Christian School</td>\n      <td>0</td>\n      <td>Currently unrated</td>\n      <td>4910 Stagecoach Road, Little Rock, AR, 72204</td>\n      <td>Private</td>\n      <td>1-12</td>\n      <td>30.0</td>\n      <td>0</td>\n      <td>Unavailable</td>\n      <td>1</td>\n      <td>1</td>\n      <td>1</td>\n      <td>0</td>\n      <td>Little Rock, AR</td>\n    </tr>\n    <tr>\n      <th>6872</th>\n      <td>The Anthony School</td>\n      <td>0</td>\n      <td>Currently unrated</td>\n      <td>7700 Ohio Street, Little Rock, AR, 72227</td>\n      <td>Private</td>\n      <td>PK-8</td>\n      <td>411.0</td>\n      <td>0</td>\n      <td>Unavailable</td>\n      <td>0</td>\n      <td>1</td>\n      <td>1</td>\n      <td>1</td>\n      <td>Little Rock, AR</td>\n    </tr>\n    <tr>\n      <th>6873</th>\n      <td>Shiloh Sda School</td>\n      <td>0</td>\n      <td>Currently unrated</td>\n      <td>2400 South Maple Street, Little Rock, AR, 72204</td>\n      <td>Private</td>\n      <td>K-8</td>\n      <td>7.0</td>\n      <td>0</td>\n      <td>Unavailable</td>\n      <td>0</td>\n      <td>1</td>\n      <td>1</td>\n      <td>0</td>\n      <td>Little Rock, AR</td>\n    </tr>\n    <tr>\n      <th>6874</th>\n      <td>Little Rock Adventist Academy</td>\n      <td>0</td>\n      <td>Currently unrated</td>\n      <td>8708 North Rodney Parham Road, Little Rock, AR...</td>\n      <td>Private</td>\n      <td>K-11</td>\n      <td>33.0</td>\n      <td>0</td>\n      <td>Unavailable</td>\n      <td>1</td>\n      <td>1</td>\n      <td>1</td>\n      <td>0</td>\n      <td>Little Rock, AR</td>\n    </tr>\n    <tr>\n      <th>6875</th>\n      <td>Little Rock Christian Academy</td>\n      <td>0</td>\n      <td>Currently unrated</td>\n      <td>19010 Cantrell Road, Little Rock, AR, 72223</td>\n      <td>Private</td>\n      <td>PK-12</td>\n      <td>1431.0</td>\n      <td>0</td>\n      <td>Unavailable</td>\n      <td>1</td>\n      <td>1</td>\n      <td>1</td>\n      <td>1</td>\n      <td>Little Rock, AR</td>\n    </tr>\n    <tr>\n      <th>6876</th>\n      <td>Central Arkansas Christian: North Little Rock ...</td>\n      <td>0</td>\n      <td>Currently unrated</td>\n      <td>6010 W 53rd St, Little Rock, AR, 72209</td>\n      <td>Private</td>\n      <td>PK-6</td>\n      <td>0.0</td>\n      <td>0</td>\n      <td>Unavailable</td>\n      <td>0</td>\n      <td>1</td>\n      <td>1</td>\n      <td>1</td>\n      <td>Little Rock, AR</td>\n    </tr>\n    <tr>\n      <th>6877</th>\n      <td>Ati'Day Yisroel Preschool</td>\n      <td>0</td>\n      <td>Currently unrated</td>\n      <td>4002 North Rodney Parham Road, Little Rock, AR...</td>\n      <td>Private</td>\n      <td>PK-8</td>\n      <td>658.0</td>\n      <td>0</td>\n      <td>Unavailable</td>\n      <td>0</td>\n      <td>1</td>\n      <td>1</td>\n      <td>1</td>\n      <td>Little Rock, AR</td>\n    </tr>\n    <tr>\n      <th>6878</th>\n      <td>Southwest Christian Academy</td>\n      <td>0</td>\n      <td>Currently unrated</td>\n      <td>11301 Geyer Springs Road, Little Rock, AR, 72209</td>\n      <td>Private</td>\n      <td>PK-12</td>\n      <td>301.0</td>\n      <td>0</td>\n      <td>Unavailable</td>\n      <td>1</td>\n      <td>1</td>\n      <td>1</td>\n      <td>1</td>\n      <td>Little Rock, AR</td>\n    </tr>\n    <tr>\n      <th>6879</th>\n      <td>Victory Christian Schools</td>\n      <td>0</td>\n      <td>Currently unrated</td>\n      <td>5705 West 65th St., Little Rock, AR, 72209</td>\n      <td>Private</td>\n      <td>PK-12</td>\n      <td>0.0</td>\n      <td>0</td>\n      <td>Unavailable</td>\n      <td>1</td>\n      <td>1</td>\n      <td>1</td>\n      <td>1</td>\n      <td>Little Rock, AR</td>\n    </tr>\n    <tr>\n      <th>6880</th>\n      <td>Words Of Outreach Christian Academy</td>\n      <td>0</td>\n      <td>Currently unrated</td>\n      <td>3300 Asher Avenue, Little Rock, AR, 72204</td>\n      <td>Private</td>\n      <td>PK-12</td>\n      <td>45.0</td>\n      <td>0</td>\n      <td>Unavailable</td>\n      <td>1</td>\n      <td>1</td>\n      <td>1</td>\n      <td>1</td>\n      <td>Little Rock, AR</td>\n    </tr>\n    <tr>\n      <th>6881</th>\n      <td>Arkansas Baptist School System</td>\n      <td>0</td>\n      <td>Currently unrated</td>\n      <td>62 Pleasant Valley Drive, Little Rock, AR, 72212</td>\n      <td>Private</td>\n      <td>PK-12</td>\n      <td>701.0</td>\n      <td>0</td>\n      <td>Unavailable</td>\n      <td>1</td>\n      <td>1</td>\n      <td>1</td>\n      <td>1</td>\n      <td>Little Rock, AR</td>\n    </tr>\n    <tr>\n      <th>6882</th>\n      <td>Capital City Christian Academy</td>\n      <td>0</td>\n      <td>Currently unrated</td>\n      <td>7800 1 30 South, Little Rock, AR, 72209</td>\n      <td>Private</td>\n      <td>1-12</td>\n      <td>0.0</td>\n      <td>0</td>\n      <td>Unavailable</td>\n      <td>1</td>\n      <td>1</td>\n      <td>1</td>\n      <td>0</td>\n      <td>Little Rock, AR</td>\n    </tr>\n    <tr>\n      <th>6883</th>\n      <td>Faith Christian School of Litt</td>\n      <td>0</td>\n      <td>Currently unrated</td>\n      <td>6111 W 83rd St, Little Rock, AR, 72209</td>\n      <td>Private</td>\n      <td>PK-8</td>\n      <td>0.0</td>\n      <td>0</td>\n      <td>Unavailable</td>\n      <td>0</td>\n      <td>1</td>\n      <td>1</td>\n      <td>1</td>\n      <td>Little Rock, AR</td>\n    </tr>\n    <tr>\n      <th>6884</th>\n      <td>Clara Muhammad School</td>\n      <td>0</td>\n      <td>Currently unrated</td>\n      <td>1219 W 20th Street, Little Rock, AR, 72216</td>\n      <td>Private</td>\n      <td>K-11</td>\n      <td>31.0</td>\n      <td>0</td>\n      <td>Unavailable</td>\n      <td>1</td>\n      <td>1</td>\n      <td>1</td>\n      <td>0</td>\n      <td>Little Rock, AR</td>\n    </tr>\n    <tr>\n      <th>6885</th>\n      <td>Alternative Agencies</td>\n      <td>0</td>\n      <td>Currently unrated</td>\n      <td>800 Apperson Street, Little Rock, AR, 72202</td>\n      <td>Public district</td>\n      <td>3-12</td>\n      <td>0.0</td>\n      <td>0</td>\n      <td>Little Rock School District</td>\n      <td>1</td>\n      <td>1</td>\n      <td>1</td>\n      <td>0</td>\n      <td>Little Rock, AR</td>\n    </tr>\n    <tr>\n      <th>6886</th>\n      <td>St Theresa Catholic School</td>\n      <td>0</td>\n      <td>Currently unrated</td>\n      <td>6311 Baseline Road, Little Rock, AR, 72209</td>\n      <td>Private</td>\n      <td>PK-8</td>\n      <td>153.0</td>\n      <td>0</td>\n      <td>Unavailable</td>\n      <td>0</td>\n      <td>1</td>\n      <td>1</td>\n      <td>1</td>\n      <td>Little Rock, AR</td>\n    </tr>\n    <tr>\n      <th>6887</th>\n      <td>Chenal Valley Montessori School</td>\n      <td>0</td>\n      <td>Currently unrated</td>\n      <td>14929 Cantrell Road, Little Rock, AR, 72223</td>\n      <td>Private</td>\n      <td>PK-6</td>\n      <td>87.0</td>\n      <td>0</td>\n      <td>Unavailable</td>\n      <td>0</td>\n      <td>1</td>\n      <td>1</td>\n      <td>1</td>\n      <td>Little Rock, AR</td>\n    </tr>\n    <tr>\n      <th>6888</th>\n      <td>The Episcopal Collegiate School</td>\n      <td>0</td>\n      <td>Currently unrated</td>\n      <td>1701 Cantrell Road, Little Rock, AR, 72201</td>\n      <td>Private</td>\n      <td>PK-12</td>\n      <td>782.0</td>\n      <td>0</td>\n      <td>Unavailable</td>\n      <td>1</td>\n      <td>1</td>\n      <td>1</td>\n      <td>1</td>\n      <td>Little Rock, AR</td>\n    </tr>\n    <tr>\n      <th>6889</th>\n      <td>Central Arkansas Christian: Pleasant Valley El...</td>\n      <td>0</td>\n      <td>Currently unrated</td>\n      <td>10900 N Rodney Parham Road, Little Rock, AR, 7...</td>\n      <td>Private</td>\n      <td>PK-6</td>\n      <td>0.0</td>\n      <td>0</td>\n      <td>Unavailable</td>\n      <td>0</td>\n      <td>1</td>\n      <td>1</td>\n      <td>1</td>\n      <td>Little Rock, AR</td>\n    </tr>\n    <tr>\n      <th>6890</th>\n      <td>Felder Alternative Academy</td>\n      <td>0</td>\n      <td>Currently unrated</td>\n      <td>8300 Geyer Springs Rd, Little Rock, AR, 72206</td>\n      <td>Public charter</td>\n      <td>6-12</td>\n      <td>85.0</td>\n      <td>0</td>\n      <td>Little Rock School District</td>\n      <td>1</td>\n      <td>1</td>\n      <td>0</td>\n      <td>0</td>\n      <td>Little Rock, AR</td>\n    </tr>\n    <tr>\n      <th>6891</th>\n      <td>Hebrew Academy Of Arkansas</td>\n      <td>0</td>\n      <td>Currently unrated</td>\n      <td>11905 Fairview Road, Little Rock, AR, 72212</td>\n      <td>Private</td>\n      <td>PK-7</td>\n      <td>24.0</td>\n      <td>0</td>\n      <td>Unavailable</td>\n      <td>0</td>\n      <td>1</td>\n      <td>1</td>\n      <td>1</td>\n      <td>Little Rock, AR</td>\n    </tr>\n    <tr>\n      <th>6892</th>\n      <td>Arkansas River Valley Montessori</td>\n      <td>0</td>\n      <td>Currently unrated</td>\n      <td>1509 North Pierce Street, Little Rock, AR, 72207</td>\n      <td>Private</td>\n      <td>PK-9</td>\n      <td>73.0</td>\n      <td>0</td>\n      <td>Unavailable</td>\n      <td>1</td>\n      <td>1</td>\n      <td>1</td>\n      <td>1</td>\n      <td>Little Rock, AR</td>\n    </tr>\n    <tr>\n      <th>6893</th>\n      <td>E-Stem Public Charter Middle School</td>\n      <td>0</td>\n      <td>Currently unrated</td>\n      <td>112 West Third St 2nd Floor, Little Rock, AR, ...</td>\n      <td>Public charter</td>\n      <td>5-8</td>\n      <td>503.0</td>\n      <td>0</td>\n      <td>Estem Middle Charter</td>\n      <td>0</td>\n      <td>1</td>\n      <td>1</td>\n      <td>0</td>\n      <td>Little Rock, AR</td>\n    </tr>\n    <tr>\n      <th>6894</th>\n      <td>Covenant Keepers Charter School</td>\n      <td>0</td>\n      <td>Currently unrated</td>\n      <td>8300 Geyer Springs Road, Little Rock, AR, 72209</td>\n      <td>Public charter</td>\n      <td>6-8</td>\n      <td>141.0</td>\n      <td>15:1</td>\n      <td>Covenant Keepers Middle Charter</td>\n      <td>0</td>\n      <td>1</td>\n      <td>0</td>\n      <td>0</td>\n      <td>Little Rock, AR</td>\n    </tr>\n    <tr>\n      <th>6895</th>\n      <td>K12 International Academy</td>\n      <td>0</td>\n      <td>Currently unrated</td>\n      <td>Four Capitol Mall , Little Rock, AR, 72201</td>\n      <td>Private</td>\n      <td>K-12</td>\n      <td>0.0</td>\n      <td>0</td>\n      <td>Unavailable</td>\n      <td>1</td>\n      <td>1</td>\n      <td>1</td>\n      <td>0</td>\n      <td>Little Rock, AR</td>\n    </tr>\n    <tr>\n      <th>6896</th>\n      <td>The Keystone School</td>\n      <td>0</td>\n      <td>Currently unrated</td>\n      <td>Four Capitol Mall, Little Rock, AR, 72201</td>\n      <td>Private</td>\n      <td>6-12</td>\n      <td>0.0</td>\n      <td>0</td>\n      <td>Unavailable</td>\n      <td>1</td>\n      <td>1</td>\n      <td>0</td>\n      <td>0</td>\n      <td>Little Rock, AR</td>\n    </tr>\n    <tr>\n      <th>6897</th>\n      <td>Cloverdale Aerospace Tech Charter School</td>\n      <td>0</td>\n      <td>Currently unrated</td>\n      <td>6300 Hinkson Rd, Little Rock, AR, 72209</td>\n      <td>Public charter</td>\n      <td>6-8</td>\n      <td>592.0</td>\n      <td>12:1</td>\n      <td>Little Rock School District</td>\n      <td>0</td>\n      <td>1</td>\n      <td>0</td>\n      <td>0</td>\n      <td>Little Rock, AR</td>\n    </tr>\n    <tr>\n      <th>6898</th>\n      <td>LR Urban Collegiate Charter School</td>\n      <td>0</td>\n      <td>Currently unrated</td>\n      <td>6711 West Markham St, Little Rock, AR, 72205</td>\n      <td>Public charter</td>\n      <td>K-8</td>\n      <td>386.0</td>\n      <td>0</td>\n      <td>LR Urban Collegiate Public Charter</td>\n      <td>0</td>\n      <td>1</td>\n      <td>1</td>\n      <td>0</td>\n      <td>Little Rock, AR</td>\n    </tr>\n  </tbody>\n</table>\n</div>"
     },
     "metadata": {},
     "execution_count": 20
    }
   ],
   "source": [
    "middle['Little Rock, AR']"
   ]
  },
  {
   "cell_type": "code",
   "execution_count": 21,
   "metadata": {},
   "outputs": [],
   "source": [
    "high = pickle.load(open('pickles/high.pkl', 'rb'))"
   ]
  },
  {
   "cell_type": "code",
   "execution_count": 22,
   "metadata": {},
   "outputs": [
    {
     "output_type": "execute_result",
     "data": {
      "text/plain": [
       "                                                School  Score  \\\n",
       "9473                                       Nyc Ischool     10   \n",
       "9474                         Manhattan Village Academy     10   \n",
       "9475                            Stuyvesant High School     10   \n",
       "9476                     Eleanor Roosevelt High School     10   \n",
       "9477                            Millennium High School     10   \n",
       "...                                                ...    ...   \n",
       "9727                   Cristo Rey New York High School      0   \n",
       "9728                        Great Tomorrows USA School      0   \n",
       "9729               United Nations International School      0   \n",
       "9730                     The Ideal School of Manhattan      0   \n",
       "9731  Academy For Social Action A College Board School      0   \n",
       "\n",
       "                 Rating                                     Address  \\\n",
       "9473          Top rated         131 6th Avenue, New York, NY, 10013   \n",
       "9474          Top rated    43 West 22nd Street, New York, NY, 10010   \n",
       "9475          Top rated    345 Chambers Street, New York, NY, 10282   \n",
       "9476          Top rated   411 East 76th Street, New York, NY, 10021   \n",
       "9477          Top rated        75 Broad Street, New York, NY, 10004   \n",
       "...                 ...                                         ...   \n",
       "9727  Currently unrated  112 East 106th Street, New York, NY, 10029   \n",
       "9728  Currently unrated          38 W 123rd St, New York, NY, 10027   \n",
       "9729  Currently unrated           24-50 Fdr Dr, New York, NY, 10010   \n",
       "9730  Currently unrated   314 West 91st Street, New York, NY, 10024   \n",
       "9731  Currently unrated  509 West 129th Street, New York, NY, 10027   \n",
       "\n",
       "                 Type Grades  Total Students Enrolled Students per teacher  \\\n",
       "9473  Public district   9-12                    458.0                 15:1   \n",
       "9474  Public district   9-12                    455.0                 15:1   \n",
       "9475  Public district   9-12                   3334.0                 20:1   \n",
       "9476  Public district   9-12                    538.0                 16:1   \n",
       "9477  Public district   9-12                    668.0                 17:1   \n",
       "...               ...    ...                      ...                  ...   \n",
       "9727          Private   9-12                    380.0                    0   \n",
       "9728          Private   K-11                      0.0                    0   \n",
       "9729          Private  PK-12                      0.0                    0   \n",
       "9730          Private   K-12                    162.0                    0   \n",
       "9731  Public district   8-12                     85.0                  7:1   \n",
       "\n",
       "                               District  High School (9-12)  \\\n",
       "9473  Nyc Geog District # 2 - Manhattan                   1   \n",
       "9474  Nyc Geog District # 2 - Manhattan                   1   \n",
       "9475  Nyc Geog District # 2 - Manhattan                   1   \n",
       "9476  Nyc Geog District # 2 - Manhattan                   1   \n",
       "9477  Nyc Geog District # 2 - Manhattan                   1   \n",
       "...                                 ...                 ...   \n",
       "9727                        Unavailable                   1   \n",
       "9728                        Unavailable                   1   \n",
       "9729                        Unavailable                   1   \n",
       "9730                        Unavailable                   1   \n",
       "9731  Nyc Geog District # 5 - Manhattan                   1   \n",
       "\n",
       "      Middle School (6-8)  Elementary (K-5)  Pre-Kindergarten (PK)  \\\n",
       "9473                    0                 0                      0   \n",
       "9474                    0                 0                      0   \n",
       "9475                    0                 0                      0   \n",
       "9476                    0                 0                      0   \n",
       "9477                    0                 0                      0   \n",
       "...                   ...               ...                    ...   \n",
       "9727                    0                 0                      0   \n",
       "9728                    1                 1                      0   \n",
       "9729                    1                 1                      1   \n",
       "9730                    1                 1                      0   \n",
       "9731                    1                 0                      0   \n",
       "\n",
       "       City, State  \n",
       "9473  New York, NY  \n",
       "9474  New York, NY  \n",
       "9475  New York, NY  \n",
       "9476  New York, NY  \n",
       "9477  New York, NY  \n",
       "...            ...  \n",
       "9727  New York, NY  \n",
       "9728  New York, NY  \n",
       "9729  New York, NY  \n",
       "9730  New York, NY  \n",
       "9731  New York, NY  \n",
       "\n",
       "[259 rows x 14 columns]"
      ],
      "text/html": "<div>\n<style scoped>\n    .dataframe tbody tr th:only-of-type {\n        vertical-align: middle;\n    }\n\n    .dataframe tbody tr th {\n        vertical-align: top;\n    }\n\n    .dataframe thead th {\n        text-align: right;\n    }\n</style>\n<table border=\"1\" class=\"dataframe\">\n  <thead>\n    <tr style=\"text-align: right;\">\n      <th></th>\n      <th>School</th>\n      <th>Score</th>\n      <th>Rating</th>\n      <th>Address</th>\n      <th>Type</th>\n      <th>Grades</th>\n      <th>Total Students Enrolled</th>\n      <th>Students per teacher</th>\n      <th>District</th>\n      <th>High School (9-12)</th>\n      <th>Middle School (6-8)</th>\n      <th>Elementary (K-5)</th>\n      <th>Pre-Kindergarten (PK)</th>\n      <th>City, State</th>\n    </tr>\n  </thead>\n  <tbody>\n    <tr>\n      <th>9473</th>\n      <td>Nyc Ischool</td>\n      <td>10</td>\n      <td>Top rated</td>\n      <td>131 6th Avenue, New York, NY, 10013</td>\n      <td>Public district</td>\n      <td>9-12</td>\n      <td>458.0</td>\n      <td>15:1</td>\n      <td>Nyc Geog District # 2 - Manhattan</td>\n      <td>1</td>\n      <td>0</td>\n      <td>0</td>\n      <td>0</td>\n      <td>New York, NY</td>\n    </tr>\n    <tr>\n      <th>9474</th>\n      <td>Manhattan Village Academy</td>\n      <td>10</td>\n      <td>Top rated</td>\n      <td>43 West 22nd Street, New York, NY, 10010</td>\n      <td>Public district</td>\n      <td>9-12</td>\n      <td>455.0</td>\n      <td>15:1</td>\n      <td>Nyc Geog District # 2 - Manhattan</td>\n      <td>1</td>\n      <td>0</td>\n      <td>0</td>\n      <td>0</td>\n      <td>New York, NY</td>\n    </tr>\n    <tr>\n      <th>9475</th>\n      <td>Stuyvesant High School</td>\n      <td>10</td>\n      <td>Top rated</td>\n      <td>345 Chambers Street, New York, NY, 10282</td>\n      <td>Public district</td>\n      <td>9-12</td>\n      <td>3334.0</td>\n      <td>20:1</td>\n      <td>Nyc Geog District # 2 - Manhattan</td>\n      <td>1</td>\n      <td>0</td>\n      <td>0</td>\n      <td>0</td>\n      <td>New York, NY</td>\n    </tr>\n    <tr>\n      <th>9476</th>\n      <td>Eleanor Roosevelt High School</td>\n      <td>10</td>\n      <td>Top rated</td>\n      <td>411 East 76th Street, New York, NY, 10021</td>\n      <td>Public district</td>\n      <td>9-12</td>\n      <td>538.0</td>\n      <td>16:1</td>\n      <td>Nyc Geog District # 2 - Manhattan</td>\n      <td>1</td>\n      <td>0</td>\n      <td>0</td>\n      <td>0</td>\n      <td>New York, NY</td>\n    </tr>\n    <tr>\n      <th>9477</th>\n      <td>Millennium High School</td>\n      <td>10</td>\n      <td>Top rated</td>\n      <td>75 Broad Street, New York, NY, 10004</td>\n      <td>Public district</td>\n      <td>9-12</td>\n      <td>668.0</td>\n      <td>17:1</td>\n      <td>Nyc Geog District # 2 - Manhattan</td>\n      <td>1</td>\n      <td>0</td>\n      <td>0</td>\n      <td>0</td>\n      <td>New York, NY</td>\n    </tr>\n    <tr>\n      <th>...</th>\n      <td>...</td>\n      <td>...</td>\n      <td>...</td>\n      <td>...</td>\n      <td>...</td>\n      <td>...</td>\n      <td>...</td>\n      <td>...</td>\n      <td>...</td>\n      <td>...</td>\n      <td>...</td>\n      <td>...</td>\n      <td>...</td>\n      <td>...</td>\n    </tr>\n    <tr>\n      <th>9727</th>\n      <td>Cristo Rey New York High School</td>\n      <td>0</td>\n      <td>Currently unrated</td>\n      <td>112 East 106th Street, New York, NY, 10029</td>\n      <td>Private</td>\n      <td>9-12</td>\n      <td>380.0</td>\n      <td>0</td>\n      <td>Unavailable</td>\n      <td>1</td>\n      <td>0</td>\n      <td>0</td>\n      <td>0</td>\n      <td>New York, NY</td>\n    </tr>\n    <tr>\n      <th>9728</th>\n      <td>Great Tomorrows USA School</td>\n      <td>0</td>\n      <td>Currently unrated</td>\n      <td>38 W 123rd St, New York, NY, 10027</td>\n      <td>Private</td>\n      <td>K-11</td>\n      <td>0.0</td>\n      <td>0</td>\n      <td>Unavailable</td>\n      <td>1</td>\n      <td>1</td>\n      <td>1</td>\n      <td>0</td>\n      <td>New York, NY</td>\n    </tr>\n    <tr>\n      <th>9729</th>\n      <td>United Nations International School</td>\n      <td>0</td>\n      <td>Currently unrated</td>\n      <td>24-50 Fdr Dr, New York, NY, 10010</td>\n      <td>Private</td>\n      <td>PK-12</td>\n      <td>0.0</td>\n      <td>0</td>\n      <td>Unavailable</td>\n      <td>1</td>\n      <td>1</td>\n      <td>1</td>\n      <td>1</td>\n      <td>New York, NY</td>\n    </tr>\n    <tr>\n      <th>9730</th>\n      <td>The Ideal School of Manhattan</td>\n      <td>0</td>\n      <td>Currently unrated</td>\n      <td>314 West 91st Street, New York, NY, 10024</td>\n      <td>Private</td>\n      <td>K-12</td>\n      <td>162.0</td>\n      <td>0</td>\n      <td>Unavailable</td>\n      <td>1</td>\n      <td>1</td>\n      <td>1</td>\n      <td>0</td>\n      <td>New York, NY</td>\n    </tr>\n    <tr>\n      <th>9731</th>\n      <td>Academy For Social Action A College Board School</td>\n      <td>0</td>\n      <td>Currently unrated</td>\n      <td>509 West 129th Street, New York, NY, 10027</td>\n      <td>Public district</td>\n      <td>8-12</td>\n      <td>85.0</td>\n      <td>7:1</td>\n      <td>Nyc Geog District # 5 - Manhattan</td>\n      <td>1</td>\n      <td>1</td>\n      <td>0</td>\n      <td>0</td>\n      <td>New York, NY</td>\n    </tr>\n  </tbody>\n</table>\n<p>259 rows × 14 columns</p>\n</div>"
     },
     "metadata": {},
     "execution_count": 22
    }
   ],
   "source": [
    "high['New York, NY']"
   ]
  },
  {
   "cell_type": "code",
   "execution_count": null,
   "metadata": {},
   "outputs": [],
   "source": []
  }
 ]
}