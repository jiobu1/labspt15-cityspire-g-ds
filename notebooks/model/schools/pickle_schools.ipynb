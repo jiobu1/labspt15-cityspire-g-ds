{
 "metadata": {
  "language_info": {
   "codemirror_mode": {
    "name": "ipython",
    "version": 3
   },
   "file_extension": ".py",
   "mimetype": "text/x-python",
   "name": "python",
   "nbconvert_exporter": "python",
   "pygments_lexer": "ipython3",
   "version": "3.8.6"
  },
  "orig_nbformat": 2,
  "kernelspec": {
   "name": "python386jvsc74a57bd02419ad2920cdc1fadb8f0ae6c1b14e969f8d411f4ecfa904fb0f4ff9d9e2f541",
   "display_name": "Python 3.8.6 64-bit ('3.8.6': pyenv)"
  }
 },
 "nbformat": 4,
 "nbformat_minor": 2,
 "cells": [
  {
   "source": [
    "## Testing if pickled model is faster for lookup"
   ],
   "cell_type": "markdown",
   "metadata": {}
  },
  {
   "cell_type": "code",
   "execution_count": null,
   "metadata": {},
   "outputs": [],
   "source": [
    "MODEL2_FILEPATH = os.path.join(os.path.dirname(__file__), \"pickle_models\", \"strains_num.pkl\")\n",
    "\n",
    "with open(MODEL2_FILEPATH, \"wb\") as model_file:\n",
    "    print(\"SAVE PICKLE 2\")\n",
    "    pickle.dump(cannabis_ordered, model_file, protocol=pickle.HIGHEST_PROTOCOL)"
   ]
  },
  {
   "cell_type": "code",
   "execution_count": null,
   "metadata": {},
   "outputs": [],
   "source": [
    "MODEL_FILEPATH = os.path.join(os.path.dirname(__file__), \"pickle_models\", \"strains.pkl\")\n",
    "\n",
    "with open(MODEL_FILEPATH, \"wb\") as model_file:\n",
    "    print(\"SAVE PICKLE 1\")\n",
    "    pickle.dump(cannabis_dict, model_file, protocol=pickle.HIGHEST_PROTOCOL)"
   ]
  },
  {
   "cell_type": "code",
   "execution_count": 1,
   "metadata": {},
   "outputs": [
    {
     "output_type": "stream",
     "name": "stderr",
     "text": [
      "/Users/jisha/.pyenv/versions/3.8.6/lib/python3.8/site-packages/pandas/compat/__init__.py:120: UserWarning: Could not import the lzma module. Your installed Python is incomplete. Attempting to use lzma compression will result in a RuntimeError.\n  warnings.warn(msg)\n"
     ]
    }
   ],
   "source": [
    "import pandas as pd\n",
    "\n",
    "school = pd.read_csv('../../datasets/data/schools/csv/final_school.csv')"
   ]
  },
  {
   "cell_type": "code",
   "execution_count": null,
   "metadata": {},
   "outputs": [],
   "source": [
    "school.columns"
   ]
  },
  {
   "cell_type": "code",
   "execution_count": null,
   "metadata": {},
   "outputs": [],
   "source": [
    "pre_k = school[school['Pre-Kindergarten (PK)'] == 1]\n",
    "elem = school[school['Elementary (K-5)'] == 1]\n",
    "middle = school[school['Middle School (6-8)'] == 1]\n",
    "high = school[school['High School (9-12)'] == 1]\n",
    "\n",
    "print(pre_k.shape, elem.shape, middle.shape, high.shape)"
   ]
  },
  {
   "cell_type": "code",
   "execution_count": null,
   "metadata": {},
   "outputs": [],
   "source": [
    "#Pickle dictionary for strains route\n",
    "pre_k.reset_index(drop=True, inplace=True)\n",
    "pk_dict = pre_k.groupby('City', 'Stateto_dict(orient='records')"
   ]
  },
  {
   "cell_type": "code",
   "execution_count": null,
   "metadata": {},
   "outputs": [],
   "source": []
  },
  {
   "cell_type": "code",
   "execution_count": null,
   "metadata": {},
   "outputs": [],
   "source": []
  },
  {
   "cell_type": "code",
   "execution_count": null,
   "metadata": {},
   "outputs": [],
   "source": []
  },
  {
   "cell_type": "code",
   "execution_count": null,
   "metadata": {},
   "outputs": [],
   "source": []
  },
  {
   "cell_type": "code",
   "execution_count": null,
   "metadata": {},
   "outputs": [],
   "source": []
  },
  {
   "cell_type": "code",
   "execution_count": null,
   "metadata": {},
   "outputs": [],
   "source": []
  },
  {
   "cell_type": "code",
   "execution_count": null,
   "metadata": {},
   "outputs": [],
   "source": []
  },
  {
   "cell_type": "code",
   "execution_count": null,
   "metadata": {},
   "outputs": [],
   "source": []
  }
 ]
}