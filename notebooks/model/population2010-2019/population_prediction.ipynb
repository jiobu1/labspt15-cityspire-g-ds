{
 "metadata": {
  "language_info": {
   "codemirror_mode": {
    "name": "ipython",
    "version": 3
   },
   "file_extension": ".py",
   "mimetype": "text/x-python",
   "name": "python",
   "nbconvert_exporter": "python",
   "pygments_lexer": "ipython3",
   "version": "3.8.6"
  },
  "orig_nbformat": 2,
  "kernelspec": {
   "name": "python386jvsc74a57bd02419ad2920cdc1fadb8f0ae6c1b14e969f8d411f4ecfa904fb0f4ff9d9e2f541",
   "display_name": "Python 3.8.6 64-bit ('3.8.6': pyenv)"
  }
 },
 "nbformat": 4,
 "nbformat_minor": 2,
 "cells": [
  {
   "source": [
    "# Population forecasting\n",
    "\n",
    "1. Clean population dataframe\n",
    "2. Transform dataframe\n",
    "3. Forecast population using **fb prophet**"
   ],
   "cell_type": "markdown",
   "metadata": {}
  },
  {
   "source": [
    "## 1. Clean population dataframe"
   ],
   "cell_type": "markdown",
   "metadata": {}
  },
  {
   "cell_type": "code",
   "execution_count": null,
   "metadata": {},
   "outputs": [],
   "source": [
    "import pandas as pd\n",
    "import numpy as np"
   ]
  },
  {
   "cell_type": "code",
   "execution_count": null,
   "metadata": {},
   "outputs": [],
   "source": [
    "population = pd.read_csv('https://raw.githubusercontent.com/Lambda-School-Labs/PT17_cityspire-a-ds/main/notebooks/datasets/data/population2010-2019/metropop_2010_2019.csv')"
   ]
  },
  {
   "source": [
    "### Check population csv"
   ],
   "cell_type": "markdown",
   "metadata": {}
  },
  {
   "cell_type": "code",
   "execution_count": null,
   "metadata": {},
   "outputs": [],
   "source": [
    "print(population.shape)\n",
    "population.head()"
   ]
  },
  {
   "source": [
    "### Combine city state\n",
    "- use explode to separate combined cities\n",
    "- combine separated city and states"
   ],
   "cell_type": "markdown",
   "metadata": {}
  },
  {
   "cell_type": "code",
   "execution_count": null,
   "metadata": {},
   "outputs": [],
   "source": [
    "def explode_str(population, col='Metro-Area', sep='-'):\n",
    "    s = population[col]\n",
    "    i = np.arange(len(s)).repeat(s.str.count(sep) +1)\n",
    "    return population.iloc[i].assign(**{col: sep.join(s).split(sep)})\n",
    "\n",
    "population = explode_str(population)"
   ]
  },
  {
   "cell_type": "code",
   "execution_count": null,
   "metadata": {},
   "outputs": [],
   "source": [
    "population['Metro-Area'] = population['Metro-Area'].str.strip()"
   ]
  },
  {
   "cell_type": "code",
   "execution_count": null,
   "metadata": {},
   "outputs": [],
   "source": [
    "def explode_str(population, col='State', sep='-'):\n",
    "    s = population[col]\n",
    "    i = np.arange(len(s)).repeat(s.str.count(sep) +1)\n",
    "    return population.iloc[i].assign(**{col: sep.join(s).split(sep)})\n",
    "\n",
    "population = explode_str(population)"
   ]
  },
  {
   "cell_type": "code",
   "execution_count": null,
   "metadata": {},
   "outputs": [],
   "source": [
    "population['State'] = population['State'].str.strip()"
   ]
  },
  {
   "cell_type": "code",
   "execution_count": null,
   "metadata": {},
   "outputs": [],
   "source": [
    "print(population['Metro-Area'].nunique())\n",
    "population['Metro-Area'].unique()"
   ]
  },
  {
   "cell_type": "code",
   "execution_count": null,
   "metadata": {},
   "outputs": [],
   "source": [
    "population = population[population['Metro-Area'] != '']"
   ]
  },
  {
   "cell_type": "code",
   "execution_count": null,
   "metadata": {},
   "outputs": [],
   "source": [
    "print(population['State'].nunique())\n",
    "population['State'].unique()"
   ]
  },
  {
   "cell_type": "code",
   "execution_count": null,
   "metadata": {},
   "outputs": [],
   "source": [
    "population['City,State'] = population['Metro-Area'] + ', ' + population['State']"
   ]
  },
  {
   "cell_type": "code",
   "execution_count": null,
   "metadata": {},
   "outputs": [],
   "source": [
    "population.shape"
   ]
  },
  {
   "source": [
    "### Drop duplicate rows and unused columns"
   ],
   "cell_type": "markdown",
   "metadata": {}
  },
  {
   "cell_type": "code",
   "execution_count": null,
   "metadata": {},
   "outputs": [],
   "source": [
    "population[population.duplicated(subset=['City,State'], keep=False)]"
   ]
  },
  {
   "cell_type": "code",
   "execution_count": null,
   "metadata": {},
   "outputs": [],
   "source": [
    "population = population.drop_duplicates(subset=['City,State' ], keep='last')\n",
    "print(population.shape)"
   ]
  },
  {
   "cell_type": "code",
   "execution_count": null,
   "metadata": {},
   "outputs": [],
   "source": [
    "population = population.drop(columns = ['Census', 'Estimate Base', 'Metro-Area', 'State'])\n",
    "population = population[['City,State', '2010', '2011', '2012', '2013', '2014', '2015', '2016', '2017', '2018', '2019']]"
   ]
  },
  {
   "cell_type": "code",
   "execution_count": null,
   "metadata": {},
   "outputs": [],
   "source": [
    "print(population.shape)\n",
    "population.head()"
   ]
  },
  {
   "source": [
    "## 2. Stack dataframe \n",
    "- this is to try the groupby so I don't have to create separate csv's and run each city csv separately\n",
    "- https://stackoverflow.com/questions/64179626/stack-unstack-melt-pivot-transpose-what-is-the-simple-method-to-convert-mul"
   ],
   "cell_type": "markdown",
   "metadata": {}
  },
  {
   "cell_type": "code",
   "execution_count": null,
   "metadata": {},
   "outputs": [],
   "source": [
    "population_melt = (population.melt(id_vars=['City,State'],\n",
    "                    var_name = 'ds',\n",
    "                    value_name = 'y'\n",
    "                    ).reset_index(drop=True))"
   ]
  },
  {
   "cell_type": "code",
   "execution_count": null,
   "metadata": {},
   "outputs": [],
   "source": [
    "population_melt"
   ]
  },
  {
   "source": [
    "## 3. Forecast population using **fb prophet**"
   ],
   "cell_type": "markdown",
   "metadata": {}
  },
  {
   "cell_type": "code",
   "execution_count": null,
   "metadata": {},
   "outputs": [],
   "source": [
    "from fbprophet import Prophet\n",
    "from fbprophet.plot import add_changepoints_to_plot"
   ]
  },
  {
   "cell_type": "code",
   "execution_count": null,
   "metadata": {},
   "outputs": [],
   "source": [
    "cities_list = list(population['City,State'])"
   ]
  },
  {
   "cell_type": "code",
   "execution_count": null,
   "metadata": {},
   "outputs": [],
   "source": [
    "def rnd_series(city):\n",
    "    subset = population_melt[population_melt['City,State']== city]\n",
    "    dates = (pd.DataFrame({'ds': pd.to_datetime(population_melt['ds'])}))\n",
    "    \n",
    "    return subset"
   ]
  },
  {
   "cell_type": "code",
   "execution_count": null,
   "metadata": {},
   "outputs": [],
   "source": [
    "series = [rnd_series(city) for city in cities_list]"
   ]
  },
  {
   "cell_type": "code",
   "execution_count": null,
   "metadata": {},
   "outputs": [],
   "source": [
    "len(series)"
   ]
  },
  {
   "cell_type": "code",
   "execution_count": null,
   "metadata": {},
   "outputs": [],
   "source": [
    "series[0]"
   ]
  },
  {
   "cell_type": "code",
   "execution_count": null,
   "metadata": {},
   "outputs": [],
   "source": [
    "def run_prophet(series):\n",
    "    model = Prophet(daily_seasonality=False,\n",
    "                    weekly_seasonality=False,\n",
    "                    yearly_seasonality=False)\n",
    "    model.fit(series)\n",
    "    forecast = model.make_future_dataframe(periods=10, freq='Y')\n",
    "    forecast = model.predict(forecast)\n",
    "    forecast = forecast[['ds', 'yhat', 'yhat_lower', 'yhat_upper']]\n",
    "    forecast['City,State'] = series['City,State'].iloc[0]\n",
    "    forecast = forecast[['City,State','ds', 'yhat', 'yhat_lower', 'yhat_upper']]\n",
    "\n",
    "    return forecast"
   ]
  },
  {
   "cell_type": "code",
   "execution_count": null,
   "metadata": {},
   "outputs": [],
   "source": [
    "f = run_prophet(series[0])\n",
    "f.head()"
   ]
  },
  {
   "cell_type": "code",
   "execution_count": null,
   "metadata": {},
   "outputs": [],
   "source": [
    "from time import time, ctime"
   ]
  },
  {
   "cell_type": "code",
   "execution_count": null,
   "metadata": {},
   "outputs": [],
   "source": [
    "start = ctime()\n",
    "\n",
    "for i in range(len(series)):\n",
    "    f = run_prophet(series[i])\n",
    "    f.to_csv('population_prediction.csv', mode='a', index='False')\n",
    "\n",
    "end = ctime()\n",
    "print(f'Total time: {end-start} = {end} - {start}')"
   ]
  },
  {
   "cell_type": "code",
   "execution_count": null,
   "metadata": {},
   "outputs": [],
   "source": [
    "predictions = pd.read_csv('population_prediction.csv')"
   ]
  },
  {
   "cell_type": "code",
   "execution_count": null,
   "metadata": {},
   "outputs": [],
   "source": [
    "prediction.loc[prediction['City,State'] == 'City,State']"
   ]
  }
 ]
}