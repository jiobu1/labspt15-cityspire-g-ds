{
 "metadata": {
  "language_info": {
   "codemirror_mode": {
    "name": "ipython",
    "version": 3
   },
   "file_extension": ".py",
   "mimetype": "text/x-python",
   "name": "python",
   "nbconvert_exporter": "python",
   "pygments_lexer": "ipython3",
   "version": "3.8.6"
  },
  "orig_nbformat": 2,
  "kernelspec": {
   "name": "python386jvsc74a57bd02419ad2920cdc1fadb8f0ae6c1b14e969f8d411f4ecfa904fb0f4ff9d9e2f541",
   "display_name": "Python 3.8.6 64-bit ('3.8.6': pyenv)"
  }
 },
 "nbformat": 4,
 "nbformat_minor": 2,
 "cells": [
  {
   "source": [
    "# Population forecasting\n",
    "\n",
    "1. Clean population dataframe\n",
    "2. Transform dataframe\n",
    "3. Forecast population using **fb prophet**"
   ],
   "cell_type": "markdown",
   "metadata": {}
  },
  {
   "source": [
    "## 1. Clean population dataframe"
   ],
   "cell_type": "markdown",
   "metadata": {}
  },
  {
   "cell_type": "code",
   "execution_count": 1,
   "metadata": {},
   "outputs": [
    {
     "output_type": "stream",
     "name": "stderr",
     "text": [
      "/Users/jisha/.pyenv/versions/3.8.6/lib/python3.8/site-packages/pandas/compat/__init__.py:120: UserWarning: Could not import the lzma module. Your installed Python is incomplete. Attempting to use lzma compression will result in a RuntimeError.\n  warnings.warn(msg)\n"
     ]
    }
   ],
   "source": [
    "import pandas as pd\n",
    "import numpy as np"
   ]
  },
  {
   "cell_type": "code",
   "execution_count": 2,
   "metadata": {},
   "outputs": [],
   "source": [
    "population = pd.read_csv('https://raw.githubusercontent.com/Lambda-School-Labs/PT17_cityspire-a-ds/main/notebooks/datasets/data/population2010-2019/metropop_2010_2019.csv')"
   ]
  },
  {
   "source": [
    "### Check population csv"
   ],
   "cell_type": "markdown",
   "metadata": {}
  },
  {
   "cell_type": "code",
   "execution_count": 3,
   "metadata": {},
   "outputs": [
    {
     "output_type": "stream",
     "name": "stdout",
     "text": [
      "(415, 14)\n"
     ]
    },
    {
     "output_type": "execute_result",
     "data": {
      "text/plain": [
       "                Metro-Area State    Census  Estimate Base      2010      2011  \\\n",
       "0                  Abilene    TX  165252.0       165252.0  165585.0  166634.0   \n",
       "1                    Akron    OH  703200.0       703196.0  703031.0  703200.0   \n",
       "2                   Albany    GA  153857.0       154033.0  154145.0  154545.0   \n",
       "3           Albany-Lebanon    OR  116672.0       116681.0  116891.0  118164.0   \n",
       "4  Albany-Schenectady-Troy    NY  870716.0       870713.0  871082.0  872778.0   \n",
       "\n",
       "       2012      2013      2014      2015      2016      2017      2018  \\\n",
       "0  167442.0  167473.0  168342.0  169688.0  170017.0  170429.0  171150.0   \n",
       "1  702109.0  703621.0  704908.0  704382.0  703524.0  703987.0  703855.0   \n",
       "2  153976.0  152667.0  151949.0  150387.0  149137.0  148090.0  147840.0   \n",
       "3  118273.0  118405.0  119042.0  120236.0  122769.0  125035.0  127451.0   \n",
       "4  874698.0  877065.0  878113.0  879085.0  879792.0  882158.0  882263.0   \n",
       "\n",
       "       2019  \n",
       "0  172060.0  \n",
       "1  703479.0  \n",
       "2  146726.0  \n",
       "3  129749.0  \n",
       "4  880381.0  "
      ],
      "text/html": "<div>\n<style scoped>\n    .dataframe tbody tr th:only-of-type {\n        vertical-align: middle;\n    }\n\n    .dataframe tbody tr th {\n        vertical-align: top;\n    }\n\n    .dataframe thead th {\n        text-align: right;\n    }\n</style>\n<table border=\"1\" class=\"dataframe\">\n  <thead>\n    <tr style=\"text-align: right;\">\n      <th></th>\n      <th>Metro-Area</th>\n      <th>State</th>\n      <th>Census</th>\n      <th>Estimate Base</th>\n      <th>2010</th>\n      <th>2011</th>\n      <th>2012</th>\n      <th>2013</th>\n      <th>2014</th>\n      <th>2015</th>\n      <th>2016</th>\n      <th>2017</th>\n      <th>2018</th>\n      <th>2019</th>\n    </tr>\n  </thead>\n  <tbody>\n    <tr>\n      <th>0</th>\n      <td>Abilene</td>\n      <td>TX</td>\n      <td>165252.0</td>\n      <td>165252.0</td>\n      <td>165585.0</td>\n      <td>166634.0</td>\n      <td>167442.0</td>\n      <td>167473.0</td>\n      <td>168342.0</td>\n      <td>169688.0</td>\n      <td>170017.0</td>\n      <td>170429.0</td>\n      <td>171150.0</td>\n      <td>172060.0</td>\n    </tr>\n    <tr>\n      <th>1</th>\n      <td>Akron</td>\n      <td>OH</td>\n      <td>703200.0</td>\n      <td>703196.0</td>\n      <td>703031.0</td>\n      <td>703200.0</td>\n      <td>702109.0</td>\n      <td>703621.0</td>\n      <td>704908.0</td>\n      <td>704382.0</td>\n      <td>703524.0</td>\n      <td>703987.0</td>\n      <td>703855.0</td>\n      <td>703479.0</td>\n    </tr>\n    <tr>\n      <th>2</th>\n      <td>Albany</td>\n      <td>GA</td>\n      <td>153857.0</td>\n      <td>154033.0</td>\n      <td>154145.0</td>\n      <td>154545.0</td>\n      <td>153976.0</td>\n      <td>152667.0</td>\n      <td>151949.0</td>\n      <td>150387.0</td>\n      <td>149137.0</td>\n      <td>148090.0</td>\n      <td>147840.0</td>\n      <td>146726.0</td>\n    </tr>\n    <tr>\n      <th>3</th>\n      <td>Albany-Lebanon</td>\n      <td>OR</td>\n      <td>116672.0</td>\n      <td>116681.0</td>\n      <td>116891.0</td>\n      <td>118164.0</td>\n      <td>118273.0</td>\n      <td>118405.0</td>\n      <td>119042.0</td>\n      <td>120236.0</td>\n      <td>122769.0</td>\n      <td>125035.0</td>\n      <td>127451.0</td>\n      <td>129749.0</td>\n    </tr>\n    <tr>\n      <th>4</th>\n      <td>Albany-Schenectady-Troy</td>\n      <td>NY</td>\n      <td>870716.0</td>\n      <td>870713.0</td>\n      <td>871082.0</td>\n      <td>872778.0</td>\n      <td>874698.0</td>\n      <td>877065.0</td>\n      <td>878113.0</td>\n      <td>879085.0</td>\n      <td>879792.0</td>\n      <td>882158.0</td>\n      <td>882263.0</td>\n      <td>880381.0</td>\n    </tr>\n  </tbody>\n</table>\n</div>"
     },
     "metadata": {},
     "execution_count": 3
    }
   ],
   "source": [
    "print(population.shape)\n",
    "population.head()"
   ]
  },
  {
   "source": [
    "### Combine city state\n",
    "- use explode to separate combined cities\n",
    "- combine separated city and states"
   ],
   "cell_type": "markdown",
   "metadata": {}
  },
  {
   "cell_type": "code",
   "execution_count": 4,
   "metadata": {},
   "outputs": [],
   "source": [
    "def explode_str(population, col='Metro-Area', sep='-'):\n",
    "    s = population[col]\n",
    "    i = np.arange(len(s)).repeat(s.str.count(sep) +1)\n",
    "    return population.iloc[i].assign(**{col: sep.join(s).split(sep)})\n",
    "\n",
    "population = explode_str(population)"
   ]
  },
  {
   "cell_type": "code",
   "execution_count": 5,
   "metadata": {},
   "outputs": [],
   "source": [
    "population['Metro-Area'] = population['Metro-Area'].str.strip()"
   ]
  },
  {
   "cell_type": "code",
   "execution_count": 6,
   "metadata": {},
   "outputs": [],
   "source": [
    "def explode_str(population, col='State', sep='-'):\n",
    "    s = population[col]\n",
    "    i = np.arange(len(s)).repeat(s.str.count(sep) +1)\n",
    "    return population.iloc[i].assign(**{col: sep.join(s).split(sep)})\n",
    "\n",
    "population = explode_str(population)"
   ]
  },
  {
   "cell_type": "code",
   "execution_count": 7,
   "metadata": {},
   "outputs": [],
   "source": [
    "population['State'] = population['State'].str.strip()"
   ]
  },
  {
   "cell_type": "code",
   "execution_count": 8,
   "metadata": {},
   "outputs": [
    {
     "output_type": "stream",
     "name": "stdout",
     "text": [
      "575\n"
     ]
    },
    {
     "output_type": "execute_result",
     "data": {
      "text/plain": [
       "array(['Abilene', 'Akron', 'Albany', 'Lebanon', 'Schenectady', 'Troy',\n",
       "       'Albuquerque', 'Alexandria', 'Allentown', 'Bethlehem', 'Easton',\n",
       "       'Altoona', 'Amarillo', 'Ames', 'Anchorage', 'Ann Arbor',\n",
       "       'Anniston', 'Oxford', 'Appleton', 'Asheville', 'Athens',\n",
       "       'Clarke County', 'Atlanta', 'Sandy Springs', 'Alpharetta',\n",
       "       'Atlantic City', 'Hammonton', 'Auburn', 'Opelika', 'Augusta',\n",
       "       'Richmond County', 'Austin', 'Round Rock', 'Georgetown',\n",
       "       'Bakersfield', 'Baltimore', 'Columbia', 'Towson', 'Bangor',\n",
       "       'Barnstable Town', 'Baton Rouge', 'Battle Creek', 'Bay City',\n",
       "       'Beaumont', 'Port Arthur', 'Beckley', 'Bellingham', 'Bend',\n",
       "       'Billings', 'Binghamton', 'Birmingham', 'Hoover', 'Bismarck',\n",
       "       'Blacksburg', 'Christiansburg', 'Bloomington', 'Bloomsburg',\n",
       "       'Berwick', 'Boise City', 'Boston', 'Cambridge', 'Newton',\n",
       "       'Framingham', 'Rockingham County', 'Strafford County', 'Boulder',\n",
       "       'Bowling Green', 'Bremerton', 'Silverdale', 'Port Orchard',\n",
       "       'Bridgeport', 'Stamford', 'Norwalk', 'Brownsville', 'Harlingen',\n",
       "       'Brunswick', 'Buffalo', 'Cheektowaga', 'Burlington',\n",
       "       'South Burlington', 'California', 'Lexington Park', 'Canton',\n",
       "       'Massillon', 'Cape Coral', 'Fort Myers', 'Cape Girardeau',\n",
       "       'Carbondale', 'Marion', 'Carson City', 'Casper', 'Cedar Rapids',\n",
       "       'Chambersburg', 'Waynesboro', 'Champaign', 'Urbana', 'Charleston',\n",
       "       'North Charleston', 'Charlotte', 'Concord', 'Gastonia',\n",
       "       'Charlottesville', 'Chattanooga', 'Cheyenne', 'Chicago',\n",
       "       'Naperville', 'Elgin', 'Evanston', 'Gary', 'Lake County',\n",
       "       'Kenosha County', 'Chico', 'Cincinnati', 'Clarksville',\n",
       "       'Cleveland', 'Elyria', \"Coeur d'Alene\", 'College Station', 'Bryan',\n",
       "       'Colorado Springs', 'Columbus', 'Corpus Christi', 'Corvallis',\n",
       "       'Crestview', 'Fort Walton Beach', 'Destin', 'Cumberland', 'Dallas',\n",
       "       'Fort Worth', 'Arlington', 'Plano', 'Irving', 'Grapevine',\n",
       "       'Dalton', 'Danville', 'Daphne', 'Fairhope', 'Foley', 'Davenport',\n",
       "       'Moline', 'Rock Island', 'Dayton', 'Kettering', 'Decatur',\n",
       "       'Deltona', 'Daytona Beach', 'Ormond Beach', 'Denver', 'Aurora',\n",
       "       'Lakewood', 'Des Moines', 'West Des Moines', 'Detroit', 'Warren',\n",
       "       'Dearborn', 'Livonia', 'Farmington Hills', 'Dothan', 'Dover',\n",
       "       'Dubuque', 'Duluth', 'Durham', 'Chapel Hill', 'East Stroudsburg',\n",
       "       'Eau Claire', 'El Centro', 'Elizabethtown', 'Fort Knox', 'Elkhart',\n",
       "       'Goshen', 'Elmira', 'El Paso', 'Enid', 'Erie', 'Eugene',\n",
       "       'Springfield', 'Evansville', 'Fairbanks', 'Fargo', 'Farmington',\n",
       "       'Fayetteville', 'Springdale', 'Rogers', 'Flagstaff', 'Flint',\n",
       "       'Florence', 'Muscle Shoals', 'Fond du Lac', 'Fort Collins',\n",
       "       'Fort Smith', 'Fort Wayne', 'Fresno', 'Gadsden', 'Gainesville',\n",
       "       'Gettysburg', 'Glens Falls', 'Goldsboro', 'Grand Forks',\n",
       "       'Grand Island', 'Grand Junction', 'Grand Rapids', 'Kentwood',\n",
       "       'Grants Pass', 'Great Falls', 'Greeley', 'Green Bay', 'Greensboro',\n",
       "       'High Point', 'Greenville', 'Anderson', 'Gulfport', 'Biloxi',\n",
       "       'Hagerstown', 'Martinsburg', 'Hammond', 'Hanford', 'Corcoran',\n",
       "       'Harrisburg', 'Carlisle', 'Harrisonburg', 'Hartford',\n",
       "       'East Hartford', 'Middletown', 'Hattiesburg', 'Hickory', 'Lenoir',\n",
       "       'Morganton', 'Hilton Head Island', 'Bluffton', 'Hinesville',\n",
       "       'Homosassa Springs', 'Hot Springs', 'Houma', 'Thibodaux',\n",
       "       'Houston', 'The Woodlands', 'Sugar Land', 'Huntington', 'Ashland',\n",
       "       'Huntsville', 'Idaho Falls', 'Indianapolis', 'Carmel', 'Iowa City',\n",
       "       'Ithaca', 'Jackson', 'Jacksonville', 'Janesville', 'Beloit',\n",
       "       'Jefferson City', 'Johnson City', 'Johnstown', 'Jonesboro',\n",
       "       'Joplin', 'Kahului', 'Wailuku', 'Lahaina', 'Kalamazoo', 'Portage',\n",
       "       'Kankakee', 'Kansas City', 'Kennewick', 'Richland', 'Killeen',\n",
       "       'Temple', 'Kingsport', 'Bristol', 'Kingston', 'Knoxville',\n",
       "       'Kokomo', 'La Crosse', 'Onalaska', 'Lafayette', 'West Lafayette',\n",
       "       'Lake Charles', 'Lake Havasu City', 'Kingman', 'Lakeland',\n",
       "       'Winter Haven', 'Lancaster', 'Lansing', 'East Lansing', 'Laredo',\n",
       "       'Las Cruces', 'Las Vegas', 'Henderson', 'Paradise', 'Lawrence',\n",
       "       'Lawton', 'Lewiston', 'Lexington', 'Fayette', 'Lima', 'Lincoln',\n",
       "       'Little Rock', 'North Little Rock', 'Conway', 'Logan', 'Longview',\n",
       "       'Los Angeles', 'Long Beach', 'Anaheim', 'Santa Ana', 'Irvine',\n",
       "       'Glendale', 'Louisville/Jefferson County', 'Lubbock', 'Lynchburg',\n",
       "       'Macon', 'Bibb County', 'Madera', 'Madison', 'Manchester',\n",
       "       'Nashua', 'Manhattan', 'Mankato', 'Mansfield', 'McAllen',\n",
       "       'Edinburg', 'Mission', 'Medford', 'Memphis', 'Merced', 'Miami',\n",
       "       'Fort Lauderdale', 'Pompano Beach', 'Sunrise', 'Miami Beach',\n",
       "       'Kendall', 'West Palm Beach', 'Boca Raton', 'Boynton Beach',\n",
       "       'Michigan City', 'La Porte', 'Midland', 'Milwaukee', 'Waukesha',\n",
       "       'Paul', 'Missoula', 'Mobile', 'Modesto', 'Monroe', 'Montgomery',\n",
       "       'Morgantown', 'Morristown', 'Mount Vernon', 'Anacortes', 'Muncie',\n",
       "       'Muskegon', 'Myrtle Beach', 'North Myrtle Beach', 'Napa', 'Naples',\n",
       "       'Marco Island', 'Nashville', 'Davidson', '', 'Murfreesboro',\n",
       "       'Franklin', 'New Bern', 'New Haven', 'Milford', 'New Orleans',\n",
       "       'Metairie', 'New York', 'Newark', 'Jersey City', 'Nassau County',\n",
       "       'Suffolk County', 'New Brunswick', 'White Plains', 'Niles',\n",
       "       'North Port', 'Sarasota', 'Bradenton', 'Norwich', 'New London',\n",
       "       'Ocala', 'Ocean City', 'Odessa', 'Ogden', 'Clearfield',\n",
       "       'Oklahoma City', 'Olympia', 'Lacey', 'Tumwater', 'Omaha',\n",
       "       'Council Bluffs', 'Orlando', 'Kissimmee', 'Sanford', 'Oshkosh',\n",
       "       'Neenah', 'Owensboro', 'Oxnard', 'Thousand Oaks', 'Ventura',\n",
       "       'Palm Bay', 'Melbourne', 'Titusville', 'Panama City',\n",
       "       'Parkersburg', 'Vienna', 'Pensacola', 'Ferry Pass', 'Brent',\n",
       "       'Peoria', 'Philadelphia', 'Camden', 'Wilmington',\n",
       "       'Montgomery County', 'Bucks County', 'Chester County', 'Phoenix',\n",
       "       'Mesa', 'Chandler', 'Pine Bluff', 'Pittsburgh', 'Pittsfield',\n",
       "       'Pocatello', 'Portland', 'South Portland', 'Vancouver',\n",
       "       'Hillsboro', 'Lucie', 'Poughkeepsie', 'Newburgh',\n",
       "       'Prescott Valley', 'Prescott', 'Providence', 'Warwick', 'Provo',\n",
       "       'Orem', 'Pueblo', 'Punta Gorda', 'Racine', 'Raleigh', 'Cary',\n",
       "       'Rapid City', 'Reading', 'Redding', 'Reno', 'Richmond',\n",
       "       'Riverside', 'San Bernardino', 'Ontario', 'Roanoke', 'Rochester',\n",
       "       'Rockford', 'Rocky Mount', 'Rome', 'Sacramento', 'Roseville',\n",
       "       'Folsom', 'Saginaw', 'Cloud', 'George', 'Joseph', 'Louis', 'Salem',\n",
       "       'Salinas', 'Salisbury', 'Salt Lake City', 'San Angelo',\n",
       "       'San Antonio', 'New Braunfels', 'San Diego', 'Chula Vista',\n",
       "       'Carlsbad', 'San Francisco', 'Oakland', 'Berkeley', 'Livermore',\n",
       "       'San Mateo', 'Redwood City', 'San Rafael', 'San Jose', 'Sunnyvale',\n",
       "       'Santa Clara', 'San Luis Obispo', 'Paso Robles', 'Santa Cruz',\n",
       "       'Watsonville', 'Santa Fe', 'Santa Maria', 'Santa Barbara',\n",
       "       'Santa Rosa', 'Petaluma', 'Savannah', 'Scranton', 'Wilkes',\n",
       "       'Barre', 'Seattle', 'Tacoma', 'Bellevue', 'Kent', 'Sebastian',\n",
       "       'Vero Beach', 'Sebring', 'Avon Park', 'Sheboygan', 'Sherman',\n",
       "       'Denison', 'Shreveport', 'Bossier City', 'Sierra Vista', 'Douglas',\n",
       "       'Sioux City', 'Sioux Falls', 'South Bend', 'Mishawaka',\n",
       "       'Spartanburg', 'Spokane', 'Spokane Valley', 'State College',\n",
       "       'Staunton', 'Stockton', 'Sumter', 'Syracuse', 'Tallahassee',\n",
       "       'Petersburg', 'Clearwater', 'Terre Haute', 'Texarkana',\n",
       "       'The Villages', 'Toledo', 'Topeka', 'Trenton', 'Princeton',\n",
       "       'Tucson', 'Tulsa', 'Tuscaloosa', 'Twin Falls', 'Tyler',\n",
       "       'Urban Honolulu', 'Utica', 'Valdosta', 'Vallejo', 'Victoria',\n",
       "       'Vineland', 'Bridgeton', 'Virginia Beach', 'Norfolk',\n",
       "       'Newport News', 'Visalia', 'Waco', 'Walla Walla', 'Warner Robins',\n",
       "       'Washington', 'Frederick', 'Gaithersburg', 'Rockville', 'Waterloo',\n",
       "       'Cedar Falls', 'Watertown', 'Fort Drum', 'Wausau', 'Weston',\n",
       "       'Weirton', 'Steubenville', 'Wenatchee', 'Wheeling', 'Wichita',\n",
       "       'Wichita Falls', 'Williamsport', 'Winchester', 'Winston',\n",
       "       'Worcester', 'Yakima', 'York', 'Hanover', 'Youngstown', 'Boardman',\n",
       "       'Yuba City', 'Yuma'], dtype=object)"
      ]
     },
     "metadata": {},
     "execution_count": 8
    }
   ],
   "source": [
    "print(population['Metro-Area'].nunique())\n",
    "population['Metro-Area'].unique()"
   ]
  },
  {
   "cell_type": "code",
   "execution_count": 9,
   "metadata": {},
   "outputs": [],
   "source": [
    "population = population[population['Metro-Area'] != '']"
   ]
  },
  {
   "cell_type": "code",
   "execution_count": 10,
   "metadata": {},
   "outputs": [
    {
     "output_type": "stream",
     "name": "stdout",
     "text": [
      "51\n"
     ]
    },
    {
     "output_type": "execute_result",
     "data": {
      "text/plain": [
       "array(['TX', 'OH', 'GA', 'OR', 'NY', 'NM', 'LA', 'PA', 'NJ', 'IA', 'AK',\n",
       "       'MI', 'AL', 'WI', 'NC', 'SC', 'CA', 'MD', 'ME', 'MA', 'WV', 'WA',\n",
       "       'MT', 'ND', 'VA', 'IL', 'IN', 'ID', 'NH', 'CO', 'KY', 'CT', 'VT',\n",
       "       'FL', 'MO', 'NV', 'WY', 'TN', 'DE', 'MN', 'OK', 'AR', 'AZ', 'NE',\n",
       "       'MS', 'HI', 'KS', 'UT', 'RI', 'SD', 'DC'], dtype=object)"
      ]
     },
     "metadata": {},
     "execution_count": 10
    }
   ],
   "source": [
    "print(population['State'].nunique())\n",
    "population['State'].unique()"
   ]
  },
  {
   "cell_type": "code",
   "execution_count": 11,
   "metadata": {},
   "outputs": [],
   "source": [
    "population['City,State'] = population['Metro-Area'] + ', ' + population['State']"
   ]
  },
  {
   "cell_type": "code",
   "execution_count": 12,
   "metadata": {},
   "outputs": [
    {
     "output_type": "execute_result",
     "data": {
      "text/plain": [
       "(750, 15)"
      ]
     },
     "metadata": {},
     "execution_count": 12
    }
   ],
   "source": [
    "population.shape"
   ]
  },
  {
   "source": [
    "### Drop duplicate rows and unused columns"
   ],
   "cell_type": "markdown",
   "metadata": {}
  },
  {
   "cell_type": "code",
   "execution_count": 13,
   "metadata": {},
   "outputs": [
    {
     "output_type": "execute_result",
     "data": {
      "text/plain": [
       "     Metro-Area State     Census  Estimate Base       2010       2011  \\\n",
       "42       Boston    MA  4552402.0      4552595.0  4566348.0  4609790.0   \n",
       "42    Cambridge    MA  4552402.0      4552595.0  4566348.0  4609790.0   \n",
       "42       Newton    MA  4552402.0      4552595.0  4566348.0  4609790.0   \n",
       "43       Boston    MA  1887792.0      1888025.0  1894717.0  1913107.0   \n",
       "44    Cambridge    MA  2246244.0      2246215.0  2253142.0  2276355.0   \n",
       "..          ...   ...        ...            ...        ...        ...   \n",
       "396   Arlington    WV  4444378.0      4445001.0  4468671.0  4553850.0   \n",
       "396  Alexandria    DC  4444378.0      4445001.0  4468671.0  4553850.0   \n",
       "396  Alexandria    VA  4444378.0      4445001.0  4468671.0  4553850.0   \n",
       "396  Alexandria    MD  4444378.0      4445001.0  4468671.0  4553850.0   \n",
       "396  Alexandria    WV  4444378.0      4445001.0  4468671.0  4553850.0   \n",
       "\n",
       "          2012       2013       2014       2015       2016       2017  \\\n",
       "42   4656593.0  4702877.0  4746931.0  4778340.0  4809061.0  4841772.0   \n",
       "42   4656593.0  4702877.0  4746931.0  4778340.0  4809061.0  4841772.0   \n",
       "42   4656593.0  4702877.0  4746931.0  4778340.0  4809061.0  4841772.0   \n",
       "43   1933463.0  1953625.0  1972382.0  1986314.0  2001862.0  2016866.0   \n",
       "44   2300205.0  2324767.0  2346646.0  2362297.0  2374511.0  2388396.0   \n",
       "..         ...        ...        ...        ...        ...        ...   \n",
       "396  4634218.0  4707011.0  4763947.0  4816135.0  4863456.0  4913897.0   \n",
       "396  4634218.0  4707011.0  4763947.0  4816135.0  4863456.0  4913897.0   \n",
       "396  4634218.0  4707011.0  4763947.0  4816135.0  4863456.0  4913897.0   \n",
       "396  4634218.0  4707011.0  4763947.0  4816135.0  4863456.0  4913897.0   \n",
       "396  4634218.0  4707011.0  4763947.0  4816135.0  4863456.0  4913897.0   \n",
       "\n",
       "          2018       2019      City,State  \n",
       "42   4859536.0  4873019.0      Boston, MA  \n",
       "42   4859536.0  4873019.0   Cambridge, MA  \n",
       "42   4859536.0  4873019.0      Newton, MA  \n",
       "43   2024799.0  2031884.0      Boston, MA  \n",
       "44   2396653.0  2400733.0   Cambridge, MA  \n",
       "..         ...        ...             ...  \n",
       "396  4944420.0  4970252.0   Arlington, WV  \n",
       "396  4944420.0  4970252.0  Alexandria, DC  \n",
       "396  4944420.0  4970252.0  Alexandria, VA  \n",
       "396  4944420.0  4970252.0  Alexandria, MD  \n",
       "396  4944420.0  4970252.0  Alexandria, WV  \n",
       "\n",
       "[88 rows x 15 columns]"
      ],
      "text/html": "<div>\n<style scoped>\n    .dataframe tbody tr th:only-of-type {\n        vertical-align: middle;\n    }\n\n    .dataframe tbody tr th {\n        vertical-align: top;\n    }\n\n    .dataframe thead th {\n        text-align: right;\n    }\n</style>\n<table border=\"1\" class=\"dataframe\">\n  <thead>\n    <tr style=\"text-align: right;\">\n      <th></th>\n      <th>Metro-Area</th>\n      <th>State</th>\n      <th>Census</th>\n      <th>Estimate Base</th>\n      <th>2010</th>\n      <th>2011</th>\n      <th>2012</th>\n      <th>2013</th>\n      <th>2014</th>\n      <th>2015</th>\n      <th>2016</th>\n      <th>2017</th>\n      <th>2018</th>\n      <th>2019</th>\n      <th>City,State</th>\n    </tr>\n  </thead>\n  <tbody>\n    <tr>\n      <th>42</th>\n      <td>Boston</td>\n      <td>MA</td>\n      <td>4552402.0</td>\n      <td>4552595.0</td>\n      <td>4566348.0</td>\n      <td>4609790.0</td>\n      <td>4656593.0</td>\n      <td>4702877.0</td>\n      <td>4746931.0</td>\n      <td>4778340.0</td>\n      <td>4809061.0</td>\n      <td>4841772.0</td>\n      <td>4859536.0</td>\n      <td>4873019.0</td>\n      <td>Boston, MA</td>\n    </tr>\n    <tr>\n      <th>42</th>\n      <td>Cambridge</td>\n      <td>MA</td>\n      <td>4552402.0</td>\n      <td>4552595.0</td>\n      <td>4566348.0</td>\n      <td>4609790.0</td>\n      <td>4656593.0</td>\n      <td>4702877.0</td>\n      <td>4746931.0</td>\n      <td>4778340.0</td>\n      <td>4809061.0</td>\n      <td>4841772.0</td>\n      <td>4859536.0</td>\n      <td>4873019.0</td>\n      <td>Cambridge, MA</td>\n    </tr>\n    <tr>\n      <th>42</th>\n      <td>Newton</td>\n      <td>MA</td>\n      <td>4552402.0</td>\n      <td>4552595.0</td>\n      <td>4566348.0</td>\n      <td>4609790.0</td>\n      <td>4656593.0</td>\n      <td>4702877.0</td>\n      <td>4746931.0</td>\n      <td>4778340.0</td>\n      <td>4809061.0</td>\n      <td>4841772.0</td>\n      <td>4859536.0</td>\n      <td>4873019.0</td>\n      <td>Newton, MA</td>\n    </tr>\n    <tr>\n      <th>43</th>\n      <td>Boston</td>\n      <td>MA</td>\n      <td>1887792.0</td>\n      <td>1888025.0</td>\n      <td>1894717.0</td>\n      <td>1913107.0</td>\n      <td>1933463.0</td>\n      <td>1953625.0</td>\n      <td>1972382.0</td>\n      <td>1986314.0</td>\n      <td>2001862.0</td>\n      <td>2016866.0</td>\n      <td>2024799.0</td>\n      <td>2031884.0</td>\n      <td>Boston, MA</td>\n    </tr>\n    <tr>\n      <th>44</th>\n      <td>Cambridge</td>\n      <td>MA</td>\n      <td>2246244.0</td>\n      <td>2246215.0</td>\n      <td>2253142.0</td>\n      <td>2276355.0</td>\n      <td>2300205.0</td>\n      <td>2324767.0</td>\n      <td>2346646.0</td>\n      <td>2362297.0</td>\n      <td>2374511.0</td>\n      <td>2388396.0</td>\n      <td>2396653.0</td>\n      <td>2400733.0</td>\n      <td>Cambridge, MA</td>\n    </tr>\n    <tr>\n      <th>...</th>\n      <td>...</td>\n      <td>...</td>\n      <td>...</td>\n      <td>...</td>\n      <td>...</td>\n      <td>...</td>\n      <td>...</td>\n      <td>...</td>\n      <td>...</td>\n      <td>...</td>\n      <td>...</td>\n      <td>...</td>\n      <td>...</td>\n      <td>...</td>\n      <td>...</td>\n    </tr>\n    <tr>\n      <th>396</th>\n      <td>Arlington</td>\n      <td>WV</td>\n      <td>4444378.0</td>\n      <td>4445001.0</td>\n      <td>4468671.0</td>\n      <td>4553850.0</td>\n      <td>4634218.0</td>\n      <td>4707011.0</td>\n      <td>4763947.0</td>\n      <td>4816135.0</td>\n      <td>4863456.0</td>\n      <td>4913897.0</td>\n      <td>4944420.0</td>\n      <td>4970252.0</td>\n      <td>Arlington, WV</td>\n    </tr>\n    <tr>\n      <th>396</th>\n      <td>Alexandria</td>\n      <td>DC</td>\n      <td>4444378.0</td>\n      <td>4445001.0</td>\n      <td>4468671.0</td>\n      <td>4553850.0</td>\n      <td>4634218.0</td>\n      <td>4707011.0</td>\n      <td>4763947.0</td>\n      <td>4816135.0</td>\n      <td>4863456.0</td>\n      <td>4913897.0</td>\n      <td>4944420.0</td>\n      <td>4970252.0</td>\n      <td>Alexandria, DC</td>\n    </tr>\n    <tr>\n      <th>396</th>\n      <td>Alexandria</td>\n      <td>VA</td>\n      <td>4444378.0</td>\n      <td>4445001.0</td>\n      <td>4468671.0</td>\n      <td>4553850.0</td>\n      <td>4634218.0</td>\n      <td>4707011.0</td>\n      <td>4763947.0</td>\n      <td>4816135.0</td>\n      <td>4863456.0</td>\n      <td>4913897.0</td>\n      <td>4944420.0</td>\n      <td>4970252.0</td>\n      <td>Alexandria, VA</td>\n    </tr>\n    <tr>\n      <th>396</th>\n      <td>Alexandria</td>\n      <td>MD</td>\n      <td>4444378.0</td>\n      <td>4445001.0</td>\n      <td>4468671.0</td>\n      <td>4553850.0</td>\n      <td>4634218.0</td>\n      <td>4707011.0</td>\n      <td>4763947.0</td>\n      <td>4816135.0</td>\n      <td>4863456.0</td>\n      <td>4913897.0</td>\n      <td>4944420.0</td>\n      <td>4970252.0</td>\n      <td>Alexandria, MD</td>\n    </tr>\n    <tr>\n      <th>396</th>\n      <td>Alexandria</td>\n      <td>WV</td>\n      <td>4444378.0</td>\n      <td>4445001.0</td>\n      <td>4468671.0</td>\n      <td>4553850.0</td>\n      <td>4634218.0</td>\n      <td>4707011.0</td>\n      <td>4763947.0</td>\n      <td>4816135.0</td>\n      <td>4863456.0</td>\n      <td>4913897.0</td>\n      <td>4944420.0</td>\n      <td>4970252.0</td>\n      <td>Alexandria, WV</td>\n    </tr>\n  </tbody>\n</table>\n<p>88 rows × 15 columns</p>\n</div>"
     },
     "metadata": {},
     "execution_count": 13
    }
   ],
   "source": [
    "population[population.duplicated(subset=['City,State'], keep=False)]"
   ]
  },
  {
   "cell_type": "code",
   "execution_count": 14,
   "metadata": {},
   "outputs": [
    {
     "output_type": "stream",
     "name": "stdout",
     "text": [
      "(706, 15)\n"
     ]
    }
   ],
   "source": [
    "population = population.drop_duplicates(subset=['City,State' ], keep='last')\n",
    "print(population.shape)"
   ]
  },
  {
   "cell_type": "code",
   "execution_count": 15,
   "metadata": {},
   "outputs": [],
   "source": [
    "population = population.drop(columns = ['Census', 'Estimate Base', 'Metro-Area', 'State'])\n",
    "population = population[['City,State', '2010', '2011', '2012', '2013', '2014', '2015', '2016', '2017', '2018', '2019']]"
   ]
  },
  {
   "cell_type": "code",
   "execution_count": 16,
   "metadata": {},
   "outputs": [
    {
     "output_type": "stream",
     "name": "stdout",
     "text": [
      "(706, 11)\n"
     ]
    },
    {
     "output_type": "execute_result",
     "data": {
      "text/plain": [
       "    City,State      2010      2011      2012      2013      2014      2015  \\\n",
       "0  Abilene, TX  165585.0  166634.0  167442.0  167473.0  168342.0  169688.0   \n",
       "1    Akron, OH  703031.0  703200.0  702109.0  703621.0  704908.0  704382.0   \n",
       "2   Albany, GA  154145.0  154545.0  153976.0  152667.0  151949.0  150387.0   \n",
       "3   Albany, OR  116891.0  118164.0  118273.0  118405.0  119042.0  120236.0   \n",
       "3  Lebanon, OR  116891.0  118164.0  118273.0  118405.0  119042.0  120236.0   \n",
       "\n",
       "       2016      2017      2018      2019  \n",
       "0  170017.0  170429.0  171150.0  172060.0  \n",
       "1  703524.0  703987.0  703855.0  703479.0  \n",
       "2  149137.0  148090.0  147840.0  146726.0  \n",
       "3  122769.0  125035.0  127451.0  129749.0  \n",
       "3  122769.0  125035.0  127451.0  129749.0  "
      ],
      "text/html": "<div>\n<style scoped>\n    .dataframe tbody tr th:only-of-type {\n        vertical-align: middle;\n    }\n\n    .dataframe tbody tr th {\n        vertical-align: top;\n    }\n\n    .dataframe thead th {\n        text-align: right;\n    }\n</style>\n<table border=\"1\" class=\"dataframe\">\n  <thead>\n    <tr style=\"text-align: right;\">\n      <th></th>\n      <th>City,State</th>\n      <th>2010</th>\n      <th>2011</th>\n      <th>2012</th>\n      <th>2013</th>\n      <th>2014</th>\n      <th>2015</th>\n      <th>2016</th>\n      <th>2017</th>\n      <th>2018</th>\n      <th>2019</th>\n    </tr>\n  </thead>\n  <tbody>\n    <tr>\n      <th>0</th>\n      <td>Abilene, TX</td>\n      <td>165585.0</td>\n      <td>166634.0</td>\n      <td>167442.0</td>\n      <td>167473.0</td>\n      <td>168342.0</td>\n      <td>169688.0</td>\n      <td>170017.0</td>\n      <td>170429.0</td>\n      <td>171150.0</td>\n      <td>172060.0</td>\n    </tr>\n    <tr>\n      <th>1</th>\n      <td>Akron, OH</td>\n      <td>703031.0</td>\n      <td>703200.0</td>\n      <td>702109.0</td>\n      <td>703621.0</td>\n      <td>704908.0</td>\n      <td>704382.0</td>\n      <td>703524.0</td>\n      <td>703987.0</td>\n      <td>703855.0</td>\n      <td>703479.0</td>\n    </tr>\n    <tr>\n      <th>2</th>\n      <td>Albany, GA</td>\n      <td>154145.0</td>\n      <td>154545.0</td>\n      <td>153976.0</td>\n      <td>152667.0</td>\n      <td>151949.0</td>\n      <td>150387.0</td>\n      <td>149137.0</td>\n      <td>148090.0</td>\n      <td>147840.0</td>\n      <td>146726.0</td>\n    </tr>\n    <tr>\n      <th>3</th>\n      <td>Albany, OR</td>\n      <td>116891.0</td>\n      <td>118164.0</td>\n      <td>118273.0</td>\n      <td>118405.0</td>\n      <td>119042.0</td>\n      <td>120236.0</td>\n      <td>122769.0</td>\n      <td>125035.0</td>\n      <td>127451.0</td>\n      <td>129749.0</td>\n    </tr>\n    <tr>\n      <th>3</th>\n      <td>Lebanon, OR</td>\n      <td>116891.0</td>\n      <td>118164.0</td>\n      <td>118273.0</td>\n      <td>118405.0</td>\n      <td>119042.0</td>\n      <td>120236.0</td>\n      <td>122769.0</td>\n      <td>125035.0</td>\n      <td>127451.0</td>\n      <td>129749.0</td>\n    </tr>\n  </tbody>\n</table>\n</div>"
     },
     "metadata": {},
     "execution_count": 16
    }
   ],
   "source": [
    "print(population.shape)\n",
    "population.head()"
   ]
  },
  {
   "source": [
    "## 2. Stack dataframe \n",
    "- this is to try the groupby so I don't have to create separate csv's and run each city csv separately\n",
    "- https://stackoverflow.com/questions/64179626/stack-unstack-melt-pivot-transpose-what-is-the-simple-method-to-convert-mul"
   ],
   "cell_type": "markdown",
   "metadata": {}
  },
  {
   "cell_type": "code",
   "execution_count": 17,
   "metadata": {},
   "outputs": [],
   "source": [
    "population_melt = (population.melt(id_vars=['City,State'],\n",
    "                    var_name = 'ds',\n",
    "                    value_name = 'y'\n",
    "                    ).reset_index(drop=True))"
   ]
  },
  {
   "cell_type": "code",
   "execution_count": 18,
   "metadata": {},
   "outputs": [
    {
     "output_type": "execute_result",
     "data": {
      "text/plain": [
       "         City,State    ds         y\n",
       "0       Abilene, TX  2010  165585.0\n",
       "1         Akron, OH  2010  703031.0\n",
       "2        Albany, GA  2010  154145.0\n",
       "3        Albany, OR  2010  116891.0\n",
       "4       Lebanon, OR  2010  116891.0\n",
       "...             ...   ...       ...\n",
       "7055     Warren, PA  2019  536081.0\n",
       "7056   Boardman, OH  2019  536081.0\n",
       "7057   Boardman, PA  2019  536081.0\n",
       "7058  Yuba City, CA  2019  175639.0\n",
       "7059       Yuma, AZ  2019  213787.0\n",
       "\n",
       "[7060 rows x 3 columns]"
      ],
      "text/html": "<div>\n<style scoped>\n    .dataframe tbody tr th:only-of-type {\n        vertical-align: middle;\n    }\n\n    .dataframe tbody tr th {\n        vertical-align: top;\n    }\n\n    .dataframe thead th {\n        text-align: right;\n    }\n</style>\n<table border=\"1\" class=\"dataframe\">\n  <thead>\n    <tr style=\"text-align: right;\">\n      <th></th>\n      <th>City,State</th>\n      <th>ds</th>\n      <th>y</th>\n    </tr>\n  </thead>\n  <tbody>\n    <tr>\n      <th>0</th>\n      <td>Abilene, TX</td>\n      <td>2010</td>\n      <td>165585.0</td>\n    </tr>\n    <tr>\n      <th>1</th>\n      <td>Akron, OH</td>\n      <td>2010</td>\n      <td>703031.0</td>\n    </tr>\n    <tr>\n      <th>2</th>\n      <td>Albany, GA</td>\n      <td>2010</td>\n      <td>154145.0</td>\n    </tr>\n    <tr>\n      <th>3</th>\n      <td>Albany, OR</td>\n      <td>2010</td>\n      <td>116891.0</td>\n    </tr>\n    <tr>\n      <th>4</th>\n      <td>Lebanon, OR</td>\n      <td>2010</td>\n      <td>116891.0</td>\n    </tr>\n    <tr>\n      <th>...</th>\n      <td>...</td>\n      <td>...</td>\n      <td>...</td>\n    </tr>\n    <tr>\n      <th>7055</th>\n      <td>Warren, PA</td>\n      <td>2019</td>\n      <td>536081.0</td>\n    </tr>\n    <tr>\n      <th>7056</th>\n      <td>Boardman, OH</td>\n      <td>2019</td>\n      <td>536081.0</td>\n    </tr>\n    <tr>\n      <th>7057</th>\n      <td>Boardman, PA</td>\n      <td>2019</td>\n      <td>536081.0</td>\n    </tr>\n    <tr>\n      <th>7058</th>\n      <td>Yuba City, CA</td>\n      <td>2019</td>\n      <td>175639.0</td>\n    </tr>\n    <tr>\n      <th>7059</th>\n      <td>Yuma, AZ</td>\n      <td>2019</td>\n      <td>213787.0</td>\n    </tr>\n  </tbody>\n</table>\n<p>7060 rows × 3 columns</p>\n</div>"
     },
     "metadata": {},
     "execution_count": 18
    }
   ],
   "source": [
    "population_melt"
   ]
  },
  {
   "source": [
    "## 3. Forecast population using **fb prophet**"
   ],
   "cell_type": "markdown",
   "metadata": {}
  },
  {
   "cell_type": "code",
   "execution_count": 19,
   "metadata": {},
   "outputs": [],
   "source": [
    "from fbprophet import Prophet\n",
    "from fbprophet.plot import add_changepoints_to_plot"
   ]
  },
  {
   "cell_type": "code",
   "execution_count": 20,
   "metadata": {},
   "outputs": [],
   "source": [
    "cities_list = list(population['City,State'])"
   ]
  },
  {
   "cell_type": "code",
   "execution_count": 21,
   "metadata": {},
   "outputs": [],
   "source": [
    "def rnd_series(city):\n",
    "    subset = population_melt[population_melt['City,State']== city]\n",
    "    dates = (pd.DataFrame({'ds': pd.to_datetime(population_melt['ds'])}))\n",
    "    \n",
    "    return subset"
   ]
  },
  {
   "cell_type": "code",
   "execution_count": 22,
   "metadata": {},
   "outputs": [],
   "source": [
    "series = [rnd_series(city) for city in cities_list]"
   ]
  },
  {
   "cell_type": "code",
   "execution_count": 23,
   "metadata": {},
   "outputs": [
    {
     "output_type": "execute_result",
     "data": {
      "text/plain": [
       "706"
      ]
     },
     "metadata": {},
     "execution_count": 23
    }
   ],
   "source": [
    "len(series)"
   ]
  },
  {
   "cell_type": "code",
   "execution_count": 24,
   "metadata": {},
   "outputs": [
    {
     "output_type": "execute_result",
     "data": {
      "text/plain": [
       "       City,State    ds         y\n",
       "0     Abilene, TX  2010  165585.0\n",
       "706   Abilene, TX  2011  166634.0\n",
       "1412  Abilene, TX  2012  167442.0\n",
       "2118  Abilene, TX  2013  167473.0\n",
       "2824  Abilene, TX  2014  168342.0\n",
       "3530  Abilene, TX  2015  169688.0\n",
       "4236  Abilene, TX  2016  170017.0\n",
       "4942  Abilene, TX  2017  170429.0\n",
       "5648  Abilene, TX  2018  171150.0\n",
       "6354  Abilene, TX  2019  172060.0"
      ],
      "text/html": "<div>\n<style scoped>\n    .dataframe tbody tr th:only-of-type {\n        vertical-align: middle;\n    }\n\n    .dataframe tbody tr th {\n        vertical-align: top;\n    }\n\n    .dataframe thead th {\n        text-align: right;\n    }\n</style>\n<table border=\"1\" class=\"dataframe\">\n  <thead>\n    <tr style=\"text-align: right;\">\n      <th></th>\n      <th>City,State</th>\n      <th>ds</th>\n      <th>y</th>\n    </tr>\n  </thead>\n  <tbody>\n    <tr>\n      <th>0</th>\n      <td>Abilene, TX</td>\n      <td>2010</td>\n      <td>165585.0</td>\n    </tr>\n    <tr>\n      <th>706</th>\n      <td>Abilene, TX</td>\n      <td>2011</td>\n      <td>166634.0</td>\n    </tr>\n    <tr>\n      <th>1412</th>\n      <td>Abilene, TX</td>\n      <td>2012</td>\n      <td>167442.0</td>\n    </tr>\n    <tr>\n      <th>2118</th>\n      <td>Abilene, TX</td>\n      <td>2013</td>\n      <td>167473.0</td>\n    </tr>\n    <tr>\n      <th>2824</th>\n      <td>Abilene, TX</td>\n      <td>2014</td>\n      <td>168342.0</td>\n    </tr>\n    <tr>\n      <th>3530</th>\n      <td>Abilene, TX</td>\n      <td>2015</td>\n      <td>169688.0</td>\n    </tr>\n    <tr>\n      <th>4236</th>\n      <td>Abilene, TX</td>\n      <td>2016</td>\n      <td>170017.0</td>\n    </tr>\n    <tr>\n      <th>4942</th>\n      <td>Abilene, TX</td>\n      <td>2017</td>\n      <td>170429.0</td>\n    </tr>\n    <tr>\n      <th>5648</th>\n      <td>Abilene, TX</td>\n      <td>2018</td>\n      <td>171150.0</td>\n    </tr>\n    <tr>\n      <th>6354</th>\n      <td>Abilene, TX</td>\n      <td>2019</td>\n      <td>172060.0</td>\n    </tr>\n  </tbody>\n</table>\n</div>"
     },
     "metadata": {},
     "execution_count": 24
    }
   ],
   "source": [
    "series[0]"
   ]
  },
  {
   "cell_type": "code",
   "execution_count": 25,
   "metadata": {},
   "outputs": [],
   "source": [
    "def run_prophet(series):\n",
    "    model = Prophet(daily_seasonality=False,\n",
    "                    weekly_seasonality=False,\n",
    "                    yearly_seasonality=False)\n",
    "    model.fit(series)\n",
    "    forecast = model.make_future_dataframe(periods=10, freq='Y')\n",
    "    forecast = model.predict(forecast)\n",
    "    forecast = forecast[['ds', 'yhat', 'yhat_lower', 'yhat_upper']]\n",
    "    forecast['City,State'] = series['City,State'].iloc[0]\n",
    "    forecast = forecast[['City,State','ds', 'yhat', 'yhat_lower', 'yhat_upper']]\n",
    "    forecast['ds'] = pd.DatetimeIndex(forecast['ds']).year\n",
    "    forecast[['yhat', 'yhat_lower', 'yhat_upper']] = forecast[['yhat', 'yhat_lower', 'yhat_upper']].apply(np.ceil)\n",
    "    return forecast"
   ]
  },
  {
   "cell_type": "code",
   "execution_count": 26,
   "metadata": {},
   "outputs": [
    {
     "output_type": "stream",
     "name": "stderr",
     "text": [
      "INFO:fbprophet:n_changepoints greater than number of observations. Using 7.\n"
     ]
    },
    {
     "output_type": "execute_result",
     "data": {
      "text/plain": [
       "    City,State    ds      yhat  yhat_lower  yhat_upper\n",
       "0  Abilene, TX  2010  165586.0    165556.0    165620.0\n",
       "1  Abilene, TX  2011  166634.0    166602.0    166664.0\n",
       "2  Abilene, TX  2012  167441.0    167409.0    167472.0\n",
       "3  Abilene, TX  2013  167475.0    167447.0    167508.0\n",
       "4  Abilene, TX  2014  168344.0    168310.0    168375.0"
      ],
      "text/html": "<div>\n<style scoped>\n    .dataframe tbody tr th:only-of-type {\n        vertical-align: middle;\n    }\n\n    .dataframe tbody tr th {\n        vertical-align: top;\n    }\n\n    .dataframe thead th {\n        text-align: right;\n    }\n</style>\n<table border=\"1\" class=\"dataframe\">\n  <thead>\n    <tr style=\"text-align: right;\">\n      <th></th>\n      <th>City,State</th>\n      <th>ds</th>\n      <th>yhat</th>\n      <th>yhat_lower</th>\n      <th>yhat_upper</th>\n    </tr>\n  </thead>\n  <tbody>\n    <tr>\n      <th>0</th>\n      <td>Abilene, TX</td>\n      <td>2010</td>\n      <td>165586.0</td>\n      <td>165556.0</td>\n      <td>165620.0</td>\n    </tr>\n    <tr>\n      <th>1</th>\n      <td>Abilene, TX</td>\n      <td>2011</td>\n      <td>166634.0</td>\n      <td>166602.0</td>\n      <td>166664.0</td>\n    </tr>\n    <tr>\n      <th>2</th>\n      <td>Abilene, TX</td>\n      <td>2012</td>\n      <td>167441.0</td>\n      <td>167409.0</td>\n      <td>167472.0</td>\n    </tr>\n    <tr>\n      <th>3</th>\n      <td>Abilene, TX</td>\n      <td>2013</td>\n      <td>167475.0</td>\n      <td>167447.0</td>\n      <td>167508.0</td>\n    </tr>\n    <tr>\n      <th>4</th>\n      <td>Abilene, TX</td>\n      <td>2014</td>\n      <td>168344.0</td>\n      <td>168310.0</td>\n      <td>168375.0</td>\n    </tr>\n  </tbody>\n</table>\n</div>"
     },
     "metadata": {},
     "execution_count": 26
    }
   ],
   "source": [
    "f = run_prophet(series[0])\n",
    "f.head()"
   ]
  },
  {
   "cell_type": "code",
   "execution_count": 27,
   "metadata": {},
   "outputs": [],
   "source": [
    "from time import time, ctime"
   ]
  },
  {
   "cell_type": "code",
   "execution_count": null,
   "metadata": {},
   "outputs": [],
   "source": [
    "start = ctime()\n",
    "\n",
    "for i in range(len(series)):\n",
    "    f = run_prophet(series[i])\n",
    "    f.to_csv('population_prediction.csv', mode='a', index='False')\n",
    "\n",
    "end = ctime()\n",
    "total_time = end-start\n",
    "print(f'{Total_time} = {end} - {start}')"
   ]
  },
  {
   "cell_type": "code",
   "execution_count": null,
   "metadata": {},
   "outputs": [],
   "source": [
    "predictions = pd.read_csv('population_prediction.csv')"
   ]
  },
  {
   "cell_type": "code",
   "execution_count": null,
   "metadata": {},
   "outputs": [],
   "source": [
    "prediction.loc[prediction['City,State'] == 'City,State']"
   ]
  },
  {
   "cell_type": "code",
   "execution_count": null,
   "metadata": {},
   "outputs": [],
   "source": [
    "prediction = prediction[prediction['City,State'] != 'City,State']"
   ]
  },
  {
   "cell_type": "code",
   "execution_count": null,
   "metadata": {},
   "outputs": [],
   "source": [
    "prediction.to_csv('population_prediction.csv', index=False)"
   ]
  },
  {
   "cell_type": "code",
   "execution_count": null,
   "metadata": {},
   "outputs": [],
   "source": [
    "population_prediction = predictions[['City,State', 'ds', 'yhat']]"
   ]
  },
  {
   "cell_type": "code",
   "execution_count": null,
   "metadata": {},
   "outputs": [],
   "source": [
    "population_prediction = population_prediction.pivot_table(index = 'City,State',\n",
    "                                                          columns = 'ds',\n",
    "                                                          values = 'yhat')"
   ]
  },
  {
   "cell_type": "code",
   "execution_count": null,
   "metadata": {},
   "outputs": [],
   "source": [
    "population_prediction.head()"
   ]
  },
  {
   "cell_type": "code",
   "execution_count": null,
   "metadata": {},
   "outputs": [],
   "source": [
    "population_prediction.to_csv('population_prediction_long.csv', index=False)"
   ]
  },
  {
   "cell_type": "code",
   "execution_count": null,
   "metadata": {},
   "outputs": [],
   "source": []
  }
 ]
}