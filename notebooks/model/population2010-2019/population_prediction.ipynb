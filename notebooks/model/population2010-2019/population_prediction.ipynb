{
 "metadata": {
  "language_info": {
   "codemirror_mode": {
    "name": "ipython",
    "version": 3
   },
   "file_extension": ".py",
   "mimetype": "text/x-python",
   "name": "python",
   "nbconvert_exporter": "python",
   "pygments_lexer": "ipython3",
   "version": "3.8.6"
  },
  "orig_nbformat": 2,
  "kernelspec": {
   "name": "python386jvsc74a57bd02419ad2920cdc1fadb8f0ae6c1b14e969f8d411f4ecfa904fb0f4ff9d9e2f541",
   "display_name": "Python 3.8.6 64-bit ('3.8.6': pyenv)"
  }
 },
 "nbformat": 4,
 "nbformat_minor": 2,
 "cells": [
  {
   "source": [
    "# Population forecasting\n",
    "\n",
    "1. Clean population dataframe\n",
    "2. Transform dataframe\n",
    "3. Forecast population using **fb prophet**"
   ],
   "cell_type": "markdown",
   "metadata": {}
  },
  {
   "source": [
    "## 1. Clean population dataframe"
   ],
   "cell_type": "markdown",
   "metadata": {}
  },
  {
   "cell_type": "code",
   "execution_count": null,
   "metadata": {},
   "outputs": [],
   "source": [
    "import pandas as pd\n",
    "import numpy as np"
   ]
  },
  {
   "cell_type": "code",
   "execution_count": null,
   "metadata": {},
   "outputs": [],
   "source": [
    "population = pd.read_csv('metropop_2010_2019.csv')"
   ]
  },
  {
   "source": [
    "### Check population csv"
   ],
   "cell_type": "markdown",
   "metadata": {}
  },
  {
   "cell_type": "code",
   "execution_count": null,
   "metadata": {},
   "outputs": [],
   "source": [
    "print(population.shape)\n",
    "population.head()"
   ]
  },
  {
   "source": [
    "### Combine city state\n",
    "- use explode to separate combined cities\n",
    "- combine separated city and states"
   ],
   "cell_type": "markdown",
   "metadata": {}
  },
  {
   "cell_type": "code",
   "execution_count": null,
   "metadata": {},
   "outputs": [],
   "source": [
    "def explode_str(population, col='Metro-Area', sep='-'):\n",
    "    s = population[col]\n",
    "    i = np.arange(len(s)).repeat(s.str.count(sep) +1)\n",
    "    return population.iloc[i].assign(**{col: sep.join(s).split(sep)})\n",
    "\n",
    "population = explode_str(population)"
   ]
  },
  {
   "cell_type": "code",
   "execution_count": null,
   "metadata": {},
   "outputs": [],
   "source": [
    "population['Metro-Area'] = population['Metro-Area'].str.strip()"
   ]
  },
  {
   "cell_type": "code",
   "execution_count": null,
   "metadata": {},
   "outputs": [],
   "source": [
    "population['City,State'] = population['Metro-Area'] + ', ' + population['State']"
   ]
  },
  {
   "source": [
    "### Drop unused columns"
   ],
   "cell_type": "markdown",
   "metadata": {}
  },
  {
   "cell_type": "code",
   "execution_count": null,
   "metadata": {},
   "outputs": [],
   "source": [
    "population = population.drop(columns = ['Census', 'Estimate Base', 'Metro-Area', 'State'])\n",
    "population = population[['City,State', '2010', '2011', '2012', '2013', '2014', '2015', '2016', '2017', '2018', '2019']]"
   ]
  },
  {
   "cell_type": "code",
   "execution_count": null,
   "metadata": {},
   "outputs": [],
   "source": [
    "print(population.shape)\n",
    "population.head()"
   ]
  },
  {
   "source": [
    "## 2. Stack dataframe \n",
    "- this is to try the groupby so I don't have to create separate csv's and run each city csv separately\n",
    "- https://stackoverflow.com/questions/64179626/stack-unstack-melt-pivot-transpose-what-is-the-simple-method-to-convert-mul"
   ],
   "cell_type": "markdown",
   "metadata": {}
  },
  {
   "cell_type": "code",
   "execution_count": null,
   "metadata": {},
   "outputs": [],
   "source": [
    "population_melt = (population.melt(id_vars=['City,State'],\n",
    "                    var_name = 'ds',\n",
    "                    value_name = 'y'\n",
    "                    ).reset_index(drop=True))"
   ]
  },
  {
   "cell_type": "code",
   "execution_count": null,
   "metadata": {},
   "outputs": [],
   "source": [
    "population_melt"
   ]
  },
  {
   "source": [
    "## 3. Forecast population using **fb prophet**"
   ],
   "cell_type": "markdown",
   "metadata": {}
  },
  {
   "cell_type": "code",
   "execution_count": null,
   "metadata": {},
   "outputs": [],
   "source": [
    "from fbprophet import Prophet\n",
    "from fbprophet.plot import add_changepoints_to_plot"
   ]
  },
  {
   "cell_type": "code",
   "execution_count": null,
   "metadata": {},
   "outputs": [],
   "source": [
    "grouped = population_melt.groupby('City,State')"
   ]
  },
  {
   "cell_type": "code",
   "execution_count": null,
   "metadata": {},
   "outputs": [],
   "source": [
    "final = pd.DataFrame()"
   ]
  },
  {
   "cell_type": "code",
   "execution_count": null,
   "metadata": {},
   "outputs": [],
   "source": [
    "for g in grouped.groups:\n",
    "    group = grouped.get_group(g)\n",
    "    m = Prophet()\n",
    "    m.fit(group)\n",
    "    print(group)\n",
    "    future = m.make_future_dataframe(periods=10, freq='Y')\n",
    "    forecast = m.predict(future)\n",
    "    forecast = forecast[['ds', 'yhat', 'yhat_lower', 'yhat_upper']]\n",
    "    forecast = forecast.rename(columns={'yhat': 'yhat_'+g, \n",
    "                                        'yhat_lower': 'yhat_lower_'+g,\n",
    "                                        'yhat_upper': 'yhat_upper_'+g})\n",
    "    final = pd.merge(final, forecast.set_index('ds'), how='outer', left_index=True, right_index=True)"
   ]
  },
  {
   "cell_type": "code",
   "execution_count": null,
   "metadata": {},
   "outputs": [],
   "source": [
    "final = final[['yhat_'+g, 'yhat_lower_'+g, 'yhat_upper_'+g for g in grouped.groups.keys()]]"
   ]
  },
  {
   "cell_type": "code",
   "execution_count": null,
   "metadata": {},
   "outputs": [],
   "source": [
    "fig2 = m.plot_components(forecast)"
   ]
  }
 ]
}