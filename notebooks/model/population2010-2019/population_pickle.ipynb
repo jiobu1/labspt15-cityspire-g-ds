{
 "metadata": {
  "language_info": {
   "codemirror_mode": {
    "name": "ipython",
    "version": 3
   },
   "file_extension": ".py",
   "mimetype": "text/x-python",
   "name": "python",
   "nbconvert_exporter": "python",
   "pygments_lexer": "ipython3",
   "version": "3.8.6"
  },
  "orig_nbformat": 2,
  "kernelspec": {
   "name": "python386jvsc74a57bd02419ad2920cdc1fadb8f0ae6c1b14e969f8d411f4ecfa904fb0f4ff9d9e2f541",
   "display_name": "Python 3.8.6 64-bit ('3.8.6': pyenv)"
  }
 },
 "nbformat": 4,
 "nbformat_minor": 2,
 "cells": [
  {
   "source": [
    "# Create Pickel Model"
   ],
   "cell_type": "markdown",
   "metadata": {}
  },
  {
   "cell_type": "code",
   "execution_count": null,
   "metadata": {},
   "outputs": [],
   "source": [
    "import pandas as pd\n",
    "import numpy as np\n",
    "from fbprophet import Prophet"
   ]
  },
  {
   "cell_type": "code",
   "execution_count": null,
   "metadata": {},
   "outputs": [],
   "source": [
    "population_melt = pd.read_csv('csv/population_melt.csv')\n",
    "population = pd.read_csv('csv/population_cleaned.csv')"
   ]
  },
  {
   "cell_type": "code",
   "execution_count": null,
   "metadata": {},
   "outputs": [],
   "source": [
    "cities_list = list(population['City,State'])"
   ]
  },
  {
   "cell_type": "code",
   "execution_count": null,
   "metadata": {},
   "outputs": [],
   "source": [
    "def rnd_series(city):\n",
    "    subset = population_melt[population_melt['City,State']== city]\n",
    "    dates = (pd.DataFrame({'ds': pd.to_datetime(population_melt['ds'])}))\n",
    "    \n",
    "    return subset"
   ]
  },
  {
   "cell_type": "code",
   "execution_count": null,
   "metadata": {},
   "outputs": [],
   "source": [
    "series = [rnd_series(city) for city in cities_list]"
   ]
  },
  {
   "cell_type": "code",
   "execution_count": null,
   "metadata": {},
   "outputs": [],
   "source": [
    "def make_model():\n",
    "    series = [rnd_series(city) for city in cities_list]\n",
    "    models = []\n",
    "    for city_name in series:\n",
    "        m = Prophet(interval_width=0.95)\n",
    "        model = m.fit(city_name)\n",
    "        models.append([city_name, model])\n",
    "\n",
    "    # Putting information into dataframe\n",
    "    model_df = pd.DataFrame(model, columns = [\"cityname\", 'model'])\n",
    "    return model_df"
   ]
  },
  {
   "cell_type": "code",
   "execution_count": null,
   "metadata": {},
   "outputs": [],
   "source": [
    "make_model()"
   ]
  },
  {
   "cell_type": "code",
   "execution_count": null,
   "metadata": {},
   "outputs": [],
   "source": [
    "model_df = make_model()\n",
    "print(model_df.shape)\n",
    "model_df.head()"
   ]
  },
  {
   "cell_type": "code",
   "execution_count": null,
   "metadata": {},
   "outputs": [],
   "source": [
    "import pickle\n",
    "\n",
    "# save model_df in a pickle file\n",
    "with open('pickle/model_df.pkl', 'wb') as f:\n",
    "  pickle.dump(model_df, f)"
   ]
  },
  {
   "cell_type": "code",
   "execution_count": null,
   "metadata": {},
   "outputs": [],
   "source": [
    "file = open(\"model_df.pkl\", 'rb')\n",
    "city_models = pickle.load(file)"
   ]
  },
  {
   "cell_type": "code",
   "execution_count": null,
   "metadata": {},
   "outputs": [],
   "source": [
    "from prophet.plot import plot_plotly, plot_components_plotly"
   ]
  },
  {
   "cell_type": "code",
   "execution_count": null,
   "metadata": {},
   "outputs": [],
   "source": [
    "def run_forecast(city, periods):\n",
    "    if city_name in list(city_models['cityname']): \n",
    "        city_model =  city_models.loc[city_model['cityname'] == city, 'model'].item()\n",
    "        future = city_model.make_future_dataframe(periods=periods, freq='Y')\n",
    "        forecast = city_model.predict(future)\n",
    "        forecast = forecast[['ds', 'yhat', 'yhat_lower', 'yhat_upper']]\n",
    "        forecast['year'] = pd.DatetimeIndex(forecast['ds']).year\n",
    "        forecast[['yhat', 'yhat_lower', 'yhat_upper']] = forecast[['yhat', 'yhat_lower', 'yhat_upper']].astype(float)\n",
    "        forecast[['yhat', 'yhat_lower', 'yhat_upper']] = forecast[['yhat', 'yhat_lower', 'yhat_upper']].apply(np.ceil)\n",
    "        forecast = forecast[['year', 'yhat', 'yhat_lower', 'yhat_upper']]\n",
    "        fig1 = plot_plotly(city_model, forecast)\n",
    "        fig2 = plot_components_plotly(city_model, forecast)\n",
    "        return forecast, fig1, fig2\n",
    "\n",
    "    return \"This location is not available\""
   ]
  },
  {
   "cell_type": "code",
   "execution_count": null,
   "metadata": {},
   "outputs": [],
   "source": []
  },
  {
   "cell_type": "code",
   "execution_count": null,
   "metadata": {},
   "outputs": [],
   "source": []
  },
  {
   "cell_type": "code",
   "execution_count": null,
   "metadata": {},
   "outputs": [],
   "source": []
  },
  {
   "cell_type": "code",
   "execution_count": null,
   "metadata": {},
   "outputs": [],
   "source": []
  },
  {
   "cell_type": "code",
   "execution_count": null,
   "metadata": {},
   "outputs": [],
   "source": []
  }
 ]
}