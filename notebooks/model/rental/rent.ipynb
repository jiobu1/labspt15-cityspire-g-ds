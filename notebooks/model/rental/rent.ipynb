{
 "metadata": {
  "language_info": {
   "codemirror_mode": {
    "name": "ipython",
    "version": 3
   },
   "file_extension": ".py",
   "mimetype": "text/x-python",
   "name": "python",
   "nbconvert_exporter": "python",
   "pygments_lexer": "ipython3",
   "version": "3.8.6"
  },
  "orig_nbformat": 2,
  "kernelspec": {
   "name": "python386jvsc74a57bd02419ad2920cdc1fadb8f0ae6c1b14e969f8d411f4ecfa904fb0f4ff9d9e2f541",
   "display_name": "Python 3.8.6 64-bit ('3.8.6': pyenv)"
  }
 },
 "nbformat": 4,
 "nbformat_minor": 2,
 "cells": [
  {
   "cell_type": "code",
   "execution_count": 1,
   "metadata": {},
   "outputs": [
    {
     "output_type": "stream",
     "name": "stderr",
     "text": [
      "/Users/jisha/.pyenv/versions/3.8.6/lib/python3.8/site-packages/pandas/compat/__init__.py:120: UserWarning: Could not import the lzma module. Your installed Python is incomplete. Attempting to use lzma compression will result in a RuntimeError.\n  warnings.warn(msg)\n"
     ]
    }
   ],
   "source": [
    "import pandas as pd \n",
    "import numpy as np\n",
    "from fbprophet import Prophet\n",
    "import plotly\n",
    "import plotly.graph_objects as go"
   ]
  },
  {
   "cell_type": "code",
   "execution_count": 2,
   "metadata": {},
   "outputs": [],
   "source": [
    "rental = pd.read_csv('csv/Metro_ZORI_AllHomesPlusMultifamily_Smoothed.csv')"
   ]
  },
  {
   "cell_type": "code",
   "execution_count": 3,
   "metadata": {},
   "outputs": [
    {
     "output_type": "execute_result",
     "data": {
      "text/plain": [
       "   RegionID                          RegionName  SizeRank  2014-01  2014-02  \\\n",
       "0    102001                       United States         0   1325.0   1331.0   \n",
       "1    394913                        New York, NY         1   2282.0   2300.0   \n",
       "2    753899  Los Angeles-Long Beach-Anaheim, CA         2   1735.0   1761.0   \n",
       "3    394463                         Chicago, IL         3   1413.0   1423.0   \n",
       "4    394514               Dallas-Fort Worth, TX         4   1134.0   1127.0   \n",
       "\n",
       "   2014-03  2014-04  2014-05  2014-06  2014-07  ...  2020-05  2020-06  \\\n",
       "0   1338.0   1350.0   1370.0     1385     1396  ...     1701     1703   \n",
       "1   2304.0   2336.0   2370.0     2392     2406  ...     2712     2696   \n",
       "2   1767.0   1794.0   1832.0     1863     1888  ...     2452     2458   \n",
       "3   1426.0   1442.0   1464.0     1480     1489  ...     1690     1691   \n",
       "4   1137.0   1154.0   1174.0     1190     1198  ...     1480     1485   \n",
       "\n",
       "   2020-07  2020-08  2020-09  2020-10  2020-11  2020-12  2021-01  2021-02  \n",
       "0     1703     1695     1691     1686     1694     1693     1701     1708  \n",
       "1     2666     2601     2551     2496     2472     2451     2472     2471  \n",
       "2     2457     2452     2449     2451     2464     2459     2463     2472  \n",
       "3     1685     1672     1654     1636     1628     1624     1622     1634  \n",
       "4     1491     1489     1491     1492     1505     1510     1507     1519  \n",
       "\n",
       "[5 rows x 89 columns]"
      ],
      "text/html": "<div>\n<style scoped>\n    .dataframe tbody tr th:only-of-type {\n        vertical-align: middle;\n    }\n\n    .dataframe tbody tr th {\n        vertical-align: top;\n    }\n\n    .dataframe thead th {\n        text-align: right;\n    }\n</style>\n<table border=\"1\" class=\"dataframe\">\n  <thead>\n    <tr style=\"text-align: right;\">\n      <th></th>\n      <th>RegionID</th>\n      <th>RegionName</th>\n      <th>SizeRank</th>\n      <th>2014-01</th>\n      <th>2014-02</th>\n      <th>2014-03</th>\n      <th>2014-04</th>\n      <th>2014-05</th>\n      <th>2014-06</th>\n      <th>2014-07</th>\n      <th>...</th>\n      <th>2020-05</th>\n      <th>2020-06</th>\n      <th>2020-07</th>\n      <th>2020-08</th>\n      <th>2020-09</th>\n      <th>2020-10</th>\n      <th>2020-11</th>\n      <th>2020-12</th>\n      <th>2021-01</th>\n      <th>2021-02</th>\n    </tr>\n  </thead>\n  <tbody>\n    <tr>\n      <th>0</th>\n      <td>102001</td>\n      <td>United States</td>\n      <td>0</td>\n      <td>1325.0</td>\n      <td>1331.0</td>\n      <td>1338.0</td>\n      <td>1350.0</td>\n      <td>1370.0</td>\n      <td>1385</td>\n      <td>1396</td>\n      <td>...</td>\n      <td>1701</td>\n      <td>1703</td>\n      <td>1703</td>\n      <td>1695</td>\n      <td>1691</td>\n      <td>1686</td>\n      <td>1694</td>\n      <td>1693</td>\n      <td>1701</td>\n      <td>1708</td>\n    </tr>\n    <tr>\n      <th>1</th>\n      <td>394913</td>\n      <td>New York, NY</td>\n      <td>1</td>\n      <td>2282.0</td>\n      <td>2300.0</td>\n      <td>2304.0</td>\n      <td>2336.0</td>\n      <td>2370.0</td>\n      <td>2392</td>\n      <td>2406</td>\n      <td>...</td>\n      <td>2712</td>\n      <td>2696</td>\n      <td>2666</td>\n      <td>2601</td>\n      <td>2551</td>\n      <td>2496</td>\n      <td>2472</td>\n      <td>2451</td>\n      <td>2472</td>\n      <td>2471</td>\n    </tr>\n    <tr>\n      <th>2</th>\n      <td>753899</td>\n      <td>Los Angeles-Long Beach-Anaheim, CA</td>\n      <td>2</td>\n      <td>1735.0</td>\n      <td>1761.0</td>\n      <td>1767.0</td>\n      <td>1794.0</td>\n      <td>1832.0</td>\n      <td>1863</td>\n      <td>1888</td>\n      <td>...</td>\n      <td>2452</td>\n      <td>2458</td>\n      <td>2457</td>\n      <td>2452</td>\n      <td>2449</td>\n      <td>2451</td>\n      <td>2464</td>\n      <td>2459</td>\n      <td>2463</td>\n      <td>2472</td>\n    </tr>\n    <tr>\n      <th>3</th>\n      <td>394463</td>\n      <td>Chicago, IL</td>\n      <td>3</td>\n      <td>1413.0</td>\n      <td>1423.0</td>\n      <td>1426.0</td>\n      <td>1442.0</td>\n      <td>1464.0</td>\n      <td>1480</td>\n      <td>1489</td>\n      <td>...</td>\n      <td>1690</td>\n      <td>1691</td>\n      <td>1685</td>\n      <td>1672</td>\n      <td>1654</td>\n      <td>1636</td>\n      <td>1628</td>\n      <td>1624</td>\n      <td>1622</td>\n      <td>1634</td>\n    </tr>\n    <tr>\n      <th>4</th>\n      <td>394514</td>\n      <td>Dallas-Fort Worth, TX</td>\n      <td>4</td>\n      <td>1134.0</td>\n      <td>1127.0</td>\n      <td>1137.0</td>\n      <td>1154.0</td>\n      <td>1174.0</td>\n      <td>1190</td>\n      <td>1198</td>\n      <td>...</td>\n      <td>1480</td>\n      <td>1485</td>\n      <td>1491</td>\n      <td>1489</td>\n      <td>1491</td>\n      <td>1492</td>\n      <td>1505</td>\n      <td>1510</td>\n      <td>1507</td>\n      <td>1519</td>\n    </tr>\n  </tbody>\n</table>\n<p>5 rows × 89 columns</p>\n</div>"
     },
     "metadata": {},
     "execution_count": 3
    }
   ],
   "source": [
    "rental.head()"
   ]
  },
  {
   "cell_type": "code",
   "execution_count": 4,
   "metadata": {},
   "outputs": [
    {
     "output_type": "execute_result",
     "data": {
      "text/plain": [
       "(106, 89)"
      ]
     },
     "metadata": {},
     "execution_count": 4
    }
   ],
   "source": [
    "rental.shape"
   ]
  },
  {
   "cell_type": "code",
   "execution_count": 5,
   "metadata": {},
   "outputs": [],
   "source": [
    "pd.set_option('display.max_rows', 10)"
   ]
  },
  {
   "cell_type": "code",
   "execution_count": 6,
   "metadata": {},
   "outputs": [
    {
     "output_type": "execute_result",
     "data": {
      "text/plain": [
       "RegionID      0\n",
       "RegionName    0\n",
       "SizeRank      0\n",
       "2014-01       5\n",
       "2014-02       1\n",
       "             ..\n",
       "2020-10       0\n",
       "2020-11       0\n",
       "2020-12       0\n",
       "2021-01       0\n",
       "2021-02       0\n",
       "Length: 89, dtype: int64"
      ]
     },
     "metadata": {},
     "execution_count": 6
    }
   ],
   "source": [
    "rental.isnull().sum()"
   ]
  },
  {
   "cell_type": "code",
   "execution_count": 7,
   "metadata": {},
   "outputs": [
    {
     "output_type": "execute_result",
     "data": {
      "text/plain": [
       "Index(['RegionID', 'RegionName', 'SizeRank', '2014-01', '2014-02', '2014-03',\n",
       "       '2014-04', '2014-05', '2014-06', '2014-07', '2014-08', '2014-09',\n",
       "       '2014-10', '2014-11', '2014-12', '2015-01', '2015-02', '2015-03',\n",
       "       '2015-04', '2015-05', '2015-06', '2015-07', '2015-08', '2015-09',\n",
       "       '2015-10', '2015-11', '2015-12', '2016-01', '2016-02', '2016-03',\n",
       "       '2016-04', '2016-05', '2016-06', '2016-07', '2016-08', '2016-09',\n",
       "       '2016-10', '2016-11', '2016-12', '2017-01', '2017-02', '2017-03',\n",
       "       '2017-04', '2017-05', '2017-06', '2017-07', '2017-08', '2017-09',\n",
       "       '2017-10', '2017-11', '2017-12', '2018-01', '2018-02', '2018-03',\n",
       "       '2018-04', '2018-05', '2018-06', '2018-07', '2018-08', '2018-09',\n",
       "       '2018-10', '2018-11', '2018-12', '2019-01', '2019-02', '2019-03',\n",
       "       '2019-04', '2019-05', '2019-06', '2019-07', '2019-08', '2019-09',\n",
       "       '2019-10', '2019-11', '2019-12', '2020-01', '2020-02', '2020-03',\n",
       "       '2020-04', '2020-05', '2020-06', '2020-07', '2020-08', '2020-09',\n",
       "       '2020-10', '2020-11', '2020-12', '2021-01', '2021-02'],\n",
       "      dtype='object')"
      ]
     },
     "metadata": {},
     "execution_count": 7
    }
   ],
   "source": [
    "rental.columns"
   ]
  },
  {
   "cell_type": "code",
   "execution_count": 8,
   "metadata": {},
   "outputs": [],
   "source": [
    "rent_melt = (rental.melt(id_vars= ['RegionID', 'RegionName', 'SizeRank'],\n",
    "                         var_name = 'ds',\n",
    "                         value_name = 'y')\n",
    "                         ).reset_index(drop=True)"
   ]
  },
  {
   "cell_type": "code",
   "execution_count": 10,
   "metadata": {},
   "outputs": [
    {
     "output_type": "execute_result",
     "data": {
      "text/plain": [
       "   RegionID                          RegionName  SizeRank       ds       y\n",
       "0    102001                       United States         0  2014-01  1325.0\n",
       "1    394913                        New York, NY         1  2014-01  2282.0\n",
       "2    753899  Los Angeles-Long Beach-Anaheim, CA         2  2014-01  1735.0\n",
       "3    394463                         Chicago, IL         3  2014-01  1413.0\n",
       "4    394514               Dallas-Fort Worth, TX         4  2014-01  1134.0"
      ],
      "text/html": "<div>\n<style scoped>\n    .dataframe tbody tr th:only-of-type {\n        vertical-align: middle;\n    }\n\n    .dataframe tbody tr th {\n        vertical-align: top;\n    }\n\n    .dataframe thead th {\n        text-align: right;\n    }\n</style>\n<table border=\"1\" class=\"dataframe\">\n  <thead>\n    <tr style=\"text-align: right;\">\n      <th></th>\n      <th>RegionID</th>\n      <th>RegionName</th>\n      <th>SizeRank</th>\n      <th>ds</th>\n      <th>y</th>\n    </tr>\n  </thead>\n  <tbody>\n    <tr>\n      <th>0</th>\n      <td>102001</td>\n      <td>United States</td>\n      <td>0</td>\n      <td>2014-01</td>\n      <td>1325.0</td>\n    </tr>\n    <tr>\n      <th>1</th>\n      <td>394913</td>\n      <td>New York, NY</td>\n      <td>1</td>\n      <td>2014-01</td>\n      <td>2282.0</td>\n    </tr>\n    <tr>\n      <th>2</th>\n      <td>753899</td>\n      <td>Los Angeles-Long Beach-Anaheim, CA</td>\n      <td>2</td>\n      <td>2014-01</td>\n      <td>1735.0</td>\n    </tr>\n    <tr>\n      <th>3</th>\n      <td>394463</td>\n      <td>Chicago, IL</td>\n      <td>3</td>\n      <td>2014-01</td>\n      <td>1413.0</td>\n    </tr>\n    <tr>\n      <th>4</th>\n      <td>394514</td>\n      <td>Dallas-Fort Worth, TX</td>\n      <td>4</td>\n      <td>2014-01</td>\n      <td>1134.0</td>\n    </tr>\n  </tbody>\n</table>\n</div>"
     },
     "metadata": {},
     "execution_count": 10
    }
   ],
   "source": [
    "rent_melt.head()"
   ]
  },
  {
   "cell_type": "code",
   "execution_count": 11,
   "metadata": {},
   "outputs": [
    {
     "output_type": "stream",
     "name": "stdout",
     "text": [
      "106\n"
     ]
    },
    {
     "output_type": "execute_result",
     "data": {
      "text/plain": [
       "array(['United States', 'New York, NY',\n",
       "       'Los Angeles-Long Beach-Anaheim, CA', 'Chicago, IL',\n",
       "       'Dallas-Fort Worth, TX', 'Philadelphia, PA', 'Houston, TX',\n",
       "       'Washington, DC', 'Miami-Fort Lauderdale, FL', 'Atlanta, GA',\n",
       "       'Boston, MA', 'San Francisco, CA', 'Detroit, MI', 'Riverside, CA',\n",
       "       'Phoenix, AZ', 'Seattle, WA', 'Minneapolis-St Paul, MN',\n",
       "       'San Diego, CA', 'St. Louis, MO', 'Tampa, FL', 'Baltimore, MD',\n",
       "       'Denver, CO', 'Pittsburgh, PA', 'Portland, OR', 'Charlotte, NC',\n",
       "       'Sacramento, CA', 'San Antonio, TX', 'Orlando, FL',\n",
       "       'Cincinnati, OH', 'Cleveland, OH', 'Kansas City, MO',\n",
       "       'Las Vegas, NV', 'Columbus, OH', 'Indianapolis, IN',\n",
       "       'San Jose, CA', 'Austin, TX', 'Virginia Beach, VA',\n",
       "       'Nashville, TN', 'Providence, RI', 'Milwaukee, WI',\n",
       "       'Jacksonville, FL', 'Memphis, TN', 'Oklahoma City, OK',\n",
       "       'Louisville-Jefferson County, KY', 'Hartford, CT', 'Richmond, VA',\n",
       "       'New Orleans, LA', 'Buffalo, NY', 'Raleigh, NC', 'Birmingham, AL',\n",
       "       'Salt Lake City, UT', 'Rochester, NY', 'Grand Rapids, MI',\n",
       "       'Tucson, AZ', 'Urban Honolulu, HI', 'Tulsa, OK', 'Fresno, CA',\n",
       "       'Worcester, MA', 'Stamford, CT', 'Albuquerque, NM', 'Albany, NY',\n",
       "       'Omaha, NE', 'New Haven, CT', 'Bakersfield, CA', 'Knoxville, TN',\n",
       "       'Greenville, SC', 'Ventura, CA', 'Allentown, PA', 'El Paso, TX',\n",
       "       'Baton Rouge, LA', 'Dayton, OH', 'Columbia, SC', 'Greensboro, NC',\n",
       "       'Akron, OH', 'North Port-Sarasota-Bradenton, FL',\n",
       "       'Little Rock, AR', 'Stockton, CA', 'Charleston, SC',\n",
       "       'Syracuse, NY', 'Colorado Springs, CO', 'Winston-Salem, NC',\n",
       "       'Wichita, KS', 'Springfield, MA', 'Fort Myers, FL',\n",
       "       'Boise City, ID', 'Toledo, OH', 'Madison, WI', 'Lakeland, FL',\n",
       "       'Ogden, UT', 'Daytona Beach, FL', 'Des Moines, IA', 'Jackson, MS',\n",
       "       'Youngstown, OH', 'Augusta, GA', 'Scranton, PA', 'Harrisburg, PA',\n",
       "       'Melbourne, FL', 'Chattanooga, TN', 'Spokane, WA', 'Provo, UT',\n",
       "       'Durham, NC', 'Port St. Lucie, FL', 'Fort Collins, CO',\n",
       "       'Boulder, CO', 'Greeley, CO', 'Gainesville, GA'], dtype=object)"
      ]
     },
     "metadata": {},
     "execution_count": 11
    }
   ],
   "source": [
    "print(rent_melt.RegionName.nunique())\n",
    "rent_melt.RegionName.unique()"
   ]
  },
  {
   "cell_type": "code",
   "execution_count": 12,
   "metadata": {},
   "outputs": [],
   "source": [
    "cities_list = list(rental['RegionName'])"
   ]
  },
  {
   "cell_type": "code",
   "execution_count": 13,
   "metadata": {},
   "outputs": [
    {
     "output_type": "execute_result",
     "data": {
      "text/plain": [
       "106"
      ]
     },
     "metadata": {},
     "execution_count": 13
    }
   ],
   "source": [
    "len(cities_list)"
   ]
  },
  {
   "cell_type": "code",
   "execution_count": 14,
   "metadata": {},
   "outputs": [],
   "source": [
    "def rnd_series(city):\n",
    "    subset = rent_melt[rent_melt['RegionName']== city]\n",
    "    dates = (pd.DataFrame({'ds': pd.to_datetime(rent_melt['ds'])}))\n",
    "    return subset"
   ]
  },
  {
   "cell_type": "code",
   "execution_count": 15,
   "metadata": {},
   "outputs": [],
   "source": [
    "series = [rnd_series(city) for city in cities_list]"
   ]
  },
  {
   "cell_type": "code",
   "execution_count": 16,
   "metadata": {},
   "outputs": [
    {
     "output_type": "execute_result",
     "data": {
      "text/plain": [
       "106"
      ]
     },
     "metadata": {},
     "execution_count": 16
    }
   ],
   "source": [
    "len(series)"
   ]
  },
  {
   "cell_type": "code",
   "execution_count": 17,
   "metadata": {},
   "outputs": [
    {
     "output_type": "execute_result",
     "data": {
      "text/plain": [
       "      RegionID     RegionName  SizeRank       ds       y\n",
       "0       102001  United States         0  2014-01  1325.0\n",
       "106     102001  United States         0  2014-02  1331.0\n",
       "212     102001  United States         0  2014-03  1338.0\n",
       "318     102001  United States         0  2014-04  1350.0\n",
       "424     102001  United States         0  2014-05  1370.0\n",
       "...        ...            ...       ...      ...     ...\n",
       "8586    102001  United States         0  2020-10  1686.0\n",
       "8692    102001  United States         0  2020-11  1694.0\n",
       "8798    102001  United States         0  2020-12  1693.0\n",
       "8904    102001  United States         0  2021-01  1701.0\n",
       "9010    102001  United States         0  2021-02  1708.0\n",
       "\n",
       "[86 rows x 5 columns]"
      ],
      "text/html": "<div>\n<style scoped>\n    .dataframe tbody tr th:only-of-type {\n        vertical-align: middle;\n    }\n\n    .dataframe tbody tr th {\n        vertical-align: top;\n    }\n\n    .dataframe thead th {\n        text-align: right;\n    }\n</style>\n<table border=\"1\" class=\"dataframe\">\n  <thead>\n    <tr style=\"text-align: right;\">\n      <th></th>\n      <th>RegionID</th>\n      <th>RegionName</th>\n      <th>SizeRank</th>\n      <th>ds</th>\n      <th>y</th>\n    </tr>\n  </thead>\n  <tbody>\n    <tr>\n      <th>0</th>\n      <td>102001</td>\n      <td>United States</td>\n      <td>0</td>\n      <td>2014-01</td>\n      <td>1325.0</td>\n    </tr>\n    <tr>\n      <th>106</th>\n      <td>102001</td>\n      <td>United States</td>\n      <td>0</td>\n      <td>2014-02</td>\n      <td>1331.0</td>\n    </tr>\n    <tr>\n      <th>212</th>\n      <td>102001</td>\n      <td>United States</td>\n      <td>0</td>\n      <td>2014-03</td>\n      <td>1338.0</td>\n    </tr>\n    <tr>\n      <th>318</th>\n      <td>102001</td>\n      <td>United States</td>\n      <td>0</td>\n      <td>2014-04</td>\n      <td>1350.0</td>\n    </tr>\n    <tr>\n      <th>424</th>\n      <td>102001</td>\n      <td>United States</td>\n      <td>0</td>\n      <td>2014-05</td>\n      <td>1370.0</td>\n    </tr>\n    <tr>\n      <th>...</th>\n      <td>...</td>\n      <td>...</td>\n      <td>...</td>\n      <td>...</td>\n      <td>...</td>\n    </tr>\n    <tr>\n      <th>8586</th>\n      <td>102001</td>\n      <td>United States</td>\n      <td>0</td>\n      <td>2020-10</td>\n      <td>1686.0</td>\n    </tr>\n    <tr>\n      <th>8692</th>\n      <td>102001</td>\n      <td>United States</td>\n      <td>0</td>\n      <td>2020-11</td>\n      <td>1694.0</td>\n    </tr>\n    <tr>\n      <th>8798</th>\n      <td>102001</td>\n      <td>United States</td>\n      <td>0</td>\n      <td>2020-12</td>\n      <td>1693.0</td>\n    </tr>\n    <tr>\n      <th>8904</th>\n      <td>102001</td>\n      <td>United States</td>\n      <td>0</td>\n      <td>2021-01</td>\n      <td>1701.0</td>\n    </tr>\n    <tr>\n      <th>9010</th>\n      <td>102001</td>\n      <td>United States</td>\n      <td>0</td>\n      <td>2021-02</td>\n      <td>1708.0</td>\n    </tr>\n  </tbody>\n</table>\n<p>86 rows × 5 columns</p>\n</div>"
     },
     "metadata": {},
     "execution_count": 17
    }
   ],
   "source": [
    "series[0]"
   ]
  },
  {
   "cell_type": "code",
   "execution_count": 25,
   "metadata": {},
   "outputs": [],
   "source": [
    "def run_prophet(series):\n",
    "    model = Prophet()\n",
    "    model.fit(series)\n",
    "    forecast = model.make_future_dataframe(periods=12, freq='MS')\n",
    "    forecast = model.predict(forecast)\n",
    "    forecast = forecast[['ds', 'yhat', 'yhat_lower', 'yhat_upper']]\n",
    "    forecast['RegionName'] = series['RegionName'].iloc[0]\n",
    "    forecast = forecast[['RegionName','ds', 'yhat', 'yhat_lower', 'yhat_upper']]\n",
    "    forecast[['yhat', 'yhat_lower', 'yhat_upper']] = forecast[['yhat', 'yhat_lower', 'yhat_upper']].astype(float)\n",
    "    forecast[['yhat', 'yhat_lower', 'yhat_upper']] = forecast[['yhat', 'yhat_lower', 'yhat_upper']].apply(np.ceil)\n",
    "    return forecast"
   ]
  },
  {
   "cell_type": "code",
   "execution_count": 26,
   "metadata": {},
   "outputs": [
    {
     "output_type": "execute_result",
     "data": {
      "text/plain": [
       "       RegionName         ds    yhat  yhat_lower  yhat_upper\n",
       "86  United States 2021-03-01  1705.0      1695.0      1715.0\n",
       "87  United States 2021-04-01  1706.0      1697.0      1716.0\n",
       "88  United States 2021-05-01  1707.0      1698.0      1717.0\n",
       "89  United States 2021-06-01  1708.0      1698.0      1719.0\n",
       "90  United States 2021-07-01  1709.0      1699.0      1720.0\n",
       "..            ...        ...     ...         ...         ...\n",
       "93  United States 2021-10-01  1713.0      1701.0      1725.0\n",
       "94  United States 2021-11-01  1714.0      1701.0      1726.0\n",
       "95  United States 2021-12-01  1715.0      1702.0      1729.0\n",
       "96  United States 2022-01-01  1716.0      1701.0      1730.0\n",
       "97  United States 2022-02-01  1717.0      1702.0      1733.0\n",
       "\n",
       "[12 rows x 5 columns]"
      ],
      "text/html": "<div>\n<style scoped>\n    .dataframe tbody tr th:only-of-type {\n        vertical-align: middle;\n    }\n\n    .dataframe tbody tr th {\n        vertical-align: top;\n    }\n\n    .dataframe thead th {\n        text-align: right;\n    }\n</style>\n<table border=\"1\" class=\"dataframe\">\n  <thead>\n    <tr style=\"text-align: right;\">\n      <th></th>\n      <th>RegionName</th>\n      <th>ds</th>\n      <th>yhat</th>\n      <th>yhat_lower</th>\n      <th>yhat_upper</th>\n    </tr>\n  </thead>\n  <tbody>\n    <tr>\n      <th>86</th>\n      <td>United States</td>\n      <td>2021-03-01</td>\n      <td>1705.0</td>\n      <td>1695.0</td>\n      <td>1715.0</td>\n    </tr>\n    <tr>\n      <th>87</th>\n      <td>United States</td>\n      <td>2021-04-01</td>\n      <td>1706.0</td>\n      <td>1697.0</td>\n      <td>1716.0</td>\n    </tr>\n    <tr>\n      <th>88</th>\n      <td>United States</td>\n      <td>2021-05-01</td>\n      <td>1707.0</td>\n      <td>1698.0</td>\n      <td>1717.0</td>\n    </tr>\n    <tr>\n      <th>89</th>\n      <td>United States</td>\n      <td>2021-06-01</td>\n      <td>1708.0</td>\n      <td>1698.0</td>\n      <td>1719.0</td>\n    </tr>\n    <tr>\n      <th>90</th>\n      <td>United States</td>\n      <td>2021-07-01</td>\n      <td>1709.0</td>\n      <td>1699.0</td>\n      <td>1720.0</td>\n    </tr>\n    <tr>\n      <th>...</th>\n      <td>...</td>\n      <td>...</td>\n      <td>...</td>\n      <td>...</td>\n      <td>...</td>\n    </tr>\n    <tr>\n      <th>93</th>\n      <td>United States</td>\n      <td>2021-10-01</td>\n      <td>1713.0</td>\n      <td>1701.0</td>\n      <td>1725.0</td>\n    </tr>\n    <tr>\n      <th>94</th>\n      <td>United States</td>\n      <td>2021-11-01</td>\n      <td>1714.0</td>\n      <td>1701.0</td>\n      <td>1726.0</td>\n    </tr>\n    <tr>\n      <th>95</th>\n      <td>United States</td>\n      <td>2021-12-01</td>\n      <td>1715.0</td>\n      <td>1702.0</td>\n      <td>1729.0</td>\n    </tr>\n    <tr>\n      <th>96</th>\n      <td>United States</td>\n      <td>2022-01-01</td>\n      <td>1716.0</td>\n      <td>1701.0</td>\n      <td>1730.0</td>\n    </tr>\n    <tr>\n      <th>97</th>\n      <td>United States</td>\n      <td>2022-02-01</td>\n      <td>1717.0</td>\n      <td>1702.0</td>\n      <td>1733.0</td>\n    </tr>\n  </tbody>\n</table>\n<p>12 rows × 5 columns</p>\n</div>"
     },
     "metadata": {},
     "execution_count": 26
    }
   ],
   "source": [
    "f = run_prophet(series[0])\n",
    "f.tail(12)"
   ]
  },
  {
   "cell_type": "code",
   "execution_count": null,
   "metadata": {},
   "outputs": [],
   "source": [
    "for i in range(len(series)):\n",
    "    f = run_prophet(series[i])\n",
    "    f.to_csv('csv/rental_prediction.csv', mode='a', index='False')"
   ]
  },
  {
   "cell_type": "code",
   "execution_count": null,
   "metadata": {},
   "outputs": [],
   "source": [
    "rental_predictions = pd.read_csv('csv/rental_prediction.csv')"
   ]
  },
  {
   "cell_type": "code",
   "execution_count": null,
   "metadata": {},
   "outputs": [],
   "source": [
    "rent_long = rental_prediction['RegionName', 'ds', 'yhat']"
   ]
  },
  {
   "cell_type": "code",
   "execution_count": null,
   "metadata": {},
   "outputs": [],
   "source": [
    "rental_long = rental_long.pivot_table(index = 'RegionName',\n",
    "                                                          columns = 'monthly',\n",
    "                                                          values = 'yhat')"
   ]
  },
  {
   "cell_type": "code",
   "execution_count": null,
   "metadata": {},
   "outputs": [],
   "source": [
    "def rental_forecast_graph(city):\n",
    "\n",
    "    city = [city]\n",
    "\n",
    "    # Historical population data\n",
    "    rental = pd.read_csv('csv/Metro_ZORI_AllHomesPlusMultifamily_Smoothed.csv')\n",
    "    rental = rental[rental['RegionName'].isin(city)]\n",
    "    rent_melt = rental.melt(id_vars= ['RegionID', 'RegionName', 'SizeRank'],var_name = 'ds', value_name = 'y')).reset_index(drop=True)\n",
    "\n",
    "    # Predictions\n",
    "    forecast = pd.read_csv('csv/rental_prediction.csv')\n",
    "    predictions = forecast[forecast['RegionName'].isin(city)][9:]\n",
    "    predictions['ds'] = predictions['ds']\n",
    "\n",
    "    # Graph Data\n",
    "    ax = population_melt.plot(x = 'ds', y = 'y', label='Observed', figsize= (10, 8))\n",
    "    predictions[['ds', 'yhat']].plot(ax = ax, x = 'ds', y = 'yhat', label = \"Forecast\")\n",
    "\n",
    "    # Fill to show upper and lower bounds\n",
    "    # Graph predictions including the upper and lower bounds\n",
    "    fig = go.Figure()\n",
    "\n",
    "    fig.add_trace(go.Scatter(\n",
    "        name = 'Original',\n",
    "        x = rent_melt['ds'],\n",
    "        y = rent_melt['y'],\n",
    "        fill = None,\n",
    "        mode = 'lines',\n",
    "        line_color = 'black',\n",
    "        showlegend = True\n",
    "    ))\n",
    "\n",
    "    fig.add_trace(go.Scatter(\n",
    "        name = 'Forecast',\n",
    "        x = predictions['ds'],\n",
    "        y = predictions['yhat'],\n",
    "        fill = None,\n",
    "        mode = 'lines',\n",
    "        line_color = 'red',\n",
    "        showlegend = True\n",
    "    ))\n",
    "\n",
    "    fig.add_trace(go.Scatter(\n",
    "        name = 'Lower Bound',\n",
    "        x = predictions['ds'],\n",
    "        y = predictions['yhat_lower'],\n",
    "        fill = None,\n",
    "        mode = 'lines',\n",
    "        line_color = 'gray'\n",
    "    ))\n",
    "\n",
    "    fig.add_trace(go.Scatter(\n",
    "        name = 'Upper Bound',\n",
    "        x = predictions['ds'],\n",
    "        y = predictions['yhat_upper'],\n",
    "        fill='tonexty',\n",
    "        mode='lines',\n",
    "        line_color = 'gray'\n",
    "    ))\n",
    "\n",
    "    # Edit the layout\n",
    "    fig.update_layout({\n",
    "        'autosize':True,\n",
    "        'title': f'{location[0]} Population Forecast',\n",
    "        'title_x': 0.5,\n",
    "        'xaxis_title': 'Monthly',\n",
    "        'yaxis_title': 'Population'\n",
    "        })\n",
    "\n",
    "    fig.update_yaxes(automargin = True)\n",
    "    fig.update_xaxes(automargin = True, nticks=20)\n",
    "\n",
    "    fig.show()\n",
    "\n",
    "    return fig.to_json()\n"
   ]
  }
 ]
}