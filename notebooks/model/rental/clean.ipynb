{
 "metadata": {
  "language_info": {
   "codemirror_mode": {
    "name": "ipython",
    "version": 3
   },
   "file_extension": ".py",
   "mimetype": "text/x-python",
   "name": "python",
   "nbconvert_exporter": "python",
   "pygments_lexer": "ipython3",
   "version": "3.8.6"
  },
  "orig_nbformat": 2,
  "kernelspec": {
   "name": "python386jvsc74a57bd02419ad2920cdc1fadb8f0ae6c1b14e969f8d411f4ecfa904fb0f4ff9d9e2f541",
   "display_name": "Python 3.8.6 64-bit ('3.8.6')"
  }
 },
 "nbformat": 4,
 "nbformat_minor": 2,
 "cells": [
  {
   "cell_type": "code",
   "execution_count": 1,
   "metadata": {},
   "outputs": [
    {
     "output_type": "stream",
     "name": "stderr",
     "text": [
      "/Users/jisha/.pyenv/versions/3.8.6/lib/python3.8/site-packages/pandas/compat/__init__.py:120: UserWarning: Could not import the lzma module. Your installed Python is incomplete. Attempting to use lzma compression will result in a RuntimeError.\n  warnings.warn(msg)\n"
     ]
    }
   ],
   "source": [
    "import pandas as pd"
   ]
  },
  {
   "source": [
    "## Clean Datasets"
   ],
   "cell_type": "markdown",
   "metadata": {}
  },
  {
   "source": [
    "### FMR0"
   ],
   "cell_type": "markdown",
   "metadata": {}
  },
  {
   "cell_type": "code",
   "execution_count": 2,
   "metadata": {},
   "outputs": [],
   "source": [
    "fmr0 = pd.read_csv('csv/fmr0.csv')"
   ]
  },
  {
   "cell_type": "code",
   "execution_count": 4,
   "metadata": {},
   "outputs": [
    {
     "output_type": "execute_result",
     "data": {
      "text/plain": [
       "            metro_code    areaname state_alpha  2017  2018  2019  2020  2021  \\\n",
       "0     METRO33860M33860  Montgomery          AL   587   588   581   583   640   \n",
       "4     METRO13820M13820  Birmingham          AL   665   692   706   804   817   \n",
       "5     METRO13820M13820      Hoover          AL   665   692   706   804   817   \n",
       "6     METRO13820M13820  Birmingham          AL   665   692   706   804   817   \n",
       "7     METRO13820M13820      Hoover          AL   665   692   706   804   817   \n",
       "...                ...         ...         ...   ...   ...   ...   ...   ...   \n",
       "3223  METRO41980MM7440    Guaynabo          PR   430   415   431   416   436   \n",
       "3224  METRO38660M38660       Ponce          PR   377   371   398   377   384   \n",
       "3225  METRO41980MM7440    San Juan          PR   430   415   431   416   436   \n",
       "3226  METRO41980MM7440    Guaynabo          PR   430   415   431   416   436   \n",
       "3227  METRO38660M49500       Yauco          PR   357   323   354   349   361   \n",
       "\n",
       "         city, state  \n",
       "0     Montgomery, AL  \n",
       "4     Birmingham, AL  \n",
       "5         Hoover, AL  \n",
       "6     Birmingham, AL  \n",
       "7         Hoover, AL  \n",
       "...              ...  \n",
       "3223    Guaynabo, PR  \n",
       "3224       Ponce, PR  \n",
       "3225    San Juan, PR  \n",
       "3226    Guaynabo, PR  \n",
       "3227       Yauco, PR  \n",
       "\n",
       "[2734 rows x 9 columns]"
      ],
      "text/html": "<div>\n<style scoped>\n    .dataframe tbody tr th:only-of-type {\n        vertical-align: middle;\n    }\n\n    .dataframe tbody tr th {\n        vertical-align: top;\n    }\n\n    .dataframe thead th {\n        text-align: right;\n    }\n</style>\n<table border=\"1\" class=\"dataframe\">\n  <thead>\n    <tr style=\"text-align: right;\">\n      <th></th>\n      <th>metro_code</th>\n      <th>areaname</th>\n      <th>state_alpha</th>\n      <th>2017</th>\n      <th>2018</th>\n      <th>2019</th>\n      <th>2020</th>\n      <th>2021</th>\n      <th>city, state</th>\n    </tr>\n  </thead>\n  <tbody>\n    <tr>\n      <th>0</th>\n      <td>METRO33860M33860</td>\n      <td>Montgomery</td>\n      <td>AL</td>\n      <td>587</td>\n      <td>588</td>\n      <td>581</td>\n      <td>583</td>\n      <td>640</td>\n      <td>Montgomery, AL</td>\n    </tr>\n    <tr>\n      <th>4</th>\n      <td>METRO13820M13820</td>\n      <td>Birmingham</td>\n      <td>AL</td>\n      <td>665</td>\n      <td>692</td>\n      <td>706</td>\n      <td>804</td>\n      <td>817</td>\n      <td>Birmingham, AL</td>\n    </tr>\n    <tr>\n      <th>5</th>\n      <td>METRO13820M13820</td>\n      <td>Hoover</td>\n      <td>AL</td>\n      <td>665</td>\n      <td>692</td>\n      <td>706</td>\n      <td>804</td>\n      <td>817</td>\n      <td>Hoover, AL</td>\n    </tr>\n    <tr>\n      <th>6</th>\n      <td>METRO13820M13820</td>\n      <td>Birmingham</td>\n      <td>AL</td>\n      <td>665</td>\n      <td>692</td>\n      <td>706</td>\n      <td>804</td>\n      <td>817</td>\n      <td>Birmingham, AL</td>\n    </tr>\n    <tr>\n      <th>7</th>\n      <td>METRO13820M13820</td>\n      <td>Hoover</td>\n      <td>AL</td>\n      <td>665</td>\n      <td>692</td>\n      <td>706</td>\n      <td>804</td>\n      <td>817</td>\n      <td>Hoover, AL</td>\n    </tr>\n    <tr>\n      <th>...</th>\n      <td>...</td>\n      <td>...</td>\n      <td>...</td>\n      <td>...</td>\n      <td>...</td>\n      <td>...</td>\n      <td>...</td>\n      <td>...</td>\n      <td>...</td>\n    </tr>\n    <tr>\n      <th>3223</th>\n      <td>METRO41980MM7440</td>\n      <td>Guaynabo</td>\n      <td>PR</td>\n      <td>430</td>\n      <td>415</td>\n      <td>431</td>\n      <td>416</td>\n      <td>436</td>\n      <td>Guaynabo, PR</td>\n    </tr>\n    <tr>\n      <th>3224</th>\n      <td>METRO38660M38660</td>\n      <td>Ponce</td>\n      <td>PR</td>\n      <td>377</td>\n      <td>371</td>\n      <td>398</td>\n      <td>377</td>\n      <td>384</td>\n      <td>Ponce, PR</td>\n    </tr>\n    <tr>\n      <th>3225</th>\n      <td>METRO41980MM7440</td>\n      <td>San Juan</td>\n      <td>PR</td>\n      <td>430</td>\n      <td>415</td>\n      <td>431</td>\n      <td>416</td>\n      <td>436</td>\n      <td>San Juan, PR</td>\n    </tr>\n    <tr>\n      <th>3226</th>\n      <td>METRO41980MM7440</td>\n      <td>Guaynabo</td>\n      <td>PR</td>\n      <td>430</td>\n      <td>415</td>\n      <td>431</td>\n      <td>416</td>\n      <td>436</td>\n      <td>Guaynabo, PR</td>\n    </tr>\n    <tr>\n      <th>3227</th>\n      <td>METRO38660M49500</td>\n      <td>Yauco</td>\n      <td>PR</td>\n      <td>357</td>\n      <td>323</td>\n      <td>354</td>\n      <td>349</td>\n      <td>361</td>\n      <td>Yauco, PR</td>\n    </tr>\n  </tbody>\n</table>\n<p>2734 rows × 9 columns</p>\n</div>"
     },
     "metadata": {},
     "execution_count": 4
    }
   ],
   "source": [
    "fmr0[fmr0.duplicated(subset=['city, state'], keep=False)]"
   ]
  },
  {
   "cell_type": "code",
   "execution_count": 5,
   "metadata": {},
   "outputs": [
    {
     "output_type": "stream",
     "name": "stdout",
     "text": [
      "(910, 9)\n"
     ]
    }
   ],
   "source": [
    "fmr0 = fmr0.drop_duplicates(subset=['city, state' ], keep='last')\n",
    "print(fmr0.shape)"
   ]
  },
  {
   "source": [
    "### FMR1"
   ],
   "cell_type": "markdown",
   "metadata": {}
  },
  {
   "cell_type": "code",
   "execution_count": 6,
   "metadata": {},
   "outputs": [],
   "source": [
    "fmr1 = pd.read_csv('csv/fmr1.csv')"
   ]
  },
  {
   "cell_type": "code",
   "execution_count": 7,
   "metadata": {},
   "outputs": [
    {
     "output_type": "execute_result",
     "data": {
      "text/plain": [
       "            metro_code    areaname state_alpha  2017  2018  2019  2020  2021  \\\n",
       "0     METRO33860M33860  Montgomery          AL   682   691   696   702   766   \n",
       "4     METRO13820M13820  Birmingham          AL   751   768   763   861   871   \n",
       "5     METRO13820M13820      Hoover          AL   751   768   763   861   871   \n",
       "6     METRO13820M13820  Birmingham          AL   751   768   763   861   871   \n",
       "7     METRO13820M13820      Hoover          AL   751   768   763   861   871   \n",
       "...                ...         ...         ...   ...   ...   ...   ...   ...   \n",
       "3223  METRO41980MM7440    Guaynabo          PR   459   439   459   451   477   \n",
       "3224  METRO38660M38660       Ponce          PR   395   381   408   388   393   \n",
       "3225  METRO41980MM7440    San Juan          PR   459   439   459   451   477   \n",
       "3226  METRO41980MM7440    Guaynabo          PR   459   439   459   451   477   \n",
       "3227  METRO38660M49500       Yauco          PR   374   337   363   359   369   \n",
       "\n",
       "         city, state  \n",
       "0     Montgomery, AL  \n",
       "4     Birmingham, AL  \n",
       "5         Hoover, AL  \n",
       "6     Birmingham, AL  \n",
       "7         Hoover, AL  \n",
       "...              ...  \n",
       "3223    Guaynabo, PR  \n",
       "3224       Ponce, PR  \n",
       "3225    San Juan, PR  \n",
       "3226    Guaynabo, PR  \n",
       "3227       Yauco, PR  \n",
       "\n",
       "[2734 rows x 9 columns]"
      ],
      "text/html": "<div>\n<style scoped>\n    .dataframe tbody tr th:only-of-type {\n        vertical-align: middle;\n    }\n\n    .dataframe tbody tr th {\n        vertical-align: top;\n    }\n\n    .dataframe thead th {\n        text-align: right;\n    }\n</style>\n<table border=\"1\" class=\"dataframe\">\n  <thead>\n    <tr style=\"text-align: right;\">\n      <th></th>\n      <th>metro_code</th>\n      <th>areaname</th>\n      <th>state_alpha</th>\n      <th>2017</th>\n      <th>2018</th>\n      <th>2019</th>\n      <th>2020</th>\n      <th>2021</th>\n      <th>city, state</th>\n    </tr>\n  </thead>\n  <tbody>\n    <tr>\n      <th>0</th>\n      <td>METRO33860M33860</td>\n      <td>Montgomery</td>\n      <td>AL</td>\n      <td>682</td>\n      <td>691</td>\n      <td>696</td>\n      <td>702</td>\n      <td>766</td>\n      <td>Montgomery, AL</td>\n    </tr>\n    <tr>\n      <th>4</th>\n      <td>METRO13820M13820</td>\n      <td>Birmingham</td>\n      <td>AL</td>\n      <td>751</td>\n      <td>768</td>\n      <td>763</td>\n      <td>861</td>\n      <td>871</td>\n      <td>Birmingham, AL</td>\n    </tr>\n    <tr>\n      <th>5</th>\n      <td>METRO13820M13820</td>\n      <td>Hoover</td>\n      <td>AL</td>\n      <td>751</td>\n      <td>768</td>\n      <td>763</td>\n      <td>861</td>\n      <td>871</td>\n      <td>Hoover, AL</td>\n    </tr>\n    <tr>\n      <th>6</th>\n      <td>METRO13820M13820</td>\n      <td>Birmingham</td>\n      <td>AL</td>\n      <td>751</td>\n      <td>768</td>\n      <td>763</td>\n      <td>861</td>\n      <td>871</td>\n      <td>Birmingham, AL</td>\n    </tr>\n    <tr>\n      <th>7</th>\n      <td>METRO13820M13820</td>\n      <td>Hoover</td>\n      <td>AL</td>\n      <td>751</td>\n      <td>768</td>\n      <td>763</td>\n      <td>861</td>\n      <td>871</td>\n      <td>Hoover, AL</td>\n    </tr>\n    <tr>\n      <th>...</th>\n      <td>...</td>\n      <td>...</td>\n      <td>...</td>\n      <td>...</td>\n      <td>...</td>\n      <td>...</td>\n      <td>...</td>\n      <td>...</td>\n      <td>...</td>\n    </tr>\n    <tr>\n      <th>3223</th>\n      <td>METRO41980MM7440</td>\n      <td>Guaynabo</td>\n      <td>PR</td>\n      <td>459</td>\n      <td>439</td>\n      <td>459</td>\n      <td>451</td>\n      <td>477</td>\n      <td>Guaynabo, PR</td>\n    </tr>\n    <tr>\n      <th>3224</th>\n      <td>METRO38660M38660</td>\n      <td>Ponce</td>\n      <td>PR</td>\n      <td>395</td>\n      <td>381</td>\n      <td>408</td>\n      <td>388</td>\n      <td>393</td>\n      <td>Ponce, PR</td>\n    </tr>\n    <tr>\n      <th>3225</th>\n      <td>METRO41980MM7440</td>\n      <td>San Juan</td>\n      <td>PR</td>\n      <td>459</td>\n      <td>439</td>\n      <td>459</td>\n      <td>451</td>\n      <td>477</td>\n      <td>San Juan, PR</td>\n    </tr>\n    <tr>\n      <th>3226</th>\n      <td>METRO41980MM7440</td>\n      <td>Guaynabo</td>\n      <td>PR</td>\n      <td>459</td>\n      <td>439</td>\n      <td>459</td>\n      <td>451</td>\n      <td>477</td>\n      <td>Guaynabo, PR</td>\n    </tr>\n    <tr>\n      <th>3227</th>\n      <td>METRO38660M49500</td>\n      <td>Yauco</td>\n      <td>PR</td>\n      <td>374</td>\n      <td>337</td>\n      <td>363</td>\n      <td>359</td>\n      <td>369</td>\n      <td>Yauco, PR</td>\n    </tr>\n  </tbody>\n</table>\n<p>2734 rows × 9 columns</p>\n</div>"
     },
     "metadata": {},
     "execution_count": 7
    }
   ],
   "source": [
    "fmr1[fmr1.duplicated(subset=['city, state'], keep=False)]"
   ]
  },
  {
   "cell_type": "code",
   "execution_count": 9,
   "metadata": {},
   "outputs": [
    {
     "output_type": "stream",
     "name": "stdout",
     "text": [
      "(910, 9)\n"
     ]
    }
   ],
   "source": [
    "fmr1 = fmr1.drop_duplicates(subset=['city, state' ], keep='last')\n",
    "print(fmr1.shape)"
   ]
  },
  {
   "source": [
    "### FMR2 "
   ],
   "cell_type": "markdown",
   "metadata": {}
  },
  {
   "cell_type": "code",
   "execution_count": 10,
   "metadata": {},
   "outputs": [],
   "source": [
    "fmr2 = pd.read_csv('csv/fmr2.csv')"
   ]
  },
  {
   "cell_type": "code",
   "execution_count": 11,
   "metadata": {},
   "outputs": [
    {
     "output_type": "execute_result",
     "data": {
      "text/plain": [
       "            metro_code    areaname state_alpha  2017  2018  2019  2020  2021  \\\n",
       "0     METRO33860M33860  Montgomery          AL   822   829   825   830   908   \n",
       "4     METRO13820M13820  Birmingham          AL   866   882   873   986  1002   \n",
       "5     METRO13820M13820      Hoover          AL   866   882   873   986  1002   \n",
       "6     METRO13820M13820  Birmingham          AL   866   882   873   986  1002   \n",
       "7     METRO13820M13820      Hoover          AL   866   882   873   986  1002   \n",
       "...                ...         ...         ...   ...   ...   ...   ...   ...   \n",
       "3223  METRO41980MM7440    Guaynabo          PR   553   530   549   531   556   \n",
       "3224  METRO38660M38660       Ponce          PR   456   438   467   442   448   \n",
       "3225  METRO41980MM7440    San Juan          PR   553   530   549   531   556   \n",
       "3226  METRO41980MM7440    Guaynabo          PR   553   530   549   531   556   \n",
       "3227  METRO38660M49500       Yauco          PR   432   389   416   409   421   \n",
       "\n",
       "         city, state  \n",
       "0     Montgomery, AL  \n",
       "4     Birmingham, AL  \n",
       "5         Hoover, AL  \n",
       "6     Birmingham, AL  \n",
       "7         Hoover, AL  \n",
       "...              ...  \n",
       "3223    Guaynabo, PR  \n",
       "3224       Ponce, PR  \n",
       "3225    San Juan, PR  \n",
       "3226    Guaynabo, PR  \n",
       "3227       Yauco, PR  \n",
       "\n",
       "[2734 rows x 9 columns]"
      ],
      "text/html": "<div>\n<style scoped>\n    .dataframe tbody tr th:only-of-type {\n        vertical-align: middle;\n    }\n\n    .dataframe tbody tr th {\n        vertical-align: top;\n    }\n\n    .dataframe thead th {\n        text-align: right;\n    }\n</style>\n<table border=\"1\" class=\"dataframe\">\n  <thead>\n    <tr style=\"text-align: right;\">\n      <th></th>\n      <th>metro_code</th>\n      <th>areaname</th>\n      <th>state_alpha</th>\n      <th>2017</th>\n      <th>2018</th>\n      <th>2019</th>\n      <th>2020</th>\n      <th>2021</th>\n      <th>city, state</th>\n    </tr>\n  </thead>\n  <tbody>\n    <tr>\n      <th>0</th>\n      <td>METRO33860M33860</td>\n      <td>Montgomery</td>\n      <td>AL</td>\n      <td>822</td>\n      <td>829</td>\n      <td>825</td>\n      <td>830</td>\n      <td>908</td>\n      <td>Montgomery, AL</td>\n    </tr>\n    <tr>\n      <th>4</th>\n      <td>METRO13820M13820</td>\n      <td>Birmingham</td>\n      <td>AL</td>\n      <td>866</td>\n      <td>882</td>\n      <td>873</td>\n      <td>986</td>\n      <td>1002</td>\n      <td>Birmingham, AL</td>\n    </tr>\n    <tr>\n      <th>5</th>\n      <td>METRO13820M13820</td>\n      <td>Hoover</td>\n      <td>AL</td>\n      <td>866</td>\n      <td>882</td>\n      <td>873</td>\n      <td>986</td>\n      <td>1002</td>\n      <td>Hoover, AL</td>\n    </tr>\n    <tr>\n      <th>6</th>\n      <td>METRO13820M13820</td>\n      <td>Birmingham</td>\n      <td>AL</td>\n      <td>866</td>\n      <td>882</td>\n      <td>873</td>\n      <td>986</td>\n      <td>1002</td>\n      <td>Birmingham, AL</td>\n    </tr>\n    <tr>\n      <th>7</th>\n      <td>METRO13820M13820</td>\n      <td>Hoover</td>\n      <td>AL</td>\n      <td>866</td>\n      <td>882</td>\n      <td>873</td>\n      <td>986</td>\n      <td>1002</td>\n      <td>Hoover, AL</td>\n    </tr>\n    <tr>\n      <th>...</th>\n      <td>...</td>\n      <td>...</td>\n      <td>...</td>\n      <td>...</td>\n      <td>...</td>\n      <td>...</td>\n      <td>...</td>\n      <td>...</td>\n      <td>...</td>\n    </tr>\n    <tr>\n      <th>3223</th>\n      <td>METRO41980MM7440</td>\n      <td>Guaynabo</td>\n      <td>PR</td>\n      <td>553</td>\n      <td>530</td>\n      <td>549</td>\n      <td>531</td>\n      <td>556</td>\n      <td>Guaynabo, PR</td>\n    </tr>\n    <tr>\n      <th>3224</th>\n      <td>METRO38660M38660</td>\n      <td>Ponce</td>\n      <td>PR</td>\n      <td>456</td>\n      <td>438</td>\n      <td>467</td>\n      <td>442</td>\n      <td>448</td>\n      <td>Ponce, PR</td>\n    </tr>\n    <tr>\n      <th>3225</th>\n      <td>METRO41980MM7440</td>\n      <td>San Juan</td>\n      <td>PR</td>\n      <td>553</td>\n      <td>530</td>\n      <td>549</td>\n      <td>531</td>\n      <td>556</td>\n      <td>San Juan, PR</td>\n    </tr>\n    <tr>\n      <th>3226</th>\n      <td>METRO41980MM7440</td>\n      <td>Guaynabo</td>\n      <td>PR</td>\n      <td>553</td>\n      <td>530</td>\n      <td>549</td>\n      <td>531</td>\n      <td>556</td>\n      <td>Guaynabo, PR</td>\n    </tr>\n    <tr>\n      <th>3227</th>\n      <td>METRO38660M49500</td>\n      <td>Yauco</td>\n      <td>PR</td>\n      <td>432</td>\n      <td>389</td>\n      <td>416</td>\n      <td>409</td>\n      <td>421</td>\n      <td>Yauco, PR</td>\n    </tr>\n  </tbody>\n</table>\n<p>2734 rows × 9 columns</p>\n</div>"
     },
     "metadata": {},
     "execution_count": 11
    }
   ],
   "source": [
    "fmr2[fmr2.duplicated(subset=['city, state'], keep=False)]"
   ]
  },
  {
   "cell_type": "code",
   "execution_count": 12,
   "metadata": {},
   "outputs": [
    {
     "output_type": "stream",
     "name": "stdout",
     "text": [
      "(910, 9)\n"
     ]
    }
   ],
   "source": [
    "fmr2 = fmr2.drop_duplicates(subset=['city, state' ], keep='last')\n",
    "print(fmr2.shape)"
   ]
  },
  {
   "source": [
    "### FMR3"
   ],
   "cell_type": "markdown",
   "metadata": {}
  },
  {
   "cell_type": "code",
   "execution_count": 13,
   "metadata": {},
   "outputs": [],
   "source": [
    "fmr3 = pd.read_csv('csv/fmr3.csv')"
   ]
  },
  {
   "cell_type": "code",
   "execution_count": 14,
   "metadata": {},
   "outputs": [
    {
     "output_type": "execute_result",
     "data": {
      "text/plain": [
       "            metro_code    areaname state_alpha  2017  2018  2019  2020  2021  \\\n",
       "0     METRO33860M33860  Montgomery          AL  1054  1055  1043  1047  1148   \n",
       "4     METRO13820M13820  Birmingham          AL  1163  1176  1154  1291  1303   \n",
       "5     METRO13820M13820      Hoover          AL  1163  1176  1154  1291  1303   \n",
       "6     METRO13820M13820  Birmingham          AL  1163  1176  1154  1291  1303   \n",
       "7     METRO13820M13820      Hoover          AL  1163  1176  1154  1291  1303   \n",
       "...                ...         ...         ...   ...   ...   ...   ...   ...   \n",
       "3223  METRO41980MM7440    Guaynabo          PR   743   706   728   706   740   \n",
       "3224  METRO38660M38660       Ponce          PR   664   637   675   638   641   \n",
       "3225  METRO41980MM7440    San Juan          PR   743   706   728   706   740   \n",
       "3226  METRO41980MM7440    Guaynabo          PR   743   706   728   706   740   \n",
       "3227  METRO38660M49500       Yauco          PR   555   501   575   567   596   \n",
       "\n",
       "         city, state  \n",
       "0     Montgomery, AL  \n",
       "4     Birmingham, AL  \n",
       "5         Hoover, AL  \n",
       "6     Birmingham, AL  \n",
       "7         Hoover, AL  \n",
       "...              ...  \n",
       "3223    Guaynabo, PR  \n",
       "3224       Ponce, PR  \n",
       "3225    San Juan, PR  \n",
       "3226    Guaynabo, PR  \n",
       "3227       Yauco, PR  \n",
       "\n",
       "[2734 rows x 9 columns]"
      ],
      "text/html": "<div>\n<style scoped>\n    .dataframe tbody tr th:only-of-type {\n        vertical-align: middle;\n    }\n\n    .dataframe tbody tr th {\n        vertical-align: top;\n    }\n\n    .dataframe thead th {\n        text-align: right;\n    }\n</style>\n<table border=\"1\" class=\"dataframe\">\n  <thead>\n    <tr style=\"text-align: right;\">\n      <th></th>\n      <th>metro_code</th>\n      <th>areaname</th>\n      <th>state_alpha</th>\n      <th>2017</th>\n      <th>2018</th>\n      <th>2019</th>\n      <th>2020</th>\n      <th>2021</th>\n      <th>city, state</th>\n    </tr>\n  </thead>\n  <tbody>\n    <tr>\n      <th>0</th>\n      <td>METRO33860M33860</td>\n      <td>Montgomery</td>\n      <td>AL</td>\n      <td>1054</td>\n      <td>1055</td>\n      <td>1043</td>\n      <td>1047</td>\n      <td>1148</td>\n      <td>Montgomery, AL</td>\n    </tr>\n    <tr>\n      <th>4</th>\n      <td>METRO13820M13820</td>\n      <td>Birmingham</td>\n      <td>AL</td>\n      <td>1163</td>\n      <td>1176</td>\n      <td>1154</td>\n      <td>1291</td>\n      <td>1303</td>\n      <td>Birmingham, AL</td>\n    </tr>\n    <tr>\n      <th>5</th>\n      <td>METRO13820M13820</td>\n      <td>Hoover</td>\n      <td>AL</td>\n      <td>1163</td>\n      <td>1176</td>\n      <td>1154</td>\n      <td>1291</td>\n      <td>1303</td>\n      <td>Hoover, AL</td>\n    </tr>\n    <tr>\n      <th>6</th>\n      <td>METRO13820M13820</td>\n      <td>Birmingham</td>\n      <td>AL</td>\n      <td>1163</td>\n      <td>1176</td>\n      <td>1154</td>\n      <td>1291</td>\n      <td>1303</td>\n      <td>Birmingham, AL</td>\n    </tr>\n    <tr>\n      <th>7</th>\n      <td>METRO13820M13820</td>\n      <td>Hoover</td>\n      <td>AL</td>\n      <td>1163</td>\n      <td>1176</td>\n      <td>1154</td>\n      <td>1291</td>\n      <td>1303</td>\n      <td>Hoover, AL</td>\n    </tr>\n    <tr>\n      <th>...</th>\n      <td>...</td>\n      <td>...</td>\n      <td>...</td>\n      <td>...</td>\n      <td>...</td>\n      <td>...</td>\n      <td>...</td>\n      <td>...</td>\n      <td>...</td>\n    </tr>\n    <tr>\n      <th>3223</th>\n      <td>METRO41980MM7440</td>\n      <td>Guaynabo</td>\n      <td>PR</td>\n      <td>743</td>\n      <td>706</td>\n      <td>728</td>\n      <td>706</td>\n      <td>740</td>\n      <td>Guaynabo, PR</td>\n    </tr>\n    <tr>\n      <th>3224</th>\n      <td>METRO38660M38660</td>\n      <td>Ponce</td>\n      <td>PR</td>\n      <td>664</td>\n      <td>637</td>\n      <td>675</td>\n      <td>638</td>\n      <td>641</td>\n      <td>Ponce, PR</td>\n    </tr>\n    <tr>\n      <th>3225</th>\n      <td>METRO41980MM7440</td>\n      <td>San Juan</td>\n      <td>PR</td>\n      <td>743</td>\n      <td>706</td>\n      <td>728</td>\n      <td>706</td>\n      <td>740</td>\n      <td>San Juan, PR</td>\n    </tr>\n    <tr>\n      <th>3226</th>\n      <td>METRO41980MM7440</td>\n      <td>Guaynabo</td>\n      <td>PR</td>\n      <td>743</td>\n      <td>706</td>\n      <td>728</td>\n      <td>706</td>\n      <td>740</td>\n      <td>Guaynabo, PR</td>\n    </tr>\n    <tr>\n      <th>3227</th>\n      <td>METRO38660M49500</td>\n      <td>Yauco</td>\n      <td>PR</td>\n      <td>555</td>\n      <td>501</td>\n      <td>575</td>\n      <td>567</td>\n      <td>596</td>\n      <td>Yauco, PR</td>\n    </tr>\n  </tbody>\n</table>\n<p>2734 rows × 9 columns</p>\n</div>"
     },
     "metadata": {},
     "execution_count": 14
    }
   ],
   "source": [
    "fmr3[fmr3.duplicated(subset=['city, state'], keep=False)]"
   ]
  },
  {
   "cell_type": "code",
   "execution_count": 15,
   "metadata": {},
   "outputs": [
    {
     "output_type": "stream",
     "name": "stdout",
     "text": [
      "(910, 9)\n"
     ]
    }
   ],
   "source": [
    "fmr3 = fmr3.drop_duplicates(subset=['city, state' ], keep='last')\n",
    "print(fmr3.shape)"
   ]
  },
  {
   "source": [
    "### Save FMR"
   ],
   "cell_type": "markdown",
   "metadata": {}
  },
  {
   "cell_type": "code",
   "execution_count": 16,
   "metadata": {},
   "outputs": [],
   "source": [
    "fmr0.to_csv('csv/fmr0.csv')\n",
    "fmr1.to_csv('csv/fmr1.csv')\n",
    "fmr2.to_csv('csv/fmr2.csv')\n",
    "fmr3.to_csv('csv/fmr3.csv')"
   ]
  },
  {
   "source": [
    "## Fix the predictions csv\n",
    "- looks like there is nothing to fix here \n",
    "910*"
   ],
   "cell_type": "markdown",
   "metadata": {}
  },
  {
   "cell_type": "code",
   "execution_count": 18,
   "metadata": {},
   "outputs": [],
   "source": [
    "fmr0_predictions = pd.read_csv('csv/fmr0_predictions.csv')\n",
    "fmr1_predictions = pd.read_csv('csv/fmr1_predictions.csv')\n",
    "fmr2_predictions = pd.read_csv('csv/fmr2_predictions.csv')"
   ]
  },
  {
   "cell_type": "code",
   "execution_count": 21,
   "metadata": {},
   "outputs": [
    {
     "output_type": "stream",
     "name": "stdout",
     "text": [
      "(13650, 6)\n"
     ]
    },
    {
     "output_type": "execute_result",
     "data": {
      "text/plain": [
       "    Unnamed: 0     city, state          ds   yhat  yhat_lower  yhat_upper\n",
       "0          0.0  Montgomery, AL  2017-01-01  588.0       587.0       588.0\n",
       "1          1.0  Montgomery, AL  2018-01-01  589.0       588.0       589.0\n",
       "2          2.0  Montgomery, AL  2019-01-01  581.0       581.0       582.0\n",
       "3          3.0  Montgomery, AL  2020-01-01  583.0       583.0       584.0\n",
       "4          4.0  Montgomery, AL  2021-01-01  640.0       640.0       641.0\n",
       "5          5.0  Montgomery, AL  2021-12-31  584.0       532.0       635.0\n",
       "6          6.0  Montgomery, AL  2022-12-31  583.0       427.0       733.0\n",
       "7          7.0  Montgomery, AL  2023-12-31  582.0       293.0       877.0\n",
       "8          8.0  Montgomery, AL  2024-12-31  646.0       184.0      1112.0\n",
       "9          9.0  Montgomery, AL  2025-12-31  645.0       -18.0      1298.0\n",
       "10        10.0  Montgomery, AL  2026-12-31  645.0      -228.0      1494.0\n",
       "11        11.0  Montgomery, AL  2027-12-31  643.0      -451.0      1691.0\n",
       "12        12.0  Montgomery, AL  2028-12-31  707.0      -653.0      1935.0\n",
       "13        13.0  Montgomery, AL  2029-12-31  707.0      -922.0      2198.0\n",
       "14        14.0  Montgomery, AL  2030-12-31  706.0     -1209.0      2481.0"
      ],
      "text/html": "<div>\n<style scoped>\n    .dataframe tbody tr th:only-of-type {\n        vertical-align: middle;\n    }\n\n    .dataframe tbody tr th {\n        vertical-align: top;\n    }\n\n    .dataframe thead th {\n        text-align: right;\n    }\n</style>\n<table border=\"1\" class=\"dataframe\">\n  <thead>\n    <tr style=\"text-align: right;\">\n      <th></th>\n      <th>Unnamed: 0</th>\n      <th>city, state</th>\n      <th>ds</th>\n      <th>yhat</th>\n      <th>yhat_lower</th>\n      <th>yhat_upper</th>\n    </tr>\n  </thead>\n  <tbody>\n    <tr>\n      <th>0</th>\n      <td>0.0</td>\n      <td>Montgomery, AL</td>\n      <td>2017-01-01</td>\n      <td>588.0</td>\n      <td>587.0</td>\n      <td>588.0</td>\n    </tr>\n    <tr>\n      <th>1</th>\n      <td>1.0</td>\n      <td>Montgomery, AL</td>\n      <td>2018-01-01</td>\n      <td>589.0</td>\n      <td>588.0</td>\n      <td>589.0</td>\n    </tr>\n    <tr>\n      <th>2</th>\n      <td>2.0</td>\n      <td>Montgomery, AL</td>\n      <td>2019-01-01</td>\n      <td>581.0</td>\n      <td>581.0</td>\n      <td>582.0</td>\n    </tr>\n    <tr>\n      <th>3</th>\n      <td>3.0</td>\n      <td>Montgomery, AL</td>\n      <td>2020-01-01</td>\n      <td>583.0</td>\n      <td>583.0</td>\n      <td>584.0</td>\n    </tr>\n    <tr>\n      <th>4</th>\n      <td>4.0</td>\n      <td>Montgomery, AL</td>\n      <td>2021-01-01</td>\n      <td>640.0</td>\n      <td>640.0</td>\n      <td>641.0</td>\n    </tr>\n    <tr>\n      <th>5</th>\n      <td>5.0</td>\n      <td>Montgomery, AL</td>\n      <td>2021-12-31</td>\n      <td>584.0</td>\n      <td>532.0</td>\n      <td>635.0</td>\n    </tr>\n    <tr>\n      <th>6</th>\n      <td>6.0</td>\n      <td>Montgomery, AL</td>\n      <td>2022-12-31</td>\n      <td>583.0</td>\n      <td>427.0</td>\n      <td>733.0</td>\n    </tr>\n    <tr>\n      <th>7</th>\n      <td>7.0</td>\n      <td>Montgomery, AL</td>\n      <td>2023-12-31</td>\n      <td>582.0</td>\n      <td>293.0</td>\n      <td>877.0</td>\n    </tr>\n    <tr>\n      <th>8</th>\n      <td>8.0</td>\n      <td>Montgomery, AL</td>\n      <td>2024-12-31</td>\n      <td>646.0</td>\n      <td>184.0</td>\n      <td>1112.0</td>\n    </tr>\n    <tr>\n      <th>9</th>\n      <td>9.0</td>\n      <td>Montgomery, AL</td>\n      <td>2025-12-31</td>\n      <td>645.0</td>\n      <td>-18.0</td>\n      <td>1298.0</td>\n    </tr>\n    <tr>\n      <th>10</th>\n      <td>10.0</td>\n      <td>Montgomery, AL</td>\n      <td>2026-12-31</td>\n      <td>645.0</td>\n      <td>-228.0</td>\n      <td>1494.0</td>\n    </tr>\n    <tr>\n      <th>11</th>\n      <td>11.0</td>\n      <td>Montgomery, AL</td>\n      <td>2027-12-31</td>\n      <td>643.0</td>\n      <td>-451.0</td>\n      <td>1691.0</td>\n    </tr>\n    <tr>\n      <th>12</th>\n      <td>12.0</td>\n      <td>Montgomery, AL</td>\n      <td>2028-12-31</td>\n      <td>707.0</td>\n      <td>-653.0</td>\n      <td>1935.0</td>\n    </tr>\n    <tr>\n      <th>13</th>\n      <td>13.0</td>\n      <td>Montgomery, AL</td>\n      <td>2029-12-31</td>\n      <td>707.0</td>\n      <td>-922.0</td>\n      <td>2198.0</td>\n    </tr>\n    <tr>\n      <th>14</th>\n      <td>14.0</td>\n      <td>Montgomery, AL</td>\n      <td>2030-12-31</td>\n      <td>706.0</td>\n      <td>-1209.0</td>\n      <td>2481.0</td>\n    </tr>\n  </tbody>\n</table>\n</div>"
     },
     "metadata": {},
     "execution_count": 21
    }
   ],
   "source": [
    "print(fmr0_predictions.shape)\n",
    "fmr0_predictions.head(15)"
   ]
  },
  {
   "cell_type": "code",
   "execution_count": null,
   "metadata": {},
   "outputs": [],
   "source": []
  }
 ]
}