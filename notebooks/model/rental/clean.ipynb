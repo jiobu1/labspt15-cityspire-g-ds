{
 "metadata": {
  "language_info": {
   "codemirror_mode": {
    "name": "ipython",
    "version": 3
   },
   "file_extension": ".py",
   "mimetype": "text/x-python",
   "name": "python",
   "nbconvert_exporter": "python",
   "pygments_lexer": "ipython3",
   "version": "3.8.6"
  },
  "orig_nbformat": 2,
  "kernelspec": {
   "name": "python386jvsc74a57bd02419ad2920cdc1fadb8f0ae6c1b14e969f8d411f4ecfa904fb0f4ff9d9e2f541",
   "display_name": "Python 3.8.6 64-bit ('3.8.6')"
  }
 },
 "nbformat": 4,
 "nbformat_minor": 2,
 "cells": [
  {
   "cell_type": "code",
   "execution_count": 1,
   "metadata": {},
   "outputs": [
    {
     "output_type": "stream",
     "name": "stderr",
     "text": [
      "/Users/jisha/.pyenv/versions/3.8.6/lib/python3.8/site-packages/pandas/compat/__init__.py:120: UserWarning: Could not import the lzma module. Your installed Python is incomplete. Attempting to use lzma compression will result in a RuntimeError.\n  warnings.warn(msg)\n"
     ]
    }
   ],
   "source": [
    "import pandas as pd"
   ]
  },
  {
   "source": [
    "## Clean Datasets"
   ],
   "cell_type": "markdown",
   "metadata": {}
  },
  {
   "source": [
    "### FMR0"
   ],
   "cell_type": "markdown",
   "metadata": {}
  },
  {
   "cell_type": "code",
   "execution_count": 2,
   "metadata": {},
   "outputs": [],
   "source": [
    "fmr0 = pd.read_csv('csv/fmr0.csv')"
   ]
  },
  {
   "cell_type": "code",
   "execution_count": 3,
   "metadata": {},
   "outputs": [
    {
     "output_type": "stream",
     "name": "stdout",
     "text": [
      "(3228, 9)\n"
     ]
    },
    {
     "output_type": "execute_result",
     "data": {
      "text/plain": [
       "         metro_code    areaname state_alpha  2017  2018  2019  2020  2021  \\\n",
       "0  METRO33860M33860  Montgomery          AL   587   588   581   583   640   \n",
       "1  METRO19300M19300      Daphne          AL   807   729   756   744   718   \n",
       "2  METRO19300M19300    Fairhope          AL   807   729   756   744   718   \n",
       "3  METRO19300M19300       Foley          AL   807   729   756   744   718   \n",
       "4  METRO13820M13820  Birmingham          AL   665   692   706   804   817   \n",
       "\n",
       "      city, state  \n",
       "0  Montgomery, AL  \n",
       "1      Daphne, AL  \n",
       "2    Fairhope, AL  \n",
       "3       Foley, AL  \n",
       "4  Birmingham, AL  "
      ],
      "text/html": "<div>\n<style scoped>\n    .dataframe tbody tr th:only-of-type {\n        vertical-align: middle;\n    }\n\n    .dataframe tbody tr th {\n        vertical-align: top;\n    }\n\n    .dataframe thead th {\n        text-align: right;\n    }\n</style>\n<table border=\"1\" class=\"dataframe\">\n  <thead>\n    <tr style=\"text-align: right;\">\n      <th></th>\n      <th>metro_code</th>\n      <th>areaname</th>\n      <th>state_alpha</th>\n      <th>2017</th>\n      <th>2018</th>\n      <th>2019</th>\n      <th>2020</th>\n      <th>2021</th>\n      <th>city, state</th>\n    </tr>\n  </thead>\n  <tbody>\n    <tr>\n      <th>0</th>\n      <td>METRO33860M33860</td>\n      <td>Montgomery</td>\n      <td>AL</td>\n      <td>587</td>\n      <td>588</td>\n      <td>581</td>\n      <td>583</td>\n      <td>640</td>\n      <td>Montgomery, AL</td>\n    </tr>\n    <tr>\n      <th>1</th>\n      <td>METRO19300M19300</td>\n      <td>Daphne</td>\n      <td>AL</td>\n      <td>807</td>\n      <td>729</td>\n      <td>756</td>\n      <td>744</td>\n      <td>718</td>\n      <td>Daphne, AL</td>\n    </tr>\n    <tr>\n      <th>2</th>\n      <td>METRO19300M19300</td>\n      <td>Fairhope</td>\n      <td>AL</td>\n      <td>807</td>\n      <td>729</td>\n      <td>756</td>\n      <td>744</td>\n      <td>718</td>\n      <td>Fairhope, AL</td>\n    </tr>\n    <tr>\n      <th>3</th>\n      <td>METRO19300M19300</td>\n      <td>Foley</td>\n      <td>AL</td>\n      <td>807</td>\n      <td>729</td>\n      <td>756</td>\n      <td>744</td>\n      <td>718</td>\n      <td>Foley, AL</td>\n    </tr>\n    <tr>\n      <th>4</th>\n      <td>METRO13820M13820</td>\n      <td>Birmingham</td>\n      <td>AL</td>\n      <td>665</td>\n      <td>692</td>\n      <td>706</td>\n      <td>804</td>\n      <td>817</td>\n      <td>Birmingham, AL</td>\n    </tr>\n  </tbody>\n</table>\n</div>"
     },
     "metadata": {},
     "execution_count": 3
    }
   ],
   "source": [
    "print(fmr0.shape)\n",
    "fmr0.head()"
   ]
  },
  {
   "cell_type": "code",
   "execution_count": 4,
   "metadata": {},
   "outputs": [
    {
     "output_type": "execute_result",
     "data": {
      "text/plain": [
       "            metro_code    areaname state_alpha  2017  2018  2019  2020  2021  \\\n",
       "0     METRO33860M33860  Montgomery          AL   587   588   581   583   640   \n",
       "4     METRO13820M13820  Birmingham          AL   665   692   706   804   817   \n",
       "5     METRO13820M13820      Hoover          AL   665   692   706   804   817   \n",
       "6     METRO13820M13820  Birmingham          AL   665   692   706   804   817   \n",
       "7     METRO13820M13820      Hoover          AL   665   692   706   804   817   \n",
       "...                ...         ...         ...   ...   ...   ...   ...   ...   \n",
       "3223  METRO41980MM7440    Guaynabo          PR   430   415   431   416   436   \n",
       "3224  METRO38660M38660       Ponce          PR   377   371   398   377   384   \n",
       "3225  METRO41980MM7440    San Juan          PR   430   415   431   416   436   \n",
       "3226  METRO41980MM7440    Guaynabo          PR   430   415   431   416   436   \n",
       "3227  METRO38660M49500       Yauco          PR   357   323   354   349   361   \n",
       "\n",
       "         city, state  \n",
       "0     Montgomery, AL  \n",
       "4     Birmingham, AL  \n",
       "5         Hoover, AL  \n",
       "6     Birmingham, AL  \n",
       "7         Hoover, AL  \n",
       "...              ...  \n",
       "3223    Guaynabo, PR  \n",
       "3224       Ponce, PR  \n",
       "3225    San Juan, PR  \n",
       "3226    Guaynabo, PR  \n",
       "3227       Yauco, PR  \n",
       "\n",
       "[2734 rows x 9 columns]"
      ],
      "text/html": "<div>\n<style scoped>\n    .dataframe tbody tr th:only-of-type {\n        vertical-align: middle;\n    }\n\n    .dataframe tbody tr th {\n        vertical-align: top;\n    }\n\n    .dataframe thead th {\n        text-align: right;\n    }\n</style>\n<table border=\"1\" class=\"dataframe\">\n  <thead>\n    <tr style=\"text-align: right;\">\n      <th></th>\n      <th>metro_code</th>\n      <th>areaname</th>\n      <th>state_alpha</th>\n      <th>2017</th>\n      <th>2018</th>\n      <th>2019</th>\n      <th>2020</th>\n      <th>2021</th>\n      <th>city, state</th>\n    </tr>\n  </thead>\n  <tbody>\n    <tr>\n      <th>0</th>\n      <td>METRO33860M33860</td>\n      <td>Montgomery</td>\n      <td>AL</td>\n      <td>587</td>\n      <td>588</td>\n      <td>581</td>\n      <td>583</td>\n      <td>640</td>\n      <td>Montgomery, AL</td>\n    </tr>\n    <tr>\n      <th>4</th>\n      <td>METRO13820M13820</td>\n      <td>Birmingham</td>\n      <td>AL</td>\n      <td>665</td>\n      <td>692</td>\n      <td>706</td>\n      <td>804</td>\n      <td>817</td>\n      <td>Birmingham, AL</td>\n    </tr>\n    <tr>\n      <th>5</th>\n      <td>METRO13820M13820</td>\n      <td>Hoover</td>\n      <td>AL</td>\n      <td>665</td>\n      <td>692</td>\n      <td>706</td>\n      <td>804</td>\n      <td>817</td>\n      <td>Hoover, AL</td>\n    </tr>\n    <tr>\n      <th>6</th>\n      <td>METRO13820M13820</td>\n      <td>Birmingham</td>\n      <td>AL</td>\n      <td>665</td>\n      <td>692</td>\n      <td>706</td>\n      <td>804</td>\n      <td>817</td>\n      <td>Birmingham, AL</td>\n    </tr>\n    <tr>\n      <th>7</th>\n      <td>METRO13820M13820</td>\n      <td>Hoover</td>\n      <td>AL</td>\n      <td>665</td>\n      <td>692</td>\n      <td>706</td>\n      <td>804</td>\n      <td>817</td>\n      <td>Hoover, AL</td>\n    </tr>\n    <tr>\n      <th>...</th>\n      <td>...</td>\n      <td>...</td>\n      <td>...</td>\n      <td>...</td>\n      <td>...</td>\n      <td>...</td>\n      <td>...</td>\n      <td>...</td>\n      <td>...</td>\n    </tr>\n    <tr>\n      <th>3223</th>\n      <td>METRO41980MM7440</td>\n      <td>Guaynabo</td>\n      <td>PR</td>\n      <td>430</td>\n      <td>415</td>\n      <td>431</td>\n      <td>416</td>\n      <td>436</td>\n      <td>Guaynabo, PR</td>\n    </tr>\n    <tr>\n      <th>3224</th>\n      <td>METRO38660M38660</td>\n      <td>Ponce</td>\n      <td>PR</td>\n      <td>377</td>\n      <td>371</td>\n      <td>398</td>\n      <td>377</td>\n      <td>384</td>\n      <td>Ponce, PR</td>\n    </tr>\n    <tr>\n      <th>3225</th>\n      <td>METRO41980MM7440</td>\n      <td>San Juan</td>\n      <td>PR</td>\n      <td>430</td>\n      <td>415</td>\n      <td>431</td>\n      <td>416</td>\n      <td>436</td>\n      <td>San Juan, PR</td>\n    </tr>\n    <tr>\n      <th>3226</th>\n      <td>METRO41980MM7440</td>\n      <td>Guaynabo</td>\n      <td>PR</td>\n      <td>430</td>\n      <td>415</td>\n      <td>431</td>\n      <td>416</td>\n      <td>436</td>\n      <td>Guaynabo, PR</td>\n    </tr>\n    <tr>\n      <th>3227</th>\n      <td>METRO38660M49500</td>\n      <td>Yauco</td>\n      <td>PR</td>\n      <td>357</td>\n      <td>323</td>\n      <td>354</td>\n      <td>349</td>\n      <td>361</td>\n      <td>Yauco, PR</td>\n    </tr>\n  </tbody>\n</table>\n<p>2734 rows × 9 columns</p>\n</div>"
     },
     "metadata": {},
     "execution_count": 4
    }
   ],
   "source": [
    "fmr0[fmr0.duplicated(subset=['city, state'], keep=False)]"
   ]
  },
  {
   "cell_type": "code",
   "execution_count": 5,
   "metadata": {},
   "outputs": [
    {
     "output_type": "stream",
     "name": "stdout",
     "text": [
      "(910, 9)\n"
     ]
    }
   ],
   "source": [
    "fmr0 = fmr0.drop_duplicates(subset=['city, state' ], keep='last')\n",
    "print(fmr0.shape)"
   ]
  },
  {
   "source": [
    "### FMR1"
   ],
   "cell_type": "markdown",
   "metadata": {}
  },
  {
   "cell_type": "code",
   "execution_count": 6,
   "metadata": {},
   "outputs": [],
   "source": [
    "fmr1 = pd.read_csv('csv/fmr1.csv')"
   ]
  },
  {
   "cell_type": "code",
   "execution_count": 7,
   "metadata": {},
   "outputs": [
    {
     "output_type": "stream",
     "name": "stdout",
     "text": [
      "(3228, 9)\n"
     ]
    },
    {
     "output_type": "execute_result",
     "data": {
      "text/plain": [
       "         metro_code    areaname state_alpha  2017  2018  2019  2020  2021  \\\n",
       "0  METRO33860M33860  Montgomery          AL   682   691   696   702   766   \n",
       "1  METRO19300M19300      Daphne          AL   847   762   773   749   723   \n",
       "2  METRO19300M19300    Fairhope          AL   847   762   773   749   723   \n",
       "3  METRO19300M19300       Foley          AL   847   762   773   749   723   \n",
       "4  METRO13820M13820  Birmingham          AL   751   768   763   861   871   \n",
       "\n",
       "      city, state  \n",
       "0  Montgomery, AL  \n",
       "1      Daphne, AL  \n",
       "2    Fairhope, AL  \n",
       "3       Foley, AL  \n",
       "4  Birmingham, AL  "
      ],
      "text/html": "<div>\n<style scoped>\n    .dataframe tbody tr th:only-of-type {\n        vertical-align: middle;\n    }\n\n    .dataframe tbody tr th {\n        vertical-align: top;\n    }\n\n    .dataframe thead th {\n        text-align: right;\n    }\n</style>\n<table border=\"1\" class=\"dataframe\">\n  <thead>\n    <tr style=\"text-align: right;\">\n      <th></th>\n      <th>metro_code</th>\n      <th>areaname</th>\n      <th>state_alpha</th>\n      <th>2017</th>\n      <th>2018</th>\n      <th>2019</th>\n      <th>2020</th>\n      <th>2021</th>\n      <th>city, state</th>\n    </tr>\n  </thead>\n  <tbody>\n    <tr>\n      <th>0</th>\n      <td>METRO33860M33860</td>\n      <td>Montgomery</td>\n      <td>AL</td>\n      <td>682</td>\n      <td>691</td>\n      <td>696</td>\n      <td>702</td>\n      <td>766</td>\n      <td>Montgomery, AL</td>\n    </tr>\n    <tr>\n      <th>1</th>\n      <td>METRO19300M19300</td>\n      <td>Daphne</td>\n      <td>AL</td>\n      <td>847</td>\n      <td>762</td>\n      <td>773</td>\n      <td>749</td>\n      <td>723</td>\n      <td>Daphne, AL</td>\n    </tr>\n    <tr>\n      <th>2</th>\n      <td>METRO19300M19300</td>\n      <td>Fairhope</td>\n      <td>AL</td>\n      <td>847</td>\n      <td>762</td>\n      <td>773</td>\n      <td>749</td>\n      <td>723</td>\n      <td>Fairhope, AL</td>\n    </tr>\n    <tr>\n      <th>3</th>\n      <td>METRO19300M19300</td>\n      <td>Foley</td>\n      <td>AL</td>\n      <td>847</td>\n      <td>762</td>\n      <td>773</td>\n      <td>749</td>\n      <td>723</td>\n      <td>Foley, AL</td>\n    </tr>\n    <tr>\n      <th>4</th>\n      <td>METRO13820M13820</td>\n      <td>Birmingham</td>\n      <td>AL</td>\n      <td>751</td>\n      <td>768</td>\n      <td>763</td>\n      <td>861</td>\n      <td>871</td>\n      <td>Birmingham, AL</td>\n    </tr>\n  </tbody>\n</table>\n</div>"
     },
     "metadata": {},
     "execution_count": 7
    }
   ],
   "source": [
    "print(fmr1.shape)\n",
    "fmr1.head()"
   ]
  },
  {
   "cell_type": "code",
   "execution_count": 8,
   "metadata": {},
   "outputs": [
    {
     "output_type": "execute_result",
     "data": {
      "text/plain": [
       "            metro_code    areaname state_alpha  2017  2018  2019  2020  2021  \\\n",
       "0     METRO33860M33860  Montgomery          AL   682   691   696   702   766   \n",
       "4     METRO13820M13820  Birmingham          AL   751   768   763   861   871   \n",
       "5     METRO13820M13820      Hoover          AL   751   768   763   861   871   \n",
       "6     METRO13820M13820  Birmingham          AL   751   768   763   861   871   \n",
       "7     METRO13820M13820      Hoover          AL   751   768   763   861   871   \n",
       "...                ...         ...         ...   ...   ...   ...   ...   ...   \n",
       "3223  METRO41980MM7440    Guaynabo          PR   459   439   459   451   477   \n",
       "3224  METRO38660M38660       Ponce          PR   395   381   408   388   393   \n",
       "3225  METRO41980MM7440    San Juan          PR   459   439   459   451   477   \n",
       "3226  METRO41980MM7440    Guaynabo          PR   459   439   459   451   477   \n",
       "3227  METRO38660M49500       Yauco          PR   374   337   363   359   369   \n",
       "\n",
       "         city, state  \n",
       "0     Montgomery, AL  \n",
       "4     Birmingham, AL  \n",
       "5         Hoover, AL  \n",
       "6     Birmingham, AL  \n",
       "7         Hoover, AL  \n",
       "...              ...  \n",
       "3223    Guaynabo, PR  \n",
       "3224       Ponce, PR  \n",
       "3225    San Juan, PR  \n",
       "3226    Guaynabo, PR  \n",
       "3227       Yauco, PR  \n",
       "\n",
       "[2734 rows x 9 columns]"
      ],
      "text/html": "<div>\n<style scoped>\n    .dataframe tbody tr th:only-of-type {\n        vertical-align: middle;\n    }\n\n    .dataframe tbody tr th {\n        vertical-align: top;\n    }\n\n    .dataframe thead th {\n        text-align: right;\n    }\n</style>\n<table border=\"1\" class=\"dataframe\">\n  <thead>\n    <tr style=\"text-align: right;\">\n      <th></th>\n      <th>metro_code</th>\n      <th>areaname</th>\n      <th>state_alpha</th>\n      <th>2017</th>\n      <th>2018</th>\n      <th>2019</th>\n      <th>2020</th>\n      <th>2021</th>\n      <th>city, state</th>\n    </tr>\n  </thead>\n  <tbody>\n    <tr>\n      <th>0</th>\n      <td>METRO33860M33860</td>\n      <td>Montgomery</td>\n      <td>AL</td>\n      <td>682</td>\n      <td>691</td>\n      <td>696</td>\n      <td>702</td>\n      <td>766</td>\n      <td>Montgomery, AL</td>\n    </tr>\n    <tr>\n      <th>4</th>\n      <td>METRO13820M13820</td>\n      <td>Birmingham</td>\n      <td>AL</td>\n      <td>751</td>\n      <td>768</td>\n      <td>763</td>\n      <td>861</td>\n      <td>871</td>\n      <td>Birmingham, AL</td>\n    </tr>\n    <tr>\n      <th>5</th>\n      <td>METRO13820M13820</td>\n      <td>Hoover</td>\n      <td>AL</td>\n      <td>751</td>\n      <td>768</td>\n      <td>763</td>\n      <td>861</td>\n      <td>871</td>\n      <td>Hoover, AL</td>\n    </tr>\n    <tr>\n      <th>6</th>\n      <td>METRO13820M13820</td>\n      <td>Birmingham</td>\n      <td>AL</td>\n      <td>751</td>\n      <td>768</td>\n      <td>763</td>\n      <td>861</td>\n      <td>871</td>\n      <td>Birmingham, AL</td>\n    </tr>\n    <tr>\n      <th>7</th>\n      <td>METRO13820M13820</td>\n      <td>Hoover</td>\n      <td>AL</td>\n      <td>751</td>\n      <td>768</td>\n      <td>763</td>\n      <td>861</td>\n      <td>871</td>\n      <td>Hoover, AL</td>\n    </tr>\n    <tr>\n      <th>...</th>\n      <td>...</td>\n      <td>...</td>\n      <td>...</td>\n      <td>...</td>\n      <td>...</td>\n      <td>...</td>\n      <td>...</td>\n      <td>...</td>\n      <td>...</td>\n    </tr>\n    <tr>\n      <th>3223</th>\n      <td>METRO41980MM7440</td>\n      <td>Guaynabo</td>\n      <td>PR</td>\n      <td>459</td>\n      <td>439</td>\n      <td>459</td>\n      <td>451</td>\n      <td>477</td>\n      <td>Guaynabo, PR</td>\n    </tr>\n    <tr>\n      <th>3224</th>\n      <td>METRO38660M38660</td>\n      <td>Ponce</td>\n      <td>PR</td>\n      <td>395</td>\n      <td>381</td>\n      <td>408</td>\n      <td>388</td>\n      <td>393</td>\n      <td>Ponce, PR</td>\n    </tr>\n    <tr>\n      <th>3225</th>\n      <td>METRO41980MM7440</td>\n      <td>San Juan</td>\n      <td>PR</td>\n      <td>459</td>\n      <td>439</td>\n      <td>459</td>\n      <td>451</td>\n      <td>477</td>\n      <td>San Juan, PR</td>\n    </tr>\n    <tr>\n      <th>3226</th>\n      <td>METRO41980MM7440</td>\n      <td>Guaynabo</td>\n      <td>PR</td>\n      <td>459</td>\n      <td>439</td>\n      <td>459</td>\n      <td>451</td>\n      <td>477</td>\n      <td>Guaynabo, PR</td>\n    </tr>\n    <tr>\n      <th>3227</th>\n      <td>METRO38660M49500</td>\n      <td>Yauco</td>\n      <td>PR</td>\n      <td>374</td>\n      <td>337</td>\n      <td>363</td>\n      <td>359</td>\n      <td>369</td>\n      <td>Yauco, PR</td>\n    </tr>\n  </tbody>\n</table>\n<p>2734 rows × 9 columns</p>\n</div>"
     },
     "metadata": {},
     "execution_count": 8
    }
   ],
   "source": [
    "fmr1[fmr1.duplicated(subset=['city, state'], keep=False)]"
   ]
  },
  {
   "cell_type": "code",
   "execution_count": 9,
   "metadata": {},
   "outputs": [
    {
     "output_type": "stream",
     "name": "stdout",
     "text": [
      "(910, 9)\n"
     ]
    }
   ],
   "source": [
    "fmr1 = fmr1.drop_duplicates(subset=['city, state' ], keep='last')\n",
    "print(fmr1.shape)"
   ]
  },
  {
   "source": [
    "### FMR2 "
   ],
   "cell_type": "markdown",
   "metadata": {}
  },
  {
   "cell_type": "code",
   "execution_count": 10,
   "metadata": {},
   "outputs": [],
   "source": [
    "fmr2 = pd.read_csv('csv/fmr2.csv')"
   ]
  },
  {
   "cell_type": "code",
   "execution_count": 11,
   "metadata": {},
   "outputs": [
    {
     "output_type": "stream",
     "name": "stdout",
     "text": [
      "(3228, 9)\n"
     ]
    },
    {
     "output_type": "execute_result",
     "data": {
      "text/plain": [
       "         metro_code    areaname state_alpha  2017  2018  2019  2020  2021  \\\n",
       "0  METRO33860M33860  Montgomery          AL   822   829   825   830   908   \n",
       "1  METRO19300M19300      Daphne          AL   977   879   888   916   922   \n",
       "2  METRO19300M19300    Fairhope          AL   977   879   888   916   922   \n",
       "3  METRO19300M19300       Foley          AL   977   879   888   916   922   \n",
       "4  METRO13820M13820  Birmingham          AL   866   882   873   986  1002   \n",
       "\n",
       "      city, state  \n",
       "0  Montgomery, AL  \n",
       "1      Daphne, AL  \n",
       "2    Fairhope, AL  \n",
       "3       Foley, AL  \n",
       "4  Birmingham, AL  "
      ],
      "text/html": "<div>\n<style scoped>\n    .dataframe tbody tr th:only-of-type {\n        vertical-align: middle;\n    }\n\n    .dataframe tbody tr th {\n        vertical-align: top;\n    }\n\n    .dataframe thead th {\n        text-align: right;\n    }\n</style>\n<table border=\"1\" class=\"dataframe\">\n  <thead>\n    <tr style=\"text-align: right;\">\n      <th></th>\n      <th>metro_code</th>\n      <th>areaname</th>\n      <th>state_alpha</th>\n      <th>2017</th>\n      <th>2018</th>\n      <th>2019</th>\n      <th>2020</th>\n      <th>2021</th>\n      <th>city, state</th>\n    </tr>\n  </thead>\n  <tbody>\n    <tr>\n      <th>0</th>\n      <td>METRO33860M33860</td>\n      <td>Montgomery</td>\n      <td>AL</td>\n      <td>822</td>\n      <td>829</td>\n      <td>825</td>\n      <td>830</td>\n      <td>908</td>\n      <td>Montgomery, AL</td>\n    </tr>\n    <tr>\n      <th>1</th>\n      <td>METRO19300M19300</td>\n      <td>Daphne</td>\n      <td>AL</td>\n      <td>977</td>\n      <td>879</td>\n      <td>888</td>\n      <td>916</td>\n      <td>922</td>\n      <td>Daphne, AL</td>\n    </tr>\n    <tr>\n      <th>2</th>\n      <td>METRO19300M19300</td>\n      <td>Fairhope</td>\n      <td>AL</td>\n      <td>977</td>\n      <td>879</td>\n      <td>888</td>\n      <td>916</td>\n      <td>922</td>\n      <td>Fairhope, AL</td>\n    </tr>\n    <tr>\n      <th>3</th>\n      <td>METRO19300M19300</td>\n      <td>Foley</td>\n      <td>AL</td>\n      <td>977</td>\n      <td>879</td>\n      <td>888</td>\n      <td>916</td>\n      <td>922</td>\n      <td>Foley, AL</td>\n    </tr>\n    <tr>\n      <th>4</th>\n      <td>METRO13820M13820</td>\n      <td>Birmingham</td>\n      <td>AL</td>\n      <td>866</td>\n      <td>882</td>\n      <td>873</td>\n      <td>986</td>\n      <td>1002</td>\n      <td>Birmingham, AL</td>\n    </tr>\n  </tbody>\n</table>\n</div>"
     },
     "metadata": {},
     "execution_count": 11
    }
   ],
   "source": [
    "print(fmr2.shape)\n",
    "fmr2.head()"
   ]
  },
  {
   "cell_type": "code",
   "execution_count": 12,
   "metadata": {},
   "outputs": [
    {
     "output_type": "execute_result",
     "data": {
      "text/plain": [
       "            metro_code    areaname state_alpha  2017  2018  2019  2020  2021  \\\n",
       "0     METRO33860M33860  Montgomery          AL   822   829   825   830   908   \n",
       "4     METRO13820M13820  Birmingham          AL   866   882   873   986  1002   \n",
       "5     METRO13820M13820      Hoover          AL   866   882   873   986  1002   \n",
       "6     METRO13820M13820  Birmingham          AL   866   882   873   986  1002   \n",
       "7     METRO13820M13820      Hoover          AL   866   882   873   986  1002   \n",
       "...                ...         ...         ...   ...   ...   ...   ...   ...   \n",
       "3223  METRO41980MM7440    Guaynabo          PR   553   530   549   531   556   \n",
       "3224  METRO38660M38660       Ponce          PR   456   438   467   442   448   \n",
       "3225  METRO41980MM7440    San Juan          PR   553   530   549   531   556   \n",
       "3226  METRO41980MM7440    Guaynabo          PR   553   530   549   531   556   \n",
       "3227  METRO38660M49500       Yauco          PR   432   389   416   409   421   \n",
       "\n",
       "         city, state  \n",
       "0     Montgomery, AL  \n",
       "4     Birmingham, AL  \n",
       "5         Hoover, AL  \n",
       "6     Birmingham, AL  \n",
       "7         Hoover, AL  \n",
       "...              ...  \n",
       "3223    Guaynabo, PR  \n",
       "3224       Ponce, PR  \n",
       "3225    San Juan, PR  \n",
       "3226    Guaynabo, PR  \n",
       "3227       Yauco, PR  \n",
       "\n",
       "[2734 rows x 9 columns]"
      ],
      "text/html": "<div>\n<style scoped>\n    .dataframe tbody tr th:only-of-type {\n        vertical-align: middle;\n    }\n\n    .dataframe tbody tr th {\n        vertical-align: top;\n    }\n\n    .dataframe thead th {\n        text-align: right;\n    }\n</style>\n<table border=\"1\" class=\"dataframe\">\n  <thead>\n    <tr style=\"text-align: right;\">\n      <th></th>\n      <th>metro_code</th>\n      <th>areaname</th>\n      <th>state_alpha</th>\n      <th>2017</th>\n      <th>2018</th>\n      <th>2019</th>\n      <th>2020</th>\n      <th>2021</th>\n      <th>city, state</th>\n    </tr>\n  </thead>\n  <tbody>\n    <tr>\n      <th>0</th>\n      <td>METRO33860M33860</td>\n      <td>Montgomery</td>\n      <td>AL</td>\n      <td>822</td>\n      <td>829</td>\n      <td>825</td>\n      <td>830</td>\n      <td>908</td>\n      <td>Montgomery, AL</td>\n    </tr>\n    <tr>\n      <th>4</th>\n      <td>METRO13820M13820</td>\n      <td>Birmingham</td>\n      <td>AL</td>\n      <td>866</td>\n      <td>882</td>\n      <td>873</td>\n      <td>986</td>\n      <td>1002</td>\n      <td>Birmingham, AL</td>\n    </tr>\n    <tr>\n      <th>5</th>\n      <td>METRO13820M13820</td>\n      <td>Hoover</td>\n      <td>AL</td>\n      <td>866</td>\n      <td>882</td>\n      <td>873</td>\n      <td>986</td>\n      <td>1002</td>\n      <td>Hoover, AL</td>\n    </tr>\n    <tr>\n      <th>6</th>\n      <td>METRO13820M13820</td>\n      <td>Birmingham</td>\n      <td>AL</td>\n      <td>866</td>\n      <td>882</td>\n      <td>873</td>\n      <td>986</td>\n      <td>1002</td>\n      <td>Birmingham, AL</td>\n    </tr>\n    <tr>\n      <th>7</th>\n      <td>METRO13820M13820</td>\n      <td>Hoover</td>\n      <td>AL</td>\n      <td>866</td>\n      <td>882</td>\n      <td>873</td>\n      <td>986</td>\n      <td>1002</td>\n      <td>Hoover, AL</td>\n    </tr>\n    <tr>\n      <th>...</th>\n      <td>...</td>\n      <td>...</td>\n      <td>...</td>\n      <td>...</td>\n      <td>...</td>\n      <td>...</td>\n      <td>...</td>\n      <td>...</td>\n      <td>...</td>\n    </tr>\n    <tr>\n      <th>3223</th>\n      <td>METRO41980MM7440</td>\n      <td>Guaynabo</td>\n      <td>PR</td>\n      <td>553</td>\n      <td>530</td>\n      <td>549</td>\n      <td>531</td>\n      <td>556</td>\n      <td>Guaynabo, PR</td>\n    </tr>\n    <tr>\n      <th>3224</th>\n      <td>METRO38660M38660</td>\n      <td>Ponce</td>\n      <td>PR</td>\n      <td>456</td>\n      <td>438</td>\n      <td>467</td>\n      <td>442</td>\n      <td>448</td>\n      <td>Ponce, PR</td>\n    </tr>\n    <tr>\n      <th>3225</th>\n      <td>METRO41980MM7440</td>\n      <td>San Juan</td>\n      <td>PR</td>\n      <td>553</td>\n      <td>530</td>\n      <td>549</td>\n      <td>531</td>\n      <td>556</td>\n      <td>San Juan, PR</td>\n    </tr>\n    <tr>\n      <th>3226</th>\n      <td>METRO41980MM7440</td>\n      <td>Guaynabo</td>\n      <td>PR</td>\n      <td>553</td>\n      <td>530</td>\n      <td>549</td>\n      <td>531</td>\n      <td>556</td>\n      <td>Guaynabo, PR</td>\n    </tr>\n    <tr>\n      <th>3227</th>\n      <td>METRO38660M49500</td>\n      <td>Yauco</td>\n      <td>PR</td>\n      <td>432</td>\n      <td>389</td>\n      <td>416</td>\n      <td>409</td>\n      <td>421</td>\n      <td>Yauco, PR</td>\n    </tr>\n  </tbody>\n</table>\n<p>2734 rows × 9 columns</p>\n</div>"
     },
     "metadata": {},
     "execution_count": 12
    }
   ],
   "source": [
    "fmr2[fmr2.duplicated(subset=['city, state'], keep=False)]"
   ]
  },
  {
   "cell_type": "code",
   "execution_count": 13,
   "metadata": {},
   "outputs": [
    {
     "output_type": "stream",
     "name": "stdout",
     "text": [
      "(910, 9)\n"
     ]
    }
   ],
   "source": [
    "fmr2 = fmr2.drop_duplicates(subset=['city, state' ], keep='last')\n",
    "print(fmr2.shape)"
   ]
  },
  {
   "source": [
    "### FMR3"
   ],
   "cell_type": "markdown",
   "metadata": {}
  },
  {
   "cell_type": "code",
   "execution_count": 14,
   "metadata": {},
   "outputs": [],
   "source": [
    "fmr3 = pd.read_csv('csv/fmr3.csv')"
   ]
  },
  {
   "cell_type": "code",
   "execution_count": 15,
   "metadata": {},
   "outputs": [
    {
     "output_type": "stream",
     "name": "stdout",
     "text": [
      "(3228, 9)\n"
     ]
    },
    {
     "output_type": "execute_result",
     "data": {
      "text/plain": [
       "         metro_code    areaname state_alpha  2017  2018  2019  2020  2021  \\\n",
       "0  METRO33860M33860  Montgomery          AL  1054  1055  1043  1047  1148   \n",
       "1  METRO19300M19300      Daphne          AL  1422  1280  1252  1251  1249   \n",
       "2  METRO19300M19300    Fairhope          AL  1422  1280  1252  1251  1249   \n",
       "3  METRO19300M19300       Foley          AL  1422  1280  1252  1251  1249   \n",
       "4  METRO13820M13820  Birmingham          AL  1163  1176  1154  1291  1303   \n",
       "\n",
       "      city, state  \n",
       "0  Montgomery, AL  \n",
       "1      Daphne, AL  \n",
       "2    Fairhope, AL  \n",
       "3       Foley, AL  \n",
       "4  Birmingham, AL  "
      ],
      "text/html": "<div>\n<style scoped>\n    .dataframe tbody tr th:only-of-type {\n        vertical-align: middle;\n    }\n\n    .dataframe tbody tr th {\n        vertical-align: top;\n    }\n\n    .dataframe thead th {\n        text-align: right;\n    }\n</style>\n<table border=\"1\" class=\"dataframe\">\n  <thead>\n    <tr style=\"text-align: right;\">\n      <th></th>\n      <th>metro_code</th>\n      <th>areaname</th>\n      <th>state_alpha</th>\n      <th>2017</th>\n      <th>2018</th>\n      <th>2019</th>\n      <th>2020</th>\n      <th>2021</th>\n      <th>city, state</th>\n    </tr>\n  </thead>\n  <tbody>\n    <tr>\n      <th>0</th>\n      <td>METRO33860M33860</td>\n      <td>Montgomery</td>\n      <td>AL</td>\n      <td>1054</td>\n      <td>1055</td>\n      <td>1043</td>\n      <td>1047</td>\n      <td>1148</td>\n      <td>Montgomery, AL</td>\n    </tr>\n    <tr>\n      <th>1</th>\n      <td>METRO19300M19300</td>\n      <td>Daphne</td>\n      <td>AL</td>\n      <td>1422</td>\n      <td>1280</td>\n      <td>1252</td>\n      <td>1251</td>\n      <td>1249</td>\n      <td>Daphne, AL</td>\n    </tr>\n    <tr>\n      <th>2</th>\n      <td>METRO19300M19300</td>\n      <td>Fairhope</td>\n      <td>AL</td>\n      <td>1422</td>\n      <td>1280</td>\n      <td>1252</td>\n      <td>1251</td>\n      <td>1249</td>\n      <td>Fairhope, AL</td>\n    </tr>\n    <tr>\n      <th>3</th>\n      <td>METRO19300M19300</td>\n      <td>Foley</td>\n      <td>AL</td>\n      <td>1422</td>\n      <td>1280</td>\n      <td>1252</td>\n      <td>1251</td>\n      <td>1249</td>\n      <td>Foley, AL</td>\n    </tr>\n    <tr>\n      <th>4</th>\n      <td>METRO13820M13820</td>\n      <td>Birmingham</td>\n      <td>AL</td>\n      <td>1163</td>\n      <td>1176</td>\n      <td>1154</td>\n      <td>1291</td>\n      <td>1303</td>\n      <td>Birmingham, AL</td>\n    </tr>\n  </tbody>\n</table>\n</div>"
     },
     "metadata": {},
     "execution_count": 15
    }
   ],
   "source": [
    "print(fmr3.shape)\n",
    "fmr3.head()"
   ]
  },
  {
   "cell_type": "code",
   "execution_count": 16,
   "metadata": {},
   "outputs": [
    {
     "output_type": "execute_result",
     "data": {
      "text/plain": [
       "            metro_code    areaname state_alpha  2017  2018  2019  2020  2021  \\\n",
       "0     METRO33860M33860  Montgomery          AL  1054  1055  1043  1047  1148   \n",
       "4     METRO13820M13820  Birmingham          AL  1163  1176  1154  1291  1303   \n",
       "5     METRO13820M13820      Hoover          AL  1163  1176  1154  1291  1303   \n",
       "6     METRO13820M13820  Birmingham          AL  1163  1176  1154  1291  1303   \n",
       "7     METRO13820M13820      Hoover          AL  1163  1176  1154  1291  1303   \n",
       "...                ...         ...         ...   ...   ...   ...   ...   ...   \n",
       "3223  METRO41980MM7440    Guaynabo          PR   743   706   728   706   740   \n",
       "3224  METRO38660M38660       Ponce          PR   664   637   675   638   641   \n",
       "3225  METRO41980MM7440    San Juan          PR   743   706   728   706   740   \n",
       "3226  METRO41980MM7440    Guaynabo          PR   743   706   728   706   740   \n",
       "3227  METRO38660M49500       Yauco          PR   555   501   575   567   596   \n",
       "\n",
       "         city, state  \n",
       "0     Montgomery, AL  \n",
       "4     Birmingham, AL  \n",
       "5         Hoover, AL  \n",
       "6     Birmingham, AL  \n",
       "7         Hoover, AL  \n",
       "...              ...  \n",
       "3223    Guaynabo, PR  \n",
       "3224       Ponce, PR  \n",
       "3225    San Juan, PR  \n",
       "3226    Guaynabo, PR  \n",
       "3227       Yauco, PR  \n",
       "\n",
       "[2734 rows x 9 columns]"
      ],
      "text/html": "<div>\n<style scoped>\n    .dataframe tbody tr th:only-of-type {\n        vertical-align: middle;\n    }\n\n    .dataframe tbody tr th {\n        vertical-align: top;\n    }\n\n    .dataframe thead th {\n        text-align: right;\n    }\n</style>\n<table border=\"1\" class=\"dataframe\">\n  <thead>\n    <tr style=\"text-align: right;\">\n      <th></th>\n      <th>metro_code</th>\n      <th>areaname</th>\n      <th>state_alpha</th>\n      <th>2017</th>\n      <th>2018</th>\n      <th>2019</th>\n      <th>2020</th>\n      <th>2021</th>\n      <th>city, state</th>\n    </tr>\n  </thead>\n  <tbody>\n    <tr>\n      <th>0</th>\n      <td>METRO33860M33860</td>\n      <td>Montgomery</td>\n      <td>AL</td>\n      <td>1054</td>\n      <td>1055</td>\n      <td>1043</td>\n      <td>1047</td>\n      <td>1148</td>\n      <td>Montgomery, AL</td>\n    </tr>\n    <tr>\n      <th>4</th>\n      <td>METRO13820M13820</td>\n      <td>Birmingham</td>\n      <td>AL</td>\n      <td>1163</td>\n      <td>1176</td>\n      <td>1154</td>\n      <td>1291</td>\n      <td>1303</td>\n      <td>Birmingham, AL</td>\n    </tr>\n    <tr>\n      <th>5</th>\n      <td>METRO13820M13820</td>\n      <td>Hoover</td>\n      <td>AL</td>\n      <td>1163</td>\n      <td>1176</td>\n      <td>1154</td>\n      <td>1291</td>\n      <td>1303</td>\n      <td>Hoover, AL</td>\n    </tr>\n    <tr>\n      <th>6</th>\n      <td>METRO13820M13820</td>\n      <td>Birmingham</td>\n      <td>AL</td>\n      <td>1163</td>\n      <td>1176</td>\n      <td>1154</td>\n      <td>1291</td>\n      <td>1303</td>\n      <td>Birmingham, AL</td>\n    </tr>\n    <tr>\n      <th>7</th>\n      <td>METRO13820M13820</td>\n      <td>Hoover</td>\n      <td>AL</td>\n      <td>1163</td>\n      <td>1176</td>\n      <td>1154</td>\n      <td>1291</td>\n      <td>1303</td>\n      <td>Hoover, AL</td>\n    </tr>\n    <tr>\n      <th>...</th>\n      <td>...</td>\n      <td>...</td>\n      <td>...</td>\n      <td>...</td>\n      <td>...</td>\n      <td>...</td>\n      <td>...</td>\n      <td>...</td>\n      <td>...</td>\n    </tr>\n    <tr>\n      <th>3223</th>\n      <td>METRO41980MM7440</td>\n      <td>Guaynabo</td>\n      <td>PR</td>\n      <td>743</td>\n      <td>706</td>\n      <td>728</td>\n      <td>706</td>\n      <td>740</td>\n      <td>Guaynabo, PR</td>\n    </tr>\n    <tr>\n      <th>3224</th>\n      <td>METRO38660M38660</td>\n      <td>Ponce</td>\n      <td>PR</td>\n      <td>664</td>\n      <td>637</td>\n      <td>675</td>\n      <td>638</td>\n      <td>641</td>\n      <td>Ponce, PR</td>\n    </tr>\n    <tr>\n      <th>3225</th>\n      <td>METRO41980MM7440</td>\n      <td>San Juan</td>\n      <td>PR</td>\n      <td>743</td>\n      <td>706</td>\n      <td>728</td>\n      <td>706</td>\n      <td>740</td>\n      <td>San Juan, PR</td>\n    </tr>\n    <tr>\n      <th>3226</th>\n      <td>METRO41980MM7440</td>\n      <td>Guaynabo</td>\n      <td>PR</td>\n      <td>743</td>\n      <td>706</td>\n      <td>728</td>\n      <td>706</td>\n      <td>740</td>\n      <td>Guaynabo, PR</td>\n    </tr>\n    <tr>\n      <th>3227</th>\n      <td>METRO38660M49500</td>\n      <td>Yauco</td>\n      <td>PR</td>\n      <td>555</td>\n      <td>501</td>\n      <td>575</td>\n      <td>567</td>\n      <td>596</td>\n      <td>Yauco, PR</td>\n    </tr>\n  </tbody>\n</table>\n<p>2734 rows × 9 columns</p>\n</div>"
     },
     "metadata": {},
     "execution_count": 16
    }
   ],
   "source": [
    "fmr3[fmr3.duplicated(subset=['city, state'], keep=False)]"
   ]
  },
  {
   "cell_type": "code",
   "execution_count": 17,
   "metadata": {},
   "outputs": [
    {
     "output_type": "stream",
     "name": "stdout",
     "text": [
      "(910, 9)\n"
     ]
    }
   ],
   "source": [
    "fmr3 = fmr3.drop_duplicates(subset=['city, state' ], keep='last')\n",
    "print(fmr3.shape)"
   ]
  },
  {
   "source": [
    "### Save FMR"
   ],
   "cell_type": "markdown",
   "metadata": {}
  },
  {
   "cell_type": "code",
   "execution_count": 18,
   "metadata": {},
   "outputs": [],
   "source": [
    "fmr0.to_csv('csv/fmr0.csv', index=False)\n",
    "fmr1.to_csv('csv/fmr1.csv', index=False)\n",
    "fmr2.to_csv('csv/fmr2.csv', index=False)\n",
    "fmr3.to_csv('csv/fmr3.csv', index=False)"
   ]
  },
  {
   "source": [
    "### Create updated melts for ease of cleaning rather than rerunning the entire notebook"
   ],
   "cell_type": "markdown",
   "metadata": {}
  },
  {
   "cell_type": "code",
   "execution_count": 19,
   "metadata": {},
   "outputs": [],
   "source": [
    "fmr0_melt = fmr0.copy()\n",
    "fmr0_melt = fmr0_melt.drop(columns=['metro_code', 'areaname', 'state_alpha'])"
   ]
  },
  {
   "cell_type": "code",
   "execution_count": 20,
   "metadata": {},
   "outputs": [],
   "source": [
    "fmr1_melt = fmr1.copy()\n",
    "fmr1_melt = fmr1_melt.drop(columns=['metro_code', 'areaname', 'state_alpha'])"
   ]
  },
  {
   "cell_type": "code",
   "execution_count": 21,
   "metadata": {},
   "outputs": [],
   "source": [
    "fmr2_melt = fmr2.copy()\n",
    "fmr2_melt = fmr2_melt.drop(columns=['metro_code', 'areaname', 'state_alpha'])"
   ]
  },
  {
   "source": [
    "fmr3_melt = fmr3.copy()\n",
    "fmr3_melt = fmr3_melt.drop(columns=['metro_code', 'areaname', 'state_alpha'])"
   ],
   "cell_type": "code",
   "metadata": {},
   "execution_count": 22,
   "outputs": []
  },
  {
   "cell_type": "code",
   "execution_count": 23,
   "metadata": {},
   "outputs": [],
   "source": [
    "# to get in the form prophet needs\n",
    "fmr0_melt = (fmr0_melt.melt(id_vars=['city, state'], \n",
    "                         var_name='ds', \n",
    "                         value_name='y')\n",
    "                         ).reset_index(drop=True)"
   ]
  },
  {
   "cell_type": "code",
   "execution_count": 24,
   "metadata": {},
   "outputs": [
    {
     "output_type": "execute_result",
     "data": {
      "text/plain": [
       "    city, state    ds    y\n",
       "0    Daphne, AL  2017  807\n",
       "1  Fairhope, AL  2017  807\n",
       "2     Foley, AL  2017  807\n",
       "3  Anniston, AL  2017  437\n",
       "4    Oxford, AL  2017  437"
      ],
      "text/html": "<div>\n<style scoped>\n    .dataframe tbody tr th:only-of-type {\n        vertical-align: middle;\n    }\n\n    .dataframe tbody tr th {\n        vertical-align: top;\n    }\n\n    .dataframe thead th {\n        text-align: right;\n    }\n</style>\n<table border=\"1\" class=\"dataframe\">\n  <thead>\n    <tr style=\"text-align: right;\">\n      <th></th>\n      <th>city, state</th>\n      <th>ds</th>\n      <th>y</th>\n    </tr>\n  </thead>\n  <tbody>\n    <tr>\n      <th>0</th>\n      <td>Daphne, AL</td>\n      <td>2017</td>\n      <td>807</td>\n    </tr>\n    <tr>\n      <th>1</th>\n      <td>Fairhope, AL</td>\n      <td>2017</td>\n      <td>807</td>\n    </tr>\n    <tr>\n      <th>2</th>\n      <td>Foley, AL</td>\n      <td>2017</td>\n      <td>807</td>\n    </tr>\n    <tr>\n      <th>3</th>\n      <td>Anniston, AL</td>\n      <td>2017</td>\n      <td>437</td>\n    </tr>\n    <tr>\n      <th>4</th>\n      <td>Oxford, AL</td>\n      <td>2017</td>\n      <td>437</td>\n    </tr>\n  </tbody>\n</table>\n</div>"
     },
     "metadata": {},
     "execution_count": 24
    }
   ],
   "source": [
    "fmr0_melt.head()"
   ]
  },
  {
   "cell_type": "code",
   "execution_count": 25,
   "metadata": {},
   "outputs": [],
   "source": [
    "# to get in the form prophet needs\n",
    "fmr1_melt = (fmr1_melt.melt(id_vars=['city, state'], \n",
    "                         var_name='ds', \n",
    "                         value_name='y')\n",
    "                         ).reset_index(drop=True)"
   ]
  },
  {
   "cell_type": "code",
   "execution_count": 26,
   "metadata": {},
   "outputs": [
    {
     "output_type": "execute_result",
     "data": {
      "text/plain": [
       "    city, state    ds    y\n",
       "0    Daphne, AL  2017  847\n",
       "1  Fairhope, AL  2017  847\n",
       "2     Foley, AL  2017  847\n",
       "3  Anniston, AL  2017  474\n",
       "4    Oxford, AL  2017  474"
      ],
      "text/html": "<div>\n<style scoped>\n    .dataframe tbody tr th:only-of-type {\n        vertical-align: middle;\n    }\n\n    .dataframe tbody tr th {\n        vertical-align: top;\n    }\n\n    .dataframe thead th {\n        text-align: right;\n    }\n</style>\n<table border=\"1\" class=\"dataframe\">\n  <thead>\n    <tr style=\"text-align: right;\">\n      <th></th>\n      <th>city, state</th>\n      <th>ds</th>\n      <th>y</th>\n    </tr>\n  </thead>\n  <tbody>\n    <tr>\n      <th>0</th>\n      <td>Daphne, AL</td>\n      <td>2017</td>\n      <td>847</td>\n    </tr>\n    <tr>\n      <th>1</th>\n      <td>Fairhope, AL</td>\n      <td>2017</td>\n      <td>847</td>\n    </tr>\n    <tr>\n      <th>2</th>\n      <td>Foley, AL</td>\n      <td>2017</td>\n      <td>847</td>\n    </tr>\n    <tr>\n      <th>3</th>\n      <td>Anniston, AL</td>\n      <td>2017</td>\n      <td>474</td>\n    </tr>\n    <tr>\n      <th>4</th>\n      <td>Oxford, AL</td>\n      <td>2017</td>\n      <td>474</td>\n    </tr>\n  </tbody>\n</table>\n</div>"
     },
     "metadata": {},
     "execution_count": 26
    }
   ],
   "source": [
    "fmr1_melt.head()"
   ]
  },
  {
   "cell_type": "code",
   "execution_count": 27,
   "metadata": {},
   "outputs": [],
   "source": [
    "# to get in the form prophet needs\n",
    "fmr2_melt = (fmr2_melt.melt(id_vars=['city, state'], \n",
    "                         var_name='ds', \n",
    "                         value_name='y')\n",
    "                         ).reset_index(drop=True)"
   ]
  },
  {
   "cell_type": "code",
   "execution_count": 28,
   "metadata": {},
   "outputs": [
    {
     "output_type": "execute_result",
     "data": {
      "text/plain": [
       "    city, state    ds    y\n",
       "0    Daphne, AL  2017  977\n",
       "1  Fairhope, AL  2017  977\n",
       "2     Foley, AL  2017  977\n",
       "3  Anniston, AL  2017  630\n",
       "4    Oxford, AL  2017  630"
      ],
      "text/html": "<div>\n<style scoped>\n    .dataframe tbody tr th:only-of-type {\n        vertical-align: middle;\n    }\n\n    .dataframe tbody tr th {\n        vertical-align: top;\n    }\n\n    .dataframe thead th {\n        text-align: right;\n    }\n</style>\n<table border=\"1\" class=\"dataframe\">\n  <thead>\n    <tr style=\"text-align: right;\">\n      <th></th>\n      <th>city, state</th>\n      <th>ds</th>\n      <th>y</th>\n    </tr>\n  </thead>\n  <tbody>\n    <tr>\n      <th>0</th>\n      <td>Daphne, AL</td>\n      <td>2017</td>\n      <td>977</td>\n    </tr>\n    <tr>\n      <th>1</th>\n      <td>Fairhope, AL</td>\n      <td>2017</td>\n      <td>977</td>\n    </tr>\n    <tr>\n      <th>2</th>\n      <td>Foley, AL</td>\n      <td>2017</td>\n      <td>977</td>\n    </tr>\n    <tr>\n      <th>3</th>\n      <td>Anniston, AL</td>\n      <td>2017</td>\n      <td>630</td>\n    </tr>\n    <tr>\n      <th>4</th>\n      <td>Oxford, AL</td>\n      <td>2017</td>\n      <td>630</td>\n    </tr>\n  </tbody>\n</table>\n</div>"
     },
     "metadata": {},
     "execution_count": 28
    }
   ],
   "source": [
    "fmr2_melt.head()"
   ]
  },
  {
   "cell_type": "code",
   "execution_count": 29,
   "metadata": {},
   "outputs": [],
   "source": [
    "# to get in the form prophet needs\n",
    "fmr3_melt = (fmr3_melt.melt(id_vars=['city, state'], \n",
    "                         var_name='ds', \n",
    "                         value_name='y')\n",
    "                         ).reset_index(drop=True)"
   ]
  },
  {
   "cell_type": "code",
   "execution_count": 30,
   "metadata": {},
   "outputs": [
    {
     "output_type": "execute_result",
     "data": {
      "text/plain": [
       "    city, state    ds     y\n",
       "0    Daphne, AL  2017  1422\n",
       "1  Fairhope, AL  2017  1422\n",
       "2     Foley, AL  2017  1422\n",
       "3  Anniston, AL  2017   818\n",
       "4    Oxford, AL  2017   818"
      ],
      "text/html": "<div>\n<style scoped>\n    .dataframe tbody tr th:only-of-type {\n        vertical-align: middle;\n    }\n\n    .dataframe tbody tr th {\n        vertical-align: top;\n    }\n\n    .dataframe thead th {\n        text-align: right;\n    }\n</style>\n<table border=\"1\" class=\"dataframe\">\n  <thead>\n    <tr style=\"text-align: right;\">\n      <th></th>\n      <th>city, state</th>\n      <th>ds</th>\n      <th>y</th>\n    </tr>\n  </thead>\n  <tbody>\n    <tr>\n      <th>0</th>\n      <td>Daphne, AL</td>\n      <td>2017</td>\n      <td>1422</td>\n    </tr>\n    <tr>\n      <th>1</th>\n      <td>Fairhope, AL</td>\n      <td>2017</td>\n      <td>1422</td>\n    </tr>\n    <tr>\n      <th>2</th>\n      <td>Foley, AL</td>\n      <td>2017</td>\n      <td>1422</td>\n    </tr>\n    <tr>\n      <th>3</th>\n      <td>Anniston, AL</td>\n      <td>2017</td>\n      <td>818</td>\n    </tr>\n    <tr>\n      <th>4</th>\n      <td>Oxford, AL</td>\n      <td>2017</td>\n      <td>818</td>\n    </tr>\n  </tbody>\n</table>\n</div>"
     },
     "metadata": {},
     "execution_count": 30
    }
   ],
   "source": [
    "fmr3_melt.head()"
   ]
  },
  {
   "cell_type": "code",
   "execution_count": 31,
   "metadata": {},
   "outputs": [],
   "source": [
    "fmr0_melt.to_csv('csv/fmr0_melt.csv', index=False)\n",
    "fmr1_melt.to_csv('csv/fmr1_melt.csv', index=False)\n",
    "fmr2_melt.to_csv('csv/fmr2_melt.csv', index=False)\n",
    "fmr3_melt.to_csv('csv/fmr3_melt.csv', index=False)"
   ]
  },
  {
   "cell_type": "code",
   "execution_count": null,
   "metadata": {},
   "outputs": [],
   "source": []
  }
 ]
}