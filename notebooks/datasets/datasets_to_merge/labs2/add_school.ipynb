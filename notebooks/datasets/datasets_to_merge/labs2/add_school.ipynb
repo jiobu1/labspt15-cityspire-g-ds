{
 "metadata": {
  "language_info": {
   "codemirror_mode": {
    "name": "ipython",
    "version": 3
   },
   "file_extension": ".py",
   "mimetype": "text/x-python",
   "name": "python",
   "nbconvert_exporter": "python",
   "pygments_lexer": "ipython3",
   "version": "3.8.6"
  },
  "orig_nbformat": 2,
  "kernelspec": {
   "name": "python386jvsc74a57bd02419ad2920cdc1fadb8f0ae6c1b14e969f8d411f4ecfa904fb0f4ff9d9e2f541",
   "display_name": "Python 3.8.6 64-bit ('3.8.6': pyenv)"
  }
 },
 "nbformat": 4,
 "nbformat_minor": 2,
 "cells": [
  {
   "source": [
    "# Update Merged CSV\n",
    "- include a column showing the % of total schools rated >= 8 \n",
    "- add this to walk_score_df"
   ],
   "cell_type": "markdown",
   "metadata": {}
  },
  {
   "source": [
    "## Import"
   ],
   "cell_type": "markdown",
   "metadata": {}
  },
  {
   "cell_type": "code",
   "execution_count": 1,
   "metadata": {},
   "outputs": [
    {
     "output_type": "stream",
     "name": "stderr",
     "text": [
      "/Users/jisha/.pyenv/versions/3.8.6/lib/python3.8/site-packages/pandas/compat/__init__.py:120: UserWarning: Could not import the lzma module. Your installed Python is incomplete. Attempting to use lzma compression will result in a RuntimeError.\n  warnings.warn(msg)\n"
     ]
    }
   ],
   "source": [
    "import pandas as pd\n",
    "import numpy as np\n",
    "import os\n",
    "\n",
    "pd.set_option('display.max_columns', None)\n",
    "pd.set_option('display.max_colwidth', None)"
   ]
  },
  {
   "cell_type": "code",
   "execution_count": 2,
   "metadata": {},
   "outputs": [],
   "source": [
    "pwd = os.getcwd()"
   ]
  },
  {
   "cell_type": "code",
   "execution_count": 3,
   "metadata": {},
   "outputs": [],
   "source": [
    "walk_score_df = pd.read_csv('csv/walk_score_df.csv')"
   ]
  },
  {
   "cell_type": "code",
   "execution_count": 4,
   "metadata": {},
   "outputs": [
    {
     "output_type": "execute_result",
     "data": {
      "text/plain": [
       "   Unnamed: 0         City State  TotalPop     Men   Women  Hispanic  White  \\\n",
       "0           0        Akron    OH    267782  129623  138086       1.9   67.4   \n",
       "1           1       Albany    GA     93421   43571   49835       2.8   29.2   \n",
       "2           2       Albany    NY    147794   70664   77096       7.8   60.3   \n",
       "3           3       Albany    OR     61555   30378   31168      11.4   82.7   \n",
       "4           4  Albuquerque    NM    632240  309415  322758      50.4   38.5   \n",
       "\n",
       "   Black  Native  Asian  Pacific   Income  IncomeErr  IncomePerCap  \\\n",
       "0   23.2     0.2    3.6      0.0  3068406     504125       1732548   \n",
       "1   65.2     0.1    0.9      0.0  1025141     199233        547674   \n",
       "2   20.1     0.1    7.6      0.0  1917135     331452       1102265   \n",
       "3    0.6     0.7    1.9      0.1   542299      75753        268177   \n",
       "4    2.5     4.0    2.4      0.1  7693803    1270581       4099669   \n",
       "\n",
       "   IncomePerCapErr  Poverty  ChildPoverty  Employed  Unemployment  \\\n",
       "0           258991     19.6          26.2    126247           8.5   \n",
       "1            89500     29.6          41.9     35704          16.2   \n",
       "2           158632     17.4          17.8     74293           6.6   \n",
       "3            35254     14.3          18.6     27721           8.2   \n",
       "4           581026     18.2          24.8    292907           6.8   \n",
       "\n",
       "   PrivateWork  PublicWork  SelfEmployed  FamilyWork  Professional  Service  \\\n",
       "0         85.4        10.3           4.1         0.1          32.3     19.8   \n",
       "1         71.9        23.7           4.1         0.1          30.7     21.4   \n",
       "2         71.6        24.3           3.9         0.0          42.9     20.5   \n",
       "3         78.5        15.9           5.4         0.1          33.3     18.4   \n",
       "4         74.5        19.6           5.6         0.2          39.8     20.0   \n",
       "\n",
       "   Office  Construction  Production  Drive  Carpool  Transit  Walk  \\\n",
       "0    25.3           6.6        15.6   83.3      8.5      3.1   1.6   \n",
       "1    23.1           8.1        16.3   78.1     12.4      1.8   2.3   \n",
       "2    25.2           4.6         6.6   70.4      7.2     10.1   7.3   \n",
       "3    22.7           9.9        15.5   79.0     10.7      0.3   2.6   \n",
       "4    24.0           8.3         7.7   80.2      9.1      1.8   1.8   \n",
       "\n",
       "   OtherTransp  WorkAtHome  MeanCommute  Rent  Year  Population  \\\n",
       "0          0.6         2.7         21.9   911  2020      197882   \n",
       "1          0.7         4.3         19.1   814  2020       74989   \n",
       "2          1.7         2.9         18.9  1205  2020       97221   \n",
       "3          2.0         5.1         20.8  1197  2020       54993   \n",
       "4          2.5         4.3         21.7  1013  2020      561920   \n",
       "\n",
       "   Violent crime  Murder and nonnegligent manslaughter  Rape  Robbery  \\\n",
       "0           1782                                    27   181      328   \n",
       "1            790                                    12    32      165   \n",
       "2            736                                     4    60      189   \n",
       "3             70                                     1    10       16   \n",
       "4           7596                                    84   486     1699   \n",
       "\n",
       "   Aggravated assault  Property crime  Burglary  Larceny- theft  \\\n",
       "0                1246            6568      1686            4305   \n",
       "1                 581            3452       729            2489   \n",
       "2                 483            2919       445            2315   \n",
       "3                  43            1467       128            1242   \n",
       "4                5327           26059         0           20634   \n",
       "\n",
       "   Motor vehicle theft  Arson  Crime Rate per 1000 Crime Rating  \\\n",
       "0                  577     65                42.20         High   \n",
       "1                  234     17                56.57         High   \n",
       "2                  159     16                37.59       Medium   \n",
       "3                   97     17                27.95       Medium   \n",
       "4                 5425     98                59.89         High   \n",
       "\n",
       "   Days with AQI  Good Days  Moderate Days  \\\n",
       "0            274        203             68   \n",
       "1            244        182             60   \n",
       "2            274        240             34   \n",
       "3            182        161             21   \n",
       "4            183        101             82   \n",
       "\n",
       "   Unhealthy for Sensitive Groups Days  Unhealthy Days  Very Unhealthy Days  \\\n",
       "0                                    3               0                    0   \n",
       "1                                    2               0                    0   \n",
       "2                                    0               0                    0   \n",
       "3                                    0               0                    0   \n",
       "4                                    0               0                    0   \n",
       "\n",
       "   Hazardous Days  Max AQI  90th Percentile AQI  Median AQI  Days CO  \\\n",
       "0               0      107                   63          43        0   \n",
       "1               0      114                   63          37        0   \n",
       "2               0       75                   53          39        1   \n",
       "3               0       70                   51          19        0   \n",
       "4               0      100                   65          50        1   \n",
       "\n",
       "   Days NO2  Days Ozone  Days SO2  Days PM2.5  Days PM10 Air Quality Index  \\\n",
       "0         0         132         0         142          0              Good   \n",
       "1         0           0         0         244          0              Good   \n",
       "2         0         169         0         104          0              Good   \n",
       "3         0           0         0         182          0              Good   \n",
       "4         0         127         0          25         30              Good   \n",
       "\n",
       "   Diversity Index              Nearest        lat         lon  Walk Score  \\\n",
       "0         0.490241   126,56,332,355,295  41.044852  -81.520048          46   \n",
       "1         0.488771  162,372,139,351,249  31.567783  -84.161923          25   \n",
       "2         0.584133   319,358,336,145,79  42.652580  -73.756633          65   \n",
       "3         0.302632   29,132,230,383,202  44.627722 -123.094409          34   \n",
       "4         0.594958  359,258,386,360,127  35.106766 -106.629181          42   \n",
       "\n",
       "   Transit Score  Bike Score        Walkability Public Transportation  \\\n",
       "0             32          46      Car Dependent          Some Transit   \n",
       "1              0          40      Car Dependent               Minimal   \n",
       "2             54          56  Somewhat Walkable          Good Transit   \n",
       "3             17          53      Car Dependent               Minimal   \n",
       "4             30          62      Car Dependent          Some Transit   \n",
       "\n",
       "         Bikeability  \n",
       "0  Somewhat Bikeable  \n",
       "1  Somewhat Bikeable  \n",
       "2           Bikeable  \n",
       "3           Bikeable  \n",
       "4           Bikeable  "
      ],
      "text/html": "<div>\n<style scoped>\n    .dataframe tbody tr th:only-of-type {\n        vertical-align: middle;\n    }\n\n    .dataframe tbody tr th {\n        vertical-align: top;\n    }\n\n    .dataframe thead th {\n        text-align: right;\n    }\n</style>\n<table border=\"1\" class=\"dataframe\">\n  <thead>\n    <tr style=\"text-align: right;\">\n      <th></th>\n      <th>Unnamed: 0</th>\n      <th>City</th>\n      <th>State</th>\n      <th>TotalPop</th>\n      <th>Men</th>\n      <th>Women</th>\n      <th>Hispanic</th>\n      <th>White</th>\n      <th>Black</th>\n      <th>Native</th>\n      <th>Asian</th>\n      <th>Pacific</th>\n      <th>Income</th>\n      <th>IncomeErr</th>\n      <th>IncomePerCap</th>\n      <th>IncomePerCapErr</th>\n      <th>Poverty</th>\n      <th>ChildPoverty</th>\n      <th>Employed</th>\n      <th>Unemployment</th>\n      <th>PrivateWork</th>\n      <th>PublicWork</th>\n      <th>SelfEmployed</th>\n      <th>FamilyWork</th>\n      <th>Professional</th>\n      <th>Service</th>\n      <th>Office</th>\n      <th>Construction</th>\n      <th>Production</th>\n      <th>Drive</th>\n      <th>Carpool</th>\n      <th>Transit</th>\n      <th>Walk</th>\n      <th>OtherTransp</th>\n      <th>WorkAtHome</th>\n      <th>MeanCommute</th>\n      <th>Rent</th>\n      <th>Year</th>\n      <th>Population</th>\n      <th>Violent crime</th>\n      <th>Murder and nonnegligent manslaughter</th>\n      <th>Rape</th>\n      <th>Robbery</th>\n      <th>Aggravated assault</th>\n      <th>Property crime</th>\n      <th>Burglary</th>\n      <th>Larceny- theft</th>\n      <th>Motor vehicle theft</th>\n      <th>Arson</th>\n      <th>Crime Rate per 1000</th>\n      <th>Crime Rating</th>\n      <th>Days with AQI</th>\n      <th>Good Days</th>\n      <th>Moderate Days</th>\n      <th>Unhealthy for Sensitive Groups Days</th>\n      <th>Unhealthy Days</th>\n      <th>Very Unhealthy Days</th>\n      <th>Hazardous Days</th>\n      <th>Max AQI</th>\n      <th>90th Percentile AQI</th>\n      <th>Median AQI</th>\n      <th>Days CO</th>\n      <th>Days NO2</th>\n      <th>Days Ozone</th>\n      <th>Days SO2</th>\n      <th>Days PM2.5</th>\n      <th>Days PM10</th>\n      <th>Air Quality Index</th>\n      <th>Diversity Index</th>\n      <th>Nearest</th>\n      <th>lat</th>\n      <th>lon</th>\n      <th>Walk Score</th>\n      <th>Transit Score</th>\n      <th>Bike Score</th>\n      <th>Walkability</th>\n      <th>Public Transportation</th>\n      <th>Bikeability</th>\n    </tr>\n  </thead>\n  <tbody>\n    <tr>\n      <th>0</th>\n      <td>0</td>\n      <td>Akron</td>\n      <td>OH</td>\n      <td>267782</td>\n      <td>129623</td>\n      <td>138086</td>\n      <td>1.9</td>\n      <td>67.4</td>\n      <td>23.2</td>\n      <td>0.2</td>\n      <td>3.6</td>\n      <td>0.0</td>\n      <td>3068406</td>\n      <td>504125</td>\n      <td>1732548</td>\n      <td>258991</td>\n      <td>19.6</td>\n      <td>26.2</td>\n      <td>126247</td>\n      <td>8.5</td>\n      <td>85.4</td>\n      <td>10.3</td>\n      <td>4.1</td>\n      <td>0.1</td>\n      <td>32.3</td>\n      <td>19.8</td>\n      <td>25.3</td>\n      <td>6.6</td>\n      <td>15.6</td>\n      <td>83.3</td>\n      <td>8.5</td>\n      <td>3.1</td>\n      <td>1.6</td>\n      <td>0.6</td>\n      <td>2.7</td>\n      <td>21.9</td>\n      <td>911</td>\n      <td>2020</td>\n      <td>197882</td>\n      <td>1782</td>\n      <td>27</td>\n      <td>181</td>\n      <td>328</td>\n      <td>1246</td>\n      <td>6568</td>\n      <td>1686</td>\n      <td>4305</td>\n      <td>577</td>\n      <td>65</td>\n      <td>42.20</td>\n      <td>High</td>\n      <td>274</td>\n      <td>203</td>\n      <td>68</td>\n      <td>3</td>\n      <td>0</td>\n      <td>0</td>\n      <td>0</td>\n      <td>107</td>\n      <td>63</td>\n      <td>43</td>\n      <td>0</td>\n      <td>0</td>\n      <td>132</td>\n      <td>0</td>\n      <td>142</td>\n      <td>0</td>\n      <td>Good</td>\n      <td>0.490241</td>\n      <td>126,56,332,355,295</td>\n      <td>41.044852</td>\n      <td>-81.520048</td>\n      <td>46</td>\n      <td>32</td>\n      <td>46</td>\n      <td>Car Dependent</td>\n      <td>Some Transit</td>\n      <td>Somewhat Bikeable</td>\n    </tr>\n    <tr>\n      <th>1</th>\n      <td>1</td>\n      <td>Albany</td>\n      <td>GA</td>\n      <td>93421</td>\n      <td>43571</td>\n      <td>49835</td>\n      <td>2.8</td>\n      <td>29.2</td>\n      <td>65.2</td>\n      <td>0.1</td>\n      <td>0.9</td>\n      <td>0.0</td>\n      <td>1025141</td>\n      <td>199233</td>\n      <td>547674</td>\n      <td>89500</td>\n      <td>29.6</td>\n      <td>41.9</td>\n      <td>35704</td>\n      <td>16.2</td>\n      <td>71.9</td>\n      <td>23.7</td>\n      <td>4.1</td>\n      <td>0.1</td>\n      <td>30.7</td>\n      <td>21.4</td>\n      <td>23.1</td>\n      <td>8.1</td>\n      <td>16.3</td>\n      <td>78.1</td>\n      <td>12.4</td>\n      <td>1.8</td>\n      <td>2.3</td>\n      <td>0.7</td>\n      <td>4.3</td>\n      <td>19.1</td>\n      <td>814</td>\n      <td>2020</td>\n      <td>74989</td>\n      <td>790</td>\n      <td>12</td>\n      <td>32</td>\n      <td>165</td>\n      <td>581</td>\n      <td>3452</td>\n      <td>729</td>\n      <td>2489</td>\n      <td>234</td>\n      <td>17</td>\n      <td>56.57</td>\n      <td>High</td>\n      <td>244</td>\n      <td>182</td>\n      <td>60</td>\n      <td>2</td>\n      <td>0</td>\n      <td>0</td>\n      <td>0</td>\n      <td>114</td>\n      <td>63</td>\n      <td>37</td>\n      <td>0</td>\n      <td>0</td>\n      <td>0</td>\n      <td>0</td>\n      <td>244</td>\n      <td>0</td>\n      <td>Good</td>\n      <td>0.488771</td>\n      <td>162,372,139,351,249</td>\n      <td>31.567783</td>\n      <td>-84.161923</td>\n      <td>25</td>\n      <td>0</td>\n      <td>40</td>\n      <td>Car Dependent</td>\n      <td>Minimal</td>\n      <td>Somewhat Bikeable</td>\n    </tr>\n    <tr>\n      <th>2</th>\n      <td>2</td>\n      <td>Albany</td>\n      <td>NY</td>\n      <td>147794</td>\n      <td>70664</td>\n      <td>77096</td>\n      <td>7.8</td>\n      <td>60.3</td>\n      <td>20.1</td>\n      <td>0.1</td>\n      <td>7.6</td>\n      <td>0.0</td>\n      <td>1917135</td>\n      <td>331452</td>\n      <td>1102265</td>\n      <td>158632</td>\n      <td>17.4</td>\n      <td>17.8</td>\n      <td>74293</td>\n      <td>6.6</td>\n      <td>71.6</td>\n      <td>24.3</td>\n      <td>3.9</td>\n      <td>0.0</td>\n      <td>42.9</td>\n      <td>20.5</td>\n      <td>25.2</td>\n      <td>4.6</td>\n      <td>6.6</td>\n      <td>70.4</td>\n      <td>7.2</td>\n      <td>10.1</td>\n      <td>7.3</td>\n      <td>1.7</td>\n      <td>2.9</td>\n      <td>18.9</td>\n      <td>1205</td>\n      <td>2020</td>\n      <td>97221</td>\n      <td>736</td>\n      <td>4</td>\n      <td>60</td>\n      <td>189</td>\n      <td>483</td>\n      <td>2919</td>\n      <td>445</td>\n      <td>2315</td>\n      <td>159</td>\n      <td>16</td>\n      <td>37.59</td>\n      <td>Medium</td>\n      <td>274</td>\n      <td>240</td>\n      <td>34</td>\n      <td>0</td>\n      <td>0</td>\n      <td>0</td>\n      <td>0</td>\n      <td>75</td>\n      <td>53</td>\n      <td>39</td>\n      <td>1</td>\n      <td>0</td>\n      <td>169</td>\n      <td>0</td>\n      <td>104</td>\n      <td>0</td>\n      <td>Good</td>\n      <td>0.584133</td>\n      <td>319,358,336,145,79</td>\n      <td>42.652580</td>\n      <td>-73.756633</td>\n      <td>65</td>\n      <td>54</td>\n      <td>56</td>\n      <td>Somewhat Walkable</td>\n      <td>Good Transit</td>\n      <td>Bikeable</td>\n    </tr>\n    <tr>\n      <th>3</th>\n      <td>3</td>\n      <td>Albany</td>\n      <td>OR</td>\n      <td>61555</td>\n      <td>30378</td>\n      <td>31168</td>\n      <td>11.4</td>\n      <td>82.7</td>\n      <td>0.6</td>\n      <td>0.7</td>\n      <td>1.9</td>\n      <td>0.1</td>\n      <td>542299</td>\n      <td>75753</td>\n      <td>268177</td>\n      <td>35254</td>\n      <td>14.3</td>\n      <td>18.6</td>\n      <td>27721</td>\n      <td>8.2</td>\n      <td>78.5</td>\n      <td>15.9</td>\n      <td>5.4</td>\n      <td>0.1</td>\n      <td>33.3</td>\n      <td>18.4</td>\n      <td>22.7</td>\n      <td>9.9</td>\n      <td>15.5</td>\n      <td>79.0</td>\n      <td>10.7</td>\n      <td>0.3</td>\n      <td>2.6</td>\n      <td>2.0</td>\n      <td>5.1</td>\n      <td>20.8</td>\n      <td>1197</td>\n      <td>2020</td>\n      <td>54993</td>\n      <td>70</td>\n      <td>1</td>\n      <td>10</td>\n      <td>16</td>\n      <td>43</td>\n      <td>1467</td>\n      <td>128</td>\n      <td>1242</td>\n      <td>97</td>\n      <td>17</td>\n      <td>27.95</td>\n      <td>Medium</td>\n      <td>182</td>\n      <td>161</td>\n      <td>21</td>\n      <td>0</td>\n      <td>0</td>\n      <td>0</td>\n      <td>0</td>\n      <td>70</td>\n      <td>51</td>\n      <td>19</td>\n      <td>0</td>\n      <td>0</td>\n      <td>0</td>\n      <td>0</td>\n      <td>182</td>\n      <td>0</td>\n      <td>Good</td>\n      <td>0.302632</td>\n      <td>29,132,230,383,202</td>\n      <td>44.627722</td>\n      <td>-123.094409</td>\n      <td>34</td>\n      <td>17</td>\n      <td>53</td>\n      <td>Car Dependent</td>\n      <td>Minimal</td>\n      <td>Bikeable</td>\n    </tr>\n    <tr>\n      <th>4</th>\n      <td>4</td>\n      <td>Albuquerque</td>\n      <td>NM</td>\n      <td>632240</td>\n      <td>309415</td>\n      <td>322758</td>\n      <td>50.4</td>\n      <td>38.5</td>\n      <td>2.5</td>\n      <td>4.0</td>\n      <td>2.4</td>\n      <td>0.1</td>\n      <td>7693803</td>\n      <td>1270581</td>\n      <td>4099669</td>\n      <td>581026</td>\n      <td>18.2</td>\n      <td>24.8</td>\n      <td>292907</td>\n      <td>6.8</td>\n      <td>74.5</td>\n      <td>19.6</td>\n      <td>5.6</td>\n      <td>0.2</td>\n      <td>39.8</td>\n      <td>20.0</td>\n      <td>24.0</td>\n      <td>8.3</td>\n      <td>7.7</td>\n      <td>80.2</td>\n      <td>9.1</td>\n      <td>1.8</td>\n      <td>1.8</td>\n      <td>2.5</td>\n      <td>4.3</td>\n      <td>21.7</td>\n      <td>1013</td>\n      <td>2020</td>\n      <td>561920</td>\n      <td>7596</td>\n      <td>84</td>\n      <td>486</td>\n      <td>1699</td>\n      <td>5327</td>\n      <td>26059</td>\n      <td>0</td>\n      <td>20634</td>\n      <td>5425</td>\n      <td>98</td>\n      <td>59.89</td>\n      <td>High</td>\n      <td>183</td>\n      <td>101</td>\n      <td>82</td>\n      <td>0</td>\n      <td>0</td>\n      <td>0</td>\n      <td>0</td>\n      <td>100</td>\n      <td>65</td>\n      <td>50</td>\n      <td>1</td>\n      <td>0</td>\n      <td>127</td>\n      <td>0</td>\n      <td>25</td>\n      <td>30</td>\n      <td>Good</td>\n      <td>0.594958</td>\n      <td>359,258,386,360,127</td>\n      <td>35.106766</td>\n      <td>-106.629181</td>\n      <td>42</td>\n      <td>30</td>\n      <td>62</td>\n      <td>Car Dependent</td>\n      <td>Some Transit</td>\n      <td>Bikeable</td>\n    </tr>\n  </tbody>\n</table>\n</div>"
     },
     "metadata": {},
     "execution_count": 4
    }
   ],
   "source": [
    "walk_score_df.head()"
   ]
  },
  {
   "cell_type": "code",
   "execution_count": 5,
   "metadata": {},
   "outputs": [],
   "source": [
    "schools_df = pd.read_csv('csv/schools_cleaned.csv')"
   ]
  },
  {
   "cell_type": "code",
   "execution_count": 6,
   "metadata": {},
   "outputs": [
    {
     "output_type": "execute_result",
     "data": {
      "text/plain": [
       "                                School  Score         Rating  \\\n",
       "0      Akron Early College High School     10      Top rated   \n",
       "1                 Revere Middle School      9  Above average   \n",
       "2  Arrowhead Primary Elementary School      8  Above average   \n",
       "3             Manchester Middle School      8  Above average   \n",
       "4             Nolley Elementary School      8  Above average   \n",
       "\n",
       "                                    Address             Type Grades  \\\n",
       "0    225 South Main Street, Akron, OH 44308  Public district   9-12   \n",
       "1  3195 Spring Valley Road, Akron, OH 44333  Public district    6-8   \n",
       "2   1600 Raleigh Boulevard, Akron, OH 44321  Public district    K-4   \n",
       "3   760 West Nimisila Road, Akron, OH 44319  Public district    5-8   \n",
       "4        6285 Renninger Rd, Akron, OH 44319  Public district    K-4   \n",
       "\n",
       "   Total Students Enrolled Students per teacher  \\\n",
       "0                    384.0                 34:1   \n",
       "1                    624.0                 13:1   \n",
       "2                    345.0                 20:1   \n",
       "3                    387.0                 16:1   \n",
       "4                    483.0                 17:1   \n",
       "\n",
       "                               District   City State  High School (9-12)  \\\n",
       "0            Akron City School District  Akron    OH                   1   \n",
       "1          Revere Local School District  Akron    OH                   0   \n",
       "2  Copley-Fairlawn City School District  Akron    OH                   0   \n",
       "3      Manchester Local School District  Akron    OH                   0   \n",
       "4      Manchester Local School District  Akron    OH                   0   \n",
       "\n",
       "   Middle School (6-8)  Elementary (K-5)  Pre-Kindergarten (PK)  \n",
       "0                    0                 0                      0  \n",
       "1                    1                 0                      0  \n",
       "2                    0                 0                      0  \n",
       "3                    1                 0                      0  \n",
       "4                    0                 0                      0  "
      ],
      "text/html": "<div>\n<style scoped>\n    .dataframe tbody tr th:only-of-type {\n        vertical-align: middle;\n    }\n\n    .dataframe tbody tr th {\n        vertical-align: top;\n    }\n\n    .dataframe thead th {\n        text-align: right;\n    }\n</style>\n<table border=\"1\" class=\"dataframe\">\n  <thead>\n    <tr style=\"text-align: right;\">\n      <th></th>\n      <th>School</th>\n      <th>Score</th>\n      <th>Rating</th>\n      <th>Address</th>\n      <th>Type</th>\n      <th>Grades</th>\n      <th>Total Students Enrolled</th>\n      <th>Students per teacher</th>\n      <th>District</th>\n      <th>City</th>\n      <th>State</th>\n      <th>High School (9-12)</th>\n      <th>Middle School (6-8)</th>\n      <th>Elementary (K-5)</th>\n      <th>Pre-Kindergarten (PK)</th>\n    </tr>\n  </thead>\n  <tbody>\n    <tr>\n      <th>0</th>\n      <td>Akron Early College High School</td>\n      <td>10</td>\n      <td>Top rated</td>\n      <td>225 South Main Street, Akron, OH 44308</td>\n      <td>Public district</td>\n      <td>9-12</td>\n      <td>384.0</td>\n      <td>34:1</td>\n      <td>Akron City School District</td>\n      <td>Akron</td>\n      <td>OH</td>\n      <td>1</td>\n      <td>0</td>\n      <td>0</td>\n      <td>0</td>\n    </tr>\n    <tr>\n      <th>1</th>\n      <td>Revere Middle School</td>\n      <td>9</td>\n      <td>Above average</td>\n      <td>3195 Spring Valley Road, Akron, OH 44333</td>\n      <td>Public district</td>\n      <td>6-8</td>\n      <td>624.0</td>\n      <td>13:1</td>\n      <td>Revere Local School District</td>\n      <td>Akron</td>\n      <td>OH</td>\n      <td>0</td>\n      <td>1</td>\n      <td>0</td>\n      <td>0</td>\n    </tr>\n    <tr>\n      <th>2</th>\n      <td>Arrowhead Primary Elementary School</td>\n      <td>8</td>\n      <td>Above average</td>\n      <td>1600 Raleigh Boulevard, Akron, OH 44321</td>\n      <td>Public district</td>\n      <td>K-4</td>\n      <td>345.0</td>\n      <td>20:1</td>\n      <td>Copley-Fairlawn City School District</td>\n      <td>Akron</td>\n      <td>OH</td>\n      <td>0</td>\n      <td>0</td>\n      <td>0</td>\n      <td>0</td>\n    </tr>\n    <tr>\n      <th>3</th>\n      <td>Manchester Middle School</td>\n      <td>8</td>\n      <td>Above average</td>\n      <td>760 West Nimisila Road, Akron, OH 44319</td>\n      <td>Public district</td>\n      <td>5-8</td>\n      <td>387.0</td>\n      <td>16:1</td>\n      <td>Manchester Local School District</td>\n      <td>Akron</td>\n      <td>OH</td>\n      <td>0</td>\n      <td>1</td>\n      <td>0</td>\n      <td>0</td>\n    </tr>\n    <tr>\n      <th>4</th>\n      <td>Nolley Elementary School</td>\n      <td>8</td>\n      <td>Above average</td>\n      <td>6285 Renninger Rd, Akron, OH 44319</td>\n      <td>Public district</td>\n      <td>K-4</td>\n      <td>483.0</td>\n      <td>17:1</td>\n      <td>Manchester Local School District</td>\n      <td>Akron</td>\n      <td>OH</td>\n      <td>0</td>\n      <td>0</td>\n      <td>0</td>\n      <td>0</td>\n    </tr>\n  </tbody>\n</table>\n</div>"
     },
     "metadata": {},
     "execution_count": 6
    }
   ],
   "source": [
    "schools_df.head()"
   ]
  },
  {
   "source": [
    "## Create schools column\n",
    "- separate school_df into subsets by city,state\n",
    "- do value counts of private, public, and charter\n",
    "- % of rated schools"
   ],
   "cell_type": "markdown",
   "metadata": {}
  },
  {
   "source": [
    "### Create dictionary of grouped schools_df"
   ],
   "cell_type": "markdown",
   "metadata": {}
  },
  {
   "cell_type": "code",
   "execution_count": 7,
   "metadata": {},
   "outputs": [],
   "source": [
    "schools_df['City,State'] = schools_df['City'] + ', ' + schools_df['State']"
   ]
  },
  {
   "cell_type": "code",
   "execution_count": 8,
   "metadata": {},
   "outputs": [],
   "source": [
    "cities_list = list(schools_df['City,State'].unique())"
   ]
  },
  {
   "cell_type": "code",
   "execution_count": 9,
   "metadata": {},
   "outputs": [],
   "source": [
    "def rnd_series(city):\n",
    "    subset = schools_df[schools_df['City,State']== city]\n",
    "    return subset"
   ]
  },
  {
   "cell_type": "code",
   "execution_count": 10,
   "metadata": {},
   "outputs": [],
   "source": [
    "series = [rnd_series(city) for city in cities_list]"
   ]
  },
  {
   "cell_type": "code",
   "execution_count": 11,
   "metadata": {},
   "outputs": [],
   "source": [
    "# using zip()\n",
    "# to convert lists to dictionary\n",
    "res = dict(zip(cities_list, series))"
   ]
  },
  {
   "source": [
    "### Iterate through the dictionary\n",
    "- save count of private, public, and charter schools\n",
    "- schools within each rating"
   ],
   "cell_type": "markdown",
   "metadata": {}
  },
  {
   "cell_type": "code",
   "execution_count": 12,
   "metadata": {},
   "outputs": [],
   "source": [
    "def get_type_counts():\n",
    "    citylist = list(res.keys())\n",
    "    \n",
    "    model = []\n",
    "    for city_name in citylist:\n",
    "        for key, value in res.items():\n",
    "            if city_name in key:\n",
    "                df = value\n",
    "\n",
    "                # create sum of types of schools\n",
    "                type_values = df['Type'].value_counts(dropna=False).keys().tolist()\n",
    "                type_counts = df['Type'].value_counts(dropna=False).tolist()\n",
    "                type_dict = dict(zip(type_values, type_counts))\n",
    "                types = type_dict\n",
    "\n",
    "                # create summary of grades\n",
    "                score_values = df['Score'].value_counts(dropna=False).keys().tolist()\n",
    "                score_counts = df['Score'].value_counts(dropna=False).tolist()\n",
    "                score_dict = dict(zip(score_values, score_counts))\n",
    "                scores = score_dict\n",
    "        \n",
    "        model.append([city_name, types, scores])\n",
    "\n",
    "    # Putting information into dataframe\n",
    "    df = pd.DataFrame(model, columns = [\"city_name\", 'types', 'scores'])\n",
    "    return df"
   ]
  },
  {
   "cell_type": "code",
   "execution_count": 13,
   "metadata": {},
   "outputs": [],
   "source": [
    "df = get_type_counts()"
   ]
  },
  {
   "source": [
    "### Separate dictionaries into multiple columns\n",
    "- https://stackoverflow.com/questions/38231591/split-explode-a-column-of-dictionaries-into-separate-columns-with-pandas"
   ],
   "cell_type": "markdown",
   "metadata": {}
  },
  {
   "source": [
    "### Types"
   ],
   "cell_type": "markdown",
   "metadata": {}
  },
  {
   "cell_type": "code",
   "execution_count": 14,
   "metadata": {},
   "outputs": [],
   "source": [
    "df.types = df.types.fillna('{}')   # if the NaN is in a column of strings"
   ]
  },
  {
   "cell_type": "code",
   "execution_count": 15,
   "metadata": {},
   "outputs": [],
   "source": [
    "# normalize the column of dictionaries and join it to df\n",
    "df = df.join(pd.json_normalize(df.types))"
   ]
  },
  {
   "source": [
    "### Scores"
   ],
   "cell_type": "markdown",
   "metadata": {}
  },
  {
   "cell_type": "code",
   "execution_count": 17,
   "metadata": {},
   "outputs": [],
   "source": [
    "df.scores = df.scores.fillna('{}')   # if the NaN is in a column of strings"
   ]
  },
  {
   "cell_type": "code",
   "execution_count": 18,
   "metadata": {},
   "outputs": [],
   "source": [
    "#normalize the column of dictionaries and join it to df\n",
    "df = df.join(pd.json_normalize(df.scores))"
   ]
  },
  {
   "cell_type": "code",
   "execution_count": 20,
   "metadata": {},
   "outputs": [],
   "source": [
    "df = df.fillna(0)"
   ]
  },
  {
   "source": [
    "### Create a totals column\n",
    "- total number of schools\n",
    "- apply percentages (% private, public, charter)\n",
    "- % of schools rated at 7 or above"
   ],
   "cell_type": "markdown",
   "metadata": {}
  },
  {
   "source": [
    "### Percentage of Public, Private, and Charter"
   ],
   "cell_type": "markdown",
   "metadata": {}
  },
  {
   "cell_type": "code",
   "execution_count": 21,
   "metadata": {},
   "outputs": [],
   "source": [
    "df['Total_Schools'] = df['Private'] + df['Public district'] + df['Public charter']"
   ]
  },
  {
   "cell_type": "code",
   "execution_count": 22,
   "metadata": {},
   "outputs": [],
   "source": [
    "df['% Private'] = df['Private']/df['Total_Schools']"
   ]
  },
  {
   "cell_type": "code",
   "execution_count": 23,
   "metadata": {},
   "outputs": [],
   "source": [
    "df['% Public'] = df['Public district']/df['Total_Schools']"
   ]
  },
  {
   "cell_type": "code",
   "execution_count": 24,
   "metadata": {},
   "outputs": [],
   "source": [
    "df['% Charter'] = df['Public charter']/df['Total_Schools']"
   ]
  },
  {
   "source": [
    "### Percentage of Schools Performing Above Average or Better"
   ],
   "cell_type": "markdown",
   "metadata": {}
  },
  {
   "cell_type": "code",
   "execution_count": 25,
   "metadata": {},
   "outputs": [],
   "source": [
    "df['Above Average or Better'] = df[7] + df[8] + df[9] + df[10]"
   ]
  },
  {
   "cell_type": "code",
   "execution_count": 26,
   "metadata": {},
   "outputs": [],
   "source": [
    "df['% Performing Above Average or Better'] = df['Above Average or Better']/df['Total_Schools']"
   ]
  },
  {
   "cell_type": "code",
   "execution_count": 27,
   "metadata": {},
   "outputs": [],
   "source": [
    "df = df.replace([np.inf, -np.inf], np.nan)"
   ]
  },
  {
   "cell_type": "code",
   "execution_count": 28,
   "metadata": {},
   "outputs": [],
   "source": [
    "df = df.fillna(0)"
   ]
  },
  {
   "cell_type": "code",
   "execution_count": 29,
   "metadata": {},
   "outputs": [],
   "source": [
    "df[['% Private','% Public','% Charter','% Performing Above Average or Better']] = df[['% Private','% Public','% Charter','% Performing Above Average or Better']].round(2)"
   ]
  },
  {
   "source": [
    "### Clean dataframe"
   ],
   "cell_type": "markdown",
   "metadata": {}
  },
  {
   "source": [
    "### Separate City, State for merging"
   ],
   "cell_type": "markdown",
   "metadata": {}
  },
  {
   "cell_type": "code",
   "execution_count": 31,
   "metadata": {},
   "outputs": [],
   "source": [
    "df[['City', 'State']] = df['city_name'].str.split(', ', expand=True)"
   ]
  },
  {
   "cell_type": "code",
   "execution_count": 32,
   "metadata": {},
   "outputs": [],
   "source": [
    "df['City'] = df['City'].str.strip()\n",
    "df['State'] = df['State'].str.strip()"
   ]
  },
  {
   "source": [
    "### Specify columns to merge"
   ],
   "cell_type": "markdown",
   "metadata": {}
  },
  {
   "cell_type": "code",
   "execution_count": 33,
   "metadata": {},
   "outputs": [],
   "source": [
    "df = df[['City','State', 'Total_Schools', 'Private', 'Public district', 'Public charter', '% Private', '% Public', '% Charter','Above Average or Better', '% Performing Above Average or Better']]"
   ]
  },
  {
   "source": [
    "### Check dataframe"
   ],
   "cell_type": "markdown",
   "metadata": {}
  },
  {
   "cell_type": "code",
   "execution_count": 34,
   "metadata": {},
   "outputs": [
    {
     "output_type": "execute_result",
     "data": {
      "text/plain": [
       "          City State  Private  Public district  Public charter  Total_Schools  \\\n",
       "0        Akron    OH    130.0             60.0            18.0          208.0   \n",
       "1       Albany    GA     86.0             22.0             1.0          109.0   \n",
       "2       Albany    NY    117.0             27.0             7.0          151.0   \n",
       "3       Albany    OR     21.0             22.0             0.0           43.0   \n",
       "4  Albuquerque    NM    348.0            140.0            55.0          543.0   \n",
       "\n",
       "   % Private  % Public  % Charter  Above Average or Better  \\\n",
       "0       0.62      0.29       0.09                     10.0   \n",
       "1       0.79      0.20       0.01                      2.0   \n",
       "2       0.77      0.18       0.05                      8.0   \n",
       "3       0.49      0.51       0.00                      4.0   \n",
       "4       0.64      0.26       0.10                     38.0   \n",
       "\n",
       "   % Performing Above Average or Better  \n",
       "0                                  0.05  \n",
       "1                                  0.02  \n",
       "2                                  0.05  \n",
       "3                                  0.09  \n",
       "4                                  0.07  "
      ],
      "text/html": "<div>\n<style scoped>\n    .dataframe tbody tr th:only-of-type {\n        vertical-align: middle;\n    }\n\n    .dataframe tbody tr th {\n        vertical-align: top;\n    }\n\n    .dataframe thead th {\n        text-align: right;\n    }\n</style>\n<table border=\"1\" class=\"dataframe\">\n  <thead>\n    <tr style=\"text-align: right;\">\n      <th></th>\n      <th>City</th>\n      <th>State</th>\n      <th>Private</th>\n      <th>Public district</th>\n      <th>Public charter</th>\n      <th>Total_Schools</th>\n      <th>% Private</th>\n      <th>% Public</th>\n      <th>% Charter</th>\n      <th>Above Average or Better</th>\n      <th>% Performing Above Average or Better</th>\n    </tr>\n  </thead>\n  <tbody>\n    <tr>\n      <th>0</th>\n      <td>Akron</td>\n      <td>OH</td>\n      <td>130.0</td>\n      <td>60.0</td>\n      <td>18.0</td>\n      <td>208.0</td>\n      <td>0.62</td>\n      <td>0.29</td>\n      <td>0.09</td>\n      <td>10.0</td>\n      <td>0.05</td>\n    </tr>\n    <tr>\n      <th>1</th>\n      <td>Albany</td>\n      <td>GA</td>\n      <td>86.0</td>\n      <td>22.0</td>\n      <td>1.0</td>\n      <td>109.0</td>\n      <td>0.79</td>\n      <td>0.20</td>\n      <td>0.01</td>\n      <td>2.0</td>\n      <td>0.02</td>\n    </tr>\n    <tr>\n      <th>2</th>\n      <td>Albany</td>\n      <td>NY</td>\n      <td>117.0</td>\n      <td>27.0</td>\n      <td>7.0</td>\n      <td>151.0</td>\n      <td>0.77</td>\n      <td>0.18</td>\n      <td>0.05</td>\n      <td>8.0</td>\n      <td>0.05</td>\n    </tr>\n    <tr>\n      <th>3</th>\n      <td>Albany</td>\n      <td>OR</td>\n      <td>21.0</td>\n      <td>22.0</td>\n      <td>0.0</td>\n      <td>43.0</td>\n      <td>0.49</td>\n      <td>0.51</td>\n      <td>0.00</td>\n      <td>4.0</td>\n      <td>0.09</td>\n    </tr>\n    <tr>\n      <th>4</th>\n      <td>Albuquerque</td>\n      <td>NM</td>\n      <td>348.0</td>\n      <td>140.0</td>\n      <td>55.0</td>\n      <td>543.0</td>\n      <td>0.64</td>\n      <td>0.26</td>\n      <td>0.10</td>\n      <td>38.0</td>\n      <td>0.07</td>\n    </tr>\n  </tbody>\n</table>\n</div>"
     },
     "metadata": {},
     "execution_count": 34
    }
   ],
   "source": [
    "df.head()"
   ]
  },
  {
   "cell_type": "code",
   "execution_count": null,
   "metadata": {},
   "outputs": [],
   "source": []
  }
 ]
}