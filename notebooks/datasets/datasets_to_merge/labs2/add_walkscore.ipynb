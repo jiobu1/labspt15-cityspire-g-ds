{
 "metadata": {
  "language_info": {
   "codemirror_mode": {
    "name": "ipython",
    "version": 3
   },
   "file_extension": ".py",
   "mimetype": "text/x-python",
   "name": "python",
   "nbconvert_exporter": "python",
   "pygments_lexer": "ipython3",
   "version": "3.8.6-final"
  },
  "orig_nbformat": 2,
  "kernelspec": {
   "name": "python3",
   "display_name": "Python 3.8.6 64-bit ('3.8.6')",
   "metadata": {
    "interpreter": {
     "hash": "2419ad2920cdc1fadb8f0ae6c1b14e969f8d411f4ecfa904fb0f4ff9d9e2f541"
    }
   }
  }
 },
 "nbformat": 4,
 "nbformat_minor": 2,
 "cells": [
  {
   "cell_type": "code",
   "execution_count": 1,
   "metadata": {},
   "outputs": [],
   "source": [
    "import pandas as pd\n",
    "import numpy as np\n",
    "import os\n",
    "\n",
    "pd.set_option('display.max_columns', None)"
   ]
  },
  {
   "cell_type": "code",
   "execution_count": 2,
   "metadata": {},
   "outputs": [],
   "source": [
    "pwd  = os.getcwd()"
   ]
  },
  {
   "cell_type": "code",
   "execution_count": 3,
   "metadata": {},
   "outputs": [],
   "source": [
    "previous = pd.read_csv('../labs2/csv/labs1.csv')"
   ]
  },
  {
   "cell_type": "code",
   "execution_count": 4,
   "metadata": {},
   "outputs": [
    {
     "output_type": "stream",
     "name": "stdout",
     "text": [
      "(397, 71)\n"
     ]
    },
    {
     "output_type": "execute_result",
     "data": {
      "text/plain": [
       "          City State  TotalPop     Men   Women  Hispanic  White  Black  \\\n",
       "0        Akron    OH    267782  129623  138086       1.9   67.4   23.2   \n",
       "1       Albany    GA     93421   43571   49835       2.8   29.2   65.2   \n",
       "2       Albany    NY    147794   70664   77096       7.8   60.3   20.1   \n",
       "3       Albany    OR     61555   30378   31168      11.4   82.7    0.6   \n",
       "4  Albuquerque    NM    632240  309415  322758      50.4   38.5    2.5   \n",
       "\n",
       "   Native  Asian  Pacific   Income  IncomeErr  IncomePerCap  IncomePerCapErr  \\\n",
       "0     0.2    3.6      0.0  3068406     504125       1732548           258991   \n",
       "1     0.1    0.9      0.0  1025141     199233        547674            89500   \n",
       "2     0.1    7.6      0.0  1917135     331452       1102265           158632   \n",
       "3     0.7    1.9      0.1   542299      75753        268177            35254   \n",
       "4     4.0    2.4      0.1  7693803    1270581       4099669           581026   \n",
       "\n",
       "   Poverty  ChildPoverty  Employed  Unemployment  PrivateWork  PublicWork  \\\n",
       "0     19.6          26.2    126247           8.5         85.4        10.3   \n",
       "1     29.6          41.9     35704          16.2         71.9        23.7   \n",
       "2     17.4          17.8     74293           6.6         71.6        24.3   \n",
       "3     14.3          18.6     27721           8.2         78.5        15.9   \n",
       "4     18.2          24.8    292907           6.8         74.5        19.6   \n",
       "\n",
       "   SelfEmployed  FamilyWork  Professional  Service  Office  Construction  \\\n",
       "0           4.1         0.1          32.3     19.8    25.3           6.6   \n",
       "1           4.1         0.1          30.7     21.4    23.1           8.1   \n",
       "2           3.9         0.0          42.9     20.5    25.2           4.6   \n",
       "3           5.4         0.1          33.3     18.4    22.7           9.9   \n",
       "4           5.6         0.2          39.8     20.0    24.0           8.3   \n",
       "\n",
       "   Production  Drive  Carpool  Transit  Walk  OtherTransp  WorkAtHome  \\\n",
       "0        15.6   83.3      8.5      3.1   1.6          0.6         2.7   \n",
       "1        16.3   78.1     12.4      1.8   2.3          0.7         4.3   \n",
       "2         6.6   70.4      7.2     10.1   7.3          1.7         2.9   \n",
       "3        15.5   79.0     10.7      0.3   2.6          2.0         5.1   \n",
       "4         7.7   80.2      9.1      1.8   1.8          2.5         4.3   \n",
       "\n",
       "   MeanCommute  Rent  Year  Population  Violent crime  \\\n",
       "0         21.9   911  2020      197882           1782   \n",
       "1         19.1   814  2020       74989            790   \n",
       "2         18.9  1205  2020       97221            736   \n",
       "3         20.8  1197  2020       54993             70   \n",
       "4         21.7  1013  2020      561920           7596   \n",
       "\n",
       "   Murder and nonnegligent manslaughter  Rape  Robbery  Aggravated assault  \\\n",
       "0                                    27   181      328                1246   \n",
       "1                                    12    32      165                 581   \n",
       "2                                     4    60      189                 483   \n",
       "3                                     1    10       16                  43   \n",
       "4                                    84   486     1699                5327   \n",
       "\n",
       "   Property crime  Burglary  Larceny- theft  Motor vehicle theft  Arson  \\\n",
       "0            6568      1686            4305                  577     65   \n",
       "1            3452       729            2489                  234     17   \n",
       "2            2919       445            2315                  159     16   \n",
       "3            1467       128            1242                   97     17   \n",
       "4           26059         0           20634                 5425     98   \n",
       "\n",
       "   Crime Rate per 1000 Crime Rating  Days with AQI  Good Days  Moderate Days  \\\n",
       "0                42.20         High            274        203             68   \n",
       "1                56.57         High            244        182             60   \n",
       "2                37.59       Medium            274        240             34   \n",
       "3                27.95       Medium            182        161             21   \n",
       "4                59.89         High            183        101             82   \n",
       "\n",
       "   Unhealthy for Sensitive Groups Days  Unhealthy Days  Very Unhealthy Days  \\\n",
       "0                                    3               0                    0   \n",
       "1                                    2               0                    0   \n",
       "2                                    0               0                    0   \n",
       "3                                    0               0                    0   \n",
       "4                                    0               0                    0   \n",
       "\n",
       "   Hazardous Days  Max AQI  90th Percentile AQI  Median AQI  Days CO  \\\n",
       "0               0      107                   63          43        0   \n",
       "1               0      114                   63          37        0   \n",
       "2               0       75                   53          39        1   \n",
       "3               0       70                   51          19        0   \n",
       "4               0      100                   65          50        1   \n",
       "\n",
       "   Days NO2  Days Ozone  Days SO2  Days PM2.5  Days PM10 Air Quality Index  \\\n",
       "0         0         132         0         142          0              Good   \n",
       "1         0           0         0         244          0              Good   \n",
       "2         0         169         0         104          0              Good   \n",
       "3         0           0         0         182          0              Good   \n",
       "4         0         127         0          25         30              Good   \n",
       "\n",
       "   Diversity Index              Nearest        lat         lon  \n",
       "0         0.490241   126,56,332,355,295  41.044852  -81.520048  \n",
       "1         0.488771  162,372,139,351,249  31.567783  -84.161923  \n",
       "2         0.584133   319,358,336,145,79  42.652580  -73.756633  \n",
       "3         0.302632   29,132,230,383,202  44.627722 -123.094409  \n",
       "4         0.594958  359,258,386,360,127  35.106766 -106.629181  "
      ],
      "text/html": "<div>\n<style scoped>\n    .dataframe tbody tr th:only-of-type {\n        vertical-align: middle;\n    }\n\n    .dataframe tbody tr th {\n        vertical-align: top;\n    }\n\n    .dataframe thead th {\n        text-align: right;\n    }\n</style>\n<table border=\"1\" class=\"dataframe\">\n  <thead>\n    <tr style=\"text-align: right;\">\n      <th></th>\n      <th>City</th>\n      <th>State</th>\n      <th>TotalPop</th>\n      <th>Men</th>\n      <th>Women</th>\n      <th>Hispanic</th>\n      <th>White</th>\n      <th>Black</th>\n      <th>Native</th>\n      <th>Asian</th>\n      <th>Pacific</th>\n      <th>Income</th>\n      <th>IncomeErr</th>\n      <th>IncomePerCap</th>\n      <th>IncomePerCapErr</th>\n      <th>Poverty</th>\n      <th>ChildPoverty</th>\n      <th>Employed</th>\n      <th>Unemployment</th>\n      <th>PrivateWork</th>\n      <th>PublicWork</th>\n      <th>SelfEmployed</th>\n      <th>FamilyWork</th>\n      <th>Professional</th>\n      <th>Service</th>\n      <th>Office</th>\n      <th>Construction</th>\n      <th>Production</th>\n      <th>Drive</th>\n      <th>Carpool</th>\n      <th>Transit</th>\n      <th>Walk</th>\n      <th>OtherTransp</th>\n      <th>WorkAtHome</th>\n      <th>MeanCommute</th>\n      <th>Rent</th>\n      <th>Year</th>\n      <th>Population</th>\n      <th>Violent crime</th>\n      <th>Murder and nonnegligent manslaughter</th>\n      <th>Rape</th>\n      <th>Robbery</th>\n      <th>Aggravated assault</th>\n      <th>Property crime</th>\n      <th>Burglary</th>\n      <th>Larceny- theft</th>\n      <th>Motor vehicle theft</th>\n      <th>Arson</th>\n      <th>Crime Rate per 1000</th>\n      <th>Crime Rating</th>\n      <th>Days with AQI</th>\n      <th>Good Days</th>\n      <th>Moderate Days</th>\n      <th>Unhealthy for Sensitive Groups Days</th>\n      <th>Unhealthy Days</th>\n      <th>Very Unhealthy Days</th>\n      <th>Hazardous Days</th>\n      <th>Max AQI</th>\n      <th>90th Percentile AQI</th>\n      <th>Median AQI</th>\n      <th>Days CO</th>\n      <th>Days NO2</th>\n      <th>Days Ozone</th>\n      <th>Days SO2</th>\n      <th>Days PM2.5</th>\n      <th>Days PM10</th>\n      <th>Air Quality Index</th>\n      <th>Diversity Index</th>\n      <th>Nearest</th>\n      <th>lat</th>\n      <th>lon</th>\n    </tr>\n  </thead>\n  <tbody>\n    <tr>\n      <th>0</th>\n      <td>Akron</td>\n      <td>OH</td>\n      <td>267782</td>\n      <td>129623</td>\n      <td>138086</td>\n      <td>1.9</td>\n      <td>67.4</td>\n      <td>23.2</td>\n      <td>0.2</td>\n      <td>3.6</td>\n      <td>0.0</td>\n      <td>3068406</td>\n      <td>504125</td>\n      <td>1732548</td>\n      <td>258991</td>\n      <td>19.6</td>\n      <td>26.2</td>\n      <td>126247</td>\n      <td>8.5</td>\n      <td>85.4</td>\n      <td>10.3</td>\n      <td>4.1</td>\n      <td>0.1</td>\n      <td>32.3</td>\n      <td>19.8</td>\n      <td>25.3</td>\n      <td>6.6</td>\n      <td>15.6</td>\n      <td>83.3</td>\n      <td>8.5</td>\n      <td>3.1</td>\n      <td>1.6</td>\n      <td>0.6</td>\n      <td>2.7</td>\n      <td>21.9</td>\n      <td>911</td>\n      <td>2020</td>\n      <td>197882</td>\n      <td>1782</td>\n      <td>27</td>\n      <td>181</td>\n      <td>328</td>\n      <td>1246</td>\n      <td>6568</td>\n      <td>1686</td>\n      <td>4305</td>\n      <td>577</td>\n      <td>65</td>\n      <td>42.20</td>\n      <td>High</td>\n      <td>274</td>\n      <td>203</td>\n      <td>68</td>\n      <td>3</td>\n      <td>0</td>\n      <td>0</td>\n      <td>0</td>\n      <td>107</td>\n      <td>63</td>\n      <td>43</td>\n      <td>0</td>\n      <td>0</td>\n      <td>132</td>\n      <td>0</td>\n      <td>142</td>\n      <td>0</td>\n      <td>Good</td>\n      <td>0.490241</td>\n      <td>126,56,332,355,295</td>\n      <td>41.044852</td>\n      <td>-81.520048</td>\n    </tr>\n    <tr>\n      <th>1</th>\n      <td>Albany</td>\n      <td>GA</td>\n      <td>93421</td>\n      <td>43571</td>\n      <td>49835</td>\n      <td>2.8</td>\n      <td>29.2</td>\n      <td>65.2</td>\n      <td>0.1</td>\n      <td>0.9</td>\n      <td>0.0</td>\n      <td>1025141</td>\n      <td>199233</td>\n      <td>547674</td>\n      <td>89500</td>\n      <td>29.6</td>\n      <td>41.9</td>\n      <td>35704</td>\n      <td>16.2</td>\n      <td>71.9</td>\n      <td>23.7</td>\n      <td>4.1</td>\n      <td>0.1</td>\n      <td>30.7</td>\n      <td>21.4</td>\n      <td>23.1</td>\n      <td>8.1</td>\n      <td>16.3</td>\n      <td>78.1</td>\n      <td>12.4</td>\n      <td>1.8</td>\n      <td>2.3</td>\n      <td>0.7</td>\n      <td>4.3</td>\n      <td>19.1</td>\n      <td>814</td>\n      <td>2020</td>\n      <td>74989</td>\n      <td>790</td>\n      <td>12</td>\n      <td>32</td>\n      <td>165</td>\n      <td>581</td>\n      <td>3452</td>\n      <td>729</td>\n      <td>2489</td>\n      <td>234</td>\n      <td>17</td>\n      <td>56.57</td>\n      <td>High</td>\n      <td>244</td>\n      <td>182</td>\n      <td>60</td>\n      <td>2</td>\n      <td>0</td>\n      <td>0</td>\n      <td>0</td>\n      <td>114</td>\n      <td>63</td>\n      <td>37</td>\n      <td>0</td>\n      <td>0</td>\n      <td>0</td>\n      <td>0</td>\n      <td>244</td>\n      <td>0</td>\n      <td>Good</td>\n      <td>0.488771</td>\n      <td>162,372,139,351,249</td>\n      <td>31.567783</td>\n      <td>-84.161923</td>\n    </tr>\n    <tr>\n      <th>2</th>\n      <td>Albany</td>\n      <td>NY</td>\n      <td>147794</td>\n      <td>70664</td>\n      <td>77096</td>\n      <td>7.8</td>\n      <td>60.3</td>\n      <td>20.1</td>\n      <td>0.1</td>\n      <td>7.6</td>\n      <td>0.0</td>\n      <td>1917135</td>\n      <td>331452</td>\n      <td>1102265</td>\n      <td>158632</td>\n      <td>17.4</td>\n      <td>17.8</td>\n      <td>74293</td>\n      <td>6.6</td>\n      <td>71.6</td>\n      <td>24.3</td>\n      <td>3.9</td>\n      <td>0.0</td>\n      <td>42.9</td>\n      <td>20.5</td>\n      <td>25.2</td>\n      <td>4.6</td>\n      <td>6.6</td>\n      <td>70.4</td>\n      <td>7.2</td>\n      <td>10.1</td>\n      <td>7.3</td>\n      <td>1.7</td>\n      <td>2.9</td>\n      <td>18.9</td>\n      <td>1205</td>\n      <td>2020</td>\n      <td>97221</td>\n      <td>736</td>\n      <td>4</td>\n      <td>60</td>\n      <td>189</td>\n      <td>483</td>\n      <td>2919</td>\n      <td>445</td>\n      <td>2315</td>\n      <td>159</td>\n      <td>16</td>\n      <td>37.59</td>\n      <td>Medium</td>\n      <td>274</td>\n      <td>240</td>\n      <td>34</td>\n      <td>0</td>\n      <td>0</td>\n      <td>0</td>\n      <td>0</td>\n      <td>75</td>\n      <td>53</td>\n      <td>39</td>\n      <td>1</td>\n      <td>0</td>\n      <td>169</td>\n      <td>0</td>\n      <td>104</td>\n      <td>0</td>\n      <td>Good</td>\n      <td>0.584133</td>\n      <td>319,358,336,145,79</td>\n      <td>42.652580</td>\n      <td>-73.756633</td>\n    </tr>\n    <tr>\n      <th>3</th>\n      <td>Albany</td>\n      <td>OR</td>\n      <td>61555</td>\n      <td>30378</td>\n      <td>31168</td>\n      <td>11.4</td>\n      <td>82.7</td>\n      <td>0.6</td>\n      <td>0.7</td>\n      <td>1.9</td>\n      <td>0.1</td>\n      <td>542299</td>\n      <td>75753</td>\n      <td>268177</td>\n      <td>35254</td>\n      <td>14.3</td>\n      <td>18.6</td>\n      <td>27721</td>\n      <td>8.2</td>\n      <td>78.5</td>\n      <td>15.9</td>\n      <td>5.4</td>\n      <td>0.1</td>\n      <td>33.3</td>\n      <td>18.4</td>\n      <td>22.7</td>\n      <td>9.9</td>\n      <td>15.5</td>\n      <td>79.0</td>\n      <td>10.7</td>\n      <td>0.3</td>\n      <td>2.6</td>\n      <td>2.0</td>\n      <td>5.1</td>\n      <td>20.8</td>\n      <td>1197</td>\n      <td>2020</td>\n      <td>54993</td>\n      <td>70</td>\n      <td>1</td>\n      <td>10</td>\n      <td>16</td>\n      <td>43</td>\n      <td>1467</td>\n      <td>128</td>\n      <td>1242</td>\n      <td>97</td>\n      <td>17</td>\n      <td>27.95</td>\n      <td>Medium</td>\n      <td>182</td>\n      <td>161</td>\n      <td>21</td>\n      <td>0</td>\n      <td>0</td>\n      <td>0</td>\n      <td>0</td>\n      <td>70</td>\n      <td>51</td>\n      <td>19</td>\n      <td>0</td>\n      <td>0</td>\n      <td>0</td>\n      <td>0</td>\n      <td>182</td>\n      <td>0</td>\n      <td>Good</td>\n      <td>0.302632</td>\n      <td>29,132,230,383,202</td>\n      <td>44.627722</td>\n      <td>-123.094409</td>\n    </tr>\n    <tr>\n      <th>4</th>\n      <td>Albuquerque</td>\n      <td>NM</td>\n      <td>632240</td>\n      <td>309415</td>\n      <td>322758</td>\n      <td>50.4</td>\n      <td>38.5</td>\n      <td>2.5</td>\n      <td>4.0</td>\n      <td>2.4</td>\n      <td>0.1</td>\n      <td>7693803</td>\n      <td>1270581</td>\n      <td>4099669</td>\n      <td>581026</td>\n      <td>18.2</td>\n      <td>24.8</td>\n      <td>292907</td>\n      <td>6.8</td>\n      <td>74.5</td>\n      <td>19.6</td>\n      <td>5.6</td>\n      <td>0.2</td>\n      <td>39.8</td>\n      <td>20.0</td>\n      <td>24.0</td>\n      <td>8.3</td>\n      <td>7.7</td>\n      <td>80.2</td>\n      <td>9.1</td>\n      <td>1.8</td>\n      <td>1.8</td>\n      <td>2.5</td>\n      <td>4.3</td>\n      <td>21.7</td>\n      <td>1013</td>\n      <td>2020</td>\n      <td>561920</td>\n      <td>7596</td>\n      <td>84</td>\n      <td>486</td>\n      <td>1699</td>\n      <td>5327</td>\n      <td>26059</td>\n      <td>0</td>\n      <td>20634</td>\n      <td>5425</td>\n      <td>98</td>\n      <td>59.89</td>\n      <td>High</td>\n      <td>183</td>\n      <td>101</td>\n      <td>82</td>\n      <td>0</td>\n      <td>0</td>\n      <td>0</td>\n      <td>0</td>\n      <td>100</td>\n      <td>65</td>\n      <td>50</td>\n      <td>1</td>\n      <td>0</td>\n      <td>127</td>\n      <td>0</td>\n      <td>25</td>\n      <td>30</td>\n      <td>Good</td>\n      <td>0.594958</td>\n      <td>359,258,386,360,127</td>\n      <td>35.106766</td>\n      <td>-106.629181</td>\n    </tr>\n  </tbody>\n</table>\n</div>"
     },
     "metadata": {},
     "execution_count": 4
    }
   ],
   "source": [
    "print(previous.shape)\n",
    "previous.head()"
   ]
  },
  {
   "cell_type": "code",
   "execution_count": 5,
   "metadata": {},
   "outputs": [],
   "source": [
    "walk_score = pd.read_csv('../labs2/csv/walk_score.csv')"
   ]
  },
  {
   "cell_type": "code",
   "execution_count": 6,
   "metadata": {},
   "outputs": [
    {
     "output_type": "stream",
     "name": "stdout",
     "text": [
      "(2523, 12)\n"
     ]
    },
    {
     "output_type": "execute_result",
     "data": {
      "text/plain": [
       "   Unnamed: 0  Unnamed: 0.1        City  Zip Code  Walk Score  Transit Score  \\\n",
       "0           0             0  Birmingham   35211.0          35             25   \n",
       "1           1             1  Montgomery   36109.0          26             16   \n",
       "2           2             2      Mobile   36605.0          32              0   \n",
       "3           3             3  Huntsville   35810.0          24             13   \n",
       "4           4             4  Tuscaloosa       NaN          33              0   \n",
       "\n",
       "   Bike Score  Population State    Walkability Public Transportation  \\\n",
       "0          31      212237    AL  Car Dependent          Some Transit   \n",
       "1          38      205764    AL  Car Dependent               Minimal   \n",
       "2          39      195111    AL  Car Dependent               Minimal   \n",
       "3          40      180105    AL  Car Dependent               Minimal   \n",
       "4          37       90468    AL  Car Dependent               Minimal   \n",
       "\n",
       "         Bikeability  \n",
       "0  Somewhat Bikeable  \n",
       "1  Somewhat Bikeable  \n",
       "2  Somewhat Bikeable  \n",
       "3  Somewhat Bikeable  \n",
       "4  Somewhat Bikeable  "
      ],
      "text/html": "<div>\n<style scoped>\n    .dataframe tbody tr th:only-of-type {\n        vertical-align: middle;\n    }\n\n    .dataframe tbody tr th {\n        vertical-align: top;\n    }\n\n    .dataframe thead th {\n        text-align: right;\n    }\n</style>\n<table border=\"1\" class=\"dataframe\">\n  <thead>\n    <tr style=\"text-align: right;\">\n      <th></th>\n      <th>Unnamed: 0</th>\n      <th>Unnamed: 0.1</th>\n      <th>City</th>\n      <th>Zip Code</th>\n      <th>Walk Score</th>\n      <th>Transit Score</th>\n      <th>Bike Score</th>\n      <th>Population</th>\n      <th>State</th>\n      <th>Walkability</th>\n      <th>Public Transportation</th>\n      <th>Bikeability</th>\n    </tr>\n  </thead>\n  <tbody>\n    <tr>\n      <th>0</th>\n      <td>0</td>\n      <td>0</td>\n      <td>Birmingham</td>\n      <td>35211.0</td>\n      <td>35</td>\n      <td>25</td>\n      <td>31</td>\n      <td>212237</td>\n      <td>AL</td>\n      <td>Car Dependent</td>\n      <td>Some Transit</td>\n      <td>Somewhat Bikeable</td>\n    </tr>\n    <tr>\n      <th>1</th>\n      <td>1</td>\n      <td>1</td>\n      <td>Montgomery</td>\n      <td>36109.0</td>\n      <td>26</td>\n      <td>16</td>\n      <td>38</td>\n      <td>205764</td>\n      <td>AL</td>\n      <td>Car Dependent</td>\n      <td>Minimal</td>\n      <td>Somewhat Bikeable</td>\n    </tr>\n    <tr>\n      <th>2</th>\n      <td>2</td>\n      <td>2</td>\n      <td>Mobile</td>\n      <td>36605.0</td>\n      <td>32</td>\n      <td>0</td>\n      <td>39</td>\n      <td>195111</td>\n      <td>AL</td>\n      <td>Car Dependent</td>\n      <td>Minimal</td>\n      <td>Somewhat Bikeable</td>\n    </tr>\n    <tr>\n      <th>3</th>\n      <td>3</td>\n      <td>3</td>\n      <td>Huntsville</td>\n      <td>35810.0</td>\n      <td>24</td>\n      <td>13</td>\n      <td>40</td>\n      <td>180105</td>\n      <td>AL</td>\n      <td>Car Dependent</td>\n      <td>Minimal</td>\n      <td>Somewhat Bikeable</td>\n    </tr>\n    <tr>\n      <th>4</th>\n      <td>4</td>\n      <td>4</td>\n      <td>Tuscaloosa</td>\n      <td>NaN</td>\n      <td>33</td>\n      <td>0</td>\n      <td>37</td>\n      <td>90468</td>\n      <td>AL</td>\n      <td>Car Dependent</td>\n      <td>Minimal</td>\n      <td>Somewhat Bikeable</td>\n    </tr>\n  </tbody>\n</table>\n</div>"
     },
     "metadata": {},
     "execution_count": 6
    }
   ],
   "source": [
    "print(walk_score.shape)\n",
    "walk_score.head()"
   ]
  },
  {
   "cell_type": "code",
   "execution_count": 7,
   "metadata": {},
   "outputs": [
    {
     "output_type": "execute_result",
     "data": {
      "text/plain": [
       "Index(['Unnamed: 0', 'Unnamed: 0.1', 'City', 'Zip Code', 'Walk Score',\n",
       "       'Transit Score', 'Bike Score', 'Population', 'State', 'Walkability',\n",
       "       'Public Transportation', 'Bikeability'],\n",
       "      dtype='object')"
      ]
     },
     "metadata": {},
     "execution_count": 7
    }
   ],
   "source": [
    "walk_score.columns"
   ]
  },
  {
   "cell_type": "code",
   "execution_count": 8,
   "metadata": {},
   "outputs": [],
   "source": [
    "walk_score = walk_score.drop(columns=['Unnamed: 0', 'Unnamed: 0.1', 'Zip Code', 'Population' ])"
   ]
  },
  {
   "cell_type": "code",
   "execution_count": 9,
   "metadata": {},
   "outputs": [],
   "source": [
    "walk_score_df = previous.merge(walk_score, on=['City', 'State'])"
   ]
  },
  {
   "cell_type": "code",
   "execution_count": 10,
   "metadata": {},
   "outputs": [
    {
     "output_type": "stream",
     "name": "stdout",
     "text": [
      "(374, 77)\n"
     ]
    },
    {
     "output_type": "execute_result",
     "data": {
      "text/plain": [
       "          City State  TotalPop     Men   Women  Hispanic  White  Black  \\\n",
       "0        Akron    OH    267782  129623  138086       1.9   67.4   23.2   \n",
       "1       Albany    GA     93421   43571   49835       2.8   29.2   65.2   \n",
       "2       Albany    NY    147794   70664   77096       7.8   60.3   20.1   \n",
       "3       Albany    OR     61555   30378   31168      11.4   82.7    0.6   \n",
       "4  Albuquerque    NM    632240  309415  322758      50.4   38.5    2.5   \n",
       "\n",
       "   Native  Asian  Pacific   Income  IncomeErr  IncomePerCap  IncomePerCapErr  \\\n",
       "0     0.2    3.6      0.0  3068406     504125       1732548           258991   \n",
       "1     0.1    0.9      0.0  1025141     199233        547674            89500   \n",
       "2     0.1    7.6      0.0  1917135     331452       1102265           158632   \n",
       "3     0.7    1.9      0.1   542299      75753        268177            35254   \n",
       "4     4.0    2.4      0.1  7693803    1270581       4099669           581026   \n",
       "\n",
       "   Poverty  ChildPoverty  Employed  Unemployment  PrivateWork  PublicWork  \\\n",
       "0     19.6          26.2    126247           8.5         85.4        10.3   \n",
       "1     29.6          41.9     35704          16.2         71.9        23.7   \n",
       "2     17.4          17.8     74293           6.6         71.6        24.3   \n",
       "3     14.3          18.6     27721           8.2         78.5        15.9   \n",
       "4     18.2          24.8    292907           6.8         74.5        19.6   \n",
       "\n",
       "   SelfEmployed  FamilyWork  Professional  Service  Office  Construction  \\\n",
       "0           4.1         0.1          32.3     19.8    25.3           6.6   \n",
       "1           4.1         0.1          30.7     21.4    23.1           8.1   \n",
       "2           3.9         0.0          42.9     20.5    25.2           4.6   \n",
       "3           5.4         0.1          33.3     18.4    22.7           9.9   \n",
       "4           5.6         0.2          39.8     20.0    24.0           8.3   \n",
       "\n",
       "   Production  Drive  Carpool  Transit  Walk  OtherTransp  WorkAtHome  \\\n",
       "0        15.6   83.3      8.5      3.1   1.6          0.6         2.7   \n",
       "1        16.3   78.1     12.4      1.8   2.3          0.7         4.3   \n",
       "2         6.6   70.4      7.2     10.1   7.3          1.7         2.9   \n",
       "3        15.5   79.0     10.7      0.3   2.6          2.0         5.1   \n",
       "4         7.7   80.2      9.1      1.8   1.8          2.5         4.3   \n",
       "\n",
       "   MeanCommute  Rent  Year  Population  Violent crime  \\\n",
       "0         21.9   911  2020      197882           1782   \n",
       "1         19.1   814  2020       74989            790   \n",
       "2         18.9  1205  2020       97221            736   \n",
       "3         20.8  1197  2020       54993             70   \n",
       "4         21.7  1013  2020      561920           7596   \n",
       "\n",
       "   Murder and nonnegligent manslaughter  Rape  Robbery  Aggravated assault  \\\n",
       "0                                    27   181      328                1246   \n",
       "1                                    12    32      165                 581   \n",
       "2                                     4    60      189                 483   \n",
       "3                                     1    10       16                  43   \n",
       "4                                    84   486     1699                5327   \n",
       "\n",
       "   Property crime  Burglary  Larceny- theft  Motor vehicle theft  Arson  \\\n",
       "0            6568      1686            4305                  577     65   \n",
       "1            3452       729            2489                  234     17   \n",
       "2            2919       445            2315                  159     16   \n",
       "3            1467       128            1242                   97     17   \n",
       "4           26059         0           20634                 5425     98   \n",
       "\n",
       "   Crime Rate per 1000 Crime Rating  Days with AQI  Good Days  Moderate Days  \\\n",
       "0                42.20         High            274        203             68   \n",
       "1                56.57         High            244        182             60   \n",
       "2                37.59       Medium            274        240             34   \n",
       "3                27.95       Medium            182        161             21   \n",
       "4                59.89         High            183        101             82   \n",
       "\n",
       "   Unhealthy for Sensitive Groups Days  Unhealthy Days  Very Unhealthy Days  \\\n",
       "0                                    3               0                    0   \n",
       "1                                    2               0                    0   \n",
       "2                                    0               0                    0   \n",
       "3                                    0               0                    0   \n",
       "4                                    0               0                    0   \n",
       "\n",
       "   Hazardous Days  Max AQI  90th Percentile AQI  Median AQI  Days CO  \\\n",
       "0               0      107                   63          43        0   \n",
       "1               0      114                   63          37        0   \n",
       "2               0       75                   53          39        1   \n",
       "3               0       70                   51          19        0   \n",
       "4               0      100                   65          50        1   \n",
       "\n",
       "   Days NO2  Days Ozone  Days SO2  Days PM2.5  Days PM10 Air Quality Index  \\\n",
       "0         0         132         0         142          0              Good   \n",
       "1         0           0         0         244          0              Good   \n",
       "2         0         169         0         104          0              Good   \n",
       "3         0           0         0         182          0              Good   \n",
       "4         0         127         0          25         30              Good   \n",
       "\n",
       "   Diversity Index              Nearest        lat         lon  Walk Score  \\\n",
       "0         0.490241   126,56,332,355,295  41.044852  -81.520048          46   \n",
       "1         0.488771  162,372,139,351,249  31.567783  -84.161923          25   \n",
       "2         0.584133   319,358,336,145,79  42.652580  -73.756633          65   \n",
       "3         0.302632   29,132,230,383,202  44.627722 -123.094409          34   \n",
       "4         0.594958  359,258,386,360,127  35.106766 -106.629181          42   \n",
       "\n",
       "   Transit Score  Bike Score        Walkability Public Transportation  \\\n",
       "0             32          46      Car Dependent          Some Transit   \n",
       "1              0          40      Car Dependent               Minimal   \n",
       "2             54          56  Somewhat Walkable          Good Transit   \n",
       "3             17          53      Car Dependent               Minimal   \n",
       "4             30          62      Car Dependent          Some Transit   \n",
       "\n",
       "         Bikeability  \n",
       "0  Somewhat Bikeable  \n",
       "1  Somewhat Bikeable  \n",
       "2           Bikeable  \n",
       "3           Bikeable  \n",
       "4           Bikeable  "
      ],
      "text/html": "<div>\n<style scoped>\n    .dataframe tbody tr th:only-of-type {\n        vertical-align: middle;\n    }\n\n    .dataframe tbody tr th {\n        vertical-align: top;\n    }\n\n    .dataframe thead th {\n        text-align: right;\n    }\n</style>\n<table border=\"1\" class=\"dataframe\">\n  <thead>\n    <tr style=\"text-align: right;\">\n      <th></th>\n      <th>City</th>\n      <th>State</th>\n      <th>TotalPop</th>\n      <th>Men</th>\n      <th>Women</th>\n      <th>Hispanic</th>\n      <th>White</th>\n      <th>Black</th>\n      <th>Native</th>\n      <th>Asian</th>\n      <th>Pacific</th>\n      <th>Income</th>\n      <th>IncomeErr</th>\n      <th>IncomePerCap</th>\n      <th>IncomePerCapErr</th>\n      <th>Poverty</th>\n      <th>ChildPoverty</th>\n      <th>Employed</th>\n      <th>Unemployment</th>\n      <th>PrivateWork</th>\n      <th>PublicWork</th>\n      <th>SelfEmployed</th>\n      <th>FamilyWork</th>\n      <th>Professional</th>\n      <th>Service</th>\n      <th>Office</th>\n      <th>Construction</th>\n      <th>Production</th>\n      <th>Drive</th>\n      <th>Carpool</th>\n      <th>Transit</th>\n      <th>Walk</th>\n      <th>OtherTransp</th>\n      <th>WorkAtHome</th>\n      <th>MeanCommute</th>\n      <th>Rent</th>\n      <th>Year</th>\n      <th>Population</th>\n      <th>Violent crime</th>\n      <th>Murder and nonnegligent manslaughter</th>\n      <th>Rape</th>\n      <th>Robbery</th>\n      <th>Aggravated assault</th>\n      <th>Property crime</th>\n      <th>Burglary</th>\n      <th>Larceny- theft</th>\n      <th>Motor vehicle theft</th>\n      <th>Arson</th>\n      <th>Crime Rate per 1000</th>\n      <th>Crime Rating</th>\n      <th>Days with AQI</th>\n      <th>Good Days</th>\n      <th>Moderate Days</th>\n      <th>Unhealthy for Sensitive Groups Days</th>\n      <th>Unhealthy Days</th>\n      <th>Very Unhealthy Days</th>\n      <th>Hazardous Days</th>\n      <th>Max AQI</th>\n      <th>90th Percentile AQI</th>\n      <th>Median AQI</th>\n      <th>Days CO</th>\n      <th>Days NO2</th>\n      <th>Days Ozone</th>\n      <th>Days SO2</th>\n      <th>Days PM2.5</th>\n      <th>Days PM10</th>\n      <th>Air Quality Index</th>\n      <th>Diversity Index</th>\n      <th>Nearest</th>\n      <th>lat</th>\n      <th>lon</th>\n      <th>Walk Score</th>\n      <th>Transit Score</th>\n      <th>Bike Score</th>\n      <th>Walkability</th>\n      <th>Public Transportation</th>\n      <th>Bikeability</th>\n    </tr>\n  </thead>\n  <tbody>\n    <tr>\n      <th>0</th>\n      <td>Akron</td>\n      <td>OH</td>\n      <td>267782</td>\n      <td>129623</td>\n      <td>138086</td>\n      <td>1.9</td>\n      <td>67.4</td>\n      <td>23.2</td>\n      <td>0.2</td>\n      <td>3.6</td>\n      <td>0.0</td>\n      <td>3068406</td>\n      <td>504125</td>\n      <td>1732548</td>\n      <td>258991</td>\n      <td>19.6</td>\n      <td>26.2</td>\n      <td>126247</td>\n      <td>8.5</td>\n      <td>85.4</td>\n      <td>10.3</td>\n      <td>4.1</td>\n      <td>0.1</td>\n      <td>32.3</td>\n      <td>19.8</td>\n      <td>25.3</td>\n      <td>6.6</td>\n      <td>15.6</td>\n      <td>83.3</td>\n      <td>8.5</td>\n      <td>3.1</td>\n      <td>1.6</td>\n      <td>0.6</td>\n      <td>2.7</td>\n      <td>21.9</td>\n      <td>911</td>\n      <td>2020</td>\n      <td>197882</td>\n      <td>1782</td>\n      <td>27</td>\n      <td>181</td>\n      <td>328</td>\n      <td>1246</td>\n      <td>6568</td>\n      <td>1686</td>\n      <td>4305</td>\n      <td>577</td>\n      <td>65</td>\n      <td>42.20</td>\n      <td>High</td>\n      <td>274</td>\n      <td>203</td>\n      <td>68</td>\n      <td>3</td>\n      <td>0</td>\n      <td>0</td>\n      <td>0</td>\n      <td>107</td>\n      <td>63</td>\n      <td>43</td>\n      <td>0</td>\n      <td>0</td>\n      <td>132</td>\n      <td>0</td>\n      <td>142</td>\n      <td>0</td>\n      <td>Good</td>\n      <td>0.490241</td>\n      <td>126,56,332,355,295</td>\n      <td>41.044852</td>\n      <td>-81.520048</td>\n      <td>46</td>\n      <td>32</td>\n      <td>46</td>\n      <td>Car Dependent</td>\n      <td>Some Transit</td>\n      <td>Somewhat Bikeable</td>\n    </tr>\n    <tr>\n      <th>1</th>\n      <td>Albany</td>\n      <td>GA</td>\n      <td>93421</td>\n      <td>43571</td>\n      <td>49835</td>\n      <td>2.8</td>\n      <td>29.2</td>\n      <td>65.2</td>\n      <td>0.1</td>\n      <td>0.9</td>\n      <td>0.0</td>\n      <td>1025141</td>\n      <td>199233</td>\n      <td>547674</td>\n      <td>89500</td>\n      <td>29.6</td>\n      <td>41.9</td>\n      <td>35704</td>\n      <td>16.2</td>\n      <td>71.9</td>\n      <td>23.7</td>\n      <td>4.1</td>\n      <td>0.1</td>\n      <td>30.7</td>\n      <td>21.4</td>\n      <td>23.1</td>\n      <td>8.1</td>\n      <td>16.3</td>\n      <td>78.1</td>\n      <td>12.4</td>\n      <td>1.8</td>\n      <td>2.3</td>\n      <td>0.7</td>\n      <td>4.3</td>\n      <td>19.1</td>\n      <td>814</td>\n      <td>2020</td>\n      <td>74989</td>\n      <td>790</td>\n      <td>12</td>\n      <td>32</td>\n      <td>165</td>\n      <td>581</td>\n      <td>3452</td>\n      <td>729</td>\n      <td>2489</td>\n      <td>234</td>\n      <td>17</td>\n      <td>56.57</td>\n      <td>High</td>\n      <td>244</td>\n      <td>182</td>\n      <td>60</td>\n      <td>2</td>\n      <td>0</td>\n      <td>0</td>\n      <td>0</td>\n      <td>114</td>\n      <td>63</td>\n      <td>37</td>\n      <td>0</td>\n      <td>0</td>\n      <td>0</td>\n      <td>0</td>\n      <td>244</td>\n      <td>0</td>\n      <td>Good</td>\n      <td>0.488771</td>\n      <td>162,372,139,351,249</td>\n      <td>31.567783</td>\n      <td>-84.161923</td>\n      <td>25</td>\n      <td>0</td>\n      <td>40</td>\n      <td>Car Dependent</td>\n      <td>Minimal</td>\n      <td>Somewhat Bikeable</td>\n    </tr>\n    <tr>\n      <th>2</th>\n      <td>Albany</td>\n      <td>NY</td>\n      <td>147794</td>\n      <td>70664</td>\n      <td>77096</td>\n      <td>7.8</td>\n      <td>60.3</td>\n      <td>20.1</td>\n      <td>0.1</td>\n      <td>7.6</td>\n      <td>0.0</td>\n      <td>1917135</td>\n      <td>331452</td>\n      <td>1102265</td>\n      <td>158632</td>\n      <td>17.4</td>\n      <td>17.8</td>\n      <td>74293</td>\n      <td>6.6</td>\n      <td>71.6</td>\n      <td>24.3</td>\n      <td>3.9</td>\n      <td>0.0</td>\n      <td>42.9</td>\n      <td>20.5</td>\n      <td>25.2</td>\n      <td>4.6</td>\n      <td>6.6</td>\n      <td>70.4</td>\n      <td>7.2</td>\n      <td>10.1</td>\n      <td>7.3</td>\n      <td>1.7</td>\n      <td>2.9</td>\n      <td>18.9</td>\n      <td>1205</td>\n      <td>2020</td>\n      <td>97221</td>\n      <td>736</td>\n      <td>4</td>\n      <td>60</td>\n      <td>189</td>\n      <td>483</td>\n      <td>2919</td>\n      <td>445</td>\n      <td>2315</td>\n      <td>159</td>\n      <td>16</td>\n      <td>37.59</td>\n      <td>Medium</td>\n      <td>274</td>\n      <td>240</td>\n      <td>34</td>\n      <td>0</td>\n      <td>0</td>\n      <td>0</td>\n      <td>0</td>\n      <td>75</td>\n      <td>53</td>\n      <td>39</td>\n      <td>1</td>\n      <td>0</td>\n      <td>169</td>\n      <td>0</td>\n      <td>104</td>\n      <td>0</td>\n      <td>Good</td>\n      <td>0.584133</td>\n      <td>319,358,336,145,79</td>\n      <td>42.652580</td>\n      <td>-73.756633</td>\n      <td>65</td>\n      <td>54</td>\n      <td>56</td>\n      <td>Somewhat Walkable</td>\n      <td>Good Transit</td>\n      <td>Bikeable</td>\n    </tr>\n    <tr>\n      <th>3</th>\n      <td>Albany</td>\n      <td>OR</td>\n      <td>61555</td>\n      <td>30378</td>\n      <td>31168</td>\n      <td>11.4</td>\n      <td>82.7</td>\n      <td>0.6</td>\n      <td>0.7</td>\n      <td>1.9</td>\n      <td>0.1</td>\n      <td>542299</td>\n      <td>75753</td>\n      <td>268177</td>\n      <td>35254</td>\n      <td>14.3</td>\n      <td>18.6</td>\n      <td>27721</td>\n      <td>8.2</td>\n      <td>78.5</td>\n      <td>15.9</td>\n      <td>5.4</td>\n      <td>0.1</td>\n      <td>33.3</td>\n      <td>18.4</td>\n      <td>22.7</td>\n      <td>9.9</td>\n      <td>15.5</td>\n      <td>79.0</td>\n      <td>10.7</td>\n      <td>0.3</td>\n      <td>2.6</td>\n      <td>2.0</td>\n      <td>5.1</td>\n      <td>20.8</td>\n      <td>1197</td>\n      <td>2020</td>\n      <td>54993</td>\n      <td>70</td>\n      <td>1</td>\n      <td>10</td>\n      <td>16</td>\n      <td>43</td>\n      <td>1467</td>\n      <td>128</td>\n      <td>1242</td>\n      <td>97</td>\n      <td>17</td>\n      <td>27.95</td>\n      <td>Medium</td>\n      <td>182</td>\n      <td>161</td>\n      <td>21</td>\n      <td>0</td>\n      <td>0</td>\n      <td>0</td>\n      <td>0</td>\n      <td>70</td>\n      <td>51</td>\n      <td>19</td>\n      <td>0</td>\n      <td>0</td>\n      <td>0</td>\n      <td>0</td>\n      <td>182</td>\n      <td>0</td>\n      <td>Good</td>\n      <td>0.302632</td>\n      <td>29,132,230,383,202</td>\n      <td>44.627722</td>\n      <td>-123.094409</td>\n      <td>34</td>\n      <td>17</td>\n      <td>53</td>\n      <td>Car Dependent</td>\n      <td>Minimal</td>\n      <td>Bikeable</td>\n    </tr>\n    <tr>\n      <th>4</th>\n      <td>Albuquerque</td>\n      <td>NM</td>\n      <td>632240</td>\n      <td>309415</td>\n      <td>322758</td>\n      <td>50.4</td>\n      <td>38.5</td>\n      <td>2.5</td>\n      <td>4.0</td>\n      <td>2.4</td>\n      <td>0.1</td>\n      <td>7693803</td>\n      <td>1270581</td>\n      <td>4099669</td>\n      <td>581026</td>\n      <td>18.2</td>\n      <td>24.8</td>\n      <td>292907</td>\n      <td>6.8</td>\n      <td>74.5</td>\n      <td>19.6</td>\n      <td>5.6</td>\n      <td>0.2</td>\n      <td>39.8</td>\n      <td>20.0</td>\n      <td>24.0</td>\n      <td>8.3</td>\n      <td>7.7</td>\n      <td>80.2</td>\n      <td>9.1</td>\n      <td>1.8</td>\n      <td>1.8</td>\n      <td>2.5</td>\n      <td>4.3</td>\n      <td>21.7</td>\n      <td>1013</td>\n      <td>2020</td>\n      <td>561920</td>\n      <td>7596</td>\n      <td>84</td>\n      <td>486</td>\n      <td>1699</td>\n      <td>5327</td>\n      <td>26059</td>\n      <td>0</td>\n      <td>20634</td>\n      <td>5425</td>\n      <td>98</td>\n      <td>59.89</td>\n      <td>High</td>\n      <td>183</td>\n      <td>101</td>\n      <td>82</td>\n      <td>0</td>\n      <td>0</td>\n      <td>0</td>\n      <td>0</td>\n      <td>100</td>\n      <td>65</td>\n      <td>50</td>\n      <td>1</td>\n      <td>0</td>\n      <td>127</td>\n      <td>0</td>\n      <td>25</td>\n      <td>30</td>\n      <td>Good</td>\n      <td>0.594958</td>\n      <td>359,258,386,360,127</td>\n      <td>35.106766</td>\n      <td>-106.629181</td>\n      <td>42</td>\n      <td>30</td>\n      <td>62</td>\n      <td>Car Dependent</td>\n      <td>Some Transit</td>\n      <td>Bikeable</td>\n    </tr>\n  </tbody>\n</table>\n</div>"
     },
     "metadata": {},
     "execution_count": 10
    }
   ],
   "source": [
    "print(walk_score_df.shape)\n",
    "walk_score_df.head()"
   ]
  },
  {
   "cell_type": "code",
   "execution_count": 11,
   "metadata": {},
   "outputs": [],
   "source": [
    "walk_score_df.to_csv('walk_score_df.csv')"
   ]
  }
 ]
}