{
 "metadata": {
  "language_info": {
   "codemirror_mode": {
    "name": "ipython",
    "version": 3
   },
   "file_extension": ".py",
   "mimetype": "text/x-python",
   "name": "python",
   "nbconvert_exporter": "python",
   "pygments_lexer": "ipython3",
   "version": "3.8.6-final"
  },
  "orig_nbformat": 2,
  "kernelspec": {
   "name": "python3",
   "display_name": "Python 3.8.6 64-bit ('3.8.6': pyenv)",
   "metadata": {
    "interpreter": {
     "hash": "2419ad2920cdc1fadb8f0ae6c1b14e969f8d411f4ecfa904fb0f4ff9d9e2f541"
    }
   }
  }
 },
 "nbformat": 4,
 "nbformat_minor": 2,
 "cells": [
  {
   "source": [
    "## Creat walkscore csv\n",
    "1. get walkscores for each state in us_state_abbrev\n",
    "2. create a dataframe\n",
    "3. create csv for persistance\n",
    "4. check which cities have missing data\n",
    "5. clean city names - remove string within parenthesis, separate hyphenated cities\n",
    "6. create a walk, bike, and transit score column based on walkscore.com's scale\n",
    "7. apply functions and update csv"
   ],
   "cell_type": "markdown",
   "metadata": {}
  },
  {
   "cell_type": "code",
   "execution_count": 1,
   "metadata": {},
   "outputs": [
    {
     "output_type": "stream",
     "name": "stdout",
     "text": [
      "Requirement already satisfied: lxml in /Users/jisha/.pyenv/versions/3.8.6/lib/python3.8/site-packages (4.6.2)\n",
      "Note: you may need to restart the kernel to use updated packages.\n"
     ]
    }
   ],
   "source": [
    "pip install lxml"
   ]
  },
  {
   "source": [
    "### Import libraries"
   ],
   "cell_type": "markdown",
   "metadata": {}
  },
  {
   "cell_type": "code",
   "execution_count": 2,
   "metadata": {},
   "outputs": [],
   "source": [
    "import pandas as pd\n",
    "import numpy as np\n",
    "\n",
    "pd.set_option('display.max_rows', 200)\n",
    "pd.set_option('display.max_columns', 700)"
   ]
  },
  {
   "source": [
    "### 1. Get walkscores for each city,state f"
   ],
   "cell_type": "markdown",
   "metadata": {}
  },
  {
   "cell_type": "code",
   "execution_count": 3,
   "metadata": {},
   "outputs": [],
   "source": [
    "us_state_abbrev = ['AL','AK','AZ','AR','CA','CO','CT','DE','DC','FL','GA','HI','ID','IL','IN','IA','KS',\n",
    "                   'KY','LA','ME','MD','MA','MI','MN','MS','MO','MT','NE','NV','NH','NJ','NM','NY','NC',\n",
    "                   'ND','OH','OK','OR','PA','RI','SC','SD','TN','TX','UT','VT','VA','WA','WV','WI','WY']\n",
    "\n"
   ]
  },
  {
   "source": [
    "### Create dataframe"
   ],
   "cell_type": "markdown",
   "metadata": {}
  },
  {
   "cell_type": "code",
   "execution_count": 4,
   "metadata": {},
   "outputs": [],
   "source": [
    "# Empty DataFrame to add to in the loop below\n",
    "df = pd.DataFrame()\n",
    "\n",
    "for i in us_state_abbrev:\n",
    "    df_i = pd.read_html('https://www.walkscore.com/' + i)[0]\n",
    "    df_i['State'] = i\n",
    "    df = pd.concat([df, df_i])"
   ]
  },
  {
   "source": [
    "### 3. Create csv for persistance"
   ],
   "cell_type": "markdown",
   "metadata": {}
  },
  {
   "cell_type": "code",
   "execution_count": 5,
   "metadata": {},
   "outputs": [],
   "source": [
    "df.to_csv('walk_score.csv')"
   ]
  },
  {
   "cell_type": "code",
   "execution_count": 6,
   "metadata": {},
   "outputs": [
    {
     "output_type": "stream",
     "name": "stdout",
     "text": [
      "(2500, 8)\n"
     ]
    },
    {
     "output_type": "execute_result",
     "data": {
      "text/plain": [
       "   Unnamed: 0                                      City  Zip Code  Walk Score  \\\n",
       "0           0  Birmingham (the largest city in Alabama)   35211.0          35   \n",
       "1           1                                Montgomery   36109.0          26   \n",
       "2           2                                    Mobile   36605.0          32   \n",
       "3           3                                Huntsville   35810.0          24   \n",
       "4           4                                Tuscaloosa       NaN          33   \n",
       "\n",
       "  Transit Score  Bike Score  Population State  \n",
       "0            25          31      212237    AL  \n",
       "1            16          38      205764    AL  \n",
       "2            --          39      195111    AL  \n",
       "3            13          40      180105    AL  \n",
       "4            --          37       90468    AL  "
      ],
      "text/html": "<div>\n<style scoped>\n    .dataframe tbody tr th:only-of-type {\n        vertical-align: middle;\n    }\n\n    .dataframe tbody tr th {\n        vertical-align: top;\n    }\n\n    .dataframe thead th {\n        text-align: right;\n    }\n</style>\n<table border=\"1\" class=\"dataframe\">\n  <thead>\n    <tr style=\"text-align: right;\">\n      <th></th>\n      <th>Unnamed: 0</th>\n      <th>City</th>\n      <th>Zip Code</th>\n      <th>Walk Score</th>\n      <th>Transit Score</th>\n      <th>Bike Score</th>\n      <th>Population</th>\n      <th>State</th>\n    </tr>\n  </thead>\n  <tbody>\n    <tr>\n      <th>0</th>\n      <td>0</td>\n      <td>Birmingham (the largest city in Alabama)</td>\n      <td>35211.0</td>\n      <td>35</td>\n      <td>25</td>\n      <td>31</td>\n      <td>212237</td>\n      <td>AL</td>\n    </tr>\n    <tr>\n      <th>1</th>\n      <td>1</td>\n      <td>Montgomery</td>\n      <td>36109.0</td>\n      <td>26</td>\n      <td>16</td>\n      <td>38</td>\n      <td>205764</td>\n      <td>AL</td>\n    </tr>\n    <tr>\n      <th>2</th>\n      <td>2</td>\n      <td>Mobile</td>\n      <td>36605.0</td>\n      <td>32</td>\n      <td>--</td>\n      <td>39</td>\n      <td>195111</td>\n      <td>AL</td>\n    </tr>\n    <tr>\n      <th>3</th>\n      <td>3</td>\n      <td>Huntsville</td>\n      <td>35810.0</td>\n      <td>24</td>\n      <td>13</td>\n      <td>40</td>\n      <td>180105</td>\n      <td>AL</td>\n    </tr>\n    <tr>\n      <th>4</th>\n      <td>4</td>\n      <td>Tuscaloosa</td>\n      <td>NaN</td>\n      <td>33</td>\n      <td>--</td>\n      <td>37</td>\n      <td>90468</td>\n      <td>AL</td>\n    </tr>\n  </tbody>\n</table>\n</div>"
     },
     "metadata": {},
     "execution_count": 6
    }
   ],
   "source": [
    "df = pd.read_csv('walk_score.csv')\n",
    "print(df.shape)\n",
    "df.head()"
   ]
  },
  {
   "source": [
    "### 4. Check which cities have missing data"
   ],
   "cell_type": "markdown",
   "metadata": {}
  },
  {
   "cell_type": "code",
   "execution_count": 7,
   "metadata": {},
   "outputs": [
    {
     "output_type": "execute_result",
     "data": {
      "text/plain": [
       "Unnamed: 0          0\n",
       "City                0\n",
       "Zip Code         1489\n",
       "Walk Score          0\n",
       "Transit Score       0\n",
       "Bike Score          0\n",
       "Population          0\n",
       "State               0\n",
       "dtype: int64"
      ]
     },
     "metadata": {},
     "execution_count": 7
    }
   ],
   "source": [
    "df.isnull().sum()"
   ]
  },
  {
   "cell_type": "code",
   "execution_count": 8,
   "metadata": {},
   "outputs": [],
   "source": [
    "df[['Walk Score', 'Transit Score', 'Bike Score']] = df[['Walk Score', 'Transit Score', 'Bike Score']].replace('--', 0)"
   ]
  },
  {
   "cell_type": "code",
   "execution_count": 9,
   "metadata": {},
   "outputs": [],
   "source": [
    "df[['Walk Score', 'Transit Score', 'Bike Score']] = df[['Walk Score', 'Transit Score', 'Bike Score']].astype(int)"
   ]
  },
  {
   "source": [
    "### 5. Clean city names - remove string within parentheis, separate hyphenated cities."
   ],
   "cell_type": "markdown",
   "metadata": {}
  },
  {
   "cell_type": "code",
   "execution_count": null,
   "metadata": {},
   "outputs": [],
   "source": [
    "df['City'] = df['City'].str.replace(r\"\\(.*\\)\",\"\")"
   ]
  },
  {
   "cell_type": "code",
   "execution_count": null,
   "metadata": {},
   "outputs": [],
   "source": [
    "df.loc[df['City'].str.contains('-'), 'City'] = df.loc[df['City'].str.contains('-'), 'City'].str.split('-')\n",
    "df = df.explode('City') \n",
    "df.loc[:,'City'] = df.loc[:,'City'].str.strip()"
   ]
  },
  {
   "source": [
    "### 6. Create a walk, bike, and transit score column based on walkscore.com's scale"
   ],
   "cell_type": "markdown",
   "metadata": {}
  },
  {
   "source": [
    "[Walk Score](\"Personal/labspt15-cityspire-g-ds/notebooks/datasets/data/walk_score/walk_breakdown.png\")\n"
   ],
   "cell_type": "markdown",
   "metadata": {}
  },
  {
   "cell_type": "code",
   "execution_count": null,
   "metadata": {},
   "outputs": [],
   "source": [
    "def walk_score(row):\n",
    "  if 0 <= row['Walk Score'] <= 49:\n",
    "    val = 'Car Dependent'\n",
    "  elif 50 <= row['Walk Score'] <= 69:\n",
    "    val = 'Somewhat Walkable'\n",
    "  elif 101 <= row['Walk Score'] <= 150:\n",
    "    val = 'Very Walkable'\n",
    "  else:\n",
    "    val = \"Walker's Paradise\"\n",
    "\n",
    "  return val"
   ]
  },
  {
   "cell_type": "code",
   "execution_count": null,
   "metadata": {},
   "outputs": [],
   "source": [
    "df['Walkability'] = df.apply(walk_score, axis=1)"
   ]
  },
  {
   "cell_type": "code",
   "execution_count": null,
   "metadata": {},
   "outputs": [],
   "source": [
    "def transit_score(row):\n",
    "    if 1 <= row['Transit Score'] <= 24:\n",
    "        val = 'Minimal'\n",
    "    elif 25 <= row['Transit Score'] <= 49:\n",
    "        val = 'Some Transit'\n",
    "    elif 50 <= row['Transit Score'] <= 69:\n",
    "        val = 'Good Transit'\n",
    "    elif 101 <= row['Transit Score'] <= 150:\n",
    "        val = 'Excellent Transit'\n",
    "    else:\n",
    "        val = \"Rider's Paradise\"\n",
    "\n",
    "    return val"
   ]
  },
  {
   "cell_type": "code",
   "execution_count": null,
   "metadata": {},
   "outputs": [],
   "source": [
    "df['Public Transportation'] = df.apply(transit_score, axis=1)"
   ]
  },
  {
   "cell_type": "code",
   "execution_count": null,
   "metadata": {},
   "outputs": [],
   "source": [
    "def bike_score(row):\n",
    "  if 0 <= row['Bike Score'] <= 49:\n",
    "    val = 'Somewhat Bikeable'\n",
    "  elif 50 <= row['Bike Score'] <= 69:\n",
    "    val = 'Bikeable'\n",
    "  elif 101 <= row['Bike Score'] <= 150:\n",
    "    val = 'Very Bikeable'\n",
    "  else:\n",
    "    val = \"Biker's Paradise\"\n",
    "\n",
    "  return val"
   ]
  },
  {
   "cell_type": "code",
   "execution_count": null,
   "metadata": {},
   "outputs": [],
   "source": [
    "df['Bikeability'] = df.apply(bike_score, axis=1)\n"
   ]
  },
  {
   "source": [
    "### 7. Update csv"
   ],
   "cell_type": "markdown",
   "metadata": {}
  },
  {
   "cell_type": "code",
   "execution_count": null,
   "metadata": {},
   "outputs": [],
   "source": [
    "df.head()"
   ]
  },
  {
   "cell_type": "code",
   "execution_count": null,
   "metadata": {},
   "outputs": [],
   "source": [
    "df[df.duplicated(subset=['City', 'Zip', 'Walk Score', 'Transit Score', 'Bike Score' 'State'], keep=False)]"
   ]
  },
  {
   "cell_type": "code",
   "execution_count": null,
   "metadata": {},
   "outputs": [],
   "source": [
    "df.to_csv('walk_score.csv')"
   ]
  }
 ]
}