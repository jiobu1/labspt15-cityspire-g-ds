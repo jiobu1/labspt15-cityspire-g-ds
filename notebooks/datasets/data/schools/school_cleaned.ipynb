{
 "metadata": {
  "language_info": {
   "codemirror_mode": {
    "name": "ipython",
    "version": 3
   },
   "file_extension": ".py",
   "mimetype": "text/x-python",
   "name": "python",
   "nbconvert_exporter": "python",
   "pygments_lexer": "ipython3",
   "version": "3.8.6"
  },
  "orig_nbformat": 2,
  "kernelspec": {
   "name": "python386jvsc74a57bd02419ad2920cdc1fadb8f0ae6c1b14e969f8d411f4ecfa904fb0f4ff9d9e2f541",
   "display_name": "Python 3.8.6 64-bit ('3.8.6': pyenv)"
  }
 },
 "nbformat": 4,
 "nbformat_minor": 2,
 "cells": [
  {
   "source": [
    "## Clean Schools.csv\n",
    "1. Split address column\n",
    "2. Look at length - this displays discrepancies in addresses (looking for lengths 1, 3, 4)\n",
    "3. Create a city and state column - consistency with other data\n",
    "4. Create columns for schools categories - pk, k, elementary, middle, and high school\n",
    "5. Make score column an int"
   ],
   "cell_type": "markdown",
   "metadata": {}
  },
  {
   "cell_type": "code",
   "execution_count": 1,
   "metadata": {},
   "outputs": [
    {
     "output_type": "stream",
     "name": "stderr",
     "text": [
      "/Users/jisha/.pyenv/versions/3.8.6/lib/python3.8/site-packages/pandas/compat/__init__.py:120: UserWarning: Could not import the lzma module. Your installed Python is incomplete. Attempting to use lzma compression will result in a RuntimeError.\n  warnings.warn(msg)\n"
     ]
    }
   ],
   "source": [
    "import pandas as pd\n",
    "pd.set_option('display.max_colwidth', None)\n",
    "pd.set_option('display.max_rows', 10)"
   ]
  },
  {
   "cell_type": "code",
   "execution_count": 2,
   "metadata": {},
   "outputs": [],
   "source": [
    "df = pd.read_csv('files/scrape_schools/schools.csv')"
   ]
  },
  {
   "cell_type": "code",
   "execution_count": 3,
   "metadata": {},
   "outputs": [
    {
     "output_type": "stream",
     "name": "stdout",
     "text": [
      "(58782, 10)\n"
     ]
    },
    {
     "output_type": "execute_result",
     "data": {
      "text/plain": [
       "   Unnamed: 0                               School  Score         Rating  \\\n",
       "0           0      Akron Early College High School  10/10      Top rated   \n",
       "1           1                 Revere Middle School   9/10  Above average   \n",
       "2           2  Arrowhead Primary Elementary School   8/10  Above average   \n",
       "3           3             Manchester Middle School   8/10  Above average   \n",
       "4           4             Nolley Elementary School   8/10  Above average   \n",
       "\n",
       "                                     Address             Type Grades  \\\n",
       "0    225 South Main Street, Akron, OH, 44308  Public district   9-12   \n",
       "1  3195 Spring Valley Road, Akron, OH, 44333  Public district    6-8   \n",
       "2   1600 Raleigh Boulevard, Akron, OH, 44321  Public district    K-4   \n",
       "3   760 West Nimisila Road, Akron, OH, 44319  Public district    5-8   \n",
       "4        6285 Renninger Rd, Akron, OH, 44319  Public district    K-4   \n",
       "\n",
       "   Total Students Enrolled Students per teacher  \\\n",
       "0                    384.0                 34:1   \n",
       "1                    624.0                 13:1   \n",
       "2                    345.0                 20:1   \n",
       "3                    387.0                 16:1   \n",
       "4                    483.0                 17:1   \n",
       "\n",
       "                               District  \n",
       "0            Akron City School District  \n",
       "1          Revere Local School District  \n",
       "2  Copley-Fairlawn City School District  \n",
       "3      Manchester Local School District  \n",
       "4      Manchester Local School District  "
      ],
      "text/html": "<div>\n<style scoped>\n    .dataframe tbody tr th:only-of-type {\n        vertical-align: middle;\n    }\n\n    .dataframe tbody tr th {\n        vertical-align: top;\n    }\n\n    .dataframe thead th {\n        text-align: right;\n    }\n</style>\n<table border=\"1\" class=\"dataframe\">\n  <thead>\n    <tr style=\"text-align: right;\">\n      <th></th>\n      <th>Unnamed: 0</th>\n      <th>School</th>\n      <th>Score</th>\n      <th>Rating</th>\n      <th>Address</th>\n      <th>Type</th>\n      <th>Grades</th>\n      <th>Total Students Enrolled</th>\n      <th>Students per teacher</th>\n      <th>District</th>\n    </tr>\n  </thead>\n  <tbody>\n    <tr>\n      <th>0</th>\n      <td>0</td>\n      <td>Akron Early College High School</td>\n      <td>10/10</td>\n      <td>Top rated</td>\n      <td>225 South Main Street, Akron, OH, 44308</td>\n      <td>Public district</td>\n      <td>9-12</td>\n      <td>384.0</td>\n      <td>34:1</td>\n      <td>Akron City School District</td>\n    </tr>\n    <tr>\n      <th>1</th>\n      <td>1</td>\n      <td>Revere Middle School</td>\n      <td>9/10</td>\n      <td>Above average</td>\n      <td>3195 Spring Valley Road, Akron, OH, 44333</td>\n      <td>Public district</td>\n      <td>6-8</td>\n      <td>624.0</td>\n      <td>13:1</td>\n      <td>Revere Local School District</td>\n    </tr>\n    <tr>\n      <th>2</th>\n      <td>2</td>\n      <td>Arrowhead Primary Elementary School</td>\n      <td>8/10</td>\n      <td>Above average</td>\n      <td>1600 Raleigh Boulevard, Akron, OH, 44321</td>\n      <td>Public district</td>\n      <td>K-4</td>\n      <td>345.0</td>\n      <td>20:1</td>\n      <td>Copley-Fairlawn City School District</td>\n    </tr>\n    <tr>\n      <th>3</th>\n      <td>3</td>\n      <td>Manchester Middle School</td>\n      <td>8/10</td>\n      <td>Above average</td>\n      <td>760 West Nimisila Road, Akron, OH, 44319</td>\n      <td>Public district</td>\n      <td>5-8</td>\n      <td>387.0</td>\n      <td>16:1</td>\n      <td>Manchester Local School District</td>\n    </tr>\n    <tr>\n      <th>4</th>\n      <td>4</td>\n      <td>Nolley Elementary School</td>\n      <td>8/10</td>\n      <td>Above average</td>\n      <td>6285 Renninger Rd, Akron, OH, 44319</td>\n      <td>Public district</td>\n      <td>K-4</td>\n      <td>483.0</td>\n      <td>17:1</td>\n      <td>Manchester Local School District</td>\n    </tr>\n  </tbody>\n</table>\n</div>"
     },
     "metadata": {},
     "execution_count": 3
    }
   ],
   "source": [
    "print(df.shape)\n",
    "df.head()"
   ]
  },
  {
   "source": [
    "### Clean Addresses"
   ],
   "cell_type": "markdown",
   "metadata": {}
  },
  {
   "cell_type": "code",
   "execution_count": 4,
   "metadata": {},
   "outputs": [],
   "source": [
    "df['Address'] = df['Address'].str.replace('2100 Morse Road, Suite 4609, Columbus, OH 43229, Columbus, OH, 43211', '2100 Morse Road, Suite 4609, Columbus, OH, 43229')\n",
    "df['Address'] = df['Address'].str.replace('2501 Syracuse Street, Denver, Colorado, 80238, Denver, CO, 80238', '2501 Syracuse Street, Denver, CO, 80238')\n",
    "df['Address'] = df['Address'].str.replace('4450 West Eau Gallie Boulevard, Suite 180, Melbourne, FL 32934, Melbourne, FL, 32934', '4450 West Eau Gallie Boulevard, Suite 180, Melbourne, FL, 32934')\n",
    "df['Address'] = df['Address'].str.replace('4530 MacArthur Blvd, NW, Washington, DC, Washington, DC, 20007', '4530 MacArthur Blvd NW, Washington, DC, 20007')\n",
    "df['Address'] = df['Address'].str.replace('1075 New Scotland Road, Albany NY 12208, Albany, NY, 12208', '1075 New Scotland Road, Albany NY, 12208')\n",
    "df['Address'] = df['Address'].str.replace('216 Shelburne Road Asheville, NC 28806, Asheville, NC, 28806', '216 Shelburne Road, Asheville, NC, 28806')\n",
    "df['Address'] = df['Address'].str.replace('26450 RR 12 Dripping Springs, TX 78620, Austin, TX, 78736', '26450 RR 12, Dripping Springs, TX, 78620')\n",
    "df['Address'] = df['Address'].str.replace('NE Stoneridge Loop, Prineville OR 97754, Bend, OR, 97702', 'NE Stoneridge Loop, Prineville, OR, 97754')\n",
    "df['Address'] = df['Address'].str.replace('5225 - Seventy seven Center Dr, Charlotte NC 28217, Charlotte, NC, 28217', '5225 77 Center Dr, Charlotte, NC, 28217')\n",
    "df['Address'] = df['Address'].str.replace('3375 W. 99th Street Cleveland, OH 44102, Cleveland, OH, 44111', '3375 W. 99th Street, Cleveland, OH, 44102')\n",
    "df['Address'] = df['Address'].str.replace('21 Broadmoor Avenue Colorado Springs, CO 80906, Colorado Springs, CO, 80906', '21 Broadmoor Avenue, Colorado Springs, CO, 80906')\n",
    "df['Address'] = df['Address'].str.replace('220 Stoneridge Drive Suite 403 Columbia, SC 29210 , Columbia, SC, 29210', '220 Stoneridge Drive, Suite 403, Columbia, SC, 29210')\n",
    "df['Address'] = df['Address'].str.replace('2247 South Ridgewood South Daytona, Florida 32119, Daytona Beach, FL, 32117', '2247 South Ridgewood, South Daytona, FL, 32119')\n",
    "df['Address'] = df['Address'].str.replace('7005 Woodbine Ave Sacramento, Ca. 95822, Fairfield, CA, 94534', '7005 Woodbine Ave, Sacramento, CA, 95822')\n",
    "df['Address'] = df['Address'].str.replace('4424 Innovation Drive Fort Collins, Colorado 80525, Fort Collins, CO, 80525', '4424 Innovation Drive, Fort Collins, CO, 80525')\n",
    "df['Address'] = df['Address'].str.replace('5300 El Camino Road Las Vegas, NV 89118, Henderson, NV, 89014', '5300 El Camino Road, Las Vegas, NV, 89118')\n",
    "df['Address'] = df['Address'].str.replace('9039 Beach Blvd Jacksonville, FL 32216, Jacksonville, FL, 32207', '9039 Beach Blvd, Jacksonville, FL, 32216')\n",
    "df['Address'] = df['Address'].str.replace('390 New Holland Pike, Lancaster PA 17601, Lancaster, PA, 17601', '390 New Holland Pike, Lancaster, PA, 17601')\n",
    "df['Address'] = df['Address'].str.replace('4801. S. Sandhill Drive LV, NV 89121, Las Vegas, NV, 89123', '4801. S. Sandhill Drive, Las Vegas, NV, 89123')\n",
    "df['Address'] = df['Address'].str.replace('2727 Stinson Blvd. NE Minneapolis, MN 55418, Minneapolis, MN, 55418', '2727 Stinson Blvd. NE, Minneapolis, MN, 55418')\n",
    "df['Address'] = df['Address'].str.replace('3000 53rd St SW Naples, FL 34116, Naples, FL, 34116', '3000 53rd St SW, Naples, FL, 34116')\n",
    "df['Address'] = df['Address'].str.replace('177 W Klein Rd. New Braunfels, TX 78130, New Braunfels, TX, 78130', '177 W Klein Rd., New Braunfels, TX, 78130')\n",
    "df['Address'] = df['Address'].str.replace('500 Soraparu St. New Orleans, La 70130, New Orleans, LA, 70130', '500 Soraparu St., New Orleans, LA, 70130')\n",
    "df['Address'] = df['Address'].str.replace('2162 Mountain Blvd, Oakland CA 94611, Oakland, CA, 94605', '2162 Mountain Blvd, Oakland, CA, 94611')\n",
    "df['Address'] = df['Address'].str.replace('13231 N. 22nd St. Phoenix, AZ 85022, Phoenix, AZ, 85028', '13231 N. 22nd St., Phoenix, AZ, 85022')\n",
    "df['Address'] = df['Address'].str.replace('14124 SE Mill St, Portland OR 97233, Portland, OR, 97266', '14124 SE Mill St, Portland, OR, 97233')\n",
    "df['Address'] = df['Address'].str.replace('555 Double Eagle Ct. Suite 2000 Reno, NV 89521 , Reno, NV, 89521', '555 Double Eagle Ct., Suite 2000, Reno, NV, 89521')\n",
    "df['Address'] = df['Address'].str.replace('3422 Rustin Ave Riverside, CA 92507, Riverside, CA, 92504', '3422 Rustin Ave, Riverside, CA, 92507')\n",
    "df['Address'] = df['Address'].str.replace('2800 19th Stree NW Rochester, MN 55901, Rochester, MN, 55902', '2800 19th Stree NW, Rochester, MN, 55901')\n",
    "df['Address'] = df['Address'].str.replace('9510 Carmel Mountain Road, San Diego CA 92129, San Diego, CA, 92129', '9510 Carmel Mountain Road, San Diego CA, 92129')\n",
    "df['Address'] = df['Address'].str.replace('6540 Flanders Drive. San Diego, CA 92121, San Diego, CA, 92127', '6540 Flanders Drive., San Diego, CA, 92121')\n",
    "df['Address'] = df['Address'].str.replace('725 Washington St. Santa Clara, Ca 95050, Santa Clara, CA, 95050', '725 Washington St., Santa Clara, CA, 95050')\n",
    "df['Address'] = df['Address'].str.replace('6715 S Boe Lane Sioux Falls, SD 57108, Sioux Falls, SD, 57105', '6715 S Boe Lane, Sioux Falls, SD, 57108')\n",
    "df['Address'] = df['Address'].str.replace('12611 N. Wilson St. Mead, WA 99021, Spokane, WA, 99218', '12611 N. Wilson St., Mead, WA, 99021')\n",
    "df['Address'] = df['Address'].str.replace('1450 Newfield Avenue Stamford, CT 06905, Stamford, CT, 06905', '1450 Newfield Avenue, Stamford, CT, 06905')\n",
    "df['Address'] = df['Address'].str.replace('2525 Gold Brook Dr Stockton, CA 95212, Stockton, CA, 95212', '2525 Gold Brook Dr, Stockton, CA, 95212')\n",
    "df['Address'] = df['Address'].str.replace('1112 North G Street | Tacoma, WA 98403, Tacoma, WA, 98403', '1112 North G Street, Tacoma, WA, 98403')\n",
    "df['Address'] = df['Address'].str.replace('1250 Erbes Rd. Thousand Oaks, CA 91362, Thousand Oaks, CA, 91302', '1250 Erbes Rd., Thousand Oaks, CA, 91362')\n",
    "df['Address'] = df['Address'].str.replace('3201 N. Eastman Rd. Longview, TX 75605, Tyler, TX, 75799', '3201 N. Eastman Rd., Longview, TX, 75605')\n",
    "df['Address'] = df['Address'].str.replace('St. Catherine of Siena School, 3460 Tennessee Street, Vallejo, CA, 94591', '3460 Tennessee Street, Vallejo, CA, 94591')\n",
    "df['Address'] = df['Address'].str.replace('1650 Godfrey Ave. Wyoming,Mi 49509 , Wyoming, MI, 49509', '1650 Godfrey Ave., Wyoming, MI, 49509' )\n",
    "df['Address'] = df['Address'].str.replace('3422 Rustin Ave Riverside, CA 92507', '3422 Rustin Ave, Riverside, CA, 92507')\n",
    "df['Address'] = df['Address'].str.replace('San Martin De Porres Clinic: Kallumadanda Vinnie MD Mission, TX 78572', 'San Martin De Porres Clinic: Kallumadanda Vinnie MD, Mission, TX, 78572') # 33396\n",
    "df['Address'] = df['Address'].str.replace('Rockwood Plastic Surgery Center: Gardner Glenn P MD Spokane, WA 99204', 'Rockwood Plastic Surgery Center: Gardner Glenn P MD, Spokane, WA, 99204' ) # 50841\n",
    "df['Address'] = df['Address'].str.replace('2950 East 29th Street, Long Beach, CA', '2950 E 29th St, Long Beach, CA, 90806')\t\n",
    "df['Address'] = df['Address'].str.replace('2585 Business Park Drive, Vista, 92081', '2585 Business Park Dr, Vista, CA, 92081')\n",
    "df['Address'] = df['Address'].str.replace('401 E Arrowood Rd, Charlotte, Nc', '401 E Arrowood Rd, Charlotte, NC, 28217')\n",
    "df['Address'] = df['Address'].str.replace('2900 Barberry Avenue, Columbia, Missouri 65202', '2900 Barberry Avenue, Columbia, MO, 65202')\n",
    "df['Address'] = df['Address'].str.replace('2572 John F Kennedy Boulevard, Jersey City, New Jersey 07304', '2572 John F Kennedy Boulevard, Jersey City, NJ, 07304')\n",
    "df['Address'] = df['Address'].str.replace('4656 N. Rancho Drive, Las Vegas, Nevada 89130', '4656 N. Rancho Drive, Las Vegas, NV, 89130')\n",
    "df['Address'] = df['Address'].str.replace('6415 SE Morrison street, Portland, Oregon 97215', '6415 SE Morrison Street, Portland, OR, 97215')\n",
    "df['Address'] = df['Address'].str.replace('2120 21st Avenue South, Seattle, Washington 98144', '2120 21st Avenue South, Seattle, WA, 98144')\n",
    "df['Address'] = df['Address'].str.replace('4025 N. Hartford Ave., Tulsa, OK. 74106', '4025 N. Hartford Ave., Tulsa, OK, 74106')\n",
    "df['Address'] = df['Address'].str.replace('6355 Willowbrook St., Wichita, Ks 67208', '6355 Willowbrook St., Wichita, KS, 67208')\n",
    "df['Address'] = df['Address'].str.replace('4314 clarno dr, austin, TX 78749', '4314 Clarno Dr, Austin, TX 78749')\n",
    "df['Address'] = df['Address'].str.replace('Suite 117', 'Suite 117,')\n",
    "\n"
   ]
  },
  {
   "cell_type": "code",
   "execution_count": 5,
   "metadata": {},
   "outputs": [],
   "source": [
    "# specific \n",
    "df.at[52126, 'Address'] = '1112 North G Street, Tacoma, WA, 98403'\n",
    "df.at[46311, 'Address'] = '5531 Cancha de Golf Ste 202, Rancho Santa Fe, CA, 92091'\n",
    "df.at[56607, 'Address'] = '4880 MacArthur Blvd. NW, Washington, DC, 20007'\n",
    "df.at[27205, 'Address'] = '1018 Harding Street, Suite 112, Lafayette, LA, 70503'\n",
    "df.at[50525, 'Address'] = '8740 Asheville Hwy, Spartanburg, SC, 29316'\n",
    "df.at[397, 'Address'] = '1075 New Scotland Road, Albany, NY, 12208'\n",
    "df.at[8207, 'Address'] = '3500 Cleveland Avenue NW, Canton, OH, 44709'\n",
    "df.at[8292, 'Address'] = '231 Del Prado Blvd. S, Cape Coral, FL, 33990'\n",
    "df.at[11542, 'Address'] = '1320 South Fairview Road, Columbia MO, 65203'\n",
    "df.at[18372, 'Address'] = '7005 Woodbine Ave, Sacramento, CA, 95822'\n",
    "df.at[19249, 'Address'] = '4424 Innovation Drive, Fort Collins, CO, 80525'\n",
    "df.at[21626, 'Address'] = '1130 Eliza St.,, Green Bay, WI, 54301'\n",
    "df.at[38985, 'Address'] = '2211 Saint Andrews Blvd., Panama City FL, 32405'\n",
    "df.at[42682, 'Address'] = '5510 Munford Road, Raleigh NC, 27612'\n",
    "df.at[46031, 'Address'] = '2850 Logan Ave, San Diego, CA, 92113'\n",
    "df.at[46285, 'Address'] = '9510 Carmel Mountain Road, San Diego, CA, 92129'\n",
    "df.at[54169, 'Address']  = '3535 West Messala Way, Tucson, AZ, 85746'\n",
    "df.at[56231, 'Address'] = '2200 Minnesota Av. SE Washington DC, 20020'\n",
    "df.at[56603, 'Address'] = '3328 Martin Luther King Junior Avenue Southeast,  Washington DC, 20032'\n",
    "df.at[10584, 'Address'] = '3375 W. 99th Street, Cleveland, OH, 44102'\n",
    "df.at[11668, 'Address'] = '220 Stoneridge Drive, Suite 403, Columbia, SC, 29210'\n",
    "df.at[23334, 'Address'] = '5300 El Camino Road, Las Vegas, NV, 89118'\n",
    "df.at[34536, 'Address'] = '3000 53rd St SW, Naples, FL, 34116'\n",
    "df.at[36778, 'Address'] = '2162 Mountain Blvd, Oakland, CA, 94611'\n",
    "df.at[41320, 'Address'] = '6415 SE Morrison Street, Portland, OR, 97215'\n",
    "df.at[42400, 'Address'] = '555 Double Eagle Ct., Suite 2000, Reno, NV, 89521'\n",
    "df.at[49117, 'Address'] = '12351 8th Ave NE, Seattle, WA, 98125'\n",
    "df.at[49183\t, 'Address'] = '2120 21st Avenue South, Seattle, WA, 98144'\n",
    "df.at[56231, 'Address'] = '2200 Minnesota Av. SE, Washington, DC, 20020'\n",
    "df.at[11542, 'Address'] = '1320 South Fairview Road, Columbia, MO, 65203'\n",
    "df.at[38985, 'Address'] = '2211 Saint Andrews Blvd., Panama City, FL, 32405'\n",
    "df.at[42682, 'Address'] = '5510 Munford Road, Raleigh, NC, 27612'\n",
    "df.at[56603, 'Address'] = '3328 Martin Luther King Junior Avenue Southeast, Washington, DC, 20032'"
   ]
  },
  {
   "cell_type": "code",
   "execution_count": 6,
   "metadata": {},
   "outputs": [],
   "source": [
    "df['Address'] = df['Address'].str.replace('Washington, DC, Washington, DC,', 'Washington, DC,')\n",
    "df['Address'] = df['Address'].str.replace('New Orleans, LA, New Orleans, LA,', 'New Orleans, LA,')\n",
    "df['Address'] = df['Address'].str.replace('Albuquerque, NM, Albuquerque, NM,', 'Albuquerque, NM,' )\n",
    "df['Address'] = df['Address'].str.replace('Chelsea, MA, Boston, MA,', 'Chelsea, MA,' )\n",
    "df['Address'] = df['Address'].str.replace('Franklin, TN, Franklin, TN,', 'Franklin, TN,')\n",
    "df['Address'] = df['Address'].str.replace('Hales Corners, WI, Milwaukee, WI', 'Hales Corners, WI,') # 50525\n",
    "df['Address'] = df['Address'].str.replace('Albany NY', 'Albany, NY,' )\n",
    "df['Address'] = df['Address'].str.replace('Prineville OR', 'Prineville, OR,')\n",
    "df['Address'] = df['Address'].str.replace('Lancaster PA', 'Lancaster, PA,')\n",
    "df['Address'] = df['Address'].str.replace('Portland OR', 'Portland, OR,')\n",
    "df['Address'] = df['Address'].str.replace('San Diego CA', 'San Diego, CA,')\n",
    "df['Address'] = df['Address'].str.replace('austin', 'Austin')\n",
    "df['Address'] = df['Address'].str.replace('milwaukee', 'Milwaukee')\n",
    "df['Address'] = df['Address'].str.replace('greeley', 'Greeley')\n",
    "df['Address'] = df['Address'].str.replace('Oklahoma city', 'Oklahoma City')\n",
    "df['Address'] = df['Address'].str.replace('CARMEL', 'Carmel')\n",
    "df['Address'] = df['Address'].str.replace('COLORADO SPRINGS', 'Colorado Springs')\n",
    "df['Address'] = df['Address'].str.replace('GREENSBORO', 'Greensboro')\n",
    "df['Address'] = df['Address'].str.replace('SAN DIEGO', 'San Diego')\n",
    "df['Address'] = df['Address'].str.replace('Cherry Hill/Baltimore', 'Cherry Hill')"
   ]
  },
  {
   "cell_type": "code",
   "execution_count": 7,
   "metadata": {},
   "outputs": [],
   "source": [
    "df['Address'] = df['Address'].str.replace('AL ', 'AL, ')\n",
    "df['Address'] = df['Address'].str.replace('AK ', 'AK, ')\n",
    "df['Address'] = df['Address'].str.replace('AR ', 'AR, ')\n",
    "df['Address'] = df['Address'].str.replace('AZ ', 'AZ, ')\n",
    "df['Address'] = df['Address'].str.replace('CA ', 'CA, ')\n",
    "df['Address'] = df['Address'].str.replace('CO ', 'CO, ')\n",
    "df['Address'] = df['Address'].str.replace('CT ', 'CT, ')\n",
    "df['Address'] = df['Address'].str.replace('DE ', 'DE, ')\n",
    "df['Address'] = df['Address'].str.replace('DC ', 'DC, ')\n",
    "df['Address'] = df['Address'].str.replace('FL ', 'FL, ')\n",
    "df['Address'] = df['Address'].str.replace('GA ', 'GA, ')\n",
    "df['Address'] = df['Address'].str.replace('HI ', 'HI, ')\n",
    "df['Address'] = df['Address'].str.replace('IA ', 'IA, ')\n",
    "df['Address'] = df['Address'].str.replace('ID ', 'ID, ')\n",
    "df['Address'] = df['Address'].str.replace('IL ', 'IL, ')\n",
    "df['Address'] = df['Address'].str.replace('IN ', 'IN, ')\n",
    "df['Address'] = df['Address'].str.replace('KS ', 'KS, ')\n",
    "df['Address'] = df['Address'].str.replace('KY ', 'KY, ')\n",
    "df['Address'] = df['Address'].str.replace('LA ', 'LA, ')\n",
    "df['Address'] = df['Address'].str.replace('MA ', 'MA, ')\n",
    "df['Address'] = df['Address'].str.replace('MD ', 'MD, ')\n",
    "df['Address'] = df['Address'].str.replace('ME ', 'ME, ')\n",
    "df['Address'] = df['Address'].str.replace('MI ', 'MI, ')\n",
    "df['Address'] = df['Address'].str.replace('MN ', 'MN, ')\n",
    "df['Address'] = df['Address'].str.replace('MO ', 'MO, ')\n",
    "df['Address'] = df['Address'].str.replace('MS ', 'MS, ')\n",
    "df['Address'] = df['Address'].str.replace('MT ', 'MT, ')\n",
    "df['Address'] = df['Address'].str.replace('NC ', 'NC, ')\n",
    "df['Address'] = df['Address'].str.replace('ND ', 'ND, ')\n",
    "df['Address'] = df['Address'].str.replace('NH ', 'NH, ')\n",
    "df['Address'] = df['Address'].str.replace('NJ ', 'NJ, ')\n",
    "df['Address'] = df['Address'].str.replace('NM ', 'NM, ')\n",
    "df['Address'] = df['Address'].str.replace('NV ', 'NV, ')\n",
    "df['Address'] = df['Address'].str.replace('NY ', 'NY, ')\n",
    "df['Address'] = df['Address'].str.replace('OH ', 'OH, ')\n",
    "df['Address'] = df['Address'].str.replace('OK ', 'OK, ')\n",
    "df['Address'] = df['Address'].str.replace('OR ', 'OR, ')\n",
    "df['Address'] = df['Address'].str.replace('PA ', 'PA, ')\n",
    "df['Address'] = df['Address'].str.replace('RI ', 'RI, ')\n",
    "df['Address'] = df['Address'].str.replace('SC ', 'SC, ')\n",
    "df['Address'] = df['Address'].str.replace('SD ', 'SD, ')\n",
    "df['Address'] = df['Address'].str.replace('TN ', 'TN, ')\n",
    "df['Address'] = df['Address'].str.replace('TX ', 'TX, ')\n",
    "df['Address'] = df['Address'].str.replace('UT ', 'UT, ')\n",
    "df['Address'] = df['Address'].str.replace('VA ', 'VA, ')\n",
    "df['Address'] = df['Address'].str.replace('VT ', 'VT, ')\n",
    "df['Address'] = df['Address'].str.replace('WA ', 'WA, ')\n",
    "df['Address'] = df['Address'].str.replace('WI ', 'WI, ')\n",
    "df['Address'] = df['Address'].str.replace('WV ', 'WV, ')\n",
    "df['Address'] = df['Address'].str.replace('WY ', 'WY, ')"
   ]
  },
  {
   "source": [
    "### Split Address Column\n",
    "- look for more discrepancies"
   ],
   "cell_type": "markdown",
   "metadata": {}
  },
  {
   "source": [
    "### Create lengths to find discrepancies in 'Address' column"
   ],
   "cell_type": "markdown",
   "metadata": {}
  },
  {
   "cell_type": "code",
   "execution_count": 8,
   "metadata": {},
   "outputs": [],
   "source": [
    "df['City, State']  = df['Address'].str.split(',')"
   ]
  },
  {
   "cell_type": "code",
   "execution_count": 9,
   "metadata": {},
   "outputs": [
    {
     "output_type": "execute_result",
     "data": {
      "text/plain": [
       "array([4, 7, 5, 1, 8])"
      ]
     },
     "metadata": {},
     "execution_count": 9
    }
   ],
   "source": [
    "# Finding length because there are anomalies with the information in the address column\n",
    "df['Length'] = df['City, State'].apply(lambda x: len(x) if x != None else 0 )\n",
    "# 4 is the expected length \n",
    "df['Length'].unique()"
   ]
  },
  {
   "source": [
    "### Create new dataframes for different lengths"
   ],
   "cell_type": "markdown",
   "metadata": {}
  },
  {
   "source": [
    "### Length 1"
   ],
   "cell_type": "markdown",
   "metadata": {}
  },
  {
   "source": [
    "# No Address - removing from df\n",
    "df = df[df['Length'] != 1]"
   ],
   "cell_type": "code",
   "metadata": {},
   "execution_count": 10,
   "outputs": []
  },
  {
   "source": [
    "### Length 7\n",
    "- https://stackoverflow.com/questions/6266727/python-cut-off-the-last-word-of-a-sentence\n",
    "- https://towardsdatascience.com/a-really-simple-way-to-edit-row-by-row-in-a-pandas-dataframe-75d339cbd313"
   ],
   "cell_type": "markdown",
   "metadata": {}
  },
  {
   "cell_type": "code",
   "execution_count": 11,
   "metadata": {},
   "outputs": [
    {
     "output_type": "execute_result",
     "data": {
      "text/plain": [
       "       Unnamed: 0                                  School Score  \\\n",
       "553           553      Mountain Mahogany Community School  6/10   \n",
       "1006         1006               Acton Academy Albuquerque  0/10   \n",
       "2096         2096               Anderson Christian School  0/10   \n",
       "2148         2148      Go Like The Wind Montessori School  0/10   \n",
       "2382         2382      Newman International Academy Of Ar  6/10   \n",
       "...           ...                                     ...   ...   \n",
       "55833       55833  Central Faith Child Development Center  0/10   \n",
       "55976       55976           May V. Peck Elementary School  7/10   \n",
       "56786       56786    Georgetown Day School - Upper School  0/10   \n",
       "57658       57658             Classical School of Wichita  0/10   \n",
       "58140       58140        Wilmington Academy Of Arts & Sci  0/10   \n",
       "\n",
       "                  Rating  \\\n",
       "553              Average   \n",
       "1006   Currently unrated   \n",
       "2096   Currently unrated   \n",
       "2148   Currently unrated   \n",
       "2382             Average   \n",
       "...                  ...   \n",
       "55833  Currently unrated   \n",
       "55976      Above average   \n",
       "56786  Currently unrated   \n",
       "57658  Currently unrated   \n",
       "58140  Currently unrated   \n",
       "\n",
       "                                                                      Address  \\\n",
       "553       5014 4th Street NW, Albuquerque, NM,  87107, Albuquerque, NM, 87107   \n",
       "1006      3100 Menaul Blvd NE, Albuquerque, NM, 87107, Albuquerque, NM, 87109   \n",
       "2096            5401 S. Madison Ave, Anderson, IN, 46013, Anderson, IN, 46012   \n",
       "2148            8845 Main St., Whitmore Lake, MI, 48189, Ann Arbor, MI, 48105   \n",
       "2382           2011 S Fielder Rd, Arlington, TX, 76013 , Arlington, TX, 76003   \n",
       "...                                                                       ...   \n",
       "55833                     5720 Bagby Avenue, Waco, TX, 76712, Waco, TX, 76712   \n",
       "55976               26201 Lorraine, Center Line, MI, 48015, Warren, MI, 48089   \n",
       "56786  4200 Davenport Street NW, Washington, DC, 20009, Washington, DC, 20016   \n",
       "57658            6355 Willowbrook St., Wichita, KS, 67208, Wichita, KS, 67218   \n",
       "58140    6201 Myrtle Grove Road, Wilmington, NC, 28412, Wilmington, NC, 28409   \n",
       "\n",
       "                  Type           Grades  Total Students Enrolled  \\\n",
       "553     Public charter              K-8                    187.0   \n",
       "1006           Private              1-6                      NaN   \n",
       "2096           Private      PK-9, 11-12                     56.0   \n",
       "2148           Private             PK-9                    131.0   \n",
       "2382    Public charter            PK-12                    870.0   \n",
       "...                ...              ...                      ...   \n",
       "55833          Private               PK                      NaN   \n",
       "55976  Public district              K-5                    325.0   \n",
       "56786          Private             9-12                      NaN   \n",
       "57658          Private  K-12 & Ungraded                      NaN   \n",
       "58140          Private              4-8                     70.0   \n",
       "\n",
       "      Students per teacher                                   District  \\\n",
       "553                   17:1                 Albuquerque Public Schools   \n",
       "1006                   NaN                                        NaN   \n",
       "2096                   NaN                                        NaN   \n",
       "2148                   NaN                                        NaN   \n",
       "2382                  13:1  Newman International Academy Of Arlington   \n",
       "...                    ...                                        ...   \n",
       "55833                  NaN                                        NaN   \n",
       "55976                 15:1                 Center Line Public Schools   \n",
       "56786                  NaN                                        NaN   \n",
       "57658                  NaN                                        NaN   \n",
       "58140                  NaN                                        NaN   \n",
       "\n",
       "                                                                          City, State  \\\n",
       "553       [5014 4th Street NW,  Albuquerque,  NM,   87107,  Albuquerque,  NM,  87107]   \n",
       "1006      [3100 Menaul Blvd NE,  Albuquerque,  NM,  87107,  Albuquerque,  NM,  87109]   \n",
       "2096            [5401 S. Madison Ave,  Anderson,  IN,  46013,  Anderson,  IN,  46012]   \n",
       "2148            [8845 Main St.,  Whitmore Lake,  MI,  48189,  Ann Arbor,  MI,  48105]   \n",
       "2382           [2011 S Fielder Rd,  Arlington,  TX,  76013 ,  Arlington,  TX,  76003]   \n",
       "...                                                                               ...   \n",
       "55833                     [5720 Bagby Avenue,  Waco,  TX,  76712,  Waco,  TX,  76712]   \n",
       "55976               [26201 Lorraine,  Center Line,  MI,  48015,  Warren,  MI,  48089]   \n",
       "56786  [4200 Davenport Street NW,  Washington,  DC,  20009,  Washington,  DC,  20016]   \n",
       "57658            [6355 Willowbrook St.,  Wichita,  KS,  67208,  Wichita,  KS,  67218]   \n",
       "58140    [6201 Myrtle Grove Road,  Wilmington,  NC,  28412,  Wilmington,  NC,  28409]   \n",
       "\n",
       "       Length  \n",
       "553         7  \n",
       "1006        7  \n",
       "2096        7  \n",
       "2148        7  \n",
       "2382        7  \n",
       "...       ...  \n",
       "55833       7  \n",
       "55976       7  \n",
       "56786       7  \n",
       "57658       7  \n",
       "58140       7  \n",
       "\n",
       "[74 rows x 12 columns]"
      ],
      "text/html": "<div>\n<style scoped>\n    .dataframe tbody tr th:only-of-type {\n        vertical-align: middle;\n    }\n\n    .dataframe tbody tr th {\n        vertical-align: top;\n    }\n\n    .dataframe thead th {\n        text-align: right;\n    }\n</style>\n<table border=\"1\" class=\"dataframe\">\n  <thead>\n    <tr style=\"text-align: right;\">\n      <th></th>\n      <th>Unnamed: 0</th>\n      <th>School</th>\n      <th>Score</th>\n      <th>Rating</th>\n      <th>Address</th>\n      <th>Type</th>\n      <th>Grades</th>\n      <th>Total Students Enrolled</th>\n      <th>Students per teacher</th>\n      <th>District</th>\n      <th>City, State</th>\n      <th>Length</th>\n    </tr>\n  </thead>\n  <tbody>\n    <tr>\n      <th>553</th>\n      <td>553</td>\n      <td>Mountain Mahogany Community School</td>\n      <td>6/10</td>\n      <td>Average</td>\n      <td>5014 4th Street NW, Albuquerque, NM,  87107, Albuquerque, NM, 87107</td>\n      <td>Public charter</td>\n      <td>K-8</td>\n      <td>187.0</td>\n      <td>17:1</td>\n      <td>Albuquerque Public Schools</td>\n      <td>[5014 4th Street NW,  Albuquerque,  NM,   87107,  Albuquerque,  NM,  87107]</td>\n      <td>7</td>\n    </tr>\n    <tr>\n      <th>1006</th>\n      <td>1006</td>\n      <td>Acton Academy Albuquerque</td>\n      <td>0/10</td>\n      <td>Currently unrated</td>\n      <td>3100 Menaul Blvd NE, Albuquerque, NM, 87107, Albuquerque, NM, 87109</td>\n      <td>Private</td>\n      <td>1-6</td>\n      <td>NaN</td>\n      <td>NaN</td>\n      <td>NaN</td>\n      <td>[3100 Menaul Blvd NE,  Albuquerque,  NM,  87107,  Albuquerque,  NM,  87109]</td>\n      <td>7</td>\n    </tr>\n    <tr>\n      <th>2096</th>\n      <td>2096</td>\n      <td>Anderson Christian School</td>\n      <td>0/10</td>\n      <td>Currently unrated</td>\n      <td>5401 S. Madison Ave, Anderson, IN, 46013, Anderson, IN, 46012</td>\n      <td>Private</td>\n      <td>PK-9, 11-12</td>\n      <td>56.0</td>\n      <td>NaN</td>\n      <td>NaN</td>\n      <td>[5401 S. Madison Ave,  Anderson,  IN,  46013,  Anderson,  IN,  46012]</td>\n      <td>7</td>\n    </tr>\n    <tr>\n      <th>2148</th>\n      <td>2148</td>\n      <td>Go Like The Wind Montessori School</td>\n      <td>0/10</td>\n      <td>Currently unrated</td>\n      <td>8845 Main St., Whitmore Lake, MI, 48189, Ann Arbor, MI, 48105</td>\n      <td>Private</td>\n      <td>PK-9</td>\n      <td>131.0</td>\n      <td>NaN</td>\n      <td>NaN</td>\n      <td>[8845 Main St.,  Whitmore Lake,  MI,  48189,  Ann Arbor,  MI,  48105]</td>\n      <td>7</td>\n    </tr>\n    <tr>\n      <th>2382</th>\n      <td>2382</td>\n      <td>Newman International Academy Of Ar</td>\n      <td>6/10</td>\n      <td>Average</td>\n      <td>2011 S Fielder Rd, Arlington, TX, 76013 , Arlington, TX, 76003</td>\n      <td>Public charter</td>\n      <td>PK-12</td>\n      <td>870.0</td>\n      <td>13:1</td>\n      <td>Newman International Academy Of Arlington</td>\n      <td>[2011 S Fielder Rd,  Arlington,  TX,  76013 ,  Arlington,  TX,  76003]</td>\n      <td>7</td>\n    </tr>\n    <tr>\n      <th>...</th>\n      <td>...</td>\n      <td>...</td>\n      <td>...</td>\n      <td>...</td>\n      <td>...</td>\n      <td>...</td>\n      <td>...</td>\n      <td>...</td>\n      <td>...</td>\n      <td>...</td>\n      <td>...</td>\n      <td>...</td>\n    </tr>\n    <tr>\n      <th>55833</th>\n      <td>55833</td>\n      <td>Central Faith Child Development Center</td>\n      <td>0/10</td>\n      <td>Currently unrated</td>\n      <td>5720 Bagby Avenue, Waco, TX, 76712, Waco, TX, 76712</td>\n      <td>Private</td>\n      <td>PK</td>\n      <td>NaN</td>\n      <td>NaN</td>\n      <td>NaN</td>\n      <td>[5720 Bagby Avenue,  Waco,  TX,  76712,  Waco,  TX,  76712]</td>\n      <td>7</td>\n    </tr>\n    <tr>\n      <th>55976</th>\n      <td>55976</td>\n      <td>May V. Peck Elementary School</td>\n      <td>7/10</td>\n      <td>Above average</td>\n      <td>26201 Lorraine, Center Line, MI, 48015, Warren, MI, 48089</td>\n      <td>Public district</td>\n      <td>K-5</td>\n      <td>325.0</td>\n      <td>15:1</td>\n      <td>Center Line Public Schools</td>\n      <td>[26201 Lorraine,  Center Line,  MI,  48015,  Warren,  MI,  48089]</td>\n      <td>7</td>\n    </tr>\n    <tr>\n      <th>56786</th>\n      <td>56786</td>\n      <td>Georgetown Day School - Upper School</td>\n      <td>0/10</td>\n      <td>Currently unrated</td>\n      <td>4200 Davenport Street NW, Washington, DC, 20009, Washington, DC, 20016</td>\n      <td>Private</td>\n      <td>9-12</td>\n      <td>NaN</td>\n      <td>NaN</td>\n      <td>NaN</td>\n      <td>[4200 Davenport Street NW,  Washington,  DC,  20009,  Washington,  DC,  20016]</td>\n      <td>7</td>\n    </tr>\n    <tr>\n      <th>57658</th>\n      <td>57658</td>\n      <td>Classical School of Wichita</td>\n      <td>0/10</td>\n      <td>Currently unrated</td>\n      <td>6355 Willowbrook St., Wichita, KS, 67208, Wichita, KS, 67218</td>\n      <td>Private</td>\n      <td>K-12 &amp; Ungraded</td>\n      <td>NaN</td>\n      <td>NaN</td>\n      <td>NaN</td>\n      <td>[6355 Willowbrook St.,  Wichita,  KS,  67208,  Wichita,  KS,  67218]</td>\n      <td>7</td>\n    </tr>\n    <tr>\n      <th>58140</th>\n      <td>58140</td>\n      <td>Wilmington Academy Of Arts &amp; Sci</td>\n      <td>0/10</td>\n      <td>Currently unrated</td>\n      <td>6201 Myrtle Grove Road, Wilmington, NC, 28412, Wilmington, NC, 28409</td>\n      <td>Private</td>\n      <td>4-8</td>\n      <td>70.0</td>\n      <td>NaN</td>\n      <td>NaN</td>\n      <td>[6201 Myrtle Grove Road,  Wilmington,  NC,  28412,  Wilmington,  NC,  28409]</td>\n      <td>7</td>\n    </tr>\n  </tbody>\n</table>\n<p>74 rows × 12 columns</p>\n</div>"
     },
     "metadata": {},
     "execution_count": 11
    }
   ],
   "source": [
    "df.loc[df['Length'] == 7]"
   ]
  },
  {
   "cell_type": "code",
   "execution_count": 12,
   "metadata": {},
   "outputs": [],
   "source": [
    "for index in df.index:\n",
    "    if df.loc[index, 'Length'] == 7:\n",
    "        content = df.loc[index, 'Address']\n",
    "        df.loc[index, 'Address'] = ', '.join(content.split(', ')[:-3])"
   ]
  },
  {
   "source": [
    "### Length 8"
   ],
   "cell_type": "markdown",
   "metadata": {}
  },
  {
   "cell_type": "code",
   "execution_count": 13,
   "metadata": {},
   "outputs": [
    {
     "output_type": "execute_result",
     "data": {
      "text/plain": [
       "       Unnamed: 0                  School Score             Rating  \\\n",
       "40342       40342  Kaleidoscope Preschool  0/10  Currently unrated   \n",
       "\n",
       "                                                                        Address  \\\n",
       "40342  3434 W. Greenway Rd., Suite 117, Phoenix, AZ,  85053, Phoenix, AZ, 85023   \n",
       "\n",
       "          Type Grades  Total Students Enrolled Students per teacher District  \\\n",
       "40342  Private     PK                      NaN                  NaN      NaN   \n",
       "\n",
       "                                                                             City, State  \\\n",
       "40342  [3434 W. Greenway Rd.,  Suite 117,  Phoenix,  AZ,   85053,  Phoenix,  AZ,  85023]   \n",
       "\n",
       "       Length  \n",
       "40342       8  "
      ],
      "text/html": "<div>\n<style scoped>\n    .dataframe tbody tr th:only-of-type {\n        vertical-align: middle;\n    }\n\n    .dataframe tbody tr th {\n        vertical-align: top;\n    }\n\n    .dataframe thead th {\n        text-align: right;\n    }\n</style>\n<table border=\"1\" class=\"dataframe\">\n  <thead>\n    <tr style=\"text-align: right;\">\n      <th></th>\n      <th>Unnamed: 0</th>\n      <th>School</th>\n      <th>Score</th>\n      <th>Rating</th>\n      <th>Address</th>\n      <th>Type</th>\n      <th>Grades</th>\n      <th>Total Students Enrolled</th>\n      <th>Students per teacher</th>\n      <th>District</th>\n      <th>City, State</th>\n      <th>Length</th>\n    </tr>\n  </thead>\n  <tbody>\n    <tr>\n      <th>40342</th>\n      <td>40342</td>\n      <td>Kaleidoscope Preschool</td>\n      <td>0/10</td>\n      <td>Currently unrated</td>\n      <td>3434 W. Greenway Rd., Suite 117, Phoenix, AZ,  85053, Phoenix, AZ, 85023</td>\n      <td>Private</td>\n      <td>PK</td>\n      <td>NaN</td>\n      <td>NaN</td>\n      <td>NaN</td>\n      <td>[3434 W. Greenway Rd.,  Suite 117,  Phoenix,  AZ,   85053,  Phoenix,  AZ,  85023]</td>\n      <td>8</td>\n    </tr>\n  </tbody>\n</table>\n</div>"
     },
     "metadata": {},
     "execution_count": 13
    }
   ],
   "source": [
    "df.loc[df['Length'] == 8]"
   ]
  },
  {
   "cell_type": "code",
   "execution_count": 14,
   "metadata": {},
   "outputs": [],
   "source": [
    "for index in df.index:\n",
    "    if df.loc[index, 'Length'] == 8:\n",
    "        content = df.loc[index, 'Address']\n",
    "        df.loc[index, 'Address'] = ', '.join(content.split(', ')[:-3])"
   ]
  },
  {
   "source": [
    "### Check"
   ],
   "cell_type": "markdown",
   "metadata": {}
  },
  {
   "cell_type": "code",
   "execution_count": 15,
   "metadata": {},
   "outputs": [],
   "source": [
    "df = df.drop(columns = ['City, State', 'Length'])"
   ]
  },
  {
   "cell_type": "code",
   "execution_count": 16,
   "metadata": {},
   "outputs": [],
   "source": [
    "df['City, State']  = df['Address'].str.split(',')"
   ]
  },
  {
   "cell_type": "code",
   "execution_count": 17,
   "metadata": {},
   "outputs": [
    {
     "output_type": "execute_result",
     "data": {
      "text/plain": [
       "array([4, 5])"
      ]
     },
     "metadata": {},
     "execution_count": 17
    }
   ],
   "source": [
    "# Checking string lengths after cleaning\n",
    "df['Length'] = df['City, State'].apply(lambda x: len(x) if x != None else 0 )\n",
    "df['Length'].unique()"
   ]
  },
  {
   "source": [
    "### Create City, State columns"
   ],
   "cell_type": "markdown",
   "metadata": {}
  },
  {
   "cell_type": "code",
   "execution_count": 18,
   "metadata": {},
   "outputs": [],
   "source": [
    "df['City'] = df['City, State'].str[-3]"
   ]
  },
  {
   "cell_type": "code",
   "execution_count": 19,
   "metadata": {},
   "outputs": [],
   "source": [
    "df['State'] = df['City, State'].str[-2]"
   ]
  },
  {
   "source": [
    "### Check Unique Cities"
   ],
   "cell_type": "markdown",
   "metadata": {}
  },
  {
   "cell_type": "code",
   "execution_count": 20,
   "metadata": {},
   "outputs": [
    {
     "output_type": "stream",
     "name": "stdout",
     "text": [
      "396\n"
     ]
    },
    {
     "output_type": "execute_result",
     "data": {
      "text/plain": [
       "array([' Akron', ' Albany', ' Albuquerque', ' Alexandria', ' Allentown',\n",
       "       ' Altoona', ' Amarillo', ' Anacortes', ' Anaheim', ' Anchorage',\n",
       "       ' Anderson', ' Ann Arbor', ' Whitmore Lake', ' Appleton',\n",
       "       ' Arlington', ' Arroyo Grande', ' Asheville', ' Ashland',\n",
       "       ' Athens', ' Atlantic City', ' Auburn', ' Aurora', ' Austin',\n",
       "       ' Dripping Springs', ' Bakersfield', ' Baltimore', ' Cherry Hill',\n",
       "       ' Bangor', ' Baton Rouge', ' Bay City', ' Beaumont', ' Bellevue',\n",
       "       ' Bellingham', ' Beloit', ' Bend', ' Prineville', ' Benton Harbor',\n",
       "       ' Billings', ' Biloxi', ' Bismarck', ' Blacksburg', ' Bloomington',\n",
       "       ' Bossier City', ' Boston', ' Chelsea', ' Hyde Park', ' Boulder',\n",
       "       ' Bowling Green', ' Bradenton', ' Bremerton', ' Bridgeport',\n",
       "       ' Bridgeton', ' Bristol', ' Brookings', ' Brownsville', ' Bryan',\n",
       "       ' Buffalo', ' Burlington', ' Cambridge', ' Canton', ' Cape Coral',\n",
       "       ' Carlsbad', ' Vista', ' Carmel', ' Casper', ' Cedar Rapids',\n",
       "       ' Chambersburg', ' Champaign', ' Chapel Hill', ' Charleston',\n",
       "       ' Charlotte', ' Charlottesville', ' Cheyenne', ' Chicago',\n",
       "       ' Chico', ' Christiansburg', ' Clearfield', ' Clearwater',\n",
       "       ' Cleveland', ' Clinton', ' College Station', ' Colorado Springs',\n",
       "       ' Columbia', ' Columbus', ' Concord', ' Conway', ' Corcoran',\n",
       "       ' Corpus Christi', ' Council Bluffs', ' Crestview', ' Cumberland',\n",
       "       ' Dallas', ' Dayton', ' Daytona Beach', ' South Daytona',\n",
       "       ' Decatur', ' Denver', ' Des Moines', ' Detroit', ' Douglas',\n",
       "       ' Dover', ' Duluth', ' Durham', ' East Lansing', ' Eau Claire',\n",
       "       ' Edinburg', ' Effingham', ' El Centro', ' El Paso',\n",
       "       ' Elizabethtown', ' Elko', ' Elyria', ' Enid', ' Erie', ' Eugene',\n",
       "       ' Evansville', ' Fairbanks', ' Fairfield', ' Sacramento',\n",
       "       ' Fayetteville', ' Flagstaff', ' Flint', ' Florence',\n",
       "       ' Fort Collins', ' Fort Lauderdale', ' Fort Myers', ' Fort Smith',\n",
       "       ' Fort Walton Beach', ' Fort Wayne', ' Fort Worth', '  Fort Worth',\n",
       "       ' Franklin', ' Gainesville', ' Grand Junction', ' Grand Rapids',\n",
       "       ' Grants Pass', ' Great Falls', ' Greeley', ' Green Bay',\n",
       "       ' Greensboro', ' Greenville', ' Gulfport', ' Hagerstown',\n",
       "       ' Hammonton', ' Hanford', ' Hanover', ' Harlingen', ' Harrisburg',\n",
       "       ' Harrisonburg', ' Hartford', ' Hattiesburg', ' Henderson',\n",
       "       ' Las Vegas', ' Hickory', ' High Point', ' Hillsboro', ' Holland',\n",
       "       ' Honolulu', ' Houghton', ' Houma', ' Houston', ' Idaho Falls',\n",
       "       ' Ammon', ' Indiana', ' Iowa City', ' Ithaca', ' Jackson',\n",
       "       ' Jacksonville', ' Janesville', ' Jasper', ' Jefferson City',\n",
       "       ' Jersey City', ' Joplin', ' Juneau', ' Kalamazoo', ' Kennewick',\n",
       "       ' Killeen', ' Kingman', ' Kingsport', ' Kissimmee', ' Knoxville',\n",
       "       ' Kokomo', ' La Porte', ' Lafayette', ' Lake Charles',\n",
       "       ' Lake Havasu City', ' Lakeland', ' Lancaster', ' Lansing',\n",
       "       ' Laredo', ' Las Cruces', ' Lawton', ' Lebanon', ' Lenoir',\n",
       "       ' Lewiston', ' Lexington', ' Lima', ' Lincoln', ' Little Rock',\n",
       "       ' Lodi', ' Long Beach', ' Longview', ' Los Alamos', ' Los Angeles',\n",
       "       ' Lubbock', ' Lynchburg', ' Madera', ' Madison', ' Manchester',\n",
       "       ' Manitowoc', ' Marco Island', ' Marshall', ' Massillon',\n",
       "       ' Mauldin', ' Melbourne', ' Merced', ' Mesa', ' Miami', ' Milford',\n",
       "       ' Milwaukee', ' WI', ' Minneapolis', ' Mission', ' Missoula',\n",
       "       ' Modesto', ' Moline', ' Monroe', ' Morganton', ' Morgantown',\n",
       "       ' Morristown', ' Mount Vernon', ' Murfreesboro', ' Muscatine',\n",
       "       ' Muskegon', ' Muskogee', ' Myrtle Beach', ' Napa', ' Naples',\n",
       "       ' Nashua', ' Nashville', ' New Braunfels', ' New Haven',\n",
       "       ' New London', ' New Orleans', ' New York', ' Newark',\n",
       "       ' Niagara Falls', ' Niles', ' North Charleston',\n",
       "       ' North Little Rock', ' North Myrtle Beach', ' North Port',\n",
       "       ' Norwalk', ' Norwich', ' Oakland', ' Ocala', ' Odessa', ' Ogden',\n",
       "       ' Oklahoma City', ' Olympia', ' Ontario', ' Orem', ' Orlando',\n",
       "       ' Ormond Beach', ' Owensboro', ' Oxnard', ' Palm Bay',\n",
       "       ' Panama City', ' Pascagoula', ' Pensacola', ' Peoria', ' Phoenix',\n",
       "       ' Pittsfield', ' Pocatello', ' Chubbuck', ' Port Arthur',\n",
       "       ' Portage', ' Porterville', ' Portland', ' Prescott', ' Provo',\n",
       "       ' Saratoga Springs', ' Pueblo', ' Racine', ' Radford', ' Raleigh',\n",
       "       ' Rapid City', ' Redmond', ' Reno', ' Richland', ' Richmond',\n",
       "       ' Henrico', ' Riverside', ' Roanoke', ' Rochester', ' Rock Island',\n",
       "       ' Rockford', ' Rocky Mount', ' Rogers', ' Rome', ' Roseville',\n",
       "       ' Round Rock', ' Rutland', ' Salem', ' Salinas', ' Salisbury',\n",
       "       ' Salt Lake City', ' San Antonio', ' San Bernardino', ' San Diego',\n",
       "       ' Rancho Santa Fe', ' La Jolla', ' San Francisco', ' San Jose',\n",
       "       ' San Luis Obispo', ' Sanford', ' Santa Barbara', ' Santa Clara',\n",
       "       ' Santa Cruz', ' Santa Rosa', ' Sarasota', ' Schenectady',\n",
       "       ' Scottsbluff', ' Scottsdale', ' Paradise Valley', ' Scranton',\n",
       "       ' Seattle', ' Shoreline', ' Sebastian', ' Sebring', ' Sheboygan',\n",
       "       ' Sheridan', ' Shreveport', ' Sierra Vista', ' Sioux City',\n",
       "       ' Sioux Falls', ' South Bend', ' South Burlington', ' Spartanburg',\n",
       "       ' Spokane', ' Mead', ' Springfield', ' Stamford', ' State College',\n",
       "       ' Steubenville', ' Stockton', ' Sunnyvale', ' Syracuse', ' Tacoma',\n",
       "       ' Tallahassee', ' Tampa', ' Taos', ' Temple', ' Texarkana',\n",
       "       ' Thibodaux', ' Thousand Oaks', ' Titusville', ' Toledo',\n",
       "       ' Topeka', ' Trenton', ' Troy', ' Tucson', ' Tulsa', ' Twin Falls',\n",
       "       ' Tyler', ' Urbana', ' Utica', ' Vallejo', ' Vero Beach',\n",
       "       ' Victoria', ' Vineland', ' Visalia', ' Waco', ' Walla Walla',\n",
       "       ' Warner Robins', ' Center Line', ' Warren', ' Washington',\n",
       "       ' Waterloo', ' Watertown', ' Watsonville', ' Waukesha', ' Wausau',\n",
       "       ' Wenatchee', ' West Lafayette', ' West Palm Beach', ' Wichita',\n",
       "       ' Wilmington', ' Winchester', ' Winona', ' Winter Haven',\n",
       "       ' Worcester', ' Wyoming', ' Yakima', ' Yuba City', ' Yuma'],\n",
       "      dtype=object)"
      ]
     },
     "metadata": {},
     "execution_count": 20
    }
   ],
   "source": [
    "print(df['City'].nunique())\n",
    "df['City'].unique()"
   ]
  },
  {
   "source": [
    "### Check Unique States"
   ],
   "cell_type": "markdown",
   "metadata": {}
  },
  {
   "cell_type": "code",
   "execution_count": 21,
   "metadata": {},
   "outputs": [
    {
     "output_type": "stream",
     "name": "stdout",
     "text": [
      "50\n"
     ]
    },
    {
     "output_type": "execute_result",
     "data": {
      "text/plain": [
       "array([' OH', ' GA', ' NY', ' OR', ' NM', ' LA', ' PA', ' TX', ' WA',\n",
       "       ' CA', ' AK', ' IN', ' MI', ' WI', ' NC', ' KY', ' NJ', ' ME',\n",
       "       ' CO', ' MD', ' MT', ' MS', ' ND', ' VA', ' IL', ' MA', ' FL',\n",
       "       ' CT', ' TN', ' SD', ' VT', ' WY', ' IA', ' SC', ' UT', ' MO',\n",
       "       ' AR', ' AZ', ' DE', ' MN', ' NV', ' OK', ' HI', ' ID', ' NE',\n",
       "       ' NH', '', ' WV', ' KS', ' DC'], dtype=object)"
      ]
     },
     "metadata": {},
     "execution_count": 21
    }
   ],
   "source": [
    "print(df['State'].nunique())\n",
    "df['State'].unique()"
   ]
  },
  {
   "cell_type": "code",
   "execution_count": 22,
   "metadata": {},
   "outputs": [
    {
     "output_type": "execute_result",
     "data": {
      "text/plain": [
       "       Unnamed: 0                                        School Score  \\\n",
       "32718       32718  Lutheran Special School & Education Services  0/10   \n",
       "\n",
       "                  Rating                                          Address  \\\n",
       "32718  Currently unrated  5425 S. 111th Street, Hales Corners, WI,, 53222   \n",
       "\n",
       "          Type Grades  Total Students Enrolled Students per teacher District  \\\n",
       "32718  Private    1-8                     74.0                  NaN      NaN   \n",
       "\n",
       "                                                 City, State  Length City  \\\n",
       "32718  [5425 S. 111th Street,  Hales Corners,  WI, ,  53222]       5   WI   \n",
       "\n",
       "      State  \n",
       "32718        "
      ],
      "text/html": "<div>\n<style scoped>\n    .dataframe tbody tr th:only-of-type {\n        vertical-align: middle;\n    }\n\n    .dataframe tbody tr th {\n        vertical-align: top;\n    }\n\n    .dataframe thead th {\n        text-align: right;\n    }\n</style>\n<table border=\"1\" class=\"dataframe\">\n  <thead>\n    <tr style=\"text-align: right;\">\n      <th></th>\n      <th>Unnamed: 0</th>\n      <th>School</th>\n      <th>Score</th>\n      <th>Rating</th>\n      <th>Address</th>\n      <th>Type</th>\n      <th>Grades</th>\n      <th>Total Students Enrolled</th>\n      <th>Students per teacher</th>\n      <th>District</th>\n      <th>City, State</th>\n      <th>Length</th>\n      <th>City</th>\n      <th>State</th>\n    </tr>\n  </thead>\n  <tbody>\n    <tr>\n      <th>32718</th>\n      <td>32718</td>\n      <td>Lutheran Special School &amp; Education Services</td>\n      <td>0/10</td>\n      <td>Currently unrated</td>\n      <td>5425 S. 111th Street, Hales Corners, WI,, 53222</td>\n      <td>Private</td>\n      <td>1-8</td>\n      <td>74.0</td>\n      <td>NaN</td>\n      <td>NaN</td>\n      <td>[5425 S. 111th Street,  Hales Corners,  WI, ,  53222]</td>\n      <td>5</td>\n      <td>WI</td>\n      <td></td>\n    </tr>\n  </tbody>\n</table>\n</div>"
     },
     "metadata": {},
     "execution_count": 22
    }
   ],
   "source": [
    "df.loc[df['State'] == '']"
   ]
  },
  {
   "cell_type": "code",
   "execution_count": 23,
   "metadata": {},
   "outputs": [],
   "source": [
    "df.at[32718, 'Address'] = '5425 S. 111th Street, Hales Corners, WI, 53222'\n",
    "df.at[32718, 'State'] = 'WI'\n",
    "df.at[32718, 'City'] = 'Hales Corners'"
   ]
  },
  {
   "source": [
    "### Update School Score\n",
    "- change to int so data can be sorted by the value"
   ],
   "cell_type": "markdown",
   "metadata": {}
  },
  {
   "cell_type": "code",
   "execution_count": 24,
   "metadata": {},
   "outputs": [],
   "source": [
    "df['Score'] = df['Score'].str.replace('/10', '')\n",
    "df['Score'] = df['Score'].astype(int)"
   ]
  },
  {
   "source": [
    "### Separating into PK, K, Elementary, Middle, High School\n",
    "- https://stackoverflow.com/questions/61877712/check-if-an-item-in-a-list-is-available-in-a-column-which-is-of-type-list"
   ],
   "cell_type": "markdown",
   "metadata": {}
  },
  {
   "source": [
    "def parse_grades(grades_string):\n",
    "    GRADES = ['PK', 'K', '1', '2', '3', '4', '5', '6', '7', '8', '9', '10', '11', '12', 'Ungraded']\n",
    "\n",
    "    # Remove & for grades list\n",
    "    grades_string = grades_string.replace(' &', ',')\n",
    "\n",
    "    # Grades list - will add to separated grade string to grades\n",
    "    grades = []\n",
    "\n",
    "    # split strings based on ','\n",
    "    string_list = grades_string.split(',')\n",
    "\n",
    "    # look for sections of list with '-'\n",
    "    dash = \"-\"\n",
    "    for i in range(len(string_list)):\n",
    "        clean_string = string_list[i].strip()\n",
    "        if dash in clean_string:\n",
    "            #  split using '-', loop and add to grades variable\n",
    "            start_grade, end_grade = clean_string.split(dash)\n",
    "            grades += GRADES[GRADES.index(start_grade) : GRADES.index(end_grade)+ 1]\n",
    "        else:\n",
    "            # add string to grades\n",
    "            grades.append(clean_string)\n",
    "\n",
    "    return grades"
   ],
   "cell_type": "code",
   "metadata": {},
   "execution_count": 25,
   "outputs": []
  },
  {
   "cell_type": "code",
   "execution_count": 26,
   "metadata": {},
   "outputs": [
    {
     "output_type": "stream",
     "name": "stdout",
     "text": [
      "302\n"
     ]
    }
   ],
   "source": [
    "print(df['Grades'].nunique())\n",
    "unique_grades_combination  = df['Grades'].unique()"
   ]
  },
  {
   "cell_type": "code",
   "execution_count": 27,
   "metadata": {},
   "outputs": [],
   "source": [
    "def test_complete_dataset(unique_grades_combination):\n",
    "    # create a loop that goes thru dataset and invoke parse_grades with each element\n",
    "    separated_grades_list = []\n",
    "    for i in unique_grades_combination:\n",
    "        separated_grades_list.append(parse_grades(i))\n",
    "\n",
    "    dictionary_grade_list = dict(zip(unique_grades_combination, separated_grades_list))\n",
    "\n",
    "    return dictionary_grade_list"
   ]
  },
  {
   "cell_type": "code",
   "execution_count": 28,
   "metadata": {},
   "outputs": [],
   "source": [
    "dictionary = test_complete_dataset(unique_grades_combination)"
   ]
  },
  {
   "cell_type": "code",
   "execution_count": 29,
   "metadata": {},
   "outputs": [],
   "source": [
    "df['Clean_Grades'] = df['Grades'].map(dictionary)"
   ]
  },
  {
   "cell_type": "code",
   "execution_count": 30,
   "metadata": {},
   "outputs": [],
   "source": [
    "high_school = ['9', '10', '11', '12']\n",
    "middle_school = ['6', '7', '8']\n",
    "elementary = ['K', '1', '2', '3', '4', '5']\n",
    "pre_k = ['PK']"
   ]
  },
  {
   "cell_type": "code",
   "execution_count": 31,
   "metadata": {},
   "outputs": [],
   "source": [
    "set1 = set(high_school)\n",
    "df['High School (9-12)'] = df['Clean_Grades'].apply(lambda x: any([k in x for k in set1]))"
   ]
  },
  {
   "cell_type": "code",
   "execution_count": 32,
   "metadata": {},
   "outputs": [],
   "source": [
    "set2 = set(middle_school)\n",
    "df['Middle School (6-8)'] = df['Clean_Grades'].apply(lambda x: any([k in x for k in set2]))"
   ]
  },
  {
   "cell_type": "code",
   "execution_count": 33,
   "metadata": {},
   "outputs": [],
   "source": [
    "set3 = set(elementary)\n",
    "df['Elementary (K-5)'] = df['Clean_Grades'].apply(lambda x: any([k in x for k in set3]))"
   ]
  },
  {
   "cell_type": "code",
   "execution_count": 34,
   "metadata": {},
   "outputs": [],
   "source": [
    "set4 = set(pre_k)\n",
    "df['Pre-Kindergarten (PK)'] = df['Clean_Grades'].apply(lambda x: any([k in x for k in set4]))"
   ]
  },
  {
   "cell_type": "code",
   "execution_count": 35,
   "metadata": {},
   "outputs": [],
   "source": [
    "df[['High School (9-12)', 'Middle School (6-8)', 'Elementary (K-5)', 'Pre-Kindergarten (PK)']] = df[['High School (9-12)', 'Middle School (6-8)', 'Elementary (K-5)', 'Pre-Kindergarten (PK)']] * 1"
   ]
  },
  {
   "cell_type": "code",
   "execution_count": 36,
   "metadata": {},
   "outputs": [],
   "source": [
    "df['Grades'] = df['Grades'].str.replace(' & Ungraded', '')"
   ]
  },
  {
   "source": [
    "### Check that parse grades and categorizing schools worked"
   ],
   "cell_type": "markdown",
   "metadata": {}
  },
  {
   "cell_type": "code",
   "execution_count": 37,
   "metadata": {},
   "outputs": [
    {
     "output_type": "execute_result",
     "data": {
      "text/plain": [
       "array(['9-12', '6-8', 'K-4', '5-8', '4-5', 'K-5', '4-6', '7-12', 'K-6',\n",
       "       '4-8', 'K-8', '1-6', 'PK-3', '6-12', 'K-3', 'PK-K', 'PK', 'PK-8',\n",
       "       'PK-6', '4-12', 'PK-6 & Ungraded', '1-8', 'K', 'PK-5', 'PK-12',\n",
       "       '7-11', '3-6', 'K-12', '3-8', '2-10', 'K-1, 5-8', 'PK-4',\n",
       "       'Ungraded', '1-12', '2-5', '3-5', '10-12', 'PK-1 & Ungraded',\n",
       "       'K-11', 'K-2', 'K-1', '9-10', 'K-7', '1-5', 'PK-1', 'PK-K, 2',\n",
       "       'PK-2', '7-8', 'PK-11', '9', 'K-9', '2-11', '2-12', '2-9', '8-12',\n",
       "       'K-10', 'PK & Ungraded', '7-9', '6', '5-6', '2, 5-6, 8-9, 11-12',\n",
       "       '11-12', '3-12', 'K-1, 3-4, 6-7, 9, 11', '1-11', 'PK-9, 11-12',\n",
       "       'PK-9', '5-12', '6-10', '11', '3-7', '7-10', 'PK-10',\n",
       "       'PK-12 & Ungraded', '6-9', '4-9', '9-11', '6-7', '5-12 & Ungraded',\n",
       "       '8-11', '2-8', '3, 5, 7-11', 'PK, 8', 'PK-7', '6, 9-12', '1-3',\n",
       "       'K-3, 5-10, 12', 'PK-8 & Ungraded', '5', '12', 'K-8, 10-12', '1-9',\n",
       "       '1-5, 7-8', '9, 12', '5-7', '4-7', '8', '3-10', '1-12 & Ungraded',\n",
       "       '5, 7-8, 10-12', 'PK, 1-4', '1-4', '3, 6-7, 10, 12',\n",
       "       '3-4, 6, 9-12', '1-2', '8-9', '4', 'PK-3, 5-7', 'K-1, 4, 6, 8',\n",
       "       '5-10', '6-12 & Ungraded', '6-11', 'K, 5-12', 'K-6, 8',\n",
       "       'PK-4 & Ungraded', 'PK-1, 3-5', 'PK-1, 3', '10-12 & Ungraded',\n",
       "       'K-3, 5-9, 11-12', 'PK-K, 2-4, 6-8', 'PK, 3-4', '1-7', '1-10',\n",
       "       'PK, 2', '2, 4, 7, 9-10, 12', 'PK, 1', '1-3, 5, 8', '1-3, 5-6, 8',\n",
       "       'K, 3, 5-12', '4-11', 'K-4, 7-8', '7-8, 10-12', 'PK, 1, 3-12',\n",
       "       '7, 9-12', 'PK-2, 6, 8', '2-6', 'PK-8, 10-11', '2-3', '3-4',\n",
       "       'PK, 3-5', '3-9', 'PK-4, 6', 'PK, 1-6', 'PK-4, 8', 'PK-K, 9-12',\n",
       "       '3-11', 'PK-3 & Ungraded', 'PK-3, 5-6', '2-7', '2-12 & Ungraded',\n",
       "       'PK-K, 2-7', '8-10', '2-4', 'PK-4, 6-8', 'PK-K, 3-5, 7', '7, 11',\n",
       "       'K-5, 7, 9-10, 12', 'PK-K, 2-4, 6 & Ungraded', '2', 'PK-7, 11',\n",
       "       'K, 2, 4-9, 12', 'PK-1, 4, 6', '9-12 & Ungraded', '4-6, 8',\n",
       "       '2-4, 6, 9-12', 'PK-3, 5-8', '1-2, 4-8', 'PK, 12', '10',\n",
       "       '3-5, 9-10, 12', '5-11', '2-3, 5, 10-12', '3-10, 12',\n",
       "       'K-12 & Ungraded', '4-10', 'PK-1, 3, 5', 'PK-1, 5, 7, 9',\n",
       "       'PK-K, 2-5', 'K, 2-7, 9', 'K-7, 9-12', '2, 6-7', '6-10, 12',\n",
       "       'K-5, 7-9, 11', '2, 4, 6, 8, 10, 12', 'K-2, 4-12', 'PK, 7-12',\n",
       "       '1, 3-4, 6-12', 'K-6, 8-11', '2-5, 7-12', '1, 4-10, 12',\n",
       "       'PK-2, 4, 6, 8', 'K-10, 12', '9 & Ungraded', 'PK-5 & Ungraded',\n",
       "       'PK-3, 5', '1, 3-5, 7', 'PK, 2, 4-7, 9-10, 12', 'K, 2, 5-12',\n",
       "       'PK-4, 6-12', '3', '4, 10', '2, 5-6, 8-12', 'K-6, 8-12',\n",
       "       'PK, 3-6, 8, 10, 12', 'K-3, 6-8', '3-9, 11-12', 'PK-5, 7-12',\n",
       "       'K, 2-4, 7-12', '1-4, 6-8', 'PK-3, 5-12', '1-3, 5-9', '1, 3-8',\n",
       "       '9-11 & Ungraded', '5-9', 'K, 4-5, 7-8', 'PK, 1-5',\n",
       "       '3-12 & Ungraded', 'K-8 & Ungraded', '2-3, 5-8', '1-6, 9-12',\n",
       "       'PK-8, 10-12', 'PK-K, 4-8', 'K-1, 7-12', 'K-4, 6-7, 9-12',\n",
       "       '9-10, 12', 'K-5, 7', 'K, 2-8', '1, 4, 7, 10-11', 'K, 2-3, 5-6',\n",
       "       'K-5, 7, 11-12', '7', 'PK-4, 7-12', 'K-9, 11-12', 'K-4, 6-8, 10',\n",
       "       '1, 3-5, 7-12', 'K-2, 5-7', 'K, 3, 6-8, 10, 12', 'K, 3, 7-8, 12',\n",
       "       'PK, 9-12', 'K-2, 4-10, 12', '12 & Ungraded', 'PK-6, 8-10',\n",
       "       'PK-1, 3-8', '1, 3', 'K-8, 12', '3-4, 6-9, 12', '5, 7-8',\n",
       "       'PK-K, 2-3', 'K-1, 3-12', '1, 5-9, 12', '5, 7-8, 10-11',\n",
       "       'PK-5, 7-8', '4, 7, 10-12', 'PK-1, 3-4', 'PK-2, 4-6', 'K-8, 10',\n",
       "       '10-11', '6, 9', 'PK-2, 4', 'K-4, 6', 'K-2, 6-7, 12', 'PK-6, 8',\n",
       "       '3-4, 7, 10-12', '1, 3-7', 'K-5, 8', '2, 4-5, 7, 9-11',\n",
       "       '1-3, 5, 7-8', '1-2, 9-12', 'K-1, 3-5, 7-8', 'K, 2-8, 10',\n",
       "       'PK, 1-3, 6', '7-8, 10-11', '7, 10-12', '3, 5, 8-9, 11-12',\n",
       "       '1-3, 5', 'K-5, 7-12', '1-7, 9-10, 12', '2, 4-8', 'K-3, 6-12',\n",
       "       'PK, 5-8', '6-8, 10', 'PK-5, 7', 'PK, 1, 5', 'PK, 1-4, 6',\n",
       "       '3, 5, 10, 12', 'PK-6, 8-12', '4-5, 7-12', 'PK-1, 6-7, 9-11',\n",
       "       '2-7, 9-11', 'K-1, 6, 8, 11', '7, 9, 11-12', '1-3, 5-10',\n",
       "       'K-5, 7-9', '1', 'K-5, 7-11', '7-12 & Ungraded', '1-6 & Ungraded',\n",
       "       '3, 12', 'PK-8, 11', 'K-5, 7-9, 12', 'K-1, 4, 7-9, 11',\n",
       "       '1-2, 4-12'], dtype=object)"
      ]
     },
     "metadata": {},
     "execution_count": 37
    }
   ],
   "source": [
    "unique_grades_combination"
   ]
  },
  {
   "cell_type": "code",
   "execution_count": 38,
   "metadata": {},
   "outputs": [
    {
     "output_type": "execute_result",
     "data": {
      "text/plain": [
       "       Unnamed: 0                                      School  Score  \\\n",
       "112           112      Our Lady Of The Elms Elementary School      0   \n",
       "124           124   Chapel Hill Christian School-Green Campus      0   \n",
       "542           542                     Coral Community Charter      7   \n",
       "589           589              Los Padillas Elementary School      5   \n",
       "647           647                  Pajarito Elementary School      2   \n",
       "...           ...                                         ...    ...   \n",
       "58694       58694            Ronald Reagan Fundamental School      4   \n",
       "58697       58697              Gary A. Knox Elementary School      4   \n",
       "58701       58701  George Washington Carver Elementary School      3   \n",
       "58707       58707                 Amerischools Academy - Yuma      0   \n",
       "58711       58711               Pecan Grove Elementary School      0   \n",
       "\n",
       "                  Rating  \\\n",
       "112    Currently unrated   \n",
       "124    Currently unrated   \n",
       "542        Above average   \n",
       "589              Average   \n",
       "647        Below average   \n",
       "...                  ...   \n",
       "58694      Below average   \n",
       "58697      Below average   \n",
       "58701      Below average   \n",
       "58707  Currently unrated   \n",
       "58711  Currently unrated   \n",
       "\n",
       "                                                        Address  \\\n",
       "112                   1290 West Market Street, Akron, OH, 44313   \n",
       "124                           1639 Killian Rd, Akron, OH, 44312   \n",
       "542        4401 Silver Avenue Southeast, Albuquerque, NM, 87108   \n",
       "589    2525 Los Padillas Road Southwest, Albuquerque, NM, 87105   \n",
       "647      2701 Don Felipe Road Southwest, Albuquerque, NM, 87105   \n",
       "...                                                         ...   \n",
       "58694                    3200 West 16th Street, Yuma, AZ, 85364   \n",
       "58697                       2926 S. 21st Drive, Yuma, AZ, 85364   \n",
       "58701                     1341 West 5th Street, Yuma, AZ, 85364   \n",
       "58707                         2098 S. 3rd Ave., Yuma, AZ, 85364   \n",
       "58711                    600 South 21st Avenue, Yuma, AZ, 85364   \n",
       "\n",
       "                  Type Grades  Total Students Enrolled Students per teacher  \\\n",
       "112            Private   PK-6                    125.0                  NaN   \n",
       "124            Private   PK-6                    210.0                  NaN   \n",
       "542     Public charter   PK-6                    243.0                 15:1   \n",
       "589    Public district   PK-6                    196.0                 15:1   \n",
       "647    Public district   PK-6                    448.0                 14:1   \n",
       "...                ...    ...                      ...                  ...   \n",
       "58694  Public district   PK-6                    552.0                 25:1   \n",
       "58697  Public district   PK-6                    656.0                 25:1   \n",
       "58701  Public district   PK-6                    426.0                 19:1   \n",
       "58707   Public charter   PK-6                    162.0                 18:1   \n",
       "58711  Public district   PK-6                    299.0                 19:1   \n",
       "\n",
       "                           District  \\\n",
       "112                             NaN   \n",
       "124                             NaN   \n",
       "542         Coral Community Charter   \n",
       "589      Albuquerque Public Schools   \n",
       "647      Albuquerque Public Schools   \n",
       "...                             ...   \n",
       "58694     Crane Elementary District   \n",
       "58697     Crane Elementary District   \n",
       "58701      Yuma Elementary District   \n",
       "58707  The Charter Foundation  Inc.   \n",
       "58711      Yuma Elementary District   \n",
       "\n",
       "                                                         City, State  Length  \\\n",
       "112                   [1290 West Market Street,  Akron,  OH,  44313]       4   \n",
       "124                           [1639 Killian Rd,  Akron,  OH,  44312]       4   \n",
       "542        [4401 Silver Avenue Southeast,  Albuquerque,  NM,  87108]       4   \n",
       "589    [2525 Los Padillas Road Southwest,  Albuquerque,  NM,  87105]       4   \n",
       "647      [2701 Don Felipe Road Southwest,  Albuquerque,  NM,  87105]       4   \n",
       "...                                                              ...     ...   \n",
       "58694                    [3200 West 16th Street,  Yuma,  AZ,  85364]       4   \n",
       "58697                       [2926 S. 21st Drive,  Yuma,  AZ,  85364]       4   \n",
       "58701                     [1341 West 5th Street,  Yuma,  AZ,  85364]       4   \n",
       "58707                         [2098 S. 3rd Ave.,  Yuma,  AZ,  85364]       4   \n",
       "58711                    [600 South 21st Avenue,  Yuma,  AZ,  85364]       4   \n",
       "\n",
       "               City State                         Clean_Grades  \\\n",
       "112           Akron    OH            [PK, K, 1, 2, 3, 4, 5, 6]   \n",
       "124           Akron    OH  [PK, K, 1, 2, 3, 4, 5, 6, Ungraded]   \n",
       "542     Albuquerque    NM            [PK, K, 1, 2, 3, 4, 5, 6]   \n",
       "589     Albuquerque    NM            [PK, K, 1, 2, 3, 4, 5, 6]   \n",
       "647     Albuquerque    NM            [PK, K, 1, 2, 3, 4, 5, 6]   \n",
       "...             ...   ...                                  ...   \n",
       "58694          Yuma    AZ            [PK, K, 1, 2, 3, 4, 5, 6]   \n",
       "58697          Yuma    AZ            [PK, K, 1, 2, 3, 4, 5, 6]   \n",
       "58701          Yuma    AZ            [PK, K, 1, 2, 3, 4, 5, 6]   \n",
       "58707          Yuma    AZ            [PK, K, 1, 2, 3, 4, 5, 6]   \n",
       "58711          Yuma    AZ            [PK, K, 1, 2, 3, 4, 5, 6]   \n",
       "\n",
       "       High School (9-12)  Middle School (6-8)  Elementary (K-5)  \\\n",
       "112                     0                    1                 1   \n",
       "124                     0                    1                 1   \n",
       "542                     0                    1                 1   \n",
       "589                     0                    1                 1   \n",
       "647                     0                    1                 1   \n",
       "...                   ...                  ...               ...   \n",
       "58694                   0                    1                 1   \n",
       "58697                   0                    1                 1   \n",
       "58701                   0                    1                 1   \n",
       "58707                   0                    1                 1   \n",
       "58711                   0                    1                 1   \n",
       "\n",
       "       Pre-Kindergarten (PK)  \n",
       "112                        1  \n",
       "124                        1  \n",
       "542                        1  \n",
       "589                        1  \n",
       "647                        1  \n",
       "...                      ...  \n",
       "58694                      1  \n",
       "58697                      1  \n",
       "58701                      1  \n",
       "58707                      1  \n",
       "58711                      1  \n",
       "\n",
       "[1307 rows x 19 columns]"
      ],
      "text/html": "<div>\n<style scoped>\n    .dataframe tbody tr th:only-of-type {\n        vertical-align: middle;\n    }\n\n    .dataframe tbody tr th {\n        vertical-align: top;\n    }\n\n    .dataframe thead th {\n        text-align: right;\n    }\n</style>\n<table border=\"1\" class=\"dataframe\">\n  <thead>\n    <tr style=\"text-align: right;\">\n      <th></th>\n      <th>Unnamed: 0</th>\n      <th>School</th>\n      <th>Score</th>\n      <th>Rating</th>\n      <th>Address</th>\n      <th>Type</th>\n      <th>Grades</th>\n      <th>Total Students Enrolled</th>\n      <th>Students per teacher</th>\n      <th>District</th>\n      <th>City, State</th>\n      <th>Length</th>\n      <th>City</th>\n      <th>State</th>\n      <th>Clean_Grades</th>\n      <th>High School (9-12)</th>\n      <th>Middle School (6-8)</th>\n      <th>Elementary (K-5)</th>\n      <th>Pre-Kindergarten (PK)</th>\n    </tr>\n  </thead>\n  <tbody>\n    <tr>\n      <th>112</th>\n      <td>112</td>\n      <td>Our Lady Of The Elms Elementary School</td>\n      <td>0</td>\n      <td>Currently unrated</td>\n      <td>1290 West Market Street, Akron, OH, 44313</td>\n      <td>Private</td>\n      <td>PK-6</td>\n      <td>125.0</td>\n      <td>NaN</td>\n      <td>NaN</td>\n      <td>[1290 West Market Street,  Akron,  OH,  44313]</td>\n      <td>4</td>\n      <td>Akron</td>\n      <td>OH</td>\n      <td>[PK, K, 1, 2, 3, 4, 5, 6]</td>\n      <td>0</td>\n      <td>1</td>\n      <td>1</td>\n      <td>1</td>\n    </tr>\n    <tr>\n      <th>124</th>\n      <td>124</td>\n      <td>Chapel Hill Christian School-Green Campus</td>\n      <td>0</td>\n      <td>Currently unrated</td>\n      <td>1639 Killian Rd, Akron, OH, 44312</td>\n      <td>Private</td>\n      <td>PK-6</td>\n      <td>210.0</td>\n      <td>NaN</td>\n      <td>NaN</td>\n      <td>[1639 Killian Rd,  Akron,  OH,  44312]</td>\n      <td>4</td>\n      <td>Akron</td>\n      <td>OH</td>\n      <td>[PK, K, 1, 2, 3, 4, 5, 6, Ungraded]</td>\n      <td>0</td>\n      <td>1</td>\n      <td>1</td>\n      <td>1</td>\n    </tr>\n    <tr>\n      <th>542</th>\n      <td>542</td>\n      <td>Coral Community Charter</td>\n      <td>7</td>\n      <td>Above average</td>\n      <td>4401 Silver Avenue Southeast, Albuquerque, NM, 87108</td>\n      <td>Public charter</td>\n      <td>PK-6</td>\n      <td>243.0</td>\n      <td>15:1</td>\n      <td>Coral Community Charter</td>\n      <td>[4401 Silver Avenue Southeast,  Albuquerque,  NM,  87108]</td>\n      <td>4</td>\n      <td>Albuquerque</td>\n      <td>NM</td>\n      <td>[PK, K, 1, 2, 3, 4, 5, 6]</td>\n      <td>0</td>\n      <td>1</td>\n      <td>1</td>\n      <td>1</td>\n    </tr>\n    <tr>\n      <th>589</th>\n      <td>589</td>\n      <td>Los Padillas Elementary School</td>\n      <td>5</td>\n      <td>Average</td>\n      <td>2525 Los Padillas Road Southwest, Albuquerque, NM, 87105</td>\n      <td>Public district</td>\n      <td>PK-6</td>\n      <td>196.0</td>\n      <td>15:1</td>\n      <td>Albuquerque Public Schools</td>\n      <td>[2525 Los Padillas Road Southwest,  Albuquerque,  NM,  87105]</td>\n      <td>4</td>\n      <td>Albuquerque</td>\n      <td>NM</td>\n      <td>[PK, K, 1, 2, 3, 4, 5, 6]</td>\n      <td>0</td>\n      <td>1</td>\n      <td>1</td>\n      <td>1</td>\n    </tr>\n    <tr>\n      <th>647</th>\n      <td>647</td>\n      <td>Pajarito Elementary School</td>\n      <td>2</td>\n      <td>Below average</td>\n      <td>2701 Don Felipe Road Southwest, Albuquerque, NM, 87105</td>\n      <td>Public district</td>\n      <td>PK-6</td>\n      <td>448.0</td>\n      <td>14:1</td>\n      <td>Albuquerque Public Schools</td>\n      <td>[2701 Don Felipe Road Southwest,  Albuquerque,  NM,  87105]</td>\n      <td>4</td>\n      <td>Albuquerque</td>\n      <td>NM</td>\n      <td>[PK, K, 1, 2, 3, 4, 5, 6]</td>\n      <td>0</td>\n      <td>1</td>\n      <td>1</td>\n      <td>1</td>\n    </tr>\n    <tr>\n      <th>...</th>\n      <td>...</td>\n      <td>...</td>\n      <td>...</td>\n      <td>...</td>\n      <td>...</td>\n      <td>...</td>\n      <td>...</td>\n      <td>...</td>\n      <td>...</td>\n      <td>...</td>\n      <td>...</td>\n      <td>...</td>\n      <td>...</td>\n      <td>...</td>\n      <td>...</td>\n      <td>...</td>\n      <td>...</td>\n      <td>...</td>\n      <td>...</td>\n    </tr>\n    <tr>\n      <th>58694</th>\n      <td>58694</td>\n      <td>Ronald Reagan Fundamental School</td>\n      <td>4</td>\n      <td>Below average</td>\n      <td>3200 West 16th Street, Yuma, AZ, 85364</td>\n      <td>Public district</td>\n      <td>PK-6</td>\n      <td>552.0</td>\n      <td>25:1</td>\n      <td>Crane Elementary District</td>\n      <td>[3200 West 16th Street,  Yuma,  AZ,  85364]</td>\n      <td>4</td>\n      <td>Yuma</td>\n      <td>AZ</td>\n      <td>[PK, K, 1, 2, 3, 4, 5, 6]</td>\n      <td>0</td>\n      <td>1</td>\n      <td>1</td>\n      <td>1</td>\n    </tr>\n    <tr>\n      <th>58697</th>\n      <td>58697</td>\n      <td>Gary A. Knox Elementary School</td>\n      <td>4</td>\n      <td>Below average</td>\n      <td>2926 S. 21st Drive, Yuma, AZ, 85364</td>\n      <td>Public district</td>\n      <td>PK-6</td>\n      <td>656.0</td>\n      <td>25:1</td>\n      <td>Crane Elementary District</td>\n      <td>[2926 S. 21st Drive,  Yuma,  AZ,  85364]</td>\n      <td>4</td>\n      <td>Yuma</td>\n      <td>AZ</td>\n      <td>[PK, K, 1, 2, 3, 4, 5, 6]</td>\n      <td>0</td>\n      <td>1</td>\n      <td>1</td>\n      <td>1</td>\n    </tr>\n    <tr>\n      <th>58701</th>\n      <td>58701</td>\n      <td>George Washington Carver Elementary School</td>\n      <td>3</td>\n      <td>Below average</td>\n      <td>1341 West 5th Street, Yuma, AZ, 85364</td>\n      <td>Public district</td>\n      <td>PK-6</td>\n      <td>426.0</td>\n      <td>19:1</td>\n      <td>Yuma Elementary District</td>\n      <td>[1341 West 5th Street,  Yuma,  AZ,  85364]</td>\n      <td>4</td>\n      <td>Yuma</td>\n      <td>AZ</td>\n      <td>[PK, K, 1, 2, 3, 4, 5, 6]</td>\n      <td>0</td>\n      <td>1</td>\n      <td>1</td>\n      <td>1</td>\n    </tr>\n    <tr>\n      <th>58707</th>\n      <td>58707</td>\n      <td>Amerischools Academy - Yuma</td>\n      <td>0</td>\n      <td>Currently unrated</td>\n      <td>2098 S. 3rd Ave., Yuma, AZ, 85364</td>\n      <td>Public charter</td>\n      <td>PK-6</td>\n      <td>162.0</td>\n      <td>18:1</td>\n      <td>The Charter Foundation  Inc.</td>\n      <td>[2098 S. 3rd Ave.,  Yuma,  AZ,  85364]</td>\n      <td>4</td>\n      <td>Yuma</td>\n      <td>AZ</td>\n      <td>[PK, K, 1, 2, 3, 4, 5, 6]</td>\n      <td>0</td>\n      <td>1</td>\n      <td>1</td>\n      <td>1</td>\n    </tr>\n    <tr>\n      <th>58711</th>\n      <td>58711</td>\n      <td>Pecan Grove Elementary School</td>\n      <td>0</td>\n      <td>Currently unrated</td>\n      <td>600 South 21st Avenue, Yuma, AZ, 85364</td>\n      <td>Public district</td>\n      <td>PK-6</td>\n      <td>299.0</td>\n      <td>19:1</td>\n      <td>Yuma Elementary District</td>\n      <td>[600 South 21st Avenue,  Yuma,  AZ,  85364]</td>\n      <td>4</td>\n      <td>Yuma</td>\n      <td>AZ</td>\n      <td>[PK, K, 1, 2, 3, 4, 5, 6]</td>\n      <td>0</td>\n      <td>1</td>\n      <td>1</td>\n      <td>1</td>\n    </tr>\n  </tbody>\n</table>\n<p>1307 rows × 19 columns</p>\n</div>"
     },
     "metadata": {},
     "execution_count": 38
    }
   ],
   "source": [
    "df.loc[df['Grades'] == 'PK-6']"
   ]
  },
  {
   "cell_type": "code",
   "execution_count": 39,
   "metadata": {},
   "outputs": [
    {
     "output_type": "execute_result",
     "data": {
      "text/plain": [
       "       Unnamed: 0              School  Score             Rating  \\\n",
       "58632       58632  Covenant Christian      0  Currently unrated   \n",
       "\n",
       "                                     Address     Type           Grades  \\\n",
       "58632  9882 Garden Hwy, Yuba City, CA, 95991  Private  K-1, 4, 7-9, 11   \n",
       "\n",
       "       Total Students Enrolled Students per teacher District  \\\n",
       "58632                      NaN                  NaN      NaN   \n",
       "\n",
       "                                      City, State  Length        City State  \\\n",
       "58632  [9882 Garden Hwy,  Yuba City,  CA,  95991]       4   Yuba City    CA   \n",
       "\n",
       "                 Clean_Grades  High School (9-12)  Middle School (6-8)  \\\n",
       "58632  [K, 1, 4, 7, 8, 9, 11]                   1                    1   \n",
       "\n",
       "       Elementary (K-5)  Pre-Kindergarten (PK)  \n",
       "58632                 1                      0  "
      ],
      "text/html": "<div>\n<style scoped>\n    .dataframe tbody tr th:only-of-type {\n        vertical-align: middle;\n    }\n\n    .dataframe tbody tr th {\n        vertical-align: top;\n    }\n\n    .dataframe thead th {\n        text-align: right;\n    }\n</style>\n<table border=\"1\" class=\"dataframe\">\n  <thead>\n    <tr style=\"text-align: right;\">\n      <th></th>\n      <th>Unnamed: 0</th>\n      <th>School</th>\n      <th>Score</th>\n      <th>Rating</th>\n      <th>Address</th>\n      <th>Type</th>\n      <th>Grades</th>\n      <th>Total Students Enrolled</th>\n      <th>Students per teacher</th>\n      <th>District</th>\n      <th>City, State</th>\n      <th>Length</th>\n      <th>City</th>\n      <th>State</th>\n      <th>Clean_Grades</th>\n      <th>High School (9-12)</th>\n      <th>Middle School (6-8)</th>\n      <th>Elementary (K-5)</th>\n      <th>Pre-Kindergarten (PK)</th>\n    </tr>\n  </thead>\n  <tbody>\n    <tr>\n      <th>58632</th>\n      <td>58632</td>\n      <td>Covenant Christian</td>\n      <td>0</td>\n      <td>Currently unrated</td>\n      <td>9882 Garden Hwy, Yuba City, CA, 95991</td>\n      <td>Private</td>\n      <td>K-1, 4, 7-9, 11</td>\n      <td>NaN</td>\n      <td>NaN</td>\n      <td>NaN</td>\n      <td>[9882 Garden Hwy,  Yuba City,  CA,  95991]</td>\n      <td>4</td>\n      <td>Yuba City</td>\n      <td>CA</td>\n      <td>[K, 1, 4, 7, 8, 9, 11]</td>\n      <td>1</td>\n      <td>1</td>\n      <td>1</td>\n      <td>0</td>\n    </tr>\n  </tbody>\n</table>\n</div>"
     },
     "metadata": {},
     "execution_count": 39
    }
   ],
   "source": [
    "df.loc[df['Grades'] == 'K-1, 4, 7-9, 11']"
   ]
  },
  {
   "cell_type": "code",
   "execution_count": 40,
   "metadata": {},
   "outputs": [
    {
     "output_type": "execute_result",
     "data": {
      "text/plain": [
       "       Unnamed: 0                 School  Score             Rating  \\\n",
       "25860       25860  Tet Christian Academy      0  Currently unrated   \n",
       "\n",
       "                                     Address     Type              Grades  \\\n",
       "25860  695 Ocean Ave, Jersey City, NJ, 07305  Private  PK, 3-6, 8, 10, 12   \n",
       "\n",
       "       Total Students Enrolled Students per teacher District  \\\n",
       "25860                      NaN                  NaN      NaN   \n",
       "\n",
       "                                      City, State  Length          City State  \\\n",
       "25860  [695 Ocean Ave,  Jersey City,  NJ,  07305]       4   Jersey City    NJ   \n",
       "\n",
       "                      Clean_Grades  High School (9-12)  Middle School (6-8)  \\\n",
       "25860  [PK, 3, 4, 5, 6, 8, 10, 12]                   1                    1   \n",
       "\n",
       "       Elementary (K-5)  Pre-Kindergarten (PK)  \n",
       "25860                 1                      1  "
      ],
      "text/html": "<div>\n<style scoped>\n    .dataframe tbody tr th:only-of-type {\n        vertical-align: middle;\n    }\n\n    .dataframe tbody tr th {\n        vertical-align: top;\n    }\n\n    .dataframe thead th {\n        text-align: right;\n    }\n</style>\n<table border=\"1\" class=\"dataframe\">\n  <thead>\n    <tr style=\"text-align: right;\">\n      <th></th>\n      <th>Unnamed: 0</th>\n      <th>School</th>\n      <th>Score</th>\n      <th>Rating</th>\n      <th>Address</th>\n      <th>Type</th>\n      <th>Grades</th>\n      <th>Total Students Enrolled</th>\n      <th>Students per teacher</th>\n      <th>District</th>\n      <th>City, State</th>\n      <th>Length</th>\n      <th>City</th>\n      <th>State</th>\n      <th>Clean_Grades</th>\n      <th>High School (9-12)</th>\n      <th>Middle School (6-8)</th>\n      <th>Elementary (K-5)</th>\n      <th>Pre-Kindergarten (PK)</th>\n    </tr>\n  </thead>\n  <tbody>\n    <tr>\n      <th>25860</th>\n      <td>25860</td>\n      <td>Tet Christian Academy</td>\n      <td>0</td>\n      <td>Currently unrated</td>\n      <td>695 Ocean Ave, Jersey City, NJ, 07305</td>\n      <td>Private</td>\n      <td>PK, 3-6, 8, 10, 12</td>\n      <td>NaN</td>\n      <td>NaN</td>\n      <td>NaN</td>\n      <td>[695 Ocean Ave,  Jersey City,  NJ,  07305]</td>\n      <td>4</td>\n      <td>Jersey City</td>\n      <td>NJ</td>\n      <td>[PK, 3, 4, 5, 6, 8, 10, 12]</td>\n      <td>1</td>\n      <td>1</td>\n      <td>1</td>\n      <td>1</td>\n    </tr>\n  </tbody>\n</table>\n</div>"
     },
     "metadata": {},
     "execution_count": 40
    }
   ],
   "source": [
    "df.loc[df['Grades'] == 'PK, 3-6, 8, 10, 12']"
   ]
  },
  {
   "source": [
    "### Filling in NaNs"
   ],
   "cell_type": "markdown",
   "metadata": {}
  },
  {
   "source": [
    "df.isnull().sum()"
   ],
   "cell_type": "code",
   "metadata": {},
   "execution_count": 41,
   "outputs": [
    {
     "output_type": "execute_result",
     "data": {
      "text/plain": [
       "Unnamed: 0               0\n",
       "School                   0\n",
       "Score                    0\n",
       "Rating                   0\n",
       "Address                  0\n",
       "                        ..\n",
       "Clean_Grades             0\n",
       "High School (9-12)       0\n",
       "Middle School (6-8)      0\n",
       "Elementary (K-5)         0\n",
       "Pre-Kindergarten (PK)    0\n",
       "Length: 19, dtype: int64"
      ]
     },
     "metadata": {},
     "execution_count": 41
    }
   ]
  },
  {
   "cell_type": "code",
   "execution_count": 42,
   "metadata": {},
   "outputs": [],
   "source": [
    "df[['Total Students Enrolled', 'Students per teacher']] = df[['Total Students Enrolled', 'Students per teacher']].fillna(0)"
   ]
  },
  {
   "cell_type": "code",
   "execution_count": 43,
   "metadata": {},
   "outputs": [],
   "source": [
    "df['District'] = df['District'].fillna('Unavailable')"
   ]
  },
  {
   "cell_type": "code",
   "execution_count": 44,
   "metadata": {},
   "outputs": [
    {
     "output_type": "execute_result",
     "data": {
      "text/plain": [
       "Unnamed: 0               0\n",
       "School                   0\n",
       "Score                    0\n",
       "Rating                   0\n",
       "Address                  0\n",
       "                        ..\n",
       "Clean_Grades             0\n",
       "High School (9-12)       0\n",
       "Middle School (6-8)      0\n",
       "Elementary (K-5)         0\n",
       "Pre-Kindergarten (PK)    0\n",
       "Length: 19, dtype: int64"
      ]
     },
     "metadata": {},
     "execution_count": 44
    }
   ],
   "source": [
    "df.isnull().sum()"
   ]
  },
  {
   "cell_type": "code",
   "execution_count": 45,
   "metadata": {},
   "outputs": [
    {
     "output_type": "execute_result",
     "data": {
      "text/plain": [
       "Empty DataFrame\n",
       "Columns: [Unnamed: 0, School, Score, Rating, Address, Type, Grades, Total Students Enrolled, Students per teacher, District, City, State, Length, City, State, Clean_Grades, High School (9-12), Middle School (6-8), Elementary (K-5), Pre-Kindergarten (PK)]\n",
       "Index: []"
      ],
      "text/html": "<div>\n<style scoped>\n    .dataframe tbody tr th:only-of-type {\n        vertical-align: middle;\n    }\n\n    .dataframe tbody tr th {\n        vertical-align: top;\n    }\n\n    .dataframe thead th {\n        text-align: right;\n    }\n</style>\n<table border=\"1\" class=\"dataframe\">\n  <thead>\n    <tr style=\"text-align: right;\">\n      <th></th>\n      <th>Unnamed: 0</th>\n      <th>School</th>\n      <th>Score</th>\n      <th>Rating</th>\n      <th>Address</th>\n      <th>Type</th>\n      <th>Grades</th>\n      <th>Total Students Enrolled</th>\n      <th>Students per teacher</th>\n      <th>District</th>\n      <th>City, State</th>\n      <th>Length</th>\n      <th>City</th>\n      <th>State</th>\n      <th>Clean_Grades</th>\n      <th>High School (9-12)</th>\n      <th>Middle School (6-8)</th>\n      <th>Elementary (K-5)</th>\n      <th>Pre-Kindergarten (PK)</th>\n    </tr>\n  </thead>\n  <tbody>\n  </tbody>\n</table>\n</div>"
     },
     "metadata": {},
     "execution_count": 45
    }
   ],
   "source": [
    "df.loc[df['Students per teacher'] == 'NaN']"
   ]
  },
  {
   "cell_type": "code",
   "execution_count": 46,
   "metadata": {},
   "outputs": [
    {
     "output_type": "execute_result",
     "data": {
      "text/plain": [
       "Empty DataFrame\n",
       "Columns: [Unnamed: 0, School, Score, Rating, Address, Type, Grades, Total Students Enrolled, Students per teacher, District, City, State, Length, City, State, Clean_Grades, High School (9-12), Middle School (6-8), Elementary (K-5), Pre-Kindergarten (PK)]\n",
       "Index: []"
      ],
      "text/html": "<div>\n<style scoped>\n    .dataframe tbody tr th:only-of-type {\n        vertical-align: middle;\n    }\n\n    .dataframe tbody tr th {\n        vertical-align: top;\n    }\n\n    .dataframe thead th {\n        text-align: right;\n    }\n</style>\n<table border=\"1\" class=\"dataframe\">\n  <thead>\n    <tr style=\"text-align: right;\">\n      <th></th>\n      <th>Unnamed: 0</th>\n      <th>School</th>\n      <th>Score</th>\n      <th>Rating</th>\n      <th>Address</th>\n      <th>Type</th>\n      <th>Grades</th>\n      <th>Total Students Enrolled</th>\n      <th>Students per teacher</th>\n      <th>District</th>\n      <th>City, State</th>\n      <th>Length</th>\n      <th>City</th>\n      <th>State</th>\n      <th>Clean_Grades</th>\n      <th>High School (9-12)</th>\n      <th>Middle School (6-8)</th>\n      <th>Elementary (K-5)</th>\n      <th>Pre-Kindergarten (PK)</th>\n    </tr>\n  </thead>\n  <tbody>\n  </tbody>\n</table>\n</div>"
     },
     "metadata": {},
     "execution_count": 46
    }
   ],
   "source": [
    "df.loc[df['District'] == 'NaN']"
   ]
  },
  {
   "cell_type": "code",
   "execution_count": 47,
   "metadata": {},
   "outputs": [
    {
     "output_type": "execute_result",
     "data": {
      "text/plain": [
       "Empty DataFrame\n",
       "Columns: [Unnamed: 0, School, Score, Rating, Address, Type, Grades, Total Students Enrolled, Students per teacher, District, City, State, Length, City, State, Clean_Grades, High School (9-12), Middle School (6-8), Elementary (K-5), Pre-Kindergarten (PK)]\n",
       "Index: []"
      ],
      "text/html": "<div>\n<style scoped>\n    .dataframe tbody tr th:only-of-type {\n        vertical-align: middle;\n    }\n\n    .dataframe tbody tr th {\n        vertical-align: top;\n    }\n\n    .dataframe thead th {\n        text-align: right;\n    }\n</style>\n<table border=\"1\" class=\"dataframe\">\n  <thead>\n    <tr style=\"text-align: right;\">\n      <th></th>\n      <th>Unnamed: 0</th>\n      <th>School</th>\n      <th>Score</th>\n      <th>Rating</th>\n      <th>Address</th>\n      <th>Type</th>\n      <th>Grades</th>\n      <th>Total Students Enrolled</th>\n      <th>Students per teacher</th>\n      <th>District</th>\n      <th>City, State</th>\n      <th>Length</th>\n      <th>City</th>\n      <th>State</th>\n      <th>Clean_Grades</th>\n      <th>High School (9-12)</th>\n      <th>Middle School (6-8)</th>\n      <th>Elementary (K-5)</th>\n      <th>Pre-Kindergarten (PK)</th>\n    </tr>\n  </thead>\n  <tbody>\n  </tbody>\n</table>\n</div>"
     },
     "metadata": {},
     "execution_count": 47
    }
   ],
   "source": [
    "df.loc[df['Total Students Enrolled'] == 'NaN']"
   ]
  },
  {
   "source": [
    "### Cleaning Extra Spaces\n",
    "- drop unneccessary columns"
   ],
   "cell_type": "markdown",
   "metadata": {}
  },
  {
   "cell_type": "code",
   "execution_count": 48,
   "metadata": {},
   "outputs": [],
   "source": [
    "df['City'] = df['City'].str.strip()\n",
    "df['State'] = df['State'].str.strip()\n",
    "df['Address'] = df['Address'].str.strip()\n",
    "df['School'] = df['School'].str.strip()\n",
    "df['Rating'] = df['Rating'].str.strip()\n",
    "df['Address'] = df['Address'].str.strip()\n",
    "df['Type'] = df['Type'].str.strip()\n",
    "df['Grades'] = df['Grades'].str.strip()\n",
    "df['Students per teacher'] = df['Students per teacher'].str.strip()\n",
    "df['District'] = df['District'].str.strip()\n",
    "\n",
    "# Drop\n",
    "df = df.drop(columns = ['City, State', 'Length', 'Clean_Grades'])"
   ]
  },
  {
   "source": [
    "### Save"
   ],
   "cell_type": "markdown",
   "metadata": {}
  },
  {
   "cell_type": "code",
   "execution_count": 49,
   "metadata": {},
   "outputs": [],
   "source": [
    "df.to_csv('files/merge_schools/schools_cleaned.csv', index = False)"
   ]
  },
  {
   "source": [
    "## Part 2\n",
    "- clean csv of cities that did not scrape the first time"
   ],
   "cell_type": "markdown",
   "metadata": {}
  },
  {
   "cell_type": "code",
   "execution_count": 1,
   "metadata": {},
   "outputs": [
    {
     "output_type": "stream",
     "name": "stderr",
     "text": [
      "/Users/jisha/.pyenv/versions/3.8.6/lib/python3.8/site-packages/pandas/compat/__init__.py:120: UserWarning: Could not import the lzma module. Your installed Python is incomplete. Attempting to use lzma compression will result in a RuntimeError.\n  warnings.warn(msg)\n"
     ]
    }
   ],
   "source": [
    "import pandas as pd\n",
    "pd.set_option('display.max_colwidth', None)\n",
    "pd.set_option('display.max_rows', 10)"
   ]
  },
  {
   "cell_type": "code",
   "execution_count": 2,
   "metadata": {},
   "outputs": [],
   "source": [
    "missing = pd.read_csv('files/scrape_schools/missing_schools.csv')"
   ]
  },
  {
   "cell_type": "code",
   "execution_count": 3,
   "metadata": {},
   "outputs": [
    {
     "output_type": "stream",
     "name": "stdout",
     "text": [
      "(8941, 10)\n"
     ]
    },
    {
     "output_type": "execute_result",
     "data": {
      "text/plain": [
       "   Unnamed: 0                                     School  Score  \\\n",
       "0           0             Jones College Prep High School  10/10   \n",
       "1           1  Northside College Preparatory High School  10/10   \n",
       "2           2     Payton College Preparatory High School  10/10   \n",
       "3           3        Devry Advantage Academy High School  10/10   \n",
       "4           4                   Westinghouse High School   9/10   \n",
       "\n",
       "          Rating                                           Address  \\\n",
       "0      Top rated        700 South State Street, Chicago, IL, 60605   \n",
       "1      Top rated      5501 North Kedzie Avenue, Chicago, IL, 60625   \n",
       "2      Top rated       1034 North Wells Street, Chicago, IL, 60610   \n",
       "3      Top rated    3300 North Campbell Avenue, Chicago, IL, 60618   \n",
       "4  Above average  3223 West Franklin Boulevard, Chicago, IL, 60624   \n",
       "\n",
       "              Type Grades  Total Students Enrolled Students per teacher  \\\n",
       "0  Public district   9-12                   1861.0                 17:1   \n",
       "1  Public district   9-12                   1061.0                 16:1   \n",
       "2  Public district   9-12                   1073.0                 15:1   \n",
       "3  Public district  11-12                    193.0                 18:1   \n",
       "4  Public district   9-12                   1192.0                 16:1   \n",
       "\n",
       "                              District  \n",
       "0  City Of Chicago School District 299  \n",
       "1  City Of Chicago School District 299  \n",
       "2  City Of Chicago School District 299  \n",
       "3  City Of Chicago School District 299  \n",
       "4  City Of Chicago School District 299  "
      ],
      "text/html": "<div>\n<style scoped>\n    .dataframe tbody tr th:only-of-type {\n        vertical-align: middle;\n    }\n\n    .dataframe tbody tr th {\n        vertical-align: top;\n    }\n\n    .dataframe thead th {\n        text-align: right;\n    }\n</style>\n<table border=\"1\" class=\"dataframe\">\n  <thead>\n    <tr style=\"text-align: right;\">\n      <th></th>\n      <th>Unnamed: 0</th>\n      <th>School</th>\n      <th>Score</th>\n      <th>Rating</th>\n      <th>Address</th>\n      <th>Type</th>\n      <th>Grades</th>\n      <th>Total Students Enrolled</th>\n      <th>Students per teacher</th>\n      <th>District</th>\n    </tr>\n  </thead>\n  <tbody>\n    <tr>\n      <th>0</th>\n      <td>0</td>\n      <td>Jones College Prep High School</td>\n      <td>10/10</td>\n      <td>Top rated</td>\n      <td>700 South State Street, Chicago, IL, 60605</td>\n      <td>Public district</td>\n      <td>9-12</td>\n      <td>1861.0</td>\n      <td>17:1</td>\n      <td>City Of Chicago School District 299</td>\n    </tr>\n    <tr>\n      <th>1</th>\n      <td>1</td>\n      <td>Northside College Preparatory High School</td>\n      <td>10/10</td>\n      <td>Top rated</td>\n      <td>5501 North Kedzie Avenue, Chicago, IL, 60625</td>\n      <td>Public district</td>\n      <td>9-12</td>\n      <td>1061.0</td>\n      <td>16:1</td>\n      <td>City Of Chicago School District 299</td>\n    </tr>\n    <tr>\n      <th>2</th>\n      <td>2</td>\n      <td>Payton College Preparatory High School</td>\n      <td>10/10</td>\n      <td>Top rated</td>\n      <td>1034 North Wells Street, Chicago, IL, 60610</td>\n      <td>Public district</td>\n      <td>9-12</td>\n      <td>1073.0</td>\n      <td>15:1</td>\n      <td>City Of Chicago School District 299</td>\n    </tr>\n    <tr>\n      <th>3</th>\n      <td>3</td>\n      <td>Devry Advantage Academy High School</td>\n      <td>10/10</td>\n      <td>Top rated</td>\n      <td>3300 North Campbell Avenue, Chicago, IL, 60618</td>\n      <td>Public district</td>\n      <td>11-12</td>\n      <td>193.0</td>\n      <td>18:1</td>\n      <td>City Of Chicago School District 299</td>\n    </tr>\n    <tr>\n      <th>4</th>\n      <td>4</td>\n      <td>Westinghouse High School</td>\n      <td>9/10</td>\n      <td>Above average</td>\n      <td>3223 West Franklin Boulevard, Chicago, IL, 60624</td>\n      <td>Public district</td>\n      <td>9-12</td>\n      <td>1192.0</td>\n      <td>16:1</td>\n      <td>City Of Chicago School District 299</td>\n    </tr>\n  </tbody>\n</table>\n</div>"
     },
     "metadata": {},
     "execution_count": 3
    }
   ],
   "source": [
    "print(missing.shape)\n",
    "missing.head()"
   ]
  },
  {
   "cell_type": "code",
   "execution_count": 4,
   "metadata": {},
   "outputs": [],
   "source": [
    "# Adresses\n",
    "missing['Address'] = missing['Address'].str.replace('5115 North Mont Clare Avenue Chicago, IL 60656, Chicago, IL, 60656', '5115 North Mont Clare Avenue, Chicago, IL, 60656')\n",
    "missing['Address'] = missing['Address'].str.replace('11000 Scott St, Houston, Houston, TX, 77047', '11000 Scott St, Houston, TX, 77047')\n",
    "missing['Address'] = missing['Address'].str.replace('3911 Campbell Rd., Ho, Houston, TX, 77080', '3911 Campbell Rd., Houston, TX, 77080')\n",
    "missing['Address'] = missing['Address'].str.replace('8805 Ferndale, Houston, Houston, TX, 77017', '8805 Ferndale, Houston, TX, 77017')\n",
    "missing['Address'] = missing['Address'].str.replace('4240 E. Olympic Blvd. Los Angeles, CA 90023, Los Angeles, CA, 90063', '4240 E. Olympic Blvd., Los Angeles, CA, 90023')\n",
    "missing['Address'] = missing['Address'].str.replace('1263 S Soto St Los Angeles, CA 90023 , Los Angeles, CA, 90031', '1263 S Soto St, Los Angeles, CA, 90023')\n",
    "missing['Address'] = missing['Address'].str.replace('95 NW 23rd St Miami, FL 33127, Miami, FL, 33137', '95 NW 23rd St, Miami, FL, 33127')\n",
    "missing['Address'] = missing['Address'].str.replace('12101 SW 34 St. MIAMI, FL. 33175, Miami, FL, 33175', '12101 SW 34 St., Miami, FL, 33175')\n",
    "missing['Address'] = missing['Address'].str.replace('332 West 43rd Street, New York NY 10036, New York, NY, 10025', '332 West 43rd Street, New York, NY, 10025')\n",
    "missing['Address'] = missing['Address'].str.replace('120 Wadsworth Avenue New York, N.Y. 10033, New York, NY, 10033', '120 Wadsworth Avenue, New York, NY, 10033')\n",
    "missing['Address'] = missing['Address'].str.replace('5311 Merlin Dr San Antonio, Texas 78218, San Antonio, TX, 78218', '5311 Merlin Dr, San Antonio, TX, 78218')\n",
    "missing['Address'] = missing['Address'].str.replace('8565 Ewing Halsell Drive San Antonio, Texas 78229, San Antonio, TX, 78229', '8565 Ewing Halsell Drive, San Antonio, TX, 78229')\n",
    "missing['Address'] = missing['Address'].str.replace('4419 S Normandie Ave La, Ca 90037, Los Angeles, CA, 90007', '4419 S Normandie Ave, Los Angeles, CA, 90037')\n",
    "\n",
    "missing['Address'] = missing['Address'].str.replace('2521 Grove Street, Blue Island, IL 60406, Chicago, IL, 60643', '2521 Grove Street, Blue Island, IL, 60406')\n",
    "missing['Address'] = missing['Address'].str.replace('1913 Southwest Fwy #B, Houston, TX 77098, Houston, TX, 77030', '1913 Southwest Fwy #B, Houston, TX, 77098')\n",
    "missing['Address'] = missing['Address'].str.replace('4009 Sherwood Lane, Houston, TX 77092, Houston, TX, 77092', '4009 Sherwood Lane, Houston, TX, 77092')\n",
    "missing['Address'] = missing['Address'].str.replace('1600 W. Imperial Highway, Los Angeles, CA 90047, Los Angeles, CA, 90045', '1600 W. Imperial Highway, Los Angeles, CA, 90047')\n",
    "missing['Address'] = missing['Address'].str.replace('131 E. 50th Street, Los Angles, CA 90011, Los Angeles, CA, 90011', '131 E. 50th Street, Los Angeles, CA, 90011')\n",
    "missing['Address'] = missing['Address'].str.replace('4301 West Martin Luther King Jr. Boulevard, Los Angeles, CA 90008, Los Angeles, CA, 90016', '4301 West Martin Luther King Jr. Boulevard, Los Angeles, CA, 90008')\n",
    "missing['Address'] = missing['Address'].str.replace('8515 Kansas Avenue, Los Angeles, CA 90044, Los Angeles, CA, 90047', '8515 Kansas Avenue, Los Angeles, CA, 90044')\n",
    "missing['Address'] = missing['Address'].str.replace('1989 Westwood Blvd, LA, CA 90025, Los Angeles, CA, 90025', '1989 Westwood Blvd, Los Angeles, CA, 90025')\n",
    "missing['Address'] = missing['Address'].str.replace('6601 NW 167th St, Hialeah, FL 33015, Miami, FL, 33015', '6601 NW 167th St, Hialeah, FL, 33015')\n",
    "missing['Address'] = missing['Address'].str.replace('7412 Sunset Drive, Miami, FL 33143, Miami, FL, 33176', '7412 Sunset Drive, Miami, FL, 33143')\n",
    "missing['Address'] = missing['Address'].str.replace('259 10th Avenue, New York, NY 10001, New York, NY, 10001', '259 10th Avenue, New York, NY, 10001')\n",
    "\n",
    "missing['Address'] = missing['Address'].str.replace('2212 Third Avenue, 2nd Floor, New York, NY 10035, New York, NY, 10065', '2212 Third Avenue, 2nd Floor, New York, NY, 10035')\n",
    "\n",
    "missing['Address'] = missing['Address'].str.replace('10126 South Western, CHICAGO, IL, 60643', '10126 South Western, Chicago, IL, 60643')\n",
    "missing['Address'] = missing['Address'].str.replace('38 delancey st., new york, NY, 10002', '38 Delancey St., New York, NY, 10002')\n",
    "missing['Address'] = missing['Address'].str.replace('40 Rector Street, new york, NY, 10006', '40 Rector Street, New York, NY, 10006')\n",
    "\n",
    "# specific\n",
    "missing.at[3886, 'Address'] = '4240 E. Olympic Blvd., Los Angeles, CA, 90023'"
   ]
  },
  {
   "source": [
    "### Split Address Column"
   ],
   "cell_type": "markdown",
   "metadata": {}
  },
  {
   "cell_type": "code",
   "execution_count": 5,
   "metadata": {},
   "outputs": [],
   "source": [
    "missing['City, State'] = missing['Address'].str.split(',')"
   ]
  },
  {
   "source": [
    "### Create Lengths to find discrepancies in Address column\n"
   ],
   "cell_type": "markdown",
   "metadata": {}
  },
  {
   "cell_type": "code",
   "execution_count": 6,
   "metadata": {},
   "outputs": [
    {
     "output_type": "execute_result",
     "data": {
      "text/plain": [
       "array([4, 5, 6])"
      ]
     },
     "metadata": {},
     "execution_count": 6
    }
   ],
   "source": [
    "# Finding length because there are anomalies with the information in the address column\n",
    "missing['Length'] = missing['City, State'].apply(lambda x: len(x) if x != None else 0 )\n",
    "# 4 is the expected length \n",
    "missing['Length'].unique()"
   ]
  },
  {
   "source": [
    "### Create City, State column"
   ],
   "cell_type": "markdown",
   "metadata": {}
  },
  {
   "cell_type": "code",
   "execution_count": 7,
   "metadata": {},
   "outputs": [],
   "source": [
    "missing['City']  = missing['City, State'].str[-3]"
   ]
  },
  {
   "cell_type": "code",
   "execution_count": 8,
   "metadata": {},
   "outputs": [],
   "source": [
    "missing['State']  = missing['City, State'].str[-2]"
   ]
  },
  {
   "source": [
    "### Check for Unique Cities\n",
    "should be about 5 (maybe slightly more after cleaning addresses)"
   ],
   "cell_type": "markdown",
   "metadata": {}
  },
  {
   "cell_type": "code",
   "execution_count": 9,
   "metadata": {},
   "outputs": [
    {
     "output_type": "stream",
     "name": "stdout",
     "text": [
      "8\n"
     ]
    },
    {
     "output_type": "execute_result",
     "data": {
      "text/plain": [
       "array([' Chicago', ' Blue Island', ' Houston', ' Los Angeles', ' Miami',\n",
       "       ' Hialeah', ' New York', ' San Antonio'], dtype=object)"
      ]
     },
     "metadata": {},
     "execution_count": 9
    }
   ],
   "source": [
    "print(missing['City'].nunique())\n",
    "missing['City'].unique()"
   ]
  },
  {
   "source": [
    "### Check for Unique States\n",
    "- expecting 5"
   ],
   "cell_type": "markdown",
   "metadata": {}
  },
  {
   "cell_type": "code",
   "execution_count": 10,
   "metadata": {},
   "outputs": [
    {
     "output_type": "stream",
     "name": "stdout",
     "text": [
      "5\n"
     ]
    },
    {
     "output_type": "execute_result",
     "data": {
      "text/plain": [
       "array([' IL', ' TX', ' CA', ' FL', ' NY'], dtype=object)"
      ]
     },
     "metadata": {},
     "execution_count": 10
    }
   ],
   "source": [
    "print(missing['State'].nunique())\n",
    "missing['State'].unique()"
   ]
  },
  {
   "source": [
    "### Update School Scores"
   ],
   "cell_type": "markdown",
   "metadata": {}
  },
  {
   "cell_type": "code",
   "execution_count": 11,
   "metadata": {},
   "outputs": [],
   "source": [
    "missing['Score'] = missing['Score'].str.replace('/10', '')\n",
    "missing['Score'] = missing['Score'].astype(int)"
   ]
  },
  {
   "source": [
    "### Separate into PK, Elementary, Middle, High School"
   ],
   "cell_type": "markdown",
   "metadata": {}
  },
  {
   "cell_type": "code",
   "execution_count": 12,
   "metadata": {},
   "outputs": [],
   "source": [
    "def parse_grades(grades_string):\n",
    "    GRADES = ['PK', 'K', '1', '2', '3', '4', '5', '6', '7', '8', '9', '10', '11', '12', 'Ungraded']\n",
    "\n",
    "    # Remove & for grades list\n",
    "    grades_string = grades_string.replace(' &', ',')\n",
    "\n",
    "    # Grades list - will add to separated grade string to grades\n",
    "    grades = []\n",
    "\n",
    "    # split strings based on ','\n",
    "    string_list = grades_string.split(',')\n",
    "\n",
    "    # look for sections of list with '-'\n",
    "    dash = \"-\"\n",
    "    for i in range(len(string_list)):\n",
    "        clean_string = string_list[i].strip()\n",
    "        if dash in clean_string:\n",
    "            #  split using '-', loop and add to grades variable\n",
    "            start_grade, end_grade = clean_string.split(dash)\n",
    "            grades += GRADES[GRADES.index(start_grade) : GRADES.index(end_grade)+ 1]\n",
    "        else:\n",
    "            # add string to grades\n",
    "            grades.append(clean_string)\n",
    "\n",
    "    return grades"
   ]
  },
  {
   "cell_type": "code",
   "execution_count": 13,
   "metadata": {},
   "outputs": [
    {
     "output_type": "stream",
     "name": "stdout",
     "text": [
      "134\n"
     ]
    }
   ],
   "source": [
    "print(missing['Grades'].nunique())\n",
    "unique_grades_combination  = missing['Grades'].unique()"
   ]
  },
  {
   "cell_type": "code",
   "execution_count": 14,
   "metadata": {},
   "outputs": [],
   "source": [
    "def test_complete_dataset(unique_grades_combination):\n",
    "    # create a loop that goes thru dataset and invoke parse_grades with each element\n",
    "    separated_grades_list = []\n",
    "    for i in unique_grades_combination:\n",
    "        separated_grades_list.append(parse_grades(i))\n",
    "\n",
    "    dictionary_grade_list = dict(zip(unique_grades_combination, separated_grades_list))\n",
    "\n",
    "    return dictionary_grade_list"
   ]
  },
  {
   "cell_type": "code",
   "execution_count": 15,
   "metadata": {},
   "outputs": [],
   "source": [
    "dictionary = test_complete_dataset(unique_grades_combination)"
   ]
  },
  {
   "cell_type": "code",
   "execution_count": 16,
   "metadata": {},
   "outputs": [],
   "source": [
    "missing['Clean_Grades'] = missing['Grades'].map(dictionary)"
   ]
  },
  {
   "cell_type": "code",
   "execution_count": 17,
   "metadata": {},
   "outputs": [],
   "source": [
    "# https://stackoverflow.com/questions/53350793/how-to-check-if-pandas-column-has-value-from-list-of-string"
   ]
  },
  {
   "cell_type": "code",
   "execution_count": 18,
   "metadata": {},
   "outputs": [],
   "source": [
    "high_school = ['9', '10', '11', '12']\n",
    "middle_school = ['6', '7', '8']\n",
    "elementary = ['K', '1', '2', '3', '4', '5']\n",
    "pre_k = ['PK']"
   ]
  },
  {
   "cell_type": "code",
   "execution_count": 19,
   "metadata": {},
   "outputs": [],
   "source": [
    "set1 = set(high_school)\n",
    "missing['High School (9-12)'] = missing['Clean_Grades'].apply(lambda x: any([k in x for k in set1]))"
   ]
  },
  {
   "cell_type": "code",
   "execution_count": 20,
   "metadata": {},
   "outputs": [],
   "source": [
    "set2 = set(middle_school)\n",
    "missing['Middle School (6-8)'] = missing['Clean_Grades'].apply(lambda x: any([k in x for k in set2]))"
   ]
  },
  {
   "cell_type": "code",
   "execution_count": 21,
   "metadata": {},
   "outputs": [],
   "source": [
    "set3 = set(elementary)\n",
    "missing['Elementary (K-5)'] = missing['Clean_Grades'].apply(lambda x: any([k in x for k in set3]))"
   ]
  },
  {
   "cell_type": "code",
   "execution_count": 22,
   "metadata": {},
   "outputs": [],
   "source": [
    "set4 = set(pre_k)\n",
    "missing['Pre-Kindergarten (PK)'] = missing['Clean_Grades'].apply(lambda x: any([k in x for k in set4]))"
   ]
  },
  {
   "cell_type": "code",
   "execution_count": 23,
   "metadata": {},
   "outputs": [],
   "source": [
    "missing[['High School (9-12)', 'Middle School (6-8)', 'Elementary (K-5)', 'Pre-Kindergarten (PK)']] = missing[['High School (9-12)', 'Middle School (6-8)', 'Elementary (K-5)', 'Pre-Kindergarten (PK)']] * 1"
   ]
  },
  {
   "cell_type": "code",
   "execution_count": 24,
   "metadata": {},
   "outputs": [],
   "source": [
    "missing['Grades'] = missing['Grades'].str.replace(' & Ungraded', '')"
   ]
  },
  {
   "source": [
    "### Check"
   ],
   "cell_type": "markdown",
   "metadata": {}
  },
  {
   "cell_type": "code",
   "execution_count": 25,
   "metadata": {},
   "outputs": [
    {
     "output_type": "execute_result",
     "data": {
      "text/plain": [
       "      Unnamed: 0            School  Score             Rating  \\\n",
       "1266        1266  Learning Network      0  Currently unrated   \n",
       "\n",
       "                                        Address     Type     Grades  \\\n",
       "1266  5911 West Midway Park, Chicago, IL, 60644  Private  PK-3, 5-8   \n",
       "\n",
       "      Total Students Enrolled Students per teacher District  \\\n",
       "1266                      NaN                  NaN      NaN   \n",
       "\n",
       "                                         City, State  Length      City State  \\\n",
       "1266  [5911 West Midway Park,  Chicago,  IL,  60644]       4   Chicago    IL   \n",
       "\n",
       "                      Clean_Grades  High School (9-12)  Middle School (6-8)  \\\n",
       "1266  [PK, K, 1, 2, 3, 5, 6, 7, 8]                   0                    1   \n",
       "\n",
       "      Elementary (K-5)  Pre-Kindergarten (PK)  \n",
       "1266                 1                      1  "
      ],
      "text/html": "<div>\n<style scoped>\n    .dataframe tbody tr th:only-of-type {\n        vertical-align: middle;\n    }\n\n    .dataframe tbody tr th {\n        vertical-align: top;\n    }\n\n    .dataframe thead th {\n        text-align: right;\n    }\n</style>\n<table border=\"1\" class=\"dataframe\">\n  <thead>\n    <tr style=\"text-align: right;\">\n      <th></th>\n      <th>Unnamed: 0</th>\n      <th>School</th>\n      <th>Score</th>\n      <th>Rating</th>\n      <th>Address</th>\n      <th>Type</th>\n      <th>Grades</th>\n      <th>Total Students Enrolled</th>\n      <th>Students per teacher</th>\n      <th>District</th>\n      <th>City, State</th>\n      <th>Length</th>\n      <th>City</th>\n      <th>State</th>\n      <th>Clean_Grades</th>\n      <th>High School (9-12)</th>\n      <th>Middle School (6-8)</th>\n      <th>Elementary (K-5)</th>\n      <th>Pre-Kindergarten (PK)</th>\n    </tr>\n  </thead>\n  <tbody>\n    <tr>\n      <th>1266</th>\n      <td>1266</td>\n      <td>Learning Network</td>\n      <td>0</td>\n      <td>Currently unrated</td>\n      <td>5911 West Midway Park, Chicago, IL, 60644</td>\n      <td>Private</td>\n      <td>PK-3, 5-8</td>\n      <td>NaN</td>\n      <td>NaN</td>\n      <td>NaN</td>\n      <td>[5911 West Midway Park,  Chicago,  IL,  60644]</td>\n      <td>4</td>\n      <td>Chicago</td>\n      <td>IL</td>\n      <td>[PK, K, 1, 2, 3, 5, 6, 7, 8]</td>\n      <td>0</td>\n      <td>1</td>\n      <td>1</td>\n      <td>1</td>\n    </tr>\n  </tbody>\n</table>\n</div>"
     },
     "metadata": {},
     "execution_count": 25
    }
   ],
   "source": [
    "missing.loc[missing['Grades'] == 'PK-3, 5-8']"
   ]
  },
  {
   "source": [
    "### Filling NaNs"
   ],
   "cell_type": "markdown",
   "metadata": {}
  },
  {
   "cell_type": "code",
   "execution_count": 26,
   "metadata": {},
   "outputs": [
    {
     "output_type": "execute_result",
     "data": {
      "text/plain": [
       "Unnamed: 0               0\n",
       "School                   0\n",
       "Score                    0\n",
       "Rating                   0\n",
       "Address                  0\n",
       "                        ..\n",
       "Clean_Grades             0\n",
       "High School (9-12)       0\n",
       "Middle School (6-8)      0\n",
       "Elementary (K-5)         0\n",
       "Pre-Kindergarten (PK)    0\n",
       "Length: 19, dtype: int64"
      ]
     },
     "metadata": {},
     "execution_count": 26
    }
   ],
   "source": [
    "missing.isna().sum()"
   ]
  },
  {
   "cell_type": "code",
   "execution_count": 27,
   "metadata": {},
   "outputs": [],
   "source": [
    "missing[['Total Students Enrolled', 'Students per teacher']] = missing[['Total Students Enrolled', 'Students per teacher']].fillna(0)"
   ]
  },
  {
   "cell_type": "code",
   "execution_count": 28,
   "metadata": {},
   "outputs": [],
   "source": [
    "missing['District'] = missing['District'].fillna('Unavailable')"
   ]
  },
  {
   "cell_type": "code",
   "execution_count": 29,
   "metadata": {},
   "outputs": [
    {
     "output_type": "execute_result",
     "data": {
      "text/plain": [
       "Unnamed: 0               0\n",
       "School                   0\n",
       "Score                    0\n",
       "Rating                   0\n",
       "Address                  0\n",
       "                        ..\n",
       "Clean_Grades             0\n",
       "High School (9-12)       0\n",
       "Middle School (6-8)      0\n",
       "Elementary (K-5)         0\n",
       "Pre-Kindergarten (PK)    0\n",
       "Length: 19, dtype: int64"
      ]
     },
     "metadata": {},
     "execution_count": 29
    }
   ],
   "source": [
    "missing.isna().sum()"
   ]
  },
  {
   "source": [
    "### Clean and Drop columns\n"
   ],
   "cell_type": "markdown",
   "metadata": {}
  },
  {
   "cell_type": "code",
   "execution_count": 30,
   "metadata": {},
   "outputs": [],
   "source": [
    "missing['City'] = missing['City'].str.strip()\n",
    "missing['State'] = missing['State'].str.strip()\n",
    "missing['Address'] = missing['Address'].str.strip()\n",
    "missing['School'] = missing['School'].str.strip()\n",
    "missing['Rating'] = missing['Rating'].str.strip()\n",
    "missing['Address'] = missing['Address'].str.strip()\n",
    "missing['Type'] = missing['Type'].str.strip()\n",
    "missing['Grades'] = missing['Grades'].str.strip()\n",
    "missing['Students per teacher'] = missing['Students per teacher'].str.strip()\n",
    "missing['District'] = missing['District'].str.strip()\n",
    "\n",
    "# Drop\n",
    "missing = missing.drop(columns = ['City, State', 'Length', 'Clean_Grades'])"
   ]
  },
  {
   "cell_type": "code",
   "execution_count": 31,
   "metadata": {},
   "outputs": [],
   "source": [
    "missing.to_csv('files/merge_schools/missing_schools_cleaned.csv', index = False)"
   ]
  },
  {
   "source": [
    "## Part 3  Merge\n",
    "1. remove cities in missing_cities from df to prevent duplicates\n",
    " - 'Chicago', 'Blue Island', 'Houston', 'Los Angeles', 'Miami', 'Hialeah', 'New York', 'San Antonio'\n",
    "2. Merge\n",
    "3. Clean"
   ],
   "cell_type": "markdown",
   "metadata": {}
  },
  {
   "cell_type": "code",
   "execution_count": 1,
   "metadata": {},
   "outputs": [
    {
     "output_type": "stream",
     "name": "stderr",
     "text": [
      "/Users/jisha/.pyenv/versions/3.8.6/lib/python3.8/site-packages/pandas/compat/__init__.py:120: UserWarning: Could not import the lzma module. Your installed Python is incomplete. Attempting to use lzma compression will result in a RuntimeError.\n  warnings.warn(msg)\n"
     ]
    }
   ],
   "source": [
    "import pandas as pd\n",
    "pd.set_option('display.max_colwidth', None)\n",
    "pd.set_option('display.max_rows', 25)"
   ]
  },
  {
   "cell_type": "code",
   "execution_count": 2,
   "metadata": {},
   "outputs": [],
   "source": [
    "df = pd.read_csv('files/merge_schools/schools_cleaned.csv')\n",
    "missing = pd.read_csv('files/merge_schools/missing_schools_cleaned.csv')"
   ]
  },
  {
   "cell_type": "code",
   "execution_count": 3,
   "metadata": {},
   "outputs": [
    {
     "output_type": "stream",
     "name": "stdout",
     "text": [
      "(58779, 16)\n"
     ]
    },
    {
     "output_type": "execute_result",
     "data": {
      "text/plain": [
       "   Unnamed: 0                               School  Score         Rating  \\\n",
       "0           0      Akron Early College High School     10      Top rated   \n",
       "1           1                 Revere Middle School      9  Above average   \n",
       "2           2  Arrowhead Primary Elementary School      8  Above average   \n",
       "3           3             Manchester Middle School      8  Above average   \n",
       "4           4             Nolley Elementary School      8  Above average   \n",
       "\n",
       "                                     Address             Type Grades  \\\n",
       "0    225 South Main Street, Akron, OH, 44308  Public district   9-12   \n",
       "1  3195 Spring Valley Road, Akron, OH, 44333  Public district    6-8   \n",
       "2   1600 Raleigh Boulevard, Akron, OH, 44321  Public district    K-4   \n",
       "3   760 West Nimisila Road, Akron, OH, 44319  Public district    5-8   \n",
       "4        6285 Renninger Rd, Akron, OH, 44319  Public district    K-4   \n",
       "\n",
       "   Total Students Enrolled Students per teacher  \\\n",
       "0                    384.0                 34:1   \n",
       "1                    624.0                 13:1   \n",
       "2                    345.0                 20:1   \n",
       "3                    387.0                 16:1   \n",
       "4                    483.0                 17:1   \n",
       "\n",
       "                               District   City State  High School (9-12)  \\\n",
       "0            Akron City School District  Akron    OH                   1   \n",
       "1          Revere Local School District  Akron    OH                   0   \n",
       "2  Copley-Fairlawn City School District  Akron    OH                   0   \n",
       "3      Manchester Local School District  Akron    OH                   0   \n",
       "4      Manchester Local School District  Akron    OH                   0   \n",
       "\n",
       "   Middle School (6-8)  Elementary (K-5)  Pre-Kindergarten (PK)  \n",
       "0                    0                 0                      0  \n",
       "1                    1                 0                      0  \n",
       "2                    0                 1                      0  \n",
       "3                    1                 1                      0  \n",
       "4                    0                 1                      0  "
      ],
      "text/html": "<div>\n<style scoped>\n    .dataframe tbody tr th:only-of-type {\n        vertical-align: middle;\n    }\n\n    .dataframe tbody tr th {\n        vertical-align: top;\n    }\n\n    .dataframe thead th {\n        text-align: right;\n    }\n</style>\n<table border=\"1\" class=\"dataframe\">\n  <thead>\n    <tr style=\"text-align: right;\">\n      <th></th>\n      <th>Unnamed: 0</th>\n      <th>School</th>\n      <th>Score</th>\n      <th>Rating</th>\n      <th>Address</th>\n      <th>Type</th>\n      <th>Grades</th>\n      <th>Total Students Enrolled</th>\n      <th>Students per teacher</th>\n      <th>District</th>\n      <th>City</th>\n      <th>State</th>\n      <th>High School (9-12)</th>\n      <th>Middle School (6-8)</th>\n      <th>Elementary (K-5)</th>\n      <th>Pre-Kindergarten (PK)</th>\n    </tr>\n  </thead>\n  <tbody>\n    <tr>\n      <th>0</th>\n      <td>0</td>\n      <td>Akron Early College High School</td>\n      <td>10</td>\n      <td>Top rated</td>\n      <td>225 South Main Street, Akron, OH, 44308</td>\n      <td>Public district</td>\n      <td>9-12</td>\n      <td>384.0</td>\n      <td>34:1</td>\n      <td>Akron City School District</td>\n      <td>Akron</td>\n      <td>OH</td>\n      <td>1</td>\n      <td>0</td>\n      <td>0</td>\n      <td>0</td>\n    </tr>\n    <tr>\n      <th>1</th>\n      <td>1</td>\n      <td>Revere Middle School</td>\n      <td>9</td>\n      <td>Above average</td>\n      <td>3195 Spring Valley Road, Akron, OH, 44333</td>\n      <td>Public district</td>\n      <td>6-8</td>\n      <td>624.0</td>\n      <td>13:1</td>\n      <td>Revere Local School District</td>\n      <td>Akron</td>\n      <td>OH</td>\n      <td>0</td>\n      <td>1</td>\n      <td>0</td>\n      <td>0</td>\n    </tr>\n    <tr>\n      <th>2</th>\n      <td>2</td>\n      <td>Arrowhead Primary Elementary School</td>\n      <td>8</td>\n      <td>Above average</td>\n      <td>1600 Raleigh Boulevard, Akron, OH, 44321</td>\n      <td>Public district</td>\n      <td>K-4</td>\n      <td>345.0</td>\n      <td>20:1</td>\n      <td>Copley-Fairlawn City School District</td>\n      <td>Akron</td>\n      <td>OH</td>\n      <td>0</td>\n      <td>0</td>\n      <td>1</td>\n      <td>0</td>\n    </tr>\n    <tr>\n      <th>3</th>\n      <td>3</td>\n      <td>Manchester Middle School</td>\n      <td>8</td>\n      <td>Above average</td>\n      <td>760 West Nimisila Road, Akron, OH, 44319</td>\n      <td>Public district</td>\n      <td>5-8</td>\n      <td>387.0</td>\n      <td>16:1</td>\n      <td>Manchester Local School District</td>\n      <td>Akron</td>\n      <td>OH</td>\n      <td>0</td>\n      <td>1</td>\n      <td>1</td>\n      <td>0</td>\n    </tr>\n    <tr>\n      <th>4</th>\n      <td>4</td>\n      <td>Nolley Elementary School</td>\n      <td>8</td>\n      <td>Above average</td>\n      <td>6285 Renninger Rd, Akron, OH, 44319</td>\n      <td>Public district</td>\n      <td>K-4</td>\n      <td>483.0</td>\n      <td>17:1</td>\n      <td>Manchester Local School District</td>\n      <td>Akron</td>\n      <td>OH</td>\n      <td>0</td>\n      <td>0</td>\n      <td>1</td>\n      <td>0</td>\n    </tr>\n  </tbody>\n</table>\n</div>"
     },
     "metadata": {},
     "execution_count": 3
    }
   ],
   "source": [
    "print(df.shape)\n",
    "df.head()"
   ]
  },
  {
   "cell_type": "code",
   "execution_count": 4,
   "metadata": {},
   "outputs": [
    {
     "output_type": "stream",
     "name": "stdout",
     "text": [
      "(8941, 16)\n"
     ]
    },
    {
     "output_type": "execute_result",
     "data": {
      "text/plain": [
       "   Unnamed: 0                                     School  Score  \\\n",
       "0           0             Jones College Prep High School     10   \n",
       "1           1  Northside College Preparatory High School     10   \n",
       "2           2     Payton College Preparatory High School     10   \n",
       "3           3        Devry Advantage Academy High School     10   \n",
       "4           4                   Westinghouse High School      9   \n",
       "\n",
       "          Rating                                           Address  \\\n",
       "0      Top rated        700 South State Street, Chicago, IL, 60605   \n",
       "1      Top rated      5501 North Kedzie Avenue, Chicago, IL, 60625   \n",
       "2      Top rated       1034 North Wells Street, Chicago, IL, 60610   \n",
       "3      Top rated    3300 North Campbell Avenue, Chicago, IL, 60618   \n",
       "4  Above average  3223 West Franklin Boulevard, Chicago, IL, 60624   \n",
       "\n",
       "              Type Grades  Total Students Enrolled Students per teacher  \\\n",
       "0  Public district   9-12                   1861.0                 17:1   \n",
       "1  Public district   9-12                   1061.0                 16:1   \n",
       "2  Public district   9-12                   1073.0                 15:1   \n",
       "3  Public district  11-12                    193.0                 18:1   \n",
       "4  Public district   9-12                   1192.0                 16:1   \n",
       "\n",
       "                              District     City State  High School (9-12)  \\\n",
       "0  City Of Chicago School District 299  Chicago    IL                   1   \n",
       "1  City Of Chicago School District 299  Chicago    IL                   1   \n",
       "2  City Of Chicago School District 299  Chicago    IL                   1   \n",
       "3  City Of Chicago School District 299  Chicago    IL                   1   \n",
       "4  City Of Chicago School District 299  Chicago    IL                   1   \n",
       "\n",
       "   Middle School (6-8)  Elementary (K-5)  Pre-Kindergarten (PK)  \n",
       "0                    0                 0                      0  \n",
       "1                    0                 0                      0  \n",
       "2                    0                 0                      0  \n",
       "3                    0                 0                      0  \n",
       "4                    0                 0                      0  "
      ],
      "text/html": "<div>\n<style scoped>\n    .dataframe tbody tr th:only-of-type {\n        vertical-align: middle;\n    }\n\n    .dataframe tbody tr th {\n        vertical-align: top;\n    }\n\n    .dataframe thead th {\n        text-align: right;\n    }\n</style>\n<table border=\"1\" class=\"dataframe\">\n  <thead>\n    <tr style=\"text-align: right;\">\n      <th></th>\n      <th>Unnamed: 0</th>\n      <th>School</th>\n      <th>Score</th>\n      <th>Rating</th>\n      <th>Address</th>\n      <th>Type</th>\n      <th>Grades</th>\n      <th>Total Students Enrolled</th>\n      <th>Students per teacher</th>\n      <th>District</th>\n      <th>City</th>\n      <th>State</th>\n      <th>High School (9-12)</th>\n      <th>Middle School (6-8)</th>\n      <th>Elementary (K-5)</th>\n      <th>Pre-Kindergarten (PK)</th>\n    </tr>\n  </thead>\n  <tbody>\n    <tr>\n      <th>0</th>\n      <td>0</td>\n      <td>Jones College Prep High School</td>\n      <td>10</td>\n      <td>Top rated</td>\n      <td>700 South State Street, Chicago, IL, 60605</td>\n      <td>Public district</td>\n      <td>9-12</td>\n      <td>1861.0</td>\n      <td>17:1</td>\n      <td>City Of Chicago School District 299</td>\n      <td>Chicago</td>\n      <td>IL</td>\n      <td>1</td>\n      <td>0</td>\n      <td>0</td>\n      <td>0</td>\n    </tr>\n    <tr>\n      <th>1</th>\n      <td>1</td>\n      <td>Northside College Preparatory High School</td>\n      <td>10</td>\n      <td>Top rated</td>\n      <td>5501 North Kedzie Avenue, Chicago, IL, 60625</td>\n      <td>Public district</td>\n      <td>9-12</td>\n      <td>1061.0</td>\n      <td>16:1</td>\n      <td>City Of Chicago School District 299</td>\n      <td>Chicago</td>\n      <td>IL</td>\n      <td>1</td>\n      <td>0</td>\n      <td>0</td>\n      <td>0</td>\n    </tr>\n    <tr>\n      <th>2</th>\n      <td>2</td>\n      <td>Payton College Preparatory High School</td>\n      <td>10</td>\n      <td>Top rated</td>\n      <td>1034 North Wells Street, Chicago, IL, 60610</td>\n      <td>Public district</td>\n      <td>9-12</td>\n      <td>1073.0</td>\n      <td>15:1</td>\n      <td>City Of Chicago School District 299</td>\n      <td>Chicago</td>\n      <td>IL</td>\n      <td>1</td>\n      <td>0</td>\n      <td>0</td>\n      <td>0</td>\n    </tr>\n    <tr>\n      <th>3</th>\n      <td>3</td>\n      <td>Devry Advantage Academy High School</td>\n      <td>10</td>\n      <td>Top rated</td>\n      <td>3300 North Campbell Avenue, Chicago, IL, 60618</td>\n      <td>Public district</td>\n      <td>11-12</td>\n      <td>193.0</td>\n      <td>18:1</td>\n      <td>City Of Chicago School District 299</td>\n      <td>Chicago</td>\n      <td>IL</td>\n      <td>1</td>\n      <td>0</td>\n      <td>0</td>\n      <td>0</td>\n    </tr>\n    <tr>\n      <th>4</th>\n      <td>4</td>\n      <td>Westinghouse High School</td>\n      <td>9</td>\n      <td>Above average</td>\n      <td>3223 West Franklin Boulevard, Chicago, IL, 60624</td>\n      <td>Public district</td>\n      <td>9-12</td>\n      <td>1192.0</td>\n      <td>16:1</td>\n      <td>City Of Chicago School District 299</td>\n      <td>Chicago</td>\n      <td>IL</td>\n      <td>1</td>\n      <td>0</td>\n      <td>0</td>\n      <td>0</td>\n    </tr>\n  </tbody>\n</table>\n</div>"
     },
     "metadata": {},
     "execution_count": 4
    }
   ],
   "source": [
    "print(missing.shape)\n",
    "missing.head()"
   ]
  },
  {
   "cell_type": "code",
   "execution_count": 5,
   "metadata": {},
   "outputs": [],
   "source": [
    "# Removing cities from schools to prevent duplicate cities\n",
    "df = df[df['City'] != 'Chicago']\n",
    "df = df[df['City'] != 'Houston']\n",
    "df = df[df['City'] != 'Los Angeles']\n",
    "df = df[df['City'] != 'Miami']\n",
    "df = df[df['City'] != 'New York']\n",
    "df = df[df['City'] != 'San Antonio']"
   ]
  },
  {
   "cell_type": "code",
   "execution_count": 6,
   "metadata": {},
   "outputs": [],
   "source": [
    "frames = [df, missing]\n",
    "final = pd.concat(frames)"
   ]
  },
  {
   "cell_type": "code",
   "execution_count": 7,
   "metadata": {},
   "outputs": [
    {
     "output_type": "stream",
     "name": "stdout",
     "text": [
      "(67570, 16)\n"
     ]
    },
    {
     "output_type": "execute_result",
     "data": {
      "text/plain": [
       "   Unnamed: 0                               School  Score         Rating  \\\n",
       "0           0      Akron Early College High School     10      Top rated   \n",
       "1           1                 Revere Middle School      9  Above average   \n",
       "2           2  Arrowhead Primary Elementary School      8  Above average   \n",
       "3           3             Manchester Middle School      8  Above average   \n",
       "4           4             Nolley Elementary School      8  Above average   \n",
       "\n",
       "                                     Address             Type Grades  \\\n",
       "0    225 South Main Street, Akron, OH, 44308  Public district   9-12   \n",
       "1  3195 Spring Valley Road, Akron, OH, 44333  Public district    6-8   \n",
       "2   1600 Raleigh Boulevard, Akron, OH, 44321  Public district    K-4   \n",
       "3   760 West Nimisila Road, Akron, OH, 44319  Public district    5-8   \n",
       "4        6285 Renninger Rd, Akron, OH, 44319  Public district    K-4   \n",
       "\n",
       "   Total Students Enrolled Students per teacher  \\\n",
       "0                    384.0                 34:1   \n",
       "1                    624.0                 13:1   \n",
       "2                    345.0                 20:1   \n",
       "3                    387.0                 16:1   \n",
       "4                    483.0                 17:1   \n",
       "\n",
       "                               District   City State  High School (9-12)  \\\n",
       "0            Akron City School District  Akron    OH                   1   \n",
       "1          Revere Local School District  Akron    OH                   0   \n",
       "2  Copley-Fairlawn City School District  Akron    OH                   0   \n",
       "3      Manchester Local School District  Akron    OH                   0   \n",
       "4      Manchester Local School District  Akron    OH                   0   \n",
       "\n",
       "   Middle School (6-8)  Elementary (K-5)  Pre-Kindergarten (PK)  \n",
       "0                    0                 0                      0  \n",
       "1                    1                 0                      0  \n",
       "2                    0                 1                      0  \n",
       "3                    1                 1                      0  \n",
       "4                    0                 1                      0  "
      ],
      "text/html": "<div>\n<style scoped>\n    .dataframe tbody tr th:only-of-type {\n        vertical-align: middle;\n    }\n\n    .dataframe tbody tr th {\n        vertical-align: top;\n    }\n\n    .dataframe thead th {\n        text-align: right;\n    }\n</style>\n<table border=\"1\" class=\"dataframe\">\n  <thead>\n    <tr style=\"text-align: right;\">\n      <th></th>\n      <th>Unnamed: 0</th>\n      <th>School</th>\n      <th>Score</th>\n      <th>Rating</th>\n      <th>Address</th>\n      <th>Type</th>\n      <th>Grades</th>\n      <th>Total Students Enrolled</th>\n      <th>Students per teacher</th>\n      <th>District</th>\n      <th>City</th>\n      <th>State</th>\n      <th>High School (9-12)</th>\n      <th>Middle School (6-8)</th>\n      <th>Elementary (K-5)</th>\n      <th>Pre-Kindergarten (PK)</th>\n    </tr>\n  </thead>\n  <tbody>\n    <tr>\n      <th>0</th>\n      <td>0</td>\n      <td>Akron Early College High School</td>\n      <td>10</td>\n      <td>Top rated</td>\n      <td>225 South Main Street, Akron, OH, 44308</td>\n      <td>Public district</td>\n      <td>9-12</td>\n      <td>384.0</td>\n      <td>34:1</td>\n      <td>Akron City School District</td>\n      <td>Akron</td>\n      <td>OH</td>\n      <td>1</td>\n      <td>0</td>\n      <td>0</td>\n      <td>0</td>\n    </tr>\n    <tr>\n      <th>1</th>\n      <td>1</td>\n      <td>Revere Middle School</td>\n      <td>9</td>\n      <td>Above average</td>\n      <td>3195 Spring Valley Road, Akron, OH, 44333</td>\n      <td>Public district</td>\n      <td>6-8</td>\n      <td>624.0</td>\n      <td>13:1</td>\n      <td>Revere Local School District</td>\n      <td>Akron</td>\n      <td>OH</td>\n      <td>0</td>\n      <td>1</td>\n      <td>0</td>\n      <td>0</td>\n    </tr>\n    <tr>\n      <th>2</th>\n      <td>2</td>\n      <td>Arrowhead Primary Elementary School</td>\n      <td>8</td>\n      <td>Above average</td>\n      <td>1600 Raleigh Boulevard, Akron, OH, 44321</td>\n      <td>Public district</td>\n      <td>K-4</td>\n      <td>345.0</td>\n      <td>20:1</td>\n      <td>Copley-Fairlawn City School District</td>\n      <td>Akron</td>\n      <td>OH</td>\n      <td>0</td>\n      <td>0</td>\n      <td>1</td>\n      <td>0</td>\n    </tr>\n    <tr>\n      <th>3</th>\n      <td>3</td>\n      <td>Manchester Middle School</td>\n      <td>8</td>\n      <td>Above average</td>\n      <td>760 West Nimisila Road, Akron, OH, 44319</td>\n      <td>Public district</td>\n      <td>5-8</td>\n      <td>387.0</td>\n      <td>16:1</td>\n      <td>Manchester Local School District</td>\n      <td>Akron</td>\n      <td>OH</td>\n      <td>0</td>\n      <td>1</td>\n      <td>1</td>\n      <td>0</td>\n    </tr>\n    <tr>\n      <th>4</th>\n      <td>4</td>\n      <td>Nolley Elementary School</td>\n      <td>8</td>\n      <td>Above average</td>\n      <td>6285 Renninger Rd, Akron, OH, 44319</td>\n      <td>Public district</td>\n      <td>K-4</td>\n      <td>483.0</td>\n      <td>17:1</td>\n      <td>Manchester Local School District</td>\n      <td>Akron</td>\n      <td>OH</td>\n      <td>0</td>\n      <td>0</td>\n      <td>1</td>\n      <td>0</td>\n    </tr>\n  </tbody>\n</table>\n</div>"
     },
     "metadata": {},
     "execution_count": 7
    }
   ],
   "source": [
    "print(final.shape) # 58779 + 8941 - 150(dropped cities) = 67570\n",
    "final.head()"
   ]
  },
  {
   "cell_type": "code",
   "execution_count": 8,
   "metadata": {},
   "outputs": [
    {
     "output_type": "execute_result",
     "data": {
      "text/plain": [
       "Unnamed: 0                     0\n",
       "School                         0\n",
       "Score                          0\n",
       "Rating                         0\n",
       "Address                        0\n",
       "Type                           0\n",
       "Grades                         0\n",
       "Total Students Enrolled        0\n",
       "Students per teacher       46829\n",
       "District                       0\n",
       "City                           0\n",
       "State                          0\n",
       "High School (9-12)             0\n",
       "Middle School (6-8)            0\n",
       "Elementary (K-5)               0\n",
       "Pre-Kindergarten (PK)          0\n",
       "dtype: int64"
      ]
     },
     "metadata": {},
     "execution_count": 8
    }
   ],
   "source": [
    "final.isnull().sum()"
   ]
  },
  {
   "cell_type": "code",
   "execution_count": 10,
   "metadata": {},
   "outputs": [],
   "source": [
    "final['Students per teacher'] = final['Students per teacher'].fillna(0)"
   ]
  },
  {
   "cell_type": "code",
   "execution_count": 11,
   "metadata": {},
   "outputs": [
    {
     "output_type": "execute_result",
     "data": {
      "text/plain": [
       "Unnamed: 0                 0\n",
       "School                     0\n",
       "Score                      0\n",
       "Rating                     0\n",
       "Address                    0\n",
       "Type                       0\n",
       "Grades                     0\n",
       "Total Students Enrolled    0\n",
       "Students per teacher       0\n",
       "District                   0\n",
       "City                       0\n",
       "State                      0\n",
       "High School (9-12)         0\n",
       "Middle School (6-8)        0\n",
       "Elementary (K-5)           0\n",
       "Pre-Kindergarten (PK)      0\n",
       "dtype: int64"
      ]
     },
     "metadata": {},
     "execution_count": 11
    }
   ],
   "source": [
    "final.isnull().sum()"
   ]
  },
  {
   "cell_type": "code",
   "execution_count": 12,
   "metadata": {},
   "outputs": [],
   "source": [
    "final = final.drop(columns = ['Unnamed: 0'])"
   ]
  },
  {
   "cell_type": "code",
   "execution_count": 13,
   "metadata": {},
   "outputs": [],
   "source": [
    "final.to_csv('csv/final_school.csv', index = False)"
   ]
  },
  {
   "cell_type": "code",
   "execution_count": null,
   "metadata": {},
   "outputs": [],
   "source": []
  }
 ]
}