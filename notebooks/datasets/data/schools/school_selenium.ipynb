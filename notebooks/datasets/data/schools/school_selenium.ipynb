{
 "metadata": {
  "language_info": {
   "codemirror_mode": {
    "name": "ipython",
    "version": 3
   },
   "file_extension": ".py",
   "mimetype": "text/x-python",
   "name": "python",
   "nbconvert_exporter": "python",
   "pygments_lexer": "ipython3",
   "version": "3.8.6"
  },
  "orig_nbformat": 2,
  "kernelspec": {
   "name": "python386jvsc74a57bd02419ad2920cdc1fadb8f0ae6c1b14e969f8d411f4ecfa904fb0f4ff9d9e2f541",
   "display_name": "Python 3.8.6 64-bit ('3.8.6': pyenv)"
  }
 },
 "nbformat": 4,
 "nbformat_minor": 2,
 "cells": [
  {
   "cell_type": "code",
   "execution_count": 1,
   "metadata": {},
   "outputs": [],
   "source": [
    "import requests\n",
    "from bs4 import BeautifulSoup"
   ]
  },
  {
   "cell_type": "code",
   "execution_count": 2,
   "metadata": {},
   "outputs": [
    {
     "output_type": "execute_result",
     "data": {
      "text/plain": [
       "[]"
      ]
     },
     "metadata": {},
     "execution_count": 2
    }
   ],
   "source": [
    "url = \"https://www.greatschools.org/pennsylvania/bethlehem/schools/?tableView=Overview&view=table\"\n",
    "page_response = requests.get(url)\n",
    "content = BeautifulSoup(page_response.text,\"html.parser\")\n",
    "\n",
    "table=content.find_all('table')\n",
    "table"
   ]
  },
  {
   "cell_type": "code",
   "execution_count": 7,
   "metadata": {},
   "outputs": [],
   "source": [
    "pd.set_option('display.max_colwidth', None)"
   ]
  },
  {
   "cell_type": "code",
   "execution_count": 8,
   "metadata": {},
   "outputs": [],
   "source": [
    "import pandas as pd\n",
    "from selenium import webdriver"
   ]
  },
  {
   "cell_type": "code",
   "execution_count": 9,
   "metadata": {},
   "outputs": [],
   "source": [
    "url = \"https://www.greatschools.org/new-york/new-york/schools/?tableView=Overview&view=table\"\n",
    "\n",
    "driver = webdriver.Chrome()\n",
    "driver.get(url)\n",
    "\n",
    "html = driver.page_source\n",
    "\n",
    "table = pd.read_html(html)\n",
    "df = table[0]\n",
    "\n",
    "driver.close()"
   ]
  },
  {
   "cell_type": "code",
   "execution_count": 10,
   "metadata": {},
   "outputs": [
    {
     "output_type": "execute_result",
     "data": {
      "text/plain": [
       "                                                                                                                  School  \\\n",
       "0                             10/10Top ratedBattery Park City School55 Battery Place, New York, NY, 10280 Homes for sale   \n",
       "1                                            10/10Top ratedNyc Ischool131 6th Avenue, New York, NY, 10013 Homes for sale   \n",
       "2        10/10Top ratedSuccess Academy Charter School-Harlem 4 240 West 113th Street, New York, NY, 10026 Homes for sale   \n",
       "3              10/10Top ratedEast Side Elementary School, PS 267213 East 63rd Street, New York, NY, 10065 Homes for sale   \n",
       "4           10/10Top ratedP.S. 527 East Side School-Social Actio323 East 91st Street, New York, NY, 10128 Homes for sale   \n",
       "5                   10/10Top ratedSuccess Academy Hell's Kitchen439 West 49th Street, New York, NY, 10019 Homes for sale   \n",
       "6                         10/10Top ratedManhattan Village Academy43 West 22nd Street, New York, NY, 10010 Homes for sale   \n",
       "7                      10/10Top ratedPs 290 Manhattan New School311 East 82nd Street, New York, NY, 10028 Homes for sale   \n",
       "8                               10/10Top ratedPs 6 Lillie D Blake45 East 81st Street, New York, NY, 10028 Homes for sale   \n",
       "9                     10/10Top ratedP.S. 40 Augustus St.-Gaudens320 East 20th Street, New York, NY, 10003 Homes for sale   \n",
       "10                10/10Top ratedPs 59 Beekman Hill International231 East 56th Street, New York, NY, 10022 Homes for sale   \n",
       "11                           10/10Top ratedPs 87 William Sherman160 West 78th Street, New York, NY, 10024 Homes for sale   \n",
       "12                                          10/10Top ratedPs 150334 Greenwich Street, New York, NY, 10013 Homes for sale   \n",
       "13                     10/10Top ratedPs 199 Jessie Isador Straus270 West 70th Street, New York, NY, 10023 Homes for sale   \n",
       "14                           10/10Top ratedStuyvesant High School345 Chambers Street, New York, NY, 10282 Homes for sale   \n",
       "15                                              10/10Top ratedPs 89201 Warren Street, New York, NY, 10282 Homes for sale   \n",
       "16                      10/10Top ratedPs 234 Independence School292 Greenwich Street, New York, NY, 10007 Homes for sale   \n",
       "17                               10/10Top ratedThe Mott Hall School71 Convent Avenue, New York, NY, 10027 Homes for sale   \n",
       "18                                  10/10Top ratedPs 184 Shuang Wen327 Cherry Street, New York, NY, 10002 Homes for sale   \n",
       "19                               10/10Top ratedPs 77 Lower Lab School1700 3rd Avenue, New York, NY, 10128 Homes for sale   \n",
       "20                   10/10Top ratedEleanor Roosevelt High School411 East 76th Street, New York, NY, 10021 Homes for sale   \n",
       "21                               10/10Top ratedMillennium High School75 Broad Street, New York, NY, 10004 Homes for sale   \n",
       "22            10/10Top ratedManhattan/Hunter Science High School122 Amsterdam Avenue, New York, NY, 10023 Homes for sale   \n",
       "23                                                10/10Top ratedMuscota4862 Broadway, New York, NY, 10034 Homes for sale   \n",
       "24  10/10Top ratedHigh School Math Science And Engineering At Ccny240 Convent Avenue, New York, NY, 10031 Homes for sale   \n",
       "\n",
       "               Type Grades  Total students enrolled Students per teacher  \\\n",
       "0   Public district    K-8                      822                 13:1   \n",
       "1   Public district   9-12                      458                 15:1   \n",
       "2    Public charter    K-4                      580                 16:1   \n",
       "3   Public district    K-5                      397                 14:1   \n",
       "4   Public district    K-5                      384                 14:1   \n",
       "5    Public charter    K-4                      481                 23:1   \n",
       "6   Public district   9-12                      455                 15:1   \n",
       "7   Public district   PK-5                      628                 15:1   \n",
       "8   Public district   PK-5                      688                 17:1   \n",
       "9   Public district   PK-5                      679                 17:1   \n",
       "10  Public district   PK-5                      611                 14:1   \n",
       "11  Public district   PK-5                      881                 13:1   \n",
       "12  Public district   PK-5                      188                 17:1   \n",
       "13  Public district    K-5                      851                 15:1   \n",
       "14  Public district   9-12                     3334                 20:1   \n",
       "15  Public district   PK-5                      432                 16:1   \n",
       "16  Public district    K-5                      642                 14:1   \n",
       "17  Public district    6-8                      292                 13:1   \n",
       "18  Public district   PK-8                      682                 13:1   \n",
       "19  Public district    K-5                      357                 20:1   \n",
       "20  Public district   9-12                      538                 16:1   \n",
       "21  Public district   9-12                      668                 17:1   \n",
       "22  Public district   9-12                      441                 18:1   \n",
       "23  Public district    K-5                      292                 13:1   \n",
       "24  Public district   9-12                      500                 16:1   \n",
       "\n",
       "       Reviews                           District  \n",
       "0   23 reviews  Nyc Geog District # 2 - Manhattan  \n",
       "1    8 reviews  Nyc Geog District # 2 - Manhattan  \n",
       "2    5 reviews  Nyc Geog District # 3 - Manhattan  \n",
       "3   31 reviews  Nyc Geog District # 2 - Manhattan  \n",
       "4   11 reviews  Nyc Geog District # 2 - Manhattan  \n",
       "5   11 reviews  Nyc Geog District # 2 - Manhattan  \n",
       "6    6 reviews  Nyc Geog District # 2 - Manhattan  \n",
       "7   18 reviews  Nyc Geog District # 2 - Manhattan  \n",
       "8   26 reviews  Nyc Geog District # 2 - Manhattan  \n",
       "9   10 reviews  Nyc Geog District # 2 - Manhattan  \n",
       "10  12 reviews  Nyc Geog District # 2 - Manhattan  \n",
       "11  24 reviews  Nyc Geog District # 3 - Manhattan  \n",
       "12   2 reviews  Nyc Geog District # 2 - Manhattan  \n",
       "13  11 reviews  Nyc Geog District # 3 - Manhattan  \n",
       "14  26 reviews  Nyc Geog District # 2 - Manhattan  \n",
       "15  13 reviews  Nyc Geog District # 2 - Manhattan  \n",
       "16  16 reviews  Nyc Geog District # 2 - Manhattan  \n",
       "17  14 reviews  Nyc Geog District # 6 - Manhattan  \n",
       "18  19 reviews  Nyc Geog District # 1 - Manhattan  \n",
       "19  14 reviews  Nyc Geog District # 2 - Manhattan  \n",
       "20  10 reviews  Nyc Geog District # 2 - Manhattan  \n",
       "21  14 reviews  Nyc Geog District # 2 - Manhattan  \n",
       "22  14 reviews  Nyc Geog District # 3 - Manhattan  \n",
       "23   9 reviews  Nyc Geog District # 6 - Manhattan  \n",
       "24   9 reviews  Nyc Geog District # 5 - Manhattan  "
      ],
      "text/html": "<div>\n<style scoped>\n    .dataframe tbody tr th:only-of-type {\n        vertical-align: middle;\n    }\n\n    .dataframe tbody tr th {\n        vertical-align: top;\n    }\n\n    .dataframe thead th {\n        text-align: right;\n    }\n</style>\n<table border=\"1\" class=\"dataframe\">\n  <thead>\n    <tr style=\"text-align: right;\">\n      <th></th>\n      <th>School</th>\n      <th>Type</th>\n      <th>Grades</th>\n      <th>Total students enrolled</th>\n      <th>Students per teacher</th>\n      <th>Reviews</th>\n      <th>District</th>\n    </tr>\n  </thead>\n  <tbody>\n    <tr>\n      <th>0</th>\n      <td>10/10Top ratedBattery Park City School55 Battery Place, New York, NY, 10280 Homes for sale</td>\n      <td>Public district</td>\n      <td>K-8</td>\n      <td>822</td>\n      <td>13:1</td>\n      <td>23 reviews</td>\n      <td>Nyc Geog District # 2 - Manhattan</td>\n    </tr>\n    <tr>\n      <th>1</th>\n      <td>10/10Top ratedNyc Ischool131 6th Avenue, New York, NY, 10013 Homes for sale</td>\n      <td>Public district</td>\n      <td>9-12</td>\n      <td>458</td>\n      <td>15:1</td>\n      <td>8 reviews</td>\n      <td>Nyc Geog District # 2 - Manhattan</td>\n    </tr>\n    <tr>\n      <th>2</th>\n      <td>10/10Top ratedSuccess Academy Charter School-Harlem 4 240 West 113th Street, New York, NY, 10026 Homes for sale</td>\n      <td>Public charter</td>\n      <td>K-4</td>\n      <td>580</td>\n      <td>16:1</td>\n      <td>5 reviews</td>\n      <td>Nyc Geog District # 3 - Manhattan</td>\n    </tr>\n    <tr>\n      <th>3</th>\n      <td>10/10Top ratedEast Side Elementary School, PS 267213 East 63rd Street, New York, NY, 10065 Homes for sale</td>\n      <td>Public district</td>\n      <td>K-5</td>\n      <td>397</td>\n      <td>14:1</td>\n      <td>31 reviews</td>\n      <td>Nyc Geog District # 2 - Manhattan</td>\n    </tr>\n    <tr>\n      <th>4</th>\n      <td>10/10Top ratedP.S. 527 East Side School-Social Actio323 East 91st Street, New York, NY, 10128 Homes for sale</td>\n      <td>Public district</td>\n      <td>K-5</td>\n      <td>384</td>\n      <td>14:1</td>\n      <td>11 reviews</td>\n      <td>Nyc Geog District # 2 - Manhattan</td>\n    </tr>\n    <tr>\n      <th>5</th>\n      <td>10/10Top ratedSuccess Academy Hell's Kitchen439 West 49th Street, New York, NY, 10019 Homes for sale</td>\n      <td>Public charter</td>\n      <td>K-4</td>\n      <td>481</td>\n      <td>23:1</td>\n      <td>11 reviews</td>\n      <td>Nyc Geog District # 2 - Manhattan</td>\n    </tr>\n    <tr>\n      <th>6</th>\n      <td>10/10Top ratedManhattan Village Academy43 West 22nd Street, New York, NY, 10010 Homes for sale</td>\n      <td>Public district</td>\n      <td>9-12</td>\n      <td>455</td>\n      <td>15:1</td>\n      <td>6 reviews</td>\n      <td>Nyc Geog District # 2 - Manhattan</td>\n    </tr>\n    <tr>\n      <th>7</th>\n      <td>10/10Top ratedPs 290 Manhattan New School311 East 82nd Street, New York, NY, 10028 Homes for sale</td>\n      <td>Public district</td>\n      <td>PK-5</td>\n      <td>628</td>\n      <td>15:1</td>\n      <td>18 reviews</td>\n      <td>Nyc Geog District # 2 - Manhattan</td>\n    </tr>\n    <tr>\n      <th>8</th>\n      <td>10/10Top ratedPs 6 Lillie D Blake45 East 81st Street, New York, NY, 10028 Homes for sale</td>\n      <td>Public district</td>\n      <td>PK-5</td>\n      <td>688</td>\n      <td>17:1</td>\n      <td>26 reviews</td>\n      <td>Nyc Geog District # 2 - Manhattan</td>\n    </tr>\n    <tr>\n      <th>9</th>\n      <td>10/10Top ratedP.S. 40 Augustus St.-Gaudens320 East 20th Street, New York, NY, 10003 Homes for sale</td>\n      <td>Public district</td>\n      <td>PK-5</td>\n      <td>679</td>\n      <td>17:1</td>\n      <td>10 reviews</td>\n      <td>Nyc Geog District # 2 - Manhattan</td>\n    </tr>\n    <tr>\n      <th>10</th>\n      <td>10/10Top ratedPs 59 Beekman Hill International231 East 56th Street, New York, NY, 10022 Homes for sale</td>\n      <td>Public district</td>\n      <td>PK-5</td>\n      <td>611</td>\n      <td>14:1</td>\n      <td>12 reviews</td>\n      <td>Nyc Geog District # 2 - Manhattan</td>\n    </tr>\n    <tr>\n      <th>11</th>\n      <td>10/10Top ratedPs 87 William Sherman160 West 78th Street, New York, NY, 10024 Homes for sale</td>\n      <td>Public district</td>\n      <td>PK-5</td>\n      <td>881</td>\n      <td>13:1</td>\n      <td>24 reviews</td>\n      <td>Nyc Geog District # 3 - Manhattan</td>\n    </tr>\n    <tr>\n      <th>12</th>\n      <td>10/10Top ratedPs 150334 Greenwich Street, New York, NY, 10013 Homes for sale</td>\n      <td>Public district</td>\n      <td>PK-5</td>\n      <td>188</td>\n      <td>17:1</td>\n      <td>2 reviews</td>\n      <td>Nyc Geog District # 2 - Manhattan</td>\n    </tr>\n    <tr>\n      <th>13</th>\n      <td>10/10Top ratedPs 199 Jessie Isador Straus270 West 70th Street, New York, NY, 10023 Homes for sale</td>\n      <td>Public district</td>\n      <td>K-5</td>\n      <td>851</td>\n      <td>15:1</td>\n      <td>11 reviews</td>\n      <td>Nyc Geog District # 3 - Manhattan</td>\n    </tr>\n    <tr>\n      <th>14</th>\n      <td>10/10Top ratedStuyvesant High School345 Chambers Street, New York, NY, 10282 Homes for sale</td>\n      <td>Public district</td>\n      <td>9-12</td>\n      <td>3334</td>\n      <td>20:1</td>\n      <td>26 reviews</td>\n      <td>Nyc Geog District # 2 - Manhattan</td>\n    </tr>\n    <tr>\n      <th>15</th>\n      <td>10/10Top ratedPs 89201 Warren Street, New York, NY, 10282 Homes for sale</td>\n      <td>Public district</td>\n      <td>PK-5</td>\n      <td>432</td>\n      <td>16:1</td>\n      <td>13 reviews</td>\n      <td>Nyc Geog District # 2 - Manhattan</td>\n    </tr>\n    <tr>\n      <th>16</th>\n      <td>10/10Top ratedPs 234 Independence School292 Greenwich Street, New York, NY, 10007 Homes for sale</td>\n      <td>Public district</td>\n      <td>K-5</td>\n      <td>642</td>\n      <td>14:1</td>\n      <td>16 reviews</td>\n      <td>Nyc Geog District # 2 - Manhattan</td>\n    </tr>\n    <tr>\n      <th>17</th>\n      <td>10/10Top ratedThe Mott Hall School71 Convent Avenue, New York, NY, 10027 Homes for sale</td>\n      <td>Public district</td>\n      <td>6-8</td>\n      <td>292</td>\n      <td>13:1</td>\n      <td>14 reviews</td>\n      <td>Nyc Geog District # 6 - Manhattan</td>\n    </tr>\n    <tr>\n      <th>18</th>\n      <td>10/10Top ratedPs 184 Shuang Wen327 Cherry Street, New York, NY, 10002 Homes for sale</td>\n      <td>Public district</td>\n      <td>PK-8</td>\n      <td>682</td>\n      <td>13:1</td>\n      <td>19 reviews</td>\n      <td>Nyc Geog District # 1 - Manhattan</td>\n    </tr>\n    <tr>\n      <th>19</th>\n      <td>10/10Top ratedPs 77 Lower Lab School1700 3rd Avenue, New York, NY, 10128 Homes for sale</td>\n      <td>Public district</td>\n      <td>K-5</td>\n      <td>357</td>\n      <td>20:1</td>\n      <td>14 reviews</td>\n      <td>Nyc Geog District # 2 - Manhattan</td>\n    </tr>\n    <tr>\n      <th>20</th>\n      <td>10/10Top ratedEleanor Roosevelt High School411 East 76th Street, New York, NY, 10021 Homes for sale</td>\n      <td>Public district</td>\n      <td>9-12</td>\n      <td>538</td>\n      <td>16:1</td>\n      <td>10 reviews</td>\n      <td>Nyc Geog District # 2 - Manhattan</td>\n    </tr>\n    <tr>\n      <th>21</th>\n      <td>10/10Top ratedMillennium High School75 Broad Street, New York, NY, 10004 Homes for sale</td>\n      <td>Public district</td>\n      <td>9-12</td>\n      <td>668</td>\n      <td>17:1</td>\n      <td>14 reviews</td>\n      <td>Nyc Geog District # 2 - Manhattan</td>\n    </tr>\n    <tr>\n      <th>22</th>\n      <td>10/10Top ratedManhattan/Hunter Science High School122 Amsterdam Avenue, New York, NY, 10023 Homes for sale</td>\n      <td>Public district</td>\n      <td>9-12</td>\n      <td>441</td>\n      <td>18:1</td>\n      <td>14 reviews</td>\n      <td>Nyc Geog District # 3 - Manhattan</td>\n    </tr>\n    <tr>\n      <th>23</th>\n      <td>10/10Top ratedMuscota4862 Broadway, New York, NY, 10034 Homes for sale</td>\n      <td>Public district</td>\n      <td>K-5</td>\n      <td>292</td>\n      <td>13:1</td>\n      <td>9 reviews</td>\n      <td>Nyc Geog District # 6 - Manhattan</td>\n    </tr>\n    <tr>\n      <th>24</th>\n      <td>10/10Top ratedHigh School Math Science And Engineering At Ccny240 Convent Avenue, New York, NY, 10031 Homes for sale</td>\n      <td>Public district</td>\n      <td>9-12</td>\n      <td>500</td>\n      <td>16:1</td>\n      <td>9 reviews</td>\n      <td>Nyc Geog District # 5 - Manhattan</td>\n    </tr>\n  </tbody>\n</table>\n</div>"
     },
     "metadata": {},
     "execution_count": 10
    }
   ],
   "source": [
    "df"
   ]
  },
  {
   "cell_type": "code",
   "execution_count": null,
   "metadata": {},
   "outputs": [],
   "source": []
  }
 ]
}