{
 "metadata": {
  "language_info": {
   "codemirror_mode": {
    "name": "ipython",
    "version": 3
   },
   "file_extension": ".py",
   "mimetype": "text/x-python",
   "name": "python",
   "nbconvert_exporter": "python",
   "pygments_lexer": "ipython3",
   "version": "3.8.6"
  },
  "orig_nbformat": 2,
  "kernelspec": {
   "name": "python386jvsc74a57bd02419ad2920cdc1fadb8f0ae6c1b14e969f8d411f4ecfa904fb0f4ff9d9e2f541",
   "display_name": "Python 3.8.6 64-bit ('3.8.6': pyenv)"
  }
 },
 "nbformat": 4,
 "nbformat_minor": 2,
 "cells": [
  {
   "cell_type": "code",
   "execution_count": 1,
   "metadata": {},
   "outputs": [
    {
     "output_type": "stream",
     "name": "stderr",
     "text": [
      "/Users/jisha/.pyenv/versions/3.8.6/lib/python3.8/site-packages/pandas/compat/__init__.py:120: UserWarning: Could not import the lzma module. Your installed Python is incomplete. Attempting to use lzma compression will result in a RuntimeError.\n  warnings.warn(msg)\n"
     ]
    }
   ],
   "source": [
    "import pandas as pd\n",
    "pd.set_option('display.max_colwidth', None)\n",
    "pd.set_option('display.max_rows', 10)"
   ]
  },
  {
   "cell_type": "code",
   "execution_count": 2,
   "metadata": {},
   "outputs": [],
   "source": [
    "missing = pd.read_csv('files/missing_schools.csv')"
   ]
  },
  {
   "cell_type": "code",
   "execution_count": 3,
   "metadata": {},
   "outputs": [
    {
     "output_type": "stream",
     "name": "stdout",
     "text": [
      "(8941, 10)\n"
     ]
    },
    {
     "output_type": "execute_result",
     "data": {
      "text/plain": [
       "   Unnamed: 0                                     School  Score  \\\n",
       "0           0             Jones College Prep High School  10/10   \n",
       "1           1  Northside College Preparatory High School  10/10   \n",
       "2           2     Payton College Preparatory High School  10/10   \n",
       "3           3        Devry Advantage Academy High School  10/10   \n",
       "4           4                   Westinghouse High School   9/10   \n",
       "\n",
       "          Rating                                           Address  \\\n",
       "0      Top rated        700 South State Street, Chicago, IL, 60605   \n",
       "1      Top rated      5501 North Kedzie Avenue, Chicago, IL, 60625   \n",
       "2      Top rated       1034 North Wells Street, Chicago, IL, 60610   \n",
       "3      Top rated    3300 North Campbell Avenue, Chicago, IL, 60618   \n",
       "4  Above average  3223 West Franklin Boulevard, Chicago, IL, 60624   \n",
       "\n",
       "              Type Grades  Total Students Enrolled Students per teacher  \\\n",
       "0  Public district   9-12                   1861.0                 17:1   \n",
       "1  Public district   9-12                   1061.0                 16:1   \n",
       "2  Public district   9-12                   1073.0                 15:1   \n",
       "3  Public district  11-12                    193.0                 18:1   \n",
       "4  Public district   9-12                   1192.0                 16:1   \n",
       "\n",
       "                              District  \n",
       "0  City Of Chicago School District 299  \n",
       "1  City Of Chicago School District 299  \n",
       "2  City Of Chicago School District 299  \n",
       "3  City Of Chicago School District 299  \n",
       "4  City Of Chicago School District 299  "
      ],
      "text/html": "<div>\n<style scoped>\n    .dataframe tbody tr th:only-of-type {\n        vertical-align: middle;\n    }\n\n    .dataframe tbody tr th {\n        vertical-align: top;\n    }\n\n    .dataframe thead th {\n        text-align: right;\n    }\n</style>\n<table border=\"1\" class=\"dataframe\">\n  <thead>\n    <tr style=\"text-align: right;\">\n      <th></th>\n      <th>Unnamed: 0</th>\n      <th>School</th>\n      <th>Score</th>\n      <th>Rating</th>\n      <th>Address</th>\n      <th>Type</th>\n      <th>Grades</th>\n      <th>Total Students Enrolled</th>\n      <th>Students per teacher</th>\n      <th>District</th>\n    </tr>\n  </thead>\n  <tbody>\n    <tr>\n      <th>0</th>\n      <td>0</td>\n      <td>Jones College Prep High School</td>\n      <td>10/10</td>\n      <td>Top rated</td>\n      <td>700 South State Street, Chicago, IL, 60605</td>\n      <td>Public district</td>\n      <td>9-12</td>\n      <td>1861.0</td>\n      <td>17:1</td>\n      <td>City Of Chicago School District 299</td>\n    </tr>\n    <tr>\n      <th>1</th>\n      <td>1</td>\n      <td>Northside College Preparatory High School</td>\n      <td>10/10</td>\n      <td>Top rated</td>\n      <td>5501 North Kedzie Avenue, Chicago, IL, 60625</td>\n      <td>Public district</td>\n      <td>9-12</td>\n      <td>1061.0</td>\n      <td>16:1</td>\n      <td>City Of Chicago School District 299</td>\n    </tr>\n    <tr>\n      <th>2</th>\n      <td>2</td>\n      <td>Payton College Preparatory High School</td>\n      <td>10/10</td>\n      <td>Top rated</td>\n      <td>1034 North Wells Street, Chicago, IL, 60610</td>\n      <td>Public district</td>\n      <td>9-12</td>\n      <td>1073.0</td>\n      <td>15:1</td>\n      <td>City Of Chicago School District 299</td>\n    </tr>\n    <tr>\n      <th>3</th>\n      <td>3</td>\n      <td>Devry Advantage Academy High School</td>\n      <td>10/10</td>\n      <td>Top rated</td>\n      <td>3300 North Campbell Avenue, Chicago, IL, 60618</td>\n      <td>Public district</td>\n      <td>11-12</td>\n      <td>193.0</td>\n      <td>18:1</td>\n      <td>City Of Chicago School District 299</td>\n    </tr>\n    <tr>\n      <th>4</th>\n      <td>4</td>\n      <td>Westinghouse High School</td>\n      <td>9/10</td>\n      <td>Above average</td>\n      <td>3223 West Franklin Boulevard, Chicago, IL, 60624</td>\n      <td>Public district</td>\n      <td>9-12</td>\n      <td>1192.0</td>\n      <td>16:1</td>\n      <td>City Of Chicago School District 299</td>\n    </tr>\n  </tbody>\n</table>\n</div>"
     },
     "metadata": {},
     "execution_count": 3
    }
   ],
   "source": [
    "print(missing.shape)\n",
    "missing.head()"
   ]
  },
  {
   "cell_type": "code",
   "execution_count": 4,
   "metadata": {},
   "outputs": [],
   "source": [
    "# Adresses\n",
    "missing['Address'] = missing['Address'].str.replace('5115 North Mont Clare Avenue Chicago, IL 60656, Chicago, IL, 60656', '5115 North Mont Clare Avenue, Chicago, IL, 60656')\n",
    "missing['Address'] = missing['Address'].str.replace('11000 Scott St, Houston, Houston, TX, 77047', '11000 Scott St, Houston, TX, 77047')\n",
    "missing['Address'] = missing['Address'].str.replace('3911 Campbell Rd., Ho, Houston, TX, 77080', '3911 Campbell Rd., Houston, TX, 77080')\n",
    "missing['Address'] = missing['Address'].str.replace('8805 Ferndale, Houston, Houston, TX, 77017', '8805 Ferndale, Houston, TX, 77017')\n",
    "missing['Address'] = missing['Address'].str.replace('4240 E. Olympic Blvd. Los Angeles, CA 90023, Los Angeles, CA, 90063', '4240 E. Olympic Blvd., Los Angeles, CA, 90023')\n",
    "missing['Address'] = missing['Address'].str.replace('1263 S Soto St Los Angeles, CA 90023 , Los Angeles, CA, 90031', '1263 S Soto St, Los Angeles, CA, 90023')\n",
    "missing['Address'] = missing['Address'].str.replace('95 NW 23rd St Miami, FL 33127, Miami, FL, 33137', '95 NW 23rd St, Miami, FL, 33127')\n",
    "missing['Address'] = missing['Address'].str.replace('12101 SW 34 St. MIAMI, FL. 33175, Miami, FL, 33175', '12101 SW 34 St., Miami, FL, 33175')\n",
    "missing['Address'] = missing['Address'].str.replace('332 West 43rd Street, New York NY 10036, New York, NY, 10025', '332 West 43rd Street, New York, NY, 10025')\n",
    "missing['Address'] = missing['Address'].str.replace('120 Wadsworth Avenue New York, N.Y. 10033, New York, NY, 10033', '120 Wadsworth Avenue, New York, NY, 10033')\n",
    "missing['Address'] = missing['Address'].str.replace('5311 Merlin Dr San Antonio, Texas 78218, San Antonio, TX, 78218', '5311 Merlin Dr, San Antonio, TX, 78218')\n",
    "missing['Address'] = missing['Address'].str.replace('8565 Ewing Halsell Drive San Antonio, Texas 78229, San Antonio, TX, 78229', '8565 Ewing Halsell Drive, San Antonio, TX, 78229')\n",
    "missing['Address'] = missing['Address'].str.replace('4419 S Normandie Ave La, Ca 90037, Los Angeles, CA, 90007', '4419 S Normandie Ave, Los Angeles, CA, 90037')\n",
    "\n",
    "missing['Address'] = missing['Address'].str.replace('2521 Grove Street, Blue Island, IL 60406, Chicago, IL, 60643', '2521 Grove Street, Blue Island, IL, 60406')\n",
    "missing['Address'] = missing['Address'].str.replace('1913 Southwest Fwy #B, Houston, TX 77098, Houston, TX, 77030', '1913 Southwest Fwy #B, Houston, TX, 77098')\n",
    "missing['Address'] = missing['Address'].str.replace('4009 Sherwood Lane, Houston, TX 77092, Houston, TX, 77092', '4009 Sherwood Lane, Houston, TX, 77092')\n",
    "missing['Address'] = missing['Address'].str.replace('1600 W. Imperial Highway, Los Angeles, CA 90047, Los Angeles, CA, 90045', '1600 W. Imperial Highway, Los Angeles, CA, 90047')\n",
    "missing['Address'] = missing['Address'].str.replace('131 E. 50th Street, Los Angles, CA 90011, Los Angeles, CA, 90011', '131 E. 50th Street, Los Angeles, CA, 90011')\n",
    "missing['Address'] = missing['Address'].str.replace('4301 West Martin Luther King Jr. Boulevard, Los Angeles, CA 90008, Los Angeles, CA, 90016', '4301 West Martin Luther King Jr. Boulevard, Los Angeles, CA, 90008')\n",
    "missing['Address'] = missing['Address'].str.replace('8515 Kansas Avenue, Los Angeles, CA 90044, Los Angeles, CA, 90047', '8515 Kansas Avenue, Los Angeles, CA, 90044')\n",
    "missing['Address'] = missing['Address'].str.replace('1989 Westwood Blvd, LA, CA 90025, Los Angeles, CA, 90025', '1989 Westwood Blvd, Los Angeles, CA, 90025')\n",
    "missing['Address'] = missing['Address'].str.replace('6601 NW 167th St, Hialeah, FL 33015, Miami, FL, 33015', '6601 NW 167th St, Hialeah, FL, 33015')\n",
    "missing['Address'] = missing['Address'].str.replace('7412 Sunset Drive, Miami, FL 33143, Miami, FL, 33176', '7412 Sunset Drive, Miami, FL, 33143')\n",
    "missing['Address'] = missing['Address'].str.replace('259 10th Avenue, New York, NY 10001, New York, NY, 10001', '259 10th Avenue, New York, NY, 10001')\n",
    "\n",
    "missing['Address'] = missing['Address'].str.replace('2212 Third Avenue, 2nd Floor, New York, NY 10035, New York, NY, 10065', '2212 Third Avenue, 2nd Floor, New York, NY, 10035')\n",
    "\n",
    "missing['Address'] = missing['Address'].str.replace('10126 South Western, CHICAGO, IL, 60643', '10126 South Western, Chicago, IL, 60643')\n",
    "missing['Address'] = missing['Address'].str.replace('38 delancey st., new york, NY, 10002', '38 Delancey St., New York, NY, 10002')\n",
    "missing['Address'] = missing['Address'].str.replace('40 Rector Street, new york, NY, 10006', '40 Rector Street, New York, NY, 10006')\n",
    "\n",
    "# specific\n",
    "missing.at[3886, 'Address'] = '4240 E. Olympic Blvd., Los Angeles, CA, 90023'"
   ]
  },
  {
   "source": [
    "### Split Address Column"
   ],
   "cell_type": "markdown",
   "metadata": {}
  },
  {
   "cell_type": "code",
   "execution_count": 5,
   "metadata": {},
   "outputs": [],
   "source": [
    "missing['City, State'] = missing['Address'].str.split(',')"
   ]
  },
  {
   "source": [
    "### Create Lengths to find discrepancies in Address column"
   ],
   "cell_type": "markdown",
   "metadata": {}
  },
  {
   "cell_type": "code",
   "execution_count": 6,
   "metadata": {},
   "outputs": [
    {
     "output_type": "execute_result",
     "data": {
      "text/plain": [
       "array([4, 5, 6])"
      ]
     },
     "metadata": {},
     "execution_count": 6
    }
   ],
   "source": [
    "# Finding length because there are anomalies with the information in the address column\n",
    "missing['Length'] = missing['City, State'].apply(lambda x: len(x) if x != None else 0 )\n",
    "# 4 is the expected length \n",
    "missing['Length'].unique()"
   ]
  },
  {
   "source": [
    "### Create City, State column"
   ],
   "cell_type": "markdown",
   "metadata": {}
  },
  {
   "cell_type": "code",
   "execution_count": 7,
   "metadata": {},
   "outputs": [],
   "source": [
    "missing['City']  = missing['City, State'].str[-3]"
   ]
  },
  {
   "cell_type": "code",
   "execution_count": 8,
   "metadata": {},
   "outputs": [],
   "source": [
    "missing['State']  = missing['City, State'].str[-2]"
   ]
  },
  {
   "source": [
    "### Check for Unique Cities \n",
    "- should be about 5 (maybe slightly more after cleaning addresses)"
   ],
   "cell_type": "markdown",
   "metadata": {}
  },
  {
   "cell_type": "code",
   "execution_count": 9,
   "metadata": {},
   "outputs": [
    {
     "output_type": "stream",
     "name": "stdout",
     "text": [
      "8\n"
     ]
    },
    {
     "output_type": "execute_result",
     "data": {
      "text/plain": [
       "array([' Chicago', ' Blue Island', ' Houston', ' Los Angeles', ' Miami',\n",
       "       ' Hialeah', ' New York', ' San Antonio'], dtype=object)"
      ]
     },
     "metadata": {},
     "execution_count": 9
    }
   ],
   "source": [
    "print(missing['City'].nunique())\n",
    "missing['City'].unique()"
   ]
  },
  {
   "source": [
    "### Check for Unique States\n",
    "- expecting 5"
   ],
   "cell_type": "markdown",
   "metadata": {}
  },
  {
   "cell_type": "code",
   "execution_count": 10,
   "metadata": {},
   "outputs": [
    {
     "output_type": "stream",
     "name": "stdout",
     "text": [
      "5\n"
     ]
    },
    {
     "output_type": "execute_result",
     "data": {
      "text/plain": [
       "array([' IL', ' TX', ' CA', ' FL', ' NY'], dtype=object)"
      ]
     },
     "metadata": {},
     "execution_count": 10
    }
   ],
   "source": [
    "print(missing['State'].nunique())\n",
    "missing['State'].unique()"
   ]
  },
  {
   "source": [
    "### Update School Scores"
   ],
   "cell_type": "markdown",
   "metadata": {}
  },
  {
   "cell_type": "code",
   "execution_count": 11,
   "metadata": {},
   "outputs": [],
   "source": [
    "missing['Score'] = missing['Score'].str.replace('/10', '')\n",
    "missing['Score'] = missing['Score'].astype(int)"
   ]
  },
  {
   "source": [
    "### Filling NaNs"
   ],
   "cell_type": "markdown",
   "metadata": {}
  },
  {
   "cell_type": "code",
   "execution_count": 12,
   "metadata": {},
   "outputs": [
    {
     "output_type": "execute_result",
     "data": {
      "text/plain": [
       "Unnamed: 0        0\n",
       "School            0\n",
       "Score             0\n",
       "Rating            0\n",
       "Address           0\n",
       "               ... \n",
       "District       5850\n",
       "City, State       0\n",
       "Length            0\n",
       "City              0\n",
       "State             0\n",
       "Length: 14, dtype: int64"
      ]
     },
     "metadata": {},
     "execution_count": 12
    }
   ],
   "source": [
    "missing.isna().sum()"
   ]
  },
  {
   "cell_type": "code",
   "execution_count": 13,
   "metadata": {},
   "outputs": [],
   "source": [
    "missing[['Total Students Enrolled', 'Students per teacher']] = missing[['Total Students Enrolled', 'Students per teacher']].fillna(0)"
   ]
  },
  {
   "cell_type": "code",
   "execution_count": 14,
   "metadata": {},
   "outputs": [],
   "source": [
    "missing['District'] = missing['District'].fillna('Unavailable')"
   ]
  },
  {
   "cell_type": "code",
   "execution_count": 15,
   "metadata": {},
   "outputs": [
    {
     "output_type": "execute_result",
     "data": {
      "text/plain": [
       "Unnamed: 0     0\n",
       "School         0\n",
       "Score          0\n",
       "Rating         0\n",
       "Address        0\n",
       "              ..\n",
       "District       0\n",
       "City, State    0\n",
       "Length         0\n",
       "City           0\n",
       "State          0\n",
       "Length: 14, dtype: int64"
      ]
     },
     "metadata": {},
     "execution_count": 15
    }
   ],
   "source": [
    "missing.isna().sum()"
   ]
  },
  {
   "source": [
    "### Can Drop City, State and Length Columns"
   ],
   "cell_type": "markdown",
   "metadata": {}
  },
  {
   "cell_type": "code",
   "execution_count": 16,
   "metadata": {},
   "outputs": [],
   "source": [
    "missing = missing.drop(columns = ['City, State', 'Length'])"
   ]
  },
  {
   "source": [
    "### Separate into PK, Elementary, Middle, High School"
   ],
   "cell_type": "markdown",
   "metadata": {}
  },
  {
   "cell_type": "code",
   "execution_count": 17,
   "metadata": {},
   "outputs": [],
   "source": [
    "def parse_grades(grades_string):\n",
    "    GRADES = ['PK', 'K', '1', '2', '3', '4', '5', '6', '7', '8', '9', '10', '11', '12', 'Ungraded']\n",
    "\n",
    "    # Remove & for grades list\n",
    "    grades_string = grades_string.replace(' &', ',')\n",
    "\n",
    "    # Grades list - will add to separated grade string to grades\n",
    "    grades = []\n",
    "\n",
    "    # split strings based on ','\n",
    "    string_list = grades_string.split(',')\n",
    "\n",
    "    # look for sections of list with '-'\n",
    "    dash = \"-\"\n",
    "    for i in range(len(string_list)):\n",
    "        clean_string = string_list[i].strip()\n",
    "        if dash in clean_string:\n",
    "            #  split using '-', loop and add to grades variable\n",
    "            start_grade, end_grade = clean_string.split(dash)\n",
    "            grades += GRADES[GRADES.index(start_grade) : GRADES.index(end_grade)+ 1]\n",
    "        else:\n",
    "            # add string to grades\n",
    "            grades.append(clean_string)\n",
    "\n",
    "    return grades"
   ]
  },
  {
   "cell_type": "code",
   "execution_count": 18,
   "metadata": {},
   "outputs": [
    {
     "output_type": "stream",
     "name": "stdout",
     "text": [
      "134\n"
     ]
    }
   ],
   "source": [
    "print(missing['Grades'].nunique())\n",
    "unique_grades_combination  = missing['Grades'].unique()"
   ]
  },
  {
   "cell_type": "code",
   "execution_count": 19,
   "metadata": {},
   "outputs": [],
   "source": [
    "def test_complete_dataset(unique_grades_combination):\n",
    "    # create a loop that goes thru dataset and invoke parse_grades with each element\n",
    "    separated_grades_list = []\n",
    "    for i in unique_grades_combination:\n",
    "        separated_grades_list.append(parse_grades(i))\n",
    "\n",
    "    dictionary_grade_list = dict(zip(unique_grades_combination, separated_grades_list))\n",
    "\n",
    "    return dictionary_grade_list"
   ]
  },
  {
   "cell_type": "code",
   "execution_count": 20,
   "metadata": {},
   "outputs": [],
   "source": [
    "dictionary = test_complete_dataset(unique_grades_combination)"
   ]
  },
  {
   "cell_type": "code",
   "execution_count": 21,
   "metadata": {},
   "outputs": [],
   "source": [
    "missing['Clean_Grades'] = missing['Grades'].map(dictionary)"
   ]
  },
  {
   "cell_type": "code",
   "execution_count": 23,
   "metadata": {},
   "outputs": [],
   "source": [
    "# https://stackoverflow.com/questions/53350793/how-to-check-if-pandas-column-has-value-from-list-of-string"
   ]
  },
  {
   "cell_type": "code",
   "execution_count": 24,
   "metadata": {},
   "outputs": [],
   "source": [
    "high_school = ['9', '10', '11', '12']\n",
    "middle_school = ['6', '7', '8']\n",
    "elementary = ['K', '1', '2', '3', '4', '5']\n",
    "pre_k = ['PK']"
   ]
  },
  {
   "cell_type": "code",
   "execution_count": 25,
   "metadata": {},
   "outputs": [],
   "source": [
    "set1 = set(high_school)\n",
    "missing['High School (9-12)'] = missing['Clean_Grades'].apply(lambda x: any([k in x for k in set1]))"
   ]
  },
  {
   "cell_type": "code",
   "execution_count": 26,
   "metadata": {},
   "outputs": [],
   "source": [
    "set2 = set(middle_school)\n",
    "missing['Middle School (6-8)'] = missing['Clean_Grades'].apply(lambda x: any([k in x for k in set2]))"
   ]
  },
  {
   "cell_type": "code",
   "execution_count": 27,
   "metadata": {},
   "outputs": [],
   "source": [
    "set3 = set(elementary)\n",
    "missing['Elementary (K-5)'] = missing['Clean_Grades'].apply(lambda x: any([k in x for k in set3]))"
   ]
  },
  {
   "cell_type": "code",
   "execution_count": 28,
   "metadata": {},
   "outputs": [],
   "source": [
    "set4 = set(pre_k)\n",
    "missing['Pre-Kindergarten (PK)'] = missing['Clean_Grades'].apply(lambda x: any([k in x for k in set4]))"
   ]
  },
  {
   "cell_type": "code",
   "execution_count": 29,
   "metadata": {},
   "outputs": [],
   "source": [
    "missing[['High School (9-12)', 'Middle School (6-8)', 'Elementary (K-5)', 'Pre-Kindergarten (PK)']] = missing[['High School (9-12)', 'Middle School (6-8)', 'Elementary (K-5)', 'Pre-Kindergarten (PK)']] * 1"
   ]
  },
  {
   "cell_type": "code",
   "execution_count": 30,
   "metadata": {},
   "outputs": [],
   "source": [
    "missing['Grades'] = missing['Grades'].str.replace(' & Ungraded', '')"
   ]
  },
  {
   "cell_type": "code",
   "execution_count": 35,
   "metadata": {},
   "outputs": [
    {
     "output_type": "execute_result",
     "data": {
      "text/plain": [
       "      Unnamed: 0            School  Score             Rating  \\\n",
       "1266        1266  Learning Network      0  Currently unrated   \n",
       "\n",
       "                                        Address     Type     Grades  \\\n",
       "1266  5911 West Midway Park, Chicago, IL, 60644  Private  PK-3, 5-8   \n",
       "\n",
       "      Total Students Enrolled Students per teacher     District     City  \\\n",
       "1266                      0.0                  NaN  Unavailable  Chicago   \n",
       "\n",
       "     State                  Clean_Grades  High School (9-12)  \\\n",
       "1266    IL  [PK, K, 1, 2, 3, 5, 6, 7, 8]                   0   \n",
       "\n",
       "      Middle School (6-8)  Elementary (K-5)  Pre-Kindergarten (PK)  \n",
       "1266                    1                 1                      1  "
      ],
      "text/html": "<div>\n<style scoped>\n    .dataframe tbody tr th:only-of-type {\n        vertical-align: middle;\n    }\n\n    .dataframe tbody tr th {\n        vertical-align: top;\n    }\n\n    .dataframe thead th {\n        text-align: right;\n    }\n</style>\n<table border=\"1\" class=\"dataframe\">\n  <thead>\n    <tr style=\"text-align: right;\">\n      <th></th>\n      <th>Unnamed: 0</th>\n      <th>School</th>\n      <th>Score</th>\n      <th>Rating</th>\n      <th>Address</th>\n      <th>Type</th>\n      <th>Grades</th>\n      <th>Total Students Enrolled</th>\n      <th>Students per teacher</th>\n      <th>District</th>\n      <th>City</th>\n      <th>State</th>\n      <th>Clean_Grades</th>\n      <th>High School (9-12)</th>\n      <th>Middle School (6-8)</th>\n      <th>Elementary (K-5)</th>\n      <th>Pre-Kindergarten (PK)</th>\n    </tr>\n  </thead>\n  <tbody>\n    <tr>\n      <th>1266</th>\n      <td>1266</td>\n      <td>Learning Network</td>\n      <td>0</td>\n      <td>Currently unrated</td>\n      <td>5911 West Midway Park, Chicago, IL, 60644</td>\n      <td>Private</td>\n      <td>PK-3, 5-8</td>\n      <td>0.0</td>\n      <td>NaN</td>\n      <td>Unavailable</td>\n      <td>Chicago</td>\n      <td>IL</td>\n      <td>[PK, K, 1, 2, 3, 5, 6, 7, 8]</td>\n      <td>0</td>\n      <td>1</td>\n      <td>1</td>\n      <td>1</td>\n    </tr>\n  </tbody>\n</table>\n</div>"
     },
     "metadata": {},
     "execution_count": 35
    }
   ],
   "source": [
    "missing.loc[missing['Grades'] == 'PK-3, 5-8']"
   ]
  },
  {
   "source": [
    "### Clean Extra Spaces"
   ],
   "cell_type": "markdown",
   "metadata": {}
  },
  {
   "cell_type": "code",
   "execution_count": 22,
   "metadata": {},
   "outputs": [],
   "source": [
    "missing['City'] = missing['City'].str.strip()\n",
    "missing['State'] = missing['State'].str.strip()\n",
    "missing['Address'] = missing['Address'].str.strip()\n",
    "missing['School'] = missing['School'].str.strip()\n",
    "missing['Rating'] = missing['Rating'].str.strip()\n",
    "missing['Address'] = missing['Address'].str.strip()\n",
    "missing['Type'] = missing['Type'].str.strip()\n",
    "missing['Grades'] = missing['Grades'].str.strip()\n",
    "missing['Students per teacher'] = missing['Students per teacher'].str.strip()\n",
    "missing['District'] = missing['District'].str.strip()"
   ]
  },
  {
   "cell_type": "code",
   "execution_count": null,
   "metadata": {},
   "outputs": [],
   "source": []
  }
 ]
}