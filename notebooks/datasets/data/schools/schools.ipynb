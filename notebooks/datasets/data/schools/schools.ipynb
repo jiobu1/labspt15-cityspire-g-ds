{
 "metadata": {
  "language_info": {
   "codemirror_mode": {
    "name": "ipython",
    "version": 3
   },
   "file_extension": ".py",
   "mimetype": "text/x-python",
   "name": "python",
   "nbconvert_exporter": "python",
   "pygments_lexer": "ipython3",
   "version": "3.8.6-final"
  },
  "orig_nbformat": 2,
  "kernelspec": {
   "name": "python3",
   "display_name": "Python 3.8.6 64-bit ('3.8.6')",
   "metadata": {
    "interpreter": {
     "hash": "2419ad2920cdc1fadb8f0ae6c1b14e969f8d411f4ecfa904fb0f4ff9d9e2f541"
    }
   }
  }
 },
 "nbformat": 4,
 "nbformat_minor": 2,
 "cells": [
  {
   "source": [
    "## Creating schools.csv\n",
    "\n",
    "1. Install packages\n",
    "2. Create cities.csv with full state name/ city column to use in getting school information\n",
    "3. For persisitance creating a schools csv using selenium to get school information from greatschools.org\n",
    "4. Clean csv for use in schools endpoint"
   ],
   "cell_type": "markdown",
   "metadata": {}
  },
  {
   "source": [
    "### 1. Import necessary libraries"
   ],
   "cell_type": "markdown",
   "metadata": {}
  },
  {
   "cell_type": "code",
   "execution_count": 1,
   "metadata": {},
   "outputs": [],
   "source": [
    "# import os\n",
    "# import requests\n",
    "# import csv\n",
    "# import json\n",
    "# import pandas as pd\n",
    "# from state_abbr import us_state_abbrev as abbr\n",
    "# from selenium import webdriver\n",
    "# import urllib.parse"
   ]
  },
  {
   "source": [
    "### 2.  Create cities.csv with full state name/ city column to use in getting school information"
   ],
   "cell_type": "markdown",
   "metadata": {}
  },
  {
   "cell_type": "code",
   "execution_count": 2,
   "metadata": {},
   "outputs": [],
   "source": [
    "# pwd = os.getcwd()\n",
    "\n",
    "# # create city state list\n",
    "# cities = pd.read_excel('notebooks/datasets/data/schools/csv/List of Cities.xlsx')\n",
    "\n",
    "# # just get the second and third colun\n",
    "# cities = cities[['Unnamed: 1','Unnamed: 2']]\n",
    "\n",
    "# # create new dictionary with reversed key, value pairs\n",
    "# full = dict(map(reversed, abbr.items()))\n",
    "\n",
    "# # map state abbreviations to full name\n",
    "# cities['states'] = cities['Unnamed: 2'].map(full)\n",
    "\n",
    "# # making sure state/city combo conform to url format of \"-\" for \" \"\n",
    "# cities['states'] = cities['states'].str.strip()\n",
    "# cities['states'] = cities['states'].str.replace(\" \", \"-\")\n",
    "# cities['Unnamed: 1'] = cities['Unnamed: 1'].str.replace(\" \", \"-\")\n",
    "\n",
    "# # remove extraneous header rows\n",
    "# cities = cities.iloc[2:]\n",
    "# cities['city'] = (cities['states'] + '/'+ cities['Unnamed: 1']).str.lower()\n",
    "# print(cities.head())\n",
    "\n",
    "# # persist by creating new csv\n",
    "# cities.to_csv('notebooks/datasets/data/schools/csv/cities.csv')"
   ]
  },
  {
   "source": [
    "### 3. For persisitance creating a schools csv using selenium to get school information from greatschools.org"
   ],
   "cell_type": "markdown",
   "metadata": {}
  },
  {
   "cell_type": "code",
   "execution_count": 3,
   "metadata": {},
   "outputs": [],
   "source": [
    "# # using selenium to get school information\n",
    "# driver = webdriver.Chrome()"
   ]
  },
  {
   "cell_type": "code",
   "execution_count": 4,
   "metadata": {},
   "outputs": [],
   "source": [
    "# # url for greatschools pre_url and post_url (with state/city inbetween)\n",
    "# url_pre = 'http://www.greatschools.org/'\n",
    "# url_post = '/schools/?tableView=Overview&view=table'\n",
    "\n",
    "# # Call cities csv to get cities stored in database\n",
    "# cities = pd.read_csv('notebooks/datasets/data/schools/csv/cities.csv')"
   ]
  },
  {
   "cell_type": "code",
   "execution_count": 5,
   "metadata": {},
   "outputs": [],
   "source": [
    "# # Looping through each city in the file\n",
    "\n",
    "# # create empty dataframe\n",
    "# df = pd.DataFrame()\n",
    "\n",
    "# for i in cities['city']:\n",
    "#     endpoint = url_pre + urllib.parse.quote(i) + url_post\n",
    "#     print(\"Fetching \", endpoint)\n",
    "#     driver.get(endpoint)\n",
    "#     html = driver.page_source\n",
    "#     table = pd.read_html(html)\n",
    "#     # appending to dataframe all the schhol information for current cities\n",
    "#     df = df.append(table[0])\n",
    "\n",
    "# driver.close()"
   ]
  },
  {
   "cell_type": "code",
   "execution_count": 6,
   "metadata": {},
   "outputs": [],
   "source": [
    "# # 5. For persisitance creating a schools csv\n",
    "# df.to_csv('notebooks/datasets/data/schools/csv/schools.csv')"
   ]
  },
  {
   "source": [
    "### 4a. Clean csv for use in schools endpoint"
   ],
   "cell_type": "markdown",
   "metadata": {}
  },
  {
   "cell_type": "code",
   "execution_count": 7,
   "metadata": {},
   "outputs": [
    {
     "output_type": "stream",
     "name": "stderr",
     "text": [
      "/Users/jisha/.pyenv/versions/3.8.6/lib/python3.8/site-packages/pandas/compat/__init__.py:120: UserWarning: Could not import the lzma module. Your installed Python is incomplete. Attempting to use lzma compression will result in a RuntimeError.\n  warnings.warn(msg)\n"
     ]
    }
   ],
   "source": [
    "import pandas as pd\n",
    "pd.set_option('display.max_colwidth', None)\n",
    "pd.set_option('display.max_rows', 50)"
   ]
  },
  {
   "cell_type": "code",
   "execution_count": 8,
   "metadata": {},
   "outputs": [],
   "source": [
    "df = pd.read_csv('csv/schools.csv')"
   ]
  },
  {
   "cell_type": "code",
   "execution_count": 9,
   "metadata": {},
   "outputs": [],
   "source": [
    "# Drop unused columns\n",
    "df = df.drop(columns=['Unnamed: 0', 'Reviews'])"
   ]
  },
  {
   "cell_type": "code",
   "execution_count": 10,
   "metadata": {},
   "outputs": [],
   "source": [
    "# Extract numerical rating\n",
    "df[['Score', 'School']] = df['School'].str.split('/10', n=2, expand=True)"
   ]
  },
  {
   "cell_type": "code",
   "execution_count": 11,
   "metadata": {},
   "outputs": [],
   "source": [
    "# Extract score \n",
    "# https://stackoverflow.com/questions/4416425/how-to-split-string-with-some-separator-but-without-removing-that-separator-in-j\n",
    "df['Rating'] = df['School'].str.split('(?<=[a-z])(?=[A-Z])')\n",
    "df['Rating'] = df['Rating'].str[0]"
   ]
  },
  {
   "cell_type": "code",
   "execution_count": 12,
   "metadata": {},
   "outputs": [],
   "source": [
    "# Cleaning strings\n",
    "\n",
    "# School\n",
    "df['School'] = df['School'].str.replace('Top rated', '')\n",
    "df['School'] = df['School'].str.replace('Above average', '')\n",
    "df['School'] = df['School'].str.replace('Average', '')\n",
    "df['School'] = df['School'].str.replace('Below average', '')\n",
    "df['School'] = df['School'].str.replace('None', '')\n",
    "df['School'] = df['School'].str.replace(' Homes for sale', '')\n",
    "df['School'] = df['School'].str.replace('2 awardsAwards & BadgesCollege Success Award2019, 2020See all winners in ', '')\n",
    "df['School'] = df['School'].str.replace('3 awardsAwards & BadgesCollege Success Award2019, 2020See all winners in ', '')\n",
    "\n",
    "# Score\n",
    "df['Rating'] = df['Rating'].str.replace('Below average7th & 8th Grade Center402 North S Street, Muskogee, OK, 74403 Homes for sale', 'Below average')\n",
    "df['Rating'] = df['Rating'].str.replace('Below average7th & 8th Grade Center402 North S Street, Muskogee, OK, 74403 Homes for sale', 'Below average')\n",
    "df['Rating'] = df['Rating'].str.replace('Average12th Street Elementary6501 South 12th Street, Portage, MI, 49024 Homes for sale', 'Average')\n",
    "df['Rating'] = df['Rating'].str.replace('Below average21st Century Preparatory School1220 Mound Avenue, Racine, WI, 53404 Homes for sale', 'Below average')\n",
    "df['Rating'] = df['Rating'].str.replace('Below averagee', 'Below average')\n",
    "df['Rating'] = df['Rating'].str.replace('Averagedu', 'Average')\n"
   ]
  },
  {
   "cell_type": "code",
   "execution_count": 13,
   "metadata": {},
   "outputs": [],
   "source": [
    "df['Address'] = df['School'].str.split('(?<=[a-z])(?=[0-9])')"
   ]
  },
  {
   "cell_type": "code",
   "execution_count": 14,
   "metadata": {},
   "outputs": [
    {
     "output_type": "execute_result",
     "data": {
      "text/plain": [
       "array([4, 2, 0, 1, 3])"
      ]
     },
     "metadata": {},
     "execution_count": 14
    }
   ],
   "source": [
    "# Finding length because there are anomalies with the information in the address column\n",
    "df['Length'] = df['Address'].apply(lambda x: len(x) if x != None else 0 )\n",
    "# 2 is the expected length -> school and address\n",
    "df['Length'].unique()"
   ]
  },
  {
   "cell_type": "code",
   "execution_count": 15,
   "metadata": {},
   "outputs": [],
   "source": [
    "# School Name \n",
    "df['School'] = df['Address'].str[0]"
   ]
  },
  {
   "cell_type": "code",
   "execution_count": 16,
   "metadata": {},
   "outputs": [],
   "source": [
    "# This where the address should be in most cases except the ones above\n",
    "df['Address'] = df['Address'].str[-1]"
   ]
  },
  {
   "cell_type": "code",
   "execution_count": 17,
   "metadata": {},
   "outputs": [
    {
     "output_type": "stream",
     "name": "stdout",
     "text": [
      "(9741, 10)\n"
     ]
    },
    {
     "output_type": "execute_result",
     "data": {
      "text/plain": [
       "                                School             Type Grades  \\\n",
       "0      Akron Early College High School  Public district   9-12   \n",
       "1                 Revere Middle School  Public district    6-8   \n",
       "2  Arrowhead Primary Elementary School  Public district    K-4   \n",
       "3             Manchester Middle School  Public district    5-8   \n",
       "4             Nolley Elementary School  Public district    K-4   \n",
       "\n",
       "   Total students enrolled Students per teacher  \\\n",
       "0                    384.0                 34:1   \n",
       "1                    624.0                 13:1   \n",
       "2                    345.0                 20:1   \n",
       "3                    387.0                 16:1   \n",
       "4                    483.0                 17:1   \n",
       "\n",
       "                               District Score         Rating  \\\n",
       "0            Akron City School District    10      Top rated   \n",
       "1          Revere Local School District     9  Above average   \n",
       "2  Copley-Fairlawn City School District     8  Above average   \n",
       "3      Manchester Local School District     8  Above average   \n",
       "4      Manchester Local School District     8  Above average   \n",
       "\n",
       "                                     Address  Length  \n",
       "0    225 South Main Street, Akron, OH, 44308       4  \n",
       "1  3195 Spring Valley Road, Akron, OH, 44333       2  \n",
       "2   1600 Raleigh Boulevard, Akron, OH, 44321       2  \n",
       "3   760 West Nimisila Road, Akron, OH, 44319       2  \n",
       "4        6285 Renninger Rd, Akron, OH, 44319       2  "
      ],
      "text/html": "<div>\n<style scoped>\n    .dataframe tbody tr th:only-of-type {\n        vertical-align: middle;\n    }\n\n    .dataframe tbody tr th {\n        vertical-align: top;\n    }\n\n    .dataframe thead th {\n        text-align: right;\n    }\n</style>\n<table border=\"1\" class=\"dataframe\">\n  <thead>\n    <tr style=\"text-align: right;\">\n      <th></th>\n      <th>School</th>\n      <th>Type</th>\n      <th>Grades</th>\n      <th>Total students enrolled</th>\n      <th>Students per teacher</th>\n      <th>District</th>\n      <th>Score</th>\n      <th>Rating</th>\n      <th>Address</th>\n      <th>Length</th>\n    </tr>\n  </thead>\n  <tbody>\n    <tr>\n      <th>0</th>\n      <td>Akron Early College High School</td>\n      <td>Public district</td>\n      <td>9-12</td>\n      <td>384.0</td>\n      <td>34:1</td>\n      <td>Akron City School District</td>\n      <td>10</td>\n      <td>Top rated</td>\n      <td>225 South Main Street, Akron, OH, 44308</td>\n      <td>4</td>\n    </tr>\n    <tr>\n      <th>1</th>\n      <td>Revere Middle School</td>\n      <td>Public district</td>\n      <td>6-8</td>\n      <td>624.0</td>\n      <td>13:1</td>\n      <td>Revere Local School District</td>\n      <td>9</td>\n      <td>Above average</td>\n      <td>3195 Spring Valley Road, Akron, OH, 44333</td>\n      <td>2</td>\n    </tr>\n    <tr>\n      <th>2</th>\n      <td>Arrowhead Primary Elementary School</td>\n      <td>Public district</td>\n      <td>K-4</td>\n      <td>345.0</td>\n      <td>20:1</td>\n      <td>Copley-Fairlawn City School District</td>\n      <td>8</td>\n      <td>Above average</td>\n      <td>1600 Raleigh Boulevard, Akron, OH, 44321</td>\n      <td>2</td>\n    </tr>\n    <tr>\n      <th>3</th>\n      <td>Manchester Middle School</td>\n      <td>Public district</td>\n      <td>5-8</td>\n      <td>387.0</td>\n      <td>16:1</td>\n      <td>Manchester Local School District</td>\n      <td>8</td>\n      <td>Above average</td>\n      <td>760 West Nimisila Road, Akron, OH, 44319</td>\n      <td>2</td>\n    </tr>\n    <tr>\n      <th>4</th>\n      <td>Nolley Elementary School</td>\n      <td>Public district</td>\n      <td>K-4</td>\n      <td>483.0</td>\n      <td>17:1</td>\n      <td>Manchester Local School District</td>\n      <td>8</td>\n      <td>Above average</td>\n      <td>6285 Renninger Rd, Akron, OH, 44319</td>\n      <td>2</td>\n    </tr>\n  </tbody>\n</table>\n</div>"
     },
     "metadata": {},
     "execution_count": 17
    }
   ],
   "source": [
    "print(df.shape)\n",
    "df.head()"
   ]
  },
  {
   "source": [
    "### 4b. Further cleaning"
   ],
   "cell_type": "markdown",
   "metadata": {}
  },
  {
   "cell_type": "code",
   "execution_count": 18,
   "metadata": {},
   "outputs": [],
   "source": [
    "# These are the rows that need extra tlc\n",
    "unrated = df.loc[df['Length'] == 0]\n",
    "single = df.loc[df['Length'] == 1]\n",
    "miscellaneous = df.loc[df['Length'] == 3]"
   ]
  },
  {
   "cell_type": "code",
   "execution_count": 19,
   "metadata": {},
   "outputs": [],
   "source": [
    "# Removing rows where the length is not 2 or 4\n",
    "df = df[df['Length'] != 0]\n",
    "df = df[df['Length'] != 1]\n",
    "df = df[df['Length'] != 3]"
   ]
  },
  {
   "source": [
    "### Unrated"
   ],
   "cell_type": "markdown",
   "metadata": {}
  },
  {
   "cell_type": "code",
   "execution_count": 20,
   "metadata": {},
   "outputs": [
    {
     "output_type": "stream",
     "name": "stdout",
     "text": [
      "(1988, 10)\n"
     ]
    },
    {
     "output_type": "execute_result",
     "data": {
      "text/plain": [
       "   School     Type Grades  Total students enrolled Students per teacher  \\\n",
       "46   None  Private   PK-8                    110.0                  NaN   \n",
       "47   None  Private  PK-12                    727.0                  NaN   \n",
       "48   None  Private   9-12                      NaN                  NaN   \n",
       "49   None  Private   7-11                      NaN                  NaN   \n",
       "92   None  Private   PK-8                     95.0                  NaN   \n",
       "\n",
       "   District  \\\n",
       "46      NaN   \n",
       "47      NaN   \n",
       "48      NaN   \n",
       "49      NaN   \n",
       "92      NaN   \n",
       "\n",
       "                                                                                                          Score  \\\n",
       "46                      Currently unratedSt. Teresa's School417 Edgewood Lane, Albany, GA, 31707 Homes for sale   \n",
       "47                      Currently unratedDeerfield-Windsor SchoolPo Box 71149, Albany, GA, 31708 Homes for sale   \n",
       "48                Currently unratedDarsey Private School1201 W Oglethorpe Ave, Albany, GA, 31707 Homes for sale   \n",
       "49                   Currently unratedNew Covenant Academy1510 W Broad Avenue, Albany, GA, 31707 Homes for sale   \n",
       "92  Currently unratedSt Mary Elementary School815 Broadalbin Street Southwest, Albany, OR, 97321 Homes for sale   \n",
       "\n",
       "   Rating Address  Length  \n",
       "46   None    None       0  \n",
       "47   None    None       0  \n",
       "48   None    None       0  \n",
       "49   None    None       0  \n",
       "92   None    None       0  "
      ],
      "text/html": "<div>\n<style scoped>\n    .dataframe tbody tr th:only-of-type {\n        vertical-align: middle;\n    }\n\n    .dataframe tbody tr th {\n        vertical-align: top;\n    }\n\n    .dataframe thead th {\n        text-align: right;\n    }\n</style>\n<table border=\"1\" class=\"dataframe\">\n  <thead>\n    <tr style=\"text-align: right;\">\n      <th></th>\n      <th>School</th>\n      <th>Type</th>\n      <th>Grades</th>\n      <th>Total students enrolled</th>\n      <th>Students per teacher</th>\n      <th>District</th>\n      <th>Score</th>\n      <th>Rating</th>\n      <th>Address</th>\n      <th>Length</th>\n    </tr>\n  </thead>\n  <tbody>\n    <tr>\n      <th>46</th>\n      <td>None</td>\n      <td>Private</td>\n      <td>PK-8</td>\n      <td>110.0</td>\n      <td>NaN</td>\n      <td>NaN</td>\n      <td>Currently unratedSt. Teresa's School417 Edgewood Lane, Albany, GA, 31707 Homes for sale</td>\n      <td>None</td>\n      <td>None</td>\n      <td>0</td>\n    </tr>\n    <tr>\n      <th>47</th>\n      <td>None</td>\n      <td>Private</td>\n      <td>PK-12</td>\n      <td>727.0</td>\n      <td>NaN</td>\n      <td>NaN</td>\n      <td>Currently unratedDeerfield-Windsor SchoolPo Box 71149, Albany, GA, 31708 Homes for sale</td>\n      <td>None</td>\n      <td>None</td>\n      <td>0</td>\n    </tr>\n    <tr>\n      <th>48</th>\n      <td>None</td>\n      <td>Private</td>\n      <td>9-12</td>\n      <td>NaN</td>\n      <td>NaN</td>\n      <td>NaN</td>\n      <td>Currently unratedDarsey Private School1201 W Oglethorpe Ave, Albany, GA, 31707 Homes for sale</td>\n      <td>None</td>\n      <td>None</td>\n      <td>0</td>\n    </tr>\n    <tr>\n      <th>49</th>\n      <td>None</td>\n      <td>Private</td>\n      <td>7-11</td>\n      <td>NaN</td>\n      <td>NaN</td>\n      <td>NaN</td>\n      <td>Currently unratedNew Covenant Academy1510 W Broad Avenue, Albany, GA, 31707 Homes for sale</td>\n      <td>None</td>\n      <td>None</td>\n      <td>0</td>\n    </tr>\n    <tr>\n      <th>92</th>\n      <td>None</td>\n      <td>Private</td>\n      <td>PK-8</td>\n      <td>95.0</td>\n      <td>NaN</td>\n      <td>NaN</td>\n      <td>Currently unratedSt Mary Elementary School815 Broadalbin Street Southwest, Albany, OR, 97321 Homes for sale</td>\n      <td>None</td>\n      <td>None</td>\n      <td>0</td>\n    </tr>\n  </tbody>\n</table>\n</div>"
     },
     "metadata": {},
     "execution_count": 20
    }
   ],
   "source": [
    "print(unrated.shape)\n",
    "unrated.head()"
   ]
  },
  {
   "cell_type": "code",
   "execution_count": 21,
   "metadata": {},
   "outputs": [],
   "source": [
    "unrated['School'] = unrated['Score']\n",
    "unrated['Score'] = 0"
   ]
  },
  {
   "cell_type": "code",
   "execution_count": 22,
   "metadata": {},
   "outputs": [],
   "source": [
    "unrated['Rating'] = unrated['School'].str.split('(?<=[a-z])(?=[A-Z])')"
   ]
  },
  {
   "cell_type": "code",
   "execution_count": 23,
   "metadata": {},
   "outputs": [],
   "source": [
    "unrated['Rating'] = unrated['Rating'].str[0]"
   ]
  },
  {
   "cell_type": "code",
   "execution_count": 24,
   "metadata": {},
   "outputs": [],
   "source": [
    "unrated['School'] = unrated['School'].str.replace(' Homes for sale', '')\n",
    "unrated['School'] = unrated['School'].str.replace('Currently unrated', '')"
   ]
  },
  {
   "cell_type": "code",
   "execution_count": 25,
   "metadata": {},
   "outputs": [],
   "source": [
    "unrated['Address'] = unrated['School'].str.split('(?<=[a-z])(?=[0-9])')"
   ]
  },
  {
   "cell_type": "code",
   "execution_count": 26,
   "metadata": {},
   "outputs": [
    {
     "output_type": "execute_result",
     "data": {
      "text/plain": [
       "array([2, 1, 3])"
      ]
     },
     "metadata": {},
     "execution_count": 26
    }
   ],
   "source": [
    "# Finding length because there are anomalies with the information in the address column\n",
    "unrated['Length'] = unrated['Address'].apply(lambda x: len(x) if x != None else 0 )\n",
    "# 2 is the expected length -> school and address\n",
    "unrated['Length'].unique()"
   ]
  },
  {
   "cell_type": "code",
   "execution_count": 27,
   "metadata": {},
   "outputs": [],
   "source": [
    "unrated['School'] = unrated['Address'].str[0]"
   ]
  },
  {
   "cell_type": "code",
   "execution_count": 28,
   "metadata": {},
   "outputs": [],
   "source": [
    "unrated['Address'] = unrated['Address'].str[-1]"
   ]
  },
  {
   "cell_type": "code",
   "execution_count": 29,
   "metadata": {},
   "outputs": [],
   "source": [
    "# These will also need further cleaning\n",
    "unrated_1 = unrated.loc[unrated['Length']==1]\n",
    "unrated_3 = unrated.loc[unrated['Length']==3]"
   ]
  },
  {
   "cell_type": "code",
   "execution_count": 30,
   "metadata": {},
   "outputs": [],
   "source": [
    "# Removing rows where the length is not 2\n",
    "unrated = unrated[unrated['Length'] != 1]\n",
    "unrated = unrated[unrated['Length'] != 3]"
   ]
  },
  {
   "cell_type": "code",
   "execution_count": 31,
   "metadata": {},
   "outputs": [],
   "source": [
    "unrated[['Total students enrolled', 'Students per teacher', 'District' ]] = unrated[['Total students enrolled', 'Students per teacher', 'District' ]].fillna(0)"
   ]
  },
  {
   "cell_type": "code",
   "execution_count": 32,
   "metadata": {},
   "outputs": [
    {
     "output_type": "stream",
     "name": "stdout",
     "text": [
      "(1829, 10)\n"
     ]
    },
    {
     "output_type": "execute_result",
     "data": {
      "text/plain": [
       "                       School     Type Grades  Total students enrolled  \\\n",
       "46        St. Teresa's School  Private   PK-8                    110.0   \n",
       "48      Darsey Private School  Private   9-12                      0.0   \n",
       "49       New Covenant Academy  Private   7-11                      0.0   \n",
       "92  St Mary Elementary School  Private   PK-8                     95.0   \n",
       "93    Albany Christian School  Private   PK-8                    261.0   \n",
       "\n",
       "   Students per teacher District  Score             Rating  \\\n",
       "46                    0        0      0  Currently unrated   \n",
       "48                    0        0      0  Currently unrated   \n",
       "49                    0        0      0  Currently unrated   \n",
       "92                    0        0      0  Currently unrated   \n",
       "93                    0        0      0  Currently unrated   \n",
       "\n",
       "                                               Address  Length  \n",
       "46                417 Edgewood Lane, Albany, GA, 31707       2  \n",
       "48            1201 W Oglethorpe Ave, Albany, GA, 31707       2  \n",
       "49              1510 W Broad Avenue, Albany, GA, 31707       2  \n",
       "92  815 Broadalbin Street Southwest, Albany, OR, 97321       2  \n",
       "93         420 Southeast 3rd Avenue, Albany, OR, 97321       2  "
      ],
      "text/html": "<div>\n<style scoped>\n    .dataframe tbody tr th:only-of-type {\n        vertical-align: middle;\n    }\n\n    .dataframe tbody tr th {\n        vertical-align: top;\n    }\n\n    .dataframe thead th {\n        text-align: right;\n    }\n</style>\n<table border=\"1\" class=\"dataframe\">\n  <thead>\n    <tr style=\"text-align: right;\">\n      <th></th>\n      <th>School</th>\n      <th>Type</th>\n      <th>Grades</th>\n      <th>Total students enrolled</th>\n      <th>Students per teacher</th>\n      <th>District</th>\n      <th>Score</th>\n      <th>Rating</th>\n      <th>Address</th>\n      <th>Length</th>\n    </tr>\n  </thead>\n  <tbody>\n    <tr>\n      <th>46</th>\n      <td>St. Teresa's School</td>\n      <td>Private</td>\n      <td>PK-8</td>\n      <td>110.0</td>\n      <td>0</td>\n      <td>0</td>\n      <td>0</td>\n      <td>Currently unrated</td>\n      <td>417 Edgewood Lane, Albany, GA, 31707</td>\n      <td>2</td>\n    </tr>\n    <tr>\n      <th>48</th>\n      <td>Darsey Private School</td>\n      <td>Private</td>\n      <td>9-12</td>\n      <td>0.0</td>\n      <td>0</td>\n      <td>0</td>\n      <td>0</td>\n      <td>Currently unrated</td>\n      <td>1201 W Oglethorpe Ave, Albany, GA, 31707</td>\n      <td>2</td>\n    </tr>\n    <tr>\n      <th>49</th>\n      <td>New Covenant Academy</td>\n      <td>Private</td>\n      <td>7-11</td>\n      <td>0.0</td>\n      <td>0</td>\n      <td>0</td>\n      <td>0</td>\n      <td>Currently unrated</td>\n      <td>1510 W Broad Avenue, Albany, GA, 31707</td>\n      <td>2</td>\n    </tr>\n    <tr>\n      <th>92</th>\n      <td>St Mary Elementary School</td>\n      <td>Private</td>\n      <td>PK-8</td>\n      <td>95.0</td>\n      <td>0</td>\n      <td>0</td>\n      <td>0</td>\n      <td>Currently unrated</td>\n      <td>815 Broadalbin Street Southwest, Albany, OR, 97321</td>\n      <td>2</td>\n    </tr>\n    <tr>\n      <th>93</th>\n      <td>Albany Christian School</td>\n      <td>Private</td>\n      <td>PK-8</td>\n      <td>261.0</td>\n      <td>0</td>\n      <td>0</td>\n      <td>0</td>\n      <td>Currently unrated</td>\n      <td>420 Southeast 3rd Avenue, Albany, OR, 97321</td>\n      <td>2</td>\n    </tr>\n  </tbody>\n</table>\n</div>"
     },
     "metadata": {},
     "execution_count": 32
    }
   ],
   "source": [
    "# Mergeable unrated df\n",
    "print(unrated.shape)\n",
    "unrated.head()"
   ]
  },
  {
   "source": [
    "### Single"
   ],
   "cell_type": "markdown",
   "metadata": {}
  },
  {
   "cell_type": "code",
   "execution_count": 33,
   "metadata": {},
   "outputs": [
    {
     "output_type": "stream",
     "name": "stdout",
     "text": [
      "(163, 10)\n"
     ]
    },
    {
     "output_type": "execute_result",
     "data": {
      "text/plain": [
       "                                                                       School  \\\n",
       "349                   Woodland IntermediateN9085 Coop Rd, Appleton, WI, 54915   \n",
       "353                       Woodland SchoolN9085 N Coop Rd, Appleton, WI, 54915   \n",
       "358         Freedom Elementary SchoolN3569 County Road E, Appleton, WI, 54913   \n",
       "360    Sunrise Elementary SchoolN9363 Exploration Avenue, Appleton, WI, 54915   \n",
       "514  BRIGHTON AVENUE SCHOOL30 North Brighton Avenue, Atlantic City, NJ, 08401   \n",
       "\n",
       "                Type Grades  Total students enrolled Students per teacher  \\\n",
       "349  Public district    5-6                    362.0                 18:1   \n",
       "353  Public district    K-4                    494.0                 14:1   \n",
       "358  Public district   PK-5                    705.0                 19:1   \n",
       "360  Public district    K-4                    423.0                 14:1   \n",
       "514  Public district   PK-5                    346.0                 10:1   \n",
       "\n",
       "                                 District Score         Rating  \\\n",
       "349         Kimberly Area School District    10      Top rated   \n",
       "353         Kimberly Area School District     9  Above average   \n",
       "358          Freedom Area School District     7  Above average   \n",
       "360         Kimberly Area School District     7  Above average   \n",
       "514  Atlantic City Public School District     3  Below average   \n",
       "\n",
       "                                                                      Address  \\\n",
       "349                   Woodland IntermediateN9085 Coop Rd, Appleton, WI, 54915   \n",
       "353                       Woodland SchoolN9085 N Coop Rd, Appleton, WI, 54915   \n",
       "358         Freedom Elementary SchoolN3569 County Road E, Appleton, WI, 54913   \n",
       "360    Sunrise Elementary SchoolN9363 Exploration Avenue, Appleton, WI, 54915   \n",
       "514  BRIGHTON AVENUE SCHOOL30 North Brighton Avenue, Atlantic City, NJ, 08401   \n",
       "\n",
       "     Length  \n",
       "349       1  \n",
       "353       1  \n",
       "358       1  \n",
       "360       1  \n",
       "514       1  "
      ],
      "text/html": "<div>\n<style scoped>\n    .dataframe tbody tr th:only-of-type {\n        vertical-align: middle;\n    }\n\n    .dataframe tbody tr th {\n        vertical-align: top;\n    }\n\n    .dataframe thead th {\n        text-align: right;\n    }\n</style>\n<table border=\"1\" class=\"dataframe\">\n  <thead>\n    <tr style=\"text-align: right;\">\n      <th></th>\n      <th>School</th>\n      <th>Type</th>\n      <th>Grades</th>\n      <th>Total students enrolled</th>\n      <th>Students per teacher</th>\n      <th>District</th>\n      <th>Score</th>\n      <th>Rating</th>\n      <th>Address</th>\n      <th>Length</th>\n    </tr>\n  </thead>\n  <tbody>\n    <tr>\n      <th>349</th>\n      <td>Woodland IntermediateN9085 Coop Rd, Appleton, WI, 54915</td>\n      <td>Public district</td>\n      <td>5-6</td>\n      <td>362.0</td>\n      <td>18:1</td>\n      <td>Kimberly Area School District</td>\n      <td>10</td>\n      <td>Top rated</td>\n      <td>Woodland IntermediateN9085 Coop Rd, Appleton, WI, 54915</td>\n      <td>1</td>\n    </tr>\n    <tr>\n      <th>353</th>\n      <td>Woodland SchoolN9085 N Coop Rd, Appleton, WI, 54915</td>\n      <td>Public district</td>\n      <td>K-4</td>\n      <td>494.0</td>\n      <td>14:1</td>\n      <td>Kimberly Area School District</td>\n      <td>9</td>\n      <td>Above average</td>\n      <td>Woodland SchoolN9085 N Coop Rd, Appleton, WI, 54915</td>\n      <td>1</td>\n    </tr>\n    <tr>\n      <th>358</th>\n      <td>Freedom Elementary SchoolN3569 County Road E, Appleton, WI, 54913</td>\n      <td>Public district</td>\n      <td>PK-5</td>\n      <td>705.0</td>\n      <td>19:1</td>\n      <td>Freedom Area School District</td>\n      <td>7</td>\n      <td>Above average</td>\n      <td>Freedom Elementary SchoolN3569 County Road E, Appleton, WI, 54913</td>\n      <td>1</td>\n    </tr>\n    <tr>\n      <th>360</th>\n      <td>Sunrise Elementary SchoolN9363 Exploration Avenue, Appleton, WI, 54915</td>\n      <td>Public district</td>\n      <td>K-4</td>\n      <td>423.0</td>\n      <td>14:1</td>\n      <td>Kimberly Area School District</td>\n      <td>7</td>\n      <td>Above average</td>\n      <td>Sunrise Elementary SchoolN9363 Exploration Avenue, Appleton, WI, 54915</td>\n      <td>1</td>\n    </tr>\n    <tr>\n      <th>514</th>\n      <td>BRIGHTON AVENUE SCHOOL30 North Brighton Avenue, Atlantic City, NJ, 08401</td>\n      <td>Public district</td>\n      <td>PK-5</td>\n      <td>346.0</td>\n      <td>10:1</td>\n      <td>Atlantic City Public School District</td>\n      <td>3</td>\n      <td>Below average</td>\n      <td>BRIGHTON AVENUE SCHOOL30 North Brighton Avenue, Atlantic City, NJ, 08401</td>\n      <td>1</td>\n    </tr>\n  </tbody>\n</table>\n</div>"
     },
     "metadata": {},
     "execution_count": 33
    }
   ],
   "source": [
    "print(single.shape)\n",
    "single.head()"
   ]
  },
  {
   "cell_type": "code",
   "execution_count": 34,
   "metadata": {},
   "outputs": [],
   "source": [
    "single['Address'] = single['School'].str.split('(?<=[a-z])(?=[A-Z])')"
   ]
  },
  {
   "cell_type": "code",
   "execution_count": 35,
   "metadata": {},
   "outputs": [
    {
     "output_type": "execute_result",
     "data": {
      "text/plain": [
       "array([2, 1, 3])"
      ]
     },
     "metadata": {},
     "execution_count": 35
    }
   ],
   "source": [
    "# Finding length because there are anomalies with the information in the address column\n",
    "single['Length'] = single['Address'].apply(lambda x: len(x) if x != None else 0 )\n",
    "# 2 is the expected length -> school and address\n",
    "single['Length'].unique()"
   ]
  },
  {
   "cell_type": "code",
   "execution_count": 36,
   "metadata": {},
   "outputs": [],
   "source": [
    "single['School'] = single['Address'].str[0]"
   ]
  },
  {
   "cell_type": "code",
   "execution_count": 37,
   "metadata": {},
   "outputs": [],
   "source": [
    "single['Address'] = single['Address'].str[1]"
   ]
  },
  {
   "cell_type": "code",
   "execution_count": 38,
   "metadata": {},
   "outputs": [],
   "source": [
    "single_1 = single.loc[single['Length']==1]\n",
    "single_3 = single.loc[single['Length']==3]"
   ]
  },
  {
   "cell_type": "code",
   "execution_count": 39,
   "metadata": {},
   "outputs": [],
   "source": [
    "single = single[single['Length']!=1]\n",
    "single = single[single['Length']!=3]"
   ]
  },
  {
   "cell_type": "code",
   "execution_count": 40,
   "metadata": {},
   "outputs": [],
   "source": [
    "single['School'] = single['School'].str.replace('William B Travis Acdmy/Vngrd For A3001 Mc', 'William B Travis Acdmy/Vngrd For')\n",
    "single['Address'] = single['Address'].str.replace('Kinney Avenue, Dallas, TX, 75204', 'A3001 McKinney Avenue, Dallas, TX, 75204')"
   ]
  },
  {
   "cell_type": "code",
   "execution_count": 41,
   "metadata": {},
   "outputs": [
    {
     "output_type": "stream",
     "name": "stdout",
     "text": [
      "(14, 10)\n"
     ]
    },
    {
     "output_type": "execute_result",
     "data": {
      "text/plain": [
       "                                School             Type Grades  \\\n",
       "349              Woodland Intermediate  Public district    5-6   \n",
       "353                    Woodland School  Public district    K-4   \n",
       "358          Freedom Elementary School  Public district   PK-5   \n",
       "360          Sunrise Elementary School  Public district    K-4   \n",
       "2225  William B Travis Acdmy/Vngrd For  Public district    4-5   \n",
       "\n",
       "      Total students enrolled Students per teacher  \\\n",
       "349                     362.0                 18:1   \n",
       "353                     494.0                 14:1   \n",
       "358                     705.0                 19:1   \n",
       "360                     423.0                 14:1   \n",
       "2225                    200.0                 15:1   \n",
       "\n",
       "                                District Score         Rating  \\\n",
       "349        Kimberly Area School District    10      Top rated   \n",
       "353        Kimberly Area School District     9  Above average   \n",
       "358         Freedom Area School District     7  Above average   \n",
       "360        Kimberly Area School District     7  Above average   \n",
       "2225  Dallas Independent School District    10      Top rated   \n",
       "\n",
       "                                            Address  Length  \n",
       "349              N9085 Coop Rd, Appleton, WI, 54915       2  \n",
       "353            N9085 N Coop Rd, Appleton, WI, 54915       2  \n",
       "358        N3569 County Road E, Appleton, WI, 54913       2  \n",
       "360   N9363 Exploration Avenue, Appleton, WI, 54915       2  \n",
       "2225       A3001 McKinney Avenue, Dallas, TX, 75204       2  "
      ],
      "text/html": "<div>\n<style scoped>\n    .dataframe tbody tr th:only-of-type {\n        vertical-align: middle;\n    }\n\n    .dataframe tbody tr th {\n        vertical-align: top;\n    }\n\n    .dataframe thead th {\n        text-align: right;\n    }\n</style>\n<table border=\"1\" class=\"dataframe\">\n  <thead>\n    <tr style=\"text-align: right;\">\n      <th></th>\n      <th>School</th>\n      <th>Type</th>\n      <th>Grades</th>\n      <th>Total students enrolled</th>\n      <th>Students per teacher</th>\n      <th>District</th>\n      <th>Score</th>\n      <th>Rating</th>\n      <th>Address</th>\n      <th>Length</th>\n    </tr>\n  </thead>\n  <tbody>\n    <tr>\n      <th>349</th>\n      <td>Woodland Intermediate</td>\n      <td>Public district</td>\n      <td>5-6</td>\n      <td>362.0</td>\n      <td>18:1</td>\n      <td>Kimberly Area School District</td>\n      <td>10</td>\n      <td>Top rated</td>\n      <td>N9085 Coop Rd, Appleton, WI, 54915</td>\n      <td>2</td>\n    </tr>\n    <tr>\n      <th>353</th>\n      <td>Woodland School</td>\n      <td>Public district</td>\n      <td>K-4</td>\n      <td>494.0</td>\n      <td>14:1</td>\n      <td>Kimberly Area School District</td>\n      <td>9</td>\n      <td>Above average</td>\n      <td>N9085 N Coop Rd, Appleton, WI, 54915</td>\n      <td>2</td>\n    </tr>\n    <tr>\n      <th>358</th>\n      <td>Freedom Elementary School</td>\n      <td>Public district</td>\n      <td>PK-5</td>\n      <td>705.0</td>\n      <td>19:1</td>\n      <td>Freedom Area School District</td>\n      <td>7</td>\n      <td>Above average</td>\n      <td>N3569 County Road E, Appleton, WI, 54913</td>\n      <td>2</td>\n    </tr>\n    <tr>\n      <th>360</th>\n      <td>Sunrise Elementary School</td>\n      <td>Public district</td>\n      <td>K-4</td>\n      <td>423.0</td>\n      <td>14:1</td>\n      <td>Kimberly Area School District</td>\n      <td>7</td>\n      <td>Above average</td>\n      <td>N9363 Exploration Avenue, Appleton, WI, 54915</td>\n      <td>2</td>\n    </tr>\n    <tr>\n      <th>2225</th>\n      <td>William B Travis Acdmy/Vngrd For</td>\n      <td>Public district</td>\n      <td>4-5</td>\n      <td>200.0</td>\n      <td>15:1</td>\n      <td>Dallas Independent School District</td>\n      <td>10</td>\n      <td>Top rated</td>\n      <td>A3001 McKinney Avenue, Dallas, TX, 75204</td>\n      <td>2</td>\n    </tr>\n  </tbody>\n</table>\n</div>"
     },
     "metadata": {},
     "execution_count": 41
    }
   ],
   "source": [
    "# Mergeable single df\n",
    "print(single.shape)\n",
    "single.head()"
   ]
  },
  {
   "source": [
    "### Miscellaneous"
   ],
   "cell_type": "markdown",
   "metadata": {}
  },
  {
   "cell_type": "code",
   "execution_count": 42,
   "metadata": {},
   "outputs": [
    {
     "output_type": "stream",
     "name": "stdout",
     "text": [
      "(3, 10)\n"
     ]
    },
    {
     "output_type": "execute_result",
     "data": {
      "text/plain": [
       "                                                                                  School  \\\n",
       "1906              The Vanguard School (High)3 awardsAwards & BadgesCollege Success Award   \n",
       "2947    International Academy of Flint (K-12)1 awardAwards & BadgesCollege Success Award   \n",
       "3625  Achievement First Hartford Academy Inc.1 awardAwards & BadgesCollege Success Award   \n",
       "\n",
       "                Type Grades  Total students enrolled Students per teacher  \\\n",
       "1906  Public charter   9-12                    305.0                 10:1   \n",
       "2947  Public charter   K-12                   1030.0                 21:1   \n",
       "3625  Public charter   K-12                   1149.0                 11:1   \n",
       "\n",
       "                                  District Score         Rating  \\\n",
       "1906  Cheyenne Mountain 12 School District     8  Above average   \n",
       "2947        International Academy Of Flint     4  Below average   \n",
       "3625         Achievement First Hartford Ac     6        Average   \n",
       "\n",
       "                                                      Address  Length  \n",
       "1906  1832 South Wahsatch Avenue, Colorado Springs, CO, 80905       3  \n",
       "2947                    2820 Saginaw Street, Flint, MI, 48503       3  \n",
       "3625               305 Greenfield Street, Hartford, CT, 06112       3  "
      ],
      "text/html": "<div>\n<style scoped>\n    .dataframe tbody tr th:only-of-type {\n        vertical-align: middle;\n    }\n\n    .dataframe tbody tr th {\n        vertical-align: top;\n    }\n\n    .dataframe thead th {\n        text-align: right;\n    }\n</style>\n<table border=\"1\" class=\"dataframe\">\n  <thead>\n    <tr style=\"text-align: right;\">\n      <th></th>\n      <th>School</th>\n      <th>Type</th>\n      <th>Grades</th>\n      <th>Total students enrolled</th>\n      <th>Students per teacher</th>\n      <th>District</th>\n      <th>Score</th>\n      <th>Rating</th>\n      <th>Address</th>\n      <th>Length</th>\n    </tr>\n  </thead>\n  <tbody>\n    <tr>\n      <th>1906</th>\n      <td>The Vanguard School (High)3 awardsAwards &amp; BadgesCollege Success Award</td>\n      <td>Public charter</td>\n      <td>9-12</td>\n      <td>305.0</td>\n      <td>10:1</td>\n      <td>Cheyenne Mountain 12 School District</td>\n      <td>8</td>\n      <td>Above average</td>\n      <td>1832 South Wahsatch Avenue, Colorado Springs, CO, 80905</td>\n      <td>3</td>\n    </tr>\n    <tr>\n      <th>2947</th>\n      <td>International Academy of Flint (K-12)1 awardAwards &amp; BadgesCollege Success Award</td>\n      <td>Public charter</td>\n      <td>K-12</td>\n      <td>1030.0</td>\n      <td>21:1</td>\n      <td>International Academy Of Flint</td>\n      <td>4</td>\n      <td>Below average</td>\n      <td>2820 Saginaw Street, Flint, MI, 48503</td>\n      <td>3</td>\n    </tr>\n    <tr>\n      <th>3625</th>\n      <td>Achievement First Hartford Academy Inc.1 awardAwards &amp; BadgesCollege Success Award</td>\n      <td>Public charter</td>\n      <td>K-12</td>\n      <td>1149.0</td>\n      <td>11:1</td>\n      <td>Achievement First Hartford Ac</td>\n      <td>6</td>\n      <td>Average</td>\n      <td>305 Greenfield Street, Hartford, CT, 06112</td>\n      <td>3</td>\n    </tr>\n  </tbody>\n</table>\n</div>"
     },
     "metadata": {},
     "execution_count": 42
    }
   ],
   "source": [
    "# Mergeable miscellaneous df\n",
    "print(miscellaneous.shape)\n",
    "miscellaneous.head()"
   ]
  },
  {
   "cell_type": "code",
   "execution_count": 43,
   "metadata": {},
   "outputs": [],
   "source": [
    "miscellaneous['School'] = miscellaneous['School'].str.replace('1 awardAwards & BadgesCollege Success Award', '')\n",
    "miscellaneous['School'] = miscellaneous['School'].str.replace('3 awardsAwards & BadgesCollege Success Award', '')"
   ]
  },
  {
   "cell_type": "code",
   "execution_count": 44,
   "metadata": {},
   "outputs": [
    {
     "output_type": "stream",
     "name": "stdout",
     "text": [
      "(3, 10)\n"
     ]
    },
    {
     "output_type": "execute_result",
     "data": {
      "text/plain": [
       "                                       School            Type Grades  \\\n",
       "1906               The Vanguard School (High)  Public charter   9-12   \n",
       "2947    International Academy of Flint (K-12)  Public charter   K-12   \n",
       "3625  Achievement First Hartford Academy Inc.  Public charter   K-12   \n",
       "\n",
       "      Total students enrolled Students per teacher  \\\n",
       "1906                    305.0                 10:1   \n",
       "2947                   1030.0                 21:1   \n",
       "3625                   1149.0                 11:1   \n",
       "\n",
       "                                  District Score         Rating  \\\n",
       "1906  Cheyenne Mountain 12 School District     8  Above average   \n",
       "2947        International Academy Of Flint     4  Below average   \n",
       "3625         Achievement First Hartford Ac     6        Average   \n",
       "\n",
       "                                                      Address  Length  \n",
       "1906  1832 South Wahsatch Avenue, Colorado Springs, CO, 80905       3  \n",
       "2947                    2820 Saginaw Street, Flint, MI, 48503       3  \n",
       "3625               305 Greenfield Street, Hartford, CT, 06112       3  "
      ],
      "text/html": "<div>\n<style scoped>\n    .dataframe tbody tr th:only-of-type {\n        vertical-align: middle;\n    }\n\n    .dataframe tbody tr th {\n        vertical-align: top;\n    }\n\n    .dataframe thead th {\n        text-align: right;\n    }\n</style>\n<table border=\"1\" class=\"dataframe\">\n  <thead>\n    <tr style=\"text-align: right;\">\n      <th></th>\n      <th>School</th>\n      <th>Type</th>\n      <th>Grades</th>\n      <th>Total students enrolled</th>\n      <th>Students per teacher</th>\n      <th>District</th>\n      <th>Score</th>\n      <th>Rating</th>\n      <th>Address</th>\n      <th>Length</th>\n    </tr>\n  </thead>\n  <tbody>\n    <tr>\n      <th>1906</th>\n      <td>The Vanguard School (High)</td>\n      <td>Public charter</td>\n      <td>9-12</td>\n      <td>305.0</td>\n      <td>10:1</td>\n      <td>Cheyenne Mountain 12 School District</td>\n      <td>8</td>\n      <td>Above average</td>\n      <td>1832 South Wahsatch Avenue, Colorado Springs, CO, 80905</td>\n      <td>3</td>\n    </tr>\n    <tr>\n      <th>2947</th>\n      <td>International Academy of Flint (K-12)</td>\n      <td>Public charter</td>\n      <td>K-12</td>\n      <td>1030.0</td>\n      <td>21:1</td>\n      <td>International Academy Of Flint</td>\n      <td>4</td>\n      <td>Below average</td>\n      <td>2820 Saginaw Street, Flint, MI, 48503</td>\n      <td>3</td>\n    </tr>\n    <tr>\n      <th>3625</th>\n      <td>Achievement First Hartford Academy Inc.</td>\n      <td>Public charter</td>\n      <td>K-12</td>\n      <td>1149.0</td>\n      <td>11:1</td>\n      <td>Achievement First Hartford Ac</td>\n      <td>6</td>\n      <td>Average</td>\n      <td>305 Greenfield Street, Hartford, CT, 06112</td>\n      <td>3</td>\n    </tr>\n  </tbody>\n</table>\n</div>"
     },
     "metadata": {},
     "execution_count": 44
    }
   ],
   "source": [
    "print(miscellaneous.shape)\n",
    "miscellaneous.head()"
   ]
  },
  {
   "source": [
    "### Unrated_1"
   ],
   "cell_type": "markdown",
   "metadata": {}
  },
  {
   "cell_type": "code",
   "execution_count": 45,
   "metadata": {},
   "outputs": [
    {
     "output_type": "stream",
     "name": "stdout",
     "text": [
      "(158, 10)\n"
     ]
    },
    {
     "output_type": "execute_result",
     "data": {
      "text/plain": [
       "                                                                          School  \\\n",
       "47                       Deerfield-Windsor SchoolPo Box 71149, Albany, GA, 31708   \n",
       "146           St Rita Child Development CenterPo Box 7056, Alexandria, LA, 71306   \n",
       "147       Bright Beginnings Child Care CenterPo Box 12264, Alexandria, LA, 71315   \n",
       "192  Lily Pond Child Care Center-Juniata GapJuniata Gap Road, Altoona, PA, 16601   \n",
       "195                  Lily Pond Sch/Age ProgramSheraton Drive, Altoona, PA, 16601   \n",
       "\n",
       "        Type Grades  Total students enrolled Students per teacher District  \\\n",
       "47   Private  PK-12                    727.0                  NaN      NaN   \n",
       "146  Private     PK                      NaN                  NaN      NaN   \n",
       "147  Private   PK-K                      NaN                  NaN      NaN   \n",
       "192  Private     PK                      NaN                  NaN      NaN   \n",
       "195  Private     PK                      NaN                  NaN      NaN   \n",
       "\n",
       "     Score             Rating  \\\n",
       "47       0  Currently unrated   \n",
       "146      0  Currently unrated   \n",
       "147      0  Currently unrated   \n",
       "192      0  Currently unrated   \n",
       "195      0  Currently unrated   \n",
       "\n",
       "                                                                         Address  \\\n",
       "47                       Deerfield-Windsor SchoolPo Box 71149, Albany, GA, 31708   \n",
       "146           St Rita Child Development CenterPo Box 7056, Alexandria, LA, 71306   \n",
       "147       Bright Beginnings Child Care CenterPo Box 12264, Alexandria, LA, 71315   \n",
       "192  Lily Pond Child Care Center-Juniata GapJuniata Gap Road, Altoona, PA, 16601   \n",
       "195                  Lily Pond Sch/Age ProgramSheraton Drive, Altoona, PA, 16601   \n",
       "\n",
       "     Length  \n",
       "47        1  \n",
       "146       1  \n",
       "147       1  \n",
       "192       1  \n",
       "195       1  "
      ],
      "text/html": "<div>\n<style scoped>\n    .dataframe tbody tr th:only-of-type {\n        vertical-align: middle;\n    }\n\n    .dataframe tbody tr th {\n        vertical-align: top;\n    }\n\n    .dataframe thead th {\n        text-align: right;\n    }\n</style>\n<table border=\"1\" class=\"dataframe\">\n  <thead>\n    <tr style=\"text-align: right;\">\n      <th></th>\n      <th>School</th>\n      <th>Type</th>\n      <th>Grades</th>\n      <th>Total students enrolled</th>\n      <th>Students per teacher</th>\n      <th>District</th>\n      <th>Score</th>\n      <th>Rating</th>\n      <th>Address</th>\n      <th>Length</th>\n    </tr>\n  </thead>\n  <tbody>\n    <tr>\n      <th>47</th>\n      <td>Deerfield-Windsor SchoolPo Box 71149, Albany, GA, 31708</td>\n      <td>Private</td>\n      <td>PK-12</td>\n      <td>727.0</td>\n      <td>NaN</td>\n      <td>NaN</td>\n      <td>0</td>\n      <td>Currently unrated</td>\n      <td>Deerfield-Windsor SchoolPo Box 71149, Albany, GA, 31708</td>\n      <td>1</td>\n    </tr>\n    <tr>\n      <th>146</th>\n      <td>St Rita Child Development CenterPo Box 7056, Alexandria, LA, 71306</td>\n      <td>Private</td>\n      <td>PK</td>\n      <td>NaN</td>\n      <td>NaN</td>\n      <td>NaN</td>\n      <td>0</td>\n      <td>Currently unrated</td>\n      <td>St Rita Child Development CenterPo Box 7056, Alexandria, LA, 71306</td>\n      <td>1</td>\n    </tr>\n    <tr>\n      <th>147</th>\n      <td>Bright Beginnings Child Care CenterPo Box 12264, Alexandria, LA, 71315</td>\n      <td>Private</td>\n      <td>PK-K</td>\n      <td>NaN</td>\n      <td>NaN</td>\n      <td>NaN</td>\n      <td>0</td>\n      <td>Currently unrated</td>\n      <td>Bright Beginnings Child Care CenterPo Box 12264, Alexandria, LA, 71315</td>\n      <td>1</td>\n    </tr>\n    <tr>\n      <th>192</th>\n      <td>Lily Pond Child Care Center-Juniata GapJuniata Gap Road, Altoona, PA, 16601</td>\n      <td>Private</td>\n      <td>PK</td>\n      <td>NaN</td>\n      <td>NaN</td>\n      <td>NaN</td>\n      <td>0</td>\n      <td>Currently unrated</td>\n      <td>Lily Pond Child Care Center-Juniata GapJuniata Gap Road, Altoona, PA, 16601</td>\n      <td>1</td>\n    </tr>\n    <tr>\n      <th>195</th>\n      <td>Lily Pond Sch/Age ProgramSheraton Drive, Altoona, PA, 16601</td>\n      <td>Private</td>\n      <td>PK</td>\n      <td>NaN</td>\n      <td>NaN</td>\n      <td>NaN</td>\n      <td>0</td>\n      <td>Currently unrated</td>\n      <td>Lily Pond Sch/Age ProgramSheraton Drive, Altoona, PA, 16601</td>\n      <td>1</td>\n    </tr>\n  </tbody>\n</table>\n</div>"
     },
     "metadata": {},
     "execution_count": 45
    }
   ],
   "source": [
    "print(unrated_1.shape)\n",
    "unrated_1.head()"
   ]
  },
  {
   "cell_type": "code",
   "execution_count": 46,
   "metadata": {},
   "outputs": [],
   "source": [
    "unrated_1['Address'] = unrated_1['School'].str.split('(?<=[a-z])(?=[A-Z])')"
   ]
  },
  {
   "cell_type": "code",
   "execution_count": 47,
   "metadata": {},
   "outputs": [
    {
     "output_type": "execute_result",
     "data": {
      "text/plain": [
       "array([2, 1])"
      ]
     },
     "metadata": {},
     "execution_count": 47
    }
   ],
   "source": [
    "# Finding length because there are anomalies with the information in the address column\n",
    "unrated_1['Length'] = unrated_1['Address'].apply(lambda x: len(x) if x != None else 0 )\n",
    "# 2 is the expected length -> school and address\n",
    "unrated_1['Length'].unique()"
   ]
  },
  {
   "cell_type": "code",
   "execution_count": 48,
   "metadata": {},
   "outputs": [],
   "source": [
    "unrated_single = unrated_1.loc[unrated_1['Length'] == 1]"
   ]
  },
  {
   "cell_type": "code",
   "execution_count": 49,
   "metadata": {},
   "outputs": [],
   "source": [
    "unrated_1['School'] = unrated_1['Address'].str[0]"
   ]
  },
  {
   "cell_type": "code",
   "execution_count": 50,
   "metadata": {},
   "outputs": [],
   "source": [
    "unrated_1['Address'] = unrated_1['Address'].str[1]"
   ]
  },
  {
   "cell_type": "code",
   "execution_count": 51,
   "metadata": {},
   "outputs": [],
   "source": [
    "unrated_1 = unrated_1[unrated_1['Length']!=1]"
   ]
  },
  {
   "cell_type": "code",
   "execution_count": 52,
   "metadata": {},
   "outputs": [],
   "source": [
    "unrated_1[['Total students enrolled', 'Students per teacher', 'District' ]] = unrated_1[['Total students enrolled', 'Students per teacher', 'District' ]].fillna(0)"
   ]
  },
  {
   "cell_type": "code",
   "execution_count": 53,
   "metadata": {},
   "outputs": [
    {
     "output_type": "stream",
     "name": "stdout",
     "text": [
      "(112, 10)\n"
     ]
    },
    {
     "output_type": "execute_result",
     "data": {
      "text/plain": [
       "                                      School     Type Grades  \\\n",
       "47                  Deerfield-Windsor School  Private  PK-12   \n",
       "146         St Rita Child Development Center  Private     PK   \n",
       "147      Bright Beginnings Child Care Center  Private   PK-K   \n",
       "192  Lily Pond Child Care Center-Juniata Gap  Private     PK   \n",
       "195                Lily Pond Sch/Age Program  Private     PK   \n",
       "\n",
       "     Total students enrolled Students per teacher District  Score  \\\n",
       "47                     727.0                    0        0      0   \n",
       "146                      0.0                    0        0      0   \n",
       "147                      0.0                    0        0      0   \n",
       "192                      0.0                    0        0      0   \n",
       "195                      0.0                    0        0      0   \n",
       "\n",
       "                Rating                               Address  Length  \n",
       "47   Currently unrated       Po Box 71149, Albany, GA, 31708       2  \n",
       "146  Currently unrated    Po Box 7056, Alexandria, LA, 71306       2  \n",
       "147  Currently unrated   Po Box 12264, Alexandria, LA, 71315       2  \n",
       "192  Currently unrated  Juniata Gap Road, Altoona, PA, 16601       2  \n",
       "195  Currently unrated    Sheraton Drive, Altoona, PA, 16601       2  "
      ],
      "text/html": "<div>\n<style scoped>\n    .dataframe tbody tr th:only-of-type {\n        vertical-align: middle;\n    }\n\n    .dataframe tbody tr th {\n        vertical-align: top;\n    }\n\n    .dataframe thead th {\n        text-align: right;\n    }\n</style>\n<table border=\"1\" class=\"dataframe\">\n  <thead>\n    <tr style=\"text-align: right;\">\n      <th></th>\n      <th>School</th>\n      <th>Type</th>\n      <th>Grades</th>\n      <th>Total students enrolled</th>\n      <th>Students per teacher</th>\n      <th>District</th>\n      <th>Score</th>\n      <th>Rating</th>\n      <th>Address</th>\n      <th>Length</th>\n    </tr>\n  </thead>\n  <tbody>\n    <tr>\n      <th>47</th>\n      <td>Deerfield-Windsor School</td>\n      <td>Private</td>\n      <td>PK-12</td>\n      <td>727.0</td>\n      <td>0</td>\n      <td>0</td>\n      <td>0</td>\n      <td>Currently unrated</td>\n      <td>Po Box 71149, Albany, GA, 31708</td>\n      <td>2</td>\n    </tr>\n    <tr>\n      <th>146</th>\n      <td>St Rita Child Development Center</td>\n      <td>Private</td>\n      <td>PK</td>\n      <td>0.0</td>\n      <td>0</td>\n      <td>0</td>\n      <td>0</td>\n      <td>Currently unrated</td>\n      <td>Po Box 7056, Alexandria, LA, 71306</td>\n      <td>2</td>\n    </tr>\n    <tr>\n      <th>147</th>\n      <td>Bright Beginnings Child Care Center</td>\n      <td>Private</td>\n      <td>PK-K</td>\n      <td>0.0</td>\n      <td>0</td>\n      <td>0</td>\n      <td>0</td>\n      <td>Currently unrated</td>\n      <td>Po Box 12264, Alexandria, LA, 71315</td>\n      <td>2</td>\n    </tr>\n    <tr>\n      <th>192</th>\n      <td>Lily Pond Child Care Center-Juniata Gap</td>\n      <td>Private</td>\n      <td>PK</td>\n      <td>0.0</td>\n      <td>0</td>\n      <td>0</td>\n      <td>0</td>\n      <td>Currently unrated</td>\n      <td>Juniata Gap Road, Altoona, PA, 16601</td>\n      <td>2</td>\n    </tr>\n    <tr>\n      <th>195</th>\n      <td>Lily Pond Sch/Age Program</td>\n      <td>Private</td>\n      <td>PK</td>\n      <td>0.0</td>\n      <td>0</td>\n      <td>0</td>\n      <td>0</td>\n      <td>Currently unrated</td>\n      <td>Sheraton Drive, Altoona, PA, 16601</td>\n      <td>2</td>\n    </tr>\n  </tbody>\n</table>\n</div>"
     },
     "metadata": {},
     "execution_count": 53
    }
   ],
   "source": [
    "# Mergeable unrated_1\n",
    "print(unrated_1.shape)\n",
    "unrated_1.head()"
   ]
  },
  {
   "source": [
    "### Unrated_3"
   ],
   "cell_type": "markdown",
   "metadata": {}
  },
  {
   "cell_type": "code",
   "execution_count": 54,
   "metadata": {},
   "outputs": [
    {
     "output_type": "stream",
     "name": "stdout",
     "text": [
      "(1, 10)\n"
     ]
    },
    {
     "output_type": "execute_result",
     "data": {
      "text/plain": [
       "                    School     Type Grades  Total students enrolled  \\\n",
       "5704  Joy Quigley Day Care  Private     PK                      NaN   \n",
       "\n",
       "     Students per teacher District  Score             Rating  \\\n",
       "5704                  NaN      NaN      0  Currently unrated   \n",
       "\n",
       "                       Address  Length  \n",
       "5704  94, Muscatine, IA, 52761       3  "
      ],
      "text/html": "<div>\n<style scoped>\n    .dataframe tbody tr th:only-of-type {\n        vertical-align: middle;\n    }\n\n    .dataframe tbody tr th {\n        vertical-align: top;\n    }\n\n    .dataframe thead th {\n        text-align: right;\n    }\n</style>\n<table border=\"1\" class=\"dataframe\">\n  <thead>\n    <tr style=\"text-align: right;\">\n      <th></th>\n      <th>School</th>\n      <th>Type</th>\n      <th>Grades</th>\n      <th>Total students enrolled</th>\n      <th>Students per teacher</th>\n      <th>District</th>\n      <th>Score</th>\n      <th>Rating</th>\n      <th>Address</th>\n      <th>Length</th>\n    </tr>\n  </thead>\n  <tbody>\n    <tr>\n      <th>5704</th>\n      <td>Joy Quigley Day Care</td>\n      <td>Private</td>\n      <td>PK</td>\n      <td>NaN</td>\n      <td>NaN</td>\n      <td>NaN</td>\n      <td>0</td>\n      <td>Currently unrated</td>\n      <td>94, Muscatine, IA, 52761</td>\n      <td>3</td>\n    </tr>\n  </tbody>\n</table>\n</div>"
     },
     "metadata": {},
     "execution_count": 54
    }
   ],
   "source": [
    "print(unrated_3.shape)\n",
    "unrated_3.head()"
   ]
  },
  {
   "cell_type": "code",
   "execution_count": 55,
   "metadata": {},
   "outputs": [],
   "source": [
    "unrated_3[['Total students enrolled', 'Students per teacher', 'Students per teacher']] = unrated_3[['Total students enrolled', 'Students per teacher', 'Students per teacher']].fillna(0)"
   ]
  },
  {
   "cell_type": "code",
   "execution_count": 56,
   "metadata": {},
   "outputs": [
    {
     "output_type": "stream",
     "name": "stdout",
     "text": [
      "(1, 10)\n"
     ]
    },
    {
     "output_type": "execute_result",
     "data": {
      "text/plain": [
       "                    School     Type Grades  Total students enrolled  \\\n",
       "5704  Joy Quigley Day Care  Private     PK                      0.0   \n",
       "\n",
       "      Students per teacher District  Score             Rating  \\\n",
       "5704                     0      NaN      0  Currently unrated   \n",
       "\n",
       "                       Address  Length  \n",
       "5704  94, Muscatine, IA, 52761       3  "
      ],
      "text/html": "<div>\n<style scoped>\n    .dataframe tbody tr th:only-of-type {\n        vertical-align: middle;\n    }\n\n    .dataframe tbody tr th {\n        vertical-align: top;\n    }\n\n    .dataframe thead th {\n        text-align: right;\n    }\n</style>\n<table border=\"1\" class=\"dataframe\">\n  <thead>\n    <tr style=\"text-align: right;\">\n      <th></th>\n      <th>School</th>\n      <th>Type</th>\n      <th>Grades</th>\n      <th>Total students enrolled</th>\n      <th>Students per teacher</th>\n      <th>District</th>\n      <th>Score</th>\n      <th>Rating</th>\n      <th>Address</th>\n      <th>Length</th>\n    </tr>\n  </thead>\n  <tbody>\n    <tr>\n      <th>5704</th>\n      <td>Joy Quigley Day Care</td>\n      <td>Private</td>\n      <td>PK</td>\n      <td>0.0</td>\n      <td>0</td>\n      <td>NaN</td>\n      <td>0</td>\n      <td>Currently unrated</td>\n      <td>94, Muscatine, IA, 52761</td>\n      <td>3</td>\n    </tr>\n  </tbody>\n</table>\n</div>"
     },
     "metadata": {},
     "execution_count": 56
    }
   ],
   "source": [
    "print(unrated_3.shape)\n",
    "unrated_3.head()"
   ]
  },
  {
   "source": [
    "### Single_1"
   ],
   "cell_type": "markdown",
   "metadata": {}
  },
  {
   "cell_type": "code",
   "execution_count": 57,
   "metadata": {},
   "outputs": [
    {
     "output_type": "stream",
     "name": "stdout",
     "text": [
      "(148, 10)\n"
     ]
    },
    {
     "output_type": "execute_result",
     "data": {
      "text/plain": [
       "                                                                                        School  \\\n",
       "514                   BRIGHTON AVENUE SCHOOL30 North Brighton Avenue, Atlantic City, NJ, 08401   \n",
       "560                               Aurora Quest K-8472 South Wheeling Street, Aurora, CO, 80012   \n",
       "561                               Aurora Frontier K-83200 South Jericho Way, Aurora, CO, 80013   \n",
       "718                                       Bay County PSA1110 State Street, Bay City, MI, 48706   \n",
       "735                 Beaumont Isd Early College High S3395 Harrison Avenue, Beaumont, TX, 77706   \n",
       "885                                          Elysian 7-86416 Elysian Road, Billings, MT, 59101   \n",
       "897                                   Will James 7-81200 30th Street West, Billings, MT, 59102   \n",
       "899                                  Elder Grove 7-81532 South 64 St West, Billings, MT, 59106   \n",
       "905                               Castle Rock 7-81441 Governors Boulevard, Billings, MT, 59105   \n",
       "1235               Gs Mickelson Middle School - 021801 12th Street South, Brookings, SD, 57006   \n",
       "1236                            Hillcrest Elementary - 04304 15th Avenue, Brookings, SD, 57006   \n",
       "1237                     Camelot Intermediate - 061401 15th Street South, Brookings, SD, 57006   \n",
       "1238                            Brookings High School - 01530 Elm Avenue, Brookings, SD, 57006   \n",
       "1240                          Medary Elementary - 05718 5th Street South, Brookings, SD, 57006   \n",
       "1306                 Arrow Academy - Save Our Streets C1700 Groesbeck Street, Bryan, TX, 77803   \n",
       "1318                          Frederick Olmsted 64 At 78874 Amherst Street, Buffalo, NY, 14216   \n",
       "1326                                Frederick Olmsted 56319 Suffolk Street, Buffalo, NY, 14215   \n",
       "1635  Charlotte Engineering Early College-UNCC9000 Robert D. Snyder Road, Charlotte, NC, 28262   \n",
       "1718                          BACK OF THE YARDS IB HS2111 West 47th Street, Chicago, IL, 60609   \n",
       "1848             Phoenix Village Academy Primary 212601 Shaker Boulevard, Cleveland, OH, 44120   \n",
       "1881                          COLLEGE VIEW H1300 George Bush Drive, College Station, TX, 77840   \n",
       "2113                      Windsor Park G/T4525 South Alameda Street, Corpus Christi, TX, 78412   \n",
       "2229                      Mockingbird Elementary 5828 East Mockingbird Lane, Dallas, TX, 75206   \n",
       "2235                        Uplift Infinity H S1825 Market Center Boulevard, Dallas, TX, 75207   \n",
       "2388                           Center For Academic Success #41415 F Avenue, Douglas, AZ, 85607   \n",
       "\n",
       "                 Type Grades  Total students enrolled Students per teacher  \\\n",
       "514   Public district   PK-5                    346.0                 10:1   \n",
       "560   Public district    K-8                    599.0                 21:1   \n",
       "561   Public district   PK-8                    697.0                 21:1   \n",
       "718    Public charter    K-5                    101.0                 11:1   \n",
       "735   Public district   9-12                    127.0                  NaN   \n",
       "885   Public district    7-8                     85.0                 11:1   \n",
       "897   Public district    6-8                    522.0                 18:1   \n",
       "899   Public district    6-8                    200.0                 20:1   \n",
       "905   Public district    6-8                    582.0                 16:1   \n",
       "1235  Public district    6-8                    796.0                 15:1   \n",
       "1236  Public district    K-3                    277.0                 13:1   \n",
       "1237  Public district    4-5                    576.0                 15:1   \n",
       "1238  Public district   9-12                    917.0                 16:1   \n",
       "1240  Public district    K-3                    370.0                 12:1   \n",
       "1306   Public charter    K-5                     94.0                 10:1   \n",
       "1318  Public district   PK-4                    598.0                 20:1   \n",
       "1326  Public district   5-12                    826.0                 12:1   \n",
       "1635  Public district   9-11                    308.0                 14:1   \n",
       "1718  Public district   9-12                   1064.0                 14:1   \n",
       "1848   Public charter    3-8                    140.0                 15:1   \n",
       "1881  Public district   9-12                     65.0                  NaN   \n",
       "2113  Public district    1-5                    589.0                 16:1   \n",
       "2229  Public district    K-5                    651.0                 15:1   \n",
       "2235   Public charter   9-12                    345.0                  NaN   \n",
       "2388   Public charter    5-8                    255.0                 50:1   \n",
       "\n",
       "                                         District Score         Rating  \\\n",
       "514          Atlantic City Public School District     3  Below average   \n",
       "560            Adams-Arapahoe 28j School District     9  Above average   \n",
       "561            Adams-Arapahoe 28j School District     8  Above average   \n",
       "718                                Bay County Psa     5        Average   \n",
       "735          Beaumont Independent School District     7  Above average   \n",
       "885            Elysian Elementary School District     7  Above average   \n",
       "897           Billings Elementary School District     5        Average   \n",
       "899        Elder Grove Elementary School District     5        Average   \n",
       "905           Billings Elementary School District     4  Below average   \n",
       "1235               Brookings School District 05-1     6        Average   \n",
       "1236               Brookings School District 05-1     5        Average   \n",
       "1237               Brookings School District 05-1     4  Below average   \n",
       "1238               Brookings School District 05-1     4  Below average   \n",
       "1240               Brookings School District 05-1     3  Below average   \n",
       "1306                                Arrow Academy     3  Below average   \n",
       "1318                 Buffalo City School District     7  Above average   \n",
       "1326                 Buffalo City School District     6        Average   \n",
       "1635        Charlotte-Mecklenburg School District    10      Top rated   \n",
       "1718          City Of Chicago School District 299     9  Above average   \n",
       "1848    Hbcu Preparatory School 1 School District     6        Average   \n",
       "1881  College Station Independent School District     6        Average   \n",
       "2113   Corpus Christi Independent School District    10      Top rated   \n",
       "2229           Dallas Independent School District     9  Above average   \n",
       "2235                             Uplift Education     9  Above average   \n",
       "2388             Center For Academic Success Inc.     6        Average   \n",
       "\n",
       "     Address  Length  \n",
       "514      NaN       1  \n",
       "560      NaN       1  \n",
       "561      NaN       1  \n",
       "718      NaN       1  \n",
       "735      NaN       1  \n",
       "885      NaN       1  \n",
       "897      NaN       1  \n",
       "899      NaN       1  \n",
       "905      NaN       1  \n",
       "1235     NaN       1  \n",
       "1236     NaN       1  \n",
       "1237     NaN       1  \n",
       "1238     NaN       1  \n",
       "1240     NaN       1  \n",
       "1306     NaN       1  \n",
       "1318     NaN       1  \n",
       "1326     NaN       1  \n",
       "1635     NaN       1  \n",
       "1718     NaN       1  \n",
       "1848     NaN       1  \n",
       "1881     NaN       1  \n",
       "2113     NaN       1  \n",
       "2229     NaN       1  \n",
       "2235     NaN       1  \n",
       "2388     NaN       1  "
      ],
      "text/html": "<div>\n<style scoped>\n    .dataframe tbody tr th:only-of-type {\n        vertical-align: middle;\n    }\n\n    .dataframe tbody tr th {\n        vertical-align: top;\n    }\n\n    .dataframe thead th {\n        text-align: right;\n    }\n</style>\n<table border=\"1\" class=\"dataframe\">\n  <thead>\n    <tr style=\"text-align: right;\">\n      <th></th>\n      <th>School</th>\n      <th>Type</th>\n      <th>Grades</th>\n      <th>Total students enrolled</th>\n      <th>Students per teacher</th>\n      <th>District</th>\n      <th>Score</th>\n      <th>Rating</th>\n      <th>Address</th>\n      <th>Length</th>\n    </tr>\n  </thead>\n  <tbody>\n    <tr>\n      <th>514</th>\n      <td>BRIGHTON AVENUE SCHOOL30 North Brighton Avenue, Atlantic City, NJ, 08401</td>\n      <td>Public district</td>\n      <td>PK-5</td>\n      <td>346.0</td>\n      <td>10:1</td>\n      <td>Atlantic City Public School District</td>\n      <td>3</td>\n      <td>Below average</td>\n      <td>NaN</td>\n      <td>1</td>\n    </tr>\n    <tr>\n      <th>560</th>\n      <td>Aurora Quest K-8472 South Wheeling Street, Aurora, CO, 80012</td>\n      <td>Public district</td>\n      <td>K-8</td>\n      <td>599.0</td>\n      <td>21:1</td>\n      <td>Adams-Arapahoe 28j School District</td>\n      <td>9</td>\n      <td>Above average</td>\n      <td>NaN</td>\n      <td>1</td>\n    </tr>\n    <tr>\n      <th>561</th>\n      <td>Aurora Frontier K-83200 South Jericho Way, Aurora, CO, 80013</td>\n      <td>Public district</td>\n      <td>PK-8</td>\n      <td>697.0</td>\n      <td>21:1</td>\n      <td>Adams-Arapahoe 28j School District</td>\n      <td>8</td>\n      <td>Above average</td>\n      <td>NaN</td>\n      <td>1</td>\n    </tr>\n    <tr>\n      <th>718</th>\n      <td>Bay County PSA1110 State Street, Bay City, MI, 48706</td>\n      <td>Public charter</td>\n      <td>K-5</td>\n      <td>101.0</td>\n      <td>11:1</td>\n      <td>Bay County Psa</td>\n      <td>5</td>\n      <td>Average</td>\n      <td>NaN</td>\n      <td>1</td>\n    </tr>\n    <tr>\n      <th>735</th>\n      <td>Beaumont Isd Early College High S3395 Harrison Avenue, Beaumont, TX, 77706</td>\n      <td>Public district</td>\n      <td>9-12</td>\n      <td>127.0</td>\n      <td>NaN</td>\n      <td>Beaumont Independent School District</td>\n      <td>7</td>\n      <td>Above average</td>\n      <td>NaN</td>\n      <td>1</td>\n    </tr>\n    <tr>\n      <th>885</th>\n      <td>Elysian 7-86416 Elysian Road, Billings, MT, 59101</td>\n      <td>Public district</td>\n      <td>7-8</td>\n      <td>85.0</td>\n      <td>11:1</td>\n      <td>Elysian Elementary School District</td>\n      <td>7</td>\n      <td>Above average</td>\n      <td>NaN</td>\n      <td>1</td>\n    </tr>\n    <tr>\n      <th>897</th>\n      <td>Will James 7-81200 30th Street West, Billings, MT, 59102</td>\n      <td>Public district</td>\n      <td>6-8</td>\n      <td>522.0</td>\n      <td>18:1</td>\n      <td>Billings Elementary School District</td>\n      <td>5</td>\n      <td>Average</td>\n      <td>NaN</td>\n      <td>1</td>\n    </tr>\n    <tr>\n      <th>899</th>\n      <td>Elder Grove 7-81532 South 64 St West, Billings, MT, 59106</td>\n      <td>Public district</td>\n      <td>6-8</td>\n      <td>200.0</td>\n      <td>20:1</td>\n      <td>Elder Grove Elementary School District</td>\n      <td>5</td>\n      <td>Average</td>\n      <td>NaN</td>\n      <td>1</td>\n    </tr>\n    <tr>\n      <th>905</th>\n      <td>Castle Rock 7-81441 Governors Boulevard, Billings, MT, 59105</td>\n      <td>Public district</td>\n      <td>6-8</td>\n      <td>582.0</td>\n      <td>16:1</td>\n      <td>Billings Elementary School District</td>\n      <td>4</td>\n      <td>Below average</td>\n      <td>NaN</td>\n      <td>1</td>\n    </tr>\n    <tr>\n      <th>1235</th>\n      <td>Gs Mickelson Middle School - 021801 12th Street South, Brookings, SD, 57006</td>\n      <td>Public district</td>\n      <td>6-8</td>\n      <td>796.0</td>\n      <td>15:1</td>\n      <td>Brookings School District 05-1</td>\n      <td>6</td>\n      <td>Average</td>\n      <td>NaN</td>\n      <td>1</td>\n    </tr>\n    <tr>\n      <th>1236</th>\n      <td>Hillcrest Elementary - 04304 15th Avenue, Brookings, SD, 57006</td>\n      <td>Public district</td>\n      <td>K-3</td>\n      <td>277.0</td>\n      <td>13:1</td>\n      <td>Brookings School District 05-1</td>\n      <td>5</td>\n      <td>Average</td>\n      <td>NaN</td>\n      <td>1</td>\n    </tr>\n    <tr>\n      <th>1237</th>\n      <td>Camelot Intermediate - 061401 15th Street South, Brookings, SD, 57006</td>\n      <td>Public district</td>\n      <td>4-5</td>\n      <td>576.0</td>\n      <td>15:1</td>\n      <td>Brookings School District 05-1</td>\n      <td>4</td>\n      <td>Below average</td>\n      <td>NaN</td>\n      <td>1</td>\n    </tr>\n    <tr>\n      <th>1238</th>\n      <td>Brookings High School - 01530 Elm Avenue, Brookings, SD, 57006</td>\n      <td>Public district</td>\n      <td>9-12</td>\n      <td>917.0</td>\n      <td>16:1</td>\n      <td>Brookings School District 05-1</td>\n      <td>4</td>\n      <td>Below average</td>\n      <td>NaN</td>\n      <td>1</td>\n    </tr>\n    <tr>\n      <th>1240</th>\n      <td>Medary Elementary - 05718 5th Street South, Brookings, SD, 57006</td>\n      <td>Public district</td>\n      <td>K-3</td>\n      <td>370.0</td>\n      <td>12:1</td>\n      <td>Brookings School District 05-1</td>\n      <td>3</td>\n      <td>Below average</td>\n      <td>NaN</td>\n      <td>1</td>\n    </tr>\n    <tr>\n      <th>1306</th>\n      <td>Arrow Academy - Save Our Streets C1700 Groesbeck Street, Bryan, TX, 77803</td>\n      <td>Public charter</td>\n      <td>K-5</td>\n      <td>94.0</td>\n      <td>10:1</td>\n      <td>Arrow Academy</td>\n      <td>3</td>\n      <td>Below average</td>\n      <td>NaN</td>\n      <td>1</td>\n    </tr>\n    <tr>\n      <th>1318</th>\n      <td>Frederick Olmsted 64 At 78874 Amherst Street, Buffalo, NY, 14216</td>\n      <td>Public district</td>\n      <td>PK-4</td>\n      <td>598.0</td>\n      <td>20:1</td>\n      <td>Buffalo City School District</td>\n      <td>7</td>\n      <td>Above average</td>\n      <td>NaN</td>\n      <td>1</td>\n    </tr>\n    <tr>\n      <th>1326</th>\n      <td>Frederick Olmsted 56319 Suffolk Street, Buffalo, NY, 14215</td>\n      <td>Public district</td>\n      <td>5-12</td>\n      <td>826.0</td>\n      <td>12:1</td>\n      <td>Buffalo City School District</td>\n      <td>6</td>\n      <td>Average</td>\n      <td>NaN</td>\n      <td>1</td>\n    </tr>\n    <tr>\n      <th>1635</th>\n      <td>Charlotte Engineering Early College-UNCC9000 Robert D. Snyder Road, Charlotte, NC, 28262</td>\n      <td>Public district</td>\n      <td>9-11</td>\n      <td>308.0</td>\n      <td>14:1</td>\n      <td>Charlotte-Mecklenburg School District</td>\n      <td>10</td>\n      <td>Top rated</td>\n      <td>NaN</td>\n      <td>1</td>\n    </tr>\n    <tr>\n      <th>1718</th>\n      <td>BACK OF THE YARDS IB HS2111 West 47th Street, Chicago, IL, 60609</td>\n      <td>Public district</td>\n      <td>9-12</td>\n      <td>1064.0</td>\n      <td>14:1</td>\n      <td>City Of Chicago School District 299</td>\n      <td>9</td>\n      <td>Above average</td>\n      <td>NaN</td>\n      <td>1</td>\n    </tr>\n    <tr>\n      <th>1848</th>\n      <td>Phoenix Village Academy Primary 212601 Shaker Boulevard, Cleveland, OH, 44120</td>\n      <td>Public charter</td>\n      <td>3-8</td>\n      <td>140.0</td>\n      <td>15:1</td>\n      <td>Hbcu Preparatory School 1 School District</td>\n      <td>6</td>\n      <td>Average</td>\n      <td>NaN</td>\n      <td>1</td>\n    </tr>\n    <tr>\n      <th>1881</th>\n      <td>COLLEGE VIEW H1300 George Bush Drive, College Station, TX, 77840</td>\n      <td>Public district</td>\n      <td>9-12</td>\n      <td>65.0</td>\n      <td>NaN</td>\n      <td>College Station Independent School District</td>\n      <td>6</td>\n      <td>Average</td>\n      <td>NaN</td>\n      <td>1</td>\n    </tr>\n    <tr>\n      <th>2113</th>\n      <td>Windsor Park G/T4525 South Alameda Street, Corpus Christi, TX, 78412</td>\n      <td>Public district</td>\n      <td>1-5</td>\n      <td>589.0</td>\n      <td>16:1</td>\n      <td>Corpus Christi Independent School District</td>\n      <td>10</td>\n      <td>Top rated</td>\n      <td>NaN</td>\n      <td>1</td>\n    </tr>\n    <tr>\n      <th>2229</th>\n      <td>Mockingbird Elementary 5828 East Mockingbird Lane, Dallas, TX, 75206</td>\n      <td>Public district</td>\n      <td>K-5</td>\n      <td>651.0</td>\n      <td>15:1</td>\n      <td>Dallas Independent School District</td>\n      <td>9</td>\n      <td>Above average</td>\n      <td>NaN</td>\n      <td>1</td>\n    </tr>\n    <tr>\n      <th>2235</th>\n      <td>Uplift Infinity H S1825 Market Center Boulevard, Dallas, TX, 75207</td>\n      <td>Public charter</td>\n      <td>9-12</td>\n      <td>345.0</td>\n      <td>NaN</td>\n      <td>Uplift Education</td>\n      <td>9</td>\n      <td>Above average</td>\n      <td>NaN</td>\n      <td>1</td>\n    </tr>\n    <tr>\n      <th>2388</th>\n      <td>Center For Academic Success #41415 F Avenue, Douglas, AZ, 85607</td>\n      <td>Public charter</td>\n      <td>5-8</td>\n      <td>255.0</td>\n      <td>50:1</td>\n      <td>Center For Academic Success Inc.</td>\n      <td>6</td>\n      <td>Average</td>\n      <td>NaN</td>\n      <td>1</td>\n    </tr>\n  </tbody>\n</table>\n</div>"
     },
     "metadata": {},
     "execution_count": 57
    }
   ],
   "source": [
    "print(single_1.shape)\n",
    "single_1.head(25)"
   ]
  },
  {
   "cell_type": "code",
   "execution_count": 58,
   "metadata": {},
   "outputs": [],
   "source": [
    "# Too varied - need to do manual \n",
    "single_1.to_csv('csv/manual_clean.csv')"
   ]
  },
  {
   "source": [
    "### Single_3"
   ],
   "cell_type": "markdown",
   "metadata": {}
  },
  {
   "cell_type": "code",
   "execution_count": 59,
   "metadata": {},
   "outputs": [
    {
     "output_type": "stream",
     "name": "stdout",
     "text": [
      "(1, 10)\n"
     ]
    },
    {
     "output_type": "execute_result",
     "data": {
      "text/plain": [
       "                            School             Type Grades  \\\n",
       "1641  Northwest School Of The Arts  Public district   6-12   \n",
       "\n",
       "      Total students enrolled Students per teacher  \\\n",
       "1641                   1083.0                 14:1   \n",
       "\n",
       "                                   District Score         Rating  \\\n",
       "1641  Charlotte-Mecklenburg School District     9  Above average   \n",
       "\n",
       "             Address  Length  \n",
       "1641  North Carolina       3  "
      ],
      "text/html": "<div>\n<style scoped>\n    .dataframe tbody tr th:only-of-type {\n        vertical-align: middle;\n    }\n\n    .dataframe tbody tr th {\n        vertical-align: top;\n    }\n\n    .dataframe thead th {\n        text-align: right;\n    }\n</style>\n<table border=\"1\" class=\"dataframe\">\n  <thead>\n    <tr style=\"text-align: right;\">\n      <th></th>\n      <th>School</th>\n      <th>Type</th>\n      <th>Grades</th>\n      <th>Total students enrolled</th>\n      <th>Students per teacher</th>\n      <th>District</th>\n      <th>Score</th>\n      <th>Rating</th>\n      <th>Address</th>\n      <th>Length</th>\n    </tr>\n  </thead>\n  <tbody>\n    <tr>\n      <th>1641</th>\n      <td>Northwest School Of The Arts</td>\n      <td>Public district</td>\n      <td>6-12</td>\n      <td>1083.0</td>\n      <td>14:1</td>\n      <td>Charlotte-Mecklenburg School District</td>\n      <td>9</td>\n      <td>Above average</td>\n      <td>North Carolina</td>\n      <td>3</td>\n    </tr>\n  </tbody>\n</table>\n</div>"
     },
     "metadata": {},
     "execution_count": 59
    }
   ],
   "source": [
    "print(single_3.shape)\n",
    "single_3.head()"
   ]
  },
  {
   "cell_type": "code",
   "execution_count": 60,
   "metadata": {},
   "outputs": [],
   "source": [
    "single_3['Address'] = single_3['Address'].str.replace('North Carolina', '1415 Beatties Ford Rd, Charlotte, NC 28216')"
   ]
  },
  {
   "cell_type": "code",
   "execution_count": 61,
   "metadata": {},
   "outputs": [
    {
     "output_type": "execute_result",
     "data": {
      "text/plain": [
       "                            School             Type Grades  \\\n",
       "1641  Northwest School Of The Arts  Public district   6-12   \n",
       "\n",
       "      Total students enrolled Students per teacher  \\\n",
       "1641                   1083.0                 14:1   \n",
       "\n",
       "                                   District Score         Rating  \\\n",
       "1641  Charlotte-Mecklenburg School District     9  Above average   \n",
       "\n",
       "                                         Address  Length  \n",
       "1641  1415 Beatties Ford Rd, Charlotte, NC 28216       3  "
      ],
      "text/html": "<div>\n<style scoped>\n    .dataframe tbody tr th:only-of-type {\n        vertical-align: middle;\n    }\n\n    .dataframe tbody tr th {\n        vertical-align: top;\n    }\n\n    .dataframe thead th {\n        text-align: right;\n    }\n</style>\n<table border=\"1\" class=\"dataframe\">\n  <thead>\n    <tr style=\"text-align: right;\">\n      <th></th>\n      <th>School</th>\n      <th>Type</th>\n      <th>Grades</th>\n      <th>Total students enrolled</th>\n      <th>Students per teacher</th>\n      <th>District</th>\n      <th>Score</th>\n      <th>Rating</th>\n      <th>Address</th>\n      <th>Length</th>\n    </tr>\n  </thead>\n  <tbody>\n    <tr>\n      <th>1641</th>\n      <td>Northwest School Of The Arts</td>\n      <td>Public district</td>\n      <td>6-12</td>\n      <td>1083.0</td>\n      <td>14:1</td>\n      <td>Charlotte-Mecklenburg School District</td>\n      <td>9</td>\n      <td>Above average</td>\n      <td>1415 Beatties Ford Rd, Charlotte, NC 28216</td>\n      <td>3</td>\n    </tr>\n  </tbody>\n</table>\n</div>"
     },
     "metadata": {},
     "execution_count": 61
    }
   ],
   "source": [
    "single_3.head()"
   ]
  },
  {
   "source": [
    "### Unrated_single"
   ],
   "cell_type": "markdown",
   "metadata": {}
  },
  {
   "cell_type": "code",
   "execution_count": 62,
   "metadata": {},
   "outputs": [
    {
     "output_type": "stream",
     "name": "stdout",
     "text": [
      "(46, 10)\n"
     ]
    },
    {
     "output_type": "execute_result",
     "data": {
      "text/plain": [
       "                      Kids R Us 31398 Sperber Road, El Centro, CA, 92243   \n",
       "2671                                 Early Childhood School - GBC850 Elm Street, Elko, NV, 89801   \n",
       "2697                    Kinder Care Learning Center #10661216 North Abbe Road, Elyria, OH, 44035   \n",
       "3488                                    Hammonton ECEC601 North 4th Street, Hammonton, NJ, 08037   \n",
       "3616                    Good Shepherd School & Daycare-2342 Neff Avenue, Harrisonburg, VA, 22801   \n",
       "3917                              Almost Home Day Care 4578 Pennsylvania 110, Indiana, PA, 15701   \n",
       "3954                                 La Petite Academy #4221504 Mall Drive, Iowa City, IA, 52240   \n",
       "4744                                  Joshua's Playhouse DC1315 Beech Tree Pl, Lenoir, NC, 28645   \n",
       "5713                              Heavens Little Angels DC303 Cleveland St, Muscatine, IA, 52761   \n",
       "6218                                             Kids Care - YMCA337 Main St, Norwich, CT, 06360   \n",
       "6457                 La Petite Academy #74941428 West Granada Boulevard, Ormond Beach, FL, 32174   \n",
       "6541                Easter Seals Florida, Inc.6050 Babcock Street Southeast, Palm Bay, FL, 32909   \n",
       "6760                      Kinder Care Learning Center #3327455 Oakland Drive, Portage, MI, 49024   \n",
       "7216                 Kinder Care Learning Center #8153316 Blackhawk Road, Rock Island, IL, 61201   \n",
       "7878                                       Lollipop Lane CC2818 Avenue G, Scottsbluff, NE, 69361   \n",
       "7925                                  Southside Head Start 21729 Piston Ave, Scranton, PA, 18505   \n",
       "7964                                 Sunshine Kids Elc I1001 Roseland Road, Sebastian, FL, 32958   \n",
       "7988                   Rainbow Village Learning Center #1841 O-Mul-La-Oee Dr, Sebring, FL, 33870   \n",
       "8381                               Learning Station II3020 Research Dr, State College, PA, 16801   \n",
       "8397                          Kingdom Kid's Pre-School & CC238 N 5th St, Steubenville, OH, 43952   \n",
       "8573                                   Noahs Ark Pre-S1329 Paseo Del Pueblo Sur, Taos, NM, 87571   \n",
       "8621                     Miller Co Head Start Center I1900 Marietta Street, Texarkana, AR, 71854   \n",
       "8625                         Sunshine & Friends Christian DC2408 E 48th St, Texarkana, AR, 71854   \n",
       "8641                      Marydale Head Start Center 1102 West Park Avenue, Thibodaux, LA, 70301   \n",
       "8917               Gerber School-Cunningham (Day)1301 North Cunningham Avenue, Urbana, IL, 61802   \n",
       "8918               Gerber School-Cunningham (Int)1301 North Cunningham Avenue, Urbana, IL, 61802   \n",
       "8919                      Cunningham-Circle Academy (Int)1204 Division Avenue, Urbana, IL, 61801   \n",
       "8923             Gerber School-Cunningham (Combo)1301 North Cunningham Avenue, Urbana, IL, 61802   \n",
       "9049                             Creative Achievement Academy 3P.O. Box 865, Vineland, NJ, 08362   \n",
       "9119        R-Kidz Early Childhood Education Inc.410 South Wilbur Avenue, Walla Walla, WA, 99362   \n",
       "9573                     Winona Early Childhood Special Ed.903 Gilmore Avenue, Winona, MN, 55987   \n",
       "\n",
       "                 Type    Grades  Total students enrolled Students per teacher  \\\n",
       "881           Private        PK                      NaN                  NaN   \n",
       "1002          Private        PK                      NaN                  NaN   \n",
       "1384          Private      7-12                      NaN                  NaN   \n",
       "1479          Private      PK-K                      NaN                  NaN   \n",
       "1576          Private      PK-K                      NaN                  NaN   \n",
       "1579          Private      PK-K                      NaN                  NaN   \n",
       "1792  Public district     10-12                      NaN                  NaN   \n",
       "1796          Private        PK                      NaN                  NaN   \n",
       "1797  Public district      6-12                      NaN                  NaN   \n",
       "1995          Private      PK-4                     22.0                  NaN   \n",
       "2171  Public district      4-12                     60.0                 15:1   \n",
       "2172          Private        PK                      NaN                  NaN   \n",
       "2174          Private        PK                      NaN                  NaN   \n",
       "2494          Private        PK                      NaN                  NaN   \n",
       "2575          Private        PK                      NaN                  NaN   \n",
       "2604          Private        PK                      NaN                  NaN   \n",
       "2671  Public district  Ungraded                     32.0                  NaN   \n",
       "2697          Private        PK                      NaN                  NaN   \n",
       "3488  Public district      PK-1                    354.0                 13:1   \n",
       "3616          Private      PK-5                     99.0                  NaN   \n",
       "3917          Private        PK                      NaN                  NaN   \n",
       "3954          Private        PK                      NaN                  NaN   \n",
       "4744          Private        PK                      NaN                  NaN   \n",
       "5713          Private        PK                      NaN                  NaN   \n",
       "6218          Private        PK                      NaN                  NaN   \n",
       "6457          Private        PK                      NaN                  NaN   \n",
       "6541  Public district  Ungraded                      NaN                  NaN   \n",
       "6760          Private        PK                      NaN                  NaN   \n",
       "7216          Private        PK                      NaN                  NaN   \n",
       "7878          Private        PK                      NaN                  NaN   \n",
       "7925          Private        PK                      NaN                  NaN   \n",
       "7964          Private        PK                      NaN                  NaN   \n",
       "7988          Private        PK                      NaN                  NaN   \n",
       "8381          Private        PK                      NaN                  NaN   \n",
       "8397          Private        PK                      NaN                  NaN   \n",
       "8573          Private        PK                      NaN                  NaN   \n",
       "8621          Private        PK                      NaN                  NaN   \n",
       "8625          Private        PK                      NaN                  NaN   \n",
       "8641          Private        PK                      NaN                  NaN   \n",
       "8917          Private  Ungraded                      NaN                  NaN   \n",
       "8918          Private  Ungraded                      NaN                  NaN   \n",
       "8919          Private  Ungraded                      NaN                  NaN   \n",
       "8923          Private  Ungraded                      NaN                  NaN   \n",
       "9049          Private      6-12                      NaN                  NaN   \n",
       "9119          Private      PK-K                     29.0                  NaN   \n",
       "9573  Public district        PK                    102.0                 15:1   \n",
       "\n",
       "                                District  Score  \\\n",
       "881                                  NaN      0   \n",
       "1002                                 NaN      0   \n",
       "1384                                 NaN      0   \n",
       "1479                                 NaN      0   \n",
       "1576                                 NaN      0   \n",
       "1579                                 NaN      0   \n",
       "1792                      Davis District      0   \n",
       "1796                                 NaN      0   \n",
       "1797                      Davis District      0   \n",
       "1995                                 NaN      0   \n",
       "2171                            Okaloosa      0   \n",
       "2172                                 NaN      0   \n",
       "2174                                 NaN      0   \n",
       "2494                                 NaN      0   \n",
       "2575                                 NaN      0   \n",
       "2604                                 NaN      0   \n",
       "2671         Elko County School District      0   \n",
       "2697                                 NaN      0   \n",
       "3488           Hammonton School District      0   \n",
       "3616                                 NaN      0   \n",
       "3917                                 NaN      0   \n",
       "3954                                 NaN      0   \n",
       "4744                                 NaN      0   \n",
       "5713                                 NaN      0   \n",
       "6218                                 NaN      0   \n",
       "6457                                 NaN      0   \n",
       "6541                             Brevard      0   \n",
       "6760                                 NaN      0   \n",
       "7216                                 NaN      0   \n",
       "7878                                 NaN      0   \n",
       "7925                                 NaN      0   \n",
       "7964                                 NaN      0   \n",
       "7988                                 NaN      0   \n",
       "8381                                 NaN      0   \n",
       "8397                                 NaN      0   \n",
       "8573                                 NaN      0   \n",
       "8621                                 NaN      0   \n",
       "8625                                 NaN      0   \n",
       "8641                                 NaN      0   \n",
       "8917                                 NaN      0   \n",
       "8918                                 NaN      0   \n",
       "8919                                 NaN      0   \n",
       "8923                                 NaN      0   \n",
       "9049                                 NaN      0   \n",
       "9119                                 NaN      0   \n",
       "9573  Winona Area Public School District      0   \n",
       "\n",
       "                                                                                                     Rating  \\\n",
       "881                                                                                       Currently unrated   \n",
       "1002                                                                                      Currently unrated   \n",
       "1384                                                                                      Currently unrated   \n",
       "1479                                                                                      Currently unrated   \n",
       "1576                                                                                      Currently unrated   \n",
       "1579                                                                                      Currently unrated   \n",
       "1792  Currently unrated3-6 Program (Clearfield HS)938 South 1000 East, Clearfield, UT, 84015 Homes for sale   \n",
       "1796                                                                                      Currently unrated   \n",
       "1797                                                                                      Currently unrated   \n",
       "1995                                                                                      Currently unrated   \n",
       "2171                                                                                      Currently unrated   \n",
       "2172                                                                                      Currently unrated   \n",
       "2174                                                                                      Currently unrated   \n",
       "2494                                                                                      Currently unrated   \n",
       "2575                                                                                      Currently unrated   \n",
       "2604                                                                                      Currently unrated   \n",
       "2671                                                                                      Currently unrated   \n",
       "2697                                                                                      Currently unrated   \n",
       "3488                                                                                      Currently unrated   \n",
       "3616                                                                                      Currently unrated   \n",
       "3917                                                                                      Currently unrated   \n",
       "3954                                                                                      Currently unrated   \n",
       "4744                                                                                      Currently unrated   \n",
       "5713                                                                                      Currently unrated   \n",
       "6218                                                                                      Currently unrated   \n",
       "6457                                                                                      Currently unrated   \n",
       "6541                                                                                      Currently unrated   \n",
       "6760                                                                                      Currently unrated   \n",
       "7216                                                                                      Currently unrated   \n",
       "7878                                                                                      Currently unrated   \n",
       "7925                                                                                      Currently unrated   \n",
       "7964                                                                                      Currently unrated   \n",
       "7988                                                                                      Currently unrated   \n",
       "8381                                                                                      Currently unrated   \n",
       "8397                                                                                      Currently unrated   \n",
       "8573                                                                                      Currently unrated   \n",
       "8621                                                                                      Currently unrated   \n",
       "8625                                                                                      Currently unrated   \n",
       "8641                                                                                      Currently unrated   \n",
       "8917                                                                                      Currently unrated   \n",
       "8918                                                                                      Currently unrated   \n",
       "8919                                                                                      Currently unrated   \n",
       "8923                                                                                      Currently unrated   \n",
       "9049                                                                                      Currently unrated   \n",
       "9119                                                                                      Currently unrated   \n",
       "9573                                                                                      Currently unrated   \n",
       "\n",
       "                                                                                           Address  \\\n",
       "881                [Bessie H Corhn Day Care Center 21924 Territorial Rd, Benton Harbor, MI, 49022]   \n",
       "1002        [Kinder Care Learning Center #10872410 East Washington Street, Bloomington, IL, 61704]   \n",
       "1384                                               [Farr James F71 Pearl St, Cambridge, MA, 02139]   \n",
       "1479               [The Goddard School - Carmel (City Center)160 Medical Drive, Carmel, IN, 46032]   \n",
       "1576              [Chesterbrook Academy Champaign UIUC2001 South Oak Street, Champaign, IL, 61820]   \n",
       "1579                  [Kinder Care Learning Center 1068410 Devonshire Drive, Champaign, IL, 61820]   \n",
       "1792                       [3-6 Program (Clearfield HS)938 South 1000 East, Clearfield, UT, 84015]   \n",
       "1796                                 [College For Tots 1805 East 700 South, Clearfield, UT, 84015]   \n",
       "1797  [Youth Health Associates Clearfield I II III (YIC)430 East 450 South, Clearfield, UT, 84015]   \n",
       "1995                 [Kinder Care Learning Center #3005703625 Central Avenue, Columbus, IN, 47203]   \n",
       "2171                    [Emerald Coast Career Institute N500 Alabama Street, Crestview, FL, 32536]   \n",
       "2172                              [Childcare Network 1321040 Farmers Street, Crestview, FL, 32539]   \n",
       "2174                            [Kids Discovery I I I2101 P J Adams Parkway, Crestview, FL, 32536]   \n",
       "2494            [Kinder Care Learning Center #387525 East Saginaw Street, East Lansing, MI, 48823]   \n",
       "2575                          [Effingham County Family YMCA1208 N Wenthe Dr, Effingham, IL, 62401]   \n",
       "2604                                          [Kids R Us 31398 Sperber Road, El Centro, CA, 92243]   \n",
       "2671                                 [Early Childhood School - GBC850 Elm Street, Elko, NV, 89801]   \n",
       "2697                    [Kinder Care Learning Center #10661216 North Abbe Road, Elyria, OH, 44035]   \n",
       "3488                                    [Hammonton ECEC601 North 4th Street, Hammonton, NJ, 08037]   \n",
       "3616                    [Good Shepherd School & Daycare-2342 Neff Avenue, Harrisonburg, VA, 22801]   \n",
       "3917                              [Almost Home Day Care 4578 Pennsylvania 110, Indiana, PA, 15701]   \n",
       "3954                                 [La Petite Academy #4221504 Mall Drive, Iowa City, IA, 52240]   \n",
       "4744                                  [Joshua's Playhouse DC1315 Beech Tree Pl, Lenoir, NC, 28645]   \n",
       "5713                              [Heavens Little Angels DC303 Cleveland St, Muscatine, IA, 52761]   \n",
       "6218                                             [Kids Care - YMCA337 Main St, Norwich, CT, 06360]   \n",
       "6457                 [La Petite Academy #74941428 West Granada Boulevard, Ormond Beach, FL, 32174]   \n",
       "6541                [Easter Seals Florida, Inc.6050 Babcock Street Southeast, Palm Bay, FL, 32909]   \n",
       "6760                      [Kinder Care Learning Center #3327455 Oakland Drive, Portage, MI, 49024]   \n",
       "7216                 [Kinder Care Learning Center #8153316 Blackhawk Road, Rock Island, IL, 61201]   \n",
       "7878                                       [Lollipop Lane CC2818 Avenue G, Scottsbluff, NE, 69361]   \n",
       "7925                                  [Southside Head Start 21729 Piston Ave, Scranton, PA, 18505]   \n",
       "7964                                 [Sunshine Kids Elc I1001 Roseland Road, Sebastian, FL, 32958]   \n",
       "7988                   [Rainbow Village Learning Center #1841 O-Mul-La-Oee Dr, Sebring, FL, 33870]   \n",
       "8381                               [Learning Station II3020 Research Dr, State College, PA, 16801]   \n",
       "8397                          [Kingdom Kid's Pre-School & CC238 N 5th St, Steubenville, OH, 43952]   \n",
       "8573                                   [Noahs Ark Pre-S1329 Paseo Del Pueblo Sur, Taos, NM, 87571]   \n",
       "8621                     [Miller Co Head Start Center I1900 Marietta Street, Texarkana, AR, 71854]   \n",
       "8625                         [Sunshine & Friends Christian DC2408 E 48th St, Texarkana, AR, 71854]   \n",
       "8641                      [Marydale Head Start Center 1102 West Park Avenue, Thibodaux, LA, 70301]   \n",
       "8917               [Gerber School-Cunningham (Day)1301 North Cunningham Avenue, Urbana, IL, 61802]   \n",
       "8918               [Gerber School-Cunningham (Int)1301 North Cunningham Avenue, Urbana, IL, 61802]   \n",
       "8919                      [Cunningham-Circle Academy (Int)1204 Division Avenue, Urbana, IL, 61801]   \n",
       "8923             [Gerber School-Cunningham (Combo)1301 North Cunningham Avenue, Urbana, IL, 61802]   \n",
       "9049                             [Creative Achievement Academy 3P.O. Box 865, Vineland, NJ, 08362]   \n",
       "9119        [R-Kidz Early Childhood Education Inc.410 South Wilbur Avenue, Walla Walla, WA, 99362]   \n",
       "9573                     [Winona Early Childhood Special Ed.903 Gilmore Avenue, Winona, MN, 55987]   \n",
       "\n",
       "      Length  \n",
       "881        1  \n",
       "1002       1  \n",
       "1384       1  \n",
       "1479       1  \n",
       "1576       1  \n",
       "1579       1  \n",
       "1792       1  \n",
       "1796       1  \n",
       "1797       1  \n",
       "1995       1  \n",
       "2171       1  \n",
       "2172       1  \n",
       "2174       1  \n",
       "2494       1  \n",
       "2575       1  \n",
       "2604       1  \n",
       "2671       1  \n",
       "2697       1  \n",
       "3488       1  \n",
       "3616       1  \n",
       "3917       1  \n",
       "3954       1  \n",
       "4744       1  \n",
       "5713       1  \n",
       "6218       1  \n",
       "6457       1  \n",
       "6541       1  \n",
       "6760       1  \n",
       "7216       1  \n",
       "7878       1  \n",
       "7925       1  \n",
       "7964       1  \n",
       "7988       1  \n",
       "8381       1  \n",
       "8397       1  \n",
       "8573       1  \n",
       "8621       1  \n",
       "8625       1  \n",
       "8641       1  \n",
       "8917       1  \n",
       "8918       1  \n",
       "8919       1  \n",
       "8923       1  \n",
       "9049       1  \n",
       "9119       1  \n",
       "9573       1  "
      ],
      "text/html": "<div>\n<style scoped>\n    .dataframe tbody tr th:only-of-type {\n        vertical-align: middle;\n    }\n\n    .dataframe tbody tr th {\n        vertical-align: top;\n    }\n\n    .dataframe thead th {\n        text-align: right;\n    }\n</style>\n<table border=\"1\" class=\"dataframe\">\n  <thead>\n    <tr style=\"text-align: right;\">\n      <th></th>\n      <th>School</th>\n      <th>Type</th>\n      <th>Grades</th>\n      <th>Total students enrolled</th>\n      <th>Students per teacher</th>\n      <th>District</th>\n      <th>Score</th>\n      <th>Rating</th>\n      <th>Address</th>\n      <th>Length</th>\n    </tr>\n  </thead>\n  <tbody>\n    <tr>\n      <th>881</th>\n      <td>Bessie H Corhn Day Care Center 21924 Territorial Rd, Benton Harbor, MI, 49022</td>\n      <td>Private</td>\n      <td>PK</td>\n      <td>NaN</td>\n      <td>NaN</td>\n      <td>NaN</td>\n      <td>0</td>\n      <td>Currently unrated</td>\n      <td>[Bessie H Corhn Day Care Center 21924 Territorial Rd, Benton Harbor, MI, 49022]</td>\n      <td>1</td>\n    </tr>\n    <tr>\n      <th>1002</th>\n      <td>Kinder Care Learning Center #10872410 East Washington Street, Bloomington, IL, 61704</td>\n      <td>Private</td>\n      <td>PK</td>\n      <td>NaN</td>\n      <td>NaN</td>\n      <td>NaN</td>\n      <td>0</td>\n      <td>Currently unrated</td>\n      <td>[Kinder Care Learning Center #10872410 East Washington Street, Bloomington, IL, 61704]</td>\n      <td>1</td>\n    </tr>\n    <tr>\n      <th>1384</th>\n      <td>Farr James F71 Pearl St, Cambridge, MA, 02139</td>\n      <td>Private</td>\n      <td>7-12</td>\n      <td>NaN</td>\n      <td>NaN</td>\n      <td>NaN</td>\n      <td>0</td>\n      <td>Currently unrated</td>\n      <td>[Farr James F71 Pearl St, Cambridge, MA, 02139]</td>\n      <td>1</td>\n    </tr>\n    <tr>\n      <th>1479</th>\n      <td>The Goddard School - Carmel (City Center)160 Medical Drive, Carmel, IN, 46032</td>\n      <td>Private</td>\n      <td>PK-K</td>\n      <td>NaN</td>\n      <td>NaN</td>\n      <td>NaN</td>\n      <td>0</td>\n      <td>Currently unrated</td>\n      <td>[The Goddard School - Carmel (City Center)160 Medical Drive, Carmel, IN, 46032]</td>\n      <td>1</td>\n    </tr>\n    <tr>\n      <th>1576</th>\n      <td>Chesterbrook Academy Champaign UIUC2001 South Oak Street, Champaign, IL, 61820</td>\n      <td>Private</td>\n      <td>PK-K</td>\n      <td>NaN</td>\n      <td>NaN</td>\n      <td>NaN</td>\n      <td>0</td>\n      <td>Currently unrated</td>\n      <td>[Chesterbrook Academy Champaign UIUC2001 South Oak Street, Champaign, IL, 61820]</td>\n      <td>1</td>\n    </tr>\n    <tr>\n      <th>1579</th>\n      <td>Kinder Care Learning Center 1068410 Devonshire Drive, Champaign, IL, 61820</td>\n      <td>Private</td>\n      <td>PK-K</td>\n      <td>NaN</td>\n      <td>NaN</td>\n      <td>NaN</td>\n      <td>0</td>\n      <td>Currently unrated</td>\n      <td>[Kinder Care Learning Center 1068410 Devonshire Drive, Champaign, IL, 61820]</td>\n      <td>1</td>\n    </tr>\n    <tr>\n      <th>1792</th>\n      <td>3-6 Program (Clearfield HS)938 South 1000 East, Clearfield, UT, 84015</td>\n      <td>Public district</td>\n      <td>10-12</td>\n      <td>NaN</td>\n      <td>NaN</td>\n      <td>Davis District</td>\n      <td>0</td>\n      <td>Currently unrated3-6 Program (Clearfield HS)938 South 1000 East, Clearfield, UT, 84015 Homes for sale</td>\n      <td>[3-6 Program (Clearfield HS)938 South 1000 East, Clearfield, UT, 84015]</td>\n      <td>1</td>\n    </tr>\n    <tr>\n      <th>1796</th>\n      <td>College For Tots 1805 East 700 South, Clearfield, UT, 84015</td>\n      <td>Private</td>\n      <td>PK</td>\n      <td>NaN</td>\n      <td>NaN</td>\n      <td>NaN</td>\n      <td>0</td>\n      <td>Currently unrated</td>\n      <td>[College For Tots 1805 East 700 South, Clearfield, UT, 84015]</td>\n      <td>1</td>\n    </tr>\n    <tr>\n      <th>1797</th>\n      <td>Youth Health Associates Clearfield I II III (YIC)430 East 450 South, Clearfield, UT, 84015</td>\n      <td>Public district</td>\n      <td>6-12</td>\n      <td>NaN</td>\n      <td>NaN</td>\n      <td>Davis District</td>\n      <td>0</td>\n      <td>Currently unrated</td>\n      <td>[Youth Health Associates Clearfield I II III (YIC)430 East 450 South, Clearfield, UT, 84015]</td>\n      <td>1</td>\n    </tr>\n    <tr>\n      <th>1995</th>\n      <td>Kinder Care Learning Center #3005703625 Central Avenue, Columbus, IN, 47203</td>\n      <td>Private</td>\n      <td>PK-4</td>\n      <td>22.0</td>\n      <td>NaN</td>\n      <td>NaN</td>\n      <td>0</td>\n      <td>Currently unrated</td>\n      <td>[Kinder Care Learning Center #3005703625 Central Avenue, Columbus, IN, 47203]</td>\n      <td>1</td>\n    </tr>\n    <tr>\n      <th>2171</th>\n      <td>Emerald Coast Career Institute N500 Alabama Street, Crestview, FL, 32536</td>\n      <td>Public district</td>\n      <td>4-12</td>\n      <td>60.0</td>\n      <td>15:1</td>\n      <td>Okaloosa</td>\n      <td>0</td>\n      <td>Currently unrated</td>\n      <td>[Emerald Coast Career Institute N500 Alabama Street, Crestview, FL, 32536]</td>\n      <td>1</td>\n    </tr>\n    <tr>\n      <th>2172</th>\n      <td>Childcare Network 1321040 Farmers Street, Crestview, FL, 32539</td>\n      <td>Private</td>\n      <td>PK</td>\n      <td>NaN</td>\n      <td>NaN</td>\n      <td>NaN</td>\n      <td>0</td>\n      <td>Currently unrated</td>\n      <td>[Childcare Network 1321040 Farmers Street, Crestview, FL, 32539]</td>\n      <td>1</td>\n    </tr>\n    <tr>\n      <th>2174</th>\n      <td>Kids Discovery I I I2101 P J Adams Parkway, Crestview, FL, 32536</td>\n      <td>Private</td>\n      <td>PK</td>\n      <td>NaN</td>\n      <td>NaN</td>\n      <td>NaN</td>\n      <td>0</td>\n      <td>Currently unrated</td>\n      <td>[Kids Discovery I I I2101 P J Adams Parkway, Crestview, FL, 32536]</td>\n      <td>1</td>\n    </tr>\n    <tr>\n      <th>2494</th>\n      <td>Kinder Care Learning Center #387525 East Saginaw Street, East Lansing, MI, 48823</td>\n      <td>Private</td>\n      <td>PK</td>\n      <td>NaN</td>\n      <td>NaN</td>\n      <td>NaN</td>\n      <td>0</td>\n      <td>Currently unrated</td>\n      <td>[Kinder Care Learning Center #387525 East Saginaw Street, East Lansing, MI, 48823]</td>\n      <td>1</td>\n    </tr>\n    <tr>\n      <th>2575</th>\n      <td>Effingham County Family YMCA1208 N Wenthe Dr, Effingham, IL, 62401</td>\n      <td>Private</td>\n      <td>PK</td>\n      <td>NaN</td>\n      <td>NaN</td>\n      <td>NaN</td>\n      <td>0</td>\n      <td>Currently unrated</td>\n      <td>[Effingham County Family YMCA1208 N Wenthe Dr, Effingham, IL, 62401]</td>\n      <td>1</td>\n    </tr>\n    <tr>\n      <th>2604</th>\n      <td>Kids R Us 31398 Sperber Road, El Centro, CA, 92243</td>\n      <td>Private</td>\n      <td>PK</td>\n      <td>NaN</td>\n      <td>NaN</td>\n      <td>NaN</td>\n      <td>0</td>\n      <td>Currently unrated</td>\n      <td>[Kids R Us 31398 Sperber Road, El Centro, CA, 92243]</td>\n      <td>1</td>\n    </tr>\n    <tr>\n      <th>2671</th>\n      <td>Early Childhood School - GBC850 Elm Street, Elko, NV, 89801</td>\n      <td>Public district</td>\n      <td>Ungraded</td>\n      <td>32.0</td>\n      <td>NaN</td>\n      <td>Elko County School District</td>\n      <td>0</td>\n      <td>Currently unrated</td>\n      <td>[Early Childhood School - GBC850 Elm Street, Elko, NV, 89801]</td>\n      <td>1</td>\n    </tr>\n    <tr>\n      <th>2697</th>\n      <td>Kinder Care Learning Center #10661216 North Abbe Road, Elyria, OH, 44035</td>\n      <td>Private</td>\n      <td>PK</td>\n      <td>NaN</td>\n      <td>NaN</td>\n      <td>NaN</td>\n      <td>0</td>\n      <td>Currently unrated</td>\n      <td>[Kinder Care Learning Center #10661216 North Abbe Road, Elyria, OH, 44035]</td>\n      <td>1</td>\n    </tr>\n    <tr>\n      <th>3488</th>\n      <td>Hammonton ECEC601 North 4th Street, Hammonton, NJ, 08037</td>\n      <td>Public district</td>\n      <td>PK-1</td>\n      <td>354.0</td>\n      <td>13:1</td>\n      <td>Hammonton School District</td>\n      <td>0</td>\n      <td>Currently unrated</td>\n      <td>[Hammonton ECEC601 North 4th Street, Hammonton, NJ, 08037]</td>\n      <td>1</td>\n    </tr>\n    <tr>\n      <th>3616</th>\n      <td>Good Shepherd School &amp; Daycare-2342 Neff Avenue, Harrisonburg, VA, 22801</td>\n      <td>Private</td>\n      <td>PK-5</td>\n      <td>99.0</td>\n      <td>NaN</td>\n      <td>NaN</td>\n      <td>0</td>\n      <td>Currently unrated</td>\n      <td>[Good Shepherd School &amp; Daycare-2342 Neff Avenue, Harrisonburg, VA, 22801]</td>\n      <td>1</td>\n    </tr>\n    <tr>\n      <th>3917</th>\n      <td>Almost Home Day Care 4578 Pennsylvania 110, Indiana, PA, 15701</td>\n      <td>Private</td>\n      <td>PK</td>\n      <td>NaN</td>\n      <td>NaN</td>\n      <td>NaN</td>\n      <td>0</td>\n      <td>Currently unrated</td>\n      <td>[Almost Home Day Care 4578 Pennsylvania 110, Indiana, PA, 15701]</td>\n      <td>1</td>\n    </tr>\n    <tr>\n      <th>3954</th>\n      <td>La Petite Academy #4221504 Mall Drive, Iowa City, IA, 52240</td>\n      <td>Private</td>\n      <td>PK</td>\n      <td>NaN</td>\n      <td>NaN</td>\n      <td>NaN</td>\n      <td>0</td>\n      <td>Currently unrated</td>\n      <td>[La Petite Academy #4221504 Mall Drive, Iowa City, IA, 52240]</td>\n      <td>1</td>\n    </tr>\n    <tr>\n      <th>4744</th>\n      <td>Joshua's Playhouse DC1315 Beech Tree Pl, Lenoir, NC, 28645</td>\n      <td>Private</td>\n      <td>PK</td>\n      <td>NaN</td>\n      <td>NaN</td>\n      <td>NaN</td>\n      <td>0</td>\n      <td>Currently unrated</td>\n      <td>[Joshua's Playhouse DC1315 Beech Tree Pl, Lenoir, NC, 28645]</td>\n      <td>1</td>\n    </tr>\n    <tr>\n      <th>5713</th>\n      <td>Heavens Little Angels DC303 Cleveland St, Muscatine, IA, 52761</td>\n      <td>Private</td>\n      <td>PK</td>\n      <td>NaN</td>\n      <td>NaN</td>\n      <td>NaN</td>\n      <td>0</td>\n      <td>Currently unrated</td>\n      <td>[Heavens Little Angels DC303 Cleveland St, Muscatine, IA, 52761]</td>\n      <td>1</td>\n    </tr>\n    <tr>\n      <th>6218</th>\n      <td>Kids Care - YMCA337 Main St, Norwich, CT, 06360</td>\n      <td>Private</td>\n      <td>PK</td>\n      <td>NaN</td>\n      <td>NaN</td>\n      <td>NaN</td>\n      <td>0</td>\n      <td>Currently unrated</td>\n      <td>[Kids Care - YMCA337 Main St, Norwich, CT, 06360]</td>\n      <td>1</td>\n    </tr>\n    <tr>\n      <th>6457</th>\n      <td>La Petite Academy #74941428 West Granada Boulevard, Ormond Beach, FL, 32174</td>\n      <td>Private</td>\n      <td>PK</td>\n      <td>NaN</td>\n      <td>NaN</td>\n      <td>NaN</td>\n      <td>0</td>\n      <td>Currently unrated</td>\n      <td>[La Petite Academy #74941428 West Granada Boulevard, Ormond Beach, FL, 32174]</td>\n      <td>1</td>\n    </tr>\n    <tr>\n      <th>6541</th>\n      <td>Easter Seals Florida, Inc.6050 Babcock Street Southeast, Palm Bay, FL, 32909</td>\n      <td>Public district</td>\n      <td>Ungraded</td>\n      <td>NaN</td>\n      <td>NaN</td>\n      <td>Brevard</td>\n      <td>0</td>\n      <td>Currently unrated</td>\n      <td>[Easter Seals Florida, Inc.6050 Babcock Street Southeast, Palm Bay, FL, 32909]</td>\n      <td>1</td>\n    </tr>\n    <tr>\n      <th>6760</th>\n      <td>Kinder Care Learning Center #3327455 Oakland Drive, Portage, MI, 49024</td>\n      <td>Private</td>\n      <td>PK</td>\n      <td>NaN</td>\n      <td>NaN</td>\n      <td>NaN</td>\n      <td>0</td>\n      <td>Currently unrated</td>\n      <td>[Kinder Care Learning Center #3327455 Oakland Drive, Portage, MI, 49024]</td>\n      <td>1</td>\n    </tr>\n    <tr>\n      <th>7216</th>\n      <td>Kinder Care Learning Center #8153316 Blackhawk Road, Rock Island, IL, 61201</td>\n      <td>Private</td>\n      <td>PK</td>\n      <td>NaN</td>\n      <td>NaN</td>\n      <td>NaN</td>\n      <td>0</td>\n      <td>Currently unrated</td>\n      <td>[Kinder Care Learning Center #8153316 Blackhawk Road, Rock Island, IL, 61201]</td>\n      <td>1</td>\n    </tr>\n    <tr>\n      <th>7878</th>\n      <td>Lollipop Lane CC2818 Avenue G, Scottsbluff, NE, 69361</td>\n      <td>Private</td>\n      <td>PK</td>\n      <td>NaN</td>\n      <td>NaN</td>\n      <td>NaN</td>\n      <td>0</td>\n      <td>Currently unrated</td>\n      <td>[Lollipop Lane CC2818 Avenue G, Scottsbluff, NE, 69361]</td>\n      <td>1</td>\n    </tr>\n    <tr>\n      <th>7925</th>\n      <td>Southside Head Start 21729 Piston Ave, Scranton, PA, 18505</td>\n      <td>Private</td>\n      <td>PK</td>\n      <td>NaN</td>\n      <td>NaN</td>\n      <td>NaN</td>\n      <td>0</td>\n      <td>Currently unrated</td>\n      <td>[Southside Head Start 21729 Piston Ave, Scranton, PA, 18505]</td>\n      <td>1</td>\n    </tr>\n    <tr>\n      <th>7964</th>\n      <td>Sunshine Kids Elc I1001 Roseland Road, Sebastian, FL, 32958</td>\n      <td>Private</td>\n      <td>PK</td>\n      <td>NaN</td>\n      <td>NaN</td>\n      <td>NaN</td>\n      <td>0</td>\n      <td>Currently unrated</td>\n      <td>[Sunshine Kids Elc I1001 Roseland Road, Sebastian, FL, 32958]</td>\n      <td>1</td>\n    </tr>\n    <tr>\n      <th>7988</th>\n      <td>Rainbow Village Learning Center #1841 O-Mul-La-Oee Dr, Sebring, FL, 33870</td>\n      <td>Private</td>\n      <td>PK</td>\n      <td>NaN</td>\n      <td>NaN</td>\n      <td>NaN</td>\n      <td>0</td>\n      <td>Currently unrated</td>\n      <td>[Rainbow Village Learning Center #1841 O-Mul-La-Oee Dr, Sebring, FL, 33870]</td>\n      <td>1</td>\n    </tr>\n    <tr>\n      <th>8381</th>\n      <td>Learning Station II3020 Research Dr, State College, PA, 16801</td>\n      <td>Private</td>\n      <td>PK</td>\n      <td>NaN</td>\n      <td>NaN</td>\n      <td>NaN</td>\n      <td>0</td>\n      <td>Currently unrated</td>\n      <td>[Learning Station II3020 Research Dr, State College, PA, 16801]</td>\n      <td>1</td>\n    </tr>\n    <tr>\n      <th>8397</th>\n      <td>Kingdom Kid's Pre-School &amp; CC238 N 5th St, Steubenville, OH, 43952</td>\n      <td>Private</td>\n      <td>PK</td>\n      <td>NaN</td>\n      <td>NaN</td>\n      <td>NaN</td>\n      <td>0</td>\n      <td>Currently unrated</td>\n      <td>[Kingdom Kid's Pre-School &amp; CC238 N 5th St, Steubenville, OH, 43952]</td>\n      <td>1</td>\n    </tr>\n    <tr>\n      <th>8573</th>\n      <td>Noahs Ark Pre-S1329 Paseo Del Pueblo Sur, Taos, NM, 87571</td>\n      <td>Private</td>\n      <td>PK</td>\n      <td>NaN</td>\n      <td>NaN</td>\n      <td>NaN</td>\n      <td>0</td>\n      <td>Currently unrated</td>\n      <td>[Noahs Ark Pre-S1329 Paseo Del Pueblo Sur, Taos, NM, 87571]</td>\n      <td>1</td>\n    </tr>\n    <tr>\n      <th>8621</th>\n      <td>Miller Co Head Start Center I1900 Marietta Street, Texarkana, AR, 71854</td>\n      <td>Private</td>\n      <td>PK</td>\n      <td>NaN</td>\n      <td>NaN</td>\n      <td>NaN</td>\n      <td>0</td>\n      <td>Currently unrated</td>\n      <td>[Miller Co Head Start Center I1900 Marietta Street, Texarkana, AR, 71854]</td>\n      <td>1</td>\n    </tr>\n    <tr>\n      <th>8625</th>\n      <td>Sunshine &amp; Friends Christian DC2408 E 48th St, Texarkana, AR, 71854</td>\n      <td>Private</td>\n      <td>PK</td>\n      <td>NaN</td>\n      <td>NaN</td>\n      <td>NaN</td>\n      <td>0</td>\n      <td>Currently unrated</td>\n      <td>[Sunshine &amp; Friends Christian DC2408 E 48th St, Texarkana, AR, 71854]</td>\n      <td>1</td>\n    </tr>\n    <tr>\n      <th>8641</th>\n      <td>Marydale Head Start Center 1102 West Park Avenue, Thibodaux, LA, 70301</td>\n      <td>Private</td>\n      <td>PK</td>\n      <td>NaN</td>\n      <td>NaN</td>\n      <td>NaN</td>\n      <td>0</td>\n      <td>Currently unrated</td>\n      <td>[Marydale Head Start Center 1102 West Park Avenue, Thibodaux, LA, 70301]</td>\n      <td>1</td>\n    </tr>\n    <tr>\n      <th>8917</th>\n      <td>Gerber School-Cunningham (Day)1301 North Cunningham Avenue, Urbana, IL, 61802</td>\n      <td>Private</td>\n      <td>Ungraded</td>\n      <td>NaN</td>\n      <td>NaN</td>\n      <td>NaN</td>\n      <td>0</td>\n      <td>Currently unrated</td>\n      <td>[Gerber School-Cunningham (Day)1301 North Cunningham Avenue, Urbana, IL, 61802]</td>\n      <td>1</td>\n    </tr>\n    <tr>\n      <th>8918</th>\n      <td>Gerber School-Cunningham (Int)1301 North Cunningham Avenue, Urbana, IL, 61802</td>\n      <td>Private</td>\n      <td>Ungraded</td>\n      <td>NaN</td>\n      <td>NaN</td>\n      <td>NaN</td>\n      <td>0</td>\n      <td>Currently unrated</td>\n      <td>[Gerber School-Cunningham (Int)1301 North Cunningham Avenue, Urbana, IL, 61802]</td>\n      <td>1</td>\n    </tr>\n    <tr>\n      <th>8919</th>\n      <td>Cunningham-Circle Academy (Int)1204 Division Avenue, Urbana, IL, 61801</td>\n      <td>Private</td>\n      <td>Ungraded</td>\n      <td>NaN</td>\n      <td>NaN</td>\n      <td>NaN</td>\n      <td>0</td>\n      <td>Currently unrated</td>\n      <td>[Cunningham-Circle Academy (Int)1204 Division Avenue, Urbana, IL, 61801]</td>\n      <td>1</td>\n    </tr>\n    <tr>\n      <th>8923</th>\n      <td>Gerber School-Cunningham (Combo)1301 North Cunningham Avenue, Urbana, IL, 61802</td>\n      <td>Private</td>\n      <td>Ungraded</td>\n      <td>NaN</td>\n      <td>NaN</td>\n      <td>NaN</td>\n      <td>0</td>\n      <td>Currently unrated</td>\n      <td>[Gerber School-Cunningham (Combo)1301 North Cunningham Avenue, Urbana, IL, 61802]</td>\n      <td>1</td>\n    </tr>\n    <tr>\n      <th>9049</th>\n      <td>Creative Achievement Academy 3P.O. Box 865, Vineland, NJ, 08362</td>\n      <td>Private</td>\n      <td>6-12</td>\n      <td>NaN</td>\n      <td>NaN</td>\n      <td>NaN</td>\n      <td>0</td>\n      <td>Currently unrated</td>\n      <td>[Creative Achievement Academy 3P.O. Box 865, Vineland, NJ, 08362]</td>\n      <td>1</td>\n    </tr>\n    <tr>\n      <th>9119</th>\n      <td>R-Kidz Early Childhood Education Inc.410 South Wilbur Avenue, Walla Walla, WA, 99362</td>\n      <td>Private</td>\n      <td>PK-K</td>\n      <td>29.0</td>\n      <td>NaN</td>\n      <td>NaN</td>\n      <td>0</td>\n      <td>Currently unrated</td>\n      <td>[R-Kidz Early Childhood Education Inc.410 South Wilbur Avenue, Walla Walla, WA, 99362]</td>\n      <td>1</td>\n    </tr>\n    <tr>\n      <th>9573</th>\n      <td>Winona Early Childhood Special Ed.903 Gilmore Avenue, Winona, MN, 55987</td>\n      <td>Public district</td>\n      <td>PK</td>\n      <td>102.0</td>\n      <td>15:1</td>\n      <td>Winona Area Public School District</td>\n      <td>0</td>\n      <td>Currently unrated</td>\n      <td>[Winona Early Childhood Special Ed.903 Gilmore Avenue, Winona, MN, 55987]</td>\n      <td>1</td>\n    </tr>\n  </tbody>\n</table>\n</div>"
     },
     "metadata": {},
     "execution_count": 62
    }
   ],
   "source": [
    "print(unrated_single.shape)\n",
    "unrated_single.head(50)"
   ]
  },
  {
   "cell_type": "code",
   "execution_count": 63,
   "metadata": {},
   "outputs": [],
   "source": [
    "unrated_single[['Total students enrolled', 'Students per teacher', 'Students per teacher']] = unrated_single[['Total students enrolled', 'Students per teacher', 'Students per teacher']].fillna(0)"
   ]
  },
  {
   "cell_type": "code",
   "execution_count": 64,
   "metadata": {},
   "outputs": [],
   "source": [
    "unrated_single.to_csv('csv/manual2.csv')"
   ]
  },
  {
   "source": [
    "## Merge Data\n"
   ],
   "cell_type": "markdown",
   "metadata": {}
  },
  {
   "cell_type": "code",
   "execution_count": 65,
   "metadata": {},
   "outputs": [
    {
     "output_type": "execute_result",
     "data": {
      "text/plain": [
       "                                   School             Type Grades  \\\n",
       "0         Akron Early College High School  Public district   9-12   \n",
       "1                    Revere Middle School  Public district    6-8   \n",
       "2     Arrowhead Primary Elementary School  Public district    K-4   \n",
       "3                Manchester Middle School  Public district    5-8   \n",
       "4                Nolley Elementary School  Public district    K-4   \n",
       "...                                   ...              ...    ...   \n",
       "9542       Child Developmental Lab School          Private     PK   \n",
       "9543                  Timber Ridge School          Private   6-12   \n",
       "9544           Heritage Christian Academy          Private   PK-8   \n",
       "9545                 Joy Quigley Day Care          Private     PK   \n",
       "9546         Northwest School Of The Arts  Public district   6-12   \n",
       "\n",
       "      Total students enrolled Students per teacher  \\\n",
       "0                       384.0                 34:1   \n",
       "1                       624.0                 13:1   \n",
       "2                       345.0                 20:1   \n",
       "3                       387.0                 16:1   \n",
       "4                       483.0                 17:1   \n",
       "...                       ...                  ...   \n",
       "9542                      0.0                    0   \n",
       "9543                     66.0                    0   \n",
       "9544                     89.0                    0   \n",
       "9545                      0.0                    0   \n",
       "9546                   1083.0                 14:1   \n",
       "\n",
       "                                   District Score             Rating  \\\n",
       "0                Akron City School District    10          Top rated   \n",
       "1              Revere Local School District     9      Above average   \n",
       "2      Copley-Fairlawn City School District     8      Above average   \n",
       "3          Manchester Local School District     8      Above average   \n",
       "4          Manchester Local School District     8      Above average   \n",
       "...                                     ...   ...                ...   \n",
       "9542                                      0     0  Currently unrated   \n",
       "9543                                      0     0  Currently unrated   \n",
       "9544                                      0     0  Currently unrated   \n",
       "9545                                    NaN     0  Currently unrated   \n",
       "9546  Charlotte-Mecklenburg School District     9      Above average   \n",
       "\n",
       "                                         Address  Length  \n",
       "0        225 South Main Street, Akron, OH, 44308       4  \n",
       "1      3195 Spring Valley Road, Akron, OH, 44333       2  \n",
       "2       1600 Raleigh Boulevard, Akron, OH, 44321       2  \n",
       "3       760 West Nimisila Road, Akron, OH, 44319       2  \n",
       "4            6285 Renninger Rd, Akron, OH, 44319       2  \n",
       "...                                          ...     ...  \n",
       "9542       Gates Road, West Lafayette, IN, 47906       2  \n",
       "9543          Po Box 3160, Winchester, VA, 22604       2  \n",
       "9544         Po Box 819, Winter Haven, FL, 33882       2  \n",
       "9545                    94, Muscatine, IA, 52761       3  \n",
       "9546  1415 Beatties Ford Rd, Charlotte, NC 28216       3  \n",
       "\n",
       "[9547 rows x 10 columns]"
      ],
      "text/html": "<div>\n<style scoped>\n    .dataframe tbody tr th:only-of-type {\n        vertical-align: middle;\n    }\n\n    .dataframe tbody tr th {\n        vertical-align: top;\n    }\n\n    .dataframe thead th {\n        text-align: right;\n    }\n</style>\n<table border=\"1\" class=\"dataframe\">\n  <thead>\n    <tr style=\"text-align: right;\">\n      <th></th>\n      <th>School</th>\n      <th>Type</th>\n      <th>Grades</th>\n      <th>Total students enrolled</th>\n      <th>Students per teacher</th>\n      <th>District</th>\n      <th>Score</th>\n      <th>Rating</th>\n      <th>Address</th>\n      <th>Length</th>\n    </tr>\n  </thead>\n  <tbody>\n    <tr>\n      <th>0</th>\n      <td>Akron Early College High School</td>\n      <td>Public district</td>\n      <td>9-12</td>\n      <td>384.0</td>\n      <td>34:1</td>\n      <td>Akron City School District</td>\n      <td>10</td>\n      <td>Top rated</td>\n      <td>225 South Main Street, Akron, OH, 44308</td>\n      <td>4</td>\n    </tr>\n    <tr>\n      <th>1</th>\n      <td>Revere Middle School</td>\n      <td>Public district</td>\n      <td>6-8</td>\n      <td>624.0</td>\n      <td>13:1</td>\n      <td>Revere Local School District</td>\n      <td>9</td>\n      <td>Above average</td>\n      <td>3195 Spring Valley Road, Akron, OH, 44333</td>\n      <td>2</td>\n    </tr>\n    <tr>\n      <th>2</th>\n      <td>Arrowhead Primary Elementary School</td>\n      <td>Public district</td>\n      <td>K-4</td>\n      <td>345.0</td>\n      <td>20:1</td>\n      <td>Copley-Fairlawn City School District</td>\n      <td>8</td>\n      <td>Above average</td>\n      <td>1600 Raleigh Boulevard, Akron, OH, 44321</td>\n      <td>2</td>\n    </tr>\n    <tr>\n      <th>3</th>\n      <td>Manchester Middle School</td>\n      <td>Public district</td>\n      <td>5-8</td>\n      <td>387.0</td>\n      <td>16:1</td>\n      <td>Manchester Local School District</td>\n      <td>8</td>\n      <td>Above average</td>\n      <td>760 West Nimisila Road, Akron, OH, 44319</td>\n      <td>2</td>\n    </tr>\n    <tr>\n      <th>4</th>\n      <td>Nolley Elementary School</td>\n      <td>Public district</td>\n      <td>K-4</td>\n      <td>483.0</td>\n      <td>17:1</td>\n      <td>Manchester Local School District</td>\n      <td>8</td>\n      <td>Above average</td>\n      <td>6285 Renninger Rd, Akron, OH, 44319</td>\n      <td>2</td>\n    </tr>\n    <tr>\n      <th>...</th>\n      <td>...</td>\n      <td>...</td>\n      <td>...</td>\n      <td>...</td>\n      <td>...</td>\n      <td>...</td>\n      <td>...</td>\n      <td>...</td>\n      <td>...</td>\n      <td>...</td>\n    </tr>\n    <tr>\n      <th>9542</th>\n      <td>Child Developmental Lab School</td>\n      <td>Private</td>\n      <td>PK</td>\n      <td>0.0</td>\n      <td>0</td>\n      <td>0</td>\n      <td>0</td>\n      <td>Currently unrated</td>\n      <td>Gates Road, West Lafayette, IN, 47906</td>\n      <td>2</td>\n    </tr>\n    <tr>\n      <th>9543</th>\n      <td>Timber Ridge School</td>\n      <td>Private</td>\n      <td>6-12</td>\n      <td>66.0</td>\n      <td>0</td>\n      <td>0</td>\n      <td>0</td>\n      <td>Currently unrated</td>\n      <td>Po Box 3160, Winchester, VA, 22604</td>\n      <td>2</td>\n    </tr>\n    <tr>\n      <th>9544</th>\n      <td>Heritage Christian Academy</td>\n      <td>Private</td>\n      <td>PK-8</td>\n      <td>89.0</td>\n      <td>0</td>\n      <td>0</td>\n      <td>0</td>\n      <td>Currently unrated</td>\n      <td>Po Box 819, Winter Haven, FL, 33882</td>\n      <td>2</td>\n    </tr>\n    <tr>\n      <th>9545</th>\n      <td>Joy Quigley Day Care</td>\n      <td>Private</td>\n      <td>PK</td>\n      <td>0.0</td>\n      <td>0</td>\n      <td>NaN</td>\n      <td>0</td>\n      <td>Currently unrated</td>\n      <td>94, Muscatine, IA, 52761</td>\n      <td>3</td>\n    </tr>\n    <tr>\n      <th>9546</th>\n      <td>Northwest School Of The Arts</td>\n      <td>Public district</td>\n      <td>6-12</td>\n      <td>1083.0</td>\n      <td>14:1</td>\n      <td>Charlotte-Mecklenburg School District</td>\n      <td>9</td>\n      <td>Above average</td>\n      <td>1415 Beatties Ford Rd, Charlotte, NC 28216</td>\n      <td>3</td>\n    </tr>\n  </tbody>\n</table>\n<p>9547 rows × 10 columns</p>\n</div>"
     },
     "metadata": {},
     "execution_count": 65
    }
   ],
   "source": [
    "df.append([unrated, single, miscellaneous, unrated_1, unrated_3, single_3], ignore_index=True)"
   ]
  },
  {
   "cell_type": "code",
   "execution_count": 66,
   "metadata": {},
   "outputs": [],
   "source": [
    "df.to_csv('schools.csv')"
   ]
  },
  {
   "cell_type": "code",
   "execution_count": null,
   "metadata": {},
   "outputs": [],
   "source": []
  }
 ]
}