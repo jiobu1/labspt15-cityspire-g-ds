{
 "metadata": {
  "language_info": {
   "codemirror_mode": {
    "name": "ipython",
    "version": 3
   },
   "file_extension": ".py",
   "mimetype": "text/x-python",
   "name": "python",
   "nbconvert_exporter": "python",
   "pygments_lexer": "ipython3",
   "version": "3.8.6-final"
  },
  "orig_nbformat": 2,
  "kernelspec": {
   "name": "python3",
   "display_name": "Python 3.8.6 64-bit ('3.8.6')",
   "metadata": {
    "interpreter": {
     "hash": "2419ad2920cdc1fadb8f0ae6c1b14e969f8d411f4ecfa904fb0f4ff9d9e2f541"
    }
   }
  }
 },
 "nbformat": 4,
 "nbformat_minor": 2,
 "cells": [
  {
   "source": [
    "## Creating schools.csv\n",
    "\n",
    "1. Install packages\n",
    "2. Create cities.csv with full state name/ city column to use in getting school information\n",
    "3. For persisitance creating a schools csv using selenium to get school information from greatschools.org\n",
    "4. Clean csv for use in schools endpoint"
   ],
   "cell_type": "markdown",
   "metadata": {}
  },
  {
   "source": [
    "### 1. Import necessary libraries"
   ],
   "cell_type": "markdown",
   "metadata": {}
  },
  {
   "cell_type": "code",
   "execution_count": null,
   "metadata": {},
   "outputs": [],
   "source": [
    "import os\n",
    "import requests\n",
    "import csv\n",
    "import json\n",
    "import pandas as pd\n",
    "from state_abbr import us_state_abbrev as abbr\n",
    "from selenium import webdriver\n",
    "import urllib.parse"
   ]
  },
  {
   "source": [
    "### 2.  Create cities.csv with full state name/ city column to use in getting school information"
   ],
   "cell_type": "markdown",
   "metadata": {}
  },
  {
   "cell_type": "code",
   "execution_count": null,
   "metadata": {},
   "outputs": [],
   "source": [
    "pwd = os.getcwd()\n",
    "\n",
    "# create city state list\n",
    "cities = pd.read_excel('notebooks/datasets/data/schools/csv/List of Cities.xlsx')\n",
    "\n",
    "# just get the second and third colun\n",
    "cities = cities[['Unnamed: 1','Unnamed: 2']]\n",
    "\n",
    "# create new dictionary with reversed key, value pairs\n",
    "full = dict(map(reversed, abbr.items()))\n",
    "\n",
    "# map state abbreviations to full name\n",
    "cities['states'] = cities['Unnamed: 2'].map(full)\n",
    "\n",
    "# making sure state/city combo conform to url format of \"-\" for \" \"\n",
    "cities['states'] = cities['states'].str.strip()\n",
    "cities['states'] = cities['states'].str.replace(\" \", \"-\")\n",
    "cities['Unnamed: 1'] = cities['Unnamed: 1'].str.replace(\" \", \"-\")\n",
    "\n",
    "# remove extraneous header rows\n",
    "cities = cities.iloc[2:]\n",
    "cities['city'] = (cities['states'] + '/'+ cities['Unnamed: 1']).str.lower()\n",
    "print(cities.head())\n",
    "\n",
    "# persist by creating new csv\n",
    "cities.to_csv('notebooks/datasets/data/schools/csv/cities.csv')"
   ]
  },
  {
   "source": [
    "### 3. For persisitance creating a schools csv using selenium to get school information from greatschools.org"
   ],
   "cell_type": "markdown",
   "metadata": {}
  },
  {
   "cell_type": "code",
   "execution_count": null,
   "metadata": {},
   "outputs": [],
   "source": [
    "# using selenium to get school information\n",
    "driver = webdriver.Chrome()"
   ]
  },
  {
   "cell_type": "code",
   "execution_count": null,
   "metadata": {},
   "outputs": [],
   "source": [
    "# url for greatschools pre_url and post_url (with state/city inbetween)\n",
    "url_pre = 'http://www.greatschools.org/'\n",
    "url_post = '/schools/?tableView=Overview&view=table'\n",
    "\n",
    "# Call cities csv to get cities stored in database\n",
    "cities = pd.read_csv('notebooks/datasets/data/schools/csv/cities.csv')"
   ]
  },
  {
   "cell_type": "code",
   "execution_count": null,
   "metadata": {},
   "outputs": [],
   "source": [
    "# Looping through each city in the file\n",
    "\n",
    "# create empty dataframe\n",
    "df = pd.DataFrame()\n",
    "\n",
    "for i in cities['city']:\n",
    "    endpoint = url_pre + urllib.parse.quote(i) + url_post\n",
    "    print(\"Fetching \", endpoint)\n",
    "    driver.get(endpoint)\n",
    "    html = driver.page_source\n",
    "    table = pd.read_html(html)\n",
    "    # appending to dataframe all the schhol information for current cities\n",
    "    df = df.append(table[0])\n",
    "\n",
    "driver.close()"
   ]
  },
  {
   "cell_type": "code",
   "execution_count": null,
   "metadata": {},
   "outputs": [],
   "source": [
    "# 5. For persisitance creating a schools csv\n",
    "df.to_csv('notebooks/datasets/data/schools/csv/schools.csv')"
   ]
  },
  {
   "source": [
    "### 4. Clean csv for use in schools endpoint"
   ],
   "cell_type": "markdown",
   "metadata": {}
  },
  {
   "cell_type": "code",
   "execution_count": 1,
   "metadata": {},
   "outputs": [
    {
     "output_type": "stream",
     "name": "stderr",
     "text": [
      "/Users/jisha/.pyenv/versions/3.8.6/lib/python3.8/site-packages/pandas/compat/__init__.py:120: UserWarning: Could not import the lzma module. Your installed Python is incomplete. Attempting to use lzma compression will result in a RuntimeError.\n  warnings.warn(msg)\n"
     ]
    }
   ],
   "source": [
    "import pandas as pd\n",
    "pd.set_option('display.max_colwidth', None)"
   ]
  },
  {
   "cell_type": "code",
   "execution_count": 2,
   "metadata": {},
   "outputs": [],
   "source": [
    "df = pd.read_csv('csv/schools.csv')"
   ]
  },
  {
   "cell_type": "code",
   "execution_count": 3,
   "metadata": {},
   "outputs": [],
   "source": [
    "# Drop unused columns\n",
    "df = df.drop(columns=['Unnamed: 0', 'Reviews'])"
   ]
  },
  {
   "cell_type": "code",
   "execution_count": 4,
   "metadata": {},
   "outputs": [],
   "source": [
    "# Extract numerical rating\n",
    "df[['Rating', 'School']] = df['School'].str.split('/10', n=2, expand=True)"
   ]
  },
  {
   "cell_type": "code",
   "execution_count": 5,
   "metadata": {},
   "outputs": [],
   "source": [
    "# Extract score \n",
    "# https://stackoverflow.com/questions/4416425/how-to-split-string-with-some-separator-but-without-removing-that-separator-in-j\n",
    "df['Score'] = df['School'].str.split('(?<=[a-z])(?=[A-Z])')\n",
    "df['Score'] = df['Score'].str[0]"
   ]
  },
  {
   "cell_type": "code",
   "execution_count": 6,
   "metadata": {},
   "outputs": [],
   "source": [
    "# Cleaning strings\n",
    "\n",
    "# School\n",
    "df['School'] = df['School'].str.replace('Top rated', '')\n",
    "df['School'] = df['School'].str.replace('Above average', '')\n",
    "df['School'] = df['School'].str.replace('Average', '')\n",
    "df['School'] = df['School'].str.replace('Below average', '')\n",
    "df['School'] = df['School'].str.replace('None', '')\n",
    "df['School'] = df['School'].str.replace(' Homes for sale', '')\n",
    "df['School'] = df['School'].str.replace('2 awardsAwards & BadgesCollege Success Award2019, 2020See all winners in ', '')\n",
    "df['School'] = df['School'].str.replace('3 awardsAwards & BadgesCollege Success Award2019, 2020See all winners in ', '')\n",
    "\n",
    "# Score\n",
    "df['Score'] = df['Score'].str.replace('Below average7th & 8th Grade Center402 North S Street, Muskogee, OK, 74403 Homes for sale', 'Below average')\n",
    "df['Score'] = df['Score'].str.replace('Below average7th & 8th Grade Center402 North S Street, Muskogee, OK, 74403 Homes for sale', 'Below average')\n",
    "df['Score'] = df['Score'].str.replace('Average12th Street Elementary6501 South 12th Street, Portage, MI, 49024 Homes for sale', 'Average')\n",
    "df['Score'] = df['Score'].str.replace('Below average21st Century Preparatory School1220 Mound Avenue, Racine, WI, 53404 Homes for sale', 'Below average')\n",
    "df['Score'] = df['Score'].str.replace('Below averagee', 'Below average')\n",
    "df['Score'] = df['Score'].str.replace('Averagedu', 'Average')\n"
   ]
  },
  {
   "cell_type": "code",
   "execution_count": 7,
   "metadata": {},
   "outputs": [],
   "source": [
    "df['Address'] = df['School'].str.split('(?<=[a-z])(?=[0-9])')"
   ]
  },
  {
   "cell_type": "code",
   "execution_count": 8,
   "metadata": {},
   "outputs": [],
   "source": [
    "# School Name \n",
    "df['School'] = df['Address'].str[0]"
   ]
  },
  {
   "cell_type": "code",
   "execution_count": 9,
   "metadata": {},
   "outputs": [
    {
     "output_type": "execute_result",
     "data": {
      "text/plain": [
       "array([4, 2, 0, 1, 3])"
      ]
     },
     "metadata": {},
     "execution_count": 9
    }
   ],
   "source": [
    "# Finding length because there are anomalies with the information in the address column\n",
    "df['Length'] = df['Address'].apply(lambda x: len(x) if x != None else 0 )\n",
    "# 2 is the expected length -> school and address\n",
    "df['Length'].unique()"
   ]
  },
  {
   "cell_type": "code",
   "execution_count": 10,
   "metadata": {},
   "outputs": [],
   "source": [
    "# These are the rows that need extra help\n",
    "unrated = df.loc[df['Length'] == 0]\n",
    "miscellaneous = df.loc[df['Length'] == 3]"
   ]
  },
  {
   "cell_type": "code",
   "execution_count": 11,
   "metadata": {},
   "outputs": [],
   "source": [
    "# This where the address should be in most cases except the ones above\n",
    "df['Address'] = df['Address'].str[-1]"
   ]
  }
 ]
}