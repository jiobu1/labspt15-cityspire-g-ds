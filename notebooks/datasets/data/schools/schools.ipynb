{
 "metadata": {
  "language_info": {
   "codemirror_mode": {
    "name": "ipython",
    "version": 3
   },
   "file_extension": ".py",
   "mimetype": "text/x-python",
   "name": "python",
   "nbconvert_exporter": "python",
   "pygments_lexer": "ipython3",
   "version": "3.8.6"
  },
  "orig_nbformat": 2,
  "kernelspec": {
   "name": "python3",
   "display_name": "Python 3.8.6 64-bit ('3.8.6': pyenv)",
   "metadata": {
    "interpreter": {
     "hash": "2419ad2920cdc1fadb8f0ae6c1b14e969f8d411f4ecfa904fb0f4ff9d9e2f541"
    }
   }
  }
 },
 "nbformat": 4,
 "nbformat_minor": 2,
 "cells": [
  {
   "source": [
    "## Creating schools.csv\n",
    "\n",
    "1. Install packages\n",
    "2. Create cities.csv with full state name/ city column to use in getting school information\n",
    "3. For persisitance creating a schools csv using selenium to get school information from greatschools.org\n",
    "4. Clean csv for use in schools endpoint"
   ],
   "cell_type": "markdown",
   "metadata": {}
  },
  {
   "source": [
    "### 1. Import necessary libraries"
   ],
   "cell_type": "markdown",
   "metadata": {}
  },
  {
   "cell_type": "code",
   "execution_count": null,
   "metadata": {},
   "outputs": [],
   "source": [
    "from bs4 import BeautifulSoup\n",
    "import os\n",
    "import requests\n",
    "import csv\n",
    "import json\n",
    "import pandas as pd\n",
    "from state_abbr import us_state_abbrev as abbr\n",
    "from selenium import webdriver\n",
    "import urllib.parse\n",
    "import re\n",
    "import html5lib"
   ]
  },
  {
   "source": [
    "### 2.  Create cities.csv with full state name/ city column to use in getting school information"
   ],
   "cell_type": "markdown",
   "metadata": {}
  },
  {
   "cell_type": "code",
   "execution_count": 2,
   "metadata": {},
   "outputs": [],
   "source": [
    "# pwd = os.getcwd()\n",
    "\n",
    "# # create city state list\n",
    "# cities = pd.read_excel('notebooks/datasets/data/schools/csv/List of Cities.xlsx')\n",
    "\n",
    "# # just get the second and third colun\n",
    "# cities = cities[['Unnamed: 1','Unnamed: 2']]\n",
    "\n",
    "# # create new dictionary with reversed key, value pairs\n",
    "# full = dict(map(reversed, abbr.items()))\n",
    "\n",
    "# # map state abbreviations to full name\n",
    "# cities['states'] = cities['Unnamed: 2'].map(full)\n",
    "\n",
    "# # making sure state/city combo conform to url format of \"-\" for \" \"\n",
    "# cities['states'] = cities['states'].str.strip()\n",
    "# cities['states'] = cities['states'].str.replace(\" \", \"-\")\n",
    "# cities['Unnamed: 1'] = cities['Unnamed: 1'].str.replace(\" \", \"-\")\n",
    "\n",
    "# # remove extraneous header rows\n",
    "# cities = cities.iloc[2:]\n",
    "# cities['city'] = (cities['states'] + '/'+ cities['Unnamed: 1']).str.lower()\n",
    "# print(cities.head())\n",
    "\n",
    "# # persist by creating new csv\n",
    "# cities.to_csv('notebooks/datasets/data/schools/csv/cities.csv')"
   ]
  },
  {
   "source": [
    "### 3. For persisitance creating a schools csv using selenium and Beautiful Soup to get school information from greatschools.org"
   ],
   "cell_type": "markdown",
   "metadata": {}
  },
  {
   "cell_type": "code",
   "execution_count": 3,
   "metadata": {
    "tags": []
   },
   "outputs": [
    {
     "output_type": "error",
     "ename": "NameError",
     "evalue": "name 'cities' is not defined",
     "traceback": [
      "\u001b[0;31m---------------------------------------------------------------------------\u001b[0m",
      "\u001b[0;31mNameError\u001b[0m                                 Traceback (most recent call last)",
      "\u001b[0;32m<ipython-input-3-8aa8847da03e>\u001b[0m in \u001b[0;36m<module>\u001b[0;34m\u001b[0m\n\u001b[1;32m     11\u001b[0m \u001b[0murl_pre\u001b[0m \u001b[0;34m=\u001b[0m \u001b[0;34m'http://www.greatschools.org/'\u001b[0m\u001b[0;34m\u001b[0m\u001b[0;34m\u001b[0m\u001b[0m\n\u001b[1;32m     12\u001b[0m \u001b[0;34m\u001b[0m\u001b[0m\n\u001b[0;32m---> 13\u001b[0;31m \u001b[0;32mfor\u001b[0m \u001b[0mi\u001b[0m \u001b[0;32min\u001b[0m \u001b[0mcities\u001b[0m\u001b[0;34m:\u001b[0m\u001b[0;31m#['city']:\u001b[0m\u001b[0;34m\u001b[0m\u001b[0;34m\u001b[0m\u001b[0m\n\u001b[0m\u001b[1;32m     14\u001b[0m   \u001b[0mfetching\u001b[0m \u001b[0;34m=\u001b[0m \u001b[0;32mTrue\u001b[0m\u001b[0;34m\u001b[0m\u001b[0;34m\u001b[0m\u001b[0m\n\u001b[1;32m     15\u001b[0m \u001b[0;34m\u001b[0m\u001b[0m\n",
      "\u001b[0;31mNameError\u001b[0m: name 'cities' is not defined"
     ]
    }
   ],
   "source": [
    "# Looping through each city in the file\n",
    "cities = pd.read_csv('csv/cities.csv')\n",
    "\n",
    "records = []\n",
    "total_schools = []\n",
    "\n",
    "# selenium driver\n",
    "driver = webdriver.Chrome()\n",
    "\n",
    "# url for greatschools pre_url and post_url (with state/city inbetween)\n",
    "url_pre = 'http://www.greatschools.org/'\n",
    "\n",
    "for i in cities['city']:\n",
    "  fetching = True\n",
    "\n",
    "  page = 0\n",
    "\n",
    "  while fetching:  \n",
    "        page += 1\n",
    "        url = url_pre +  urllib.parse.quote(i) + '/schools/?page={}&tableView=Overview&view=table'.format(page)       \n",
    "        print(\"Fetching \", url)\n",
    "\n",
    "        driver.get(url)\n",
    "        html = driver.page_source\n",
    "        soup = BeautifulSoup(html, 'html.parser')\n",
    "\n",
    "        # check if last page\n",
    "        page_status = soup.find('div', {'class': 'pagination-summary'})\n",
    "        page_status_text = page_status.text.strip()\n",
    "        print(page_status_text)\n",
    "        page_status_regex = re.search(r\".* (\\d+) to (\\d+) of (\\d+)\", page_status_text)\n",
    "        beginning, ending, total = page_status_regex.groups()\n",
    "        total_schools.append(total)\n",
    "        if int(ending) >= int(total):\n",
    "            fetching = False\n",
    "        table = soup.find(\"table\", { \"class\" : \"\" })\n",
    "        for row in table.find_all(\"tr\"):\n",
    "            cell = row.find_all(\"td\")\n",
    "            if len(cell) == 7:\n",
    "                school = row.find('a', {'class':'name'}).text.strip()\n",
    "                try:\n",
    "                    score = row.find('div', {'class': 'circle-rating--small'}).text.strip()\n",
    "                except AttributeError:\n",
    "                    score = '0/10'\n",
    "                rating = row.find('div', {'class': 'scale'}).text.strip()\n",
    "                try:\n",
    "                    address = row.find('div', {'class': 'address'}).text.strip()\n",
    "                except AttributeError:\n",
    "                    address = \"Unavailable\"\n",
    "                school_type = cell[1].find(text=True)\n",
    "                grade =  cell[2].find(text=True)\n",
    "                students =  cell[3].find(text=True)\n",
    "                student_teacher_ratio =  cell[4].find(text=True)\n",
    "                try: \n",
    "                    district =  cell[6].find(text=True)\n",
    "                except AttributeError:\n",
    "                    district = 'Unavailable'\n",
    "\n",
    "                records.append({ \n",
    "                    'School': school, \n",
    "                    'Score': score, \n",
    "                    'Rating': rating, \n",
    "                    'Address': address, \n",
    "                    'Type': school_type,\n",
    "                    'Grades' : grade,\n",
    "                    'Total Students Enrolled': students,\n",
    "                    'Students per teacher' : student_teacher_ratio, \n",
    "                    'District': district\n",
    "                    })\n",
    "\n",
    "driver.close()"
   ]
  },
  {
   "cell_type": "code",
   "execution_count": 5,
   "metadata": {},
   "outputs": [],
   "source": [
    "df = pd.DataFrame.from_dict(records)"
   ]
  },
  {
   "cell_type": "code",
   "execution_count": 6,
   "metadata": {},
   "outputs": [
    {
     "output_type": "stream",
     "name": "stdout",
     "text": [
      "(0, 0)\n"
     ]
    },
    {
     "output_type": "execute_result",
     "data": {
      "text/plain": [
       "Empty DataFrame\n",
       "Columns: []\n",
       "Index: []"
      ],
      "text/html": "<div>\n<style scoped>\n    .dataframe tbody tr th:only-of-type {\n        vertical-align: middle;\n    }\n\n    .dataframe tbody tr th {\n        vertical-align: top;\n    }\n\n    .dataframe thead th {\n        text-align: right;\n    }\n</style>\n<table border=\"1\" class=\"dataframe\">\n  <thead>\n    <tr style=\"text-align: right;\">\n      <th></th>\n    </tr>\n  </thead>\n  <tbody>\n  </tbody>\n</table>\n</div>"
     },
     "metadata": {},
     "execution_count": 6
    }
   ],
   "source": [
    "print(df.shape)\n",
    "df.head()"
   ]
  },
  {
   "cell_type": "code",
   "execution_count": 7,
   "metadata": {},
   "outputs": [],
   "source": [
    "df.to_csv('csv/schools.csv')"
   ]
  },
  {
   "cell_type": "code",
   "execution_count": 8,
   "metadata": {},
   "outputs": [
    {
     "output_type": "stream",
     "name": "stdout",
     "text": [
      "(0, 1)\n"
     ]
    },
    {
     "output_type": "execute_result",
     "data": {
      "text/plain": [
       "Empty DataFrame\n",
       "Columns: [Unnamed: 0]\n",
       "Index: []"
      ],
      "text/html": "<div>\n<style scoped>\n    .dataframe tbody tr th:only-of-type {\n        vertical-align: middle;\n    }\n\n    .dataframe tbody tr th {\n        vertical-align: top;\n    }\n\n    .dataframe thead th {\n        text-align: right;\n    }\n</style>\n<table border=\"1\" class=\"dataframe\">\n  <thead>\n    <tr style=\"text-align: right;\">\n      <th></th>\n      <th>Unnamed: 0</th>\n    </tr>\n  </thead>\n  <tbody>\n  </tbody>\n</table>\n</div>"
     },
     "metadata": {},
     "execution_count": 8
    }
   ],
   "source": [
    "df = pd.read_csv('csv/schools.csv')\n",
    "print(df.shape)\n",
    "df.head()"
   ]
  },
  {
   "cell_type": "code",
   "execution_count": 9,
   "metadata": {},
   "outputs": [],
   "source": [
    "for ele in range(0, len(total_schools)):\n",
    "    total = total + total_schools[ele]"
   ]
  }
 ]
}