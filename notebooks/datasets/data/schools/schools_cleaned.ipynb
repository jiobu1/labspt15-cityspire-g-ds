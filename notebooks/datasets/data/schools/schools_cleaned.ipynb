{
 "metadata": {
  "language_info": {
   "codemirror_mode": {
    "name": "ipython",
    "version": 3
   },
   "file_extension": ".py",
   "mimetype": "text/x-python",
   "name": "python",
   "nbconvert_exporter": "python",
   "pygments_lexer": "ipython3",
   "version": "3.8.6"
  },
  "orig_nbformat": 2,
  "kernelspec": {
   "name": "python386jvsc74a57bd02419ad2920cdc1fadb8f0ae6c1b14e969f8d411f4ecfa904fb0f4ff9d9e2f541",
   "display_name": "Python 3.8.6 64-bit ('3.8.6': pyenv)"
  }
 },
 "nbformat": 4,
 "nbformat_minor": 2,
 "cells": [
  {
   "source": [
    "## Clean Schools.csv\n",
    "1. Split address column\n",
    "2. Look at length - this displays discrepancies in addresses (looking for lengths 1, 3, 4)\n",
    "3. Create a city and state column - consistency with other data\n",
    "4. Create columns for schools categories - pk, k, elementary, middle, and high school"
   ],
   "cell_type": "markdown",
   "metadata": {}
  },
  {
   "cell_type": "code",
   "execution_count": 1,
   "metadata": {},
   "outputs": [
    {
     "output_type": "stream",
     "name": "stderr",
     "text": [
      "/Users/jisha/.pyenv/versions/3.8.6/lib/python3.8/site-packages/pandas/compat/__init__.py:120: UserWarning: Could not import the lzma module. Your installed Python is incomplete. Attempting to use lzma compression will result in a RuntimeError.\n  warnings.warn(msg)\n"
     ]
    }
   ],
   "source": [
    "import pandas as pd\n",
    "pd.set_option('display.max_colwidth', None)\n",
    "pd.set_option('display.max_rows', 10)"
   ]
  },
  {
   "cell_type": "code",
   "execution_count": 2,
   "metadata": {},
   "outputs": [],
   "source": [
    "df = pd.read_csv('csv/schools.csv')"
   ]
  },
  {
   "cell_type": "code",
   "execution_count": 3,
   "metadata": {},
   "outputs": [
    {
     "output_type": "stream",
     "name": "stdout",
     "text": [
      "(58782, 10)\n"
     ]
    },
    {
     "output_type": "execute_result",
     "data": {
      "text/plain": [
       "   Unnamed: 0                               School  Score         Rating  \\\n",
       "0           0      Akron Early College High School  10/10      Top rated   \n",
       "1           1                 Revere Middle School   9/10  Above average   \n",
       "2           2  Arrowhead Primary Elementary School   8/10  Above average   \n",
       "3           3             Manchester Middle School   8/10  Above average   \n",
       "4           4             Nolley Elementary School   8/10  Above average   \n",
       "\n",
       "                                     Address             Type Grades  \\\n",
       "0    225 South Main Street, Akron, OH, 44308  Public district   9-12   \n",
       "1  3195 Spring Valley Road, Akron, OH, 44333  Public district    6-8   \n",
       "2   1600 Raleigh Boulevard, Akron, OH, 44321  Public district    K-4   \n",
       "3   760 West Nimisila Road, Akron, OH, 44319  Public district    5-8   \n",
       "4        6285 Renninger Rd, Akron, OH, 44319  Public district    K-4   \n",
       "\n",
       "   Total Students Enrolled Students per teacher  \\\n",
       "0                    384.0                 34:1   \n",
       "1                    624.0                 13:1   \n",
       "2                    345.0                 20:1   \n",
       "3                    387.0                 16:1   \n",
       "4                    483.0                 17:1   \n",
       "\n",
       "                               District  \n",
       "0            Akron City School District  \n",
       "1          Revere Local School District  \n",
       "2  Copley-Fairlawn City School District  \n",
       "3      Manchester Local School District  \n",
       "4      Manchester Local School District  "
      ],
      "text/html": "<div>\n<style scoped>\n    .dataframe tbody tr th:only-of-type {\n        vertical-align: middle;\n    }\n\n    .dataframe tbody tr th {\n        vertical-align: top;\n    }\n\n    .dataframe thead th {\n        text-align: right;\n    }\n</style>\n<table border=\"1\" class=\"dataframe\">\n  <thead>\n    <tr style=\"text-align: right;\">\n      <th></th>\n      <th>Unnamed: 0</th>\n      <th>School</th>\n      <th>Score</th>\n      <th>Rating</th>\n      <th>Address</th>\n      <th>Type</th>\n      <th>Grades</th>\n      <th>Total Students Enrolled</th>\n      <th>Students per teacher</th>\n      <th>District</th>\n    </tr>\n  </thead>\n  <tbody>\n    <tr>\n      <th>0</th>\n      <td>0</td>\n      <td>Akron Early College High School</td>\n      <td>10/10</td>\n      <td>Top rated</td>\n      <td>225 South Main Street, Akron, OH, 44308</td>\n      <td>Public district</td>\n      <td>9-12</td>\n      <td>384.0</td>\n      <td>34:1</td>\n      <td>Akron City School District</td>\n    </tr>\n    <tr>\n      <th>1</th>\n      <td>1</td>\n      <td>Revere Middle School</td>\n      <td>9/10</td>\n      <td>Above average</td>\n      <td>3195 Spring Valley Road, Akron, OH, 44333</td>\n      <td>Public district</td>\n      <td>6-8</td>\n      <td>624.0</td>\n      <td>13:1</td>\n      <td>Revere Local School District</td>\n    </tr>\n    <tr>\n      <th>2</th>\n      <td>2</td>\n      <td>Arrowhead Primary Elementary School</td>\n      <td>8/10</td>\n      <td>Above average</td>\n      <td>1600 Raleigh Boulevard, Akron, OH, 44321</td>\n      <td>Public district</td>\n      <td>K-4</td>\n      <td>345.0</td>\n      <td>20:1</td>\n      <td>Copley-Fairlawn City School District</td>\n    </tr>\n    <tr>\n      <th>3</th>\n      <td>3</td>\n      <td>Manchester Middle School</td>\n      <td>8/10</td>\n      <td>Above average</td>\n      <td>760 West Nimisila Road, Akron, OH, 44319</td>\n      <td>Public district</td>\n      <td>5-8</td>\n      <td>387.0</td>\n      <td>16:1</td>\n      <td>Manchester Local School District</td>\n    </tr>\n    <tr>\n      <th>4</th>\n      <td>4</td>\n      <td>Nolley Elementary School</td>\n      <td>8/10</td>\n      <td>Above average</td>\n      <td>6285 Renninger Rd, Akron, OH, 44319</td>\n      <td>Public district</td>\n      <td>K-4</td>\n      <td>483.0</td>\n      <td>17:1</td>\n      <td>Manchester Local School District</td>\n    </tr>\n  </tbody>\n</table>\n</div>"
     },
     "metadata": {},
     "execution_count": 3
    }
   ],
   "source": [
    "print(df.shape)\n",
    "df.head()"
   ]
  },
  {
   "source": [
    "## 1. Split Address Column"
   ],
   "cell_type": "markdown",
   "metadata": {}
  },
  {
   "cell_type": "code",
   "execution_count": 4,
   "metadata": {},
   "outputs": [],
   "source": [
    "df['City, State']  = df['Address'].str.split(',')"
   ]
  },
  {
   "source": [
    "## 2. Create lengths to find discrepancies in 'Address' column\n"
   ],
   "cell_type": "markdown",
   "metadata": {}
  },
  {
   "cell_type": "code",
   "execution_count": 5,
   "metadata": {},
   "outputs": [
    {
     "output_type": "execute_result",
     "data": {
      "text/plain": [
       "array([4, 5, 6, 7, 1])"
      ]
     },
     "metadata": {},
     "execution_count": 5
    }
   ],
   "source": [
    "# Finding length because there are anomalies with the information in the address column\n",
    "df['Length'] = df['City, State'].apply(lambda x: len(x) if x != None else 0 )\n",
    "# 4 is the expected length \n",
    "df['Length'].unique()"
   ]
  },
  {
   "source": [
    "## Cleaning"
   ],
   "cell_type": "markdown",
   "metadata": {}
  },
  {
   "cell_type": "code",
   "execution_count": 6,
   "metadata": {},
   "outputs": [],
   "source": [
    "df['Address'] = df['Address'].str.replace('2100 Morse Road, Suite 4609, Columbus, OH 43229, Columbus, OH, 43211', '2100 Morse Road, Suite 4609, Columbus, OH 43229')\n",
    "df['Address'] = df['Address'].str.replace('2501 Syracuse Street, Denver, Colorado, 80238, Denver, CO, 80238', '2501 Syracuse Street, Denver, Colorado, 80238')\n",
    "df['Address'] = df['Address'].str.replace('1018 Harding Street, Suite 112, Lafayette, La 70503, Lafayette, LA, 70507', '1018 Harding Street, Suite 112, Lafayette, LA 70503')\n",
    "df['Address'] = df['Address'].str.replace('4450 West Eau Gallie Boulevard, Suite 180, Melbourne, FL 32934, Melbourne, FL, 32934', '4450 West Eau Gallie Boulevard, Suite 180, Melbourne, FL 32934')\n",
    "df['Address'] = df['Address'].str.replace('4530 MacArthur Blvd, NW, Washington, DC, Washington, DC, 20007', '4530 MacArthur Blvd, NW, Washington, DC, 20007')\n",
    "df['Address'] = df['Address'].str.replace('1075 New Scotland Road, Albany NY 12208, Albany, NY, 12208', '1075 New Scotland Road, Albany NY 12208')\n",
    "df['Address'] = df['Address'].str.replace('216 Shelburne Road Asheville, NC 28806, Asheville, NC, 28806', '216 Shelburne Road, Asheville, NC 28806')\n",
    "df['Address'] = df['Address'].str.replace('26450 RR 12 Dripping Springs, TX 78620, Austin, TX, 78736', '26450 RR 12, Dripping Springs, TX 78620')\n",
    "df['Address'] = df['Address'].str.replace('NE Stoneridge Loop, Prineville OR 97754, Bend, OR, 97702', 'NE Stoneridge Loop, Prineville OR 97754')\n",
    "df['Address'] = df['Address'].str.replace('5225 - Seventy seven Center Dr, Charlotte NC 28217, Charlotte, NC, 28217', '5225 77 Center Dr, Charlotte, NC 28217')\n",
    "df['Address'] = df['Address'].str.replace('3375 W. 99th Street Cleveland, OH 44102, Cleveland, OH, 44111', '3375 W. 99th Street, Cleveland, OH 44102')\n",
    "df['Address'] = df['Address'].str.replace('21 Broadmoor Avenue Colorado Springs, CO 80906, Colorado Springs, CO, 80906', '21 Broadmoor Avenue, Colorado Springs, CO 80906')\n",
    "df['Address'] = df['Address'].str.replace('220 Stoneridge Drive Suite 403 Columbia, SC 29210 , Columbia, SC, 29210', '220 Stoneridge Drive, Suite 403, Columbia, SC 29210')\n",
    "df['Address'] = df['Address'].str.replace('2247 South Ridgewood South Daytona, Florida 32119, Daytona Beach, FL, 32117', '2247 South Ridgewood, South Daytona, FL 32119')\n",
    "df['Address'] = df['Address'].str.replace('7005 Woodbine Ave Sacramento, Ca. 95822, Fairfield, CA, 94534', '7005 Woodbine Ave, Sacramento, CA 95822')\n",
    "df['Address'] = df['Address'].str.replace('4424 Innovation Drive Fort Collins, Colorado 80525, Fort Collins, CO, 80525', '4424 Innovation Drive, Fort Collins, CO 80525')\n",
    "df['Address'] = df['Address'].str.replace('5300 El Camino Road Las Vegas, NV 89118, Henderson, NV, 89014', '5300 El Camino Road, Las Vegas, NV 89118')\n",
    "df['Address'] = df['Address'].str.replace('9039 Beach Blvd Jacksonville, FL 32216, Jacksonville, FL, 32207', '9039 Beach Blvd, Jacksonville, FL 32216')\n",
    "df['Address'] = df['Address'].str.replace('390 New Holland Pike, Lancaster PA 17601, Lancaster, PA, 17601', '390 New Holland Pike, Lancaster PA 17601')\n",
    "df['Address'] = df['Address'].str.replace('4801. S. Sandhill Drive LV, NV 89121, Las Vegas, NV, 89123', '4801. S. Sandhill Drive, Las Vegas, NV, 89123')\n",
    "df['Address'] = df['Address'].str.replace('2727 Stinson Blvd. NE Minneapolis, MN 55418, Minneapolis, MN, 55418', '2727 Stinson Blvd. NE, Minneapolis, MN, 55418')\n",
    "df['Address'] = df['Address'].str.replace('3000 53rd St SW Naples, FL 34116, Naples, FL, 34116', '3000 53rd St SW, Naples, FL 34116')\n",
    "df['Address'] = df['Address'].str.replace('177 W Klein Rd. New Braunfels, TX 78130, New Braunfels, TX, 78130', '177 W Klein Rd., New Braunfels, TX 78130')\n",
    "df['Address'] = df['Address'].str.replace('500 Soraparu St. New Orleans, La 70130, New Orleans, LA, 70130', '500 Soraparu St., New Orleans, LA 70130')\n",
    "df['Address'] = df['Address'].str.replace('2162 Mountain Blvd, Oakland CA 94611, Oakland, CA, 94605', '2162 Mountain Blvd, Oakland CA 94611')\n",
    "df['Address'] = df['Address'].str.replace('13231 N. 22nd St. Phoenix, AZ 85022, Phoenix, AZ, 85028', '13231 N. 22nd St., Phoenix, AZ 85022')\n",
    "df['Address'] = df['Address'].str.replace('14124 SE Mill St, Portland OR 97233, Portland, OR, 97266', '14124 SE Mill St, Portland OR 97233')\n",
    "df['Address'] = df['Address'].str.replace('555 Double Eagle Ct. Suite 2000 Reno, NV 89521 , Reno, NV, 89521', '555 Double Eagle Ct., Suite 2000, Reno, NV 89521')\n",
    "df['Address'] = df['Address'].str.replace('3422 Rustin Ave Riverside, CA 92507, Riverside, CA, 92504', '3422 Rustin Ave Riverside, CA 92507')\n",
    "df['Address'] = df['Address'].str.replace('2800 19th Stree NW Rochester, MN 55901, Rochester, MN, 55902', '2800 19th Stree NW, Rochester, MN 55901')\n",
    "df['Address'] = df['Address'].str.replace('9510 Carmel Mountain Road, San Diego CA 92129, San Diego, CA, 92129', '9510 Carmel Mountain Road, San Diego CA 92129')\n",
    "df['Address'] = df['Address'].str.replace('5531 Cancha De Golf Ste 202 Rancho Santa Fe, CA 92091, San Diego, CA, 92130', '5531 Cancha de Golf, Ste 202, Rancho, Santa Fe, CA 92091')\n",
    "df['Address'] = df['Address'].str.replace('6540 Flanders Drive. San Diego, CA 92121, San Diego, CA, 92127', '6540 Flanders Drive., San Diego, CA 92121')\n",
    "df['Address'] = df['Address'].str.replace('725 Washington St. Santa Clara, Ca 95050, Santa Clara, CA, 95050', '725 Washington St., Santa Clara, CA, 95050')\n",
    "df['Address'] = df['Address'].str.replace('6715 S Boe Lane Sioux Falls, SD 57108, Sioux Falls, SD, 57105', '6715 S Boe Lane, Sioux Falls, SD 57108')\n",
    "df['Address'] = df['Address'].str.replace('8740 Asheville Hwy Spartanburg, S.C. 29316, Spartanburg, SC, 29316', '8740 Asheville Hwy, Spartanburg, SC 29316')\n",
    "df['Address'] = df['Address'].str.replace('12611 N. Wilson St. Mead, WA 99021, Spokane, WA, 99218', '12611 N. Wilson St., Mead, WA 99021')\n",
    "df['Address'] = df['Address'].str.replace('1450 Newfield Avenue Stamford, CT 06905, Stamford, CT, 06905', '1450 Newfield Avenue, Stamford, CT 06905')\n",
    "df['Address'] = df['Address'].str.replace('2525 Gold Brook Dr Stockton, CA 95212, Stockton, CA, 95212', '2525 Gold Brook Dr, Stockton, CA 95212')\n",
    "df['Address'] = df['Address'].str.replace('1112 North G Street | Tacoma, WA 98403, Tacoma, WA, 98403', '1112 North G Street, Tacoma, WA 98403')\n",
    "df['Address'] = df['Address'].str.replace('1250 Erbes Rd. Thousand Oaks, CA 91362, Thousand Oaks, CA, 91302', '1250 Erbes Rd., Thousand Oaks, CA 91362')\n",
    "df['Address'] = df['Address'].str.replace('3201 N. Eastman Rd. Longview, TX 75605, Tyler, TX, 75799', '3201 N. Eastman Rd., Longview, TX 75605')\n",
    "df['Address'] = df['Address'].str.replace('St. Catherine of Siena School, 3460 Tennessee Street, Vallejo, CA, 94591', '3460 Tennessee Street, Vallejo, CA, 94591')\n",
    "df['Address'] = df['Address'].str.replace('1650 Godfrey Ave. Wyoming,Mi 49509 , Wyoming, MI, 49509', '1650 Godfrey Ave., Wyoming, MI 49509' )\n",
    "df['Address'] = df['Address'].str.replace('3422 Rustin Ave Riverside, CA 92507', '3422 Rustin Ave, Riverside, CA 92507')\n",
    "df['Address'] = df['Address'].str.replace('1018 Harding Street, Suite 112, Lafayette, La 70503, Lafayette, LA 70507', '1018 Harding Street, Suite 112, Lafayette, LA 70503') # 27205\n",
    "df['Address'] = df['Address'].str.replace('San Martin De Porres Clinic: Kallumadanda Vinnie MD Mission, TX 78572', 'San Martin De Porres Clinic: Kallumadanda Vinnie MD, Mission, TX 78572') # 33396\n",
    "df['Address'] = df['Address'].str.replace('Rockwood Plastic Surgery Center: Gardner Glenn P MD Spokane, WA 99204', 'Rockwood Plastic Surgery Center: Gardner Glenn P MD, Spokane, WA 99204' ) # 50841"
   ]
  },
  {
   "cell_type": "code",
   "execution_count": 7,
   "metadata": {},
   "outputs": [],
   "source": [
    "df['Address'] = df['Address'].str.replace('  Cleveland, OH 44102, Cleveland, OH, 44111', ', Cleveland, OH 44102') # 10584\n",
    "df['Address'] = df['Address'].str.replace('  Columbia, SC 29210 , Columbia, SC, 29210', ', Columbia, SC 29210 ') # 11668\n",
    "df['Address'] = df['Address'].str.replace('  Las Vegas, NV 89118, Henderson, NV, 89014', ', Las Vegas, NV 89118' ) # 23334\n",
    "df['Address'] = df['Address'].str.replace('  Naples, FL 34116, Naples, FL, 34116', ', Naples, FL 34116') # 34536\n",
    "df['Address'] = df['Address'].str.replace('  Reno, NV 89521 , Reno, NV, 89521', ', Reno, NV 89521') # 42400\n",
    "df['Address'] = df['Address'].str.replace('  Spartanburg, S.C. 29316, Spartanburg, SC, 29316', ', Spartanburg, S.C. 29316')\n",
    "df['Address'] = df['Address'].str.replace('Lafayette, La 70503, Lafayette, LA 70507', 'Lafayette, LA 70503') # 27205"
   ]
  },
  {
   "cell_type": "code",
   "execution_count": 8,
   "metadata": {},
   "outputs": [],
   "source": [
    "df['Address'] = df['Address'].str.replace('Washington, DC, Washington, DC,', 'Washington, DC ')\n",
    "df['Address'] = df['Address'].str.replace('New Orleans, LA, New Orleans, LA,', 'New Orleans, LA ')\n",
    "df['Address'] = df['Address'].str.replace('Albuquerque, NM, Albuquerque, NM,', 'Albuquerque, NM ' )\n",
    "df['Address'] = df['Address'].str.replace('Chelsea, MA, Boston, MA,', 'Chelsea, MA ' )\n",
    "df['Address'] = df['Address'].str.replace('Franklin, TN, Franklin, TN,', 'Franklin, TN ')\n",
    "df['Address'] = df['Address'].str.replace('Hales Corners, WI, Milwaukee, WI', 'Hales Corners, WI') # 50525\n",
    "df['Address'] = df['Address'].str.replace('Albany NY', 'Albany, NY' )\n",
    "df['Address'] = df['Address'].str.replace('Prineville OR', 'Prineville, OR')\n",
    "df['Address'] = df['Address'].str.replace('Lancaster PA', 'Lancaster, PA')\n",
    "df['Address'] = df['Address'].str.replace('Portland OR', 'Portland, OR')\n",
    "df['Address'] = df['Address'].str.replace('San Diego CA', 'San Diego, CA')"
   ]
  },
  {
   "cell_type": "code",
   "execution_count": 9,
   "metadata": {},
   "outputs": [],
   "source": [
    "df['Address'] = df['Address'].str.replace('AL,', 'AL')\n",
    "df['Address'] = df['Address'].str.replace('AK,', 'AK')\n",
    "df['Address'] = df['Address'].str.replace('AR,', 'AR')\n",
    "df['Address'] = df['Address'].str.replace('AZ,', 'AZ')\n",
    "df['Address'] = df['Address'].str.replace('CA,', 'CA')\n",
    "df['Address'] = df['Address'].str.replace('CO,', 'CO')\n",
    "df['Address'] = df['Address'].str.replace('CT,', 'CT')\n",
    "df['Address'] = df['Address'].str.replace('DE,', 'DE')\n",
    "df['Address'] = df['Address'].str.replace('DC,', 'DC')\n",
    "df['Address'] = df['Address'].str.replace('FL,', 'FL')\n",
    "df['Address'] = df['Address'].str.replace('GA,', 'GA')\n",
    "df['Address'] = df['Address'].str.replace('HI,', 'HI')\n",
    "df['Address'] = df['Address'].str.replace('IA,', 'IA')\n",
    "df['Address'] = df['Address'].str.replace('ID,', 'ID')\n",
    "df['Address'] = df['Address'].str.replace('IL,', 'IL')\n",
    "df['Address'] = df['Address'].str.replace('IN,', 'IN')\n",
    "df['Address'] = df['Address'].str.replace('KS,', 'KS')\n",
    "df['Address'] = df['Address'].str.replace('KY,', 'KY')\n",
    "df['Address'] = df['Address'].str.replace('LA,', 'LA')\n",
    "df['Address'] = df['Address'].str.replace('MA,', 'MA')\n",
    "df['Address'] = df['Address'].str.replace('MD,', 'MD')\n",
    "df['Address'] = df['Address'].str.replace('ME,', 'ME')\n",
    "df['Address'] = df['Address'].str.replace('MI,', 'MI')\n",
    "df['Address'] = df['Address'].str.replace('MN,', 'MN')\n",
    "df['Address'] = df['Address'].str.replace('MO,', 'MO')\n",
    "df['Address'] = df['Address'].str.replace('MS,', 'MS')\n",
    "df['Address'] = df['Address'].str.replace('MT,', 'MT')\n",
    "df['Address'] = df['Address'].str.replace('NC,', 'NC')\n",
    "df['Address'] = df['Address'].str.replace('ND,', 'ND')\n",
    "df['Address'] = df['Address'].str.replace('NH,', 'NH')\n",
    "df['Address'] = df['Address'].str.replace('NJ,', 'NJ')\n",
    "df['Address'] = df['Address'].str.replace('NM,', 'NM')\n",
    "df['Address'] = df['Address'].str.replace('NV,', 'NV')\n",
    "df['Address'] = df['Address'].str.replace('NY,', 'NY')\n",
    "df['Address'] = df['Address'].str.replace('OH,', 'OH')\n",
    "df['Address'] = df['Address'].str.replace('OK,', 'OK')\n",
    "df['Address'] = df['Address'].str.replace('OR,', 'OR')\n",
    "df['Address'] = df['Address'].str.replace('PA,', 'PA')\n",
    "df['Address'] = df['Address'].str.replace('RI,', 'RI')\n",
    "df['Address'] = df['Address'].str.replace('SC,', 'SC')\n",
    "df['Address'] = df['Address'].str.replace('SD,', 'SD')\n",
    "df['Address'] = df['Address'].str.replace('TN,', 'TN')\n",
    "df['Address'] = df['Address'].str.replace('TX,', 'TX')\n",
    "df['Address'] = df['Address'].str.replace('UT,', 'UT')\n",
    "df['Address'] = df['Address'].str.replace('VA,', 'VA')\n",
    "df['Address'] = df['Address'].str.replace('VT,', 'VT')\n",
    "df['Address'] = df['Address'].str.replace('WA,', 'WA')\n",
    "df['Address'] = df['Address'].str.replace('WI,', 'WI')\n",
    "df['Address'] = df['Address'].str.replace('WV,', 'WV')\n",
    "df['Address'] = df['Address'].str.replace('WY,', 'WY')"
   ]
  },
  {
   "source": [
    "## Check - Recalculate Length"
   ],
   "cell_type": "markdown",
   "metadata": {}
  },
  {
   "cell_type": "code",
   "execution_count": 10,
   "metadata": {},
   "outputs": [],
   "source": [
    "df = df.drop(columns = ['City, State', 'Length'])"
   ]
  },
  {
   "cell_type": "code",
   "execution_count": 11,
   "metadata": {},
   "outputs": [],
   "source": [
    "df['City, State']  = df['Address'].str.split(',')"
   ]
  },
  {
   "cell_type": "code",
   "execution_count": 12,
   "metadata": {},
   "outputs": [
    {
     "output_type": "execute_result",
     "data": {
      "text/plain": [
       "array([3, 5, 4, 1, 6, 2])"
      ]
     },
     "metadata": {},
     "execution_count": 12
    }
   ],
   "source": [
    "# Checking string lengths after cleaning\n",
    "df['Length'] = df['City, State'].apply(lambda x: len(x) if x != None else 0 )\n",
    "# 1, 3, 4 are the expected length \n",
    "df['Length'].unique()"
   ]
  },
  {
   "cell_type": "code",
   "execution_count": 13,
   "metadata": {},
   "outputs": [
    {
     "output_type": "execute_result",
     "data": {
      "text/plain": [
       "       Unnamed: 0                             School Score             Rating  \\\n",
       "30412       30412            Pine Tree Middle School  3/10      Below average   \n",
       "33396       33396  Building Blocks Child Care Center  0/10  Currently unrated   \n",
       "50570       50570   Montessori West Christian School  0/10  Currently unrated   \n",
       "50841       50841                Happy Kids Day Care  0/10  Currently unrated   \n",
       "\n",
       "                                                                     Address  \\\n",
       "30412                                         600 PT PKWY Longview, TX 75604   \n",
       "33396  San Martin De Porres Clinic: Kallumadanda Vinnie MD Mission, TX 78572   \n",
       "50570                     8800 WARREN H. ABERNATHY HWY Spartanburg, SC 29301   \n",
       "50841  Rockwood Plastic Surgery Center: Gardner Glenn P MD Spokane, WA 99204   \n",
       "\n",
       "                  Type Grades  Total Students Enrolled Students per teacher  \\\n",
       "30412  Public district    5-6                    725.0                 14:1   \n",
       "33396          Private     PK                      NaN                  NaN   \n",
       "50570          Private   PK-K                     68.0                  NaN   \n",
       "50841          Private     PK                      NaN                  NaN   \n",
       "\n",
       "                                    District  \\\n",
       "30412  Pine Tree Independent School District   \n",
       "33396                                    NaN   \n",
       "50570                                    NaN   \n",
       "50841                                    NaN   \n",
       "\n",
       "                                                                    City, State  \\\n",
       "30412                                         [600 PT PKWY Longview,  TX 75604]   \n",
       "33396  [San Martin De Porres Clinic: Kallumadanda Vinnie MD Mission,  TX 78572]   \n",
       "50570                     [8800 WARREN H. ABERNATHY HWY Spartanburg,  SC 29301]   \n",
       "50841  [Rockwood Plastic Surgery Center: Gardner Glenn P MD Spokane,  WA 99204]   \n",
       "\n",
       "       Length  \n",
       "30412       2  \n",
       "33396       2  \n",
       "50570       2  \n",
       "50841       2  "
      ],
      "text/html": "<div>\n<style scoped>\n    .dataframe tbody tr th:only-of-type {\n        vertical-align: middle;\n    }\n\n    .dataframe tbody tr th {\n        vertical-align: top;\n    }\n\n    .dataframe thead th {\n        text-align: right;\n    }\n</style>\n<table border=\"1\" class=\"dataframe\">\n  <thead>\n    <tr style=\"text-align: right;\">\n      <th></th>\n      <th>Unnamed: 0</th>\n      <th>School</th>\n      <th>Score</th>\n      <th>Rating</th>\n      <th>Address</th>\n      <th>Type</th>\n      <th>Grades</th>\n      <th>Total Students Enrolled</th>\n      <th>Students per teacher</th>\n      <th>District</th>\n      <th>City, State</th>\n      <th>Length</th>\n    </tr>\n  </thead>\n  <tbody>\n    <tr>\n      <th>30412</th>\n      <td>30412</td>\n      <td>Pine Tree Middle School</td>\n      <td>3/10</td>\n      <td>Below average</td>\n      <td>600 PT PKWY Longview, TX 75604</td>\n      <td>Public district</td>\n      <td>5-6</td>\n      <td>725.0</td>\n      <td>14:1</td>\n      <td>Pine Tree Independent School District</td>\n      <td>[600 PT PKWY Longview,  TX 75604]</td>\n      <td>2</td>\n    </tr>\n    <tr>\n      <th>33396</th>\n      <td>33396</td>\n      <td>Building Blocks Child Care Center</td>\n      <td>0/10</td>\n      <td>Currently unrated</td>\n      <td>San Martin De Porres Clinic: Kallumadanda Vinnie MD Mission, TX 78572</td>\n      <td>Private</td>\n      <td>PK</td>\n      <td>NaN</td>\n      <td>NaN</td>\n      <td>NaN</td>\n      <td>[San Martin De Porres Clinic: Kallumadanda Vinnie MD Mission,  TX 78572]</td>\n      <td>2</td>\n    </tr>\n    <tr>\n      <th>50570</th>\n      <td>50570</td>\n      <td>Montessori West Christian School</td>\n      <td>0/10</td>\n      <td>Currently unrated</td>\n      <td>8800 WARREN H. ABERNATHY HWY Spartanburg, SC 29301</td>\n      <td>Private</td>\n      <td>PK-K</td>\n      <td>68.0</td>\n      <td>NaN</td>\n      <td>NaN</td>\n      <td>[8800 WARREN H. ABERNATHY HWY Spartanburg,  SC 29301]</td>\n      <td>2</td>\n    </tr>\n    <tr>\n      <th>50841</th>\n      <td>50841</td>\n      <td>Happy Kids Day Care</td>\n      <td>0/10</td>\n      <td>Currently unrated</td>\n      <td>Rockwood Plastic Surgery Center: Gardner Glenn P MD Spokane, WA 99204</td>\n      <td>Private</td>\n      <td>PK</td>\n      <td>NaN</td>\n      <td>NaN</td>\n      <td>NaN</td>\n      <td>[Rockwood Plastic Surgery Center: Gardner Glenn P MD Spokane,  WA 99204]</td>\n      <td>2</td>\n    </tr>\n  </tbody>\n</table>\n</div>"
     },
     "metadata": {},
     "execution_count": 13
    }
   ],
   "source": [
    "df.loc[df['Length'] == 2]"
   ]
  },
  {
   "cell_type": "code",
   "execution_count": 14,
   "metadata": {},
   "outputs": [],
   "source": [
    "df['Address'] = df['Address'].str.replace('600 PT PKWY Longview, TX 75604', '600 PT PKWY, Longview, TX 75604')\n",
    "df['Address'] = df['Address'].str.replace('San Martin De Porres Clinic: Kallumadanda Vinnie MD Mission, TX 78572', 'San Martin De Porres Clinic: Kallumadanda Vinnie MD, Mission, TX 78572')\n",
    "df['Address'] = df['Address'].str.replace('8800 WARREN H. ABERNATHY HWY Spartanburg, SC 29301', '8800 WARREN H. ABERNATHY HWY, Spartanburg, SC 29301')\n",
    "df['Address'] = df['Address'].str.replace('Rockwood Plastic Surgery Center: Gardner Glenn P MD Spokane, WA 99204', 'Rockwood Plastic Surgery Center: Gardner Glenn P MD, Spokane, WA 99204')"
   ]
  },
  {
   "source": [
    "## Check "
   ],
   "cell_type": "markdown",
   "metadata": {}
  },
  {
   "cell_type": "code",
   "execution_count": 15,
   "metadata": {},
   "outputs": [],
   "source": [
    "df = df.drop(columns = ['City, State', 'Length'])"
   ]
  },
  {
   "cell_type": "code",
   "execution_count": 16,
   "metadata": {},
   "outputs": [],
   "source": [
    "df['City, State']  = df['Address'].str.split(',')"
   ]
  },
  {
   "cell_type": "code",
   "execution_count": 17,
   "metadata": {},
   "outputs": [
    {
     "output_type": "execute_result",
     "data": {
      "text/plain": [
       "array([3, 5, 4, 1, 6])"
      ]
     },
     "metadata": {},
     "execution_count": 17
    }
   ],
   "source": [
    "# Checking string lengths after cleaning\n",
    "df['Length'] = df['City, State'].apply(lambda x: len(x) if x != None else 0 )\n",
    "# 1, 3, 4 are the expected length \n",
    "df['Length'].unique()"
   ]
  },
  {
   "source": [
    "## Create new dataframe with rows with lengths 5, 6, and a specific row"
   ],
   "cell_type": "markdown",
   "metadata": {}
  },
  {
   "source": [
    "### LENGTH 5"
   ],
   "cell_type": "markdown",
   "metadata": {}
  },
  {
   "cell_type": "code",
   "execution_count": 18,
   "metadata": {},
   "outputs": [],
   "source": [
    "length_5 = df.loc[df['Length'] == 5]"
   ]
  },
  {
   "cell_type": "code",
   "execution_count": 19,
   "metadata": {},
   "outputs": [
    {
     "output_type": "stream",
     "name": "stderr",
     "text": [
      "<ipython-input-19-abd28c665ad6>:1: SettingWithCopyWarning: \nA value is trying to be set on a copy of a slice from a DataFrame.\nTry using .loc[row_indexer,col_indexer] = value instead\n\nSee the caveats in the documentation: https://pandas.pydata.org/pandas-docs/stable/user_guide/indexing.html#returning-a-view-versus-a-copy\n  length_5['City, State'] = length_5['City, State'].str[0:3]\n"
     ]
    }
   ],
   "source": [
    "length_5['City, State'] = length_5['City, State'].str[0:3]"
   ]
  },
  {
   "cell_type": "code",
   "execution_count": 20,
   "metadata": {},
   "outputs": [
    {
     "output_type": "stream",
     "name": "stderr",
     "text": [
      "<ipython-input-20-a3d51dd7f4b8>:1: SettingWithCopyWarning: \nA value is trying to be set on a copy of a slice from a DataFrame.\nTry using .loc[row_indexer,col_indexer] = value instead\n\nSee the caveats in the documentation: https://pandas.pydata.org/pandas-docs/stable/user_guide/indexing.html#returning-a-view-versus-a-copy\n  length_5['Address'] = length_5['City, State'].str.join(',')\n"
     ]
    }
   ],
   "source": [
    "length_5['Address'] = length_5['City, State'].str.join(',')"
   ]
  },
  {
   "cell_type": "code",
   "execution_count": 21,
   "metadata": {},
   "outputs": [
    {
     "output_type": "stream",
     "name": "stderr",
     "text": [
      "<ipython-input-21-443dca0d750d>:2: SettingWithCopyWarning: \nA value is trying to be set on a copy of a slice from a DataFrame.\nTry using .loc[row_indexer,col_indexer] = value instead\n\nSee the caveats in the documentation: https://pandas.pydata.org/pandas-docs/stable/user_guide/indexing.html#returning-a-view-versus-a-copy\n  length_5['Address'] = length_5['Address'].str.replace('2950 East 29th Street, Long Beach, CA', '2950 E 29th St, Long Beach, CA 90806')\n<ipython-input-21-443dca0d750d>:3: SettingWithCopyWarning: \nA value is trying to be set on a copy of a slice from a DataFrame.\nTry using .loc[row_indexer,col_indexer] = value instead\n\nSee the caveats in the documentation: https://pandas.pydata.org/pandas-docs/stable/user_guide/indexing.html#returning-a-view-versus-a-copy\n  length_5['Address'] = length_5['Address'].str.replace('2585 Business Park Drive, Vista, 92081', '2585 Business Park Dr, Vista, CA 92081')\n<ipython-input-21-443dca0d750d>:4: SettingWithCopyWarning: \nA value is trying to be set on a copy of a slice from a DataFrame.\nTry using .loc[row_indexer,col_indexer] = value instead\n\nSee the caveats in the documentation: https://pandas.pydata.org/pandas-docs/stable/user_guide/indexing.html#returning-a-view-versus-a-copy\n  length_5['Address'] = length_5['Address'].str.replace('401 E Arrowood Rd, Charlotte, Nc', '401 E Arrowood Rd, Charlotte, NC 28217')\n"
     ]
    }
   ],
   "source": [
    "# Clean specific addr\n",
    "length_5['Address'] = length_5['Address'].str.replace('2950 East 29th Street, Long Beach, CA', '2950 E 29th St, Long Beach, CA 90806')\t\n",
    "length_5['Address'] = length_5['Address'].str.replace('2585 Business Park Drive, Vista, 92081', '2585 Business Park Dr, Vista, CA 92081')\n",
    "length_5['Address'] = length_5['Address'].str.replace('401 E Arrowood Rd, Charlotte, Nc', '401 E Arrowood Rd, Charlotte, NC 28217')"
   ]
  },
  {
   "cell_type": "code",
   "execution_count": 22,
   "metadata": {},
   "outputs": [],
   "source": [
    "length_5 = length_5.drop(columns = ['City, State', 'Length'])"
   ]
  },
  {
   "cell_type": "code",
   "execution_count": 23,
   "metadata": {},
   "outputs": [],
   "source": [
    "length_5['City, State']  = length_5['Address'].str.split(',')"
   ]
  },
  {
   "cell_type": "code",
   "execution_count": 24,
   "metadata": {},
   "outputs": [
    {
     "output_type": "execute_result",
     "data": {
      "text/plain": [
       "array([3])"
      ]
     },
     "metadata": {},
     "execution_count": 24
    }
   ],
   "source": [
    "# Checking string lengths after cleaning\n",
    "length_5['Length'] = length_5['City, State'].apply(lambda x: len(x) if x != None else 0 )\n",
    "# 1, 3, 4 are the expected length \n",
    "length_5['Length'].unique()"
   ]
  },
  {
   "cell_type": "code",
   "execution_count": 25,
   "metadata": {},
   "outputs": [
    {
     "output_type": "stream",
     "name": "stdout",
     "text": [
      "(79, 12)\n"
     ]
    },
    {
     "output_type": "execute_result",
     "data": {
      "text/plain": [
       "      Unnamed: 0                              School Score             Rating  \\\n",
       "553          553  Mountain Mahogany Community School  6/10            Average   \n",
       "1006        1006           Acton Academy Albuquerque  0/10  Currently unrated   \n",
       "2096        2096           Anderson Christian School  0/10  Currently unrated   \n",
       "2148        2148  Go Like The Wind Montessori School  0/10  Currently unrated   \n",
       "2382        2382  Newman International Academy Of Ar  6/10            Average   \n",
       "\n",
       "                                         Address            Type       Grades  \\\n",
       "553   5014 4th Street NW, Albuquerque, NM  87107  Public charter          K-8   \n",
       "1006  3100 Menaul Blvd NE, Albuquerque, NM 87107         Private          1-6   \n",
       "2096     5401 S. Madison Ave, Anderson, IN 46013         Private  PK-9, 11-12   \n",
       "2148      8845 Main St., Whitmore Lake, MI 48189         Private         PK-9   \n",
       "2382     2011 S Fielder Rd, Arlington, TX 76013   Public charter        PK-12   \n",
       "\n",
       "      Total Students Enrolled Students per teacher  \\\n",
       "553                     187.0                 17:1   \n",
       "1006                      NaN                  NaN   \n",
       "2096                     56.0                  NaN   \n",
       "2148                    131.0                  NaN   \n",
       "2382                    870.0                 13:1   \n",
       "\n",
       "                                       District  \\\n",
       "553                  Albuquerque Public Schools   \n",
       "1006                                        NaN   \n",
       "2096                                        NaN   \n",
       "2148                                        NaN   \n",
       "2382  Newman International Academy Of Arlington   \n",
       "\n",
       "                                         City, State  Length  \n",
       "553   [5014 4th Street NW,  Albuquerque,  NM  87107]       3  \n",
       "1006  [3100 Menaul Blvd NE,  Albuquerque,  NM 87107]       3  \n",
       "2096     [5401 S. Madison Ave,  Anderson,  IN 46013]       3  \n",
       "2148      [8845 Main St.,  Whitmore Lake,  MI 48189]       3  \n",
       "2382     [2011 S Fielder Rd,  Arlington,  TX 76013 ]       3  "
      ],
      "text/html": "<div>\n<style scoped>\n    .dataframe tbody tr th:only-of-type {\n        vertical-align: middle;\n    }\n\n    .dataframe tbody tr th {\n        vertical-align: top;\n    }\n\n    .dataframe thead th {\n        text-align: right;\n    }\n</style>\n<table border=\"1\" class=\"dataframe\">\n  <thead>\n    <tr style=\"text-align: right;\">\n      <th></th>\n      <th>Unnamed: 0</th>\n      <th>School</th>\n      <th>Score</th>\n      <th>Rating</th>\n      <th>Address</th>\n      <th>Type</th>\n      <th>Grades</th>\n      <th>Total Students Enrolled</th>\n      <th>Students per teacher</th>\n      <th>District</th>\n      <th>City, State</th>\n      <th>Length</th>\n    </tr>\n  </thead>\n  <tbody>\n    <tr>\n      <th>553</th>\n      <td>553</td>\n      <td>Mountain Mahogany Community School</td>\n      <td>6/10</td>\n      <td>Average</td>\n      <td>5014 4th Street NW, Albuquerque, NM  87107</td>\n      <td>Public charter</td>\n      <td>K-8</td>\n      <td>187.0</td>\n      <td>17:1</td>\n      <td>Albuquerque Public Schools</td>\n      <td>[5014 4th Street NW,  Albuquerque,  NM  87107]</td>\n      <td>3</td>\n    </tr>\n    <tr>\n      <th>1006</th>\n      <td>1006</td>\n      <td>Acton Academy Albuquerque</td>\n      <td>0/10</td>\n      <td>Currently unrated</td>\n      <td>3100 Menaul Blvd NE, Albuquerque, NM 87107</td>\n      <td>Private</td>\n      <td>1-6</td>\n      <td>NaN</td>\n      <td>NaN</td>\n      <td>NaN</td>\n      <td>[3100 Menaul Blvd NE,  Albuquerque,  NM 87107]</td>\n      <td>3</td>\n    </tr>\n    <tr>\n      <th>2096</th>\n      <td>2096</td>\n      <td>Anderson Christian School</td>\n      <td>0/10</td>\n      <td>Currently unrated</td>\n      <td>5401 S. Madison Ave, Anderson, IN 46013</td>\n      <td>Private</td>\n      <td>PK-9, 11-12</td>\n      <td>56.0</td>\n      <td>NaN</td>\n      <td>NaN</td>\n      <td>[5401 S. Madison Ave,  Anderson,  IN 46013]</td>\n      <td>3</td>\n    </tr>\n    <tr>\n      <th>2148</th>\n      <td>2148</td>\n      <td>Go Like The Wind Montessori School</td>\n      <td>0/10</td>\n      <td>Currently unrated</td>\n      <td>8845 Main St., Whitmore Lake, MI 48189</td>\n      <td>Private</td>\n      <td>PK-9</td>\n      <td>131.0</td>\n      <td>NaN</td>\n      <td>NaN</td>\n      <td>[8845 Main St.,  Whitmore Lake,  MI 48189]</td>\n      <td>3</td>\n    </tr>\n    <tr>\n      <th>2382</th>\n      <td>2382</td>\n      <td>Newman International Academy Of Ar</td>\n      <td>6/10</td>\n      <td>Average</td>\n      <td>2011 S Fielder Rd, Arlington, TX 76013</td>\n      <td>Public charter</td>\n      <td>PK-12</td>\n      <td>870.0</td>\n      <td>13:1</td>\n      <td>Newman International Academy Of Arlington</td>\n      <td>[2011 S Fielder Rd,  Arlington,  TX 76013 ]</td>\n      <td>3</td>\n    </tr>\n  </tbody>\n</table>\n</div>"
     },
     "metadata": {},
     "execution_count": 25
    }
   ],
   "source": [
    "print(length_5.shape)\n",
    "length_5.head()"
   ]
  },
  {
   "source": [
    "### LENGTH 6"
   ],
   "cell_type": "markdown",
   "metadata": {}
  },
  {
   "source": [
    "length_6 = df.loc[df['Length'] == 6]"
   ],
   "cell_type": "code",
   "metadata": {},
   "execution_count": 26,
   "outputs": []
  },
  {
   "cell_type": "code",
   "execution_count": 27,
   "metadata": {},
   "outputs": [
    {
     "output_type": "stream",
     "name": "stderr",
     "text": [
      "<ipython-input-27-1c3d34368bfe>:1: SettingWithCopyWarning: \nA value is trying to be set on a copy of a slice from a DataFrame.\nTry using .loc[row_indexer,col_indexer] = value instead\n\nSee the caveats in the documentation: https://pandas.pydata.org/pandas-docs/stable/user_guide/indexing.html#returning-a-view-versus-a-copy\n  length_6['City, State'] = length_6['City, State'].str[0:4]\n"
     ]
    }
   ],
   "source": [
    "length_6['City, State'] = length_6['City, State'].str[0:4]"
   ]
  },
  {
   "cell_type": "code",
   "execution_count": 28,
   "metadata": {},
   "outputs": [
    {
     "output_type": "stream",
     "name": "stderr",
     "text": [
      "<ipython-input-28-aa8618fdbf3f>:1: SettingWithCopyWarning: \nA value is trying to be set on a copy of a slice from a DataFrame.\nTry using .loc[row_indexer,col_indexer] = value instead\n\nSee the caveats in the documentation: https://pandas.pydata.org/pandas-docs/stable/user_guide/indexing.html#returning-a-view-versus-a-copy\n  length_6['Address'] = length_6['City, State'].str.join(',')\n"
     ]
    }
   ],
   "source": [
    "length_6['Address'] = length_6['City, State'].str.join(',')"
   ]
  },
  {
   "cell_type": "code",
   "execution_count": 29,
   "metadata": {},
   "outputs": [],
   "source": [
    "length_6 = length_6.drop(columns = ['City, State', 'Length'])"
   ]
  },
  {
   "cell_type": "code",
   "execution_count": 30,
   "metadata": {},
   "outputs": [],
   "source": [
    "length_6['City, State']  = length_6['Address'].str.split(',')"
   ]
  },
  {
   "cell_type": "code",
   "execution_count": 31,
   "metadata": {},
   "outputs": [
    {
     "output_type": "execute_result",
     "data": {
      "text/plain": [
       "array([4])"
      ]
     },
     "metadata": {},
     "execution_count": 31
    }
   ],
   "source": [
    "# Checking string lengths after cleaning\n",
    "length_6['Length'] = length_6['City, State'].apply(lambda x: len(x) if x != None else 0 )\n",
    "# 1, 3, 4 are the expected length \n",
    "length_6['Length'].unique()"
   ]
  },
  {
   "cell_type": "code",
   "execution_count": 32,
   "metadata": {},
   "outputs": [
    {
     "output_type": "stream",
     "name": "stdout",
     "text": [
      "(1, 12)\n"
     ]
    },
    {
     "output_type": "execute_result",
     "data": {
      "text/plain": [
       "       Unnamed: 0                                                   School  \\\n",
       "27205       27205  Upper Lafayette Academy-Louisiana Education Corporation   \n",
       "\n",
       "      Score             Rating  \\\n",
       "27205  0/10  Currently unrated   \n",
       "\n",
       "                                                    Address     Type Grades  \\\n",
       "27205  1018 Harding Street, Suite 112, Lafayette, La  70503  Private     11   \n",
       "\n",
       "       Total Students Enrolled Students per teacher District  \\\n",
       "27205                      NaN                  NaN      NaN   \n",
       "\n",
       "                                                     City, State  Length  \n",
       "27205  [1018 Harding Street,  Suite 112,  Lafayette,  La  70503]       4  "
      ],
      "text/html": "<div>\n<style scoped>\n    .dataframe tbody tr th:only-of-type {\n        vertical-align: middle;\n    }\n\n    .dataframe tbody tr th {\n        vertical-align: top;\n    }\n\n    .dataframe thead th {\n        text-align: right;\n    }\n</style>\n<table border=\"1\" class=\"dataframe\">\n  <thead>\n    <tr style=\"text-align: right;\">\n      <th></th>\n      <th>Unnamed: 0</th>\n      <th>School</th>\n      <th>Score</th>\n      <th>Rating</th>\n      <th>Address</th>\n      <th>Type</th>\n      <th>Grades</th>\n      <th>Total Students Enrolled</th>\n      <th>Students per teacher</th>\n      <th>District</th>\n      <th>City, State</th>\n      <th>Length</th>\n    </tr>\n  </thead>\n  <tbody>\n    <tr>\n      <th>27205</th>\n      <td>27205</td>\n      <td>Upper Lafayette Academy-Louisiana Education Corporation</td>\n      <td>0/10</td>\n      <td>Currently unrated</td>\n      <td>1018 Harding Street, Suite 112, Lafayette, La  70503</td>\n      <td>Private</td>\n      <td>11</td>\n      <td>NaN</td>\n      <td>NaN</td>\n      <td>NaN</td>\n      <td>[1018 Harding Street,  Suite 112,  Lafayette,  La  70503]</td>\n      <td>4</td>\n    </tr>\n  </tbody>\n</table>\n</div>"
     },
     "metadata": {},
     "execution_count": 32
    }
   ],
   "source": [
    "print(length_6.shape)\n",
    "length_6.head()"
   ]
  },
  {
   "source": [
    "### Specific rows"
   ],
   "cell_type": "markdown",
   "metadata": {}
  },
  {
   "cell_type": "code",
   "execution_count": 33,
   "metadata": {},
   "outputs": [],
   "source": [
    "specific = df.loc[df['Unnamed: 0'] == 52126]"
   ]
  },
  {
   "cell_type": "code",
   "execution_count": 34,
   "metadata": {},
   "outputs": [
    {
     "output_type": "stream",
     "name": "stderr",
     "text": [
      "<ipython-input-34-de30fa1ce9ea>:1: SettingWithCopyWarning: \nA value is trying to be set on a copy of a slice from a DataFrame.\nTry using .loc[row_indexer,col_indexer] = value instead\n\nSee the caveats in the documentation: https://pandas.pydata.org/pandas-docs/stable/user_guide/indexing.html#returning-a-view-versus-a-copy\n  specific['Address'] = specific['Address'].str[:-38]\n"
     ]
    }
   ],
   "source": [
    "specific['Address'] = specific['Address'].str[:-38]"
   ]
  },
  {
   "cell_type": "code",
   "execution_count": 35,
   "metadata": {},
   "outputs": [
    {
     "output_type": "execute_result",
     "data": {
      "text/plain": [
       "       Unnamed: 0                       School Score             Rating  \\\n",
       "52126       52126  St. Patrick Catholic School  0/10  Currently unrated   \n",
       "\n",
       "                                     Address     Type Grades  \\\n",
       "52126  1112 North G Street, Tacoma, WA 98403  Private   PK-8   \n",
       "\n",
       "       Total Students Enrolled Students per teacher District  \\\n",
       "52126                    445.0                  NaN      NaN   \n",
       "\n",
       "                                                                             City, State  \\\n",
       "52126  [1112 North G Street,  Tacoma,  WA 98403|1112 North G Street,  Tacoma,  WA 98403]   \n",
       "\n",
       "       Length  \n",
       "52126       5  "
      ],
      "text/html": "<div>\n<style scoped>\n    .dataframe tbody tr th:only-of-type {\n        vertical-align: middle;\n    }\n\n    .dataframe tbody tr th {\n        vertical-align: top;\n    }\n\n    .dataframe thead th {\n        text-align: right;\n    }\n</style>\n<table border=\"1\" class=\"dataframe\">\n  <thead>\n    <tr style=\"text-align: right;\">\n      <th></th>\n      <th>Unnamed: 0</th>\n      <th>School</th>\n      <th>Score</th>\n      <th>Rating</th>\n      <th>Address</th>\n      <th>Type</th>\n      <th>Grades</th>\n      <th>Total Students Enrolled</th>\n      <th>Students per teacher</th>\n      <th>District</th>\n      <th>City, State</th>\n      <th>Length</th>\n    </tr>\n  </thead>\n  <tbody>\n    <tr>\n      <th>52126</th>\n      <td>52126</td>\n      <td>St. Patrick Catholic School</td>\n      <td>0/10</td>\n      <td>Currently unrated</td>\n      <td>1112 North G Street, Tacoma, WA 98403</td>\n      <td>Private</td>\n      <td>PK-8</td>\n      <td>445.0</td>\n      <td>NaN</td>\n      <td>NaN</td>\n      <td>[1112 North G Street,  Tacoma,  WA 98403|1112 North G Street,  Tacoma,  WA 98403]</td>\n      <td>5</td>\n    </tr>\n  </tbody>\n</table>\n</div>"
     },
     "metadata": {},
     "execution_count": 35
    }
   ],
   "source": [
    "specific.head()"
   ]
  },
  {
   "cell_type": "code",
   "execution_count": 36,
   "metadata": {},
   "outputs": [],
   "source": [
    "specific = specific.drop(columns = ['City, State', 'Length'])"
   ]
  },
  {
   "cell_type": "code",
   "execution_count": 37,
   "metadata": {},
   "outputs": [],
   "source": [
    "specific['City, State']  = specific['Address'].str.split(',')"
   ]
  },
  {
   "cell_type": "code",
   "execution_count": 38,
   "metadata": {},
   "outputs": [
    {
     "output_type": "execute_result",
     "data": {
      "text/plain": [
       "array([3])"
      ]
     },
     "metadata": {},
     "execution_count": 38
    }
   ],
   "source": [
    "# Checking string lengths after cleaning\n",
    "specific['Length'] = specific['City, State'].apply(lambda x: len(x) if x != None else 0 )\n",
    "# 1, 3, 4 are the expected length \n",
    "specific['Length'].unique()"
   ]
  },
  {
   "cell_type": "code",
   "execution_count": 39,
   "metadata": {},
   "outputs": [
    {
     "output_type": "stream",
     "name": "stdout",
     "text": [
      "(1, 12)\n"
     ]
    },
    {
     "output_type": "execute_result",
     "data": {
      "text/plain": [
       "       Unnamed: 0                       School Score             Rating  \\\n",
       "52126       52126  St. Patrick Catholic School  0/10  Currently unrated   \n",
       "\n",
       "                                     Address     Type Grades  \\\n",
       "52126  1112 North G Street, Tacoma, WA 98403  Private   PK-8   \n",
       "\n",
       "       Total Students Enrolled Students per teacher District  \\\n",
       "52126                    445.0                  NaN      NaN   \n",
       "\n",
       "                                     City, State  Length  \n",
       "52126  [1112 North G Street,  Tacoma,  WA 98403]       3  "
      ],
      "text/html": "<div>\n<style scoped>\n    .dataframe tbody tr th:only-of-type {\n        vertical-align: middle;\n    }\n\n    .dataframe tbody tr th {\n        vertical-align: top;\n    }\n\n    .dataframe thead th {\n        text-align: right;\n    }\n</style>\n<table border=\"1\" class=\"dataframe\">\n  <thead>\n    <tr style=\"text-align: right;\">\n      <th></th>\n      <th>Unnamed: 0</th>\n      <th>School</th>\n      <th>Score</th>\n      <th>Rating</th>\n      <th>Address</th>\n      <th>Type</th>\n      <th>Grades</th>\n      <th>Total Students Enrolled</th>\n      <th>Students per teacher</th>\n      <th>District</th>\n      <th>City, State</th>\n      <th>Length</th>\n    </tr>\n  </thead>\n  <tbody>\n    <tr>\n      <th>52126</th>\n      <td>52126</td>\n      <td>St. Patrick Catholic School</td>\n      <td>0/10</td>\n      <td>Currently unrated</td>\n      <td>1112 North G Street, Tacoma, WA 98403</td>\n      <td>Private</td>\n      <td>PK-8</td>\n      <td>445.0</td>\n      <td>NaN</td>\n      <td>NaN</td>\n      <td>[1112 North G Street,  Tacoma,  WA 98403]</td>\n      <td>3</td>\n    </tr>\n  </tbody>\n</table>\n</div>"
     },
     "metadata": {},
     "execution_count": 39
    }
   ],
   "source": [
    "print(specific.shape)\n",
    "specific.head()"
   ]
  },
  {
   "source": [
    "## Merge"
   ],
   "cell_type": "markdown",
   "metadata": {}
  },
  {
   "cell_type": "code",
   "execution_count": 40,
   "metadata": {},
   "outputs": [],
   "source": [
    "df = df.append(length_5)\n",
    "df = df.append(length_6)\n",
    "df = df.append(specific)"
   ]
  },
  {
   "cell_type": "code",
   "execution_count": 41,
   "metadata": {},
   "outputs": [
    {
     "output_type": "stream",
     "name": "stdout",
     "text": [
      "(58863, 12)\n"
     ]
    },
    {
     "output_type": "execute_result",
     "data": {
      "text/plain": [
       "       Unnamed: 0                                                   School  \\\n",
       "553           553                       Mountain Mahogany Community School   \n",
       "1006         1006                                Acton Academy Albuquerque   \n",
       "2096         2096                                Anderson Christian School   \n",
       "2148         2148                       Go Like The Wind Montessori School   \n",
       "2382         2382                       Newman International Academy Of Ar   \n",
       "...           ...                                                      ...   \n",
       "56786       56786                     Georgetown Day School - Upper School   \n",
       "57658       57658                              Classical School of Wichita   \n",
       "58140       58140                         Wilmington Academy Of Arts & Sci   \n",
       "27205       27205  Upper Lafayette Academy-Louisiana Education Corporation   \n",
       "52126       52126                              St. Patrick Catholic School   \n",
       "\n",
       "      Score             Rating  \\\n",
       "553    6/10            Average   \n",
       "1006   0/10  Currently unrated   \n",
       "2096   0/10  Currently unrated   \n",
       "2148   0/10  Currently unrated   \n",
       "2382   6/10            Average   \n",
       "...     ...                ...   \n",
       "56786  0/10  Currently unrated   \n",
       "57658  0/10  Currently unrated   \n",
       "58140  0/10  Currently unrated   \n",
       "27205  0/10  Currently unrated   \n",
       "52126  0/10  Currently unrated   \n",
       "\n",
       "                                                                 Address  \\\n",
       "553    5014 4th Street NW, Albuquerque, NM  87107, Albuquerque, NM 87107   \n",
       "1006   3100 Menaul Blvd NE, Albuquerque, NM 87107, Albuquerque, NM 87109   \n",
       "2096         5401 S. Madison Ave, Anderson, IN 46013, Anderson, IN 46012   \n",
       "2148         8845 Main St., Whitmore Lake, MI 48189, Ann Arbor, MI 48105   \n",
       "2382        2011 S Fielder Rd, Arlington, TX 76013 , Arlington, TX 76003   \n",
       "...                                                                  ...   \n",
       "56786                     4200 Davenport Street NW, Washington, DC 20009   \n",
       "57658                            6355 Willowbrook St., Wichita, Ks 67208   \n",
       "58140                       6201 Myrtle Grove Road, Wilmington, NC 28412   \n",
       "27205               1018 Harding Street, Suite 112, Lafayette, La  70503   \n",
       "52126                              1112 North G Street, Tacoma, WA 98403   \n",
       "\n",
       "                 Type           Grades  Total Students Enrolled  \\\n",
       "553    Public charter              K-8                    187.0   \n",
       "1006          Private              1-6                      NaN   \n",
       "2096          Private      PK-9, 11-12                     56.0   \n",
       "2148          Private             PK-9                    131.0   \n",
       "2382   Public charter            PK-12                    870.0   \n",
       "...               ...              ...                      ...   \n",
       "56786         Private             9-12                      NaN   \n",
       "57658         Private  K-12 & Ungraded                      NaN   \n",
       "58140         Private              4-8                     70.0   \n",
       "27205         Private               11                      NaN   \n",
       "52126         Private             PK-8                    445.0   \n",
       "\n",
       "      Students per teacher                                   District  \\\n",
       "553                   17:1                 Albuquerque Public Schools   \n",
       "1006                   NaN                                        NaN   \n",
       "2096                   NaN                                        NaN   \n",
       "2148                   NaN                                        NaN   \n",
       "2382                  13:1  Newman International Academy Of Arlington   \n",
       "...                    ...                                        ...   \n",
       "56786                  NaN                                        NaN   \n",
       "57658                  NaN                                        NaN   \n",
       "58140                  NaN                                        NaN   \n",
       "27205                  NaN                                        NaN   \n",
       "52126                  NaN                                        NaN   \n",
       "\n",
       "                                                                   City, State  \\\n",
       "553    [5014 4th Street NW,  Albuquerque,  NM  87107,  Albuquerque,  NM 87107]   \n",
       "1006   [3100 Menaul Blvd NE,  Albuquerque,  NM 87107,  Albuquerque,  NM 87109]   \n",
       "2096         [5401 S. Madison Ave,  Anderson,  IN 46013,  Anderson,  IN 46012]   \n",
       "2148         [8845 Main St.,  Whitmore Lake,  MI 48189,  Ann Arbor,  MI 48105]   \n",
       "2382        [2011 S Fielder Rd,  Arlington,  TX 76013 ,  Arlington,  TX 76003]   \n",
       "...                                                                        ...   \n",
       "56786                       [4200 Davenport Street NW,  Washington,  DC 20009]   \n",
       "57658                              [6355 Willowbrook St.,  Wichita,  Ks 67208]   \n",
       "58140                         [6201 Myrtle Grove Road,  Wilmington,  NC 28412]   \n",
       "27205                [1018 Harding Street,  Suite 112,  Lafayette,  La  70503]   \n",
       "52126                                [1112 North G Street,  Tacoma,  WA 98403]   \n",
       "\n",
       "       Length  \n",
       "553         5  \n",
       "1006        5  \n",
       "2096        5  \n",
       "2148        5  \n",
       "2382        5  \n",
       "...       ...  \n",
       "56786       3  \n",
       "57658       3  \n",
       "58140       3  \n",
       "27205       4  \n",
       "52126       3  \n",
       "\n",
       "[161 rows x 12 columns]"
      ],
      "text/html": "<div>\n<style scoped>\n    .dataframe tbody tr th:only-of-type {\n        vertical-align: middle;\n    }\n\n    .dataframe tbody tr th {\n        vertical-align: top;\n    }\n\n    .dataframe thead th {\n        text-align: right;\n    }\n</style>\n<table border=\"1\" class=\"dataframe\">\n  <thead>\n    <tr style=\"text-align: right;\">\n      <th></th>\n      <th>Unnamed: 0</th>\n      <th>School</th>\n      <th>Score</th>\n      <th>Rating</th>\n      <th>Address</th>\n      <th>Type</th>\n      <th>Grades</th>\n      <th>Total Students Enrolled</th>\n      <th>Students per teacher</th>\n      <th>District</th>\n      <th>City, State</th>\n      <th>Length</th>\n    </tr>\n  </thead>\n  <tbody>\n    <tr>\n      <th>553</th>\n      <td>553</td>\n      <td>Mountain Mahogany Community School</td>\n      <td>6/10</td>\n      <td>Average</td>\n      <td>5014 4th Street NW, Albuquerque, NM  87107, Albuquerque, NM 87107</td>\n      <td>Public charter</td>\n      <td>K-8</td>\n      <td>187.0</td>\n      <td>17:1</td>\n      <td>Albuquerque Public Schools</td>\n      <td>[5014 4th Street NW,  Albuquerque,  NM  87107,  Albuquerque,  NM 87107]</td>\n      <td>5</td>\n    </tr>\n    <tr>\n      <th>1006</th>\n      <td>1006</td>\n      <td>Acton Academy Albuquerque</td>\n      <td>0/10</td>\n      <td>Currently unrated</td>\n      <td>3100 Menaul Blvd NE, Albuquerque, NM 87107, Albuquerque, NM 87109</td>\n      <td>Private</td>\n      <td>1-6</td>\n      <td>NaN</td>\n      <td>NaN</td>\n      <td>NaN</td>\n      <td>[3100 Menaul Blvd NE,  Albuquerque,  NM 87107,  Albuquerque,  NM 87109]</td>\n      <td>5</td>\n    </tr>\n    <tr>\n      <th>2096</th>\n      <td>2096</td>\n      <td>Anderson Christian School</td>\n      <td>0/10</td>\n      <td>Currently unrated</td>\n      <td>5401 S. Madison Ave, Anderson, IN 46013, Anderson, IN 46012</td>\n      <td>Private</td>\n      <td>PK-9, 11-12</td>\n      <td>56.0</td>\n      <td>NaN</td>\n      <td>NaN</td>\n      <td>[5401 S. Madison Ave,  Anderson,  IN 46013,  Anderson,  IN 46012]</td>\n      <td>5</td>\n    </tr>\n    <tr>\n      <th>2148</th>\n      <td>2148</td>\n      <td>Go Like The Wind Montessori School</td>\n      <td>0/10</td>\n      <td>Currently unrated</td>\n      <td>8845 Main St., Whitmore Lake, MI 48189, Ann Arbor, MI 48105</td>\n      <td>Private</td>\n      <td>PK-9</td>\n      <td>131.0</td>\n      <td>NaN</td>\n      <td>NaN</td>\n      <td>[8845 Main St.,  Whitmore Lake,  MI 48189,  Ann Arbor,  MI 48105]</td>\n      <td>5</td>\n    </tr>\n    <tr>\n      <th>2382</th>\n      <td>2382</td>\n      <td>Newman International Academy Of Ar</td>\n      <td>6/10</td>\n      <td>Average</td>\n      <td>2011 S Fielder Rd, Arlington, TX 76013 , Arlington, TX 76003</td>\n      <td>Public charter</td>\n      <td>PK-12</td>\n      <td>870.0</td>\n      <td>13:1</td>\n      <td>Newman International Academy Of Arlington</td>\n      <td>[2011 S Fielder Rd,  Arlington,  TX 76013 ,  Arlington,  TX 76003]</td>\n      <td>5</td>\n    </tr>\n    <tr>\n      <th>...</th>\n      <td>...</td>\n      <td>...</td>\n      <td>...</td>\n      <td>...</td>\n      <td>...</td>\n      <td>...</td>\n      <td>...</td>\n      <td>...</td>\n      <td>...</td>\n      <td>...</td>\n      <td>...</td>\n      <td>...</td>\n    </tr>\n    <tr>\n      <th>56786</th>\n      <td>56786</td>\n      <td>Georgetown Day School - Upper School</td>\n      <td>0/10</td>\n      <td>Currently unrated</td>\n      <td>4200 Davenport Street NW, Washington, DC 20009</td>\n      <td>Private</td>\n      <td>9-12</td>\n      <td>NaN</td>\n      <td>NaN</td>\n      <td>NaN</td>\n      <td>[4200 Davenport Street NW,  Washington,  DC 20009]</td>\n      <td>3</td>\n    </tr>\n    <tr>\n      <th>57658</th>\n      <td>57658</td>\n      <td>Classical School of Wichita</td>\n      <td>0/10</td>\n      <td>Currently unrated</td>\n      <td>6355 Willowbrook St., Wichita, Ks 67208</td>\n      <td>Private</td>\n      <td>K-12 &amp; Ungraded</td>\n      <td>NaN</td>\n      <td>NaN</td>\n      <td>NaN</td>\n      <td>[6355 Willowbrook St.,  Wichita,  Ks 67208]</td>\n      <td>3</td>\n    </tr>\n    <tr>\n      <th>58140</th>\n      <td>58140</td>\n      <td>Wilmington Academy Of Arts &amp; Sci</td>\n      <td>0/10</td>\n      <td>Currently unrated</td>\n      <td>6201 Myrtle Grove Road, Wilmington, NC 28412</td>\n      <td>Private</td>\n      <td>4-8</td>\n      <td>70.0</td>\n      <td>NaN</td>\n      <td>NaN</td>\n      <td>[6201 Myrtle Grove Road,  Wilmington,  NC 28412]</td>\n      <td>3</td>\n    </tr>\n    <tr>\n      <th>27205</th>\n      <td>27205</td>\n      <td>Upper Lafayette Academy-Louisiana Education Corporation</td>\n      <td>0/10</td>\n      <td>Currently unrated</td>\n      <td>1018 Harding Street, Suite 112, Lafayette, La  70503</td>\n      <td>Private</td>\n      <td>11</td>\n      <td>NaN</td>\n      <td>NaN</td>\n      <td>NaN</td>\n      <td>[1018 Harding Street,  Suite 112,  Lafayette,  La  70503]</td>\n      <td>4</td>\n    </tr>\n    <tr>\n      <th>52126</th>\n      <td>52126</td>\n      <td>St. Patrick Catholic School</td>\n      <td>0/10</td>\n      <td>Currently unrated</td>\n      <td>1112 North G Street, Tacoma, WA 98403</td>\n      <td>Private</td>\n      <td>PK-8</td>\n      <td>445.0</td>\n      <td>NaN</td>\n      <td>NaN</td>\n      <td>[1112 North G Street,  Tacoma,  WA 98403]</td>\n      <td>3</td>\n    </tr>\n  </tbody>\n</table>\n<p>161 rows × 12 columns</p>\n</div>"
     },
     "metadata": {},
     "execution_count": 41
    }
   ],
   "source": [
    "print(df.shape)\n",
    "df[df.duplicated(subset=['Unnamed: 0', 'School', 'Score', 'Rating', 'Type', 'Grades', 'Total Students Enrolled', 'Students per teacher', 'District'], keep=False)]"
   ]
  },
  {
   "cell_type": "code",
   "execution_count": 42,
   "metadata": {},
   "outputs": [
    {
     "output_type": "stream",
     "name": "stdout",
     "text": [
      "(58782, 12)\n"
     ]
    }
   ],
   "source": [
    "df = df.drop_duplicates(subset=['Unnamed: 0', 'School', 'Score', 'Rating', 'Type', 'Grades', 'Total Students Enrolled', 'Students per teacher', 'District' ], keep='last')\n",
    "print(df.shape)"
   ]
  },
  {
   "source": [
    "## Check Length Again"
   ],
   "cell_type": "markdown",
   "metadata": {}
  },
  {
   "cell_type": "code",
   "execution_count": 43,
   "metadata": {},
   "outputs": [],
   "source": [
    "df = df.drop(columns = ['City, State', 'Length'])"
   ]
  },
  {
   "cell_type": "code",
   "execution_count": 44,
   "metadata": {},
   "outputs": [],
   "source": [
    "df['City, State']  = df['Address'].str.split(',')"
   ]
  },
  {
   "cell_type": "code",
   "execution_count": 45,
   "metadata": {},
   "outputs": [
    {
     "output_type": "execute_result",
     "data": {
      "text/plain": [
       "array([3, 4, 1])"
      ]
     },
     "metadata": {},
     "execution_count": 45
    }
   ],
   "source": [
    "# Checking string lengths after cleaning\n",
    "df['Length'] = df['City, State'].apply(lambda x: len(x) if x != None else 0 )\n",
    "# 1, 3, 4 are the expected length \n",
    "df['Length'].unique()"
   ]
  },
  {
   "source": [
    "Managed to clean most of the addresses"
   ],
   "cell_type": "markdown",
   "metadata": {}
  },
  {
   "source": [
    "## 3. Create City, State column"
   ],
   "cell_type": "markdown",
   "metadata": {}
  },
  {
   "cell_type": "code",
   "execution_count": 46,
   "metadata": {},
   "outputs": [],
   "source": [
    "df['City'] = df['City, State'].str[-2]"
   ]
  },
  {
   "cell_type": "code",
   "execution_count": 47,
   "metadata": {},
   "outputs": [],
   "source": [
    "df['State'] = df['City, State'].str[-1]\n",
    "df['State'] = df['State'].str[:-6]"
   ]
  },
  {
   "cell_type": "code",
   "execution_count": 48,
   "metadata": {},
   "outputs": [],
   "source": [
    "df['State'] = df['State'].str.strip()\n",
    "df['City'] = df['City'].str.strip()\n",
    "df['Address'] = df['Address'].str.strip()"
   ]
  },
  {
   "source": [
    "## Clean up empty state column"
   ],
   "cell_type": "markdown",
   "metadata": {}
  },
  {
   "cell_type": "code",
   "execution_count": 49,
   "metadata": {},
   "outputs": [
    {
     "output_type": "execute_result",
     "data": {
      "text/plain": [
       "       Unnamed: 0                                            School Score  \\\n",
       "15188       15188                      Primrose School At Stapleton  0/10   \n",
       "29323       29323                           Adams Elementary School  8/10   \n",
       "29324       29324                       Kloefkorn Elementary School  8/10   \n",
       "29325       29325                          Cavett Elementary School  8/10   \n",
       "29326       29326                                 Lux Middle School  8/10   \n",
       "...           ...                                               ...   ...   \n",
       "48710       48710                       Jackson's Child Care Center  0/10   \n",
       "48711       48711                       Reach For The Stars Ps & Dc  0/10   \n",
       "48712       48712            Lil Angels Playhouse Child Care Center  0/10   \n",
       "48713       48713  Western Nebrask Child Development Center (Wncdc)  0/10   \n",
       "46311       46311                                High Bluff Academy  0/10   \n",
       "\n",
       "                  Rating                                        Address  \\\n",
       "15188  Currently unrated  2501 Syracuse Street, Denver, Colorado, 80238   \n",
       "29323      Above average    7401 Jacobs Creek Drive, Lincoln, NE, 68512   \n",
       "29324      Above average     6601 Glass Ridge Drive, Lincoln, NE, 68526   \n",
       "29325      Above average     7701 South 36th Street, Lincoln, NE, 68516   \n",
       "29326      Above average           7800 High Street, Lincoln, NE, 68506   \n",
       "...                  ...                                            ...   \n",
       "48710  Currently unrated   305 West 15th Street, Scottsbluff, NE, 69361   \n",
       "48711  Currently unrated           518 Broadway, Scottsbluff, NE, 69361   \n",
       "48712  Currently unrated          1927 Broadway, Scottsbluff, NE, 69361   \n",
       "48713  Currently unrated       3118 17th Avenue, Scottsbluff, NE, 69361   \n",
       "46311  Currently unrated           5531 Cancha de Golf, Ste 202, Rancho   \n",
       "\n",
       "                  Type Grades  Total Students Enrolled Students per teacher  \\\n",
       "15188          Private   PK-K                     73.0                  NaN   \n",
       "29323  Public district   PK-5                    827.0                 18:1   \n",
       "29324  Public district   PK-5                    497.0                 17:1   \n",
       "29325  Public district   PK-5                    692.0                 16:1   \n",
       "29326  Public district    6-8                    917.0                 16:1   \n",
       "...                ...    ...                      ...                  ...   \n",
       "48710          Private     PK                      NaN                  NaN   \n",
       "48711          Private     PK                      NaN                  NaN   \n",
       "48712          Private     PK                      NaN                  NaN   \n",
       "48713  Public district     PK                      NaN                  NaN   \n",
       "46311          Private   9-12                     36.0                  NaN   \n",
       "\n",
       "                          District  \\\n",
       "15188                          NaN   \n",
       "29323       Lincoln Public Schools   \n",
       "29324       Lincoln Public Schools   \n",
       "29325       Lincoln Public Schools   \n",
       "29326       Lincoln Public Schools   \n",
       "...                            ...   \n",
       "48710                          NaN   \n",
       "48711                          NaN   \n",
       "48712                          NaN   \n",
       "48713  Educational Service Unit 13   \n",
       "46311                          NaN   \n",
       "\n",
       "                                              City, State  Length      City  \\\n",
       "15188  [2501 Syracuse Street,  Denver,  Colorado,  80238]       4  Colorado   \n",
       "29323    [7401 Jacobs Creek Drive,  Lincoln,  NE,  68512]       4        NE   \n",
       "29324     [6601 Glass Ridge Drive,  Lincoln,  NE,  68526]       4        NE   \n",
       "29325     [7701 South 36th Street,  Lincoln,  NE,  68516]       4        NE   \n",
       "29326           [7800 High Street,  Lincoln,  NE,  68506]       4        NE   \n",
       "...                                                   ...     ...       ...   \n",
       "48710   [305 West 15th Street,  Scottsbluff,  NE,  69361]       4        NE   \n",
       "48711           [518 Broadway,  Scottsbluff,  NE,  69361]       4        NE   \n",
       "48712          [1927 Broadway,  Scottsbluff,  NE,  69361]       4        NE   \n",
       "48713       [3118 17th Avenue,  Scottsbluff,  NE,  69361]       4        NE   \n",
       "46311            [5531 Cancha de Golf,  Ste 202,  Rancho]       3   Ste 202   \n",
       "\n",
       "      State  \n",
       "15188        \n",
       "29323        \n",
       "29324        \n",
       "29325        \n",
       "29326        \n",
       "...     ...  \n",
       "48710        \n",
       "48711        \n",
       "48712        \n",
       "48713        \n",
       "46311        \n",
       "\n",
       "[492 rows x 14 columns]"
      ],
      "text/html": "<div>\n<style scoped>\n    .dataframe tbody tr th:only-of-type {\n        vertical-align: middle;\n    }\n\n    .dataframe tbody tr th {\n        vertical-align: top;\n    }\n\n    .dataframe thead th {\n        text-align: right;\n    }\n</style>\n<table border=\"1\" class=\"dataframe\">\n  <thead>\n    <tr style=\"text-align: right;\">\n      <th></th>\n      <th>Unnamed: 0</th>\n      <th>School</th>\n      <th>Score</th>\n      <th>Rating</th>\n      <th>Address</th>\n      <th>Type</th>\n      <th>Grades</th>\n      <th>Total Students Enrolled</th>\n      <th>Students per teacher</th>\n      <th>District</th>\n      <th>City, State</th>\n      <th>Length</th>\n      <th>City</th>\n      <th>State</th>\n    </tr>\n  </thead>\n  <tbody>\n    <tr>\n      <th>15188</th>\n      <td>15188</td>\n      <td>Primrose School At Stapleton</td>\n      <td>0/10</td>\n      <td>Currently unrated</td>\n      <td>2501 Syracuse Street, Denver, Colorado, 80238</td>\n      <td>Private</td>\n      <td>PK-K</td>\n      <td>73.0</td>\n      <td>NaN</td>\n      <td>NaN</td>\n      <td>[2501 Syracuse Street,  Denver,  Colorado,  80238]</td>\n      <td>4</td>\n      <td>Colorado</td>\n      <td></td>\n    </tr>\n    <tr>\n      <th>29323</th>\n      <td>29323</td>\n      <td>Adams Elementary School</td>\n      <td>8/10</td>\n      <td>Above average</td>\n      <td>7401 Jacobs Creek Drive, Lincoln, NE, 68512</td>\n      <td>Public district</td>\n      <td>PK-5</td>\n      <td>827.0</td>\n      <td>18:1</td>\n      <td>Lincoln Public Schools</td>\n      <td>[7401 Jacobs Creek Drive,  Lincoln,  NE,  68512]</td>\n      <td>4</td>\n      <td>NE</td>\n      <td></td>\n    </tr>\n    <tr>\n      <th>29324</th>\n      <td>29324</td>\n      <td>Kloefkorn Elementary School</td>\n      <td>8/10</td>\n      <td>Above average</td>\n      <td>6601 Glass Ridge Drive, Lincoln, NE, 68526</td>\n      <td>Public district</td>\n      <td>PK-5</td>\n      <td>497.0</td>\n      <td>17:1</td>\n      <td>Lincoln Public Schools</td>\n      <td>[6601 Glass Ridge Drive,  Lincoln,  NE,  68526]</td>\n      <td>4</td>\n      <td>NE</td>\n      <td></td>\n    </tr>\n    <tr>\n      <th>29325</th>\n      <td>29325</td>\n      <td>Cavett Elementary School</td>\n      <td>8/10</td>\n      <td>Above average</td>\n      <td>7701 South 36th Street, Lincoln, NE, 68516</td>\n      <td>Public district</td>\n      <td>PK-5</td>\n      <td>692.0</td>\n      <td>16:1</td>\n      <td>Lincoln Public Schools</td>\n      <td>[7701 South 36th Street,  Lincoln,  NE,  68516]</td>\n      <td>4</td>\n      <td>NE</td>\n      <td></td>\n    </tr>\n    <tr>\n      <th>29326</th>\n      <td>29326</td>\n      <td>Lux Middle School</td>\n      <td>8/10</td>\n      <td>Above average</td>\n      <td>7800 High Street, Lincoln, NE, 68506</td>\n      <td>Public district</td>\n      <td>6-8</td>\n      <td>917.0</td>\n      <td>16:1</td>\n      <td>Lincoln Public Schools</td>\n      <td>[7800 High Street,  Lincoln,  NE,  68506]</td>\n      <td>4</td>\n      <td>NE</td>\n      <td></td>\n    </tr>\n    <tr>\n      <th>...</th>\n      <td>...</td>\n      <td>...</td>\n      <td>...</td>\n      <td>...</td>\n      <td>...</td>\n      <td>...</td>\n      <td>...</td>\n      <td>...</td>\n      <td>...</td>\n      <td>...</td>\n      <td>...</td>\n      <td>...</td>\n      <td>...</td>\n      <td>...</td>\n    </tr>\n    <tr>\n      <th>48710</th>\n      <td>48710</td>\n      <td>Jackson's Child Care Center</td>\n      <td>0/10</td>\n      <td>Currently unrated</td>\n      <td>305 West 15th Street, Scottsbluff, NE, 69361</td>\n      <td>Private</td>\n      <td>PK</td>\n      <td>NaN</td>\n      <td>NaN</td>\n      <td>NaN</td>\n      <td>[305 West 15th Street,  Scottsbluff,  NE,  69361]</td>\n      <td>4</td>\n      <td>NE</td>\n      <td></td>\n    </tr>\n    <tr>\n      <th>48711</th>\n      <td>48711</td>\n      <td>Reach For The Stars Ps &amp; Dc</td>\n      <td>0/10</td>\n      <td>Currently unrated</td>\n      <td>518 Broadway, Scottsbluff, NE, 69361</td>\n      <td>Private</td>\n      <td>PK</td>\n      <td>NaN</td>\n      <td>NaN</td>\n      <td>NaN</td>\n      <td>[518 Broadway,  Scottsbluff,  NE,  69361]</td>\n      <td>4</td>\n      <td>NE</td>\n      <td></td>\n    </tr>\n    <tr>\n      <th>48712</th>\n      <td>48712</td>\n      <td>Lil Angels Playhouse Child Care Center</td>\n      <td>0/10</td>\n      <td>Currently unrated</td>\n      <td>1927 Broadway, Scottsbluff, NE, 69361</td>\n      <td>Private</td>\n      <td>PK</td>\n      <td>NaN</td>\n      <td>NaN</td>\n      <td>NaN</td>\n      <td>[1927 Broadway,  Scottsbluff,  NE,  69361]</td>\n      <td>4</td>\n      <td>NE</td>\n      <td></td>\n    </tr>\n    <tr>\n      <th>48713</th>\n      <td>48713</td>\n      <td>Western Nebrask Child Development Center (Wncdc)</td>\n      <td>0/10</td>\n      <td>Currently unrated</td>\n      <td>3118 17th Avenue, Scottsbluff, NE, 69361</td>\n      <td>Public district</td>\n      <td>PK</td>\n      <td>NaN</td>\n      <td>NaN</td>\n      <td>Educational Service Unit 13</td>\n      <td>[3118 17th Avenue,  Scottsbluff,  NE,  69361]</td>\n      <td>4</td>\n      <td>NE</td>\n      <td></td>\n    </tr>\n    <tr>\n      <th>46311</th>\n      <td>46311</td>\n      <td>High Bluff Academy</td>\n      <td>0/10</td>\n      <td>Currently unrated</td>\n      <td>5531 Cancha de Golf, Ste 202, Rancho</td>\n      <td>Private</td>\n      <td>9-12</td>\n      <td>36.0</td>\n      <td>NaN</td>\n      <td>NaN</td>\n      <td>[5531 Cancha de Golf,  Ste 202,  Rancho]</td>\n      <td>3</td>\n      <td>Ste 202</td>\n      <td></td>\n    </tr>\n  </tbody>\n</table>\n<p>492 rows × 14 columns</p>\n</div>"
     },
     "metadata": {},
     "execution_count": 49
    }
   ],
   "source": [
    "df.loc[df['State'] == '']"
   ]
  },
  {
   "cell_type": "code",
   "execution_count": 50,
   "metadata": {},
   "outputs": [],
   "source": [
    "df['Address'] = df['Address'].str.replace('Colorado,', 'CO')\n",
    "df['Address'] = df['Address'].str.replace('Lincoln, NE,', 'Lincoln, NE ')\n",
    "df['Address'] = df['Address'].str.replace('Scottsbluff, NE, ', 'Scottsbluff, NE ')\n",
    "df['Address'] = df['Address'].str.replace('5531 Cancha de Golf, Ste 202, Rancho', '5531 Cancha de Golf Ste 202, Rancho Santa Fe, CA 92091')"
   ]
  },
  {
   "cell_type": "code",
   "execution_count": 51,
   "metadata": {},
   "outputs": [],
   "source": [
    "df = df.drop(columns = ['City, State',\t'Length'] )\n",
    "df['City, State']  = df['Address'].str.split(',')"
   ]
  },
  {
   "cell_type": "code",
   "execution_count": 52,
   "metadata": {},
   "outputs": [
    {
     "output_type": "execute_result",
     "data": {
      "text/plain": [
       "array([3, 4, 1, 2])"
      ]
     },
     "metadata": {},
     "execution_count": 52
    }
   ],
   "source": [
    "# Checking string lengths after cleaning\n",
    "df['Length'] = df['City, State'].apply(lambda x: len(x) if x != None else 0 )\n",
    "# 1, 3, 4 are the expected length \n",
    "df['Length'].unique()"
   ]
  },
  {
   "cell_type": "code",
   "execution_count": 53,
   "metadata": {},
   "outputs": [
    {
     "output_type": "stream",
     "name": "stdout",
     "text": [
      "59\n"
     ]
    },
    {
     "output_type": "execute_result",
     "data": {
      "text/plain": [
       "array(['OH', 'GA', 'NY', 'OR', 'NM', 'LA', 'PA', 'TX', 'WA', 'CA', 'AK',\n",
       "       'IN', 'MI', 'WI', 'NC', 'KY', 'NJ', 'ME', 'CO', 'MD', 'MT', 'MS',\n",
       "       'ND', 'VA', 'IL', 'MA', 'FL', 'CT', 'TN', 'SD', 'VT', 'WY', 'IA',\n",
       "       'SC', 'UT', 'MO', 'AR', '', 'AZ', 'DE', 'MN', 'NV', 'OK', 'HI',\n",
       "       'ID', 'Unava', 'NH', 'WV', 'S.C.', 'KS', 'DC', 'Missouri',\n",
       "       'New Jersey', 'Nevada', 'Oregon', 'Washington', 'OK.', 'Ks', 'La'],\n",
       "      dtype=object)"
      ]
     },
     "metadata": {},
     "execution_count": 53
    }
   ],
   "source": [
    "print(df['State'].nunique())\n",
    "df['State'].unique()"
   ]
  },
  {
   "cell_type": "code",
   "execution_count": 54,
   "metadata": {},
   "outputs": [
    {
     "output_type": "execute_result",
     "data": {
      "text/plain": [
       "       Unnamed: 0                       School Score             Rating  \\\n",
       "24558       24558  Ms School For The Deaf Sped  0/10  Currently unrated   \n",
       "25987       25987  Se AK Friends of Montessori  0/10  Currently unrated   \n",
       "29560       29560     Kathleen O'Neel Day Care  0/10  Currently unrated   \n",
       "\n",
       "           Address             Type    Grades  Total Students Enrolled  \\\n",
       "24558  Unavailable  Public district  Ungraded                      NaN   \n",
       "25987  Unavailable          Private      PK-K                     54.0   \n",
       "29560  Unavailable          Private        PK                      NaN   \n",
       "\n",
       "      Students per teacher                District City  State    City, State  \\\n",
       "24558                  NaN  Ms School For The Deaf  NaN  Unava  [Unavailable]   \n",
       "25987                  NaN                     NaN  NaN  Unava  [Unavailable]   \n",
       "29560                  NaN                     NaN  NaN  Unava  [Unavailable]   \n",
       "\n",
       "       Length  \n",
       "24558       1  \n",
       "25987       1  \n",
       "29560       1  "
      ],
      "text/html": "<div>\n<style scoped>\n    .dataframe tbody tr th:only-of-type {\n        vertical-align: middle;\n    }\n\n    .dataframe tbody tr th {\n        vertical-align: top;\n    }\n\n    .dataframe thead th {\n        text-align: right;\n    }\n</style>\n<table border=\"1\" class=\"dataframe\">\n  <thead>\n    <tr style=\"text-align: right;\">\n      <th></th>\n      <th>Unnamed: 0</th>\n      <th>School</th>\n      <th>Score</th>\n      <th>Rating</th>\n      <th>Address</th>\n      <th>Type</th>\n      <th>Grades</th>\n      <th>Total Students Enrolled</th>\n      <th>Students per teacher</th>\n      <th>District</th>\n      <th>City</th>\n      <th>State</th>\n      <th>City, State</th>\n      <th>Length</th>\n    </tr>\n  </thead>\n  <tbody>\n    <tr>\n      <th>24558</th>\n      <td>24558</td>\n      <td>Ms School For The Deaf Sped</td>\n      <td>0/10</td>\n      <td>Currently unrated</td>\n      <td>Unavailable</td>\n      <td>Public district</td>\n      <td>Ungraded</td>\n      <td>NaN</td>\n      <td>NaN</td>\n      <td>Ms School For The Deaf</td>\n      <td>NaN</td>\n      <td>Unava</td>\n      <td>[Unavailable]</td>\n      <td>1</td>\n    </tr>\n    <tr>\n      <th>25987</th>\n      <td>25987</td>\n      <td>Se AK Friends of Montessori</td>\n      <td>0/10</td>\n      <td>Currently unrated</td>\n      <td>Unavailable</td>\n      <td>Private</td>\n      <td>PK-K</td>\n      <td>54.0</td>\n      <td>NaN</td>\n      <td>NaN</td>\n      <td>NaN</td>\n      <td>Unava</td>\n      <td>[Unavailable]</td>\n      <td>1</td>\n    </tr>\n    <tr>\n      <th>29560</th>\n      <td>29560</td>\n      <td>Kathleen O'Neel Day Care</td>\n      <td>0/10</td>\n      <td>Currently unrated</td>\n      <td>Unavailable</td>\n      <td>Private</td>\n      <td>PK</td>\n      <td>NaN</td>\n      <td>NaN</td>\n      <td>NaN</td>\n      <td>NaN</td>\n      <td>Unava</td>\n      <td>[Unavailable]</td>\n      <td>1</td>\n    </tr>\n  </tbody>\n</table>\n</div>"
     },
     "metadata": {},
     "execution_count": 54
    }
   ],
   "source": [
    "df.loc[df['State'] == 'Unava']"
   ]
  },
  {
   "cell_type": "code",
   "execution_count": 55,
   "metadata": {},
   "outputs": [
    {
     "output_type": "execute_result",
     "data": {
      "text/plain": [
       "       Unnamed: 0                         School Score             Rating  \\\n",
       "50525       50525  Spartanburg Christian Academy  0/10  Currently unrated   \n",
       "\n",
       "                                           Address     Type Grades  \\\n",
       "50525  8740 Asheville Hwy, Spartanburg, S.C. 29316  Private  PK-12   \n",
       "\n",
       "       Total Students Enrolled Students per teacher District         City  \\\n",
       "50525                    465.0                  NaN      NaN  Spartanburg   \n",
       "\n",
       "      State                                      City, State  Length  \n",
       "50525  S.C.  [8740 Asheville Hwy,  Spartanburg,  S.C. 29316]       3  "
      ],
      "text/html": "<div>\n<style scoped>\n    .dataframe tbody tr th:only-of-type {\n        vertical-align: middle;\n    }\n\n    .dataframe tbody tr th {\n        vertical-align: top;\n    }\n\n    .dataframe thead th {\n        text-align: right;\n    }\n</style>\n<table border=\"1\" class=\"dataframe\">\n  <thead>\n    <tr style=\"text-align: right;\">\n      <th></th>\n      <th>Unnamed: 0</th>\n      <th>School</th>\n      <th>Score</th>\n      <th>Rating</th>\n      <th>Address</th>\n      <th>Type</th>\n      <th>Grades</th>\n      <th>Total Students Enrolled</th>\n      <th>Students per teacher</th>\n      <th>District</th>\n      <th>City</th>\n      <th>State</th>\n      <th>City, State</th>\n      <th>Length</th>\n    </tr>\n  </thead>\n  <tbody>\n    <tr>\n      <th>50525</th>\n      <td>50525</td>\n      <td>Spartanburg Christian Academy</td>\n      <td>0/10</td>\n      <td>Currently unrated</td>\n      <td>8740 Asheville Hwy, Spartanburg, S.C. 29316</td>\n      <td>Private</td>\n      <td>PK-12</td>\n      <td>465.0</td>\n      <td>NaN</td>\n      <td>NaN</td>\n      <td>Spartanburg</td>\n      <td>S.C.</td>\n      <td>[8740 Asheville Hwy,  Spartanburg,  S.C. 29316]</td>\n      <td>3</td>\n    </tr>\n  </tbody>\n</table>\n</div>"
     },
     "metadata": {},
     "execution_count": 55
    }
   ],
   "source": [
    "df.loc[df['State'] == 'S.C.']"
   ]
  },
  {
   "cell_type": "code",
   "execution_count": 56,
   "metadata": {},
   "outputs": [
    {
     "output_type": "execute_result",
     "data": {
      "text/plain": [
       "       Unnamed: 0            School Score             Rating  \\\n",
       "11531       11531  Heritage Academy  0/10  Currently unrated   \n",
       "\n",
       "                                              Address     Type Grades  \\\n",
       "11531  2900 Barberry Avenue, Columbia, Missouri 65202  Private   K-12   \n",
       "\n",
       "       Total Students Enrolled Students per teacher District      City  \\\n",
       "11531                      NaN                  NaN      NaN  Columbia   \n",
       "\n",
       "          State                                         City, State  Length  \n",
       "11531  Missouri  [2900 Barberry Avenue,  Columbia,  Missouri 65202]       3  "
      ],
      "text/html": "<div>\n<style scoped>\n    .dataframe tbody tr th:only-of-type {\n        vertical-align: middle;\n    }\n\n    .dataframe tbody tr th {\n        vertical-align: top;\n    }\n\n    .dataframe thead th {\n        text-align: right;\n    }\n</style>\n<table border=\"1\" class=\"dataframe\">\n  <thead>\n    <tr style=\"text-align: right;\">\n      <th></th>\n      <th>Unnamed: 0</th>\n      <th>School</th>\n      <th>Score</th>\n      <th>Rating</th>\n      <th>Address</th>\n      <th>Type</th>\n      <th>Grades</th>\n      <th>Total Students Enrolled</th>\n      <th>Students per teacher</th>\n      <th>District</th>\n      <th>City</th>\n      <th>State</th>\n      <th>City, State</th>\n      <th>Length</th>\n    </tr>\n  </thead>\n  <tbody>\n    <tr>\n      <th>11531</th>\n      <td>11531</td>\n      <td>Heritage Academy</td>\n      <td>0/10</td>\n      <td>Currently unrated</td>\n      <td>2900 Barberry Avenue, Columbia, Missouri 65202</td>\n      <td>Private</td>\n      <td>K-12</td>\n      <td>NaN</td>\n      <td>NaN</td>\n      <td>NaN</td>\n      <td>Columbia</td>\n      <td>Missouri</td>\n      <td>[2900 Barberry Avenue,  Columbia,  Missouri 65202]</td>\n      <td>3</td>\n    </tr>\n  </tbody>\n</table>\n</div>"
     },
     "metadata": {},
     "execution_count": 56
    }
   ],
   "source": [
    "df.loc[df['State'] == 'Missouri']"
   ]
  },
  {
   "cell_type": "code",
   "execution_count": 57,
   "metadata": {},
   "outputs": [
    {
     "output_type": "execute_result",
     "data": {
      "text/plain": [
       "       Unnamed: 0              School Score             Rating  \\\n",
       "25851       25851  St Dominic Academy  0/10  Currently unrated   \n",
       "\n",
       "                                                            Address     Type  \\\n",
       "25851  2572 John F Kennedy Boulevard, Jersey City, New Jersey 07304  Private   \n",
       "\n",
       "      Grades  Total Students Enrolled Students per teacher District  \\\n",
       "25851   9-12                    255.0                  NaN      NaN   \n",
       "\n",
       "              City       State  \\\n",
       "25851  Jersey City  New Jersey   \n",
       "\n",
       "                                                            City, State  \\\n",
       "25851  [2572 John F Kennedy Boulevard,  Jersey City,  New Jersey 07304]   \n",
       "\n",
       "       Length  \n",
       "25851       3  "
      ],
      "text/html": "<div>\n<style scoped>\n    .dataframe tbody tr th:only-of-type {\n        vertical-align: middle;\n    }\n\n    .dataframe tbody tr th {\n        vertical-align: top;\n    }\n\n    .dataframe thead th {\n        text-align: right;\n    }\n</style>\n<table border=\"1\" class=\"dataframe\">\n  <thead>\n    <tr style=\"text-align: right;\">\n      <th></th>\n      <th>Unnamed: 0</th>\n      <th>School</th>\n      <th>Score</th>\n      <th>Rating</th>\n      <th>Address</th>\n      <th>Type</th>\n      <th>Grades</th>\n      <th>Total Students Enrolled</th>\n      <th>Students per teacher</th>\n      <th>District</th>\n      <th>City</th>\n      <th>State</th>\n      <th>City, State</th>\n      <th>Length</th>\n    </tr>\n  </thead>\n  <tbody>\n    <tr>\n      <th>25851</th>\n      <td>25851</td>\n      <td>St Dominic Academy</td>\n      <td>0/10</td>\n      <td>Currently unrated</td>\n      <td>2572 John F Kennedy Boulevard, Jersey City, New Jersey 07304</td>\n      <td>Private</td>\n      <td>9-12</td>\n      <td>255.0</td>\n      <td>NaN</td>\n      <td>NaN</td>\n      <td>Jersey City</td>\n      <td>New Jersey</td>\n      <td>[2572 John F Kennedy Boulevard,  Jersey City,  New Jersey 07304]</td>\n      <td>3</td>\n    </tr>\n  </tbody>\n</table>\n</div>"
     },
     "metadata": {},
     "execution_count": 57
    }
   ],
   "source": [
    "df.loc[df['State'] == 'New Jersey']"
   ]
  },
  {
   "cell_type": "code",
   "execution_count": 58,
   "metadata": {},
   "outputs": [
    {
     "output_type": "execute_result",
     "data": {
      "text/plain": [
       "       Unnamed: 0                                       School Score  \\\n",
       "28538       28538  Anderson Academy of Mathematics and Science  0/10   \n",
       "\n",
       "                  Rating                                        Address  \\\n",
       "28538  Currently unrated  4656 N. Rancho Drive, Las Vegas, Nevada 89130   \n",
       "\n",
       "          Type Grades  Total Students Enrolled Students per teacher District  \\\n",
       "28538  Private    1-8                      NaN                  NaN      NaN   \n",
       "\n",
       "            City   State                                        City, State  \\\n",
       "28538  Las Vegas  Nevada  [4656 N. Rancho Drive,  Las Vegas,  Nevada 89130]   \n",
       "\n",
       "       Length  \n",
       "28538       3  "
      ],
      "text/html": "<div>\n<style scoped>\n    .dataframe tbody tr th:only-of-type {\n        vertical-align: middle;\n    }\n\n    .dataframe tbody tr th {\n        vertical-align: top;\n    }\n\n    .dataframe thead th {\n        text-align: right;\n    }\n</style>\n<table border=\"1\" class=\"dataframe\">\n  <thead>\n    <tr style=\"text-align: right;\">\n      <th></th>\n      <th>Unnamed: 0</th>\n      <th>School</th>\n      <th>Score</th>\n      <th>Rating</th>\n      <th>Address</th>\n      <th>Type</th>\n      <th>Grades</th>\n      <th>Total Students Enrolled</th>\n      <th>Students per teacher</th>\n      <th>District</th>\n      <th>City</th>\n      <th>State</th>\n      <th>City, State</th>\n      <th>Length</th>\n    </tr>\n  </thead>\n  <tbody>\n    <tr>\n      <th>28538</th>\n      <td>28538</td>\n      <td>Anderson Academy of Mathematics and Science</td>\n      <td>0/10</td>\n      <td>Currently unrated</td>\n      <td>4656 N. Rancho Drive, Las Vegas, Nevada 89130</td>\n      <td>Private</td>\n      <td>1-8</td>\n      <td>NaN</td>\n      <td>NaN</td>\n      <td>NaN</td>\n      <td>Las Vegas</td>\n      <td>Nevada</td>\n      <td>[4656 N. Rancho Drive,  Las Vegas,  Nevada 89130]</td>\n      <td>3</td>\n    </tr>\n  </tbody>\n</table>\n</div>"
     },
     "metadata": {},
     "execution_count": 58
    }
   ],
   "source": [
    "df.loc[df['State'] == 'Nevada']"
   ]
  },
  {
   "cell_type": "code",
   "execution_count": 59,
   "metadata": {},
   "outputs": [
    {
     "output_type": "execute_result",
     "data": {
      "text/plain": [
       "       Unnamed: 0                 School Score             Rating  \\\n",
       "41320       41320  Tabor Tots Pre-School  0/10  Currently unrated   \n",
       "\n",
       "                                                Address     Type Grades  \\\n",
       "41320  6415 SE Morrison street, Portland, Oregon  97215  Private     PK   \n",
       "\n",
       "       Total Students Enrolled Students per teacher District      City  \\\n",
       "41320                      NaN                  NaN      NaN  Portland   \n",
       "\n",
       "        State                                           City, State  Length  \n",
       "41320  Oregon  [6415 SE Morrison street,  Portland,  Oregon  97215]       3  "
      ],
      "text/html": "<div>\n<style scoped>\n    .dataframe tbody tr th:only-of-type {\n        vertical-align: middle;\n    }\n\n    .dataframe tbody tr th {\n        vertical-align: top;\n    }\n\n    .dataframe thead th {\n        text-align: right;\n    }\n</style>\n<table border=\"1\" class=\"dataframe\">\n  <thead>\n    <tr style=\"text-align: right;\">\n      <th></th>\n      <th>Unnamed: 0</th>\n      <th>School</th>\n      <th>Score</th>\n      <th>Rating</th>\n      <th>Address</th>\n      <th>Type</th>\n      <th>Grades</th>\n      <th>Total Students Enrolled</th>\n      <th>Students per teacher</th>\n      <th>District</th>\n      <th>City</th>\n      <th>State</th>\n      <th>City, State</th>\n      <th>Length</th>\n    </tr>\n  </thead>\n  <tbody>\n    <tr>\n      <th>41320</th>\n      <td>41320</td>\n      <td>Tabor Tots Pre-School</td>\n      <td>0/10</td>\n      <td>Currently unrated</td>\n      <td>6415 SE Morrison street, Portland, Oregon  97215</td>\n      <td>Private</td>\n      <td>PK</td>\n      <td>NaN</td>\n      <td>NaN</td>\n      <td>NaN</td>\n      <td>Portland</td>\n      <td>Oregon</td>\n      <td>[6415 SE Morrison street,  Portland,  Oregon  97215]</td>\n      <td>3</td>\n    </tr>\n  </tbody>\n</table>\n</div>"
     },
     "metadata": {},
     "execution_count": 59
    }
   ],
   "source": [
    "df.loc[df['State'] == 'Oregon']"
   ]
  },
  {
   "cell_type": "code",
   "execution_count": 60,
   "metadata": {},
   "outputs": [
    {
     "output_type": "execute_result",
     "data": {
      "text/plain": [
       "       Unnamed: 0          School Score             Rating  \\\n",
       "49183       49183  Giddens School  0/10  Currently unrated   \n",
       "\n",
       "                                                  Address     Type Grades  \\\n",
       "49183  2120 21st Avenue South, Seattle, Washington  98144  Private   PK-5   \n",
       "\n",
       "       Total Students Enrolled Students per teacher District     City  \\\n",
       "49183                    176.0                  NaN      NaN  Seattle   \n",
       "\n",
       "            State                                             City, State  \\\n",
       "49183  Washington  [2120 21st Avenue South,  Seattle,  Washington  98144]   \n",
       "\n",
       "       Length  \n",
       "49183       3  "
      ],
      "text/html": "<div>\n<style scoped>\n    .dataframe tbody tr th:only-of-type {\n        vertical-align: middle;\n    }\n\n    .dataframe tbody tr th {\n        vertical-align: top;\n    }\n\n    .dataframe thead th {\n        text-align: right;\n    }\n</style>\n<table border=\"1\" class=\"dataframe\">\n  <thead>\n    <tr style=\"text-align: right;\">\n      <th></th>\n      <th>Unnamed: 0</th>\n      <th>School</th>\n      <th>Score</th>\n      <th>Rating</th>\n      <th>Address</th>\n      <th>Type</th>\n      <th>Grades</th>\n      <th>Total Students Enrolled</th>\n      <th>Students per teacher</th>\n      <th>District</th>\n      <th>City</th>\n      <th>State</th>\n      <th>City, State</th>\n      <th>Length</th>\n    </tr>\n  </thead>\n  <tbody>\n    <tr>\n      <th>49183</th>\n      <td>49183</td>\n      <td>Giddens School</td>\n      <td>0/10</td>\n      <td>Currently unrated</td>\n      <td>2120 21st Avenue South, Seattle, Washington  98144</td>\n      <td>Private</td>\n      <td>PK-5</td>\n      <td>176.0</td>\n      <td>NaN</td>\n      <td>NaN</td>\n      <td>Seattle</td>\n      <td>Washington</td>\n      <td>[2120 21st Avenue South,  Seattle,  Washington  98144]</td>\n      <td>3</td>\n    </tr>\n  </tbody>\n</table>\n</div>"
     },
     "metadata": {},
     "execution_count": 60
    }
   ],
   "source": [
    "df.loc[df['State'] == 'Washington']"
   ]
  },
  {
   "cell_type": "code",
   "execution_count": 61,
   "metadata": {},
   "outputs": [
    {
     "output_type": "execute_result",
     "data": {
      "text/plain": [
       "       Unnamed: 0                                School Score  \\\n",
       "54901       54901  Solid Foundation Preparatory Academy  0/10   \n",
       "\n",
       "                  Rating                                  Address     Type  \\\n",
       "54901  Currently unrated  4025 N. Hartford Ave., Tulsa, OK. 74106  Private   \n",
       "\n",
       "      Grades  Total Students Enrolled Students per teacher District   City  \\\n",
       "54901   PK-5                     46.0                  NaN      NaN  Tulsa   \n",
       "\n",
       "      State                                  City, State  Length  \n",
       "54901   OK.  [4025 N. Hartford Ave.,  Tulsa,  OK. 74106]       3  "
      ],
      "text/html": "<div>\n<style scoped>\n    .dataframe tbody tr th:only-of-type {\n        vertical-align: middle;\n    }\n\n    .dataframe tbody tr th {\n        vertical-align: top;\n    }\n\n    .dataframe thead th {\n        text-align: right;\n    }\n</style>\n<table border=\"1\" class=\"dataframe\">\n  <thead>\n    <tr style=\"text-align: right;\">\n      <th></th>\n      <th>Unnamed: 0</th>\n      <th>School</th>\n      <th>Score</th>\n      <th>Rating</th>\n      <th>Address</th>\n      <th>Type</th>\n      <th>Grades</th>\n      <th>Total Students Enrolled</th>\n      <th>Students per teacher</th>\n      <th>District</th>\n      <th>City</th>\n      <th>State</th>\n      <th>City, State</th>\n      <th>Length</th>\n    </tr>\n  </thead>\n  <tbody>\n    <tr>\n      <th>54901</th>\n      <td>54901</td>\n      <td>Solid Foundation Preparatory Academy</td>\n      <td>0/10</td>\n      <td>Currently unrated</td>\n      <td>4025 N. Hartford Ave., Tulsa, OK. 74106</td>\n      <td>Private</td>\n      <td>PK-5</td>\n      <td>46.0</td>\n      <td>NaN</td>\n      <td>NaN</td>\n      <td>Tulsa</td>\n      <td>OK.</td>\n      <td>[4025 N. Hartford Ave.,  Tulsa,  OK. 74106]</td>\n      <td>3</td>\n    </tr>\n  </tbody>\n</table>\n</div>"
     },
     "metadata": {},
     "execution_count": 61
    }
   ],
   "source": [
    "df.loc[df['State'] == 'OK.']"
   ]
  },
  {
   "cell_type": "code",
   "execution_count": 62,
   "metadata": {},
   "outputs": [
    {
     "output_type": "execute_result",
     "data": {
      "text/plain": [
       "       Unnamed: 0                       School Score             Rating  \\\n",
       "57658       57658  Classical School of Wichita  0/10  Currently unrated   \n",
       "\n",
       "                                       Address     Type           Grades  \\\n",
       "57658  6355 Willowbrook St., Wichita, Ks 67208  Private  K-12 & Ungraded   \n",
       "\n",
       "       Total Students Enrolled Students per teacher District     City State  \\\n",
       "57658                      NaN                  NaN      NaN  Wichita    Ks   \n",
       "\n",
       "                                       City, State  Length  \n",
       "57658  [6355 Willowbrook St.,  Wichita,  Ks 67208]       3  "
      ],
      "text/html": "<div>\n<style scoped>\n    .dataframe tbody tr th:only-of-type {\n        vertical-align: middle;\n    }\n\n    .dataframe tbody tr th {\n        vertical-align: top;\n    }\n\n    .dataframe thead th {\n        text-align: right;\n    }\n</style>\n<table border=\"1\" class=\"dataframe\">\n  <thead>\n    <tr style=\"text-align: right;\">\n      <th></th>\n      <th>Unnamed: 0</th>\n      <th>School</th>\n      <th>Score</th>\n      <th>Rating</th>\n      <th>Address</th>\n      <th>Type</th>\n      <th>Grades</th>\n      <th>Total Students Enrolled</th>\n      <th>Students per teacher</th>\n      <th>District</th>\n      <th>City</th>\n      <th>State</th>\n      <th>City, State</th>\n      <th>Length</th>\n    </tr>\n  </thead>\n  <tbody>\n    <tr>\n      <th>57658</th>\n      <td>57658</td>\n      <td>Classical School of Wichita</td>\n      <td>0/10</td>\n      <td>Currently unrated</td>\n      <td>6355 Willowbrook St., Wichita, Ks 67208</td>\n      <td>Private</td>\n      <td>K-12 &amp; Ungraded</td>\n      <td>NaN</td>\n      <td>NaN</td>\n      <td>NaN</td>\n      <td>Wichita</td>\n      <td>Ks</td>\n      <td>[6355 Willowbrook St.,  Wichita,  Ks 67208]</td>\n      <td>3</td>\n    </tr>\n  </tbody>\n</table>\n</div>"
     },
     "metadata": {},
     "execution_count": 62
    }
   ],
   "source": [
    "df.loc[df['State'] == 'Ks']"
   ]
  },
  {
   "cell_type": "code",
   "execution_count": 63,
   "metadata": {},
   "outputs": [
    {
     "output_type": "execute_result",
     "data": {
      "text/plain": [
       "       Unnamed: 0                                                   School  \\\n",
       "27205       27205  Upper Lafayette Academy-Louisiana Education Corporation   \n",
       "\n",
       "      Score             Rating  \\\n",
       "27205  0/10  Currently unrated   \n",
       "\n",
       "                                                    Address     Type Grades  \\\n",
       "27205  1018 Harding Street, Suite 112, Lafayette, La  70503  Private     11   \n",
       "\n",
       "       Total Students Enrolled Students per teacher District       City State  \\\n",
       "27205                      NaN                  NaN      NaN  Lafayette    La   \n",
       "\n",
       "                                                     City, State  Length  \n",
       "27205  [1018 Harding Street,  Suite 112,  Lafayette,  La  70503]       4  "
      ],
      "text/html": "<div>\n<style scoped>\n    .dataframe tbody tr th:only-of-type {\n        vertical-align: middle;\n    }\n\n    .dataframe tbody tr th {\n        vertical-align: top;\n    }\n\n    .dataframe thead th {\n        text-align: right;\n    }\n</style>\n<table border=\"1\" class=\"dataframe\">\n  <thead>\n    <tr style=\"text-align: right;\">\n      <th></th>\n      <th>Unnamed: 0</th>\n      <th>School</th>\n      <th>Score</th>\n      <th>Rating</th>\n      <th>Address</th>\n      <th>Type</th>\n      <th>Grades</th>\n      <th>Total Students Enrolled</th>\n      <th>Students per teacher</th>\n      <th>District</th>\n      <th>City</th>\n      <th>State</th>\n      <th>City, State</th>\n      <th>Length</th>\n    </tr>\n  </thead>\n  <tbody>\n    <tr>\n      <th>27205</th>\n      <td>27205</td>\n      <td>Upper Lafayette Academy-Louisiana Education Corporation</td>\n      <td>0/10</td>\n      <td>Currently unrated</td>\n      <td>1018 Harding Street, Suite 112, Lafayette, La  70503</td>\n      <td>Private</td>\n      <td>11</td>\n      <td>NaN</td>\n      <td>NaN</td>\n      <td>NaN</td>\n      <td>Lafayette</td>\n      <td>La</td>\n      <td>[1018 Harding Street,  Suite 112,  Lafayette,  La  70503]</td>\n      <td>4</td>\n    </tr>\n  </tbody>\n</table>\n</div>"
     },
     "metadata": {},
     "execution_count": 63
    }
   ],
   "source": [
    "df.loc[df['State'] == 'La']"
   ]
  },
  {
   "cell_type": "code",
   "execution_count": 64,
   "metadata": {},
   "outputs": [],
   "source": [
    "df = df[df['State'] != 'Unava']"
   ]
  },
  {
   "cell_type": "code",
   "execution_count": 65,
   "metadata": {},
   "outputs": [],
   "source": [
    "# Clean Addresses\n",
    "df['Address'] = df['Address'].str.replace('8740 Asheville Hwy, Spartanburg, S.C. 29316', '8740 Asheville Hwy, Spartanburg, SC 29316')\n",
    "df['Address'] = df['Address'].str.replace('2900 Barberry Avenue, Columbia, Missouri 65202', '2900 Barberry Avenue, Columbia, MO 65202')\n",
    "df['Address'] = df['Address'].str.replace('2572 John F Kennedy Boulevard, Jersey City, New Jersey 07304', '2572 John F Kennedy Boulevard, Jersey City, NJ 07304')\n",
    "df['Address'] = df['Address'].str.replace('4656 N. Rancho Drive, Las Vegas, Nevada 89130', '4656 N. Rancho Drive, Las Vegas, NV 89130')\n",
    "df['Address'] = df['Address'].str.replace('6415 SE Morrison street, Portland, Oregon 97215', '6415 SE Morrison street, Portland, OR 97215')\n",
    "df['Address'] = df['Address'].str.replace('2120 21st Avenue South, Seattle, Washington 98144', '2120 21st Avenue South, Seattle, WA 98144')\n",
    "df['Address'] = df['Address'].str.replace('4025 N. Hartford Ave., Tulsa, OK. 74106', '4025 N. Hartford Ave., Tulsa, OK 74106')\n",
    "df['Address'] = df['Address'].str.replace('6355 Willowbrook St., Wichita, Ks 67208', '6355 Willowbrook St., Wichita, KS 67208')\n",
    "df['Address'] = df['Address'].str.replace('1018 Harding Street, Suite 112, Lafayette, La 70503', '1018 Harding Street, Suite 112, Lafayette, LA 70503')\n",
    "\n",
    "# Clean State\n",
    "df['State'] = df['State'].str.replace('S.C.', 'SC')\n",
    "df['State'] = df['State'].str.replace('Missouri', 'MO')\n",
    "df['State'] = df['State'].str.replace('New Jersey', 'NJ')\n",
    "df['State'] = df['State'].str.replace('Nevada', 'NV')\n",
    "df['State'] = df['State'].str.replace('Oregon', 'OR')\n",
    "df['State'] = df['State'].str.replace('Washington', 'WA')\n",
    "df['State'] = df['State'].str.replace('OK.', 'OK')\n",
    "df['State'] = df['State'].str.replace('Ks', 'KS')\n",
    "df['State'] = df['State'].str.replace('La', 'LA')"
   ]
  },
  {
   "cell_type": "code",
   "execution_count": 66,
   "metadata": {},
   "outputs": [
    {
     "output_type": "stream",
     "name": "stdout",
     "text": [
      "49\n"
     ]
    },
    {
     "output_type": "execute_result",
     "data": {
      "text/plain": [
       "array(['OH', 'GA', 'NY', 'OR', 'NM', 'LA', 'PA', 'TX', 'WA', 'CA', 'AK',\n",
       "       'IN', 'MI', 'WI', 'NC', 'KY', 'NJ', 'ME', 'CO', 'MD', 'MT', 'MS',\n",
       "       'ND', 'VA', 'IL', 'MA', 'FL', 'CT', 'TN', 'SD', 'VT', 'WY', 'IA',\n",
       "       'SC', 'UT', 'MO', 'AR', '', 'AZ', 'DE', 'MN', 'NV', 'OK', 'HI',\n",
       "       'ID', 'NH', 'WV', 'KS', 'DC'], dtype=object)"
      ]
     },
     "metadata": {},
     "execution_count": 66
    }
   ],
   "source": [
    "print(df['State'].nunique())\n",
    "df['State'].unique()"
   ]
  },
  {
   "cell_type": "code",
   "execution_count": 67,
   "metadata": {},
   "outputs": [],
   "source": [
    "empty = df.loc[df['State'] == '']"
   ]
  },
  {
   "cell_type": "code",
   "execution_count": 68,
   "metadata": {},
   "outputs": [
    {
     "output_type": "stream",
     "name": "stderr",
     "text": [
      "<ipython-input-68-6365070bc5b2>:1: SettingWithCopyWarning: \nA value is trying to be set on a copy of a slice from a DataFrame.\nTry using .loc[row_indexer,col_indexer] = value instead\n\nSee the caveats in the documentation: https://pandas.pydata.org/pandas-docs/stable/user_guide/indexing.html#returning-a-view-versus-a-copy\n  empty['City'] = empty['City, State'].str[-2]\n"
     ]
    }
   ],
   "source": [
    "empty['City'] = empty['City, State'].str[-2]"
   ]
  },
  {
   "cell_type": "code",
   "execution_count": 69,
   "metadata": {},
   "outputs": [
    {
     "output_type": "stream",
     "name": "stderr",
     "text": [
      "<ipython-input-69-51d08091f1bf>:1: SettingWithCopyWarning: \nA value is trying to be set on a copy of a slice from a DataFrame.\nTry using .loc[row_indexer,col_indexer] = value instead\n\nSee the caveats in the documentation: https://pandas.pydata.org/pandas-docs/stable/user_guide/indexing.html#returning-a-view-versus-a-copy\n  empty['State'] = empty['City, State'].str[-1]\n<ipython-input-69-51d08091f1bf>:2: SettingWithCopyWarning: \nA value is trying to be set on a copy of a slice from a DataFrame.\nTry using .loc[row_indexer,col_indexer] = value instead\n\nSee the caveats in the documentation: https://pandas.pydata.org/pandas-docs/stable/user_guide/indexing.html#returning-a-view-versus-a-copy\n  empty['State'] = empty['State'].str[:-6]\n"
     ]
    }
   ],
   "source": [
    "empty['State'] = empty['City, State'].str[-1]\n",
    "empty['State'] = empty['State'].str[:-6]"
   ]
  },
  {
   "cell_type": "code",
   "execution_count": 70,
   "metadata": {},
   "outputs": [
    {
     "output_type": "execute_result",
     "data": {
      "text/plain": [
       "       Unnamed: 0                        School Score             Rating  \\\n",
       "15188       15188  Primrose School At Stapleton  0/10  Currently unrated   \n",
       "29323       29323       Adams Elementary School  8/10      Above average   \n",
       "29324       29324   Kloefkorn Elementary School  8/10      Above average   \n",
       "29325       29325      Cavett Elementary School  8/10      Above average   \n",
       "29326       29326             Lux Middle School  8/10      Above average   \n",
       "\n",
       "                                           Address             Type Grades  \\\n",
       "15188       2501 Syracuse Street, Denver, CO 80238          Private   PK-K   \n",
       "29323  7401 Jacobs Creek Drive, Lincoln, NE  68512  Public district   PK-5   \n",
       "29324   6601 Glass Ridge Drive, Lincoln, NE  68526  Public district   PK-5   \n",
       "29325   7701 South 36th Street, Lincoln, NE  68516  Public district   PK-5   \n",
       "29326         7800 High Street, Lincoln, NE  68506  Public district    6-8   \n",
       "\n",
       "       Total Students Enrolled Students per teacher                District  \\\n",
       "15188                     73.0                  NaN                     NaN   \n",
       "29323                    827.0                 18:1  Lincoln Public Schools   \n",
       "29324                    497.0                 17:1  Lincoln Public Schools   \n",
       "29325                    692.0                 16:1  Lincoln Public Schools   \n",
       "29326                    917.0                 16:1  Lincoln Public Schools   \n",
       "\n",
       "           City State                                      City, State  Length  \n",
       "15188    Denver    CO       [2501 Syracuse Street,  Denver,  CO 80238]       3  \n",
       "29323   Lincoln   NE   [7401 Jacobs Creek Drive,  Lincoln,  NE  68512]       3  \n",
       "29324   Lincoln   NE    [6601 Glass Ridge Drive,  Lincoln,  NE  68526]       3  \n",
       "29325   Lincoln   NE    [7701 South 36th Street,  Lincoln,  NE  68516]       3  \n",
       "29326   Lincoln   NE          [7800 High Street,  Lincoln,  NE  68506]       3  "
      ],
      "text/html": "<div>\n<style scoped>\n    .dataframe tbody tr th:only-of-type {\n        vertical-align: middle;\n    }\n\n    .dataframe tbody tr th {\n        vertical-align: top;\n    }\n\n    .dataframe thead th {\n        text-align: right;\n    }\n</style>\n<table border=\"1\" class=\"dataframe\">\n  <thead>\n    <tr style=\"text-align: right;\">\n      <th></th>\n      <th>Unnamed: 0</th>\n      <th>School</th>\n      <th>Score</th>\n      <th>Rating</th>\n      <th>Address</th>\n      <th>Type</th>\n      <th>Grades</th>\n      <th>Total Students Enrolled</th>\n      <th>Students per teacher</th>\n      <th>District</th>\n      <th>City</th>\n      <th>State</th>\n      <th>City, State</th>\n      <th>Length</th>\n    </tr>\n  </thead>\n  <tbody>\n    <tr>\n      <th>15188</th>\n      <td>15188</td>\n      <td>Primrose School At Stapleton</td>\n      <td>0/10</td>\n      <td>Currently unrated</td>\n      <td>2501 Syracuse Street, Denver, CO 80238</td>\n      <td>Private</td>\n      <td>PK-K</td>\n      <td>73.0</td>\n      <td>NaN</td>\n      <td>NaN</td>\n      <td>Denver</td>\n      <td>CO</td>\n      <td>[2501 Syracuse Street,  Denver,  CO 80238]</td>\n      <td>3</td>\n    </tr>\n    <tr>\n      <th>29323</th>\n      <td>29323</td>\n      <td>Adams Elementary School</td>\n      <td>8/10</td>\n      <td>Above average</td>\n      <td>7401 Jacobs Creek Drive, Lincoln, NE  68512</td>\n      <td>Public district</td>\n      <td>PK-5</td>\n      <td>827.0</td>\n      <td>18:1</td>\n      <td>Lincoln Public Schools</td>\n      <td>Lincoln</td>\n      <td>NE</td>\n      <td>[7401 Jacobs Creek Drive,  Lincoln,  NE  68512]</td>\n      <td>3</td>\n    </tr>\n    <tr>\n      <th>29324</th>\n      <td>29324</td>\n      <td>Kloefkorn Elementary School</td>\n      <td>8/10</td>\n      <td>Above average</td>\n      <td>6601 Glass Ridge Drive, Lincoln, NE  68526</td>\n      <td>Public district</td>\n      <td>PK-5</td>\n      <td>497.0</td>\n      <td>17:1</td>\n      <td>Lincoln Public Schools</td>\n      <td>Lincoln</td>\n      <td>NE</td>\n      <td>[6601 Glass Ridge Drive,  Lincoln,  NE  68526]</td>\n      <td>3</td>\n    </tr>\n    <tr>\n      <th>29325</th>\n      <td>29325</td>\n      <td>Cavett Elementary School</td>\n      <td>8/10</td>\n      <td>Above average</td>\n      <td>7701 South 36th Street, Lincoln, NE  68516</td>\n      <td>Public district</td>\n      <td>PK-5</td>\n      <td>692.0</td>\n      <td>16:1</td>\n      <td>Lincoln Public Schools</td>\n      <td>Lincoln</td>\n      <td>NE</td>\n      <td>[7701 South 36th Street,  Lincoln,  NE  68516]</td>\n      <td>3</td>\n    </tr>\n    <tr>\n      <th>29326</th>\n      <td>29326</td>\n      <td>Lux Middle School</td>\n      <td>8/10</td>\n      <td>Above average</td>\n      <td>7800 High Street, Lincoln, NE  68506</td>\n      <td>Public district</td>\n      <td>6-8</td>\n      <td>917.0</td>\n      <td>16:1</td>\n      <td>Lincoln Public Schools</td>\n      <td>Lincoln</td>\n      <td>NE</td>\n      <td>[7800 High Street,  Lincoln,  NE  68506]</td>\n      <td>3</td>\n    </tr>\n  </tbody>\n</table>\n</div>"
     },
     "metadata": {},
     "execution_count": 70
    }
   ],
   "source": [
    "empty.head()"
   ]
  },
  {
   "source": [
    "## Merge"
   ],
   "cell_type": "markdown",
   "metadata": {}
  },
  {
   "cell_type": "code",
   "execution_count": 71,
   "metadata": {},
   "outputs": [],
   "source": [
    "df = df.append(empty)"
   ]
  },
  {
   "cell_type": "code",
   "execution_count": 72,
   "metadata": {},
   "outputs": [
    {
     "output_type": "execute_result",
     "data": {
      "text/plain": [
       "       Unnamed: 0                                            School Score  \\\n",
       "15188       15188                      Primrose School At Stapleton  0/10   \n",
       "29323       29323                           Adams Elementary School  8/10   \n",
       "29324       29324                       Kloefkorn Elementary School  8/10   \n",
       "29325       29325                          Cavett Elementary School  8/10   \n",
       "29326       29326                                 Lux Middle School  8/10   \n",
       "...           ...                                               ...   ...   \n",
       "48710       48710                       Jackson's Child Care Center  0/10   \n",
       "48711       48711                       Reach For The Stars Ps & Dc  0/10   \n",
       "48712       48712            Lil Angels Playhouse Child Care Center  0/10   \n",
       "48713       48713  Western Nebrask Child Development Center (Wncdc)  0/10   \n",
       "46311       46311                                High Bluff Academy  0/10   \n",
       "\n",
       "                  Rating  \\\n",
       "15188  Currently unrated   \n",
       "29323      Above average   \n",
       "29324      Above average   \n",
       "29325      Above average   \n",
       "29326      Above average   \n",
       "...                  ...   \n",
       "48710  Currently unrated   \n",
       "48711  Currently unrated   \n",
       "48712  Currently unrated   \n",
       "48713  Currently unrated   \n",
       "46311  Currently unrated   \n",
       "\n",
       "                                                      Address  \\\n",
       "15188                  2501 Syracuse Street, Denver, CO 80238   \n",
       "29323             7401 Jacobs Creek Drive, Lincoln, NE  68512   \n",
       "29324              6601 Glass Ridge Drive, Lincoln, NE  68526   \n",
       "29325              7701 South 36th Street, Lincoln, NE  68516   \n",
       "29326                    7800 High Street, Lincoln, NE  68506   \n",
       "...                                                       ...   \n",
       "48710             305 West 15th Street, Scottsbluff, NE 69361   \n",
       "48711                     518 Broadway, Scottsbluff, NE 69361   \n",
       "48712                    1927 Broadway, Scottsbluff, NE 69361   \n",
       "48713                 3118 17th Avenue, Scottsbluff, NE 69361   \n",
       "46311  5531 Cancha de Golf Ste 202, Rancho Santa Fe, CA 92091   \n",
       "\n",
       "                  Type Grades  Total Students Enrolled Students per teacher  \\\n",
       "15188          Private   PK-K                     73.0                  NaN   \n",
       "29323  Public district   PK-5                    827.0                 18:1   \n",
       "29324  Public district   PK-5                    497.0                 17:1   \n",
       "29325  Public district   PK-5                    692.0                 16:1   \n",
       "29326  Public district    6-8                    917.0                 16:1   \n",
       "...                ...    ...                      ...                  ...   \n",
       "48710          Private     PK                      NaN                  NaN   \n",
       "48711          Private     PK                      NaN                  NaN   \n",
       "48712          Private     PK                      NaN                  NaN   \n",
       "48713  Public district     PK                      NaN                  NaN   \n",
       "46311          Private   9-12                     36.0                  NaN   \n",
       "\n",
       "                          District              City State  \\\n",
       "15188                          NaN          Colorado         \n",
       "29323       Lincoln Public Schools                NE         \n",
       "29324       Lincoln Public Schools                NE         \n",
       "29325       Lincoln Public Schools                NE         \n",
       "29326       Lincoln Public Schools                NE         \n",
       "...                            ...               ...   ...   \n",
       "48710                          NaN       Scottsbluff    NE   \n",
       "48711                          NaN       Scottsbluff    NE   \n",
       "48712                          NaN       Scottsbluff    NE   \n",
       "48713  Educational Service Unit 13       Scottsbluff    NE   \n",
       "46311                          NaN   Rancho Santa Fe    CA   \n",
       "\n",
       "                                                      City, State  Length  \n",
       "15188                  [2501 Syracuse Street,  Denver,  CO 80238]       3  \n",
       "29323             [7401 Jacobs Creek Drive,  Lincoln,  NE  68512]       3  \n",
       "29324              [6601 Glass Ridge Drive,  Lincoln,  NE  68526]       3  \n",
       "29325              [7701 South 36th Street,  Lincoln,  NE  68516]       3  \n",
       "29326                    [7800 High Street,  Lincoln,  NE  68506]       3  \n",
       "...                                                           ...     ...  \n",
       "48710             [305 West 15th Street,  Scottsbluff,  NE 69361]       3  \n",
       "48711                     [518 Broadway,  Scottsbluff,  NE 69361]       3  \n",
       "48712                    [1927 Broadway,  Scottsbluff,  NE 69361]       3  \n",
       "48713                 [3118 17th Avenue,  Scottsbluff,  NE 69361]       3  \n",
       "46311  [5531 Cancha de Golf Ste 202,  Rancho Santa Fe,  CA 92091]       3  \n",
       "\n",
       "[984 rows x 14 columns]"
      ],
      "text/html": "<div>\n<style scoped>\n    .dataframe tbody tr th:only-of-type {\n        vertical-align: middle;\n    }\n\n    .dataframe tbody tr th {\n        vertical-align: top;\n    }\n\n    .dataframe thead th {\n        text-align: right;\n    }\n</style>\n<table border=\"1\" class=\"dataframe\">\n  <thead>\n    <tr style=\"text-align: right;\">\n      <th></th>\n      <th>Unnamed: 0</th>\n      <th>School</th>\n      <th>Score</th>\n      <th>Rating</th>\n      <th>Address</th>\n      <th>Type</th>\n      <th>Grades</th>\n      <th>Total Students Enrolled</th>\n      <th>Students per teacher</th>\n      <th>District</th>\n      <th>City</th>\n      <th>State</th>\n      <th>City, State</th>\n      <th>Length</th>\n    </tr>\n  </thead>\n  <tbody>\n    <tr>\n      <th>15188</th>\n      <td>15188</td>\n      <td>Primrose School At Stapleton</td>\n      <td>0/10</td>\n      <td>Currently unrated</td>\n      <td>2501 Syracuse Street, Denver, CO 80238</td>\n      <td>Private</td>\n      <td>PK-K</td>\n      <td>73.0</td>\n      <td>NaN</td>\n      <td>NaN</td>\n      <td>Colorado</td>\n      <td></td>\n      <td>[2501 Syracuse Street,  Denver,  CO 80238]</td>\n      <td>3</td>\n    </tr>\n    <tr>\n      <th>29323</th>\n      <td>29323</td>\n      <td>Adams Elementary School</td>\n      <td>8/10</td>\n      <td>Above average</td>\n      <td>7401 Jacobs Creek Drive, Lincoln, NE  68512</td>\n      <td>Public district</td>\n      <td>PK-5</td>\n      <td>827.0</td>\n      <td>18:1</td>\n      <td>Lincoln Public Schools</td>\n      <td>NE</td>\n      <td></td>\n      <td>[7401 Jacobs Creek Drive,  Lincoln,  NE  68512]</td>\n      <td>3</td>\n    </tr>\n    <tr>\n      <th>29324</th>\n      <td>29324</td>\n      <td>Kloefkorn Elementary School</td>\n      <td>8/10</td>\n      <td>Above average</td>\n      <td>6601 Glass Ridge Drive, Lincoln, NE  68526</td>\n      <td>Public district</td>\n      <td>PK-5</td>\n      <td>497.0</td>\n      <td>17:1</td>\n      <td>Lincoln Public Schools</td>\n      <td>NE</td>\n      <td></td>\n      <td>[6601 Glass Ridge Drive,  Lincoln,  NE  68526]</td>\n      <td>3</td>\n    </tr>\n    <tr>\n      <th>29325</th>\n      <td>29325</td>\n      <td>Cavett Elementary School</td>\n      <td>8/10</td>\n      <td>Above average</td>\n      <td>7701 South 36th Street, Lincoln, NE  68516</td>\n      <td>Public district</td>\n      <td>PK-5</td>\n      <td>692.0</td>\n      <td>16:1</td>\n      <td>Lincoln Public Schools</td>\n      <td>NE</td>\n      <td></td>\n      <td>[7701 South 36th Street,  Lincoln,  NE  68516]</td>\n      <td>3</td>\n    </tr>\n    <tr>\n      <th>29326</th>\n      <td>29326</td>\n      <td>Lux Middle School</td>\n      <td>8/10</td>\n      <td>Above average</td>\n      <td>7800 High Street, Lincoln, NE  68506</td>\n      <td>Public district</td>\n      <td>6-8</td>\n      <td>917.0</td>\n      <td>16:1</td>\n      <td>Lincoln Public Schools</td>\n      <td>NE</td>\n      <td></td>\n      <td>[7800 High Street,  Lincoln,  NE  68506]</td>\n      <td>3</td>\n    </tr>\n    <tr>\n      <th>...</th>\n      <td>...</td>\n      <td>...</td>\n      <td>...</td>\n      <td>...</td>\n      <td>...</td>\n      <td>...</td>\n      <td>...</td>\n      <td>...</td>\n      <td>...</td>\n      <td>...</td>\n      <td>...</td>\n      <td>...</td>\n      <td>...</td>\n      <td>...</td>\n    </tr>\n    <tr>\n      <th>48710</th>\n      <td>48710</td>\n      <td>Jackson's Child Care Center</td>\n      <td>0/10</td>\n      <td>Currently unrated</td>\n      <td>305 West 15th Street, Scottsbluff, NE 69361</td>\n      <td>Private</td>\n      <td>PK</td>\n      <td>NaN</td>\n      <td>NaN</td>\n      <td>NaN</td>\n      <td>Scottsbluff</td>\n      <td>NE</td>\n      <td>[305 West 15th Street,  Scottsbluff,  NE 69361]</td>\n      <td>3</td>\n    </tr>\n    <tr>\n      <th>48711</th>\n      <td>48711</td>\n      <td>Reach For The Stars Ps &amp; Dc</td>\n      <td>0/10</td>\n      <td>Currently unrated</td>\n      <td>518 Broadway, Scottsbluff, NE 69361</td>\n      <td>Private</td>\n      <td>PK</td>\n      <td>NaN</td>\n      <td>NaN</td>\n      <td>NaN</td>\n      <td>Scottsbluff</td>\n      <td>NE</td>\n      <td>[518 Broadway,  Scottsbluff,  NE 69361]</td>\n      <td>3</td>\n    </tr>\n    <tr>\n      <th>48712</th>\n      <td>48712</td>\n      <td>Lil Angels Playhouse Child Care Center</td>\n      <td>0/10</td>\n      <td>Currently unrated</td>\n      <td>1927 Broadway, Scottsbluff, NE 69361</td>\n      <td>Private</td>\n      <td>PK</td>\n      <td>NaN</td>\n      <td>NaN</td>\n      <td>NaN</td>\n      <td>Scottsbluff</td>\n      <td>NE</td>\n      <td>[1927 Broadway,  Scottsbluff,  NE 69361]</td>\n      <td>3</td>\n    </tr>\n    <tr>\n      <th>48713</th>\n      <td>48713</td>\n      <td>Western Nebrask Child Development Center (Wncdc)</td>\n      <td>0/10</td>\n      <td>Currently unrated</td>\n      <td>3118 17th Avenue, Scottsbluff, NE 69361</td>\n      <td>Public district</td>\n      <td>PK</td>\n      <td>NaN</td>\n      <td>NaN</td>\n      <td>Educational Service Unit 13</td>\n      <td>Scottsbluff</td>\n      <td>NE</td>\n      <td>[3118 17th Avenue,  Scottsbluff,  NE 69361]</td>\n      <td>3</td>\n    </tr>\n    <tr>\n      <th>46311</th>\n      <td>46311</td>\n      <td>High Bluff Academy</td>\n      <td>0/10</td>\n      <td>Currently unrated</td>\n      <td>5531 Cancha de Golf Ste 202, Rancho Santa Fe, CA 92091</td>\n      <td>Private</td>\n      <td>9-12</td>\n      <td>36.0</td>\n      <td>NaN</td>\n      <td>NaN</td>\n      <td>Rancho Santa Fe</td>\n      <td>CA</td>\n      <td>[5531 Cancha de Golf Ste 202,  Rancho Santa Fe,  CA 92091]</td>\n      <td>3</td>\n    </tr>\n  </tbody>\n</table>\n<p>984 rows × 14 columns</p>\n</div>"
     },
     "metadata": {},
     "execution_count": 72
    }
   ],
   "source": [
    "df[df.duplicated(subset=['Unnamed: 0', 'School', 'Score', 'Rating', 'Type', 'Grades', 'Total Students Enrolled', 'Students per teacher', 'District'], keep=False)]"
   ]
  },
  {
   "source": [
    "## Deleting duplicates"
   ],
   "cell_type": "markdown",
   "metadata": {}
  },
  {
   "cell_type": "code",
   "execution_count": 73,
   "metadata": {},
   "outputs": [],
   "source": [
    "df = df.drop_duplicates(subset=['Unnamed: 0', 'School', 'Score', 'Rating', 'Type', 'Grades', 'Total Students Enrolled', 'Students per teacher', 'District' ], keep='last')"
   ]
  },
  {
   "cell_type": "code",
   "execution_count": 74,
   "metadata": {},
   "outputs": [],
   "source": [
    "df = df.drop(columns = ['Unnamed: 0', 'City, State', 'Length'])"
   ]
  },
  {
   "cell_type": "code",
   "execution_count": 75,
   "metadata": {},
   "outputs": [
    {
     "output_type": "stream",
     "name": "stdout",
     "text": [
      "(58779, 11)\n"
     ]
    },
    {
     "output_type": "execute_result",
     "data": {
      "text/plain": [
       "                                School  Score         Rating  \\\n",
       "0      Akron Early College High School  10/10      Top rated   \n",
       "1                 Revere Middle School   9/10  Above average   \n",
       "2  Arrowhead Primary Elementary School   8/10  Above average   \n",
       "3             Manchester Middle School   8/10  Above average   \n",
       "4             Nolley Elementary School   8/10  Above average   \n",
       "\n",
       "                                    Address             Type Grades  \\\n",
       "0    225 South Main Street, Akron, OH 44308  Public district   9-12   \n",
       "1  3195 Spring Valley Road, Akron, OH 44333  Public district    6-8   \n",
       "2   1600 Raleigh Boulevard, Akron, OH 44321  Public district    K-4   \n",
       "3   760 West Nimisila Road, Akron, OH 44319  Public district    5-8   \n",
       "4        6285 Renninger Rd, Akron, OH 44319  Public district    K-4   \n",
       "\n",
       "   Total Students Enrolled Students per teacher  \\\n",
       "0                    384.0                 34:1   \n",
       "1                    624.0                 13:1   \n",
       "2                    345.0                 20:1   \n",
       "3                    387.0                 16:1   \n",
       "4                    483.0                 17:1   \n",
       "\n",
       "                               District   City State  \n",
       "0            Akron City School District  Akron    OH  \n",
       "1          Revere Local School District  Akron    OH  \n",
       "2  Copley-Fairlawn City School District  Akron    OH  \n",
       "3      Manchester Local School District  Akron    OH  \n",
       "4      Manchester Local School District  Akron    OH  "
      ],
      "text/html": "<div>\n<style scoped>\n    .dataframe tbody tr th:only-of-type {\n        vertical-align: middle;\n    }\n\n    .dataframe tbody tr th {\n        vertical-align: top;\n    }\n\n    .dataframe thead th {\n        text-align: right;\n    }\n</style>\n<table border=\"1\" class=\"dataframe\">\n  <thead>\n    <tr style=\"text-align: right;\">\n      <th></th>\n      <th>School</th>\n      <th>Score</th>\n      <th>Rating</th>\n      <th>Address</th>\n      <th>Type</th>\n      <th>Grades</th>\n      <th>Total Students Enrolled</th>\n      <th>Students per teacher</th>\n      <th>District</th>\n      <th>City</th>\n      <th>State</th>\n    </tr>\n  </thead>\n  <tbody>\n    <tr>\n      <th>0</th>\n      <td>Akron Early College High School</td>\n      <td>10/10</td>\n      <td>Top rated</td>\n      <td>225 South Main Street, Akron, OH 44308</td>\n      <td>Public district</td>\n      <td>9-12</td>\n      <td>384.0</td>\n      <td>34:1</td>\n      <td>Akron City School District</td>\n      <td>Akron</td>\n      <td>OH</td>\n    </tr>\n    <tr>\n      <th>1</th>\n      <td>Revere Middle School</td>\n      <td>9/10</td>\n      <td>Above average</td>\n      <td>3195 Spring Valley Road, Akron, OH 44333</td>\n      <td>Public district</td>\n      <td>6-8</td>\n      <td>624.0</td>\n      <td>13:1</td>\n      <td>Revere Local School District</td>\n      <td>Akron</td>\n      <td>OH</td>\n    </tr>\n    <tr>\n      <th>2</th>\n      <td>Arrowhead Primary Elementary School</td>\n      <td>8/10</td>\n      <td>Above average</td>\n      <td>1600 Raleigh Boulevard, Akron, OH 44321</td>\n      <td>Public district</td>\n      <td>K-4</td>\n      <td>345.0</td>\n      <td>20:1</td>\n      <td>Copley-Fairlawn City School District</td>\n      <td>Akron</td>\n      <td>OH</td>\n    </tr>\n    <tr>\n      <th>3</th>\n      <td>Manchester Middle School</td>\n      <td>8/10</td>\n      <td>Above average</td>\n      <td>760 West Nimisila Road, Akron, OH 44319</td>\n      <td>Public district</td>\n      <td>5-8</td>\n      <td>387.0</td>\n      <td>16:1</td>\n      <td>Manchester Local School District</td>\n      <td>Akron</td>\n      <td>OH</td>\n    </tr>\n    <tr>\n      <th>4</th>\n      <td>Nolley Elementary School</td>\n      <td>8/10</td>\n      <td>Above average</td>\n      <td>6285 Renninger Rd, Akron, OH 44319</td>\n      <td>Public district</td>\n      <td>K-4</td>\n      <td>483.0</td>\n      <td>17:1</td>\n      <td>Manchester Local School District</td>\n      <td>Akron</td>\n      <td>OH</td>\n    </tr>\n  </tbody>\n</table>\n</div>"
     },
     "metadata": {},
     "execution_count": 75
    }
   ],
   "source": [
    "print(df.shape)\n",
    "df.head()"
   ]
  },
  {
   "source": [
    "## Cleaning State Information"
   ],
   "cell_type": "markdown",
   "metadata": {}
  },
  {
   "cell_type": "code",
   "execution_count": 76,
   "metadata": {},
   "outputs": [
    {
     "output_type": "stream",
     "name": "stdout",
     "text": [
      "52\n"
     ]
    },
    {
     "output_type": "execute_result",
     "data": {
      "text/plain": [
       "array(['OH', 'GA', 'NY', 'OR', 'NM', 'LA', 'PA', 'TX', 'WA', 'CA', 'AK',\n",
       "       'IN', 'MI', 'WI', 'NC', 'KY', 'NJ', 'ME', 'CO', 'MD', 'MT', 'MS',\n",
       "       'ND', 'VA', 'IL', 'MA', 'FL', 'CT', 'TN', 'SD', 'VT', 'WY', 'IA',\n",
       "       'SC', 'UT', 'MO', 'AR', 'AZ', 'DE', 'MN', 'NV', 'OK', 'HI', 'ID',\n",
       "       'NH', 'WV', 'KS', 'DC', ' CO', ' NE ', ' NE', ' CA'], dtype=object)"
      ]
     },
     "metadata": {},
     "execution_count": 76
    }
   ],
   "source": [
    "print(df['State'].nunique())\n",
    "df['State'].unique()"
   ]
  },
  {
   "cell_type": "code",
   "execution_count": 77,
   "metadata": {},
   "outputs": [],
   "source": [
    "df['State'] = df['State'].str.strip()\n",
    "df['City'] = df['City'].str.strip()"
   ]
  },
  {
   "cell_type": "code",
   "execution_count": 78,
   "metadata": {},
   "outputs": [
    {
     "output_type": "stream",
     "name": "stdout",
     "text": [
      "49\n"
     ]
    },
    {
     "output_type": "execute_result",
     "data": {
      "text/plain": [
       "array(['OH', 'GA', 'NY', 'OR', 'NM', 'LA', 'PA', 'TX', 'WA', 'CA', 'AK',\n",
       "       'IN', 'MI', 'WI', 'NC', 'KY', 'NJ', 'ME', 'CO', 'MD', 'MT', 'MS',\n",
       "       'ND', 'VA', 'IL', 'MA', 'FL', 'CT', 'TN', 'SD', 'VT', 'WY', 'IA',\n",
       "       'SC', 'UT', 'MO', 'AR', 'AZ', 'DE', 'MN', 'NV', 'OK', 'HI', 'ID',\n",
       "       'NH', 'WV', 'KS', 'DC', 'NE'], dtype=object)"
      ]
     },
     "metadata": {},
     "execution_count": 78
    }
   ],
   "source": [
    "print(df['State'].nunique())\n",
    "df['State'].unique()"
   ]
  },
  {
   "source": [
    "## Cleaning City Information"
   ],
   "cell_type": "markdown",
   "metadata": {}
  },
  {
   "cell_type": "code",
   "execution_count": 79,
   "metadata": {},
   "outputs": [
    {
     "output_type": "stream",
     "name": "stdout",
     "text": [
      "405\n"
     ]
    },
    {
     "output_type": "execute_result",
     "data": {
      "text/plain": [
       "array(['Akron', 'Albany', 'Albuquerque', 'Alexandria', 'Allentown',\n",
       "       'Altoona', 'Amarillo', 'Anacortes', 'Anaheim', 'Anchorage',\n",
       "       'Anderson', 'Ann Arbor', 'Appleton', 'Arlington', 'Arroyo Grande',\n",
       "       'Asheville', 'Ashland', 'Athens', 'Atlantic City', 'Auburn',\n",
       "       'Aurora', 'Austin', 'Dripping Springs', 'austin', 'Bakersfield',\n",
       "       'Baltimore', 'Bangor', 'Baton Rouge', 'Bay City', 'Beaumont',\n",
       "       'Bellevue', 'Bellingham', 'Beloit', 'Bend', 'Prineville',\n",
       "       'Benton Harbor', 'Billings', 'Biloxi', 'Bismarck', 'Blacksburg',\n",
       "       'Bloomington', 'Bossier City', 'Boston', 'Chelsea', 'Boulder',\n",
       "       'Bowling Green', 'Bradenton', 'Bremerton', 'Bridgeport',\n",
       "       'Bridgeton', 'Bristol', 'Brookings', 'Brownsville', 'Bryan',\n",
       "       'Buffalo', 'Burlington', 'Cambridge', 'Canton', 'Cape Coral',\n",
       "       'Carlsbad', 'Carmel', 'CARMEL', 'Casper', 'Cedar Rapids',\n",
       "       'Chambersburg', 'Champaign', 'Chapel Hill', 'Charleston',\n",
       "       'Charlotte', 'Charlottesville', 'Cheyenne', 'Chicago', 'Chico',\n",
       "       'Christiansburg', 'Clearfield', 'Clearwater', 'Cleveland',\n",
       "       'Clinton', 'College Station', 'Colorado Springs',\n",
       "       'COLORADO SPRINGS', 'Columbia', 'Columbus', 'Concord', 'Conway',\n",
       "       'Corcoran', 'Corpus Christi', 'Council Bluffs', 'Crestview',\n",
       "       'Cumberland', 'Dallas', 'Dayton', 'Daytona Beach', 'South Daytona',\n",
       "       'Decatur', 'Denver', 'Des Moines', 'Detroit', 'Douglas', 'Dover',\n",
       "       'Duluth', 'Durham', 'East Lansing', 'Eau Claire', 'Edinburg',\n",
       "       'Effingham', 'El Centro', 'El Paso', 'Elizabethtown', 'Elko',\n",
       "       'Elyria', 'Enid', 'Erie', 'Eugene', 'Evansville', 'Fairbanks',\n",
       "       'Fairfield', 'Fayetteville', 'Flagstaff', 'Flint', 'Florence',\n",
       "       'Fort Collins', 'Fort Lauderdale', 'Fort Myers', 'Fort Smith',\n",
       "       'Fort Walton Beach', 'Fort Wayne', 'Fort Worth', 'Franklin',\n",
       "       'Gainesville', 'Grand Junction', 'Grand Rapids', 'Grants Pass',\n",
       "       'Great Falls', 'Greeley', 'greeley', 'Green Bay', 'Greensboro',\n",
       "       'GREENSBORO', 'Greenville', 'Gulfport', 'Hagerstown', 'Hammonton',\n",
       "       'Hanford', 'Hanover', 'Harlingen', 'Harrisburg', 'Harrisonburg',\n",
       "       'Hartford', 'Hattiesburg', 'Henderson', 'Las Vegas', 'Hickory',\n",
       "       'High Point', 'Hillsboro', 'Holland', 'Honolulu', 'Houghton',\n",
       "       'Houma', 'Houston', 'Idaho Falls', 'Indiana', 'Iowa City',\n",
       "       'Ithaca', 'Jackson', 'Jacksonville', 'Janesville', 'Jasper',\n",
       "       'Jefferson City', 'Jersey City', 'Joplin', 'Juneau', 'Kalamazoo',\n",
       "       'Kennewick', 'Killeen', 'Kingman', 'Kingsport', 'Kissimmee',\n",
       "       'Knoxville', 'Kokomo', 'La Porte', 'Lafayette', 'Lake Charles',\n",
       "       'Lake Havasu City', 'Lakeland', 'Lancaster', 'Lansing', 'Laredo',\n",
       "       'Las Cruces', 'Lawton', 'Lebanon', 'Lenoir', 'Lewiston',\n",
       "       'Lexington', 'Lima', 'Little Rock', 'Lodi', 'Long Beach',\n",
       "       'Longview', 'Los Alamos', 'Los Angeles', 'Lubbock', 'Lynchburg',\n",
       "       'Madera', 'Madison', 'Manchester', 'Manitowoc', 'Marco Island',\n",
       "       'Marshall', 'Massillon', 'Mauldin', 'Melbourne', 'Merced', 'Mesa',\n",
       "       'Miami', 'Milford', 'Milwaukee', 'milwaukee', 'Hales Corners',\n",
       "       'Minneapolis', 'Mission', 'Missoula', 'Modesto', 'Moline',\n",
       "       'Monroe', 'Morganton', 'Morgantown', 'Morristown', 'Mount Vernon',\n",
       "       'Murfreesboro', 'Muscatine', 'Muskegon', 'Muskogee',\n",
       "       'Myrtle Beach', 'Napa', 'Naples', 'Nashua', 'Nashville',\n",
       "       'New Braunfels', 'New Haven', 'New London', 'New Orleans',\n",
       "       'New York', 'Newark', 'Niagara Falls', 'Niles', 'North Charleston',\n",
       "       'North Little Rock', 'North Myrtle Beach', 'North Port', 'Norwalk',\n",
       "       'Norwich', 'Oakland', 'Ocala', 'Odessa', 'Ogden', 'Oklahoma City',\n",
       "       'Oklahoma city', 'Olympia', 'Ontario', 'Orem', 'Orlando',\n",
       "       'Ormond Beach', 'Owensboro', 'Oxnard', 'Palm Bay', 'Panama City',\n",
       "       'Pascagoula', 'Pensacola', 'Peoria', 'Phoenix', 'Pittsfield',\n",
       "       'Pocatello', 'Port Arthur', 'Portage', 'Porterville', 'Portland',\n",
       "       'Prescott', 'Provo', 'Pueblo', 'Racine', 'Radford', 'Raleigh',\n",
       "       'Rapid City', 'Redmond', 'Reno', 'Richland', 'Richmond',\n",
       "       'Riverside', 'Roanoke', 'Rochester', 'Rock Island', 'Rockford',\n",
       "       'Rocky Mount', 'Rogers', 'Rome', 'Roseville', 'Round Rock',\n",
       "       'Rutland', 'Sacramento', 'Salem', 'Salinas', 'Salisbury',\n",
       "       'Salt Lake City', 'San Antonio', 'San Bernardino', 'San Diego',\n",
       "       'SAN DIEGO', 'San Francisco', 'San Jose', 'San Luis Obispo',\n",
       "       'Sanford', 'Santa Barbara', 'Santa Clara', 'Santa Cruz',\n",
       "       'Santa Rosa', 'Sarasota', 'Schenectady', 'Scottsdale', 'Scranton',\n",
       "       'Seattle', 'Sebastian', 'Sebring', 'Sheboygan', 'Sheridan',\n",
       "       'Shreveport', 'Sierra Vista', 'Sioux City', 'Sioux Falls',\n",
       "       'South Bend', 'South Burlington', 'Spartanburg', 'Spokane', 'Mead',\n",
       "       'Springfield', 'Stamford', 'State College', 'Steubenville',\n",
       "       'Stockton', 'Sunnyvale', 'Syracuse', 'Tacoma', 'Tallahassee',\n",
       "       'Tampa', 'Taos', 'Temple', 'Texarkana', 'Thibodaux',\n",
       "       'Thousand Oaks', 'Titusville', 'Toledo', 'Topeka', 'Trenton',\n",
       "       'Troy', 'Tucson', 'Tulsa', 'Twin Falls', 'Tyler', 'Urbana',\n",
       "       'Utica', 'Vallejo', 'Vero Beach', 'Victoria', 'Vineland',\n",
       "       'Visalia', 'Waco', 'Walla Walla', 'Warner Robins', 'Warren',\n",
       "       'Washington', 'NW  Washington', 'Waterloo', 'Watertown',\n",
       "       'Watsonville', 'Waukesha', 'Wausau', 'Wenatchee', 'West Lafayette',\n",
       "       'West Palm Beach', 'Wichita', 'Wilmington', 'Winchester', 'Winona',\n",
       "       'Winter Haven', 'Worcester', 'Wyoming', 'Yakima', 'Yuba City',\n",
       "       'Yuma', 'Whitmore Lake', 'Cherry Hill/Baltimore', 'Hyde Park',\n",
       "       'Vista', 'Ammon', 'Suite 117 Phoenix', 'Chubbuck',\n",
       "       'Saratoga Springs', 'Henrico', 'La Jolla', 'Paradise Valley',\n",
       "       'Shoreline', 'Center Line', 'Lincoln', 'Scottsbluff',\n",
       "       'Rancho Santa Fe'], dtype=object)"
      ]
     },
     "metadata": {},
     "execution_count": 79
    }
   ],
   "source": [
    "print(df['City'].nunique())\n",
    "df.City.unique()"
   ]
  },
  {
   "cell_type": "code",
   "execution_count": 80,
   "metadata": {},
   "outputs": [
    {
     "output_type": "execute_result",
     "data": {
      "text/plain": [
       "                School Score             Rating  \\\n",
       "3799  Indigo childcare  0/10  Currently unrated   \n",
       "\n",
       "                               Address     Type Grades  \\\n",
       "3799  4314 clarno dr, austin, TX 78749  Private     PK   \n",
       "\n",
       "      Total Students Enrolled Students per teacher District    City State  \n",
       "3799                      NaN                  NaN      NaN  austin    TX  "
      ],
      "text/html": "<div>\n<style scoped>\n    .dataframe tbody tr th:only-of-type {\n        vertical-align: middle;\n    }\n\n    .dataframe tbody tr th {\n        vertical-align: top;\n    }\n\n    .dataframe thead th {\n        text-align: right;\n    }\n</style>\n<table border=\"1\" class=\"dataframe\">\n  <thead>\n    <tr style=\"text-align: right;\">\n      <th></th>\n      <th>School</th>\n      <th>Score</th>\n      <th>Rating</th>\n      <th>Address</th>\n      <th>Type</th>\n      <th>Grades</th>\n      <th>Total Students Enrolled</th>\n      <th>Students per teacher</th>\n      <th>District</th>\n      <th>City</th>\n      <th>State</th>\n    </tr>\n  </thead>\n  <tbody>\n    <tr>\n      <th>3799</th>\n      <td>Indigo childcare</td>\n      <td>0/10</td>\n      <td>Currently unrated</td>\n      <td>4314 clarno dr, austin, TX 78749</td>\n      <td>Private</td>\n      <td>PK</td>\n      <td>NaN</td>\n      <td>NaN</td>\n      <td>NaN</td>\n      <td>austin</td>\n      <td>TX</td>\n    </tr>\n  </tbody>\n</table>\n</div>"
     },
     "metadata": {},
     "execution_count": 80
    }
   ],
   "source": [
    "df.loc[df['City'] == 'austin']"
   ]
  },
  {
   "cell_type": "code",
   "execution_count": 81,
   "metadata": {},
   "outputs": [
    {
     "output_type": "execute_result",
     "data": {
      "text/plain": [
       "                                School Score             Rating  \\\n",
       "8429  S.H.A.N.D.A. Preparatory Academy  0/10  Currently unrated   \n",
       "\n",
       "                                       Address     Type            Grades  \\\n",
       "8429  9764 Cedar Point Drive, CARMEL, IN 46032  Private  10-12 & Ungraded   \n",
       "\n",
       "      Total Students Enrolled Students per teacher District    City State  \n",
       "8429                      NaN                  NaN      NaN  CARMEL    IN  "
      ],
      "text/html": "<div>\n<style scoped>\n    .dataframe tbody tr th:only-of-type {\n        vertical-align: middle;\n    }\n\n    .dataframe tbody tr th {\n        vertical-align: top;\n    }\n\n    .dataframe thead th {\n        text-align: right;\n    }\n</style>\n<table border=\"1\" class=\"dataframe\">\n  <thead>\n    <tr style=\"text-align: right;\">\n      <th></th>\n      <th>School</th>\n      <th>Score</th>\n      <th>Rating</th>\n      <th>Address</th>\n      <th>Type</th>\n      <th>Grades</th>\n      <th>Total Students Enrolled</th>\n      <th>Students per teacher</th>\n      <th>District</th>\n      <th>City</th>\n      <th>State</th>\n    </tr>\n  </thead>\n  <tbody>\n    <tr>\n      <th>8429</th>\n      <td>S.H.A.N.D.A. Preparatory Academy</td>\n      <td>0/10</td>\n      <td>Currently unrated</td>\n      <td>9764 Cedar Point Drive, CARMEL, IN 46032</td>\n      <td>Private</td>\n      <td>10-12 &amp; Ungraded</td>\n      <td>NaN</td>\n      <td>NaN</td>\n      <td>NaN</td>\n      <td>CARMEL</td>\n      <td>IN</td>\n    </tr>\n  </tbody>\n</table>\n</div>"
     },
     "metadata": {},
     "execution_count": 81
    }
   ],
   "source": [
    "df.loc[df['City'] == 'CARMEL']"
   ]
  },
  {
   "cell_type": "code",
   "execution_count": 82,
   "metadata": {},
   "outputs": [
    {
     "output_type": "execute_result",
     "data": {
      "text/plain": [
       "                  School Score             Rating  \\\n",
       "11423  Calvary Preschool  0/10  Currently unrated   \n",
       "\n",
       "                                                   Address     Type Grades  \\\n",
       "11423  4210 Austin Bluffs Pkwy, COLORADO SPRINGS, CO 80918  Private     PK   \n",
       "\n",
       "       Total Students Enrolled Students per teacher District  \\\n",
       "11423                      NaN                  NaN      NaN   \n",
       "\n",
       "                   City State  \n",
       "11423  COLORADO SPRINGS    CO  "
      ],
      "text/html": "<div>\n<style scoped>\n    .dataframe tbody tr th:only-of-type {\n        vertical-align: middle;\n    }\n\n    .dataframe tbody tr th {\n        vertical-align: top;\n    }\n\n    .dataframe thead th {\n        text-align: right;\n    }\n</style>\n<table border=\"1\" class=\"dataframe\">\n  <thead>\n    <tr style=\"text-align: right;\">\n      <th></th>\n      <th>School</th>\n      <th>Score</th>\n      <th>Rating</th>\n      <th>Address</th>\n      <th>Type</th>\n      <th>Grades</th>\n      <th>Total Students Enrolled</th>\n      <th>Students per teacher</th>\n      <th>District</th>\n      <th>City</th>\n      <th>State</th>\n    </tr>\n  </thead>\n  <tbody>\n    <tr>\n      <th>11423</th>\n      <td>Calvary Preschool</td>\n      <td>0/10</td>\n      <td>Currently unrated</td>\n      <td>4210 Austin Bluffs Pkwy, COLORADO SPRINGS, CO 80918</td>\n      <td>Private</td>\n      <td>PK</td>\n      <td>NaN</td>\n      <td>NaN</td>\n      <td>NaN</td>\n      <td>COLORADO SPRINGS</td>\n      <td>CO</td>\n    </tr>\n  </tbody>\n</table>\n</div>"
     },
     "metadata": {},
     "execution_count": 82
    }
   ],
   "source": [
    "df.loc[df['City'] == 'COLORADO SPRINGS']"
   ]
  },
  {
   "cell_type": "code",
   "execution_count": 83,
   "metadata": {},
   "outputs": [
    {
     "output_type": "execute_result",
     "data": {
      "text/plain": [
       "                                School Score             Rating  \\\n",
       "22095  Bryan School ( Charter Pending)  0/10  Currently unrated   \n",
       "\n",
       "                                       Address     Type     Grades  \\\n",
       "22095  324 S. Elm Street, GREENSBORO, NC 27401  Private  K-7, 9-12   \n",
       "\n",
       "       Total Students Enrolled Students per teacher District        City State  \n",
       "22095                      NaN                  NaN      NaN  GREENSBORO    NC  "
      ],
      "text/html": "<div>\n<style scoped>\n    .dataframe tbody tr th:only-of-type {\n        vertical-align: middle;\n    }\n\n    .dataframe tbody tr th {\n        vertical-align: top;\n    }\n\n    .dataframe thead th {\n        text-align: right;\n    }\n</style>\n<table border=\"1\" class=\"dataframe\">\n  <thead>\n    <tr style=\"text-align: right;\">\n      <th></th>\n      <th>School</th>\n      <th>Score</th>\n      <th>Rating</th>\n      <th>Address</th>\n      <th>Type</th>\n      <th>Grades</th>\n      <th>Total Students Enrolled</th>\n      <th>Students per teacher</th>\n      <th>District</th>\n      <th>City</th>\n      <th>State</th>\n    </tr>\n  </thead>\n  <tbody>\n    <tr>\n      <th>22095</th>\n      <td>Bryan School ( Charter Pending)</td>\n      <td>0/10</td>\n      <td>Currently unrated</td>\n      <td>324 S. Elm Street, GREENSBORO, NC 27401</td>\n      <td>Private</td>\n      <td>K-7, 9-12</td>\n      <td>NaN</td>\n      <td>NaN</td>\n      <td>NaN</td>\n      <td>GREENSBORO</td>\n      <td>NC</td>\n    </tr>\n  </tbody>\n</table>\n</div>"
     },
     "metadata": {},
     "execution_count": 83
    }
   ],
   "source": [
    "df.loc[df['City'] == 'GREENSBORO']"
   ]
  },
  {
   "cell_type": "code",
   "execution_count": 84,
   "metadata": {},
   "outputs": [
    {
     "output_type": "execute_result",
     "data": {
      "text/plain": [
       "                                             School Score             Rating  \\\n",
       "46580  Global Math Art Science & Technology Academy  0/10  Currently unrated   \n",
       "\n",
       "                                     Address     Type Grades  \\\n",
       "46580  4395 Kamloop Ave, SAN DIEGO, CA 92117  Private   6-12   \n",
       "\n",
       "       Total Students Enrolled Students per teacher District       City State  \n",
       "46580                      NaN                  NaN      NaN  SAN DIEGO    CA  "
      ],
      "text/html": "<div>\n<style scoped>\n    .dataframe tbody tr th:only-of-type {\n        vertical-align: middle;\n    }\n\n    .dataframe tbody tr th {\n        vertical-align: top;\n    }\n\n    .dataframe thead th {\n        text-align: right;\n    }\n</style>\n<table border=\"1\" class=\"dataframe\">\n  <thead>\n    <tr style=\"text-align: right;\">\n      <th></th>\n      <th>School</th>\n      <th>Score</th>\n      <th>Rating</th>\n      <th>Address</th>\n      <th>Type</th>\n      <th>Grades</th>\n      <th>Total Students Enrolled</th>\n      <th>Students per teacher</th>\n      <th>District</th>\n      <th>City</th>\n      <th>State</th>\n    </tr>\n  </thead>\n  <tbody>\n    <tr>\n      <th>46580</th>\n      <td>Global Math Art Science &amp; Technology Academy</td>\n      <td>0/10</td>\n      <td>Currently unrated</td>\n      <td>4395 Kamloop Ave, SAN DIEGO, CA 92117</td>\n      <td>Private</td>\n      <td>6-12</td>\n      <td>NaN</td>\n      <td>NaN</td>\n      <td>NaN</td>\n      <td>SAN DIEGO</td>\n      <td>CA</td>\n    </tr>\n  </tbody>\n</table>\n</div>"
     },
     "metadata": {},
     "execution_count": 84
    }
   ],
   "source": [
    "df.loc[df['City'] == 'SAN DIEGO']"
   ]
  },
  {
   "cell_type": "code",
   "execution_count": 85,
   "metadata": {},
   "outputs": [
    {
     "output_type": "execute_result",
     "data": {
      "text/plain": [
       "                 School Score             Rating  \\\n",
       "56607  The River School  0/10  Currently unrated   \n",
       "\n",
       "                                               Address     Type Grades  \\\n",
       "56607  4880 MacArthur Blvd., NW  Washington, DC  20007  Private   PK-3   \n",
       "\n",
       "       Total Students Enrolled Students per teacher District            City  \\\n",
       "56607                    235.0                  NaN      NaN  NW  Washington   \n",
       "\n",
       "      State  \n",
       "56607    DC  "
      ],
      "text/html": "<div>\n<style scoped>\n    .dataframe tbody tr th:only-of-type {\n        vertical-align: middle;\n    }\n\n    .dataframe tbody tr th {\n        vertical-align: top;\n    }\n\n    .dataframe thead th {\n        text-align: right;\n    }\n</style>\n<table border=\"1\" class=\"dataframe\">\n  <thead>\n    <tr style=\"text-align: right;\">\n      <th></th>\n      <th>School</th>\n      <th>Score</th>\n      <th>Rating</th>\n      <th>Address</th>\n      <th>Type</th>\n      <th>Grades</th>\n      <th>Total Students Enrolled</th>\n      <th>Students per teacher</th>\n      <th>District</th>\n      <th>City</th>\n      <th>State</th>\n    </tr>\n  </thead>\n  <tbody>\n    <tr>\n      <th>56607</th>\n      <td>The River School</td>\n      <td>0/10</td>\n      <td>Currently unrated</td>\n      <td>4880 MacArthur Blvd., NW  Washington, DC  20007</td>\n      <td>Private</td>\n      <td>PK-3</td>\n      <td>235.0</td>\n      <td>NaN</td>\n      <td>NaN</td>\n      <td>NW  Washington</td>\n      <td>DC</td>\n    </tr>\n  </tbody>\n</table>\n</div>"
     },
     "metadata": {},
     "execution_count": 85
    }
   ],
   "source": [
    "df.loc[df['City'] == 'NW  Washington']"
   ]
  },
  {
   "cell_type": "code",
   "execution_count": 86,
   "metadata": {},
   "outputs": [
    {
     "output_type": "execute_result",
     "data": {
      "text/plain": [
       "                           School Score         Rating  \\\n",
       "4295  Bay-Brook Elementary School  2/10  Below average   \n",
       "\n",
       "                                                 Address             Type  \\\n",
       "4295  2501 Seabury Road, Cherry Hill/Baltimore, MD 21225  Public district   \n",
       "\n",
       "     Grades  Total Students Enrolled Students per teacher  \\\n",
       "4295   PK-8                    455.0                 16:1   \n",
       "\n",
       "                           District                   City State  \n",
       "4295  Baltimore City Public Schools  Cherry Hill/Baltimore    MD  "
      ],
      "text/html": "<div>\n<style scoped>\n    .dataframe tbody tr th:only-of-type {\n        vertical-align: middle;\n    }\n\n    .dataframe tbody tr th {\n        vertical-align: top;\n    }\n\n    .dataframe thead th {\n        text-align: right;\n    }\n</style>\n<table border=\"1\" class=\"dataframe\">\n  <thead>\n    <tr style=\"text-align: right;\">\n      <th></th>\n      <th>School</th>\n      <th>Score</th>\n      <th>Rating</th>\n      <th>Address</th>\n      <th>Type</th>\n      <th>Grades</th>\n      <th>Total Students Enrolled</th>\n      <th>Students per teacher</th>\n      <th>District</th>\n      <th>City</th>\n      <th>State</th>\n    </tr>\n  </thead>\n  <tbody>\n    <tr>\n      <th>4295</th>\n      <td>Bay-Brook Elementary School</td>\n      <td>2/10</td>\n      <td>Below average</td>\n      <td>2501 Seabury Road, Cherry Hill/Baltimore, MD 21225</td>\n      <td>Public district</td>\n      <td>PK-8</td>\n      <td>455.0</td>\n      <td>16:1</td>\n      <td>Baltimore City Public Schools</td>\n      <td>Cherry Hill/Baltimore</td>\n      <td>MD</td>\n    </tr>\n  </tbody>\n</table>\n</div>"
     },
     "metadata": {},
     "execution_count": 86
    }
   ],
   "source": [
    "df.loc[df['City'] == 'Cherry Hill/Baltimore']"
   ]
  },
  {
   "cell_type": "code",
   "execution_count": 87,
   "metadata": {},
   "outputs": [
    {
     "output_type": "execute_result",
     "data": {
      "text/plain": [
       "                       School Score             Rating  \\\n",
       "40342  Kaleidoscope Preschool  0/10  Currently unrated   \n",
       "\n",
       "                                                  Address     Type Grades  \\\n",
       "40342  3434 W. Greenway Rd., Suite 117 Phoenix, AZ  85053  Private     PK   \n",
       "\n",
       "       Total Students Enrolled Students per teacher District  \\\n",
       "40342                      NaN                  NaN      NaN   \n",
       "\n",
       "                    City State  \n",
       "40342  Suite 117 Phoenix    AZ  "
      ],
      "text/html": "<div>\n<style scoped>\n    .dataframe tbody tr th:only-of-type {\n        vertical-align: middle;\n    }\n\n    .dataframe tbody tr th {\n        vertical-align: top;\n    }\n\n    .dataframe thead th {\n        text-align: right;\n    }\n</style>\n<table border=\"1\" class=\"dataframe\">\n  <thead>\n    <tr style=\"text-align: right;\">\n      <th></th>\n      <th>School</th>\n      <th>Score</th>\n      <th>Rating</th>\n      <th>Address</th>\n      <th>Type</th>\n      <th>Grades</th>\n      <th>Total Students Enrolled</th>\n      <th>Students per teacher</th>\n      <th>District</th>\n      <th>City</th>\n      <th>State</th>\n    </tr>\n  </thead>\n  <tbody>\n    <tr>\n      <th>40342</th>\n      <td>Kaleidoscope Preschool</td>\n      <td>0/10</td>\n      <td>Currently unrated</td>\n      <td>3434 W. Greenway Rd., Suite 117 Phoenix, AZ  85053</td>\n      <td>Private</td>\n      <td>PK</td>\n      <td>NaN</td>\n      <td>NaN</td>\n      <td>NaN</td>\n      <td>Suite 117 Phoenix</td>\n      <td>AZ</td>\n    </tr>\n  </tbody>\n</table>\n</div>"
     },
     "metadata": {},
     "execution_count": 87
    }
   ],
   "source": [
    "df.loc[df['City'] == 'Suite 117 Phoenix']"
   ]
  },
  {
   "cell_type": "code",
   "execution_count": 88,
   "metadata": {},
   "outputs": [],
   "source": [
    "df['City'] = df['City'].str.replace('austin', 'Austin')\n",
    "df['City'] = df['City'].str.replace('CARMEL', 'Carmel')\n",
    "df['City'] = df['City'].str.replace('COLORADO SPRINGS', 'Colorado Springs')\n",
    "df['City'] = df['City'].str.replace('GREENSBORO', 'Greensboro')\n",
    "df['City'] = df['City'].str.replace('SAN DIEGO', 'San Diego')\n",
    "df['City'] = df['City'].str.replace('Cherry Hill/Baltimore', 'Cherry Hill')\n",
    "df['City'] = df['City'].str.replace('Suite 117 Phoenix', ' Phoenix')\n",
    "\n",
    "df['Address'] = df['Address'].str.replace('4314 clarno dr, austin, TX 78749', '4314 Clarno Dr, Austin, TX 78749')\n",
    "df['Address'] = df['Address'].str.replace('CARMEL,', 'Carmel')\n",
    "df['Address'] = df['Address'].str.replace('COLORADO SPRINGS,', 'Colorado Springs')\n",
    "df['Address'] = df['Address'].str.replace('GREENSBORO', 'Greensboro')\n",
    "df['Address'] = df['Address'].str.replace('SAN DIEGO', 'San Diego')\n",
    "df['Address'] = df['Address'].str.replace('Cherry Hill/Baltimore', 'Cherry Hill')\n",
    "df['Address'] = df['Address'].str.replace('Suite 117', 'Suite 117,')"
   ]
  },
  {
   "source": [
    "## Fix NW Washington"
   ],
   "cell_type": "markdown",
   "metadata": {}
  },
  {
   "cell_type": "code",
   "execution_count": 89,
   "metadata": {},
   "outputs": [],
   "source": [
    "washington =  df.loc[df['City'] == 'NW  Washington']"
   ]
  },
  {
   "cell_type": "code",
   "execution_count": 90,
   "metadata": {},
   "outputs": [
    {
     "output_type": "execute_result",
     "data": {
      "text/plain": [
       "                 School Score             Rating  \\\n",
       "56607  The River School  0/10  Currently unrated   \n",
       "\n",
       "                                               Address     Type Grades  \\\n",
       "56607  4880 MacArthur Blvd., NW  Washington, DC  20007  Private   PK-3   \n",
       "\n",
       "       Total Students Enrolled Students per teacher District            City  \\\n",
       "56607                    235.0                  NaN      NaN  NW  Washington   \n",
       "\n",
       "      State  \n",
       "56607    DC  "
      ],
      "text/html": "<div>\n<style scoped>\n    .dataframe tbody tr th:only-of-type {\n        vertical-align: middle;\n    }\n\n    .dataframe tbody tr th {\n        vertical-align: top;\n    }\n\n    .dataframe thead th {\n        text-align: right;\n    }\n</style>\n<table border=\"1\" class=\"dataframe\">\n  <thead>\n    <tr style=\"text-align: right;\">\n      <th></th>\n      <th>School</th>\n      <th>Score</th>\n      <th>Rating</th>\n      <th>Address</th>\n      <th>Type</th>\n      <th>Grades</th>\n      <th>Total Students Enrolled</th>\n      <th>Students per teacher</th>\n      <th>District</th>\n      <th>City</th>\n      <th>State</th>\n    </tr>\n  </thead>\n  <tbody>\n    <tr>\n      <th>56607</th>\n      <td>The River School</td>\n      <td>0/10</td>\n      <td>Currently unrated</td>\n      <td>4880 MacArthur Blvd., NW  Washington, DC  20007</td>\n      <td>Private</td>\n      <td>PK-3</td>\n      <td>235.0</td>\n      <td>NaN</td>\n      <td>NaN</td>\n      <td>NW  Washington</td>\n      <td>DC</td>\n    </tr>\n  </tbody>\n</table>\n</div>"
     },
     "metadata": {},
     "execution_count": 90
    }
   ],
   "source": [
    "washington.head()"
   ]
  },
  {
   "cell_type": "code",
   "execution_count": 91,
   "metadata": {},
   "outputs": [
    {
     "output_type": "stream",
     "name": "stderr",
     "text": [
      "<ipython-input-91-e0f22964f7f1>:1: SettingWithCopyWarning: \nA value is trying to be set on a copy of a slice from a DataFrame.\nTry using .loc[row_indexer,col_indexer] = value instead\n\nSee the caveats in the documentation: https://pandas.pydata.org/pandas-docs/stable/user_guide/indexing.html#returning-a-view-versus-a-copy\n  washington['City'] = washington['City'].str[3:]\n"
     ]
    }
   ],
   "source": [
    "washington['City'] = washington['City'].str[3:]"
   ]
  },
  {
   "cell_type": "code",
   "execution_count": 92,
   "metadata": {},
   "outputs": [
    {
     "output_type": "stream",
     "name": "stderr",
     "text": [
      "<ipython-input-92-e4359d71d369>:1: SettingWithCopyWarning: \nA value is trying to be set on a copy of a slice from a DataFrame.\nTry using .loc[row_indexer,col_indexer] = value instead\n\nSee the caveats in the documentation: https://pandas.pydata.org/pandas-docs/stable/user_guide/indexing.html#returning-a-view-versus-a-copy\n  washington['City'] = washington['City'].str.strip()\n"
     ]
    }
   ],
   "source": [
    "washington['City'] = washington['City'].str.strip()"
   ]
  },
  {
   "cell_type": "code",
   "execution_count": 93,
   "metadata": {},
   "outputs": [
    {
     "output_type": "execute_result",
     "data": {
      "text/plain": [
       "                 School Score             Rating  \\\n",
       "56607  The River School  0/10  Currently unrated   \n",
       "\n",
       "                                               Address     Type Grades  \\\n",
       "56607  4880 MacArthur Blvd., NW  Washington, DC  20007  Private   PK-3   \n",
       "\n",
       "       Total Students Enrolled Students per teacher District        City State  \n",
       "56607                    235.0                  NaN      NaN  Washington    DC  "
      ],
      "text/html": "<div>\n<style scoped>\n    .dataframe tbody tr th:only-of-type {\n        vertical-align: middle;\n    }\n\n    .dataframe tbody tr th {\n        vertical-align: top;\n    }\n\n    .dataframe thead th {\n        text-align: right;\n    }\n</style>\n<table border=\"1\" class=\"dataframe\">\n  <thead>\n    <tr style=\"text-align: right;\">\n      <th></th>\n      <th>School</th>\n      <th>Score</th>\n      <th>Rating</th>\n      <th>Address</th>\n      <th>Type</th>\n      <th>Grades</th>\n      <th>Total Students Enrolled</th>\n      <th>Students per teacher</th>\n      <th>District</th>\n      <th>City</th>\n      <th>State</th>\n    </tr>\n  </thead>\n  <tbody>\n    <tr>\n      <th>56607</th>\n      <td>The River School</td>\n      <td>0/10</td>\n      <td>Currently unrated</td>\n      <td>4880 MacArthur Blvd., NW  Washington, DC  20007</td>\n      <td>Private</td>\n      <td>PK-3</td>\n      <td>235.0</td>\n      <td>NaN</td>\n      <td>NaN</td>\n      <td>Washington</td>\n      <td>DC</td>\n    </tr>\n  </tbody>\n</table>\n</div>"
     },
     "metadata": {},
     "execution_count": 93
    }
   ],
   "source": [
    "washington.head()"
   ]
  },
  {
   "cell_type": "code",
   "execution_count": 94,
   "metadata": {},
   "outputs": [],
   "source": [
    "df = df[df['City'] != 'NW  Washington']"
   ]
  },
  {
   "cell_type": "code",
   "execution_count": 95,
   "metadata": {},
   "outputs": [],
   "source": [
    "df = df.append(washington)"
   ]
  },
  {
   "cell_type": "code",
   "execution_count": 96,
   "metadata": {},
   "outputs": [
    {
     "output_type": "execute_result",
     "data": {
      "text/plain": [
       "(58779, 11)"
      ]
     },
     "metadata": {},
     "execution_count": 96
    }
   ],
   "source": [
    "df.shape"
   ]
  },
  {
   "source": [
    "## Filling NaNs and trying to clean a specific row"
   ],
   "cell_type": "markdown",
   "metadata": {}
  },
  {
   "cell_type": "code",
   "execution_count": 97,
   "metadata": {},
   "outputs": [
    {
     "output_type": "execute_result",
     "data": {
      "text/plain": [
       "School                         0\n",
       "Score                          0\n",
       "Rating                         0\n",
       "Address                        0\n",
       "Type                           0\n",
       "                           ...  \n",
       "Total Students Enrolled    33754\n",
       "Students per teacher       40918\n",
       "District                   39386\n",
       "City                           0\n",
       "State                          0\n",
       "Length: 11, dtype: int64"
      ]
     },
     "metadata": {},
     "execution_count": 97
    }
   ],
   "source": [
    "df.isna().sum()"
   ]
  },
  {
   "cell_type": "code",
   "execution_count": 98,
   "metadata": {},
   "outputs": [],
   "source": [
    "df[['Total Students Enrolled', 'Students per teacher']] = df[['Total Students Enrolled', 'Students per teacher']].fillna(0)"
   ]
  },
  {
   "cell_type": "code",
   "execution_count": 99,
   "metadata": {},
   "outputs": [],
   "source": [
    "df['District'] = df['District'].fillna('Unavailable')"
   ]
  },
  {
   "cell_type": "code",
   "execution_count": 100,
   "metadata": {},
   "outputs": [
    {
     "output_type": "execute_result",
     "data": {
      "text/plain": [
       "School                     0\n",
       "Score                      0\n",
       "Rating                     0\n",
       "Address                    0\n",
       "Type                       0\n",
       "                          ..\n",
       "Total Students Enrolled    0\n",
       "Students per teacher       0\n",
       "District                   0\n",
       "City                       0\n",
       "State                      0\n",
       "Length: 11, dtype: int64"
      ]
     },
     "metadata": {},
     "execution_count": 100
    }
   ],
   "source": [
    "df.isna().sum()"
   ]
  },
  {
   "source": [
    "## Cleaning Extra Spaces"
   ],
   "cell_type": "markdown",
   "metadata": {}
  },
  {
   "cell_type": "code",
   "execution_count": 101,
   "metadata": {},
   "outputs": [],
   "source": [
    "df['School'] = df['School'].str.strip()\n",
    "df['Score'] = df['Score'].str.strip()\n",
    "df['Rating'] = df['Rating'].str.strip()\n",
    "df['Address'] = df['Address'].str.strip()\n",
    "df['Type'] = df['Type'].str.strip()\n",
    "df['Grades'] = df['Grades'].str.strip()\n",
    "df['Students per teacher'] = df['Students per teacher'].str.strip()\n",
    "df['District'] = df['District'].str.strip()"
   ]
  },
  {
   "cell_type": "code",
   "execution_count": 102,
   "metadata": {},
   "outputs": [],
   "source": [
    "df.to_csv('schools_cleaned.csv', index = False)"
   ]
  },
  {
   "cell_type": "code",
   "execution_count": 103,
   "metadata": {},
   "outputs": [
    {
     "output_type": "execute_result",
     "data": {
      "text/plain": [
       "                                School  Score         Rating  \\\n",
       "0      Akron Early College High School  10/10      Top rated   \n",
       "1                 Revere Middle School   9/10  Above average   \n",
       "2  Arrowhead Primary Elementary School   8/10  Above average   \n",
       "3             Manchester Middle School   8/10  Above average   \n",
       "4             Nolley Elementary School   8/10  Above average   \n",
       "\n",
       "                                    Address             Type Grades  \\\n",
       "0    225 South Main Street, Akron, OH 44308  Public district   9-12   \n",
       "1  3195 Spring Valley Road, Akron, OH 44333  Public district    6-8   \n",
       "2   1600 Raleigh Boulevard, Akron, OH 44321  Public district    K-4   \n",
       "3   760 West Nimisila Road, Akron, OH 44319  Public district    5-8   \n",
       "4        6285 Renninger Rd, Akron, OH 44319  Public district    K-4   \n",
       "\n",
       "   Total Students Enrolled Students per teacher  \\\n",
       "0                    384.0                 34:1   \n",
       "1                    624.0                 13:1   \n",
       "2                    345.0                 20:1   \n",
       "3                    387.0                 16:1   \n",
       "4                    483.0                 17:1   \n",
       "\n",
       "                               District   City State  \n",
       "0            Akron City School District  Akron    OH  \n",
       "1          Revere Local School District  Akron    OH  \n",
       "2  Copley-Fairlawn City School District  Akron    OH  \n",
       "3      Manchester Local School District  Akron    OH  \n",
       "4      Manchester Local School District  Akron    OH  "
      ],
      "text/html": "<div>\n<style scoped>\n    .dataframe tbody tr th:only-of-type {\n        vertical-align: middle;\n    }\n\n    .dataframe tbody tr th {\n        vertical-align: top;\n    }\n\n    .dataframe thead th {\n        text-align: right;\n    }\n</style>\n<table border=\"1\" class=\"dataframe\">\n  <thead>\n    <tr style=\"text-align: right;\">\n      <th></th>\n      <th>School</th>\n      <th>Score</th>\n      <th>Rating</th>\n      <th>Address</th>\n      <th>Type</th>\n      <th>Grades</th>\n      <th>Total Students Enrolled</th>\n      <th>Students per teacher</th>\n      <th>District</th>\n      <th>City</th>\n      <th>State</th>\n    </tr>\n  </thead>\n  <tbody>\n    <tr>\n      <th>0</th>\n      <td>Akron Early College High School</td>\n      <td>10/10</td>\n      <td>Top rated</td>\n      <td>225 South Main Street, Akron, OH 44308</td>\n      <td>Public district</td>\n      <td>9-12</td>\n      <td>384.0</td>\n      <td>34:1</td>\n      <td>Akron City School District</td>\n      <td>Akron</td>\n      <td>OH</td>\n    </tr>\n    <tr>\n      <th>1</th>\n      <td>Revere Middle School</td>\n      <td>9/10</td>\n      <td>Above average</td>\n      <td>3195 Spring Valley Road, Akron, OH 44333</td>\n      <td>Public district</td>\n      <td>6-8</td>\n      <td>624.0</td>\n      <td>13:1</td>\n      <td>Revere Local School District</td>\n      <td>Akron</td>\n      <td>OH</td>\n    </tr>\n    <tr>\n      <th>2</th>\n      <td>Arrowhead Primary Elementary School</td>\n      <td>8/10</td>\n      <td>Above average</td>\n      <td>1600 Raleigh Boulevard, Akron, OH 44321</td>\n      <td>Public district</td>\n      <td>K-4</td>\n      <td>345.0</td>\n      <td>20:1</td>\n      <td>Copley-Fairlawn City School District</td>\n      <td>Akron</td>\n      <td>OH</td>\n    </tr>\n    <tr>\n      <th>3</th>\n      <td>Manchester Middle School</td>\n      <td>8/10</td>\n      <td>Above average</td>\n      <td>760 West Nimisila Road, Akron, OH 44319</td>\n      <td>Public district</td>\n      <td>5-8</td>\n      <td>387.0</td>\n      <td>16:1</td>\n      <td>Manchester Local School District</td>\n      <td>Akron</td>\n      <td>OH</td>\n    </tr>\n    <tr>\n      <th>4</th>\n      <td>Nolley Elementary School</td>\n      <td>8/10</td>\n      <td>Above average</td>\n      <td>6285 Renninger Rd, Akron, OH 44319</td>\n      <td>Public district</td>\n      <td>K-4</td>\n      <td>483.0</td>\n      <td>17:1</td>\n      <td>Manchester Local School District</td>\n      <td>Akron</td>\n      <td>OH</td>\n    </tr>\n  </tbody>\n</table>\n</div>"
     },
     "metadata": {},
     "execution_count": 103
    }
   ],
   "source": [
    "df.head()"
   ]
  },
  {
   "source": [
    "### Separating into PK, K, Elementary, Middle, High School\n",
    "- https://stackoverflow.com/questions/61877712/check-if-an-item-in-a-list-is-available-in-a-column-which-is-of-type-list"
   ],
   "cell_type": "markdown",
   "metadata": {}
  },
  {
   "cell_type": "code",
   "execution_count": 104,
   "metadata": {},
   "outputs": [],
   "source": [
    "import pandas as pd"
   ]
  },
  {
   "cell_type": "code",
   "execution_count": 105,
   "metadata": {},
   "outputs": [],
   "source": [
    "df = pd.read_csv('schools_cleaned.csv')"
   ]
  },
  {
   "cell_type": "code",
   "execution_count": 106,
   "metadata": {},
   "outputs": [
    {
     "output_type": "stream",
     "name": "stdout",
     "text": [
      "(58779, 11)\n"
     ]
    }
   ],
   "source": [
    "print(df.shape)"
   ]
  },
  {
   "cell_type": "code",
   "execution_count": 107,
   "metadata": {},
   "outputs": [],
   "source": [
    "def parse_grades(grades_string):\n",
    "    GRADES = ['PK', 'K', '1', '2', '3', '4', '5', '6', '7', '8', '9', '10', '11', '12', 'Ungraded']\n",
    "\n",
    "    # Remove & for grades list\n",
    "    grades_string = grades_string.replace(' &', ',')\n",
    "\n",
    "    # Grades list - will add to separated grade string to grades\n",
    "    grades = []\n",
    "\n",
    "    # split strings based on ','\n",
    "    string_list = grades_string.split(',')\n",
    "\n",
    "    # look for sections of list with '-'\n",
    "    dash = \"-\"\n",
    "    for i in range(len(string_list)):\n",
    "        clean_string = string_list[i].strip()\n",
    "        if dash in clean_string:\n",
    "            #  split using '-', loop and add to grades variable\n",
    "            start_grade, end_grade = clean_string.split(dash)\n",
    "            grades += GRADES[GRADES.index(start_grade) : GRADES.index(end_grade)+ 1]\n",
    "        else:\n",
    "            # add string to grades\n",
    "            grades.append(clean_string)\n",
    "\n",
    "    return grades"
   ]
  },
  {
   "cell_type": "code",
   "execution_count": 108,
   "metadata": {},
   "outputs": [
    {
     "output_type": "stream",
     "name": "stdout",
     "text": [
      "302\n"
     ]
    }
   ],
   "source": [
    "print(df['Grades'].nunique())\n",
    "unique_grades_combination  = df['Grades'].unique()"
   ]
  },
  {
   "cell_type": "code",
   "execution_count": 109,
   "metadata": {},
   "outputs": [],
   "source": [
    "def test_complete_dataset(unique_grades_combination):\n",
    "    # create a loop that goes thru dataset and invoke parse_grades with each element\n",
    "    separated_grades_list = []\n",
    "    for i in unique_grades_combination:\n",
    "        separated_grades_list.append(parse_grades(i))\n",
    "\n",
    "    dictionary_grade_list = dict(zip(unique_grades_combination, separated_grades_list))\n",
    "\n",
    "    return dictionary_grade_list"
   ]
  },
  {
   "cell_type": "code",
   "execution_count": 110,
   "metadata": {},
   "outputs": [],
   "source": [
    "dictionary = test_complete_dataset(unique_grades_combination)"
   ]
  },
  {
   "cell_type": "code",
   "execution_count": 111,
   "metadata": {},
   "outputs": [],
   "source": [
    "df['Clean_Grades'] = df['Grades'].map(dictionary)"
   ]
  },
  {
   "cell_type": "code",
   "execution_count": 112,
   "metadata": {},
   "outputs": [],
   "source": [
    "high_school = ['9', '10', '11', '12']\n",
    "middle_school = ['6', '7', '8']\n",
    "elementary = ['K', '1', '2', '3', '4', '5']\n",
    "pre_k = ['PK']"
   ]
  },
  {
   "cell_type": "code",
   "execution_count": 113,
   "metadata": {},
   "outputs": [],
   "source": [
    "set1 = set(high_school)\n",
    "df['High School (9-12)'] = [set1.issubset(set(row)) for row in df.Clean_Grades]"
   ]
  },
  {
   "cell_type": "code",
   "execution_count": 114,
   "metadata": {},
   "outputs": [],
   "source": [
    "set2 = set(middle_school)\n",
    "df['Middle School (6-8)'] = [set2.issubset(set(row)) for row in df.Clean_Grades]"
   ]
  },
  {
   "cell_type": "code",
   "execution_count": 115,
   "metadata": {},
   "outputs": [],
   "source": [
    "set3 = set(elementary)\n",
    "df['Elementary (K-5)'] = [set3.issubset(set(row)) for row in df.Clean_Grades]"
   ]
  },
  {
   "source": [
    "set4 = set(pre_k)\n",
    "df['Pre-Kindergarten (PK)'] = [set4.issubset(set(row)) for row in df.Clean_Grades]"
   ],
   "cell_type": "code",
   "metadata": {},
   "execution_count": 116,
   "outputs": []
  },
  {
   "cell_type": "code",
   "execution_count": 117,
   "metadata": {},
   "outputs": [],
   "source": [
    "df[['High School (9-12)', 'Middle School (6-8)', 'Elementary (K-5)', 'Pre-Kindergarten (PK)']] = df[['High School (9-12)', 'Middle School (6-8)', 'Elementary (K-5)', 'Pre-Kindergarten (PK)']] * 1"
   ]
  },
  {
   "cell_type": "code",
   "execution_count": 118,
   "metadata": {},
   "outputs": [],
   "source": [
    "df['Grades'] = df['Grades'].str.replace(' & Ungraded', '')\n",
    "df = df.drop(columns = ['Clean_Grades'])"
   ]
  },
  {
   "cell_type": "code",
   "execution_count": 119,
   "metadata": {},
   "outputs": [
    {
     "output_type": "execute_result",
     "data": {
      "text/plain": [
       "                                School  Score         Rating  \\\n",
       "0      Akron Early College High School  10/10      Top rated   \n",
       "1                 Revere Middle School   9/10  Above average   \n",
       "2  Arrowhead Primary Elementary School   8/10  Above average   \n",
       "3             Manchester Middle School   8/10  Above average   \n",
       "4             Nolley Elementary School   8/10  Above average   \n",
       "\n",
       "                                    Address             Type Grades  \\\n",
       "0    225 South Main Street, Akron, OH 44308  Public district   9-12   \n",
       "1  3195 Spring Valley Road, Akron, OH 44333  Public district    6-8   \n",
       "2   1600 Raleigh Boulevard, Akron, OH 44321  Public district    K-4   \n",
       "3   760 West Nimisila Road, Akron, OH 44319  Public district    5-8   \n",
       "4        6285 Renninger Rd, Akron, OH 44319  Public district    K-4   \n",
       "\n",
       "   Total Students Enrolled Students per teacher  \\\n",
       "0                    384.0                 34:1   \n",
       "1                    624.0                 13:1   \n",
       "2                    345.0                 20:1   \n",
       "3                    387.0                 16:1   \n",
       "4                    483.0                 17:1   \n",
       "\n",
       "                               District   City State  High School (9-12)  \\\n",
       "0            Akron City School District  Akron    OH                   1   \n",
       "1          Revere Local School District  Akron    OH                   0   \n",
       "2  Copley-Fairlawn City School District  Akron    OH                   0   \n",
       "3      Manchester Local School District  Akron    OH                   0   \n",
       "4      Manchester Local School District  Akron    OH                   0   \n",
       "\n",
       "   Middle School (6-8)  Elementary (K-5)  Pre-Kindergarten (PK)  \n",
       "0                    0                 0                      0  \n",
       "1                    1                 0                      0  \n",
       "2                    0                 0                      0  \n",
       "3                    1                 0                      0  \n",
       "4                    0                 0                      0  "
      ],
      "text/html": "<div>\n<style scoped>\n    .dataframe tbody tr th:only-of-type {\n        vertical-align: middle;\n    }\n\n    .dataframe tbody tr th {\n        vertical-align: top;\n    }\n\n    .dataframe thead th {\n        text-align: right;\n    }\n</style>\n<table border=\"1\" class=\"dataframe\">\n  <thead>\n    <tr style=\"text-align: right;\">\n      <th></th>\n      <th>School</th>\n      <th>Score</th>\n      <th>Rating</th>\n      <th>Address</th>\n      <th>Type</th>\n      <th>Grades</th>\n      <th>Total Students Enrolled</th>\n      <th>Students per teacher</th>\n      <th>District</th>\n      <th>City</th>\n      <th>State</th>\n      <th>High School (9-12)</th>\n      <th>Middle School (6-8)</th>\n      <th>Elementary (K-5)</th>\n      <th>Pre-Kindergarten (PK)</th>\n    </tr>\n  </thead>\n  <tbody>\n    <tr>\n      <th>0</th>\n      <td>Akron Early College High School</td>\n      <td>10/10</td>\n      <td>Top rated</td>\n      <td>225 South Main Street, Akron, OH 44308</td>\n      <td>Public district</td>\n      <td>9-12</td>\n      <td>384.0</td>\n      <td>34:1</td>\n      <td>Akron City School District</td>\n      <td>Akron</td>\n      <td>OH</td>\n      <td>1</td>\n      <td>0</td>\n      <td>0</td>\n      <td>0</td>\n    </tr>\n    <tr>\n      <th>1</th>\n      <td>Revere Middle School</td>\n      <td>9/10</td>\n      <td>Above average</td>\n      <td>3195 Spring Valley Road, Akron, OH 44333</td>\n      <td>Public district</td>\n      <td>6-8</td>\n      <td>624.0</td>\n      <td>13:1</td>\n      <td>Revere Local School District</td>\n      <td>Akron</td>\n      <td>OH</td>\n      <td>0</td>\n      <td>1</td>\n      <td>0</td>\n      <td>0</td>\n    </tr>\n    <tr>\n      <th>2</th>\n      <td>Arrowhead Primary Elementary School</td>\n      <td>8/10</td>\n      <td>Above average</td>\n      <td>1600 Raleigh Boulevard, Akron, OH 44321</td>\n      <td>Public district</td>\n      <td>K-4</td>\n      <td>345.0</td>\n      <td>20:1</td>\n      <td>Copley-Fairlawn City School District</td>\n      <td>Akron</td>\n      <td>OH</td>\n      <td>0</td>\n      <td>0</td>\n      <td>0</td>\n      <td>0</td>\n    </tr>\n    <tr>\n      <th>3</th>\n      <td>Manchester Middle School</td>\n      <td>8/10</td>\n      <td>Above average</td>\n      <td>760 West Nimisila Road, Akron, OH 44319</td>\n      <td>Public district</td>\n      <td>5-8</td>\n      <td>387.0</td>\n      <td>16:1</td>\n      <td>Manchester Local School District</td>\n      <td>Akron</td>\n      <td>OH</td>\n      <td>0</td>\n      <td>1</td>\n      <td>0</td>\n      <td>0</td>\n    </tr>\n    <tr>\n      <th>4</th>\n      <td>Nolley Elementary School</td>\n      <td>8/10</td>\n      <td>Above average</td>\n      <td>6285 Renninger Rd, Akron, OH 44319</td>\n      <td>Public district</td>\n      <td>K-4</td>\n      <td>483.0</td>\n      <td>17:1</td>\n      <td>Manchester Local School District</td>\n      <td>Akron</td>\n      <td>OH</td>\n      <td>0</td>\n      <td>0</td>\n      <td>0</td>\n      <td>0</td>\n    </tr>\n  </tbody>\n</table>\n</div>"
     },
     "metadata": {},
     "execution_count": 119
    }
   ],
   "source": [
    "df.head()"
   ]
  },
  {
   "cell_type": "code",
   "execution_count": 120,
   "metadata": {},
   "outputs": [],
   "source": [
    "df.to_csv('schools_cleaned.csv', index = False)"
   ]
  },
  {
   "source": [
    "### Update School['Scores']\n",
    "- change to int so data can be sorted by the value"
   ],
   "cell_type": "markdown",
   "metadata": {}
  },
  {
   "cell_type": "code",
   "execution_count": 1,
   "metadata": {},
   "outputs": [
    {
     "output_type": "stream",
     "name": "stderr",
     "text": [
      "/Users/jisha/.pyenv/versions/3.8.6/lib/python3.8/site-packages/pandas/compat/__init__.py:120: UserWarning: Could not import the lzma module. Your installed Python is incomplete. Attempting to use lzma compression will result in a RuntimeError.\n  warnings.warn(msg)\n"
     ]
    }
   ],
   "source": [
    "import pandas as pd\n",
    "school = pd.read_csv('schools_cleaned.csv')"
   ]
  },
  {
   "cell_type": "code",
   "execution_count": 2,
   "metadata": {},
   "outputs": [],
   "source": [
    "school['Score'] = school['Score'].str.replace('/10', '')\n",
    "school['Score'] = school['Score'].astype(int)"
   ]
  },
  {
   "cell_type": "code",
   "execution_count": 3,
   "metadata": {},
   "outputs": [],
   "source": [
    "school.to_csv('schools_cleaned.csv', index = False)"
   ]
  },
  {
   "cell_type": "code",
   "execution_count": null,
   "metadata": {},
   "outputs": [],
   "source": []
  }
 ]
}