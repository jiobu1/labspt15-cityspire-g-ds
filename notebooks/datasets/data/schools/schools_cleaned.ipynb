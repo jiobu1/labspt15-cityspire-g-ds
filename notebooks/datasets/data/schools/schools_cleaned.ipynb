{
 "metadata": {
  "language_info": {
   "codemirror_mode": {
    "name": "ipython",
    "version": 3
   },
   "file_extension": ".py",
   "mimetype": "text/x-python",
   "name": "python",
   "nbconvert_exporter": "python",
   "pygments_lexer": "ipython3",
   "version": "3.8.6"
  },
  "orig_nbformat": 2,
  "kernelspec": {
   "name": "python386jvsc74a57bd02419ad2920cdc1fadb8f0ae6c1b14e969f8d411f4ecfa904fb0f4ff9d9e2f541",
   "display_name": "Python 3.8.6 64-bit ('3.8.6': pyenv)"
  }
 },
 "nbformat": 4,
 "nbformat_minor": 2,
 "cells": [
  {
   "source": [
    "## Clean Schools.csv\n",
    "1. Split address column\n",
    "2. Look at length - this displays discrepancies in addresses (looking for lengths 1, 3, 4)\n",
    "3. Create a city and state column - consistency with other data\n",
    "4. Create columns for schools categories - pk, k, elementary, middle, and high school\n",
    "5. Make score column an int"
   ],
   "cell_type": "markdown",
   "metadata": {}
  },
  {
   "cell_type": "code",
   "execution_count": 1,
   "metadata": {},
   "outputs": [
    {
     "output_type": "stream",
     "name": "stderr",
     "text": [
      "/Users/jisha/.pyenv/versions/3.8.6/lib/python3.8/site-packages/pandas/compat/__init__.py:120: UserWarning: Could not import the lzma module. Your installed Python is incomplete. Attempting to use lzma compression will result in a RuntimeError.\n  warnings.warn(msg)\n"
     ]
    }
   ],
   "source": [
    "import pandas as pd\n",
    "pd.set_option('display.max_colwidth', None)\n",
    "pd.set_option('display.max_rows', 10)"
   ]
  },
  {
   "cell_type": "code",
   "execution_count": 2,
   "metadata": {},
   "outputs": [],
   "source": [
    "df = pd.read_csv('csv/schools.csv')"
   ]
  },
  {
   "cell_type": "code",
   "execution_count": 3,
   "metadata": {},
   "outputs": [
    {
     "output_type": "stream",
     "name": "stdout",
     "text": [
      "(58782, 10)\n"
     ]
    },
    {
     "output_type": "execute_result",
     "data": {
      "text/plain": [
       "   Unnamed: 0                               School  Score         Rating  \\\n",
       "0           0      Akron Early College High School  10/10      Top rated   \n",
       "1           1                 Revere Middle School   9/10  Above average   \n",
       "2           2  Arrowhead Primary Elementary School   8/10  Above average   \n",
       "3           3             Manchester Middle School   8/10  Above average   \n",
       "4           4             Nolley Elementary School   8/10  Above average   \n",
       "\n",
       "                                     Address             Type Grades  \\\n",
       "0    225 South Main Street, Akron, OH, 44308  Public district   9-12   \n",
       "1  3195 Spring Valley Road, Akron, OH, 44333  Public district    6-8   \n",
       "2   1600 Raleigh Boulevard, Akron, OH, 44321  Public district    K-4   \n",
       "3   760 West Nimisila Road, Akron, OH, 44319  Public district    5-8   \n",
       "4        6285 Renninger Rd, Akron, OH, 44319  Public district    K-4   \n",
       "\n",
       "   Total Students Enrolled Students per teacher  \\\n",
       "0                    384.0                 34:1   \n",
       "1                    624.0                 13:1   \n",
       "2                    345.0                 20:1   \n",
       "3                    387.0                 16:1   \n",
       "4                    483.0                 17:1   \n",
       "\n",
       "                               District  \n",
       "0            Akron City School District  \n",
       "1          Revere Local School District  \n",
       "2  Copley-Fairlawn City School District  \n",
       "3      Manchester Local School District  \n",
       "4      Manchester Local School District  "
      ],
      "text/html": "<div>\n<style scoped>\n    .dataframe tbody tr th:only-of-type {\n        vertical-align: middle;\n    }\n\n    .dataframe tbody tr th {\n        vertical-align: top;\n    }\n\n    .dataframe thead th {\n        text-align: right;\n    }\n</style>\n<table border=\"1\" class=\"dataframe\">\n  <thead>\n    <tr style=\"text-align: right;\">\n      <th></th>\n      <th>Unnamed: 0</th>\n      <th>School</th>\n      <th>Score</th>\n      <th>Rating</th>\n      <th>Address</th>\n      <th>Type</th>\n      <th>Grades</th>\n      <th>Total Students Enrolled</th>\n      <th>Students per teacher</th>\n      <th>District</th>\n    </tr>\n  </thead>\n  <tbody>\n    <tr>\n      <th>0</th>\n      <td>0</td>\n      <td>Akron Early College High School</td>\n      <td>10/10</td>\n      <td>Top rated</td>\n      <td>225 South Main Street, Akron, OH, 44308</td>\n      <td>Public district</td>\n      <td>9-12</td>\n      <td>384.0</td>\n      <td>34:1</td>\n      <td>Akron City School District</td>\n    </tr>\n    <tr>\n      <th>1</th>\n      <td>1</td>\n      <td>Revere Middle School</td>\n      <td>9/10</td>\n      <td>Above average</td>\n      <td>3195 Spring Valley Road, Akron, OH, 44333</td>\n      <td>Public district</td>\n      <td>6-8</td>\n      <td>624.0</td>\n      <td>13:1</td>\n      <td>Revere Local School District</td>\n    </tr>\n    <tr>\n      <th>2</th>\n      <td>2</td>\n      <td>Arrowhead Primary Elementary School</td>\n      <td>8/10</td>\n      <td>Above average</td>\n      <td>1600 Raleigh Boulevard, Akron, OH, 44321</td>\n      <td>Public district</td>\n      <td>K-4</td>\n      <td>345.0</td>\n      <td>20:1</td>\n      <td>Copley-Fairlawn City School District</td>\n    </tr>\n    <tr>\n      <th>3</th>\n      <td>3</td>\n      <td>Manchester Middle School</td>\n      <td>8/10</td>\n      <td>Above average</td>\n      <td>760 West Nimisila Road, Akron, OH, 44319</td>\n      <td>Public district</td>\n      <td>5-8</td>\n      <td>387.0</td>\n      <td>16:1</td>\n      <td>Manchester Local School District</td>\n    </tr>\n    <tr>\n      <th>4</th>\n      <td>4</td>\n      <td>Nolley Elementary School</td>\n      <td>8/10</td>\n      <td>Above average</td>\n      <td>6285 Renninger Rd, Akron, OH, 44319</td>\n      <td>Public district</td>\n      <td>K-4</td>\n      <td>483.0</td>\n      <td>17:1</td>\n      <td>Manchester Local School District</td>\n    </tr>\n  </tbody>\n</table>\n</div>"
     },
     "metadata": {},
     "execution_count": 3
    }
   ],
   "source": [
    "print(df.shape)\n",
    "df.head()"
   ]
  },
  {
   "source": [
    "## 1. Split Address Column"
   ],
   "cell_type": "markdown",
   "metadata": {}
  },
  {
   "cell_type": "code",
   "execution_count": 4,
   "metadata": {},
   "outputs": [],
   "source": [
    "df['City, State']  = df['Address'].str.split(',')"
   ]
  },
  {
   "source": [
    "## 2. Create lengths to find discrepancies in 'Address' column\n"
   ],
   "cell_type": "markdown",
   "metadata": {}
  },
  {
   "cell_type": "code",
   "execution_count": 5,
   "metadata": {},
   "outputs": [
    {
     "output_type": "execute_result",
     "data": {
      "text/plain": [
       "array([4, 5, 6, 7, 1])"
      ]
     },
     "metadata": {},
     "execution_count": 5
    }
   ],
   "source": [
    "# Finding length because there are anomalies with the information in the address column\n",
    "df['Length'] = df['City, State'].apply(lambda x: len(x) if x != None else 0 )\n",
    "# 4 is the expected length \n",
    "df['Length'].unique()"
   ]
  },
  {
   "source": [
    "## Cleaning"
   ],
   "cell_type": "markdown",
   "metadata": {}
  },
  {
   "cell_type": "code",
   "execution_count": null,
   "metadata": {},
   "outputs": [],
   "source": [
    "df['Address'] = df['Address'].str.replace('2100 Morse Road, Suite 4609, Columbus, OH 43229, Columbus, OH, 43211', '2100 Morse Road, Suite 4609, Columbus, OH 43229')\n",
    "df['Address'] = df['Address'].str.replace('2501 Syracuse Street, Denver, Colorado, 80238, Denver, CO, 80238', '2501 Syracuse Street, Denver, Colorado, 80238')\n",
    "df['Address'] = df['Address'].str.replace('1018 Harding Street, Suite 112, Lafayette, La 70503, Lafayette, LA, 70507', '1018 Harding Street, Suite 112, Lafayette, LA 70503')\n",
    "df['Address'] = df['Address'].str.replace('4450 West Eau Gallie Boulevard, Suite 180, Melbourne, FL 32934, Melbourne, FL, 32934', '4450 West Eau Gallie Boulevard, Suite 180, Melbourne, FL 32934')\n",
    "df['Address'] = df['Address'].str.replace('4530 MacArthur Blvd, NW, Washington, DC, Washington, DC, 20007', '4530 MacArthur Blvd, NW, Washington, DC, 20007')\n",
    "df['Address'] = df['Address'].str.replace('1075 New Scotland Road, Albany NY 12208, Albany, NY, 12208', '1075 New Scotland Road, Albany NY 12208')\n",
    "df['Address'] = df['Address'].str.replace('216 Shelburne Road Asheville, NC 28806, Asheville, NC, 28806', '216 Shelburne Road, Asheville, NC 28806')\n",
    "df['Address'] = df['Address'].str.replace('26450 RR 12 Dripping Springs, TX 78620, Austin, TX, 78736', '26450 RR 12, Dripping Springs, TX 78620')\n",
    "df['Address'] = df['Address'].str.replace('NE Stoneridge Loop, Prineville OR 97754, Bend, OR, 97702', 'NE Stoneridge Loop, Prineville OR 97754')\n",
    "df['Address'] = df['Address'].str.replace('5225 - Seventy seven Center Dr, Charlotte NC 28217, Charlotte, NC, 28217', '5225 77 Center Dr, Charlotte, NC 28217')\n",
    "df['Address'] = df['Address'].str.replace('3375 W. 99th Street Cleveland, OH 44102, Cleveland, OH, 44111', '3375 W. 99th Street, Cleveland, OH 44102')\n",
    "df['Address'] = df['Address'].str.replace('21 Broadmoor Avenue Colorado Springs, CO 80906, Colorado Springs, CO, 80906', '21 Broadmoor Avenue, Colorado Springs, CO 80906')\n",
    "df['Address'] = df['Address'].str.replace('220 Stoneridge Drive Suite 403 Columbia, SC 29210 , Columbia, SC, 29210', '220 Stoneridge Drive, Suite 403, Columbia, SC 29210')\n",
    "df['Address'] = df['Address'].str.replace('2247 South Ridgewood South Daytona, Florida 32119, Daytona Beach, FL, 32117', '2247 South Ridgewood, South Daytona, FL 32119')\n",
    "df['Address'] = df['Address'].str.replace('7005 Woodbine Ave Sacramento, Ca. 95822, Fairfield, CA, 94534', '7005 Woodbine Ave, Sacramento, CA 95822')\n",
    "df['Address'] = df['Address'].str.replace('4424 Innovation Drive Fort Collins, Colorado 80525, Fort Collins, CO, 80525', '4424 Innovation Drive, Fort Collins, CO 80525')\n",
    "df['Address'] = df['Address'].str.replace('5300 El Camino Road Las Vegas, NV 89118, Henderson, NV, 89014', '5300 El Camino Road, Las Vegas, NV 89118')\n",
    "df['Address'] = df['Address'].str.replace('9039 Beach Blvd Jacksonville, FL 32216, Jacksonville, FL, 32207', '9039 Beach Blvd, Jacksonville, FL 32216')\n",
    "df['Address'] = df['Address'].str.replace('390 New Holland Pike, Lancaster PA 17601, Lancaster, PA, 17601', '390 New Holland Pike, Lancaster PA 17601')\n",
    "df['Address'] = df['Address'].str.replace('4801. S. Sandhill Drive LV, NV 89121, Las Vegas, NV, 89123', '4801. S. Sandhill Drive, Las Vegas, NV, 89123')\n",
    "df['Address'] = df['Address'].str.replace('2727 Stinson Blvd. NE Minneapolis, MN 55418, Minneapolis, MN, 55418', '2727 Stinson Blvd. NE, Minneapolis, MN, 55418')\n",
    "df['Address'] = df['Address'].str.replace('3000 53rd St SW Naples, FL 34116, Naples, FL, 34116', '3000 53rd St SW, Naples, FL 34116')\n",
    "df['Address'] = df['Address'].str.replace('177 W Klein Rd. New Braunfels, TX 78130, New Braunfels, TX, 78130', '177 W Klein Rd., New Braunfels, TX 78130')\n",
    "df['Address'] = df['Address'].str.replace('500 Soraparu St. New Orleans, La 70130, New Orleans, LA, 70130', '500 Soraparu St., New Orleans, LA 70130')\n",
    "df['Address'] = df['Address'].str.replace('2162 Mountain Blvd, Oakland CA 94611, Oakland, CA, 94605', '2162 Mountain Blvd, Oakland CA 94611')\n",
    "df['Address'] = df['Address'].str.replace('13231 N. 22nd St. Phoenix, AZ 85022, Phoenix, AZ, 85028', '13231 N. 22nd St., Phoenix, AZ 85022')\n",
    "df['Address'] = df['Address'].str.replace('14124 SE Mill St, Portland OR 97233, Portland, OR, 97266', '14124 SE Mill St, Portland OR 97233')\n",
    "df['Address'] = df['Address'].str.replace('555 Double Eagle Ct. Suite 2000 Reno, NV 89521 , Reno, NV, 89521', '555 Double Eagle Ct., Suite 2000, Reno, NV 89521')\n",
    "df['Address'] = df['Address'].str.replace('3422 Rustin Ave Riverside, CA 92507, Riverside, CA, 92504', '3422 Rustin Ave Riverside, CA 92507')\n",
    "df['Address'] = df['Address'].str.replace('2800 19th Stree NW Rochester, MN 55901, Rochester, MN, 55902', '2800 19th Stree NW, Rochester, MN 55901')\n",
    "df['Address'] = df['Address'].str.replace('9510 Carmel Mountain Road, San Diego CA 92129, San Diego, CA, 92129', '9510 Carmel Mountain Road, San Diego CA 92129')\n",
    "df['Address'] = df['Address'].str.replace('5531 Cancha De Golf Ste 202 Rancho Santa Fe, CA 92091, San Diego, CA, 92130', '5531 Cancha de Golf, Ste 202, Rancho, Santa Fe, CA 92091')\n",
    "df['Address'] = df['Address'].str.replace('6540 Flanders Drive. San Diego, CA 92121, San Diego, CA, 92127', '6540 Flanders Drive., San Diego, CA 92121')\n",
    "df['Address'] = df['Address'].str.replace('725 Washington St. Santa Clara, Ca 95050, Santa Clara, CA, 95050', '725 Washington St., Santa Clara, CA, 95050')\n",
    "df['Address'] = df['Address'].str.replace('6715 S Boe Lane Sioux Falls, SD 57108, Sioux Falls, SD, 57105', '6715 S Boe Lane, Sioux Falls, SD 57108')\n",
    "df['Address'] = df['Address'].str.replace('8740 Asheville Hwy Spartanburg, S.C. 29316, Spartanburg, SC, 29316', '8740 Asheville Hwy, Spartanburg, SC 29316')\n",
    "df['Address'] = df['Address'].str.replace('12611 N. Wilson St. Mead, WA 99021, Spokane, WA, 99218', '12611 N. Wilson St., Mead, WA 99021')\n",
    "df['Address'] = df['Address'].str.replace('1450 Newfield Avenue Stamford, CT 06905, Stamford, CT, 06905', '1450 Newfield Avenue, Stamford, CT 06905')\n",
    "df['Address'] = df['Address'].str.replace('2525 Gold Brook Dr Stockton, CA 95212, Stockton, CA, 95212', '2525 Gold Brook Dr, Stockton, CA 95212')\n",
    "df['Address'] = df['Address'].str.replace('1112 North G Street | Tacoma, WA 98403, Tacoma, WA, 98403', '1112 North G Street, Tacoma, WA 98403')\n",
    "df['Address'] = df['Address'].str.replace('1250 Erbes Rd. Thousand Oaks, CA 91362, Thousand Oaks, CA, 91302', '1250 Erbes Rd., Thousand Oaks, CA 91362')\n",
    "df['Address'] = df['Address'].str.replace('3201 N. Eastman Rd. Longview, TX 75605, Tyler, TX, 75799', '3201 N. Eastman Rd., Longview, TX 75605')\n",
    "df['Address'] = df['Address'].str.replace('St. Catherine of Siena School, 3460 Tennessee Street, Vallejo, CA, 94591', '3460 Tennessee Street, Vallejo, CA, 94591')\n",
    "df['Address'] = df['Address'].str.replace('1650 Godfrey Ave. Wyoming,Mi 49509 , Wyoming, MI, 49509', '1650 Godfrey Ave., Wyoming, MI 49509' )\n",
    "df['Address'] = df['Address'].str.replace('3422 Rustin Ave Riverside, CA 92507', '3422 Rustin Ave, Riverside, CA 92507')\n",
    "df['Address'] = df['Address'].str.replace('1018 Harding Street, Suite 112, Lafayette, La 70503, Lafayette, LA 70507', '1018 Harding Street, Suite 112, Lafayette, LA 70503') # 27205\n",
    "df['Address'] = df['Address'].str.replace('San Martin De Porres Clinic: Kallumadanda Vinnie MD Mission, TX 78572', 'San Martin De Porres Clinic: Kallumadanda Vinnie MD, Mission, TX 78572') # 33396\n",
    "df['Address'] = df['Address'].str.replace('Rockwood Plastic Surgery Center: Gardner Glenn P MD Spokane, WA 99204', 'Rockwood Plastic Surgery Center: Gardner Glenn P MD, Spokane, WA 99204' ) # 50841"
   ]
  },
  {
   "cell_type": "code",
   "execution_count": null,
   "metadata": {},
   "outputs": [],
   "source": [
    "df['Address'] = df['Address'].str.replace('  Cleveland, OH 44102, Cleveland, OH, 44111', ', Cleveland, OH 44102') # 10584\n",
    "df['Address'] = df['Address'].str.replace('  Columbia, SC 29210 , Columbia, SC, 29210', ', Columbia, SC 29210 ') # 11668\n",
    "df['Address'] = df['Address'].str.replace('  Las Vegas, NV 89118, Henderson, NV, 89014', ', Las Vegas, NV 89118' ) # 23334\n",
    "df['Address'] = df['Address'].str.replace('  Naples, FL 34116, Naples, FL, 34116', ', Naples, FL 34116') # 34536\n",
    "df['Address'] = df['Address'].str.replace('  Reno, NV 89521 , Reno, NV, 89521', ', Reno, NV 89521') # 42400\n",
    "df['Address'] = df['Address'].str.replace('  Spartanburg, S.C. 29316, Spartanburg, SC, 29316', ', Spartanburg, S.C. 29316')\n",
    "df['Address'] = df['Address'].str.replace('Lafayette, La 70503, Lafayette, LA 70507', 'Lafayette, LA 70503') # 27205"
   ]
  },
  {
   "cell_type": "code",
   "execution_count": null,
   "metadata": {},
   "outputs": [],
   "source": [
    "df['Address'] = df['Address'].str.replace('Washington, DC, Washington, DC,', 'Washington, DC ')\n",
    "df['Address'] = df['Address'].str.replace('New Orleans, LA, New Orleans, LA,', 'New Orleans, LA ')\n",
    "df['Address'] = df['Address'].str.replace('Albuquerque, NM, Albuquerque, NM,', 'Albuquerque, NM ' )\n",
    "df['Address'] = df['Address'].str.replace('Chelsea, MA, Boston, MA,', 'Chelsea, MA ' )\n",
    "df['Address'] = df['Address'].str.replace('Franklin, TN, Franklin, TN,', 'Franklin, TN ')\n",
    "df['Address'] = df['Address'].str.replace('Hales Corners, WI, Milwaukee, WI', 'Hales Corners, WI') # 50525\n",
    "df['Address'] = df['Address'].str.replace('Albany NY', 'Albany, NY' )\n",
    "df['Address'] = df['Address'].str.replace('Prineville OR', 'Prineville, OR')\n",
    "df['Address'] = df['Address'].str.replace('Lancaster PA', 'Lancaster, PA')\n",
    "df['Address'] = df['Address'].str.replace('Portland OR', 'Portland, OR')\n",
    "df['Address'] = df['Address'].str.replace('San Diego CA', 'San Diego, CA')"
   ]
  },
  {
   "cell_type": "code",
   "execution_count": null,
   "metadata": {},
   "outputs": [],
   "source": [
    "df['Address'] = df['Address'].str.replace('AL,', 'AL')\n",
    "df['Address'] = df['Address'].str.replace('AK,', 'AK')\n",
    "df['Address'] = df['Address'].str.replace('AR,', 'AR')\n",
    "df['Address'] = df['Address'].str.replace('AZ,', 'AZ')\n",
    "df['Address'] = df['Address'].str.replace('CA,', 'CA')\n",
    "df['Address'] = df['Address'].str.replace('CO,', 'CO')\n",
    "df['Address'] = df['Address'].str.replace('CT,', 'CT')\n",
    "df['Address'] = df['Address'].str.replace('DE,', 'DE')\n",
    "df['Address'] = df['Address'].str.replace('DC,', 'DC')\n",
    "df['Address'] = df['Address'].str.replace('FL,', 'FL')\n",
    "df['Address'] = df['Address'].str.replace('GA,', 'GA')\n",
    "df['Address'] = df['Address'].str.replace('HI,', 'HI')\n",
    "df['Address'] = df['Address'].str.replace('IA,', 'IA')\n",
    "df['Address'] = df['Address'].str.replace('ID,', 'ID')\n",
    "df['Address'] = df['Address'].str.replace('IL,', 'IL')\n",
    "df['Address'] = df['Address'].str.replace('IN,', 'IN')\n",
    "df['Address'] = df['Address'].str.replace('KS,', 'KS')\n",
    "df['Address'] = df['Address'].str.replace('KY,', 'KY')\n",
    "df['Address'] = df['Address'].str.replace('LA,', 'LA')\n",
    "df['Address'] = df['Address'].str.replace('MA,', 'MA')\n",
    "df['Address'] = df['Address'].str.replace('MD,', 'MD')\n",
    "df['Address'] = df['Address'].str.replace('ME,', 'ME')\n",
    "df['Address'] = df['Address'].str.replace('MI,', 'MI')\n",
    "df['Address'] = df['Address'].str.replace('MN,', 'MN')\n",
    "df['Address'] = df['Address'].str.replace('MO,', 'MO')\n",
    "df['Address'] = df['Address'].str.replace('MS,', 'MS')\n",
    "df['Address'] = df['Address'].str.replace('MT,', 'MT')\n",
    "df['Address'] = df['Address'].str.replace('NC,', 'NC')\n",
    "df['Address'] = df['Address'].str.replace('ND,', 'ND')\n",
    "df['Address'] = df['Address'].str.replace('NH,', 'NH')\n",
    "df['Address'] = df['Address'].str.replace('NJ,', 'NJ')\n",
    "df['Address'] = df['Address'].str.replace('NM,', 'NM')\n",
    "df['Address'] = df['Address'].str.replace('NV,', 'NV')\n",
    "df['Address'] = df['Address'].str.replace('NY,', 'NY')\n",
    "df['Address'] = df['Address'].str.replace('OH,', 'OH')\n",
    "df['Address'] = df['Address'].str.replace('OK,', 'OK')\n",
    "df['Address'] = df['Address'].str.replace('OR,', 'OR')\n",
    "df['Address'] = df['Address'].str.replace('PA,', 'PA')\n",
    "df['Address'] = df['Address'].str.replace('RI,', 'RI')\n",
    "df['Address'] = df['Address'].str.replace('SC,', 'SC')\n",
    "df['Address'] = df['Address'].str.replace('SD,', 'SD')\n",
    "df['Address'] = df['Address'].str.replace('TN,', 'TN')\n",
    "df['Address'] = df['Address'].str.replace('TX,', 'TX')\n",
    "df['Address'] = df['Address'].str.replace('UT,', 'UT')\n",
    "df['Address'] = df['Address'].str.replace('VA,', 'VA')\n",
    "df['Address'] = df['Address'].str.replace('VT,', 'VT')\n",
    "df['Address'] = df['Address'].str.replace('WA,', 'WA')\n",
    "df['Address'] = df['Address'].str.replace('WI,', 'WI')\n",
    "df['Address'] = df['Address'].str.replace('WV,', 'WV')\n",
    "df['Address'] = df['Address'].str.replace('WY,', 'WY')"
   ]
  },
  {
   "source": [
    "## Check - Recalculate Length"
   ],
   "cell_type": "markdown",
   "metadata": {}
  },
  {
   "cell_type": "code",
   "execution_count": null,
   "metadata": {},
   "outputs": [],
   "source": [
    "df = df.drop(columns = ['City, State', 'Length'])"
   ]
  },
  {
   "cell_type": "code",
   "execution_count": null,
   "metadata": {},
   "outputs": [],
   "source": [
    "df['City, State']  = df['Address'].str.split(',')"
   ]
  },
  {
   "cell_type": "code",
   "execution_count": null,
   "metadata": {},
   "outputs": [],
   "source": [
    "# Checking string lengths after cleaning\n",
    "df['Length'] = df['City, State'].apply(lambda x: len(x) if x != None else 0 )\n",
    "# 1, 3, 4 are the expected length \n",
    "df['Length'].unique()"
   ]
  },
  {
   "cell_type": "code",
   "execution_count": null,
   "metadata": {},
   "outputs": [],
   "source": [
    "df.loc[df['Length'] == 2]"
   ]
  },
  {
   "cell_type": "code",
   "execution_count": null,
   "metadata": {},
   "outputs": [],
   "source": [
    "df['Address'] = df['Address'].str.replace('600 PT PKWY Longview, TX 75604', '600 PT PKWY, Longview, TX 75604')\n",
    "df['Address'] = df['Address'].str.replace('San Martin De Porres Clinic: Kallumadanda Vinnie MD Mission, TX 78572', 'San Martin De Porres Clinic: Kallumadanda Vinnie MD, Mission, TX 78572')\n",
    "df['Address'] = df['Address'].str.replace('8800 WARREN H. ABERNATHY HWY Spartanburg, SC 29301', '8800 WARREN H. ABERNATHY HWY, Spartanburg, SC 29301')\n",
    "df['Address'] = df['Address'].str.replace('Rockwood Plastic Surgery Center: Gardner Glenn P MD Spokane, WA 99204', 'Rockwood Plastic Surgery Center: Gardner Glenn P MD, Spokane, WA 99204')"
   ]
  },
  {
   "source": [
    "## Check "
   ],
   "cell_type": "markdown",
   "metadata": {}
  },
  {
   "cell_type": "code",
   "execution_count": null,
   "metadata": {},
   "outputs": [],
   "source": [
    "df = df.drop(columns = ['City, State', 'Length'])"
   ]
  },
  {
   "cell_type": "code",
   "execution_count": null,
   "metadata": {},
   "outputs": [],
   "source": [
    "df['City, State']  = df['Address'].str.split(',')"
   ]
  },
  {
   "cell_type": "code",
   "execution_count": null,
   "metadata": {},
   "outputs": [],
   "source": [
    "# Checking string lengths after cleaning\n",
    "df['Length'] = df['City, State'].apply(lambda x: len(x) if x != None else 0 )\n",
    "# 1, 3, 4 are the expected length \n",
    "df['Length'].unique()"
   ]
  },
  {
   "source": [
    "## Create new dataframe with rows with lengths 5, 6, and a specific row"
   ],
   "cell_type": "markdown",
   "metadata": {}
  },
  {
   "source": [
    "### LENGTH 5"
   ],
   "cell_type": "markdown",
   "metadata": {}
  },
  {
   "cell_type": "code",
   "execution_count": null,
   "metadata": {},
   "outputs": [],
   "source": [
    "length_5 = df.loc[df['Length'] == 5]"
   ]
  },
  {
   "cell_type": "code",
   "execution_count": null,
   "metadata": {},
   "outputs": [],
   "source": [
    "length_5['City, State'] = length_5['City, State'].str[0:3]"
   ]
  },
  {
   "cell_type": "code",
   "execution_count": null,
   "metadata": {},
   "outputs": [],
   "source": [
    "length_5['Address'] = length_5['City, State'].str.join(',')"
   ]
  },
  {
   "cell_type": "code",
   "execution_count": null,
   "metadata": {},
   "outputs": [],
   "source": [
    "# Clean specific addr\n",
    "length_5['Address'] = length_5['Address'].str.replace('2950 East 29th Street, Long Beach, CA', '2950 E 29th St, Long Beach, CA 90806')\t\n",
    "length_5['Address'] = length_5['Address'].str.replace('2585 Business Park Drive, Vista, 92081', '2585 Business Park Dr, Vista, CA 92081')\n",
    "length_5['Address'] = length_5['Address'].str.replace('401 E Arrowood Rd, Charlotte, Nc', '401 E Arrowood Rd, Charlotte, NC 28217')"
   ]
  },
  {
   "cell_type": "code",
   "execution_count": null,
   "metadata": {},
   "outputs": [],
   "source": [
    "length_5 = length_5.drop(columns = ['City, State', 'Length'])"
   ]
  },
  {
   "cell_type": "code",
   "execution_count": null,
   "metadata": {},
   "outputs": [],
   "source": [
    "length_5['City, State']  = length_5['Address'].str.split(',')"
   ]
  },
  {
   "cell_type": "code",
   "execution_count": null,
   "metadata": {},
   "outputs": [],
   "source": [
    "# Checking string lengths after cleaning\n",
    "length_5['Length'] = length_5['City, State'].apply(lambda x: len(x) if x != None else 0 )\n",
    "# 1, 3, 4 are the expected length \n",
    "length_5['Length'].unique()"
   ]
  },
  {
   "cell_type": "code",
   "execution_count": null,
   "metadata": {},
   "outputs": [],
   "source": [
    "print(length_5.shape)\n",
    "length_5.head()"
   ]
  },
  {
   "source": [
    "### LENGTH 6"
   ],
   "cell_type": "markdown",
   "metadata": {}
  },
  {
   "source": [
    "length_6 = df.loc[df['Length'] == 6]"
   ],
   "cell_type": "code",
   "metadata": {},
   "execution_count": null,
   "outputs": []
  },
  {
   "cell_type": "code",
   "execution_count": null,
   "metadata": {},
   "outputs": [],
   "source": [
    "length_6['City, State'] = length_6['City, State'].str[0:4]"
   ]
  },
  {
   "cell_type": "code",
   "execution_count": null,
   "metadata": {},
   "outputs": [],
   "source": [
    "length_6['Address'] = length_6['City, State'].str.join(',')"
   ]
  },
  {
   "cell_type": "code",
   "execution_count": null,
   "metadata": {},
   "outputs": [],
   "source": [
    "length_6 = length_6.drop(columns = ['City, State', 'Length'])"
   ]
  },
  {
   "cell_type": "code",
   "execution_count": null,
   "metadata": {},
   "outputs": [],
   "source": [
    "length_6['City, State']  = length_6['Address'].str.split(',')"
   ]
  },
  {
   "cell_type": "code",
   "execution_count": null,
   "metadata": {},
   "outputs": [],
   "source": [
    "# Checking string lengths after cleaning\n",
    "length_6['Length'] = length_6['City, State'].apply(lambda x: len(x) if x != None else 0 )\n",
    "# 1, 3, 4 are the expected length \n",
    "length_6['Length'].unique()"
   ]
  },
  {
   "cell_type": "code",
   "execution_count": null,
   "metadata": {},
   "outputs": [],
   "source": [
    "print(length_6.shape)\n",
    "length_6.head()"
   ]
  },
  {
   "source": [
    "### Specific rows"
   ],
   "cell_type": "markdown",
   "metadata": {}
  },
  {
   "cell_type": "code",
   "execution_count": null,
   "metadata": {},
   "outputs": [],
   "source": [
    "specific = df.loc[df['Unnamed: 0'] == 52126]"
   ]
  },
  {
   "cell_type": "code",
   "execution_count": null,
   "metadata": {},
   "outputs": [],
   "source": [
    "specific['Address'] = specific['Address'].str[:-38]"
   ]
  },
  {
   "cell_type": "code",
   "execution_count": null,
   "metadata": {},
   "outputs": [],
   "source": [
    "specific.head()"
   ]
  },
  {
   "cell_type": "code",
   "execution_count": null,
   "metadata": {},
   "outputs": [],
   "source": [
    "specific = specific.drop(columns = ['City, State', 'Length'])"
   ]
  },
  {
   "cell_type": "code",
   "execution_count": null,
   "metadata": {},
   "outputs": [],
   "source": [
    "specific['City, State']  = specific['Address'].str.split(',')"
   ]
  },
  {
   "cell_type": "code",
   "execution_count": null,
   "metadata": {},
   "outputs": [],
   "source": [
    "# Checking string lengths after cleaning\n",
    "specific['Length'] = specific['City, State'].apply(lambda x: len(x) if x != None else 0 )\n",
    "# 1, 3, 4 are the expected length \n",
    "specific['Length'].unique()"
   ]
  },
  {
   "cell_type": "code",
   "execution_count": null,
   "metadata": {},
   "outputs": [],
   "source": [
    "print(specific.shape)\n",
    "specific.head()"
   ]
  },
  {
   "source": [
    "## Merge"
   ],
   "cell_type": "markdown",
   "metadata": {}
  },
  {
   "cell_type": "code",
   "execution_count": null,
   "metadata": {},
   "outputs": [],
   "source": [
    "df = df.append(length_5)\n",
    "df = df.append(length_6)\n",
    "df = df.append(specific)"
   ]
  },
  {
   "cell_type": "code",
   "execution_count": null,
   "metadata": {},
   "outputs": [],
   "source": [
    "print(df.shape)\n",
    "df[df.duplicated(subset=['Unnamed: 0', 'School', 'Score', 'Rating', 'Type', 'Grades', 'Total Students Enrolled', 'Students per teacher', 'District'], keep=False)]"
   ]
  },
  {
   "cell_type": "code",
   "execution_count": null,
   "metadata": {},
   "outputs": [],
   "source": [
    "df = df.drop_duplicates(subset=['Unnamed: 0', 'School', 'Score', 'Rating', 'Type', 'Grades', 'Total Students Enrolled', 'Students per teacher', 'District' ], keep='last')\n",
    "print(df.shape)"
   ]
  },
  {
   "source": [
    "## Check Length Again"
   ],
   "cell_type": "markdown",
   "metadata": {}
  },
  {
   "cell_type": "code",
   "execution_count": null,
   "metadata": {},
   "outputs": [],
   "source": [
    "df = df.drop(columns = ['City, State', 'Length'])"
   ]
  },
  {
   "cell_type": "code",
   "execution_count": null,
   "metadata": {},
   "outputs": [],
   "source": [
    "df['City, State']  = df['Address'].str.split(',')"
   ]
  },
  {
   "cell_type": "code",
   "execution_count": null,
   "metadata": {},
   "outputs": [],
   "source": [
    "# Checking string lengths after cleaning\n",
    "df['Length'] = df['City, State'].apply(lambda x: len(x) if x != None else 0 )\n",
    "# 1, 3, 4 are the expected length \n",
    "df['Length'].unique()"
   ]
  },
  {
   "source": [
    "Managed to clean most of the addresses"
   ],
   "cell_type": "markdown",
   "metadata": {}
  },
  {
   "source": [
    "## 3. Create City, State column"
   ],
   "cell_type": "markdown",
   "metadata": {}
  },
  {
   "cell_type": "code",
   "execution_count": null,
   "metadata": {},
   "outputs": [],
   "source": [
    "df['City'] = df['City, State'].str[-2]"
   ]
  },
  {
   "cell_type": "code",
   "execution_count": null,
   "metadata": {},
   "outputs": [],
   "source": [
    "df['State'] = df['City, State'].str[-1]\n",
    "df['State'] = df['State'].str[:-6]"
   ]
  },
  {
   "cell_type": "code",
   "execution_count": null,
   "metadata": {},
   "outputs": [],
   "source": [
    "df['State'] = df['State'].str.strip()\n",
    "df['City'] = df['City'].str.strip()\n",
    "df['Address'] = df['Address'].str.strip()"
   ]
  },
  {
   "source": [
    "## Clean up empty state column"
   ],
   "cell_type": "markdown",
   "metadata": {}
  },
  {
   "cell_type": "code",
   "execution_count": null,
   "metadata": {},
   "outputs": [],
   "source": [
    "df.loc[df['State'] == '']"
   ]
  },
  {
   "cell_type": "code",
   "execution_count": null,
   "metadata": {},
   "outputs": [],
   "source": [
    "df['Address'] = df['Address'].str.replace('Colorado,', 'CO')\n",
    "df['Address'] = df['Address'].str.replace('Lincoln, NE,', 'Lincoln, NE ')\n",
    "df['Address'] = df['Address'].str.replace('Scottsbluff, NE, ', 'Scottsbluff, NE ')\n",
    "df['Address'] = df['Address'].str.replace('5531 Cancha de Golf, Ste 202, Rancho', '5531 Cancha de Golf Ste 202, Rancho Santa Fe, CA 92091')"
   ]
  },
  {
   "cell_type": "code",
   "execution_count": null,
   "metadata": {},
   "outputs": [],
   "source": [
    "df = df.drop(columns = ['City, State',\t'Length'] )\n",
    "df['City, State']  = df['Address'].str.split(',')"
   ]
  },
  {
   "cell_type": "code",
   "execution_count": null,
   "metadata": {},
   "outputs": [],
   "source": [
    "# Checking string lengths after cleaning\n",
    "df['Length'] = df['City, State'].apply(lambda x: len(x) if x != None else 0 )\n",
    "# 1, 3, 4 are the expected length \n",
    "df['Length'].unique()"
   ]
  },
  {
   "cell_type": "code",
   "execution_count": null,
   "metadata": {},
   "outputs": [],
   "source": [
    "print(df['State'].nunique())\n",
    "df['State'].unique()"
   ]
  },
  {
   "cell_type": "code",
   "execution_count": null,
   "metadata": {},
   "outputs": [],
   "source": [
    "df.loc[df['State'] == 'Unava']"
   ]
  },
  {
   "cell_type": "code",
   "execution_count": null,
   "metadata": {},
   "outputs": [],
   "source": [
    "df.loc[df['State'] == 'S.C.']"
   ]
  },
  {
   "cell_type": "code",
   "execution_count": null,
   "metadata": {},
   "outputs": [],
   "source": [
    "df.loc[df['State'] == 'Missouri']"
   ]
  },
  {
   "cell_type": "code",
   "execution_count": null,
   "metadata": {},
   "outputs": [],
   "source": [
    "df.loc[df['State'] == 'New Jersey']"
   ]
  },
  {
   "cell_type": "code",
   "execution_count": null,
   "metadata": {},
   "outputs": [],
   "source": [
    "df.loc[df['State'] == 'Nevada']"
   ]
  },
  {
   "cell_type": "code",
   "execution_count": null,
   "metadata": {},
   "outputs": [],
   "source": [
    "df.loc[df['State'] == 'Oregon']"
   ]
  },
  {
   "cell_type": "code",
   "execution_count": null,
   "metadata": {},
   "outputs": [],
   "source": [
    "df.loc[df['State'] == 'Washington']"
   ]
  },
  {
   "cell_type": "code",
   "execution_count": null,
   "metadata": {},
   "outputs": [],
   "source": [
    "df.loc[df['State'] == 'OK.']"
   ]
  },
  {
   "cell_type": "code",
   "execution_count": null,
   "metadata": {},
   "outputs": [],
   "source": [
    "df.loc[df['State'] == 'Ks']"
   ]
  },
  {
   "cell_type": "code",
   "execution_count": null,
   "metadata": {},
   "outputs": [],
   "source": [
    "df.loc[df['State'] == 'La']"
   ]
  },
  {
   "cell_type": "code",
   "execution_count": null,
   "metadata": {},
   "outputs": [],
   "source": [
    "df = df[df['State'] != 'Unava']"
   ]
  },
  {
   "cell_type": "code",
   "execution_count": null,
   "metadata": {},
   "outputs": [],
   "source": [
    "# Clean Addresses\n",
    "df['Address'] = df['Address'].str.replace('8740 Asheville Hwy, Spartanburg, S.C. 29316', '8740 Asheville Hwy, Spartanburg, SC 29316')\n",
    "df['Address'] = df['Address'].str.replace('2900 Barberry Avenue, Columbia, Missouri 65202', '2900 Barberry Avenue, Columbia, MO 65202')\n",
    "df['Address'] = df['Address'].str.replace('2572 John F Kennedy Boulevard, Jersey City, New Jersey 07304', '2572 John F Kennedy Boulevard, Jersey City, NJ 07304')\n",
    "df['Address'] = df['Address'].str.replace('4656 N. Rancho Drive, Las Vegas, Nevada 89130', '4656 N. Rancho Drive, Las Vegas, NV 89130')\n",
    "df['Address'] = df['Address'].str.replace('6415 SE Morrison street, Portland, Oregon 97215', '6415 SE Morrison street, Portland, OR 97215')\n",
    "df['Address'] = df['Address'].str.replace('2120 21st Avenue South, Seattle, Washington 98144', '2120 21st Avenue South, Seattle, WA 98144')\n",
    "df['Address'] = df['Address'].str.replace('4025 N. Hartford Ave., Tulsa, OK. 74106', '4025 N. Hartford Ave., Tulsa, OK 74106')\n",
    "df['Address'] = df['Address'].str.replace('6355 Willowbrook St., Wichita, Ks 67208', '6355 Willowbrook St., Wichita, KS 67208')\n",
    "df['Address'] = df['Address'].str.replace('1018 Harding Street, Suite 112, Lafayette, La 70503', '1018 Harding Street, Suite 112, Lafayette, LA 70503')\n",
    "\n",
    "# Clean State\n",
    "df['State'] = df['State'].str.replace('S.C.', 'SC')\n",
    "df['State'] = df['State'].str.replace('Missouri', 'MO')\n",
    "df['State'] = df['State'].str.replace('New Jersey', 'NJ')\n",
    "df['State'] = df['State'].str.replace('Nevada', 'NV')\n",
    "df['State'] = df['State'].str.replace('Oregon', 'OR')\n",
    "df['State'] = df['State'].str.replace('Washington', 'WA')\n",
    "df['State'] = df['State'].str.replace('OK.', 'OK')\n",
    "df['State'] = df['State'].str.replace('Ks', 'KS')\n",
    "df['State'] = df['State'].str.replace('La', 'LA')"
   ]
  },
  {
   "cell_type": "code",
   "execution_count": null,
   "metadata": {},
   "outputs": [],
   "source": [
    "print(df['State'].nunique())\n",
    "df['State'].unique()"
   ]
  },
  {
   "cell_type": "code",
   "execution_count": null,
   "metadata": {},
   "outputs": [],
   "source": [
    "empty = df.loc[df['State'] == '']"
   ]
  },
  {
   "cell_type": "code",
   "execution_count": null,
   "metadata": {},
   "outputs": [],
   "source": [
    "empty['City'] = empty['City, State'].str[-2]"
   ]
  },
  {
   "cell_type": "code",
   "execution_count": null,
   "metadata": {},
   "outputs": [],
   "source": [
    "empty['State'] = empty['City, State'].str[-1]\n",
    "empty['State'] = empty['State'].str[:-6]"
   ]
  },
  {
   "cell_type": "code",
   "execution_count": null,
   "metadata": {},
   "outputs": [],
   "source": [
    "empty.head()"
   ]
  },
  {
   "source": [
    "## Merge"
   ],
   "cell_type": "markdown",
   "metadata": {}
  },
  {
   "cell_type": "code",
   "execution_count": null,
   "metadata": {},
   "outputs": [],
   "source": [
    "df = df.append(empty)"
   ]
  },
  {
   "cell_type": "code",
   "execution_count": null,
   "metadata": {},
   "outputs": [],
   "source": [
    "df[df.duplicated(subset=['Unnamed: 0', 'School', 'Score', 'Rating', 'Type', 'Grades', 'Total Students Enrolled', 'Students per teacher', 'District'], keep=False)]"
   ]
  },
  {
   "source": [
    "## Deleting duplicates"
   ],
   "cell_type": "markdown",
   "metadata": {}
  },
  {
   "cell_type": "code",
   "execution_count": null,
   "metadata": {},
   "outputs": [],
   "source": [
    "df = df.drop_duplicates(subset=['Unnamed: 0', 'School', 'Score', 'Rating', 'Type', 'Grades', 'Total Students Enrolled', 'Students per teacher', 'District' ], keep='last')"
   ]
  },
  {
   "cell_type": "code",
   "execution_count": null,
   "metadata": {},
   "outputs": [],
   "source": [
    "df = df.drop(columns = ['Unnamed: 0', 'City, State', 'Length'])"
   ]
  },
  {
   "cell_type": "code",
   "execution_count": null,
   "metadata": {},
   "outputs": [],
   "source": [
    "print(df.shape)\n",
    "df.head()"
   ]
  },
  {
   "source": [
    "## Cleaning State Information"
   ],
   "cell_type": "markdown",
   "metadata": {}
  },
  {
   "cell_type": "code",
   "execution_count": null,
   "metadata": {},
   "outputs": [],
   "source": [
    "print(df['State'].nunique())\n",
    "df['State'].unique()"
   ]
  },
  {
   "cell_type": "code",
   "execution_count": null,
   "metadata": {},
   "outputs": [],
   "source": [
    "df['State'] = df['State'].str.strip()\n",
    "df['City'] = df['City'].str.strip()"
   ]
  },
  {
   "cell_type": "code",
   "execution_count": null,
   "metadata": {},
   "outputs": [],
   "source": [
    "print(df['State'].nunique())\n",
    "df['State'].unique()"
   ]
  },
  {
   "source": [
    "## Cleaning City Information"
   ],
   "cell_type": "markdown",
   "metadata": {}
  },
  {
   "cell_type": "code",
   "execution_count": null,
   "metadata": {},
   "outputs": [],
   "source": [
    "print(df['City'].nunique())\n",
    "df.City.unique()"
   ]
  },
  {
   "cell_type": "code",
   "execution_count": null,
   "metadata": {},
   "outputs": [],
   "source": [
    "df.loc[df['City'] == 'austin']"
   ]
  },
  {
   "cell_type": "code",
   "execution_count": null,
   "metadata": {},
   "outputs": [],
   "source": [
    "df.loc[df['City'] == 'CARMEL']"
   ]
  },
  {
   "cell_type": "code",
   "execution_count": null,
   "metadata": {},
   "outputs": [],
   "source": [
    "df.loc[df['City'] == 'COLORADO SPRINGS']"
   ]
  },
  {
   "cell_type": "code",
   "execution_count": null,
   "metadata": {},
   "outputs": [],
   "source": [
    "df.loc[df['City'] == 'GREENSBORO']"
   ]
  },
  {
   "cell_type": "code",
   "execution_count": null,
   "metadata": {},
   "outputs": [],
   "source": [
    "df.loc[df['City'] == 'SAN DIEGO']"
   ]
  },
  {
   "cell_type": "code",
   "execution_count": null,
   "metadata": {},
   "outputs": [],
   "source": [
    "df.loc[df['City'] == 'NW  Washington']"
   ]
  },
  {
   "cell_type": "code",
   "execution_count": null,
   "metadata": {},
   "outputs": [],
   "source": [
    "df.loc[df['City'] == 'Cherry Hill/Baltimore']"
   ]
  },
  {
   "cell_type": "code",
   "execution_count": null,
   "metadata": {},
   "outputs": [],
   "source": [
    "df.loc[df['City'] == 'Suite 117 Phoenix']"
   ]
  },
  {
   "cell_type": "code",
   "execution_count": null,
   "metadata": {},
   "outputs": [],
   "source": [
    "df.loc[df['City'] == 'milwaukee']"
   ]
  },
  {
   "cell_type": "code",
   "execution_count": null,
   "metadata": {},
   "outputs": [],
   "source": [
    "df.loc[df['City'] == 'greeley']"
   ]
  },
  {
   "cell_type": "code",
   "execution_count": null,
   "metadata": {},
   "outputs": [],
   "source": [
    "df.loc[df['City'] =='Oklahoma city']"
   ]
  },
  {
   "cell_type": "code",
   "execution_count": null,
   "metadata": {},
   "outputs": [],
   "source": [
    "df['City'] = df['City'].str.replace('austin', 'Austin')\n",
    "df['City'] = df['City'].str.replace('milwaukee', 'Milwaukee')\n",
    "df['City'] = df['City'].str.replace('greeley', 'Greeley')\n",
    "df['City'] = df['City'].str.replace('Oklahoma city', 'Oklahoma City')\n",
    "df['City'] = df['City'].str.replace('CARMEL', 'Carmel')\n",
    "df['City'] = df['City'].str.replace('COLORADO SPRINGS', 'Colorado Springs')\n",
    "df['City'] = df['City'].str.replace('GREENSBORO', 'Greensboro')\n",
    "df['City'] = df['City'].str.replace('SAN DIEGO', 'San Diego')\n",
    "df['City'] = df['City'].str.replace('Cherry Hill/Baltimore', 'Cherry Hill')\n",
    "df['City'] = df['City'].str.replace('Suite 117 Phoenix', ' Phoenix')\n",
    "df['Address'] = df['Address'].str.replace('4314 clarno dr, austin, TX 78749', '4314 Clarno Dr, Austin, TX 78749')\n",
    "df['Address'] = df['Address'].str.replace('Suite 117', 'Suite 117,')"
   ]
  },
  {
   "source": [
    "## Fix NW Washington"
   ],
   "cell_type": "markdown",
   "metadata": {}
  },
  {
   "cell_type": "code",
   "execution_count": null,
   "metadata": {},
   "outputs": [],
   "source": [
    "washington =  df.loc[df['City'] == 'NW  Washington']"
   ]
  },
  {
   "cell_type": "code",
   "execution_count": null,
   "metadata": {},
   "outputs": [],
   "source": [
    "washington.head()"
   ]
  },
  {
   "cell_type": "code",
   "execution_count": null,
   "metadata": {},
   "outputs": [],
   "source": [
    "washington['City'] = washington['City'].str[3:]"
   ]
  },
  {
   "cell_type": "code",
   "execution_count": null,
   "metadata": {},
   "outputs": [],
   "source": [
    "washington['City'] = washington['City'].str.strip()"
   ]
  },
  {
   "cell_type": "code",
   "execution_count": null,
   "metadata": {},
   "outputs": [],
   "source": [
    "washington.head()"
   ]
  },
  {
   "cell_type": "code",
   "execution_count": null,
   "metadata": {},
   "outputs": [],
   "source": [
    "df = df[df['City'] != 'NW  Washington']"
   ]
  },
  {
   "cell_type": "code",
   "execution_count": null,
   "metadata": {},
   "outputs": [],
   "source": [
    "df = df.append(washington)"
   ]
  },
  {
   "cell_type": "code",
   "execution_count": null,
   "metadata": {},
   "outputs": [],
   "source": [
    "df.shape"
   ]
  },
  {
   "source": [
    "## Filling NaNs and trying to clean a specific row"
   ],
   "cell_type": "markdown",
   "metadata": {}
  },
  {
   "cell_type": "code",
   "execution_count": null,
   "metadata": {},
   "outputs": [],
   "source": [
    "df.isna().sum()"
   ]
  },
  {
   "cell_type": "code",
   "execution_count": null,
   "metadata": {},
   "outputs": [],
   "source": [
    "df[['Total Students Enrolled', 'Students per teacher']] = df[['Total Students Enrolled', 'Students per teacher']].fillna(0)"
   ]
  },
  {
   "cell_type": "code",
   "execution_count": null,
   "metadata": {},
   "outputs": [],
   "source": [
    "df['District'] = df['District'].fillna('Unavailable')"
   ]
  },
  {
   "cell_type": "code",
   "execution_count": null,
   "metadata": {},
   "outputs": [],
   "source": [
    "df.isna().sum()"
   ]
  },
  {
   "source": [
    "## Cleaning Extra Spaces"
   ],
   "cell_type": "markdown",
   "metadata": {}
  },
  {
   "cell_type": "code",
   "execution_count": null,
   "metadata": {},
   "outputs": [],
   "source": [
    "df['School'] = df['School'].str.strip()\n",
    "df['Score'] = df['Score'].str.strip()\n",
    "df['Rating'] = df['Rating'].str.strip()\n",
    "df['Address'] = df['Address'].str.strip()\n",
    "df['Type'] = df['Type'].str.strip()\n",
    "df['Grades'] = df['Grades'].str.strip()\n",
    "df['Students per teacher'] = df['Students per teacher'].str.strip()\n",
    "df['District'] = df['District'].str.strip()"
   ]
  },
  {
   "cell_type": "code",
   "execution_count": null,
   "metadata": {},
   "outputs": [],
   "source": [
    "df.to_csv('schools_cleaned.csv', index = False)"
   ]
  },
  {
   "cell_type": "code",
   "execution_count": null,
   "metadata": {},
   "outputs": [],
   "source": [
    "df.head()"
   ]
  },
  {
   "source": [
    "### Separating into PK, K, Elementary, Middle, High School\n",
    "- https://stackoverflow.com/questions/61877712/check-if-an-item-in-a-list-is-available-in-a-column-which-is-of-type-list"
   ],
   "cell_type": "markdown",
   "metadata": {}
  },
  {
   "cell_type": "code",
   "execution_count": null,
   "metadata": {},
   "outputs": [],
   "source": [
    "import pandas as pd"
   ]
  },
  {
   "cell_type": "code",
   "execution_count": null,
   "metadata": {},
   "outputs": [],
   "source": [
    "df = pd.read_csv('schools_cleaned.csv')"
   ]
  },
  {
   "cell_type": "code",
   "execution_count": null,
   "metadata": {},
   "outputs": [],
   "source": [
    "print(df.shape)"
   ]
  },
  {
   "cell_type": "code",
   "execution_count": null,
   "metadata": {},
   "outputs": [],
   "source": [
    "def parse_grades(grades_string):\n",
    "    GRADES = ['PK', 'K', '1', '2', '3', '4', '5', '6', '7', '8', '9', '10', '11', '12', 'Ungraded']\n",
    "\n",
    "    # Remove & for grades list\n",
    "    grades_string = grades_string.replace(' &', ',')\n",
    "\n",
    "    # Grades list - will add to separated grade string to grades\n",
    "    grades = []\n",
    "\n",
    "    # split strings based on ','\n",
    "    string_list = grades_string.split(',')\n",
    "\n",
    "    # look for sections of list with '-'\n",
    "    dash = \"-\"\n",
    "    for i in range(len(string_list)):\n",
    "        clean_string = string_list[i].strip()\n",
    "        if dash in clean_string:\n",
    "            #  split using '-', loop and add to grades variable\n",
    "            start_grade, end_grade = clean_string.split(dash)\n",
    "            grades += GRADES[GRADES.index(start_grade) : GRADES.index(end_grade)+ 1]\n",
    "        else:\n",
    "            # add string to grades\n",
    "            grades.append(clean_string)\n",
    "\n",
    "    return grades"
   ]
  },
  {
   "cell_type": "code",
   "execution_count": null,
   "metadata": {},
   "outputs": [],
   "source": [
    "print(df['Grades'].nunique())\n",
    "unique_grades_combination  = df['Grades'].unique()"
   ]
  },
  {
   "cell_type": "code",
   "execution_count": null,
   "metadata": {},
   "outputs": [],
   "source": [
    "def test_complete_dataset(unique_grades_combination):\n",
    "    # create a loop that goes thru dataset and invoke parse_grades with each element\n",
    "    separated_grades_list = []\n",
    "    for i in unique_grades_combination:\n",
    "        separated_grades_list.append(parse_grades(i))\n",
    "\n",
    "    dictionary_grade_list = dict(zip(unique_grades_combination, separated_grades_list))\n",
    "\n",
    "    return dictionary_grade_list"
   ]
  },
  {
   "cell_type": "code",
   "execution_count": null,
   "metadata": {},
   "outputs": [],
   "source": [
    "dictionary = test_complete_dataset(unique_grades_combination)"
   ]
  },
  {
   "cell_type": "code",
   "execution_count": null,
   "metadata": {},
   "outputs": [],
   "source": [
    "df['Clean_Grades'] = df['Grades'].map(dictionary)"
   ]
  },
  {
   "cell_type": "code",
   "execution_count": null,
   "metadata": {},
   "outputs": [],
   "source": [
    "high_school = ['9', '10', '11', '12']\n",
    "middle_school = ['6', '7', '8']\n",
    "elementary = ['K', '1', '2', '3', '4', '5']\n",
    "pre_k = ['PK']"
   ]
  },
  {
   "cell_type": "code",
   "execution_count": null,
   "metadata": {},
   "outputs": [],
   "source": [
    "set1 = set(high_school)\n",
    "df['High School (9-12)'] = [set1.issubset(set(row)) for row in df.Clean_Grades]"
   ]
  },
  {
   "cell_type": "code",
   "execution_count": null,
   "metadata": {},
   "outputs": [],
   "source": [
    "set2 = set(middle_school)\n",
    "df['Middle School (6-8)'] = [set2.issubset(set(row)) for row in df.Clean_Grades]"
   ]
  },
  {
   "cell_type": "code",
   "execution_count": null,
   "metadata": {},
   "outputs": [],
   "source": [
    "set3 = set(elementary)\n",
    "df['Elementary (K-5)'] = [set3.issubset(set(row)) for row in df.Clean_Grades]"
   ]
  },
  {
   "source": [
    "set4 = set(pre_k)\n",
    "df['Pre-Kindergarten (PK)'] = [set4.issubset(set(row)) for row in df.Clean_Grades]"
   ],
   "cell_type": "code",
   "metadata": {},
   "execution_count": null,
   "outputs": []
  },
  {
   "cell_type": "code",
   "execution_count": null,
   "metadata": {},
   "outputs": [],
   "source": [
    "df[['High School (9-12)', 'Middle School (6-8)', 'Elementary (K-5)', 'Pre-Kindergarten (PK)']] = df[['High School (9-12)', 'Middle School (6-8)', 'Elementary (K-5)', 'Pre-Kindergarten (PK)']] * 1"
   ]
  },
  {
   "cell_type": "code",
   "execution_count": null,
   "metadata": {},
   "outputs": [],
   "source": [
    "df['Grades'] = df['Grades'].str.replace(' & Ungraded', '')\n",
    "df = df.drop(columns = ['Clean_Grades'])"
   ]
  },
  {
   "cell_type": "code",
   "execution_count": null,
   "metadata": {},
   "outputs": [],
   "source": [
    "df.head()"
   ]
  },
  {
   "cell_type": "code",
   "execution_count": null,
   "metadata": {},
   "outputs": [],
   "source": [
    "df.to_csv('schools_cleaned.csv', index = False)"
   ]
  },
  {
   "source": [
    "### Update School['Scores']\n",
    "- change to int so data can be sorted by the value"
   ],
   "cell_type": "markdown",
   "metadata": {}
  },
  {
   "cell_type": "code",
   "execution_count": null,
   "metadata": {},
   "outputs": [],
   "source": [
    "import pandas as pd\n",
    "school = pd.read_csv('schools_cleaned.csv')"
   ]
  },
  {
   "cell_type": "code",
   "execution_count": null,
   "metadata": {},
   "outputs": [],
   "source": [
    "school['Score'] = school['Score'].str.replace('/10', '')\n",
    "school['Score'] = school['Score'].astype(int)"
   ]
  },
  {
   "cell_type": "code",
   "execution_count": null,
   "metadata": {},
   "outputs": [],
   "source": [
    "school.to_csv('schools_cleaned.csv', index = False)"
   ]
  },
  {
   "cell_type": "code",
   "execution_count": null,
   "metadata": {},
   "outputs": [],
   "source": [
    "# schools.to_csv('../../datasets_to_merge/labs2/csv/schools_cleaned.csv')"
   ]
  },
  {
   "cell_type": "code",
   "execution_count": null,
   "metadata": {},
   "outputs": [],
   "source": []
  }
 ]
}