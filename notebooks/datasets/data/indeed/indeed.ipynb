{
 "metadata": {
  "language_info": {
   "codemirror_mode": {
    "name": "ipython",
    "version": 3
   },
   "file_extension": ".py",
   "mimetype": "text/x-python",
   "name": "python",
   "nbconvert_exporter": "python",
   "pygments_lexer": "ipython3",
   "version": "3.8.6-final"
  },
  "orig_nbformat": 2,
  "kernelspec": {
   "name": "python3",
   "display_name": "Python 3.8.6 64-bit ('3.8.6')",
   "metadata": {
    "interpreter": {
     "hash": "2419ad2920cdc1fadb8f0ae6c1b14e969f8d411f4ecfa904fb0f4ff9d9e2f541"
    }
   }
  }
 },
 "nbformat": 4,
 "nbformat_minor": 2,
 "cells": [
  {
   "cell_type": "code",
   "execution_count": 5,
   "metadata": {},
   "outputs": [
    {
     "output_type": "stream",
     "name": "stdout",
     "text": [
      "Requirement already satisfied: fastapi in /Users/jisha/.pyenv/versions/3.8.6/lib/python3.8/site-packages (0.63.0)\n",
      "Requirement already satisfied: starlette==0.13.6 in /Users/jisha/.pyenv/versions/3.8.6/lib/python3.8/site-packages (from fastapi) (0.13.6)\n",
      "Requirement already satisfied: pydantic<2.0.0,>=1.0.0 in /Users/jisha/.pyenv/versions/3.8.6/lib/python3.8/site-packages (from fastapi) (1.8.1)\n",
      "Requirement already satisfied: typing-extensions>=3.7.4.3 in /Users/jisha/.pyenv/versions/3.8.6/lib/python3.8/site-packages (from pydantic<2.0.0,>=1.0.0->fastapi) (3.7.4.3)\n",
      "Note: you may need to restart the kernel to use updated packages.\n"
     ]
    }
   ],
   "source": [
    "pip install fastapi"
   ]
  },
  {
   "cell_type": "code",
   "execution_count": 6,
   "metadata": {},
   "outputs": [
    {
     "output_type": "stream",
     "name": "stdout",
     "text": [
      "Requirement already satisfied: bs4 in /Users/jisha/.pyenv/versions/3.8.6/lib/python3.8/site-packages (0.0.1)\n",
      "Requirement already satisfied: beautifulsoup4 in /Users/jisha/.pyenv/versions/3.8.6/lib/python3.8/site-packages (from bs4) (4.9.3)\n",
      "Requirement already satisfied: soupsieve>1.2 in /Users/jisha/.pyenv/versions/3.8.6/lib/python3.8/site-packages (from beautifulsoup4->bs4) (2.2.1)\n",
      "Note: you may need to restart the kernel to use updated packages.\n"
     ]
    }
   ],
   "source": [
    "pip install bs4"
   ]
  },
  {
   "cell_type": "code",
   "execution_count": 7,
   "metadata": {},
   "outputs": [],
   "source": [
    "import csv\n",
    "import datetime\n",
    "import requests\n",
    "from bs4 import BeautifulSoup"
   ]
  },
  {
   "cell_type": "code",
   "execution_count": 8,
   "metadata": {},
   "outputs": [],
   "source": [
    "def get_url(position, location):\n",
    "    \"Generat a url from postition and location\"\n",
    "    template = 'https://www.indeed.com/jobs?q={}&l={}'\n",
    "    url = template.format(position, location)\n",
    "    return url"
   ]
  },
  {
   "cell_type": "code",
   "execution_count": 9,
   "metadata": {},
   "outputs": [],
   "source": [
    "def get_record(card):\n",
    "    \"\"\"Extract job date from a single record\"\"\"\n",
    "    atag = card.h2.a\n",
    "    job_title = atag.get('title')\n",
    "    company = card.find('span', 'company').text.strip()\n",
    "    job_location = card.find('div', 'recJobLoc').get('data-rc-loc')\n",
    "    job_summary = card.find('div', 'summary').text.strip()\n",
    "    post_date = card.find('span', 'date').text.strip()\n",
    "\n",
    "    try:\n",
    "        salary = card.find('span', 'salarytext').text.strip()\n",
    "    except AttributeError:\n",
    "        salary = ''\n",
    "    \n",
    "    extract_date = datetime.datetime.today().strftime('%Y-%m-%d')\n",
    "    job_url = 'https://www.indeed.com' + atag.get('href')\n",
    "    \n",
    "    record = (job_title, company, job_location, post_date, extract_date, job_summary, salary, job_url)\n",
    "\n",
    "    return record"
   ]
  },
  {
   "cell_type": "code",
   "execution_count": 10,
   "metadata": {},
   "outputs": [],
   "source": [
    "def main(position, location):\n",
    "    # Run the main program reouting\n",
    "    records = []  # creating the record list\n",
    "    url = get_url(position, location)  # create the url while passing in the position and location.\n",
    "    \n",
    "    while True:\n",
    "        print(url)\n",
    "        response = requests.get(url)\n",
    "        soup = BeautifulSoup(response.text, 'html.parser')\n",
    "        cards = soup.find_all('div', 'jobsearch-SerpJobCard')\n",
    "\n",
    "        for card in cards:\n",
    "            record = get_record(card)\n",
    "            records.append(record)\n",
    "\n",
    "        try:\n",
    "            url = 'https://www.indeed.com' + soup.find('a', {'aria-label': 'Next'}).get('href')\n",
    "        except AttributeError:\n",
    "            break\n",
    "\n",
    "    with open('results.csv', 'w', newline='', encoding='utf-8') as f:\n",
    "        writer = csv.writer(f)\n",
    "        writer.writerow(['Job Title', 'Company', 'Location', 'Posting Date', 'Extract Date', 'Summary', 'Salary', 'Job Url'])\n",
    "        writer.writerows(records)"
   ]
  },
  {
   "cell_type": "code",
   "execution_count": 11,
   "metadata": {},
   "outputs": [
    {
     "output_type": "stream",
     "name": "stdout",
     "text": [
      "https://www.indeed.com/jobs?q=senior accountant&l=charlotte nc\n",
      "https://www.indeed.com/jobs?q=senior+accountant&l=charlotte+nc&start=10\n",
      "https://www.indeed.com/jobs?q=senior+accountant&l=charlotte+nc&radius=35&start=20\n",
      "https://www.indeed.com/jobs?q=senior+accountant&l=charlotte+nc&radius=35&start=30\n",
      "https://www.indeed.com/jobs?q=senior+accountant&l=charlotte+nc&radius=35&start=40\n",
      "https://www.indeed.com/jobs?q=senior+accountant&l=charlotte+nc&radius=35&start=50\n",
      "https://www.indeed.com/jobs?q=senior+accountant&l=charlotte+nc&radius=35&start=60\n",
      "https://www.indeed.com/jobs?q=senior+accountant&l=charlotte+nc&radius=35&start=70\n",
      "https://www.indeed.com/jobs?q=senior+accountant&l=charlotte+nc&radius=35&start=80\n",
      "https://www.indeed.com/jobs?q=senior+accountant&l=charlotte+nc&radius=35&start=90\n"
     ]
    }
   ],
   "source": [
    "main('senior accountant', 'charlotte nc')"
   ]
  },
  {
   "cell_type": "code",
   "execution_count": 12,
   "metadata": {},
   "outputs": [
    {
     "output_type": "stream",
     "name": "stdout",
     "text": [
      "https://www.indeed.com/jobs?q=data scientist&l=atlanta ga\n",
      "https://www.indeed.com/jobs?q=data+scientist&l=atlanta+ga&start=10\n",
      "https://www.indeed.com/jobs?q=data+scientist&l=atlanta+ga&start=20\n",
      "https://www.indeed.com/jobs?q=data+scientist&l=atlanta+ga&start=30\n",
      "https://www.indeed.com/jobs?q=data+scientist&l=atlanta+ga&start=40\n",
      "https://www.indeed.com/jobs?q=data+scientist&l=atlanta+ga&start=50\n",
      "https://www.indeed.com/jobs?q=data+scientist&l=atlanta+ga&start=60\n",
      "https://www.indeed.com/jobs?q=data+scientist&l=atlanta+ga&start=70\n",
      "https://www.indeed.com/jobs?q=data+scientist&l=atlanta+ga&start=80\n",
      "https://www.indeed.com/jobs?q=data+scientist&l=atlanta+ga&start=90\n",
      "https://www.indeed.com/jobs?q=data+scientist&l=atlanta+ga&start=100\n",
      "https://www.indeed.com/jobs?q=data+scientist&l=atlanta+ga&start=110\n",
      "https://www.indeed.com/jobs?q=data+scientist&l=atlanta+ga&start=120\n",
      "https://www.indeed.com/jobs?q=data+scientist&l=atlanta+ga&start=130\n",
      "https://www.indeed.com/jobs?q=data+scientist&l=atlanta+ga&start=140\n",
      "https://www.indeed.com/jobs?q=data+scientist&l=atlanta+ga&start=150\n",
      "https://www.indeed.com/jobs?q=data+scientist&l=atlanta+ga&start=160\n",
      "https://www.indeed.com/jobs?q=data+scientist&l=atlanta+ga&start=170\n"
     ]
    }
   ],
   "source": [
    "main('data scientist', 'atlanta ga')"
   ]
  },
  {
   "cell_type": "code",
   "execution_count": null,
   "metadata": {},
   "outputs": [],
   "source": []
  }
 ]
}